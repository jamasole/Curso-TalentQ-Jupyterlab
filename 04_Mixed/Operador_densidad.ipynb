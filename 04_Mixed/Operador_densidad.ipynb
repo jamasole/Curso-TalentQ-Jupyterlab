{
 "cells": [
  {
   "cell_type": "markdown",
   "id": "3710bfdb",
   "metadata": {
    "slideshow": {
     "slide_type": "slide"
    }
   },
   "source": [
    "<img   src=\"../figuras/logo/TalentQ_LogoPosNegro.png\" align=center  width=\"12%\"/>\n",
    "<br>\n",
    "\n",
    "<table width=\"100%\">\n",
    "<td style=\"font-size:400%px;font-style:italic;text-align:right;background-color:rgba(0, 190, 170,0.6)\">\n",
    "Mezcla de Estados\n",
    "</td></table>\n",
    "\n",
    "\n",
    "\n",
    "$ \\newcommand{\\bra}[1]{\\langle #1|} $\n",
    "$ \\newcommand{\\ket}[1]{|#1\\rangle} $\n",
    "$ \\newcommand{\\braket}[2]{\\langle #1|#2\\rangle} $\n",
    "$ \\newcommand{\\ketbra}[2]{| #1\\rangle \\langle #2|} $\n",
    "$ \\newcommand{\\tr}{{\\rm Tr}\\,} $\n",
    "$ \\newcommand{\\Tr}{{\\rm Tr}\\,} $\n",
    "$ \\newcommand{\\i}{{\\color{blue} i}} $ \n",
    "$ \\newcommand{\\Hil}{{\\cal H}} $\n",
    "$ \\newcommand{\\V}{{\\cal V}} $\n",
    "$ \\newcommand{\\Lin}{\\hbox{Lin}}$"
   ]
  },
  {
   "cell_type": "markdown",
   "id": "c1915265",
   "metadata": {
    "slideshow": {
     "slide_type": "slide"
    }
   },
   "source": [
    "\n",
    "-[Estado puro y mezcla](#est_pur_mez) \n",
    "   <br>\n",
    "   \n",
    "   \n",
    "-[Operador densidad](#mat_dens) \n",
    "   <br>\n",
    "   \n",
    "-[Medidas en estados mezcla](#med_mat_dens)\n",
    "\n",
    "   \n",
    "-[Estado mezcla bipartito](#mat_dens_bipart)\n",
    "   - [Traza parcial](#traza_parcial)\n"
   ]
  },
  {
   "cell_type": "markdown",
   "id": "dd75c76b",
   "metadata": {
    "slideshow": {
     "slide_type": "slide"
    }
   },
   "source": [
    "<a id=\"est_pur_mez\"></a>\n",
    "<a id='dirac'></a>\n",
    "<table width=\"100%\">\n",
    "    <td style=\"font-size:250%px;font-family:Helvetica;text-align:left;background-color:rgba(0,0,900, 0.3);\">\n",
    "<b>Estado puro y mezcla</b>\n",
    "</table>   \n"
   ]
  },
  {
   "cell_type": "markdown",
   "id": "4d2aea4f",
   "metadata": {
    "slideshow": {
     "slide_type": "slide"
    }
   },
   "source": [
    "El contenido de la *función de onda* es probabilístico. Sólo sirve para predecir probabilidades de resultados de medidas. \n",
    "\n",
    "Sin embargo, el *propio conocimiento* de la función de onda **puede estar sometido a incertidumbre**.\n",
    "<br>\n",
    "<br>\n"
   ]
  },
  {
   "cell_type": "markdown",
   "id": "07a021fc",
   "metadata": {
    "slideshow": {
     "slide_type": "slide"
    }
   },
   "source": [
    "\n",
    "<div class=\"alert alert-block alert-info\",text-align:center>\n",
    "<p style=\"text-align: left ;color: navy;\">  \n",
    "<b> Estado puro</b>:\n",
    "<br>    \n",
    "Si con <i>certeza total</i> podemos afirmar que el estado de un sistema está descrito por un vector \n",
    "$\\ket{\\psi}\\in \\Hil$ \n",
    "    decimos que nuestro sistema se encuentra en un <i>estado puro</i>.\n",
    "<br>\n",
    "</p>\n",
    "</div>"
   ]
  },
  {
   "cell_type": "markdown",
   "id": "534ea6b8",
   "metadata": {
    "slideshow": {
     "slide_type": "skip"
    }
   },
   "source": [
    "Tomemos un estado *superposición* $\\ket{\\psi} = a\\ket{0} + b\\ket{1}$ con $a,b \\neq 0$.\n",
    "\n",
    "La probabilidad de medir el estado $\\ket{0}$ será  positiva\n",
    "<br>\n",
    "\n",
    "$$\n",
    "p(0) = |\\braket{0}{\\psi}|^2  = \n",
    "\\left\\vert\\bra{0}\\big(a\\ket{0}+b\\ket{1}\\big)\\right\\vert^2=\\left\\vert a\\braket{0}{0}+b \\braket{0}{1}\\right\\vert^2 = |a|^2\n",
    "$$"
   ]
  },
  {
   "cell_type": "markdown",
   "id": "6d618c19",
   "metadata": {
    "slideshow": {
     "slide_type": "skip"
    }
   },
   "source": [
    "la de medir el estado $\\ket{1}$ también\n",
    "<br>\n",
    "$$\n",
    "p(1) = |\\braket{1}{\\psi}|^2  = \\left\\vert\\bra{1}\\big(a\\ket{0}+b\\ket{1}\\big)\\right\\vert^2 =\\left\\vert a\\braket{1}{0}+b \\braket{1}{1}\\right\\vert^2= |b|^2\n",
    "$$"
   ]
  },
  {
   "cell_type": "markdown",
   "id": "0bb17301",
   "metadata": {
    "slideshow": {
     "slide_type": "skip"
    }
   },
   "source": [
    "y la de medir el estado $\\ket{+} =  \\frac{1}{\\sqrt{2}}(\\ket{0}+\\ket{1})$ será\n",
    "<br>\n",
    "\\begin{eqnarray}\n",
    "p(+)&=&|\\braket{+}{\\psi}|^2 =  \\frac{1}{2}\\left\\vert\\big(\\bra{0}+ \\bra{1}\\big)\\big(a\\ket{0}+b\\ket{1}\\big)\\right\\vert^2 = \\frac{1}{2}\\left\\vert\\big(a\\braket{0}{0}+b\\braket{1}{1}\\big)\n",
    "\\right\\vert^2 \\\\\n",
    "&=&\\frac{1}{2}|a+b|^2  = \\frac{1}{2}(a+b)(a^* + b^*) \n",
    "\\\\\n",
    "&=& \\frac{1}{2}\\left(\\rule{0mm}{4mm} |a|^2 + |b|^2 + 2{\\rm Re}(ab^*) \\right)\n",
    "\\end{eqnarray}    "
   ]
  },
  {
   "cell_type": "markdown",
   "id": "77a07803",
   "metadata": {
    "slideshow": {
     "slide_type": "skip"
    }
   },
   "source": [
    " El término que no tiene signo definido $2{\\rm Re}(ab^*)$ se denomina <i>interferencia</i>. \n",
    " Es el responsable de que $p(+)=0$ se pueda anular aún cuando $a,b\\neq 0$. \n",
    " \n",
    " Concretamente cuando $a=1=-b$\n",
    "\n",
    "$$\n",
    "\\ket{\\psi}=   \\frac{1}{\\sqrt{2}}(\\ket{0}-\\ket{1}) = \\ket{-}\n",
    "$$\n",
    "\n",
    "y los estados son ortogonales $|\\braket{\\psi}{+}|^2=|\\braket{-}{+}|^2= p(\\ket{-}\\to\\ket{+})=0$."
   ]
  },
  {
   "cell_type": "markdown",
   "id": "ff57416e",
   "metadata": {
    "slideshow": {
     "slide_type": "slide"
    }
   },
   "source": [
    "¿Qué ocurre si no podemos tener la certeza de que el estado que describe el sistema sea $\\ket{\\psi}$?  \n",
    "\n",
    "Por ejemplo: supongamos que tenemos un aparato de Stern Gerlach que prepara el estado $\\ket{\\uparrow}$ y otro que prepara el estado  $\\ket{\\uparrow}$. Esto se puede realizar haciendo un agujerito en la parte superior o inferior de la pantalla. \n",
    "\n"
   ]
  },
  {
   "cell_type": "markdown",
   "id": "33ec9168",
   "metadata": {
    "slideshow": {
     "slide_type": "slide"
    }
   },
   "source": [
    "Supongamos que la selección del polarizados es aleatoria, con una cierta probabilidad. \n",
    "\n",
    "Por ejemplo $p$ para el polarizador que prepara $\\ket{\\uparrow}$   y $(1-p)$ para el polarizador que prepara $\\ket{\\downarrow}$. \n"
   ]
  },
  {
   "cell_type": "markdown",
   "id": "cb65c04e",
   "metadata": {
    "slideshow": {
     "slide_type": "fragment"
    }
   },
   "source": [
    "El estado generado mediante este procedimiento es una mezcla estadística de estados puros. "
   ]
  },
  {
   "cell_type": "markdown",
   "id": "0410646f",
   "metadata": {
    "slideshow": {
     "slide_type": "slide"
    }
   },
   "source": [
    "<div class=\"alert alert-block alert-info\",text-align:center>\n",
    "<p style=\"text-align: left ;color: navy;\">  \n",
    "<b> Estado mezcla</b>:\n",
    "<br>En la situación más general, un  sistema estará en un <b>estado mezclado</b> asociado a una variable aleatoria evaluada en el espacio $\\Hil$\n",
    "<br><br>\n",
    "$$\n",
    "X = \\{\\ket{\\psi_\\alpha},p_\\alpha\\}\n",
    "$$\n",
    "<br>\n",
    "que indica que, con probabilidad $p_\\alpha$,  el estado real del sistema es $\\ket{\\psi_\\alpha}$\n",
    "</p>\n",
    "</div>"
   ]
  },
  {
   "cell_type": "markdown",
   "id": "43718b8e",
   "metadata": {
    "slideshow": {
     "slide_type": "slide"
    }
   },
   "source": [
    "<a id=\"mat_dens\"></a>\n",
    "<a id='dirac'></a>\n",
    "<table width=\"100%\">\n",
    "    <td style=\"font-size:250%px;font-family:Helvetica;text-align:left;background-color:rgba(0,0,900, 0.3);\">\n",
    "<b>Operador densidad</b>\n",
    "</table>   \n"
   ]
  },
  {
   "cell_type": "markdown",
   "id": "e9291dad",
   "metadata": {
    "slideshow": {
     "slide_type": "slide"
    }
   },
   "source": [
    "Supongamos que a nuestro sistema le podemos asignar un estado mezclado descrito por   $X = \\{\\ket{\\psi_\\alpha},p_\\alpha\\}$: \n",
    "\n",
    "¿Cuál es ahora la probabilidad $p(\\lambda_n)$, de encontrar un autovector $\\ket{\\lambda_n}$ como resultado de la medida de un observable $A$?\n",
    "\n"
   ]
  },
  {
   "cell_type": "markdown",
   "id": "0317f575",
   "metadata": {
    "slideshow": {
     "slide_type": "slide"
    }
   },
   "source": [
    "Dicha probabilidad,  debe ser la *suma ponderada* de *probabilidades condicionadas*  a que el estado sea cada uno de los estados posibles $\\ket{\\psi_\\alpha}$\n",
    "\n",
    "$$\n",
    "\\begin{array}{rcl} \n",
    "p(\\lambda_n) &=& \\sum_\\alpha p_\\alpha |\\braket{\\lambda_n}{\\psi_\\alpha}|^2  =  \\sum_\\alpha p_\\alpha \\braket{\\lambda_n}{\\psi_\\alpha}\\braket{\\psi_\\alpha}{\\lambda_n} \\\\ \\rule{0mm}{6mm}\n",
    "&=& \\bra{\\lambda_n}\\left(\\rule{0mm}{6mm}\\sum_\\alpha p_\\alpha \\ket{\\psi_\\alpha}\\bra{\\psi_\\alpha}\\right)\\ket{\\lambda_n} \\\\\n",
    "&\\equiv&\\bra{\\lambda_n}\\rho\\ket{\\lambda_n}\\\\\n",
    "\\end{array}\n",
    "$$\n"
   ]
  },
  {
   "cell_type": "markdown",
   "id": "97da411a",
   "metadata": {
    "slideshow": {
     "slide_type": "slide"
    }
   },
   "source": [
    "El resultado anterior muestra la aparición en escena de un *nuevo operador* formado con los datos del colectivo aleatorio $\\{\\ket{\\psi_\\alpha},p_\\alpha\\}$  \n",
    "<br>\n",
    "\n",
    "$$\n",
    "\\rho = \\sum_\\alpha p_\\alpha \\ket{\\psi_\\alpha}\\bra{\\psi_\\alpha} = \\sum_\\alpha p_\\alpha P_\\alpha\n",
    "$$\n",
    "\n"
   ]
  },
  {
   "cell_type": "markdown",
   "id": "6dd12c33",
   "metadata": {
    "slideshow": {
     "slide_type": "fragment"
    }
   },
   "source": [
    "$\\rho ~$ se denomina *matriz densidad* y consiste en una *suma ponderada* de *proyectores* $P_\\alpha$, sobre cada uno de los subespacios generados por los *estados posibles* $\\ket{\\psi_\\alpha}$ \n",
    "\n",
    "Este es el objeto matemático que caracteriza un estado mezcla. \n",
    "\n"
   ]
  },
  {
   "cell_type": "markdown",
   "id": "9fdff0a0",
   "metadata": {
    "slideshow": {
     "slide_type": "fragment"
    }
   },
   "source": [
    "En particular, como acabamos de ver, \n",
    "la probabilidad de medir el autovalor $\\lambda$ es el *valor esperado* del operador densidad en dicho estado\n",
    "\n",
    "$$\n",
    "p(\\lambda_n) =\\langle \\rho \\rangle_{\\ket{\\lambda_n}} = \\bra{\\lambda_n }\\rho\\ket{\\lambda_n}\n",
    "$$"
   ]
  },
  {
   "cell_type": "markdown",
   "id": "77e2d649",
   "metadata": {
    "slideshow": {
     "slide_type": "slide"
    }
   },
   "source": [
    "<div class=\"alert alert-block alert-info\",text-align:center>\n",
    "<p style=\"text-align: left ;color: navy;\">  \n",
    "<b> Operador densidad</b>:\n",
    "<br> un operador, $\\rho$, podrá ser el operador densidad de un sistema si cumple los siguientes requisitos    \n",
    "<br>\n",
    "<br>    \n",
    "-   es hermítico $\\rho = \\rho^\\dagger$\n",
    "<br>\n",
    "<br>\n",
    "-  es semidefinido positivo\n",
    "<br>\n",
    "<br>    \n",
    "-  tiene traza unidad $\\tr \\rho = 1$ \n",
    "</p>\n",
    "</div>"
   ]
  },
  {
   "cell_type": "markdown",
   "id": "de7d3758",
   "metadata": {
    "slideshow": {
     "slide_type": "slide"
    }
   },
   "source": [
    "Claramente la expresión dada anteriormente cumple con todos estos requisitos. \n",
    "\n",
    "- hermiticidad \n",
    "$$\n",
    "\\rho^\\dagger = \\left(\\sum_\\alpha p_\\alpha \\ket{\\psi_\\alpha}\\bra{\\psi_\\alpha}\\right)^\\dagger = \n",
    "\\sum_\\alpha p^*_\\alpha \\ket{\\psi_\\alpha}\\bra{\\psi_\\alpha} = \\rho\n",
    "$$\n",
    "<br>\n",
    "<br>\n",
    "dado que $p_\\alpha$ son probabilidades y por tanto numeros reales. "
   ]
  },
  {
   "cell_type": "markdown",
   "id": "cffb5842",
   "metadata": {
    "slideshow": {
     "slide_type": "slide"
    }
   },
   "source": [
    "- de hecho escrito en esta base, la matriz que representa $\\rho$ es diagonal\n",
    "<br>\n",
    "<br>\n",
    "$$\n",
    "\\rho = \\begin{bmatrix} p_1& 0 & ... & 0 \\\\ 0 & p_2 & ... & 0 \\\\ & &\\vdots  & \\\\ 0 & 0 & \\cdots & p_n  \n",
    "\\end{bmatrix}\n",
    "$$\n",
    "<br>\n",
    "Por tanto los números $p_\\alpha\\geq 0$ son los autovalores, que son no-negativos, lo cuál caracteriza un operador semidefinido positivo. \n",
    "\n"
   ]
  },
  {
   "cell_type": "markdown",
   "id": "3dcefc31",
   "metadata": {
    "slideshow": {
     "slide_type": "fragment"
    }
   },
   "source": [
    "- finalmente la traza es la unidad debido a que $p_\\alpha$ son probabilidades\n",
    "<br>\n",
    "<br>\n",
    "$$\n",
    "{\\rm Tr}\\, \\rho = \\sum_\\alpha p_\\alpha = 1\n",
    "$$"
   ]
  },
  {
   "cell_type": "markdown",
   "id": "88bc7c70",
   "metadata": {
    "slideshow": {
     "slide_type": "fragment"
    }
   },
   "source": [
    "<div class=\"alert alert-block alert-danger\">\n",
    " Se recomienda repasar las propiedades de la función $\\tr$ \n",
    "</div>   "
   ]
  },
  {
   "cell_type": "markdown",
   "id": "91487b9d",
   "metadata": {
    "slideshow": {
     "slide_type": "slide"
    }
   },
   "source": [
    "### Operador densidad de un estado puro\n",
    "\n",
    "\n",
    "La matriz densidad es un formalismo más general que el del vector estado, que sólo se aplica en el caso de ser el estado puro. \n"
   ]
  },
  {
   "cell_type": "markdown",
   "id": "4704dbdd",
   "metadata": {
    "slideshow": {
     "slide_type": "slide"
    }
   },
   "source": [
    "En efecto, el operador densidad asociada a un estado puro $\\ket{\\psi_0}$ se obtiene haciendo todas las probabilidades $p_{\\alpha\\neq 0}=0$ y $p_{0} = 1$. Entonces el colectivo $\\{\\ket{\\psi_0},p_0=1\\}$ tiene asociado el operador\n",
    "\n",
    "$$\n",
    "\\rho = \\ket{\\psi_0}\\bra{\\psi_0} = \\begin{bmatrix}1 &  & \\\\ & 0 & \\\\ & & \\ddots  \\end{bmatrix}\n",
    "$$\n"
   ]
  },
  {
   "cell_type": "markdown",
   "id": "13d209a1",
   "metadata": {
    "slideshow": {
     "slide_type": "slide"
    }
   },
   "source": [
    "Es evidente que esta expresión cumple, a mayores, la propiedad que caracteriza a un *proyector*\n",
    "\n",
    "$$\n",
    "\\rho^2 = \\rho\n",
    "$$\n",
    "\n",
    "y esto es una ecuación que sólo verifican las matrices densidad asociadas a estados puros."
   ]
  },
  {
   "cell_type": "markdown",
   "id": "6c1f59f7",
   "metadata": {
    "slideshow": {
     "slide_type": "slide"
    }
   },
   "source": [
    "**Por el contrario**, para un estado mezcla podemos ver que $\\rho^2 \\neq \\rho$\n",
    "<br>\n",
    "<br>\n",
    "<br>\n",
    "$$\n",
    "\\rho^2  = \\sum_\\alpha p_\\alpha^2 \\ketbra{\\psi_\\alpha}{\\psi_\\alpha} \\neq  \\sum_\\alpha p_\\alpha \\ketbra{\\psi_\\alpha}{\\psi_\\alpha} = \\rho\n",
    "$$\n"
   ]
  },
  {
   "cell_type": "markdown",
   "id": "03989a51",
   "metadata": {
    "slideshow": {
     "slide_type": "fragment"
    }
   },
   "source": [
    "Podemos extraer esta información de forma *independiente de la base* usando la función traza  $\\Tr$\n",
    "<br>\n",
    "\n",
    "-  Si $\\ket{\\psi_\\alpha}$ son vectores ortonormales,  $\\Tr \\rho = \\sum p_\\alpha = 1$ pero  $\\Tr\\rho^2 = \\sum_\\alpha p_\\alpha^2\\leq 1$\n",
    "\n",
    "\n",
    "-  La igualdad $\\Tr \\rho^2=1$ sólo se producirá si  $p_\\alpha = 1$ para un solo $\\alpha$. "
   ]
  },
  {
   "cell_type": "markdown",
   "id": "852f0692",
   "metadata": {
    "slideshow": {
     "slide_type": "fragment"
    }
   },
   "source": [
    "<div class=\"alert alert-block alert-info\",text-align:center>\n",
    "<p style=\"text-align: left ;color: navy;\">  \n",
    "<b> Teorema</b>:\n",
    "<br>    \n",
    "    un estado  $\\rho$ será <i>puro</i> (<i>mezcla</i>) sí y solo sí $~\\Tr \\rho^2 = 1~~\n",
    " (\\Tr \\rho^2 <1)$  \n",
    "</p>\n",
    "</div>"
   ]
  },
  {
   "cell_type": "markdown",
   "id": "2c711967",
   "metadata": {
    "slideshow": {
     "slide_type": "fragment"
    }
   },
   "source": [
    "<div class=\"alert alert-block alert-success\">\n",
    "<b>Ejercicio:</b> \n",
    "programa una función que reciba una matriz y verifique si corresponde a un estado físico, y si ese estado es puro o mezcla.\n",
    "<br>\n",
    "</div>   \n"
   ]
  },
  {
   "cell_type": "markdown",
   "id": "8bfc4936",
   "metadata": {
    "slideshow": {
     "slide_type": "slide"
    }
   },
   "source": [
    "### Estado maximalmente mezclado\n",
    "<br>\n",
    "\n",
    "En el extremo opuesto de un estado puro, encontramos un estado *maximalmente mezclado*, en el cual *todos* los proyectores aparecen de manera equiprobable $\\{\\ket{\\psi_\\alpha},p_\\alpha = \\frac{1}{d}\\}, \\alpha = 1,...,d$"
   ]
  },
  {
   "cell_type": "markdown",
   "id": "f4f1eecd",
   "metadata": {
    "slideshow": {
     "slide_type": "fragment"
    }
   },
   "source": [
    "$$\n",
    "\\rho = \\sum_{\\alpha=1}^d \\frac{1}{d} \\ket{\\psi_\\alpha}\\bra{\\psi_\\alpha} = \\frac{1}{d} I = \\begin{bmatrix}1/d &  & & \\\\ & 1/d &  &\\\\ & & &\\ddots & \\\\ & & & & 1/d \\end{bmatrix}\n",
    "$$\n",
    "\n",
    "Por tanto, es una matriz diagonal proporcional a la identidad. "
   ]
  },
  {
   "cell_type": "markdown",
   "id": "32cf1005",
   "metadata": {
    "slideshow": {
     "slide_type": "slide"
    }
   },
   "source": [
    "### Estado parcialmente mezclado \n",
    "\n",
    "Entre los dos extremos mencionados anteriormente, estado puro y estado maximalmente mezclado se sitúa cualquier estado $\\rho$ genérico. Si escribimos\n",
    "\n",
    "$$\n",
    "\\rho = \\sum_{\\alpha} p_\\alpha \\ket{\\psi_\\alpha}\\bra{\\psi_\\alpha}\n",
    "$$\n",
    "el grado de mezcla es proporcional a la uniformidad en la distribución de valores $p_\\alpha$. \n",
    "\n"
   ]
  },
  {
   "cell_type": "markdown",
   "id": "d7a35c95",
   "metadata": {
    "slideshow": {
     "slide_type": "fragment"
    }
   },
   "source": [
    "\n",
    "### Estado de Gibbs\n",
    "\n",
    "Un caso muy importante de mezcla parcial es el *estado de Gibbs*, que describe un sistema cuando alcanza el *equilibrio término a una temperatura $T$*.\n",
    "\n",
    "En este caso, los estados $\\{\\ket{\\psi_\\alpha}= \\ket{E_\\alpha}\\}$ son la *base de autoestados del operador Hamiltoniano*,\n",
    "\n",
    "$$\n",
    "H\\ket{E_\\alpha} = E_\\alpha \\ket{E_\\alpha}\n",
    "$$\n",
    "\n",
    "y los autovalores $E_\\alpha\\, \\alpha = 1,2...d$ son los *niveles de energía* del sistema. \n",
    "\n",
    "<br>"
   ]
  },
  {
   "cell_type": "markdown",
   "id": "2b34e7f4",
   "metadata": {
    "slideshow": {
     "slide_type": "fragment"
    }
   },
   "source": [
    "Cuando un sistema está en contacto con un baño térmico a temperatura $T$ el estado de energía no está bien definido, sino que es una *mezcla estadística* denominada **colectivo canónico**\n",
    "\n",
    "$$\\left\\{\\rule{0mm}{5mm}\\ket{E_\\alpha}, p_\\alpha = e^{-E_\\alpha/k_BT}\\right\\}$$\n",
    "\n",
    "- Los coeficientes $p_\\alpha = e^{-E_\\alpha/k_BT}$ se denominan *coeficientes de Boltzmann*  codifican la probabilidad  de hallarse en el estado (nivel de energía) $\\ket{E_\\alpha}$. \n",
    "<br>\n",
    "\n",
    "- el denominador común  $k_B T$ es una energía característica para las temperatura $T$, y $k_B$ es una constante universal denominada *constante de Boltzmann* \n"
   ]
  },
  {
   "cell_type": "markdown",
   "id": "e479b4e4",
   "metadata": {},
   "source": [
    "La matriz densidad que describe el estado de este sistema es el denominado *estado de Gibbs*\n",
    "\n",
    "<br>\n",
    "\n",
    "$$\n",
    "\\rho(T) = \\frac{1}{Z}\\sum_{\\alpha=1}^d e^{-E_\\alpha/k_BT} \\ket{E_\\alpha}\\bra{E_\\alpha} = \\frac{1}{Z} \\begin{bmatrix}e^{-E_0/k_BT}&  & \\\\ & e^{-E_1/k_BT} & \\\\ &  &\\ddots  \\end{bmatrix} \\, ,\n",
    "$$\n",
    "<br>\n",
    "\n",
    "donde  $Z =\\sum_\\alpha e^{-E_\\alpha/k_BT}$ se denomina *Función de Partición* y es la *normalización necesaria* para que $\\tr\\rho(T) = 1$."
   ]
  },
  {
   "cell_type": "markdown",
   "id": "1e6e30a1",
   "metadata": {},
   "source": [
    "La energía del sistema a cada temperatura, vendrá dada por un promedio sobre todos los autoestados pesados por la matriz densidad a dicha temperatura\n",
    "\n",
    "$$\n",
    "\\langle E \\rangle_T = \\tr (\\rho(T) H)\n",
    "$$"
   ]
  },
  {
   "cell_type": "markdown",
   "id": "30d4ef21",
   "metadata": {
    "slideshow": {
     "slide_type": "slide"
    }
   },
   "source": [
    "<div class=\"alert alert-block alert-success\">\n",
    "<b>Ejercicio:</b> probar  que recuperamos los casos puro y maximalmente mezclado en los límites siguientes\n",
    "\n",
    "-   $\\rho(T=0) = \\ketbra{E_0}{E_0}$\n",
    "<br>\n",
    "\n",
    "\n",
    "-   $\\rho(T=\\infty) = \\frac{1}{d} I$\n",
    "</div>   "
   ]
  },
  {
   "cell_type": "markdown",
   "id": "83c2982b",
   "metadata": {
    "slideshow": {
     "slide_type": "fragment"
    }
   },
   "source": [
    "<div class=\"alert alert-block alert-success\">\n",
    "<b>Ejercicio:</b> Genera aleatoriamente un estado de Gibbs a temperatura $T$ y grafica los valores de $p_\\alpha(T)$\n",
    "    para distintos valores de $T$ (toma $k_B=1$).\n",
    "<br>\n",
    "</div>   "
   ]
  },
  {
   "cell_type": "markdown",
   "id": "c9c3e9f4",
   "metadata": {
    "slideshow": {
     "slide_type": "slide"
    }
   },
   "source": [
    "<a id=\"med_mat_dens\"></a>\n",
    "<table width=\"100%\">\n",
    "    <td style=\"font-size:250%px;font-family:Helvetica;text-align:left;background-color:rgba(0,0,900, 0.3);\">\n",
    "<b>Medidas en estados mezcla</b>\n",
    "</table>   \n"
   ]
  },
  {
   "cell_type": "markdown",
   "id": "793109da",
   "metadata": {},
   "source": [
    "El escenario ahora es un estado general $\\rho$ sobre el que efectuamos una medida asociada a un *observable* que admite una descomposición espectral\n",
    "<br>\n",
    "<br>\n",
    "\n",
    "$$\n",
    "A = \\sum_n \\lambda_n \\ketbra{\\lambda_n}{\\lambda_n} = \\sum_n \\lambda_n P_n\n",
    "$$\n",
    "\n",
    "donde el operador de proyección $P_n = \\ket{\\lambda_n}\\bra{\\lambda}$.\n"
   ]
  },
  {
   "cell_type": "markdown",
   "id": "95a886a4",
   "metadata": {
    "slideshow": {
     "slide_type": "slide"
    }
   },
   "source": [
    "\n",
    "**Axioma V: Colapso de la Función de onda**\n",
    "\n",
    "<div class=\"alert alert-block alert-info\",text-align:center>\n",
    "<p style=\"color: navy;\">  \n",
    "Después de una medida, si el resultado ha sido $\\lambda_m$ el estado mezclado $\\rho$ colapsa al estado puro $\\rho_m = \\ketbra{\\lambda_m}{\\lambda_m}$. \n",
    "</p>\n",
    "</div>\n",
    "\n",
    "\n",
    "\n",
    "Es decir, podemos asociar a una medida, el siguiente mapa enter operadores\n",
    "\n",
    "\n",
    "$$\n",
    "\\rho ~\\to ~~ \\ketbra{\\lambda_m}{\\lambda_m} = \\frac{P_m\\rho P_m}{p(\\lambda_m)} \\, .\n",
    "$$\n",
    "\n",
    "\n",
    "<br>\n",
    "<details style='color:navy'>\n",
    "<br>\n",
    "\\begin{eqnarray}\n",
    "P_n \\rho P_n &=& \\ketbra{\\lambda_n}{\\lambda_n} \\rho \\ketbra{\\lambda_n}{\\lambda_n}  = p(\\lambda_n) \\ketbra{\\lambda_n}{\\lambda_n}\n",
    "\\end{eqnarray}\n",
    "</details>\n"
   ]
  },
  {
   "cell_type": "markdown",
   "id": "48de9bd1",
   "metadata": {
    "slideshow": {
     "slide_type": "slide"
    }
   },
   "source": [
    "Ya hemos visto cómo escribir la probabilidad asociada al inicio de este capítulo. Vamos a manipular dicha expresión\n",
    "\n",
    "\n",
    "\\begin{eqnarray}\n",
    "p(\\lambda_n) &=& \\bra{\\lambda_n}\\rho\\ket{\\lambda_n} = \\sum_i  \\braket{\\lambda_n}{i}\\bra{i}\\rho\\ket{\\lambda_n} =\n",
    "\\sum_i \\bra{i}\\rho\\ket{\\lambda_n}\\braket{\\lambda_n}{i} = \\sum_i \\bra{i}\\left( \\rho\\ket{\\lambda_n}\\bra{\\lambda_n}\\rule{0mm}{5mm}\\right)\\ket{i} \\nonumber\\\\\n",
    "&\\equiv& \\tr(\\rho P_n )\n",
    "\\end{eqnarray}"
   ]
  },
  {
   "cell_type": "markdown",
   "id": "a860b0e1",
   "metadata": {
    "slideshow": {
     "slide_type": "fragment"
    }
   },
   "source": [
    "Ahora podemos hallar el valor esperado de $A$\n",
    "\n",
    "\\begin{eqnarray}\n",
    "\\langle A\\rangle_\\rho &=& \\sum_n \\lambda_n p(\\lambda_n) = \\sum_n \\lambda_n \\tr(\\rho P_n ) \n",
    "     = \\tr \\left( \\rho \\sum_n \\lambda_n P_n \\right) = \\tr (\\rho A)\n",
    "\\end{eqnarray}"
   ]
  },
  {
   "cell_type": "markdown",
   "id": "9a442cea",
   "metadata": {
    "slideshow": {
     "slide_type": "slide"
    }
   },
   "source": [
    "<div class=\"alert alert-block alert-info\",text-align:center>\n",
    "<p style=\"text-align: left ;color: navy;\">  \n",
    "<b> Teorema</b>:\n",
    "<br>\n",
    "El valor esperado de un observable $A$ en un estado  $\\rho$ es \n",
    "<br>\n",
    "$$\n",
    "~~ \\langle A\\rangle_\\rho = {\\rm tr}(\\rho A)  \n",
    "$$\n",
    "</p>\n",
    "\n",
    "</div>\n"
   ]
  },
  {
   "cell_type": "markdown",
   "id": "8fb9e3b5",
   "metadata": {
    "slideshow": {
     "slide_type": "slide"
    }
   },
   "source": [
    "<a id=\"mat_dens_bipart\"></a>\n",
    "<table width=\"100%\">\n",
    "    <td style=\"font-size:250%px;font-family:Helvetica;text-align:left;background-color:rgba(0,0,900, 0.3);\">\n",
    "<b>Estado mezclado bi-partito</b>\n",
    "</table>   \n"
   ]
  },
  {
   "cell_type": "markdown",
   "id": "c303dc33",
   "metadata": {},
   "source": [
    "Un caso muy frecuente se da cuando el sistema total consiste en la suma de dos subsistemas $A$ y $B$\n",
    "\n",
    "En este caso, el espacio total de Hilbert es el producto tensorial $\\Hil = \\Hil_A\\otimes \\Hil_B$."
   ]
  },
  {
   "cell_type": "markdown",
   "id": "f3144213",
   "metadata": {},
   "source": [
    "Consideremos bases $~\\{\\ket{i}_A\\},\\, i=0,...,d_A-1$ de $\\Hil_A$ y $~\\{\\ket{a}_B\\},\\, a=0,...,d_B-1$ de $\\Hil_B$.\n",
    "\n",
    "La base canónica de $\\Hil$ viene dada por todos los pares ordenados\n",
    "\n",
    "$$\n",
    "\\ket{ia} = \\ket{i}_A\\otimes \\ket{a}_B\n",
    "$$"
   ]
  },
  {
   "cell_type": "markdown",
   "id": "43b3f1c3",
   "metadata": {
    "slideshow": {
     "slide_type": "slide"
    }
   },
   "source": [
    "En esta base, un operador arbitrario admite la forma\n",
    "\n",
    "$$\\rho=\\sum_{i,j=0}^{d_A-1}\\sum_{a,b=0}^{d_B-1}\\rho_{ia~jb}\\ket{ia}\\bra{jb}$$\n",
    "\n",
    "en términos de una *matriz de densidad* $\\rho_{ia,jb}$\n"
   ]
  },
  {
   "cell_type": "markdown",
   "id": "3ac78976",
   "metadata": {
    "slideshow": {
     "slide_type": "fragment"
    }
   },
   "source": [
    "$\\rho$ describirá el *estado mixto* de un sistema bipartito si la matriz\n",
    "$\\rho_{ia~jb}$ verifica las tres condiciones que definen la matriz de densidad de un operador de densidad\n",
    "\n",
    "- Hermiticidad $\\Rightarrow \\rho_{ia~jb} = \\rho_{jb~ia}^*$\n",
    "<br>\n",
    "\n",
    "- Definición semipositiva *es decir*, para todos los valores propios $\\Rightarrow ~\\lambda_{ia} \\geq 0$\n",
    "<br>\n",
    "\n",
    "- Conservación de la probabilidad: $\\Tr \\rho = \\sum_{ia=1}^n \\rho_{ia~ia} =1$"
   ]
  },
  {
   "cell_type": "markdown",
   "id": "d4b9749f",
   "metadata": {
    "slideshow": {
     "slide_type": "slide"
    }
   },
   "source": [
    "<div class=\"alert alert-block alert-danger\">\n",
    "<b> Notar</b>:\n",
    "<br>\n",
    "Hasta ahora no hay diferencia entre $\\rho \\in \\Lin(\\Hil)$ de dimensión $d$, y $\\rho \\in \\Lin(\\Hil_A\\otimes \\Hil_B)$ de dimensión $d_Ad_B = d$. Es sólo una cuestión de etiquetar los índices. De hecho, deja\n",
    "$$\n",
    "\\alpha = d_A i + a\n",
    "$$\n",
    "\n",
    "entonces $\\alpha = 0,1,..., d_Ad_B-1 = 0,...,d-1$ y podemos etiquetar los elementos de la matriz de cualquier manera\n",
    "<br>\n",
    "\n",
    "$$\n",
    "\\rho_{\\alpha\\beta} = \\rho_{ia~jb}\n",
    "$$\n",
    "</div>   "
   ]
  },
  {
   "cell_type": "markdown",
   "id": "dafe2070",
   "metadata": {
    "slideshow": {
     "slide_type": "slide"
    }
   },
   "source": [
    "## Estados no correlacionados, separables y entrelazados\n",
    "\n",
    "En el caso de los vectores $\\ket{\\psi} \\in \\Hil_1\\otimes \\Hil_2$, ya hemos visto una distinción entre el estado *factorizable* y *entrelazado*\n",
    "\n",
    "Para los *operadores de densidad* (estados) $\\rho \\in \\Lin(\\Hil_A\\otimes \\Hil_B)$ encontramos posibilidades similares"
   ]
  },
  {
   "cell_type": "markdown",
   "id": "5c28e303",
   "metadata": {
    "slideshow": {
     "slide_type": "fragment"
    }
   },
   "source": [
    "\n",
    "- <i> factorizable: </i> si $\\rho$ es un operador factorizable \n",
    "$$\n",
    "\\rho = \\rho^A\\otimes \\rho^B\\, \n",
    "$$\n",
    "<br>\n",
    "En este caso $\\rho_{ia~jb} = \\rho^A_{ij}\\rho^B_{ab}$ y decimos que este es un estado en el que los subsistemas $A$ y $B$ <i>no están correlacionados</i>.\n"
   ]
  },
  {
   "cell_type": "markdown",
   "id": "a355b0a5",
   "metadata": {
    "slideshow": {
     "slide_type": "slide"
    }
   },
   "source": [
    "- <i>separable:</i> si $\\rho$ es una *combinación lineal* de matrices de densidad factorizables\n",
    "<br>\n",
    "<br>\n",
    "$$\\rho=\\sum_a p_a \\, \\rho_{1a}\\otimes\\rho_{2a}$$\n",
    "con $p_a\\in [0,1]$ y $\\sum_a p_a = 1$.\n",
    "\n",
    "\n",
    "Lo que sucede en este caso es que el estado $\\rho$ solo tiene *correlaciones clásicas* entre los sistemas $A$ y $B$."
   ]
  },
  {
   "cell_type": "markdown",
   "id": "91660625",
   "metadata": {
    "slideshow": {
     "slide_type": "fragment"
    }
   },
   "source": [
    "- <i>entrelazado:</i> en cualquier otro caso.\n",
    "<br>\n",
    "<br>\n",
    "En este caso general, existen correlaciones tanto *clásicas* como *cuánticas* entre los grados de libertad de $A$ y $B$"
   ]
  },
  {
   "cell_type": "markdown",
   "id": "b31fdac3",
   "metadata": {},
   "source": [
    "Dado un estado $\\rho$, necesitamos herramientas que nos ayuden a diagnosticar y discriminar entre estos casos. El *rastreo parcial* resulta ser una de esas herramientas"
   ]
  },
  {
   "cell_type": "markdown",
   "id": "4ec9494f",
   "metadata": {
    "slideshow": {
     "slide_type": "slide"
    }
   },
   "source": [
    "<a id='traza_parcial'></a>\n",
    "## Traza parcial\n",
    "\n",
    "Dado un estado bipartito $\\rho \\in {\\rm L}(\\Hil_A\\otimes\\Hil_B)$ podemos definir estados $\\rho^A \\in \\Lin(\\Hil_A)$ y\n",
    "$\\rho^B \\in \\Lin(\\Hil_B)$ a través de la operación de *traza parcial*\n",
    "\n",
    "\n",
    "$$\\rho^A \\equiv {\\rm Tr}_B\\rho = \\sum_{a=0}^{d_B-1} {_B}\\bra{a} \\rho \\ket{a}_B\\quad , \\quad \\rho^B \\equiv {\\rm Tr}_A\\rho = \\sum_{i=0}^{d_A-1} {_A}\\bra{i} \\rho \\ket{i}_A $$"
   ]
  },
  {
   "cell_type": "markdown",
   "id": "a2aacf75",
   "metadata": {
    "slideshow": {
     "slide_type": "fragment"
    }
   },
   "source": [
    "Esta operación se realiza fácilmente en la matriz de densidad $\\rho \\to \\rho_{ia~jb}$\n",
    "\n",
    "Las matrices de densidad asociadas a las trazas parciales son\n",
    "$$\n",
    "\\rho^A_{ij}= \\sum_{a=0}^{d_B-1} \\rho_{ia~ja} ~~~~~~~,~~~~~~~ \\rho^B_{ab} = \\sum_{i=0}^{d_A-1} \\rho_{ia~ib}\n",
    "$$"
   ]
  },
  {
   "cell_type": "markdown",
   "id": "5e590333",
   "metadata": {
    "slideshow": {
     "slide_type": "slide"
    }
   },
   "source": [
    "Los estados obtenidos de esta manera, permiten predecir probabilidades de resultados de mediciones que solo afectan a uno de los subsistemas.\n",
    "\n",
    "\n",
    "<div class=\"alerta alerta-bloque alerta-info\",text-align:center>\n",
    "<p style=\"text-align: izquierda; color: azul marino;\">\n",
    "Considere un sistema descrito por el estado bipartito $\\rho \\in \\Lin(\\Hil_A\\otimes\\Hil_B)$.\n",
    "<br>\n",
    "<br>\n",
    "Si $O = O_A\\otimes I$ es un observable que sólo <i>mide</i> en el subsistema $A$, entonces\n",
    "<br>    \n",
    "<br>\n",
    "$$\n",
    "\\langle O \\rangle_\\rho  = \\tr (O_A\\rho^A)\n",
    "$$\n",
    "</p>   \n",
    "</div>"
   ]
  },
  {
   "cell_type": "markdown",
   "id": "99c98047",
   "metadata": {
    "slideshow": {
     "slide_type": "slide"
    }
   },
   "source": [
    "*Prueba*:\n",
    "\n",
    "\\begin{eqnarray}\n",
    " \\langle O \\rangle_\\rho  ~=~ \\langle O_A\\otimes I \\rangle_\\rho =\\Tr ((O_A\\otimes I)\\rho) &~=~&\n",
    " \\sum_{i=0}^{d_A-1}\\sum_{a=0}^{d_B-1} \\bra{i}\\bra{a} \\left( (O_A\\otimes I)\\rho \\rule{0mm}{4mm}\\right) \\ket{i}\\ket{a} \\\\\n",
    " \\rule{0mm}{4mm}\n",
    " &=& \\sum_{i=0}^{d_A-1} \\bra{i} O_A  \\sum_{a=0}^{d_B-1}\\bra{a}\\rho \\ket{a}\\ket{i} \\\\\n",
    " &=& \\sum_{i=0}^{d_A-1} \\bra{i} O_A  \\rho^A\\ket{i} \\\\\n",
    " &=& \\Tr(O_A\\rho^A)\n",
    "\\end{eqnarray}"
   ]
  },
  {
   "cell_type": "markdown",
   "id": "0144a1fa",
   "metadata": {
    "slideshow": {
     "slide_type": "slide"
    }
   },
   "source": [
    "## Matriz reducida de un sistema bipartito puro\n",
    "\n",
    "<br>\n",
    "\n",
    "Es hora de examinar la naturaleza de las nuevas matrices de densidad reducida."
   ]
  },
  {
   "cell_type": "markdown",
   "id": "23d0dcaf",
   "metadata": {
    "slideshow": {
     "slide_type": "fragment"
    }
   },
   "source": [
    "Comenzaremos examinando el caso donde $\\rho \\in \\, \\Lin(\\Hil_A\\otimes\\Hil_B)$ es un estado bipartito **puro**. Por lo tanto, la matriz de densidad es un proyector\n",
    "<br>\n",
    "<br>\n",
    "$$\\rho=\\ket{\\psi}\\bra{\\psi}~~~\\Rightarrow ~~~ \\rho=\\rho^2$$ \n"
   ]
  },
  {
   "cell_type": "markdown",
   "id": "48f5ba9e",
   "metadata": {
    "slideshow": {
     "slide_type": "fragment"
    }
   },
   "source": [
    "    \n",
    "Después de tomar la traza parcial en, por ejemplo, $\\Hil_B$, obtenemos la *matriz de densidad reducida* $\\rho\\to \\rho^A = \\tr_B\\rho$\n",
    "\n"
   ]
  },
  {
   "cell_type": "markdown",
   "id": "363a0761",
   "metadata": {
    "slideshow": {
     "slide_type": "fragment"
    }
   },
   "source": [
    "A continuación se muestran tres resultados importantes que debe conocer, dos de los cuales dependen de la naturaleza de $\\ket{\\Psi}$"
   ]
  },
  {
   "cell_type": "markdown",
   "id": "40c1a8a4",
   "metadata": {
    "slideshow": {
     "slide_type": "slide"
    }
   },
   "source": [
    "<div class=\"alert alert-block alert-info\",text-align:center>\n",
    "<p style=\"text-align: left ;color: navy;\">  \n",
    "$\\bullet$ Los dos operadores reducidos de un estado bipartito puro son iguales\n",
    "    $\\Rightarrow \\rho^A = \\rho^B$\n",
    "</p>   \n",
    "</div>\n",
    "<br>\n"
   ]
  },
  {
   "cell_type": "markdown",
   "id": "c97ac4be",
   "metadata": {
    "slideshow": {
     "slide_type": "slide"
    }
   },
   "source": [
    ">*Prueba*:\n",
    "<br>\n",
    "<br>\n",
    "la prueba es fácil escribiendo el estado $\\ket{\\Psi}$ en la base de Schmidt \n",
    "<br>\n",
    "<br>\n",
    "$$\\ket{\\Psi} = \\sum_{\\alpha = 0}^{d_S-1}\\sqrt{\\lambda_\\alpha}\\, \\ket{f_\\alpha}\\otimes \\ket{\\tilde f_\\alpha}$$\n",
    "<br>\n",
    "donde $d_S\\leq {\\rm min}(d_A,d_B)$ es el número de Schmidt.\n",
    "Entonces\n",
    "<br>\n",
    "<br>\n",
    "\\begin{eqnarray}\n",
    "\\rho^A ~=~ \\Tr_B \\ket{\\Psi}\\bra{\\Psi} &~=~& \\sum_{\\sigma=0}^{d_B-1} \\bra{\\tilde f_\\sigma}\\left( \\sum_{\\alpha, \\beta=0}^{d_S-1} \\sqrt{\\lambda_\\alpha}\\sqrt{\\lambda_\\beta}\\ket{f_\\alpha}\\ket{\\tilde f_\\alpha}\\bra{f_\\beta}\\bra{\\tilde f_\\beta} \\right)\n",
    "\\ket{\\tilde f_\\sigma} \\\\\n",
    "&=&\\sum_\\sigma\\sum_{\\alpha \\beta} \\sqrt{\\lambda_\\alpha}\\sqrt{\\lambda_\\beta}\\ket{f_\\alpha}\\braket{\\tilde f_\\sigma}{\\tilde f_\\alpha}\\bra{ f_\\beta}\\braket{\\tilde f_\\beta}{\\tilde f_\\sigma}\\\\\n",
    "&=&\\sum_\\sigma\\sum_{\\alpha \\beta} \\sqrt{\\lambda_\\alpha}\\sqrt{\\lambda_\\beta}\\ket{f_\\alpha}\\bra{f_\\beta}\\delta_{\\sigma\\alpha}\\delta_{\\beta\\sigma} \\\\\n",
    "&=&  \\sum_{\\alpha=0}^{d_S-1} \\lambda_\\alpha\\ket{f_\\alpha}\\bra{f_\\alpha}\n",
    "\\end{eqnarray}\n",
    "\n"
   ]
  },
  {
   "cell_type": "markdown",
   "id": "b5958e89",
   "metadata": {
    "slideshow": {
     "slide_type": "slide"
    }
   },
   "source": [
    "Procediendo de la misma manera, es fácil demostrar lo contrario\n",
    "\n",
    "$$\n",
    "\\rho^B ~=~ \\Tr_A \\ket{\\Psi}\\bra{\\Psi} = \\sum_{\\alpha} \\lambda_\\alpha\\ket{\\tilde f_\\alpha}\\bra{\\tilde f_\\alpha}\n",
    "$$\n",
    "\n",
    "Entonces, la matriz de densidad en ambos casos es la misma matriz diagonal dada por los coeficientes de Schmidt\n",
    "\n",
    "$$\\rho^A_{\\alpha\\alpha} = \\rho^B_{\\alpha\\alpha} = \\lambda_\\alpha\\, $$\n",
    "con $\\alpha = 0,1,.. d_S -1 $."
   ]
  },
  {
   "cell_type": "markdown",
   "id": "aa82edc2",
   "metadata": {
    "slideshow": {
     "slide_type": "slide"
    }
   },
   "source": [
    "<div class=\"alert alert-block alert-info\",text-align:center>\n",
    "<p style=\"text-align: left ;color: navy;\">  \n",
    "$\\bullet$ if $\\ket{\\psi} = \\ket{\\varphi}\\otimes \\ket{\\phi}$ es <i>factorizable</i>, entonces $\\Rightarrow $ $\\rho^A$ permanece <i>pura</i>\n",
    "</p>   \n",
    "</div>"
   ]
  },
  {
   "cell_type": "markdown",
   "id": "30ab2364",
   "metadata": {
    "slideshow": {
     "slide_type": "fragment"
    }
   },
   "source": [
    "*Proof:*\n",
    "\n",
    "\\begin{eqnarray}\n",
    " \\rho^A = \\Tr_{B}\\ketbra{\\Psi}{\\Psi} &=& \\sum_{b}\\bra{b}\\left(\\rule{0mm}{4mm} \\ketbra{\\varphi}{\\varphi}\\otimes \\ketbra{\\phi}{\\phi}\\right) \\ket{b}\\\\\n",
    " &=&   \\ketbra{\\varphi}{\\varphi} \\sum_b \\braket{b}{\\phi}\\braket{\\phi}{b}\\\\\n",
    " &=&   \\ketbra{\\varphi}{\\varphi}  \\bra{\\phi}\\left(\\sum_b\\ketbra{b}{b}\\right)\\ket{\\phi}\\\\\n",
    " &=&   \\ketbra{\\varphi}{\\varphi}\\braket{\\phi}{\\phi} ~= ~ \\ketbra{\\varphi}{\\varphi} ~ = ~ (\\rho^A)^2\n",
    "\\end{eqnarray}\n"
   ]
  },
  {
   "cell_type": "markdown",
   "id": "6ec3c01f",
   "metadata": {
    "slideshow": {
     "slide_type": "slide"
    }
   },
   "source": [
    "<div class=\"alert alert-block alert-info\",text-align:center>\n",
    "<p style=\"text-align: left ;color: navy;\">  \n",
    "$\\bullet$ If $\\ket{\\psi}$ es <i>entrelazada</i> $~~\\Rightarrow ~~ \\rho^A$ se vuelve <i>mezclada</i>\n",
    "</p>   \n",
    "</div>"
   ]
  },
  {
   "cell_type": "markdown",
   "id": "324e8fcd",
   "metadata": {
    "slideshow": {
     "slide_type": "fragment"
    }
   },
   "source": [
    ">*Prueba*:\n",
    "<br>\n",
    "en la base de Schmidt, las matrices de densidad $\\rho^A_{\\alpha\\alpha} = \\rho^B_{\\alpha\\alpha} = \\lambda_\\alpha$\n",
    "tener\n",
    "<br>\n",
    "<br>\n",
    "$$\\Tr \\rho^A = \\Tr\\rho^B = \\sum_{\\alpha=0}^{d_S-1} = 1$$\n",
    "<br>\n",
    "como deberían, pero claramente, ni $\\rho^A $ ni $\\rho^B$ son proyectores\n",
    "<br>\n",
    "<br>\n",
    "$$\n",
    "\\Tr (\\rho^A)^2 = \\Tr (\\rho^B)^2 = \\sum_{\\alpha=0}^{d_S-1} \\lambda_\\alpha^2 < 1\n",
    "$$\n",
    "<br>\n",
    "a menos que solo un $\\lambda_0=1$ y el resto sean 0, lo que corresponde a un estado puro.\n"
   ]
  },
  {
   "cell_type": "markdown",
   "id": "085f2f09",
   "metadata": {
    "slideshow": {
     "slide_type": "fragment"
    }
   },
   "source": [
    "<div class=\"alert alert-block alert-warning\">\n",
    "<b>Resumen:</b>\n",
    "    bajo la aplicación de <i> traza parcial</i>, el <i> entrelazamiento</i> induce <i> mezcla</i>\n",
    "</div>"
   ]
  },
  {
   "cell_type": "markdown",
   "id": "5a845ab9",
   "metadata": {
    "slideshow": {
     "slide_type": "fragment"
    }
   },
   "source": [
    "<div class=\"alert alert-block alert-success\">\n",
    "<b>Ejercicio:</b> \n",
    "    \n",
    "define una función que recibe como argumentos, una matriz de dimensión $d^2 = (d_A d_B)^2$ y, a parte, los datos $d_A$ y $d_B$ como dimensiones de $\\Hil_A$ y $\\Hil_B$, y que devuelva las dos matrices densidad obtendias mediante las trazas parciales $\\rho^A$ y $\\rho^B$ obtenias mediante las trazas parciales. \n",
    "</div>"
   ]
  }
 ],
 "metadata": {
  "celltoolbar": "Slideshow",
  "kernelspec": {
   "display_name": "Python 3 (ipykernel)",
   "language": "python",
   "name": "python3"
  },
  "language_info": {
   "codemirror_mode": {
    "name": "ipython",
    "version": 3
   },
   "file_extension": ".py",
   "mimetype": "text/x-python",
   "name": "python",
   "nbconvert_exporter": "python",
   "pygments_lexer": "ipython3",
   "version": "3.9.16"
  },
  "varInspector": {
   "cols": {
    "lenName": 16,
    "lenType": 16,
    "lenVar": 40
   },
   "kernels_config": {
    "python": {
     "delete_cmd_postfix": "",
     "delete_cmd_prefix": "del ",
     "library": "var_list.py",
     "varRefreshCmd": "print(var_dic_list())"
    },
    "r": {
     "delete_cmd_postfix": ") ",
     "delete_cmd_prefix": "rm(",
     "library": "var_list.r",
     "varRefreshCmd": "cat(var_dic_list()) "
    }
   },
   "types_to_exclude": [
    "module",
    "function",
    "builtin_function_or_method",
    "instance",
    "_Feature"
   ],
   "window_display": false
  }
 },
 "nbformat": 4,
 "nbformat_minor": 5
}
