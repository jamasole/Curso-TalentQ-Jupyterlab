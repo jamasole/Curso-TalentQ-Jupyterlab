{
 "cells": [
  {
   "cell_type": "markdown",
   "metadata": {},
   "source": [
    "---\n",
    "math:   \n",
    "    '\\Lin': '\\hbox{Lin}'\n",
    "    '\\Hil': '{\\mathcal H}'\n",
    "---"
   ]
  },
  {
   "cell_type": "markdown",
   "metadata": {
    "slideshow": {
     "slide_type": "slide"
    },
    "tags": []
   },
   "source": [
    "\n",
    "# Curso de Introducción a la  Computación Cuántica\n",
    "\n",
    "\n",
    "*autor*: Javiera Mas Solé\n",
    "<br>\n",
    "USC-IGFAE\n",
    "<br>\n",
    "Enero 2024\n",
    " "
   ]
  },
  {
   "cell_type": "markdown",
   "metadata": {
    "slideshow": {
     "slide_type": "slide"
    },
    "tags": []
   },
   "source": [
    "\n",
    "[**Bibliografía**](Bibliografía.ipynb#fund)\n",
    "\n",
    "\n",
    "## Elementos de Mecánica Cuántica\n",
    "\n",
    "### Las herramientas\n",
    "\n",
    "- [**$~$ Números complejos**](00_Formalismo/01_Numeros_Complejos.ipynb)  \n",
    "- [**$~$ Vectores**](00_Formalismo/01_Vectores.ipynb)  \n",
    "- [**$~$ Operadores**](00_Formalismo/01_Operadores.ipynb) \n",
    "- [**$~$ Tensores**](00_Formalismo/01_Tensores.ipynb) \n",
    "- [**$~$ Probabilidades**](00_Formalismo/01_Probabilidades.ipynb)\n",
    "\n",
    "\n",
    "### Las reglas del juego\n",
    "\n",
    "- [**$~$ Fundamentos de MC**](00_Formalismo/02_Fundamentos_MC.ipynb)  \n",
    "\n",
    "\n",
    "## Cúbits\n",
    "\n",
    "- [**$~$ Cúbits**](01_Circuitos/111_Cubits.ipynb) \n",
    "- [**$~$ El arte de medir un cúbit**](01_Circuitos/114_El_Arte_de_Medir_I.ipynb)\n",
    "- [**$~$ Multi-cúbits: estados y puertas**](01_Circuitos/121_Multicubits.ipynb)   \n",
    "- [**$~$ El arte de medir multi-cúbits**](01_Circuitos/122_El_Arte_de_Medir_II.ipynb)\n",
    "- [**$~$ Entrelazamiento en acción**](01_Circuitos/123_Entrelazamiento.ipynb)\n",
    "\n",
    "\n",
    "## Circuitos\n",
    "\n",
    "- [**$~$ Elementos básicos**](01_Circuitos/131_Elementos_Basicos.ipynb)\n",
    ">- [Retroceso de fase](01_Circuitos/131_Elementos_Basicos.ipynb#retrofase)\n",
    ">- [Circuitos equivalentes](01_Circuitos/131_Elementos_Basicos.ipynb#circuitequiv)\n",
    ">- [Operadores de Clifford](01_Circuitos/131_Elementos_Basicos.ipynb#opcliff)\n",
    ">- [Computación cuántica universal](01_Circuitos/131_Elementos_Basicos.ipynb#compuniv)\n",
    ">- [Caracterización de circuitos](01_Circuitos/131_Elementos_Basicos.ipynb#complejcirc)\n",
    ">- [Medidas de calidad en circuitos](01_Circuitos/131_Elementos_Basicos.ipynb#medcalcirc)\n",
    ">- [Complejidad computacional](01_Circuitos/131_Elementos_Basicos.ipynb#complejcirc)\n",
    "\n",
    "\n",
    "\n",
    "- [**$~$ Circuitos para computación clásica**](01_Circuitos/132_CompClasica.ipynb)\n",
    ">- [Computación clásica universal](01_Circuitos/132_CompClasica.ipynb#compclas)\n",
    ">- [Preparación de un estado inicial](01_Circuitos/132_CompClasica.ipynb#prepainit)\n",
    ">- [Funciones digitales](01_Circuitos/132_CompClasica.ipynb#funcdigit)\n",
    ">- [Oráculos <i> booleanos </i> y de fase](01_Circuitos/132_CompClasica.ipynb#oracles)\n",
    "\n",
    "\n",
    "\n",
    "\n"
   ]
  },
  {
   "cell_type": "markdown",
   "metadata": {},
   "source": [
    "## Algoritmos Cuánticos\n",
    "   \n",
    "\n",
    "\n",
    "- [**2.1.1 Algoritmos de oráculo**](02_Algoritmos_Basicos/211_Busqueda_Oraculo.ipynb) \n",
    ">- [Introducción](02_Algoritmos_Basicos/211_Busqueda_Oraculo.ipynb#unasol)\n",
    ">- [El problema de Deutsch-Josza](02_Algoritmos_Basicos/211_Busqueda_Oraculo.ipynb#DeJo)\n",
    ">- [El problema de Bernstein-Vazirani](02_Algoritmos_Basicos/211_Busqueda_Oraculo.ipynb#BeVa)\n",
    ">- [El problema de Simon](02_Algoritmos_Basicos/211_Busqueda_Oraculo.ipynb#Simon)\n",
    "\n",
    "\n",
    "- [**2.1.2 Transformada de Fourier cuántica**](02_Algoritmos_Basicos/212_QFT.ipynb)\n",
    ">- [La transformada de Fourier cuántica](02_Algoritmos_Basicos/212_QFT.ipynb#TFC)\n",
    ">- [Búsqueda de un período](02_Algoritmos_Basicos/212_QFT.ipynb#periodfinding)\n",
    "\n",
    "\n",
    "\n",
    "- [**2.1.3 Estimación de fase cuántica y aplicaciones**](02_Algoritmos_Basicos/213_QPE.ipynb)\n",
    ">- [Estimación cuántica de fase](02_Algoritmos_Basicos/213_QPE.ipynb#QPE)\n",
    ">- [Orden modular](02_Algoritmos_Basicos/213_QPE.ipynb#OrdMod)\n",
    "\n",
    "\n",
    "- [**2.1.3 Algoritmo de Grover**](02_Algoritmos_Basicos/214_Grover.ipynb)\n",
    ">- [Una aguja en un pajar](02_Algoritmos_Basicos/214_Grover.ipynb#aguja)\n",
    ">- [Varias agujas en un pajar](02_Algoritmos_Basicos/214_Grover.ipynb#agujas)\n",
    ">- [Contaje Cuántico](02_Algoritmos_Basicos/214_Grover.ipynb#contcuan)\n",
    "\n"
   ]
  },
  {
   "cell_type": "code",
   "execution_count": null,
   "metadata": {},
   "outputs": [],
   "source": []
  }
 ],
 "metadata": {
  "celltoolbar": "Slideshow",
  "kernelspec": {
   "display_name": "Python 3 (ipykernel)",
   "language": "python",
   "name": "python3"
  },
  "language_info": {
   "codemirror_mode": {
    "name": "ipython",
    "version": 3
   },
   "file_extension": ".py",
   "mimetype": "text/x-python",
   "name": "python",
   "nbconvert_exporter": "python",
   "pygments_lexer": "ipython3",
   "version": "3.9.18"
  },
  "toc": {
   "base_numbering": 1,
   "nav_menu": {},
   "number_sections": true,
   "sideBar": true,
   "skip_h1_title": true,
   "title_cell": "Table of Contents",
   "title_sidebar": "Contents",
   "toc_cell": false,
   "toc_position": {},
   "toc_section_display": false,
   "toc_window_display": false
  },
  "varInspector": {
   "cols": {
    "lenName": 16,
    "lenType": 16,
    "lenVar": 40
   },
   "kernels_config": {
    "python": {
     "delete_cmd_postfix": "",
     "delete_cmd_prefix": "del ",
     "library": "var_list.py",
     "varRefreshCmd": "print(var_dic_list())"
    },
    "r": {
     "delete_cmd_postfix": ") ",
     "delete_cmd_prefix": "rm(",
     "library": "var_list.r",
     "varRefreshCmd": "cat(var_dic_list()) "
    }
   },
   "types_to_exclude": [
    "module",
    "function",
    "builtin_function_or_method",
    "instance",
    "_Feature"
   ],
   "window_display": false
  }
 },
 "nbformat": 4,
 "nbformat_minor": 4
}
