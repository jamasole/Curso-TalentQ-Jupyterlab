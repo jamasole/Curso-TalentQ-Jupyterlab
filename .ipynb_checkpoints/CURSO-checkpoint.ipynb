{
 "cells": [
  {
   "cell_type": "markdown",
   "metadata": {
    "slideshow": {
     "slide_type": "slide"
    },
    "tags": []
   },
   "source": [
    "<table width=\"100%\"><td style=\" font_style:italic; font-size:40px;text-align:center;background-color:rgba(0, 220, 170,0.7)\">\n",
    "<div>\n",
    "Curso de Introducción a la  Computación Cuántica\n",
    "</div>\n",
    "</td></table>\n",
    "<br>\n",
    "<br>\n",
    "autor: Javier Mas Solé\n",
    "<br>\n",
    "USC-IGFAE\n",
    "<br>\n",
    "Septiembre 2023\n",
    " \n",
    "$ \\newcommand{\\bra}[1]{\\langle #1|} $\n",
    "$ \\newcommand{\\ket}[1]{|#1\\rangle} $\n",
    "$ \\newcommand{\\braket}[2]{\\langle #1|#2\\rangle} $\n",
    "$ \\newcommand{\\i}{{\\color{blue} i}} $ \n",
    "$ \\newcommand{\\Hil}{{\\cal H}} $ \n",
    "$ \\newcommand{\\Lin}{\\hbox{Lin}} $\n",
    "\n",
    "\n"
   ]
  },
  {
   "cell_type": "markdown",
   "metadata": {
    "slideshow": {
     "slide_type": "slide"
    },
    "tags": []
   },
   "source": [
    "\n",
    "[**Bibliografía**](Bibliografía.ipynb#fund)\n",
    "\n",
    "\n",
    "\n",
    "\n",
    "## Las reglas del juego \n",
    "\n",
    "### Formalismo matemático\n",
    "\n",
    "- [**$~$ Los números complejos**](01_Formalismo/01_Numeros_Complejos.ipynb)      \n",
    "- [**$~$ Los vectores**](01_Formalismo/01_Vectores.ipynb)  \n",
    "- [**$~$ Los operadores**](01_Formalismo/01_Operadores.ipynb) \n",
    "- [**$~$ Los tensores**](01_Formalismo/01_Tensores.ipynb) \n",
    "- [**$~$ Las probabilidades**](01_Formalismo/01_Probabilidades.ipynb)\n",
    "\n",
    "\n",
    "\n",
    "### Fundamentos de Mecánica Cuántica\n",
    "\n",
    "- [**$~$ Fundamentos de MC**](01_Formalismo/02_Fundamentos_MC.ipynb)  \n"
   ]
  },
  {
   "cell_type": "markdown",
   "metadata": {
    "slideshow": {
     "slide_type": "slide"
    }
   },
   "source": [
    "## Los cúbits\n",
    "\n",
    "- [**Un Cúbit**](01_Circuitos/111_Cubits.ipynb) \n",
    "- [**El arte de medir**](01_Circuitos/114_El_Arte_de_Medir_I.ipynb)\n",
    "- [**Estados y puertas multi-cúbit**](01_Circuitos/121_Multicubits.ipynb)   \n",
    "- [**Multi-cúbits: estados y puertas**](01_Circuitos/122_El_Arte_de_Medir_II.ipynb)\n",
    "- [**Entrelazamiento en acción**](01_Circuitos/123_Entrelazamiento.ipynb)\n",
    "\n",
    "\n",
    "\n",
    "## Circuitos    \n",
    "\n",
    "\n",
    "\n",
    "- [**1.3.1 $~$ Circuitería elemental**](01_Circuitos/131_Elementos_Basicos.ipynb) \n",
    "- [**1.3.2 $~$ Circuitos cuánticos para computación clásica**](01_Circuitos/132_CompClasica.ipynb)\n",
    "\n",
    "\n",
    "## Algoritmos Cuánticos\n",
    "    \n",
    "\n",
    "- [**2.1.1 Algoritmos de oráculo**](02_Algoritmos_Basicos/211_Busqueda_Oraculo.ipynb) \n",
    "- [**2.1.2 Transformada de Fourier cuántica**](02_Algoritmos_Basicos/212_QFT.ipynb)\n",
    "- [**2.1.3 Estimación de fase cuántica y aplicaciones**](02_Algoritmos_Basicos/213_QPE.ipynb)\n",
    "- [**2.1.3 Algoritmo de Grover**](02_Algoritmos_Basicos/214_Grover.ipynb)\n"
   ]
  },
  {
   "cell_type": "code",
   "execution_count": null,
   "metadata": {},
   "outputs": [],
   "source": []
  }
 ],
 "metadata": {
  "celltoolbar": "Slideshow",
  "kernelspec": {
   "display_name": "Python 3 (ipykernel)",
   "language": "python",
   "name": "python3"
  },
  "language_info": {
   "codemirror_mode": {
    "name": "ipython",
    "version": 3
   },
   "file_extension": ".py",
   "mimetype": "text/x-python",
   "name": "python",
   "nbconvert_exporter": "python",
   "pygments_lexer": "ipython3",
   "version": "3.9.12"
  },
  "toc": {
   "base_numbering": 1,
   "nav_menu": {},
   "number_sections": true,
   "sideBar": true,
   "skip_h1_title": true,
   "title_cell": "Table of Contents",
   "title_sidebar": "Contents",
   "toc_cell": false,
   "toc_position": {},
   "toc_section_display": true,
   "toc_window_display": true
  },
  "varInspector": {
   "cols": {
    "lenName": 16,
    "lenType": 16,
    "lenVar": 40
   },
   "kernels_config": {
    "python": {
     "delete_cmd_postfix": "",
     "delete_cmd_prefix": "del ",
     "library": "var_list.py",
     "varRefreshCmd": "print(var_dic_list())"
    },
    "r": {
     "delete_cmd_postfix": ") ",
     "delete_cmd_prefix": "rm(",
     "library": "var_list.r",
     "varRefreshCmd": "cat(var_dic_list()) "
    }
   },
   "types_to_exclude": [
    "module",
    "function",
    "builtin_function_or_method",
    "instance",
    "_Feature"
   ],
   "window_display": false
  }
 },
 "nbformat": 4,
 "nbformat_minor": 4
}
