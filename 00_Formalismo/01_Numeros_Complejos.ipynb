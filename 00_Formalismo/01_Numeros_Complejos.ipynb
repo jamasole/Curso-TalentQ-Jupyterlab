{
 "cells": [
  {
   "cell_type": "markdown",
   "id": "ef2cf2a1",
   "metadata": {
    "toc": true
   },
   "source": [
    "<h1>Números Complejos<span class=\"tocSkip\"></span></h1>\n",
    "<div class=\"toc\"><ul class=\"toc-item\"><li><span><a href=\"#Números-Complejos\" data-toc-modified-id=\"Números-Complejos-1\"><span class=\"toc-item-num\">1&nbsp;&nbsp;</span>Números Complejos</a></span><ul class=\"toc-item\"><li><span><a href=\"#Introducción\" data-toc-modified-id=\"Introducción-1.1\"><span class=\"toc-item-num\">1.1&nbsp;&nbsp;</span>Introducción</a></span></li><li><span><a href=\"#Formas-cartesiana-y-polar\" data-toc-modified-id=\"Formas-cartesiana-y-polar-1.2\"><span class=\"toc-item-num\">1.2&nbsp;&nbsp;</span>Formas cartesiana y polar</a></span><ul class=\"toc-item\"><li><span><a href=\"#Forma-Cartesiana\" data-toc-modified-id=\"Forma-Cartesiana-1.2.1\"><span class=\"toc-item-num\">1.2.1&nbsp;&nbsp;</span>Forma Cartesiana</a></span></li><li><span><a href=\"#Forma-Polar\" data-toc-modified-id=\"Forma-Polar-1.2.2\"><span class=\"toc-item-num\">1.2.2&nbsp;&nbsp;</span>Forma Polar</a></span></li><li><span><a href=\"#Conversión-entre-formas-cartesiana-y-polar\" data-toc-modified-id=\"Conversión-entre-formas-cartesiana-y-polar-1.2.3\"><span class=\"toc-item-num\">1.2.3&nbsp;&nbsp;</span>Conversión entre formas cartesiana y polar</a></span></li><li><span><a href=\"#Conjugacion-compleja\" data-toc-modified-id=\"Conjugacion-compleja-1.2.4\"><span class=\"toc-item-num\">1.2.4&nbsp;&nbsp;</span>Conjugacion compleja</a></span></li></ul></li><li><span><a href=\"#Operaciones-básicas\" data-toc-modified-id=\"Operaciones-básicas-1.3\"><span class=\"toc-item-num\">1.3&nbsp;&nbsp;</span>Operaciones básicas</a></span><ul class=\"toc-item\"><li><span><a href=\"#Suma\" data-toc-modified-id=\"Suma-1.3.1\"><span class=\"toc-item-num\">1.3.1&nbsp;&nbsp;</span>Suma</a></span></li><li><span><a href=\"#Multiplicación\" data-toc-modified-id=\"Multiplicación-1.3.2\"><span class=\"toc-item-num\">1.3.2&nbsp;&nbsp;</span>Multiplicación</a></span></li><li><span><a href=\"#Valor-absoluto\" data-toc-modified-id=\"Valor-absoluto-1.3.3\"><span class=\"toc-item-num\">1.3.3&nbsp;&nbsp;</span>Valor absoluto</a></span></li><li><span><a href=\"#División\" data-toc-modified-id=\"División-1.3.4\"><span class=\"toc-item-num\">1.3.4&nbsp;&nbsp;</span>División</a></span></li></ul></li><li><span><a href=\"#Ejemplos-y-propiedades\" data-toc-modified-id=\"Ejemplos-y-propiedades-1.4\"><span class=\"toc-item-num\">1.4&nbsp;&nbsp;</span>Ejemplos y propiedades</a></span><ul class=\"toc-item\"><li><span><a href=\"#Sumas-nulas\" data-toc-modified-id=\"Sumas-nulas-1.4.1\"><span class=\"toc-item-num\">1.4.1&nbsp;&nbsp;</span>Sumas nulas</a></span></li><li><span><a href=\"#Desigualdad-triangular\" data-toc-modified-id=\"Desigualdad-triangular-1.4.2\"><span class=\"toc-item-num\">1.4.2&nbsp;&nbsp;</span>Desigualdad triangular</a></span></li></ul></li></ul></li></ul></div>"
   ]
  },
  {
   "cell_type": "markdown",
   "id": "65fe56bd",
   "metadata": {
    "slideshow": {
     "slide_type": "slide"
    }
   },
   "source": [
    "# Números Complejos \n",
    "\n",
    "\n",
    "\n",
    "$ \\newcommand{\\bra}[1]{\\langle #1|} $\n",
    "$ \\newcommand{\\ket}[1]{|#1\\rangle} $\n",
    "$ \\newcommand{\\braket}[2]{\\langle #1|#2\\rangle} $\n",
    "$ \\newcommand{\\i}{{ i}} $ \n",
    "$ \\newcommand{\\Hil}{{\\mathbb H}} $\n",
    "\n",
    " "
   ]
  },
  {
   "cell_type": "code",
   "execution_count": 2,
   "id": "3b512046",
   "metadata": {
    "slideshow": {
     "slide_type": "slide"
    }
   },
   "outputs": [],
   "source": [
    "import sys\n",
    "sys.path.append('../')\n",
    "import macro_tQ as tQ\n",
    "\n",
    "import numpy as np\n",
    "import scipy.linalg as la\n",
    "from IPython.display import display,Markdown,Latex\n",
    "import matplotlib.pyplot as plt\n",
    "from qiskit.tools.visualization import array_to_latex"
   ]
  },
  {
   "cell_type": "markdown",
   "id": "dd67cc08",
   "metadata": {
    "slideshow": {
     "slide_type": "slide"
    }
   },
   "source": [
    "## Introducción\n"
   ]
  },
  {
   "cell_type": "markdown",
   "id": "53d7bc8c",
   "metadata": {
    "slideshow": {
     "slide_type": "slide"
    }
   },
   "source": [
    "La mecánica cuántica guarda una relación muy estrecha con los número complejos. En cierta medida "
   ]
  },
  {
   "cell_type": "markdown",
   "id": "dc788706",
   "metadata": {
    "slideshow": {
     "slide_type": "fragment"
    }
   },
   "source": [
    "Recuerda que el *cuadrado* de un número real, $a\\in {\\mathbb R}$ <u>siempre  es positivo</u>"
   ]
  },
  {
   "cell_type": "markdown",
   "id": "95beb303",
   "metadata": {
    "slideshow": {
     "slide_type": "fragment"
    }
   },
   "source": [
    "\n",
    "\n",
    "$$a^2 >0$$  \n",
    "\n"
   ]
  },
  {
   "cell_type": "markdown",
   "id": "0fc1dff7",
   "metadata": {
    "slideshow": {
     "slide_type": "fragment"
    }
   },
   "source": [
    "por ejemplo $~~2^2 =  4~~$ pero también $~~(-2)^2 = 4~~$.\n"
   ]
  },
  {
   "cell_type": "markdown",
   "id": "f8b6a453",
   "metadata": {
    "slideshow": {
     "slide_type": "fragment"
    }
   },
   "source": [
    "Por eso, la raíz cuadrada de un número real <u>*sólo* existe si dicho número es positivo</u>.  \n",
    "\n"
   ]
  },
  {
   "cell_type": "markdown",
   "id": "89d5d949",
   "metadata": {
    "slideshow": {
     "slide_type": "fragment"
    }
   },
   "source": [
    "Por ejemplo $\\sqrt{4}=\\pm 2$, mientras que $$\\sqrt{-4}= \\, ?$$\n"
   ]
  },
  {
   "cell_type": "markdown",
   "id": "6f96edb5",
   "metadata": {
    "slideshow": {
     "slide_type": "fragment"
    }
   },
   "source": [
    "**Pregunta**: $~~$ ¿cómo podríamos definir la <u>raíz cuadrada de un número real negativo</u>? \n"
   ]
  },
  {
   "cell_type": "markdown",
   "id": "45c9f797",
   "metadata": {
    "slideshow": {
     "slide_type": "slide"
    }
   },
   "source": [
    "\n",
    "**Respuesta**: para hacerlo, es necesario <u>ampliar el conjunto de los números reales</u>. \n"
   ]
  },
  {
   "cell_type": "markdown",
   "id": "055912a8",
   "metadata": {
    "slideshow": {
     "slide_type": "fragment"
    }
   },
   "source": [
    "<div class=\"alert alert-block alert-info\",text-align:center>\n",
    "    <p style=\"text-align: left; color: navy\"> <b>Definición:</b> <i>(número $i$) </i>\n",
    "<br>\n",
    "        se postula la existencia de un <i>nuevo número</i>, $~i$, que es la solución única de la ecuación $~$\n",
    "<br><br>\n",
    "$$ i^2 = -1$$\n",
    "</p>\n",
    "</div>\n",
    "\n",
    " \n"
   ]
  },
  {
   "cell_type": "markdown",
   "id": "9973866e",
   "metadata": {
    "slideshow": {
     "slide_type": "fragment"
    }
   },
   "source": [
    "Equivalentemente podíamos haber requerido que  $\\i = \\sqrt{-1}$. \n"
   ]
  },
  {
   "cell_type": "markdown",
   "id": "d6af194c",
   "metadata": {
    "slideshow": {
     "slide_type": "fragment"
    }
   },
   "source": [
    "Con esto podemos ahora encontrar la raíz de cualquier número negativo. Por ejemplo, $-4$\n",
    "\n",
    "$$\n",
    "(2i)(2i) = 4 i^2 = - 4\n",
    "$$\n",
    "\n",
    "y $2i$ será la raíz buscada."
   ]
  },
  {
   "cell_type": "markdown",
   "id": "3c69fc24",
   "metadata": {
    "slideshow": {
     "slide_type": "slide"
    }
   },
   "source": [
    "Con el número $i$ se opera igual que con los números reales\n",
    "\n"
   ]
  },
  {
   "cell_type": "markdown",
   "id": "5b406e36",
   "metadata": {
    "slideshow": {
     "slide_type": "fragment"
    }
   },
   "source": [
    "$$ i + i = 2i $$"
   ]
  },
  {
   "cell_type": "markdown",
   "id": "594d7ae0",
   "metadata": {
    "slideshow": {
     "slide_type": "fragment"
    }
   },
   "source": [
    "$$ i - i = 0 $$"
   ]
  },
  {
   "cell_type": "markdown",
   "id": "37141e17",
   "metadata": {
    "slideshow": {
     "slide_type": "fragment"
    }
   },
   "source": [
    "$$ i + 2i = 3 i$$"
   ]
  },
  {
   "cell_type": "markdown",
   "id": "c61c5cef",
   "metadata": {
    "slideshow": {
     "slide_type": "fragment"
    }
   },
   "source": [
    "$$i^3  = i*i*i = i^2 * i = -i$$"
   ]
  },
  {
   "cell_type": "markdown",
   "id": "e85b1c6e",
   "metadata": {
    "slideshow": {
     "slide_type": "fragment"
    }
   },
   "source": [
    "$$\\frac{i}{i} = 1$$"
   ]
  },
  {
   "cell_type": "markdown",
   "id": "c3e72455",
   "metadata": {
    "slideshow": {
     "slide_type": "slide"
    }
   },
   "source": [
    "Observar que el *inverso multiplicativo*  $1/i$ también es $-i$\n",
    "\n",
    "\\begin{eqnarray}\n",
    "\\frac{i}{i}  &=&   1 \\nonumber\\\\\n",
    "i (-i) &=& - i^2  =  1\n",
    "\\end{eqnarray}"
   ]
  },
  {
   "cell_type": "markdown",
   "id": "e18e53ed",
   "metadata": {
    "slideshow": {
     "slide_type": "fragment"
    }
   },
   "source": [
    "por tanto hay una identificación importante\n",
    "\n",
    "$$ i^{-1} = \\frac{1}{i} = -i $$"
   ]
  },
  {
   "cell_type": "markdown",
   "id": "cef2441e",
   "metadata": {
    "slideshow": {
     "slide_type": "fragment"
    }
   },
   "source": [
    "<b>Resumen</b>: la solución al problema planteado consiste en <i>extender</i> el cuerpo de los números reales ${\\mathbb R}$ al de los complejos ${\\mathbb C}$ que, ahora, incluyen el número $i$\n",
    " "
   ]
  },
  {
   "cell_type": "markdown",
   "id": "a2024d42",
   "metadata": {
    "slideshow": {
     "slide_type": "slide"
    }
   },
   "source": [
    "## Formas cartesiana y polar"
   ]
  },
  {
   "cell_type": "markdown",
   "id": "ab44c422",
   "metadata": {
    "slideshow": {
     "slide_type": "slide"
    }
   },
   "source": [
    "### Forma Cartesiana\n",
    "\n",
    "\n",
    "\n",
    "\n",
    "\n",
    " Un *número complejo*, $z \\in {\\mathbb C}$, se representa en *forma cartesiana*  mediante <u>dos \n",
    " números reales $x,y\\in {\\mathbb R}$</u> \n",
    "<br>\n",
    "\n",
    "$$\n",
    "z = x + \\i y   ~~~~ \\hbox{donde}~~~ \n",
    "\\left\\{\\begin{array}{cl} x &\\hbox{es la }   parte~ real\\\\\n",
    "y & \\hbox{es la } parte~imaginaria\n",
    "\\end{array}\n",
    "\\right.\n",
    "$$\n"
   ]
  },
  {
   "cell_type": "markdown",
   "id": "3e530624",
   "metadata": {
    "slideshow": {
     "slide_type": "fragment"
    }
   },
   "source": [
    "Un número complejo se representa  en el **plano complejo**: la parte real  en el *eje horizontal*, y la parte imaginaria  en el *eje vertical*\n"
   ]
  },
  {
   "cell_type": "markdown",
   "id": "c720e14a",
   "metadata": {
    "slideshow": {
     "slide_type": "slide"
    }
   },
   "source": [
    "**Numeros complejos en python:**\n",
    "en *python*, el número  imaginario $\\i$ se representa con la letra j.  Añadiendo +0j convertimos un <i>float</i> en un <i>complex</i>\n"
   ]
  },
  {
   "cell_type": "code",
   "execution_count": 5,
   "id": "663a3177",
   "metadata": {
    "slideshow": {
     "slide_type": "fragment"
    }
   },
   "outputs": [
    {
     "name": "stdout",
     "output_type": "stream",
     "text": [
      "True\n"
     ]
    }
   ],
   "source": [
    "print(isinstance(1+0j,complex))"
   ]
  },
  {
   "cell_type": "code",
   "execution_count": 6,
   "id": "8371787b",
   "metadata": {
    "slideshow": {
     "slide_type": "slide"
    }
   },
   "outputs": [
    {
     "name": "stdout",
     "output_type": "stream",
     "text": [
      "z=x+iy= (-3+1j)\n"
     ]
    },
    {
     "data": {
      "image/png": "[encoded data removed]",
      "text/plain": [
       "<Figure size 800x800 with 1 Axes>"
      ]
     },
     "metadata": {},
     "output_type": "display_data"
    }
   ],
   "source": [
    "'''Forma cartesiana''' \n",
    "z = -3 + 1j\n",
    "\n",
    "'''Extraemos las partes real e imaginaria'''\n",
    "x=z.real\n",
    "y=z.imag\n",
    "print('z=x+iy=',x + 1j*y)\n",
    "\n",
    "''' Representación en el plano complejo '''\n",
    "'''esta función está en archivo: macro_CURSO.py  '''\n",
    "''' Representación en el plano complejo '''\n",
    "tQ.plot_2D_plane(left=-int(abs(x))-1,right=int(abs(x))+1,up=int(abs(y))+1,down=-int(abs(y))-1)\n",
    "tQ.draw_vector(x,y,'b')\n"
   ]
  },
  {
   "cell_type": "markdown",
   "id": "e7edf077",
   "metadata": {
    "slideshow": {
     "slide_type": "slide"
    }
   },
   "source": [
    "### Forma Polar"
   ]
  },
  {
   "cell_type": "markdown",
   "id": "8a2e431c",
   "metadata": {
    "slideshow": {
     "slide_type": "slide"
    }
   },
   "source": [
    "><b> Teorema:</b> (Fórmula de Euler).\n",
    " Dado un ángulo $\\theta \\in (0,2\\pi)$ las dos expresiones siguientes son equivalentes\n",
    "<br>\n",
    "<br>\n",
    "$$\n",
    "\\cos\\theta + i \\sin \\theta = e^{i\\theta} \n",
    "$$\n",
    "\n",
    "\n",
    "<details>\n",
    "<summary><p style=\"text-align:right ; color:grey\"> >>Demostración\n",
    "</p></summary>\n",
    "<br>\n",
    "La demostración de la Fórmula de Euler viene de expandir ambos miembros en serie de Taylor en torno a $\\theta = 0$ y comprobar que ambas series son iguales\n",
    "<br> \n",
    "\\begin{array}{rcl}\n",
    "e^{i\\theta} &=& 1 + \\i\\theta + \\frac{1}{2}(\\i\\theta)^2 + \\frac{1}{3!}(\\i\\theta)^3+\\, ... \\\\\n",
    "    &=& 1 -\\frac{1}{2}\\theta^2 ~+~ ... ~+~ \\i \\left(\\theta - \\frac{1}{3!} \\theta^3+ \\, ...\\right) \\\\\n",
    "    &=& \\cos \\theta  + i \\sin \\theta \n",
    "\\end{array} \n",
    "</details>\n"
   ]
  },
  {
   "cell_type": "markdown",
   "id": "8ce4b410",
   "metadata": {
    "slideshow": {
     "slide_type": "slide"
    }
   },
   "source": [
    "Un número complejo $z$ se puede representar también  en **forma polar**\n",
    "<br> \n",
    "\n",
    "$$\n",
    "z = \\rho e^{i\\theta} = \\rho (\\cos\\theta + \\i \\sin\\theta)  \n",
    "$$\n",
    "\n",
    "Los números reales $\\rho$ y $\\theta$ se denominan *módulo* y *fase*.\n"
   ]
  },
  {
   "cell_type": "markdown",
   "id": "3ab5efa7",
   "metadata": {
    "slideshow": {
     "slide_type": "fragment"
    }
   },
   "source": [
    "Las fases $\\theta$ y $\\theta+ 2\\pi$ representan el *mismo* número complejo\n",
    "<br>\n",
    "\n",
    "$$\n",
    "z = \\rho e^{i\\theta} = \\rho e^{i(\\theta + 2\\pi)} \n",
    "$$\n",
    "\n",
    "y ello se debe a que las funciones $\\cos \\theta$ y $\\sin\\theta$ son periódicas\n",
    "\n",
    "$$\n",
    "\\sin\\theta  = \\sin(\\theta + 2\\pi)~~~~~~~\\cos\\theta  = \\cos(\\theta +2\\pi)\n",
    "$$"
   ]
  },
  {
   "cell_type": "markdown",
   "id": "4a5d6738",
   "metadata": {
    "slideshow": {
     "slide_type": "slide"
    }
   },
   "source": [
    ">**Ejemplos:** \n",
    "Usar la forma polar es útil en situaciones en las que aparecen productos y potencias del número $i$\n",
    ">\n",
    ">\\begin{eqnarray}\n",
    "i &=&  e^{i\\pi/2} \\\\ \\rule{0mm}{8mm}\n",
    "-1 &=& i^2 = e^{i\\pi} \\\\ \\rule{0mm}{8mm}\n",
    "i &=& e^{3i\\pi/2} =e^{-i\\pi/2} \\\\  \\rule{0mm}{8mm}\n",
    "i^i &=& (e^{i\\pi/2})^i = e^{i^2 \\pi/2} = e^{-\\pi/2}  \\\\  \\rule{0mm}{8mm}\n",
    "i^{2+i} &=& (e^{i\\pi/2})^{(2+i)}= e^{i\\pi/2(2+i)} = e^{i\\pi} e^{-\\pi/2} = -e^{-\\pi/2}  \\rule{0mm}{8mm}\n",
    "\\end{eqnarray}"
   ]
  },
  {
   "cell_type": "markdown",
   "id": "15b43f18",
   "metadata": {
    "slideshow": {
     "slide_type": "slide"
    }
   },
   "source": [
    "### Conversión entre formas cartesiana y polar\n"
   ]
  },
  {
   "cell_type": "markdown",
   "id": "95eea850",
   "metadata": {
    "slideshow": {
     "slide_type": "fragment"
    }
   },
   "source": [
    "La conversión de la representación *polar a cartesiana* es muy sencilla\n",
    "gracias a las fórmula de Euler\n",
    "\n",
    "\n",
    "<br>\n",
    "\n",
    "$$\n",
    "z = r e^{i\\theta} = x + i y ~~~\\hbox{ con }  ~~~\\left\\{\\begin{array}{l} x=r \\cos \\theta \\\\ \\rule{0mm}{4mm} y = r\\sin \\theta\n",
    "\\end{array} \\right.\n",
    "$$\n",
    "\n",
    "<br>"
   ]
  },
  {
   "cell_type": "markdown",
   "id": "3d452b28",
   "metadata": {
    "slideshow": {
     "slide_type": "slide"
    }
   },
   "source": [
    "La conversión inversa, *de cartesiana a polar* es un poco más delicada. Formalmente sería\n",
    "\n",
    "<br>\n",
    "\n",
    "\n",
    "$$\n",
    "z = x + i y  = r e^{i\\theta} ~~~ \\hbox{ con } ~~~ \\left\\{\\begin{array}{l} r=\\sqrt{x^2+y^2} \\\\  \\rule{0mm}{4mm} \\theta = \\arctan(y/x)\n",
    "\\end{array} \\right.\n",
    "$$\n"
   ]
  },
  {
   "cell_type": "markdown",
   "id": "21c32e9d",
   "metadata": {
    "slideshow": {
     "slide_type": "slide"
    }
   },
   "source": [
    "A la hora de la verdad hay que fijar el signo de la función $\\arctan(y/x)$. La siguiente función examina esto mirando a los signos de $x$ y de $y$ para saber en qué cuadrante estamos."
   ]
  },
  {
   "cell_type": "code",
   "execution_count": 44,
   "id": "1b1ce76c",
   "metadata": {
    "slideshow": {
     "slide_type": "slide"
    }
   },
   "outputs": [],
   "source": [
    "'Conversión de Cartesianas a Polares'\n",
    "def cartes2polar(z):\n",
    "\n",
    "    y = z.imag\n",
    "    x = z.real\n",
    "    r = np.sqrt(x**2 + y**2)\n",
    "    \n",
    "    if r==0:\n",
    "        print('el número 0+i0 no admite representación polar')\n",
    "        th='indefinido'\n",
    "    elif x==0 and y>0: \n",
    "        th=np.pi/2\n",
    "    elif x==0 and y<0:\n",
    "        th=3*np.pi/2\n",
    "    elif x>0 and y>=0:\n",
    "        th=np.arctan(y/x)\n",
    "    elif x<0 and y>=0:\n",
    "        th=np.arctan(-y/x)+np.pi/2\n",
    "    elif x<0 and y<0:\n",
    "        th=np.arctan(y/x)+np.pi\n",
    "    elif x>0 and y<0:\n",
    "         th=np.arctan(-y/x)+3*np.pi/2.       \n",
    "            \n",
    "    return np.round(r,3),np.round(th,3)\n",
    "\n",
    "#el signo correcto también se puede conseguir usando la funcion np.arctan2(x,y)"
   ]
  },
  {
   "cell_type": "code",
   "execution_count": 45,
   "id": "1e57bd6b",
   "metadata": {},
   "outputs": [
    {
     "name": "stdout",
     "output_type": "stream",
     "text": [
      "r= 3.162  th= 0.322\n",
      "(3+1j)\n"
     ]
    }
   ],
   "source": [
    "'obtengamos la representación polar de z = 3+i'\n",
    "r,th = cartes2polar(3.+1.j)\n",
    "print('r=',r, ' th=', th)\n",
    "\n",
    "'a la inversa no es necesario definir ninguna función, ya que numpy directamente escribe un numero complejo en forma cartesiana'\n",
    "z = r*np.exp(1j*th)\n",
    "print(np.round(z,2))\n"
   ]
  },
  {
   "cell_type": "markdown",
   "id": "7d9ea72b",
   "metadata": {
    "slideshow": {
     "slide_type": "slide"
    }
   },
   "source": [
    "### Conjugacion compleja\n",
    " \n",
    "Todo número complejo, $z$, lleva *asociado* otro,  denominado el *complejo conjugado* $z^*$, que se obtiene cambiando $\\i \\to -\\i$\n",
    "<br>\n",
    "\n",
    "$$\n",
    "z = x+\\i y ~~~~\\leftrightarrow~~~~ z^* = x - \\i y \\hspace{2cm}\n",
    "$$\n",
    "<br>\n",
    "\n",
    "La conjugación compleja es una *involución* $\\Rightarrow (z^*)^* = z$ "
   ]
  },
  {
   "cell_type": "code",
   "execution_count": 14,
   "id": "bf3f2f3d",
   "metadata": {
    "slideshow": {
     "slide_type": "slide"
    }
   },
   "outputs": [
    {
     "name": "stdout",
     "output_type": "stream",
     "text": [
      "z = (3+1j)\n",
      "z*= (3-1j)\n"
     ]
    },
    {
     "data": {
      "image/png": "[encoded data removed]",
      "text/plain": [
       "<Figure size 800x800 with 1 Axes>"
      ]
     },
     "metadata": {},
     "output_type": "display_data"
    }
   ],
   "source": [
    "'''Conjugacion compleja'''\n",
    "z = 3 + 1j\n",
    "print('z =',z.real + 1j*z.imag)\n",
    "zc = z.conjugate()\n",
    "print('z*=',zc.real + 1j*zc.imag)\n",
    "\n",
    "''' Representación en el plano complejo '''\n",
    "tQ.plot_2D_plane(left=-int(abs(x))-1,right=int(abs(x))+1,up=int(abs(y))+1,down=-int(abs(y))-1)\n",
    "tQ.draw_vector(z.real,z.imag,'b')\n",
    "tQ.draw_vector(zc.real,zc.imag,vcolor='r')"
   ]
  },
  {
   "cell_type": "markdown",
   "id": "0724fa91",
   "metadata": {
    "slideshow": {
     "slide_type": "fragment"
    }
   },
   "source": [
    " En forma polar la *conjugación compleja* se obtiene <u>*cambiando el signo*</u> de la fase\n",
    "<br>\n",
    "\n",
    "$$\n",
    "z = \\rho e^{i\\theta} ~~\\longrightarrow ~~z^* = \\rho e^{-i\\theta} = \\rho \\cos\\theta - \\i \\rho \\sin\\theta \\hspace{4cm}\n",
    "$$"
   ]
  },
  {
   "cell_type": "code",
   "execution_count": 38,
   "id": "d3cf646f",
   "metadata": {
    "slideshow": {
     "slide_type": "slide"
    }
   },
   "outputs": [
    {
     "data": {
      "image/png": "[encoded data removed]",
      "text/plain": [
       "<Figure size 800x800 with 1 Axes>"
      ]
     },
     "metadata": {},
     "output_type": "display_data"
    }
   ],
   "source": [
    "'''Forma polar'''\n",
    "r=3.162\n",
    "th=0.322\n",
    "z = r*np.exp(th*1j)\n",
    "zc = r*np.exp(-th*1j)\n",
    "\n",
    "''' Dibujamos en el plano complejo '''\n",
    "tQ.plot_2D_plane(left=-int(abs(x))-1,right=int(abs(x))+1,up=int(abs(y))+1,down=-int(abs(y))-1)\n",
    "tQ.draw_vector(z.real,z.imag)\n",
    "tQ.draw_vector(zc.real,zc.imag,vcolor='r')"
   ]
  },
  {
   "cell_type": "markdown",
   "id": "2a5f3ca6",
   "metadata": {
    "slideshow": {
     "slide_type": "slide"
    }
   },
   "source": [
    "##  Operaciones básicas\n",
    "\n",
    "\n",
    "Los numeros complejos ${\\mathbb C}$ forman una estructura matemática denominada *cuerpo*. Esto  quiere decir que admiten dos operaciones *internas*: la **suma** y la **multiplicación**. Vamos a estudiarlas por separado\n",
    "\n"
   ]
  },
  {
   "cell_type": "markdown",
   "id": "27ee6e4a",
   "metadata": {
    "slideshow": {
     "slide_type": "skip"
    }
   },
   "source": [
    "### Suma\n",
    "\n",
    "En representación *cartesiana* se *suman las partes real e imaginaria por separado*\n",
    "\n",
    "<br>\n",
    "\n",
    "$$\n",
    "(a + \\i b) + (c + \\i d) = (a+c) + \\i (b+d)\\hspace{6cm}\n",
    "$$ \n",
    "\n",
    "<br>\n",
    "\n",
    "\n",
    "\n",
    "La resta es obvia, ya que $a,b,c,d$ pueden ser números negativos. \n"
   ]
  },
  {
   "cell_type": "code",
   "execution_count": 40,
   "id": "40c6a654",
   "metadata": {
    "scrolled": true,
    "slideshow": {
     "slide_type": "slide"
    }
   },
   "outputs": [
    {
     "name": "stdout",
     "output_type": "stream",
     "text": [
      "z1+z2= (3+6j)\n",
      "z1-z2= (-1+2j)\n",
      "************************************\n"
     ]
    },
    {
     "data": {
      "image/png": "[encoded data removed]",
      "text/plain": [
       "<Figure size 800x800 with 1 Axes>"
      ]
     },
     "metadata": {},
     "output_type": "display_data"
    }
   ],
   "source": [
    "'''Suma en cartesianas'''\n",
    "\n",
    "z1 = 1+4j\n",
    "z2 = 2+2j\n",
    "\n",
    "'''Suma y resta'''\n",
    "zs = z1+z2\n",
    "zd = z1-z2\n",
    "\n",
    "print('z1+z2=',zs)\n",
    "print('z1-z2=',zd)\n",
    "print('************************************')\n",
    "\n",
    "\n",
    "\n",
    "tQ.plot_2D_plane(left=-2,right=4,up=7,down=-1) #cambiar las dimensiones para que encuadrar la figura\n",
    "tQ.draw_vector(z1.real,z1.imag,'b')\n",
    "tQ.draw_vector(z2.real,z2.imag,'b')\n",
    "' representamos la suma como un vector rojo'\n",
    "tQ.draw_vector(zs.real,zs.imag,vcolor='r')\n",
    "' representamos la resta como un vector verde'\n",
    "tQ.draw_vector(zd.real,zd.imag,vcolor='g')\n"
   ]
  },
  {
   "cell_type": "markdown",
   "id": "eea2a57d",
   "metadata": {
    "slideshow": {
     "slide_type": "slide"
    }
   },
   "source": [
    "En *forma polar*, la suma de dos números complejos no admite ninguna simplificación, y deben transformarse primeramente a forma cartesiana, para sumarse. \n",
    "\n",
    "$$\n",
    "z + w = \\rho e^{i\\theta} + \\sigma e^{i\\phi} = (\\rho\\cos\\theta + \\sigma\\cos\\phi) + i(\\rho\\sin\\theta +  \\sigma\\sin\\phi) \\hspace{6cm}\n",
    "$$"
   ]
  },
  {
   "cell_type": "code",
   "execution_count": 9,
   "id": "fa6e396f",
   "metadata": {
    "run_control": {
     "marked": true
    },
    "slideshow": {
     "slide_type": "slide"
    }
   },
   "outputs": [
    {
     "name": "stdout",
     "output_type": "stream",
     "text": [
      "z1+z2= (3.3976+0.7941j)\n",
      "z1-z2= (1.8679+2.0825j)\n",
      "************************************\n"
     ]
    },
    {
     "data": {
      "image/png": "[encoded data removed]",
      "text/plain": [
       "<Figure size 800x800 with 1 Axes>"
      ]
     },
     "metadata": {},
     "output_type": "display_data"
    }
   ],
   "source": [
    "'python directamente escribe un numero complejo en forma cartesiana'\n",
    "z1 = 3*np.exp(1j*0.5)\n",
    "z2 = 1*np.exp(-1j*0.7)\n",
    "\n",
    "'''Suma y resta'''\n",
    "zs = z1+z2\n",
    "zd = z1-z2\n",
    "\n",
    "print('z1+z2=',np.round(zs,4))\n",
    "print('z1-z2=',np.round(zd,4))\n",
    "print('************************************')\n",
    "\n",
    "tQ.plot_2D_plane(left=-2,right=4,up=3,down=-1) #cambiar las dimensiones para que encuadrar la figura\n",
    "tQ.draw_vector(z1.real,z1.imag,'b')\n",
    "tQ.draw_vector(z2.real,z2.imag,'b')\n",
    "tQ.draw_vector(zs.real,zs.imag,vcolor='r')\n",
    "tQ.draw_vector(zd.real,zd.imag,vcolor='g')\n"
   ]
  },
  {
   "cell_type": "markdown",
   "id": "1ba4168e",
   "metadata": {
    "slideshow": {
     "slide_type": "slide"
    }
   },
   "source": [
    "###  Multiplicación \n",
    "\n",
    "\n",
    "\n",
    "En *forma cartesiana* la multiplicación es complicada, debiendo multiplicarse todos los factores entre sí, y\n",
    "teniendo en cuenta que $\\i^2= -1$\n",
    "\n",
    "$$\n",
    "(a + \\i b) (c + \\i d) =ac +  a\\i d +\\i bc +\\i^2 bd = (ab - bd) + \\i(ac + bd)\\hspace{6cm}\n",
    "$$ \n",
    "\n",
    "Para hallar el producto de dos números complejos $z=r e^{i\\theta}$ y $w=s e^{i\\phi}$ escritos en forma polar, se multiplican los módulos y se suman las fases\n",
    "\n",
    "$$\n",
    "z w = r e^{i\\theta} s e^{i\\phi} = rs\\,   e^{i(\\theta + \\phi)} \n",
    "$$"
   ]
  },
  {
   "cell_type": "code",
   "execution_count": 18,
   "id": "8b77ade7",
   "metadata": {
    "slideshow": {
     "slide_type": "slide"
    }
   },
   "outputs": [
    {
     "name": "stdout",
     "output_type": "stream",
     "text": [
      "z1*z2 =  (2.9402-0.596j)\n",
      "z1**3 =  (-722+103j)\n",
      "************************************\n"
     ]
    }
   ],
   "source": [
    "z1 = 3*np.exp(1j*0.5)\n",
    "z2 = 1*np.exp(-1j*0.7)\n",
    "'''Producto'''\n",
    "print('z1*z2 = ', np.round(z1*z2,4))\n",
    "print('z1**3 = ', np.round(pow(z1,6)))\n",
    "print('************************************')"
   ]
  },
  {
   "cell_type": "markdown",
   "id": "5f288cb5",
   "metadata": {
    "slideshow": {
     "slide_type": "slide"
    }
   },
   "source": [
    "### Valor absoluto\n",
    "\n",
    "El cuadrado de un número real $a\\in {\\mathbb R}$ es otro número real positivo $a^2 >0$. Ello nos permite definir\n",
    "el valor absoluto $|a| = \\sqrt{a^2}$ que es el mismo para $a$ y para $-a$."
   ]
  },
  {
   "cell_type": "markdown",
   "id": "d833fa41",
   "metadata": {
    "slideshow": {
     "slide_type": "fragment"
    }
   },
   "source": [
    "Esto no sucede con un número complejo $z$. $~$ En efecto,  \n",
    "\n",
    "$$z^2 = x^2 - y^2 +2\\i xy$$ \n",
    "\n",
    "es complejo.$~$ Sin embargo, el producto de un número por su conjugado es un número *real* y *positivo*\n",
    "\n",
    "$$\n",
    "z z^*  = (x + \\i y) (x-\\i y) = x^2 + y^2 >0\n",
    "$$\n"
   ]
  },
  {
   "cell_type": "markdown",
   "id": "21fa5f91",
   "metadata": {
    "slideshow": {
     "slide_type": "fragment"
    }
   },
   "source": [
    "Ello nos permite definir el **valor absoluto** de un número complejo\n",
    "\n",
    "$$\n",
    "|z| = \\sqrt{z z^*} = \\sqrt{x^2 + y^2}\n",
    "$$"
   ]
  },
  {
   "cell_type": "markdown",
   "id": "4dda6476",
   "metadata": {
    "slideshow": {
     "slide_type": "slide"
    }
   },
   "source": [
    "\n",
    "\n",
    "El *valor absoluto* de una fase es 1\n",
    "\n",
    "$$\n",
    "|e^{i\\theta}| = \\sqrt{ e^{i\\theta}   e^{-i\\theta}}=\\sqrt{ e^{i(\\theta-\\theta)}}=\\sqrt{e^0} = 1\n",
    "$$\n"
   ]
  },
  {
   "cell_type": "markdown",
   "id": "85b50397",
   "metadata": {
    "slideshow": {
     "slide_type": "fragment"
    }
   },
   "source": [
    "El *valor absoluto* de un número complejo coincide con el *módulo*  de la forma polar\n",
    "\n",
    "$$\n",
    "|z| = \\sqrt{zz^*} = \\sqrt{\\rho e^{i\\theta} \\rho e^{-i\\theta}}=\\sqrt{\\rho^2} = \\rho\n",
    "$$"
   ]
  },
  {
   "cell_type": "markdown",
   "id": "bb456441",
   "metadata": {
    "slideshow": {
     "slide_type": "fragment"
    }
   },
   "source": [
    "> <b>Ejercicio:</b>\n",
    "     Verifica el valor absoluto de un producto de números complejos es el producto de sus valores absolutos"
   ]
  },
  {
   "cell_type": "markdown",
   "id": "45a3432e",
   "metadata": {
    "slideshow": {
     "slide_type": "slide"
    }
   },
   "source": [
    "### División\n",
    "\n",
    "\n",
    "Al igual que la multiplicación, en forma cartesiana, la **división** no es simple. Sea $z = a+ \\i b$ y $w=c+\\i d$ \n",
    "<br>\n",
    "<br>\n",
    "\n",
    "$$\n",
    "\\frac{z}{w} = \\frac{z}{w}\\frac{w^*}{w^*} = \\frac{( a+ \\i b)(c-\\i d)}{|w|^2} = \\frac{ac+bd + \\i(bc-ad)}{c^2+d^2}  = \\frac{ac+bd}{c^2+d^2} +\\i\\frac{bc-ad}{c^2+d^2}\n",
    "$$\n",
    "\n"
   ]
  },
  {
   "cell_type": "markdown",
   "id": "eeb9b132",
   "metadata": {
    "slideshow": {
     "slide_type": "fragment"
    }
   },
   "source": [
    "En forma polar la división es tan sencilla como la multiplicación. Se toma el  cociente de los módulos y la resta de las fases\n",
    "\n",
    "$$\n",
    "\\frac{z}{w} = \\frac{|z| e^{i\\theta}}{|w| e^{i\\phi}} = \\frac{|z|}{|w|}\n",
    "e^{i(\\theta-\\phi)}\n",
    "$$"
   ]
  },
  {
   "cell_type": "code",
   "execution_count": 52,
   "id": "263e8258",
   "metadata": {
    "slideshow": {
     "slide_type": "slide"
    }
   },
   "outputs": [
    {
     "name": "stdout",
     "output_type": "stream",
     "text": [
      "abs(z1)= 4.123105625617661\n",
      "|z1|= 4.123105625617661\n",
      "rho= 4.123\n",
      "************************************\n",
      "z1/z2= (1.25+0.75j)\n",
      "comprobación z1/z2= (1.25+0.75j)\n"
     ]
    }
   ],
   "source": [
    "'''Valor absoluto'''\n",
    "print('abs(z1)=',abs(z1))\n",
    "print('|z1|=',np.sqrt(z1*z1.conjugate()).real)\n",
    "print('rho=',cartes2polar(z1)[0])\n",
    "print('************************************')\n",
    "\n",
    "\n",
    "'''Division'''\n",
    "print('z1/z2=',np.round(z1/z2,5))\n",
    "print('comprobación z1/z2=', np.round(z1*z2.conjugate()/(z2*z2.conjugate()),5))"
   ]
  },
  {
   "cell_type": "markdown",
   "id": "b4683858",
   "metadata": {
    "slideshow": {
     "slide_type": "slide"
    }
   },
   "source": [
    "##  Ejemplos y propiedades\n"
   ]
  },
  {
   "cell_type": "markdown",
   "id": "ab24cefc",
   "metadata": {
    "slideshow": {
     "slide_type": "-"
    }
   },
   "source": [
    "### Sumas nulas\n",
    "\n",
    "En <u>muchas ocasiones</u> nos encontraremos la siguiente representación del numero cero (complejo) $ 0 \\equiv 0 + \\i 0$\n",
    "\n",
    "$$\n",
    "\\sum_{k=0}^{N-1} e^{2\\pi \\i k/N} =   e^{2\\pi \\i\\, 0/N} +  e^{2\\pi \\i\\, 1/N}  +~...~ +   e^{2\\pi \\i\\, (N-2)/N}+   e^{2\\pi \\i\\, (N-1)/N} ~=~  ~0\n",
    " $$\n",
    "\n",
    "Para convencerse de que esta identidad es cierta vamos a representar los números complejos y su suma. Puedes cambiar $N$ y también multiplicar por un módulo constante\n",
    " "
   ]
  },
  {
   "cell_type": "code",
   "execution_count": 58,
   "id": "352392bd",
   "metadata": {
    "code_folding": [
     9
    ],
    "slideshow": {
     "slide_type": "slide"
    }
   },
   "outputs": [
    {
     "name": "stdout",
     "output_type": "stream",
     "text": [
      "(-0+0j)\n"
     ]
    },
    {
     "data": {
      "image/png": "[encoded data removed]",
      "text/plain": [
       "<Figure size 600x600 with 1 Axes>"
      ]
     },
     "metadata": {},
     "output_type": "display_data"
    }
   ],
   "source": [
    "# cambiar el número N\n",
    "N=9\n",
    "rho=1\n",
    "\n",
    "''' Creamos las fases'''\n",
    "lista_de_fases=np.exp(2*np.pi*1j*np.array(range(N))/N)\n",
    "#print('lista de fases =', np.round(lista_de_fases,2))\n",
    "\n",
    "\n",
    "''' Dibujamos los números complejos '''\n",
    "tQ.plot_2D_plane(fsize=(6,6))\n",
    "for vec in rho*lista_de_fases:\n",
    "    tQ.draw_vector(x=vec.real,y=vec.imag)\n",
    "\n",
    "#draw_unit_circle()\n",
    "plt.gca().add_patch(plt.Circle((0.,0.),1.,color='black',fill=False)) \n"
   ]
  },
  {
   "cell_type": "code",
   "execution_count": 59,
   "id": "099c3e48",
   "metadata": {},
   "outputs": [
    {
     "name": "stdout",
     "output_type": "stream",
     "text": [
      "(-0+0j)\n"
     ]
    }
   ],
   "source": [
    "''' Calculamos la suma. '''\n",
    "#print(lista_de_fases)\n",
    "print(np.round(sum(rho*lista_de_fases),10))\n"
   ]
  },
  {
   "cell_type": "markdown",
   "id": "921fe856",
   "metadata": {},
   "source": [
    "Sea  $j$ un número entero por el que <u>multiplicamos todas las fases</u>\n",
    "\n",
    "- Si  con $1\\leq j \\leq N-1$ el resultado es el mismo\n",
    "\n",
    "$$\n",
    "\\sum_{k=0}^{N-1} e^{2\\pi \\i jk/N} =   e^{2\\pi \\i\\, j0/N} +  e^{2\\pi \\i\\, j/N}  +~...~ +   e^{2\\pi \\i\\, j(N-2)/N}+   e^{2\\pi \\i\\, j(N-1)/N} ~=~  ~0\n",
    " $$\n"
   ]
  },
  {
   "cell_type": "code",
   "execution_count": 69,
   "id": "80485526",
   "metadata": {},
   "outputs": [
    {
     "name": "stdout",
     "output_type": "stream",
     "text": [
      "0j\n"
     ]
    },
    {
     "data": {
      "image/png": "[encoded data removed]",
      "text/plain": [
       "<Figure size 600x600 with 1 Axes>"
      ]
     },
     "metadata": {},
     "output_type": "display_data"
    }
   ],
   "source": [
    "# cambiar el número N\n",
    "N=9\n",
    "rho=1\n",
    "j=5\n",
    "''' Creamos las fases'''\n",
    "lista_de_fases=np.exp(2*j*np.pi*1j*np.array(range(N))/N)\n",
    "#print('lista de fases =', np.round(lista_de_fases,2))\n",
    "\n",
    "\n",
    "''' Dibujamos los números complejos '''\n",
    "tQ.plot_2D_plane(fsize=(6,6))\n",
    "for vec in rho*lista_de_fases:\n",
    "    tQ.draw_vector(x=vec.real,y=vec.imag)\n",
    "\n",
    "#draw_unit_circle()\n",
    "plt.gca().add_patch(plt.Circle((0.,0.),1.,color='black',fill=False)) \n",
    "\n",
    "''' Calculamos la suma. '''\n",
    "#print(lista_de_fases)\n",
    "print(np.round(sum(rho*lista_de_fases),10))\n"
   ]
  },
  {
   "cell_type": "markdown",
   "id": "3bd97a3c",
   "metadata": {},
   "source": [
    "- Sin embargo si $j = 0, N, 2N,... = 0\\,\\hbox{mod} N$, entonces la suma no se anula y su valor es igual a $N$. \n",
    "\n",
    "Tomemos por ejemplo $j=N$ \n",
    "\n",
    "$$\n",
    "\\sum_{k=0}^{N-1} e^{2\\pi \\i (3N) k/N} = \\sum_{k=0}^{N-1} e^{2\\pi \\i  k}  =  \\sum_{k=0}^{N-1} 1 =~  ~N\n",
    " $$\n"
   ]
  },
  {
   "cell_type": "code",
   "execution_count": 71,
   "id": "cc193454",
   "metadata": {
    "scrolled": true
   },
   "outputs": [
    {
     "name": "stdout",
     "output_type": "stream",
     "text": [
      "(9-0j)\n"
     ]
    },
    {
     "data": {
      "image/png": "[encoded data removed]",
      "text/plain": [
       "<Figure size 600x600 with 1 Axes>"
      ]
     },
     "metadata": {},
     "output_type": "display_data"
    }
   ],
   "source": [
    "# cambiar el número N\n",
    "N=9\n",
    "rho=1\n",
    "j=N\n",
    "''' Creamos las fases'''\n",
    "lista_de_fases=np.exp(2*j*np.pi*1j*np.array(range(N))/N)\n",
    "#print('lista de fases =', np.round(lista_de_fases,2))\n",
    "\n",
    "\n",
    "''' Dibujamos los números complejos '''\n",
    "tQ.plot_2D_plane(fsize=(6,6))\n",
    "for vec in rho*lista_de_fases:\n",
    "    tQ.draw_vector(x=vec.real,y=vec.imag)\n",
    "\n",
    "#draw_unit_circle()\n",
    "plt.gca().add_patch(plt.Circle((0.,0.),1.,color='black',fill=False)) \n",
    "\n",
    "''' Calculamos la suma. '''\n",
    "#print(lista_de_fases)\n",
    "print(np.round(sum(rho*lista_de_fases),10))\n"
   ]
  },
  {
   "cell_type": "markdown",
   "id": "06e85eb3",
   "metadata": {},
   "source": [
    "Una manera de resumir todos los casos anteriores en una sola expresión involucra la función  **Delta  de Kronecker**: $\\delta_{ij}$\n",
    "\n",
    "$$\n",
    "\\delta_{ij} = \\left\\{ \\begin{array}{rcl} 0 & \\hbox{si} & i\\neq 0 \\\\ 1 & \\hbox{si} & i = j \\end{array} \\right.\n",
    "$$"
   ]
  },
  {
   "cell_type": "markdown",
   "id": "db8bdda2",
   "metadata": {},
   "source": [
    "Con ella podemos enunciar el siguiente resultado "
   ]
  },
  {
   "cell_type": "markdown",
   "id": "2d29b6ff",
   "metadata": {},
   "source": [
    ">**Teorema :**\n",
    "<br>\n",
    "$$\n",
    "\\frac{1}{N}\\sum_{k=0}^{N-1} e^{2\\pi \\i \\, j k/N} =  \\delta_{j\\, 0{\\rm mod} N}\n",
    "$$\n",
    "</p>\n"
   ]
  },
  {
   "cell_type": "markdown",
   "id": "42914050",
   "metadata": {},
   "source": [
    "- Es decir, la suma es sólo 1 si $j = 0$mod N.\n",
    "\n",
    "- Esta expresión es de uso muy frecuente en algortimia pues refleja la interferencia destructiva de las superposiciones cuánticas.\n"
   ]
  },
  {
   "cell_type": "markdown",
   "id": "664afb29",
   "metadata": {},
   "source": [
    "### Desigualdad triangular\n"
   ]
  },
  {
   "cell_type": "markdown",
   "id": "15d23e30",
   "metadata": {},
   "source": [
    "El módulo de la suma de dos números complejos verifica que\n",
    "\n",
    "$$\n",
    "| z+w| \\leq |z| + |w| \n",
    "$$\n",
    "\n",
    "Donde la igualdad sólo se verifica cuando ambos números complejos son paralelos en el plano complejo. "
   ]
  },
  {
   "cell_type": "code",
   "execution_count": 72,
   "id": "5612ab3d",
   "metadata": {},
   "outputs": [
    {
     "name": "stdout",
     "output_type": "stream",
     "text": [
      "|z1|+|z2|= 4.919349550499537\n",
      "|z1+z2|= 4.8645696489522345\n"
     ]
    },
    {
     "data": {
      "image/png": "[encoded data removed]",
      "text/plain": [
       "<Figure size 800x800 with 1 Axes>"
      ]
     },
     "metadata": {},
     "output_type": "display_data"
    }
   ],
   "source": [
    "'''Comprueba que sólo cuando z1 y z2 son paralelos, se satura la desigualdad triangular'''\n",
    "\n",
    "'''Suma en cartesianas'''\n",
    "z1 = 1+2j\n",
    "\n",
    "ang = 0.3 #el ángulo entre z1 y z2\n",
    "z2 = z1*(1.2*np.exp(1j*ang))\n",
    "\n",
    "'''Suma '''\n",
    "zs = z1+z2\n",
    "\n",
    "print('|z1|+|z2|=',abs(z1)+abs(z2))\n",
    "print('|z1+z2|=',abs(z1+z2))\n",
    "\n",
    "\n",
    "tQ.plot_2D_plane(left=-2,right=4,up=7,down=-1) #cambiar las dimensiones para que encuadrar la figura\n",
    "tQ.draw_vector(z1.real,z1.imag,'b')\n",
    "tQ.draw_vector(z2.real,z2.imag,'b')\n",
    "tQ.draw_vector(zs.real,zs.imag,vcolor='r')"
   ]
  }
 ],
 "metadata": {
  "hide_input": false,
  "kernelspec": {
   "display_name": "Python 3 (ipykernel)",
   "language": "python",
   "name": "python3"
  },
  "language_info": {
   "codemirror_mode": {
    "name": "ipython",
    "version": 3
   },
   "file_extension": ".py",
   "mimetype": "text/x-python",
   "name": "python",
   "nbconvert_exporter": "python",
   "pygments_lexer": "ipython3",
   "version": "3.9.18"
  },
  "toc": {
   "base_numbering": 1,
   "nav_menu": {},
   "number_sections": true,
   "sideBar": true,
   "skip_h1_title": false,
   "title_cell": "Números Complejos",
   "title_sidebar": "Contenidos",
   "toc_cell": true,
   "toc_position": {
    "height": "calc(100% - 180px)",
    "left": "10px",
    "top": "150px",
    "width": "282.509px"
   },
   "toc_section_display": true,
   "toc_window_display": true
  },
  "varInspector": {
   "cols": {
    "lenName": 16,
    "lenType": 16,
    "lenVar": 40
   },
   "kernels_config": {
    "python": {
     "delete_cmd_postfix": "",
     "delete_cmd_prefix": "del ",
     "library": "var_list.py",
     "varRefreshCmd": "print(var_dic_list())"
    },
    "r": {
     "delete_cmd_postfix": ") ",
     "delete_cmd_prefix": "rm(",
     "library": "var_list.r",
     "varRefreshCmd": "cat(var_dic_list()) "
    }
   },
   "types_to_exclude": [
    "module",
    "function",
    "builtin_function_or_method",
    "instance",
    "_Feature"
   ],
   "window_display": false
  }
 },
 "nbformat": 4,
 "nbformat_minor": 5
}
