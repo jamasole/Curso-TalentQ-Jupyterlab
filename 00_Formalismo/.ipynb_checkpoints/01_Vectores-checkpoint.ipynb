{
 "cells": [
  {
   "cell_type": "markdown",
   "id": "d8431b4b",
   "metadata": {
    "toc": true
   },
   "source": [
    "<h1>Table of Contents<span class=\"tocSkip\"></span></h1>\n",
    "<div class=\"toc\"><ul class=\"toc-item\"><li><span><a href=\"#Los-Vectores\" data-toc-modified-id=\"Los-Vectores-1\"><span class=\"toc-item-num\">1&nbsp;&nbsp;</span>Los Vectores</a></span><ul class=\"toc-item\"><li><span><a href=\"#Espacio-Vectorial\" data-toc-modified-id=\"Espacio-Vectorial-1.1\"><span class=\"toc-item-num\">1.1&nbsp;&nbsp;</span>Espacio Vectorial</a></span><ul class=\"toc-item\"><li><span><a href=\"#Base\" data-toc-modified-id=\"Base-1.1.1\"><span class=\"toc-item-num\">1.1.1&nbsp;&nbsp;</span>Base</a></span></li><li><span><a href=\"#Vectores:-definición-intrínseca\" data-toc-modified-id=\"Vectores:-definición-intrínseca-1.1.2\"><span class=\"toc-item-num\">1.1.2&nbsp;&nbsp;</span>Vectores: definición intrínseca</a></span></li><li><span><a href=\"#Subespacios-Vectoriales\" data-toc-modified-id=\"Subespacios-Vectoriales-1.1.3\"><span class=\"toc-item-num\">1.1.3&nbsp;&nbsp;</span>Subespacios Vectoriales</a></span></li></ul></li><li><span><a href=\"#Espacio-de-Hilbert\" data-toc-modified-id=\"Espacio-de-Hilbert-1.2\"><span class=\"toc-item-num\">1.2&nbsp;&nbsp;</span>Espacio de Hilbert</a></span><ul class=\"toc-item\"><li><span><a href=\"#Conjugación-adjunta\" data-toc-modified-id=\"Conjugación-adjunta-1.2.1\"><span class=\"toc-item-num\">1.2.1&nbsp;&nbsp;</span>Conjugación adjunta</a></span></li><li><span><a href=\"#Producto-Escalar\" data-toc-modified-id=\"Producto-Escalar-1.2.2\"><span class=\"toc-item-num\">1.2.2&nbsp;&nbsp;</span>Producto Escalar</a></span></li><li><span><a href=\"#Norma\" data-toc-modified-id=\"Norma-1.2.3\"><span class=\"toc-item-num\">1.2.3&nbsp;&nbsp;</span>Norma</a></span></li><li><span><a href=\"#Distancia\" data-toc-modified-id=\"Distancia-1.2.4\"><span class=\"toc-item-num\">1.2.4&nbsp;&nbsp;</span>Distancia</a></span></li></ul></li><li><span><a href=\"#Bases-ortonormales\" data-toc-modified-id=\"Bases-ortonormales-1.3\"><span class=\"toc-item-num\">1.3&nbsp;&nbsp;</span>Bases ortonormales</a></span></li></ul></li></ul></div>"
   ]
  },
  {
   "cell_type": "markdown",
   "id": "da0f67e0",
   "metadata": {
    "slideshow": {
     "slide_type": "slide"
    }
   },
   "source": [
    "# Los Vectores\n",
    "\n",
    "$ \\newcommand{\\bra}[1]{\\langle #1|} $\n",
    "$ \\newcommand{\\ket}[1]{|#1\\rangle} $\n",
    "$ \\newcommand{\\braket}[2]{\\langle #1|#2\\rangle} $\n",
    "$ \\newcommand{\\i}{{\\color{blue} i}} $ \n",
    "$ \\newcommand{\\Hil}{{\\cal H}} $\n",
    "$ \\newcommand{\\Lin}{\\hbox{Lin}} $\n",
    "$ \\newcommand{\\R}{{\\mathbb R}} $\n",
    "$ \\newcommand{\\C}{{\\mathbb C}} $\n",
    "$ \\newcommand{\\V}{{ V}} $\n"
   ]
  },
  {
   "cell_type": "code",
   "execution_count": 1,
   "id": "cdee0489",
   "metadata": {
    "slideshow": {
     "slide_type": "-"
    }
   },
   "outputs": [],
   "source": [
    "import sys\n",
    "sys.path.append('../')\n",
    "import macro_tQ as tQ\n",
    "\n",
    "import numpy as np\n",
    "import scipy.linalg as la\n",
    "from IPython.display import display,Markdown,Latex\n",
    "import matplotlib.pyplot as plt\n",
    "from qiskit.tools.visualization import array_to_latex\n",
    "import copy "
   ]
  },
  {
   "cell_type": "markdown",
   "id": "48701357",
   "metadata": {
    "slideshow": {
     "slide_type": "skip"
    }
   },
   "source": [
    "## Espacio Vectorial "
   ]
  },
  {
   "cell_type": "markdown",
   "id": "d3387898",
   "metadata": {},
   "source": [
    "Comenzaremos definiendo los vectores de una forma operativa, y después haremos hincapié en su carácter abstracto."
   ]
  },
  {
   "cell_type": "markdown",
   "id": "0f51488c",
   "metadata": {
    "slideshow": {
     "slide_type": "skip"
    }
   },
   "source": [
    ">**Definición**: *Vector*\n",
    "La forma operacional de definir  un *vector de dimensión* $N$ consiste en lista (columna) de $N$ números complejos \n",
    "<br>\n",
    "<br>\n",
    "$$\n",
    "|u\\rangle = \\begin{pmatrix} {u_1}\\\\ {u_2}\\\\ \\vdots \\\\ {u_N} \n",
    "\\end{pmatrix}\n",
    "$$\n"
   ]
  },
  {
   "cell_type": "markdown",
   "id": "097c2add",
   "metadata": {
    "slideshow": {
     "slide_type": "skip"
    }
   },
   "source": [
    "- El símbolo $\\ket{u}$  *representa* al vector y se denomina **ket** en la *notación de Dirac*. Se trata simplemente de una notación alternativa a la usual, donde un vector se representa en la forma ${\\bf u}$ o también $\\vec u$ \n",
    "\n",
    "\n",
    "\n",
    "- Los números complejos $u_i \\in {\\mathbb C}$ con $\\, i=1,...,N$ se denominan **componentes** del vector $\\ket{u}$\n"
   ]
  },
  {
   "cell_type": "markdown",
   "id": "2deaa11e",
   "metadata": {
    "slideshow": {
     "slide_type": "skip"
    }
   },
   "source": [
    "><b> Definición: </b> <i> Espacio Vectorial</i>\n",
    "<br>    \n",
    "    la colección de <i>todos los posibles vectores</i> de $N$ componentes,  con las  propiedades de suma y multiplicación forman un <b>espacio vectorial</b>, $\\V$ de dimension compleja $N$\n"
   ]
  },
  {
   "cell_type": "markdown",
   "id": "e239bbfb",
   "metadata": {
    "slideshow": {
     "slide_type": "skip"
    }
   },
   "source": [
    "es decir,  en un espacio vectorial  tenemos dos operaciones posibles: \n",
    "\n",
    "- sumar dos vectores  \n",
    "$$\n",
    " |u\\rangle + \\ket{v}~ =~\\, \n",
    "\\begin{pmatrix} {u_1}+v_1\\\\ {u_2}+v_2\\\\ \\vdots \\\\ {u_N}+v_n \\end{pmatrix} ~= ~\\ket{w}\n",
    "$$\n",
    "- multiplicar un vector por número complejo $\\lambda\\in {\\mathbb C}$\n",
    "<br>\n",
    "<br>\n",
    "\n",
    "$$\n",
    " \\lambda|u\\rangle ~ =~   \\begin{pmatrix} {\\lambda u_1}\\\\ {\\lambda u_2}\\\\ \\vdots \\\\ {\\lambda u_N} \\end{pmatrix} ~\\equiv~\\ket{\\lambda u}\n",
    "$$"
   ]
  },
  {
   "cell_type": "code",
   "execution_count": 5,
   "id": "d6e8f76a",
   "metadata": {
    "slideshow": {
     "slide_type": "skip"
    }
   },
   "outputs": [
    {
     "data": {
      "text/latex": [
       "$$\n",
       "\n",
       "\\begin{bmatrix}\n",
       "1 + i  \\\\\n",
       " 2 - 3 i  \\\\\n",
       " \\end{bmatrix}\n",
       "$$"
      ],
      "text/plain": [
       "<IPython.core.display.Latex object>"
      ]
     },
     "metadata": {},
     "output_type": "display_data"
    }
   ],
   "source": [
    "' qiskit tiene un visualizador de matrices bastante nítido'\n",
    "from qiskit.tools.visualization import array_to_latex\n",
    "\n",
    "uket=np.array([[1 + 1.j],[2-3*1.j]])\n",
    " \n",
    "display(array_to_latex(uket))\n"
   ]
  },
  {
   "cell_type": "markdown",
   "id": "246749e1",
   "metadata": {
    "slideshow": {
     "slide_type": "skip"
    }
   },
   "source": [
    "- todo vector de $V$ se denota mediante el símbolo $\\ket{v}$ menos uno, el **elemento neutro** que se escribe como $0$.\n",
    "<br>\n",
    "<br>\n",
    "- La existencia de un **elemento opuesto** y de un elemento neutro son dos propiedades importantes en un espacio vectorial\n",
    "\n",
    "\\begin{eqnarray}\n",
    "\\ket{v} + 0 &=& \\ket{v} \\nonumber\\\\\n",
    "\\ket{v} + \\ket{\\hbox{-}v} &=& \\ket{v}-\\ket{v} = 0 \\nonumber\\\\\n",
    "\\end{eqnarray}"
   ]
  },
  {
   "cell_type": "markdown",
   "id": "2450c65b",
   "metadata": {
    "slideshow": {
     "slide_type": "skip"
    }
   },
   "source": [
    "<b>Nota</b>:     \n",
    "\n",
    "La <b>dimensión</b> es igual al número de cantidades (<i>grados de libertad</i>) que debemos fijar para especificar un vector. \n",
    "Pero $N$ números complejos equivalen a $2N$ números reales. \n",
    "\n",
    "   \n",
    "Entonces, podemos decir que:  la <i>dimensión compleja</i> de un espacio vectorial complejo  $\\V$ es $N$, o que su <i>dimensión real</i> es $2N$ \n",
    "<br>\n",
    "<br>\n",
    "$$\n",
    "{\\rm dim}_{\\mathbb C} \\V = N ~~~~\\Longleftrightarrow ~~~   {\\rm dim}_{\\mathbb R} \\V = 2N \n",
    "$$\n"
   ]
  },
  {
   "cell_type": "markdown",
   "id": "cfb489a9",
   "metadata": {
    "slideshow": {
     "slide_type": "slide"
    }
   },
   "source": [
    "### Base "
   ]
  },
  {
   "cell_type": "markdown",
   "id": "97993616",
   "metadata": {
    "slideshow": {
     "slide_type": "skip"
    }
   },
   "source": [
    "Es evidente que el vector $\\ket{v}$ definido anteriormente se puede expandir de la siguiente manera\n",
    "<br>\n",
    "\n",
    "\n",
    "<br>\n",
    "\n",
    "$$\n",
    "\\ket{u} ~=~ \\begin{pmatrix} {u_1} \\\\ {u_2} \\\\{u_3}\\\\ \\vdots \n",
    "\\\\ \\,{u_{N-1}}\\, \\\\ {u_{N}} \\end{pmatrix}~= =~ {u_1} \\begin{pmatrix} 1 \\\\ 0 \\\\ 0\\\\ \\vdots \n",
    "\\\\ 0 \\\\ 0 \\end{pmatrix} \\,+\\,{u_2} \\begin{pmatrix} 0 \\\\ 1 \\\\ 0\\\\ \\vdots \\\\ 0 \\\\ 0 \\end{pmatrix}~+~ ... ~+ ~\n",
    "{u_{N-1}} \\begin{pmatrix} 0 \\\\ 0 \\\\ 0\\\\\\vdots \n",
    "\\\\ 1 \\\\ 0 \\end{pmatrix}+ \n",
    "\\,{u_N}\\,  \\begin{pmatrix} 0 \\\\ 0 \\\\0\\\\ \\vdots \n",
    "\\\\ 0 \\\\ 1 \\end{pmatrix}\n",
    "$$\n",
    "\n",
    "<br>\n"
   ]
  },
  {
   "cell_type": "markdown",
   "id": "35b98edc",
   "metadata": {
    "slideshow": {
     "slide_type": "skip"
    }
   },
   "source": [
    "Esta notación se vuelve inmanejable cuando $N$ se hace muy grande. Sin embargo, la notación de Dirac equivalente es muy concisa. Definamos la siguiente colección  $\\{ e_i\\}$ de vectores \n",
    "\n",
    "<br>\n",
    "\n",
    "$$\n",
    "|1\\rangle \\sim \\begin{pmatrix} 1 \\\\ 0 \\\\ 0\\\\ \\vdots \n",
    "\\\\ 0 \\\\ 0 \\end{pmatrix}~~~~\n",
    "~~~|2\\rangle \\sim \\begin{pmatrix} 0 \\\\ 1 \\\\ 0\\\\ \\vdots \n",
    "\\\\ 0 \\\\ 0 \\end{pmatrix}~~~~~~~~~\n",
    "\\cdots ~~~~~~~~\n",
    "~~|{N-1}\\rangle \\sim \\begin{pmatrix} 0 \\\\ 0 \\\\ 0\\\\\\vdots \n",
    "\\\\ 1 \\\\ 0 \\end{pmatrix}~~~~\n",
    "~~|N\\rangle \\sim \\begin{pmatrix} 0 \\\\ 0 \\\\0\\\\ \\vdots \n",
    "\\\\ 0 \\\\ 1 \\end{pmatrix}\n",
    "$$\n",
    "<br>\n"
   ]
  },
  {
   "cell_type": "markdown",
   "id": "0ec66287",
   "metadata": {},
   "source": [
    "Entonces simplemente\n",
    "$$\n",
    "\\ket{u} ~=~ {u_1} |1 \\rangle + {u_2} | 2\\rangle +... + {u_{ N}}|{ N}\\rangle~=~ \\sum_{i=1}^N {u_ i} |i\\rangle \n",
    "$$\n"
   ]
  },
  {
   "cell_type": "markdown",
   "id": "a971ec3e",
   "metadata": {},
   "source": [
    "Lo único que hemos hecho es representar el vector $\\ket{u}$ en una base. Vamos a formalizar esto."
   ]
  },
  {
   "cell_type": "markdown",
   "id": "e6a1f05e",
   "metadata": {
    "slideshow": {
     "slide_type": "-"
    }
   },
   "source": [
    "><b> Definición: </b> $~$*Base*\n",
    "$~$   \n",
    "en un espacio vectorial $V$ de dimensión $N$ una <b>base</b> es una colección $\\{\\ket{e_1},...,\\ket{e_N}\\}$ de $N$ vectores  <i>linealmente independientes</i>\n",
    "</div>    \n",
    "\n",
    "\n"
   ]
  },
  {
   "cell_type": "markdown",
   "id": "8b5ed917",
   "metadata": {},
   "source": [
    " Cualquier vector $\\ket{v}\\in V$ que no sea el elemento neutro $\\ket{v}\\neq 0$,  se puede expresar como una <i>combinación lineal</i> de  los vectores de una base\n",
    "<br>\n",
    "<br>\n",
    "$$\n",
    "\\ket{v} = \\sum_{i=1}^N v_i \\ket{e_i} ~=~ v_1\\ket{e_1} \\,+\\, v_2\\ket{e_2}\\, +\\, ...\\, +\\, v_N \\ket{e_N}\n",
    "$$  \n",
    "<br>\n",
    "Los coeficientes $v_i$ son las **componentes** de $\\ket{v}$ **en la base dada** $ \\{ \\ket{e_i} \\}$.\n"
   ]
  },
  {
   "cell_type": "markdown",
   "id": "ebad6a49",
   "metadata": {},
   "source": [
    "**Nota:**  los símbolos $e_i$ son *cualquier coleccón de etiquetan* que sirva para distinguir entre los $N$ estados de la base. En el ejemplo anterior hemos tomado $e_i  = i \\in (1,...,N)$.\n",
    "\n",
    "Por ejemplo, con $N=4$ podríamos usar también notación binaria\n",
    "\n",
    "$$\n",
    "\\ket{e_0} = \\ket{0} = \\ket{00}~~~~~~,~~~~~~\\ket{e_1} = \\ket{1} = \\ket{01}~~~~~~,~~~~~~\\ket{e_2} = \\ket{2} = \\ket{10}~~~~~~,~~~~~~\\ket{e_3} = \\ket{3} = \\ket{11}\n",
    "$$"
   ]
  },
  {
   "cell_type": "markdown",
   "id": "45808943",
   "metadata": {
    "slideshow": {
     "slide_type": "skip"
    }
   },
   "source": [
    "Podemos usar la clase **Statevector** de *qiskit* para tener una expansión en la base $\\{\\ket{e_i}=\\ket{b(i)}\\}$, donde $b(i)$ es la representación binaria del índice $i$. Por ejemplo $b(3) = 11$."
   ]
  },
  {
   "cell_type": "code",
   "execution_count": 3,
   "id": "a68ad21a",
   "metadata": {
    "slideshow": {
     "slide_type": "skip"
    }
   },
   "outputs": [
    {
     "data": {
      "text/latex": [
       "$$\n",
       "\n",
       "\\begin{bmatrix}\n",
       "1 + i  \\\\\n",
       " 2 - 3 i  \\\\\n",
       " 2 + 2 i  \\\\\n",
       " -1 - i  \\\\\n",
       " \\end{bmatrix}\n",
       "$$"
      ],
      "text/plain": [
       "<IPython.core.display.Latex object>"
      ]
     },
     "metadata": {},
     "output_type": "display_data"
    },
    {
     "data": {
      "text/latex": [
       "$$(1 + i) |00\\rangle+(2 - 3 i) |01\\rangle+(2 + 2 i) |10\\rangle+(-1 - i) |11\\rangle$$"
      ],
      "text/plain": [
       "<IPython.core.display.Latex object>"
      ]
     },
     "execution_count": 3,
     "metadata": {},
     "output_type": "execute_result"
    }
   ],
   "source": [
    "from qiskit.quantum_info import Statevector\n",
    "uket=np.array([[ 1.+1.j], [ 2.-3.j],[ 2.+2.j],[-1.-1.j]])\n",
    "display(array_to_latex(uket))\n",
    "\n",
    "Statevector(uket).draw('latex')"
   ]
  },
  {
   "cell_type": "markdown",
   "id": "1ca0a4d4",
   "metadata": {},
   "source": [
    "### Vectores: definición intrínseca\n",
    "\n",
    "La definición de vector que hemos introducido antes está asociada a una base concreta, en la cuál, los números $v_i$ representan *las componentes* de dicho vector en esa base.\n",
    "\n",
    "Sin embargo un vector es un objeto abstracto, que admite <u>una representación distinta en cada base</u>. Para ellos debemos comenzar por hablar de las distintas bases. "
   ]
  },
  {
   "cell_type": "markdown",
   "id": "2cfce470",
   "metadata": {
    "slideshow": {
     "slide_type": "slide"
    }
   },
   "source": [
    "**Cambio de base**\n",
    "\n",
    "En un espacio vectorial de dimensión finita $N$, existen *infinitas* bases  .\n",
    "Todas ellas sirven para representar un vector arbitrario.\n"
   ]
  },
  {
   "cell_type": "markdown",
   "id": "6c978165",
   "metadata": {},
   "source": [
    "Consideremos dos bases \n",
    "$\\{\\ket{e_i}\\}$ y $\\{\\ket{\\tilde e_j}\\}$ donde $ i,j = 1,...,N$.\n",
    "Por ser bases, <u>un vector cualquier admitirá una representación</u> en cada una de ellas\n",
    "<br>\n",
    "<br>\n",
    "$$~~\\ket{v}  = \\sum_{i} \\color{blue}{v_i} \\color{blue}{\\ket{e_i}} = \\sum_j \\color{red}{\\tilde v_j} \\color{magenta}{\\ket{\\tilde e_j}}$$\n",
    "\n",
    "<br>\n",
    "<br>\n",
    "<div>\n",
    "<img src=\"figuras/Descomp_ortogonal.png\" width=\"30%\" style='margin:auto'/>\n",
    "</div>\n",
    "<br>\n",
    "<br>\n"
   ]
  },
  {
   "cell_type": "markdown",
   "id": "cd22398f",
   "metadata": {},
   "source": [
    "Las listas de componentes  $v_i$ y $\\tilde v_i$ contienen *la misma información*, puesto que representan al mismo vector $\\ket{v}$, cada una en una base\n",
    "\n",
    "Por tanto: debe ser posible entonces encontrar la *traducción* de una lista de valores a la otra.\n",
    "\n",
    "Es evidente que este traductor debe *depender* de la relación que guardan ambas bases $\\{\\ket{e_i}\\}$ y $\\{\\ket{\\tilde e_i}\\}$  entre sí"
   ]
  },
  {
   "cell_type": "markdown",
   "id": "9138b38c",
   "metadata": {
    "slideshow": {
     "slide_type": "fragment"
    }
   },
   "source": [
    "Por ser bases, cualquier *elemento* (vector) <u>de una</u> se puede expresar como una *combinación lineal de elementos*  <u>de la otra</u>. Por ejemplo \n",
    "\n",
    "$$\n",
    "\\ket{\\tilde e_j} = \\sum_{i=1}^N C_{ i j} \\ket{e_i} ~~~~~~~j=1,..., N\n",
    "$$\n",
    "\n",
    "Los coefficientes  $C_{ i j}\\in {\\mathbb C}$ constituyen la **matriz de cambio de base**\n",
    "\n"
   ]
  },
  {
   "cell_type": "markdown",
   "id": "510fe837",
   "metadata": {},
   "source": [
    "Notar que de los subíndices de $C_{ij}$\n",
    "\n",
    "- el índice $i$ está sumado con los elementos de la base\n",
    "\n",
    "- el índice $j$ es una etiqueta que recuerda que estamos expandiendo el vector $\\ket{\\tilde e_j}$"
   ]
  },
  {
   "cell_type": "markdown",
   "id": "f85f42bf",
   "metadata": {
    "slideshow": {
     "slide_type": "skip"
    }
   },
   "source": [
    "<b>Ejemplo</b>: Sea la matriz de coeficientes es \n",
    "\n",
    "$$\n",
    "C_{ij} = \\begin{pmatrix} 1 & 1 \\\\ i & -i \\end{pmatrix} =  \\begin{pmatrix} C_{11} & C_{12} \\\\ C_{21} & C_{22} \\end{pmatrix}\\, ,\n",
    "$$\n",
    "\n",
    "Entonces la expresión $\\ket{\\tilde e_j} = \\sum_{i=1}^N C_{ i j} \\ket{e_i}$ en este caso relaciona las dos bases en la forma siguiente \n",
    "\n",
    "\\begin{eqnarray}\n",
    "\\ket{\\tilde e_1} &=& C_{11}\\ket{e_1}  + C_{21}\\ket{e_2}  =  \\ket{e_1} + i\\ket{e_2}\\nonumber\\\\ \\rule{0mm}{8mm}\n",
    "\\ket{\\tilde e_2} &=& C_{12}\\ket{e_1}  + C_{22}\\ket{e_2}=\\ket{e_1} - i\\ket{e_2} \\nonumber\n",
    "\\end{eqnarray}\n",
    "\n",
    "\n",
    "El cambio de base, se puede escribir como una multiplicación de matrices colocando los vectores en una fila\n",
    "\n",
    "$$\n",
    "\\big(\\ket{\\tilde e_1},\\ket{\\tilde e_2}\\big) = \\big(\\ket{e_1},\\ket{e_2}\\big) \\, \\begin{pmatrix} 1 & 1 \\\\ i & -i \\end{pmatrix} = \\big(\\ket{e_1} + i\\ket{e_2}, \\ket{e_1}-i\\ket{e_2} \\big)\n",
    "$$"
   ]
  },
  {
   "cell_type": "markdown",
   "id": "17030dbd",
   "metadata": {
    "slideshow": {
     "slide_type": "skip"
    }
   },
   "source": [
    "<b>Nota</b>: la forma en que están sumados los índices \n",
    "<br>\n",
    "$$\\ket{\\tilde e_j} = \\sum_{\\color{blue}{i=1}}^{\\color{blue}{N}} C_{ \\color{blue}{i} j} \\ket{e_\\color{blue}{i}}$$\n",
    "<br>\n",
    "Esto hace que, si queremos escribir esta ecuación en notación matricial,  debamos poner los vectores en una fila\n",
    "    \n",
    "$$\n",
    "\\begin{pmatrix} \\ket{\\tilde e_1} & \\cdots & \\ket{\\tilde e_N} \\end{pmatrix} = \n",
    "\\begin{pmatrix} \\ket{ e_\\color{blue}{1}} & \\cdots & \\ket{e_\\color{blue}{N}}\\end{pmatrix}\n",
    "\\begin{pmatrix} C_{\\color{blue}{1}1} & \\cdots & C_{\\color{blue}{1}N} \\\\ \\vdots & \\ddots & \\vdots \\\\ C_{\\color{blue}{N}1} & \\cdots & C_{\\color{blue}{N}N} \\end{pmatrix}\n",
    "$$\n",
    "<br>"
   ]
  },
  {
   "cell_type": "markdown",
   "id": "07bda4d6",
   "metadata": {
    "slideshow": {
     "slide_type": "slide"
    }
   },
   "source": [
    "Ahora podemos obtener el *diccionario* entre componentes $v_i$ y $\\tilde v_i$, a partir de la  matriz de cambio de base\n",
    "<br>\n",
    "<br>\n",
    "\n",
    "\\begin{eqnarray}\n",
    "\\ket{v}  ~= ~ \\sum_{i} v_i \\ket{e_i} &~=~& \\sum_j \\tilde v_j \\ket{\\tilde e_j} \\nonumber\\\\\n",
    "&~=~&  \\sum_j \\tilde v_j \\left( \\sum_{i} C_{ij} \\ket{e_i}\\right) \\nonumber \\\\\n",
    "&~=~&  \\sum_{j}\\sum_{i} \\tilde v_j   C_{ij} \\ket{e_i} \\nonumber \\\\\n",
    "&~=~& \\sum_i \\left( \\sum_j C_{ij} \\tilde v_j \\right) \\ket{e_i}  \\nonumber \\\\\n",
    "\\end{eqnarray}"
   ]
  },
  {
   "cell_type": "markdown",
   "id": "4d6ed2d6",
   "metadata": {
    "slideshow": {
     "slide_type": "slide"
    }
   },
   "source": [
    "Comparando obtenemos la relación de coeficientes \n",
    "\n",
    "$$\n",
    "v_i = \\sum_{j} C_{i\\color{black}{j}} \\tilde v_{\\color{black}{j}}\n",
    "$$\n",
    "\n",
    "Esta expresión devuelve las componentes  $v_i$ de un vector $\\ket{v}$ en la base $\\{ \\ket{e_i}\\}$ suponiendo que son conocidas las $\\tilde v_i$ en la base $\\{ \\ket{\\tilde e_i} \\}$"
   ]
  },
  {
   "cell_type": "markdown",
   "id": "3768c4b7",
   "metadata": {
    "slideshow": {
     "slide_type": "skip"
    }
   },
   "source": [
    "<b>Nota</b>:\n",
    "    \n",
    "1. la forma en que están sumados los índices hace que, en notación matricial esta operación se represente como sigue\n",
    "\n",
    "$$\n",
    "\\begin{pmatrix} v_1\\\\ \\vdots \\\\ v_n\\end{pmatrix} = \n",
    "\\begin{pmatrix} C_{11} & \\cdots & C_{1n} \\\\ \\vdots & \\ddots & \\vdots \\\\ C_{n1} & \\cdots & C_{nn} \\end{pmatrix}\n",
    "\\begin{pmatrix} \\tilde v_1\\\\ \\vdots \\\\ \\tilde v_n\\end{pmatrix}\n",
    "$$\n",
    "   \n",
    "<br>    \n",
    "    \n",
    "2.  la misma matriz $C$, que lleva $\\ket{e_i} \\to \\ket{\\tilde e_i}$, lleva $\\tilde v_j \\to v_j$"
   ]
  },
  {
   "cell_type": "markdown",
   "id": "4974eab9",
   "metadata": {},
   "source": [
    "Un vector es un objeto abstracto, un elemento de un espacio vectorial. La definición que dimos al principio es fácil de entender, pero conlleva la elección implícita de una base. En cada base un vector se representa con un conjunto de componentes diferentes"
   ]
  },
  {
   "cell_type": "markdown",
   "id": "842183db",
   "metadata": {},
   "source": [
    "<b>Ejemplo</b>: (continuación)\n",
    "\n",
    "Vamos a hacer un test de consistencia con vectores que conocemos en ambas bases. \n",
    "Escojamos por ejemplo $\\ket{v} = \\ket{\\tilde e_1}$. Las componentes $\\tilde v_i$ de este vector en la base $\\{\\ket{\\tilde e_i}\\}$ son claramente $\\tilde v_i = \\begin{pmatrix}1\\\\0\\end{pmatrix}$. Entonces podemos obtener las componentes $v_i$ en la base $\\{\\ket{e_i}\\}$ siguiendo la regla encontrada\n",
    "\n",
    "$$\n",
    "\\ket{\\tilde e_1} \\sim  \\begin{pmatrix} \\tilde v_1\\\\ \\tilde v_2\\end{pmatrix} = \\begin{pmatrix} 1\\\\ 0 \\end{pmatrix} ~\\hbox{en la base} \\{\\ket{\\tilde e_i}\\}~~~~\\Longrightarrow ~~~~\\ket{\\tilde e_1} \\sim  \\begin{pmatrix} v_1\\\\v_2\\end{pmatrix} = \\begin{pmatrix} 1 & 1 \\\\ i & -i \\end{pmatrix}\\begin{pmatrix} 1\\\\ 0 \\end{pmatrix} = \\begin{pmatrix} 1\\\\ i \\end{pmatrix}~\\hbox{en la base} \\{\\ket{e_i}\\}\n",
    "$$\n",
    "\n",
    "y, análogamente, escogiendo $\\ket{v} = \\ket{\\tilde e_2}$\n",
    "\n",
    "$$\n",
    "\\ket{\\tilde e_2} \\sim  \\begin{pmatrix} \\tilde v_1\\\\ \\tilde v_2\\end{pmatrix} = \\begin{pmatrix} 0\\\\ 1 \\end{pmatrix} ~\\hbox{en la base} \\{\\ket{\\tilde e_i}\\}~~~~\\Longrightarrow ~~~~ \\ket{\\tilde e_2} \\sim \\begin{pmatrix} v_1\\\\v_2\\end{pmatrix} = \\begin{pmatrix} 1 & 1 \\\\ i & -i \\end{pmatrix}\\begin{pmatrix} 0\\\\ 1 \\end{pmatrix} = \\begin{pmatrix} 1\\\\ -i \\end{pmatrix} ~\\hbox{en la base} \\{\\ket{e_i}\\}\n",
    "$$\n"
   ]
  },
  {
   "cell_type": "markdown",
   "id": "c183072b",
   "metadata": {},
   "source": [
    "Si queremos obtener las componentes $\\tilde v_i$ a partir de las $v_i$, tenemos que invertir la matriz\n",
    "\n",
    "$$\n",
    "\\tilde v_i = \\sum_{j} C^{-1}_{i\\color{black}{j}} v_{\\color{black}{j}}\n",
    "$$\n"
   ]
  },
  {
   "cell_type": "markdown",
   "id": "6524360f",
   "metadata": {
    "slideshow": {
     "slide_type": "skip"
    }
   },
   "source": [
    "<b>Ejemplo</b>: (continuación)\n",
    "\n",
    "\n",
    "Continuando con el ejemplo anterior, invertir la matriz da\n",
    "$$\n",
    "C^{-1}_{ij} = \\frac{1}{2}\\begin{pmatrix} 1 &- i\\\\  1 & i \\end{pmatrix}\n",
    "$$\n",
    "\n",
    "lo cual nos permite encontrar las componentes de $\\ket{e_1}$ en la base $\\ket{\\tilde e_i}$\n",
    "\n",
    "$$\n",
    "\\ket{e_1} = \\ket{v} = \\begin{pmatrix} \\tilde v_1\\\\\\tilde v_2\\end{pmatrix} = \\frac{1}{2}\\begin{pmatrix} 1 &- i\\\\  1 & i \\end{pmatrix}\\begin{pmatrix} 1\\\\ 0 \\end{pmatrix} = \\frac{1}{2}\\begin{pmatrix} 1\\\\ 1 \\end{pmatrix}~~~~\\hbox{en la base} \\{\\ket{\\tilde e_i}\\}\n",
    "$$\n",
    "\n",
    "y también\n",
    "\n",
    "$$\n",
    "\\ket{e_2} = \\ket{v} = \\begin{pmatrix} \\tilde v_1\\\\\\tilde v_2\\end{pmatrix} = \\frac{1}{2}\\begin{pmatrix} 1 &- i\\\\  1 & i \\end{pmatrix}\\begin{pmatrix} 0\\\\ 1 \\end{pmatrix} = \\frac{1}{2}\\begin{pmatrix} -i\\\\ i \\end{pmatrix}~~~~\\hbox{en la base} \\{\\ket{\\tilde e_i}\\}\n",
    "$$\n",
    "\n"
   ]
  },
  {
   "cell_type": "markdown",
   "id": "0c6607bf",
   "metadata": {
    "slideshow": {
     "slide_type": "skip"
    }
   },
   "source": [
    "<b>Ejercicio:</b>$~$\n",
    "<br>\n",
    "considera las bases ortonormales $\\{\\ket{e_i}\\} = \\{\\ket{0},\\ket{1}\\}$ y $\\{\\ket{\\tilde e_i}\\} =\\{\\ket{+},\\ket{-}\\}$ donde $\\ket{\\pm} = \\frac{1}{\\sqrt{2}}(\\ket{0} \\pm \\ket{1})$. \n",
    "<br>\n",
    "Las componentes del vector $\\ket{u} \\sim \\begin{pmatrix}3\\\\1\\end{pmatrix}$ están escritas en la primera base. \n",
    "<br>\n",
    "<br>\n",
    "Halla las componentes de $\\ket{u}$ en la segunda."
   ]
  },
  {
   "cell_type": "markdown",
   "id": "40b169ab",
   "metadata": {},
   "source": [
    "###  Subespacios Vectoriales"
   ]
  },
  {
   "cell_type": "markdown",
   "id": "4f1dfc28",
   "metadata": {},
   "source": [
    "Seal $B = \\{\\ket{e_i}\\}_{i=1,...,N}$ la base  de un espacio vectorial $V$. Cualquier subconjunto de elementos de dicha base, $\\bar B\\subset B$, genera un *subespacio vectorial* $\\bar V \\subset V$\n",
    "\n"
   ]
  },
  {
   "cell_type": "markdown",
   "id": "bbdfa0a5",
   "metadata": {},
   "source": [
    "**Suma Directa**\n",
    "\n",
    "Por ejemplo, podemos dividir $B$ en dos subconjuntos complementarios\n",
    "\n",
    "$$B_1 =  \\{\\ket{e_i}\\}_{i=1,...,N_1}~~~~~~~,~~~~~~~~~  B_2 =  \\{\\ket{e_i}\\}_{i={N_1}+1,...,N}$$\n",
    "\n",
    "de forma que $B = B_1 \\cup B_2$\n"
   ]
  },
  {
   "cell_type": "markdown",
   "id": "7137955e",
   "metadata": {},
   "source": [
    "Cada subconjunto será base de un subespacio vectorial $B_1 \\to V_1$ y $B_2\\to V_2$ de forma que el espacio original será la **suma directa** de ambos\n",
    "\n",
    "$$\n",
    "V  = V_1  + V_2\n",
    "$$\n",
    "\n"
   ]
  },
  {
   "cell_type": "markdown",
   "id": "bc82550e",
   "metadata": {},
   "source": [
    "Cualquier vector $\\ket{u}\\in V$ se escribirá en la forma $\\ket{v} = \\ket{v_1} + \\ket{v_2}$ de vectores pertenecientes a cada subespacio."
   ]
  },
  {
   "cell_type": "markdown",
   "id": "b52fe3ed",
   "metadata": {},
   "source": [
    "Por construcción, la dimensión de una suma directa es la suma de las dimensiones $\\hbox{dim}\\, V = \\hbox{dim}\\, V_1 + \\hbox{dim}\\, V_2$"
   ]
  },
  {
   "cell_type": "markdown",
   "id": "32f1236f",
   "metadata": {
    "slideshow": {
     "slide_type": "slide"
    }
   },
   "source": [
    "## Espacio de Hilbert"
   ]
  },
  {
   "cell_type": "markdown",
   "id": "0d8812e4",
   "metadata": {
    "slideshow": {
     "slide_type": "skip"
    }
   },
   "source": [
    "###  Conjugación adjunta\n",
    "\n",
    "La operación *conjugación adjunta*,  $\\dagger$, es una *extensión* de la *conjugación compleja* de ${\\mathbb C}$ a todos los elementos  de $\\Hil$"
   ]
  },
  {
   "cell_type": "markdown",
   "id": "5b63c41e",
   "metadata": {
    "slideshow": {
     "slide_type": "skip"
    }
   },
   "source": [
    "Asociado a cada *ket* $\\ket{u}$, definimos un vector **adjunto**, o *bra* $\\bra{u}\\equiv\\left(\\ket{u}\\right)^\\dagger$,  que representamos mediante un vector fila con las componentes conjugadas complejas.  \n",
    "<br>\n",
    "<br>\n",
    "$$\n",
    "\\dagger \\,: \\quad\\,|u\\rangle = \\begin{pmatrix} {u_1}\\\\ {u_2}\\\\ \\vdots \\\\ {u_N} \n",
    "\\end{pmatrix} ~~~~~{\\rightarrow}~~~~~~ \\left(\\ket{u}\\right)^\\dagger \\equiv \\bra{u} =\\begin{pmatrix} {u_1^*} & {u_2^*} & \\cdots & {u_N^*}\n",
    "\\end{pmatrix}\n",
    "$$\n",
    "\n",
    "<hr />"
   ]
  },
  {
   "cell_type": "markdown",
   "id": "0c8798dc",
   "metadata": {
    "slideshow": {
     "slide_type": "skip"
    }
   },
   "source": [
    "Consistentemente encontramos para el producto de un vector por un número complejo $\\lambda$\n",
    "\n",
    "$$\n",
    "\\dagger \\,:\\quad\\,  \\lambda\\ket{u}=\\ket{\\lambda u} ~~~~~{\\rightarrow}~~~~~~ \\left(\\lambda\\ket{u}\\right)^\\dagger=\\lambda^*\\bra{u} = \\bra{u}\\lambda^* = \\bra{\\lambda u}\n",
    "$$\n",
    "\n",
    "ya que el producto de un vector por un número es conmutativo."
   ]
  },
  {
   "cell_type": "markdown",
   "id": "7c37fb73",
   "metadata": {
    "slideshow": {
     "slide_type": "skip"
    }
   },
   "source": [
    "Al igual que la conjugación compleja, la conjugación adjunta es una *involución*: su aplicación sucesiva devuelve el vector original\n",
    "\n",
    "$$\n",
    "(\\ket{u}^\\dagger)^\\dagger =\\bra{u}^\\dagger =  \\ket{u}\n",
    "$$\n",
    "\n",
    "es decir, $\\dagger^2 = I$, el operador identidad.\n"
   ]
  },
  {
   "cell_type": "code",
   "execution_count": null,
   "id": "480c365a",
   "metadata": {
    "slideshow": {
     "slide_type": "skip"
    }
   },
   "outputs": [],
   "source": [
    "\n",
    "'definamos un ket'\n",
    "uket=np.array([[1+1j],[2-3*1.j]])\n",
    "display(array_to_latex(uket))\n",
    "#print(uket.shape)\n",
    "\n",
    "'el bra asociado será una fila formada por las componentes conjugadas complejas'\n",
    "ubra=uket.conj().T\n",
    "\n",
    "display(array_to_latex(ubra))\n",
    "#print(ubra.shape)\n"
   ]
  },
  {
   "cell_type": "markdown",
   "id": "0a79e29a",
   "metadata": {
    "slideshow": {
     "slide_type": "fragment"
    }
   },
   "source": [
    "<div class=\"alert alert-block alert-info\",text-align:center>\n",
    "<p style=\"text-align: center;\"> <p style=\"text-align: left ;color: navy;\">  \n",
    "<b> Definición: </b> \n",
    "<br>\n",
    "Un <i> espacio de Hilbert</i>,  ${\\Hil}$, es un espacio vectorial\n",
    "dotado de una operación interna   denominada <i>producto escalar</i>.\n",
    "</div>"
   ]
  },
  {
   "cell_type": "markdown",
   "id": "4ae954db",
   "metadata": {
    "slideshow": {
     "slide_type": "slide"
    }
   },
   "source": [
    "### Producto Escalar\n",
    "<div class=\"alert alert-block alert-info\",text-align:center>\n",
    "<p style=\"text-align: center;\"> <p style=\"text-align: left ;color: navy;\">  \n",
    "<b> Definición: </b> \n",
    "$~$ el <i>producto escalar</i> de dos vectores $\\ket{u}$ y $\\ket{v}$ es un <i>número complejo</i> \n",
    "$a\\in{\\mathbb C}$    \n",
    "que denotamos <i>braket</i>\n",
    "<br>\n",
    "<br>\n",
    "$$a \\equiv \\braket{u}{v} $$\n",
    "<br>\n",
    "si verifica las dos propiedades siguiente\n",
    "<br>\n",
    "<br>\n",
    "- linealidad: $\\to \\bra{u}\\big(\\ket{v}+\\ket{w}\\big) = \\braket{u}{v} + \\braket{u}{w}$\n",
    "<br>\n",
    "<br>\n",
    "- hermiticidad: $\\to \\braket{v}{u} = \\braket{u}{v}^*$\n",
    "<br>\n",
    "<br>\n",
    "- positividad: $\\braket{u}{u} >0$ para todo ket $\\ket{u}\\neq 0$\n",
    "<br>\n",
    "<br>\n",
    "- no-degeneración: $~$ si  $\\braket{u}{v} = 0$ para todo $\\bra{u}$, entonces necesariamente $\\ket{v}=0$\n",
    "\n",
    "</div>"
   ]
  },
  {
   "cell_type": "markdown",
   "id": "58ffa1a7",
   "metadata": {
    "slideshow": {
     "slide_type": "slide"
    }
   },
   "source": [
    "Combinando ambas propiedades, el producto escalar también es lineal en el primer argumento\n",
    "\n",
    "$$(\\bra{u}+\\bra{w})\\ket{v} = \\braket{u}{v} + \\braket{w}{v}$$\n"
   ]
  },
  {
   "cell_type": "markdown",
   "id": "9faa8eb9",
   "metadata": {
    "slideshow": {
     "slide_type": "skip"
    }
   },
   "source": [
    "Notar que la propiedad de hermiticidad es precisamente la extensión de la conjugación compleja de la que hablábamos al definir la aplicación *adjunta*\n",
    "\n",
    "$$\n",
    "\\braket{u}{v}^* = \\braket{u}{v}^\\dagger  = \\braket{v}{u}\n",
    "$$\n",
    "\n",
    "Hemos usado que $\\bra{u}^\\dagger = \\ket{u}$ y  $\\ket{v}^\\dagger = \\bra{v}$ pero le hemos añadido una regla más: \n",
    "<u>*al tomar el mapa adjunto es necesario invertir el orden de los elementos*</u>\n",
    " \n",
    " De no haber seguido esta regla, habríamos obtenido un resultado **erróneo**\n",
    " \n",
    " $$\n",
    "\\braket{u}{v}^\\dagger \\to \\ket{u}\\bra{v} \n",
    " $$\n",
    " \n",
    "que no es ni siguiera un número complejo. "
   ]
  },
  {
   "cell_type": "markdown",
   "id": "84705ed8",
   "metadata": {
    "slideshow": {
     "slide_type": "slide"
    }
   },
   "source": [
    "### Norma\n",
    "\n",
    "Una **norma** es un una función real $\\|\\cdot\\| : \\Lin(\\Hil) \\to {\\mathbb R}$ con las siguientes propiedades \n",
    "\n",
    "\n",
    "- ser definida positiva $\\|A\\|\\geq 0$ con $\\| A\\| = 0 \\Leftrightarrow A= 0$\n",
    "<br>\n",
    "\n",
    "- homogeneidad $\\|\\lambda A\\| = |\\lambda| \\|A\\|$ \n",
    "<br>\n",
    "\n",
    "- triangle inequality. $\\|A+B\\| \\leq \\| A\\| + \\|B\\|$\n"
   ]
  },
  {
   "cell_type": "markdown",
   "id": "d1124fcb",
   "metadata": {
    "slideshow": {
     "slide_type": "slide"
    }
   },
   "source": [
    "Un espacio de Hilbert es, automáticamente un espacio normado. \n",
    "La positividad  del producto escalar de un vector por sí mismo  permite definir su *norma*.\n",
    "\n",
    "<br>\n",
    "\n",
    "$$\n",
    "\\|\\ket{v}\\| = \\sqrt{\\braket{v}{v}} \n",
    "$$\n",
    "<br>"
   ]
  },
  {
   "cell_type": "markdown",
   "id": "8a1551bd",
   "metadata": {
    "slideshow": {
     "slide_type": "skip"
    }
   },
   "source": [
    "<div class=\"alert alert-block alert-danger\">\n",
    "    <b>Notar</b>:\n",
    "\n",
    "- en contraste con la definición de producto escalar en espacios vectoriales reales, en el caso complejo se hace necesario conjugar el <i>bra</i>, para  que la <i>norma</i> de un vector sea siempre real y positiva. Esta es la idea detrás de la definición de la <i>conjugación adjunta</i>.\n",
    "\n",
    "\n",
    "- el único vector que tiene norma nula en un espacio de Hilbert es el elemento neutro\n",
    "$$\n",
    "\\braket{v}{v} = 0 ~~~ \\Leftrightarrow ~~~\\ket{v} = 0\n",
    "$$\n",
    "  \n",
    "</div>"
   ]
  },
  {
   "cell_type": "markdown",
   "id": "3753bd06",
   "metadata": {
    "slideshow": {
     "slide_type": "fragment"
    }
   },
   "source": [
    "### Distancia"
   ]
  },
  {
   "cell_type": "markdown",
   "id": "fc1d97a2",
   "metadata": {
    "slideshow": {
     "slide_type": "-"
    }
   },
   "source": [
    "Dados dos elementos $\\ket{u}$ y $\\ket{v}$ de $\\Hil$, podemos definir la *distancia* entre ellos como la *norma de su diferencia* \n",
    "<br>\n",
    "<br>\n",
    "$$\n",
    "d(\\rule{0mm}{5mm}\\ket{v},\\ket{w}) = \\| \\ket{v}-\\ket{w}\\|\n",
    "$$"
   ]
  },
  {
   "cell_type": "markdown",
   "id": "ffe89557",
   "metadata": {
    "slideshow": {
     "slide_type": "skip"
    }
   },
   "source": [
    "En particular \n",
    "\n",
    "-  $d(\\ket{v}, \\ket{w}) = d(\\ket{w}, \\ket{v})$ \n",
    "\n",
    "<br>\n",
    "\n",
    "- $d(\\ket{v}, \\ket{v}) = 0$"
   ]
  },
  {
   "cell_type": "markdown",
   "id": "2a2f1459",
   "metadata": {
    "slideshow": {
     "slide_type": "slide"
    }
   },
   "source": [
    "## Bases ortonormales"
   ]
  },
  {
   "cell_type": "markdown",
   "id": "2de04ee2",
   "metadata": {
    "slideshow": {
     "slide_type": "skip"
    }
   },
   "source": [
    "Hasta ahora, a los vectores de una base $\\{\\ket{e_i}\\}$ sólo se les ha pedido que sean $N$ vectores *linealmente independientes*, donde $N$ es la dimensión del espacio vectorial $\\V$:\n",
    "\n",
    "En un espacio de Hilbert $\\Hil$ tiene sentido calcular el producto escalar de dos elementos de una base. "
   ]
  },
  {
   "cell_type": "markdown",
   "id": "ed9185c0",
   "metadata": {
    "slideshow": {
     "slide_type": "-"
    }
   },
   "source": [
    "<div class=\"alert alert-block alert-info\",text-align:center>\n",
    "<p style=\"text-align: center;\"> <p style=\"text-align: left ;color: navy;\">  \n",
    "<b> Definición: </b> \n",
    "una base ortornormal se caracteriza por la siguiente lista de productos escalares\n",
    "<br>\n",
    "<br>\n",
    "$$\n",
    "\\braket{e_i}{e_j} = \\delta_{ij}\n",
    "$$\n",
    "</div>\n",
    "\n"
   ]
  },
  {
   "cell_type": "markdown",
   "id": "78c04284",
   "metadata": {
    "slideshow": {
     "slide_type": "skip"
    }
   },
   "source": [
    "\n",
    "\n",
    "- Por un lado, dos elementos distintos de la base son ortogonales $\\braket{e_1}{e_2} = 0$. \n",
    "<br>\n",
    "\n",
    "\n",
    "\n",
    "- Por otro, todos están normalizados  $ \\| e_i \\| = \\sqrt{\\braket{e_1}{e_1}} = \\sqrt{1} = 1$. \n"
   ]
  },
  {
   "cell_type": "markdown",
   "id": "91670624",
   "metadata": {
    "slideshow": {
     "slide_type": "skip"
    }
   },
   "source": [
    "En este curso siempre supondremos que las bases con las que trabajamos son ortonormales. Ello se justifica en base al siguiente teorema:\n",
    "<br>\n",
    "<br>\n",
    "<div class=\"alert alert-block alert-info\",text-align:center>\n",
    "<p style=\"text-align: center;\"> <p style=\"text-align: left ;color: navy;\">  \n",
    "    <b> Teorema: </b> <i>(Teorema de Gram-Schmidt) </i>\n",
    "<br>    \n",
    "Dada una base general $\\{\\braket{f_i}{f_j}\\neq \\delta_{ij}\\}$ de vectores no ortonormales, existe una procedimiento iterativo (de <a href=\"https://en.wikipedia.org/wiki/Gram%E2%80%93Schmidt_process\">Gram-Schmidt</a> ) para construir, a partir de ella, una nueva base ortonormal $\\{\\braket{e_i}{e_j}\\}=\\delta_{ij}$.\n",
    " </div>\n",
    "\n"
   ]
  },
  {
   "cell_type": "markdown",
   "id": "3c81d317",
   "metadata": {
    "slideshow": {
     "slide_type": "fragment"
    }
   },
   "source": [
    "\n",
    " Dado un vector  $\\ket{v} = \\sum_{i=1}^N v_i \\ket{e_i}$ escrito en una base ortonormal, la *componente* $v_i$ se extrae mediante la *proyección ortogonal*\n",
    "<br>\n",
    "<br>\n",
    "$$\n",
    "v_i =\\braket{e_i}{v}\n",
    "$$"
   ]
  },
  {
   "cell_type": "markdown",
   "id": "f4e790a6",
   "metadata": {
    "slideshow": {
     "slide_type": "skip"
    }
   },
   "source": [
    "<div class=\"alert alert-block alert-success\">\n",
    "<b>Ejercicio:</b>$~$\n",
    "verifica esta expresión\n",
    "</div>\n",
    "<details>\n",
    "<summary><p style=\"text-align:left\"> >> <i>Solución</i> </p></summary>\n",
    "\\begin{eqnarray}\n",
    "\\braket{e_k}{v} &=&  \\bra{e_k}\\left(\\sum_{j=1}^N v_j\\ket{e_j}\\right) \\nonumber\\\\\n",
    "                &=&  \\sum_{j=1}^N  v_j\\braket{e_k}{e_j}  \\nonumber\\\\\n",
    "                &=&  \\sum_{j=1}^N  v_j\\delta_{kj} = v_k\n",
    "\\end{eqnarray}\n",
    "</details>    "
   ]
  },
  {
   "cell_type": "markdown",
   "id": "d25e7f46",
   "metadata": {
    "slideshow": {
     "slide_type": "slide"
    }
   },
   "source": [
    "En una base\n",
    "ortonormal, calcular el valor de un *producto escalar* $a=\\braket{u}{v}$ es muy simple "
   ]
  },
  {
   "cell_type": "markdown",
   "id": "ba438378",
   "metadata": {
    "slideshow": {
     "slide_type": "fragment"
    }
   },
   "source": [
    "\\begin{eqnarray}\n",
    "a = \n",
    "\\braket{u}{v}&=& \\left(\\sum_{i}u_i^*\\bra{e_i}\\right)\\left(\\sum_{j}v_j\\ket{e_j} \\right) = \n",
    "\\sum_{ij} u_i^* v_j  \\braket{e_i}{e_j}\n",
    "=\n",
    "\\sum_{ij} u_i^* v_j \\delta_{ij} \n",
    "\\\\\n",
    "&=&\\sum_{i} u_i^* v_i =\n",
    "  \\begin{pmatrix}\n",
    "{u_1^*} & {u_2^*} & \\cdots & {u_N^*}\n",
    "\\end{pmatrix}\\begin{pmatrix} {v_1}\\\\ {v_2}\\\\ \\vdots \\\\ {v_N} \n",
    "\\end{pmatrix}\n",
    "\\end{eqnarray}\n",
    "\n",
    "<br>"
   ]
  },
  {
   "cell_type": "markdown",
   "id": "1a47a6f2",
   "metadata": {
    "slideshow": {
     "slide_type": "skip"
    }
   },
   "source": [
    "<div class=\"alert alert-block alert-danger\">\n",
    "    <b>Notar</b>: \n",
    "<br>\n",
    "la expresión de la izquierda  $a = \\braket{u}{v}$ <b>no hace referencia a ninguna base</b>. Por tanto, el resultado $\\sum_{i=1}^n{ u_i^* v_i} $ debe ser independiente de la base que utilizamos para representar estos vectores mediante sus componentes $u_i$ y $v_i$. \n",
    "    \n",
    "Subrayamos la importancia de esto: $\\braket{u}{v}$ puede ser calculado en la base más conveniente.\n",
    "</div>\n"
   ]
  },
  {
   "cell_type": "markdown",
   "id": "56d12083",
   "metadata": {
    "slideshow": {
     "slide_type": "slide"
    }
   },
   "source": [
    "<div class=\"alert alert-block alert-success\">\n",
    "<b>Explícaselo a tu ordenador:</b>\n",
    "<br>\n",
    "\n",
    "- escribe una función $braket(u,v)$ que calcule y devuelva la el producto escalar $\\braket{u}{v}$, y, con ella, una función $norm(u)$ que calcule la norma $\\| \\ket{u}\\|$.\n",
    "Verifica que $\\| \\ket{u}\\| = \\sqrt{\\braket{u}{u}}$ coincide con el resultado que da la función $np.linalg.norm$.\n",
    "\n",
    "- escribe una función $random\\_ket$ que genere un vector normalizado  $\\ket{v}\\in\\Hil$ de dimensión $d$.\n",
    "    \n",
    "    Añade ambas funciones al archivo <i>macrotQ.py</i>\n",
    "    \n",
    "</div>\n"
   ]
  },
  {
   "cell_type": "code",
   "execution_count": 4,
   "id": "2bf40235",
   "metadata": {},
   "outputs": [],
   "source": [
    "def braket(u,v):\n",
    "    return np.sum([u[i].conjugate()*v[i] for i in range(len(u))])"
   ]
  },
  {
   "cell_type": "code",
   "execution_count": 6,
   "id": "0cce547a",
   "metadata": {},
   "outputs": [
    {
     "ename": "AttributeError",
     "evalue": "'list' object has no attribute 'conjugate'",
     "output_type": "error",
     "traceback": [
      "\u001b[0;31m---------------------------------------------------------------------------\u001b[0m",
      "\u001b[0;31mAttributeError\u001b[0m                            Traceback (most recent call last)",
      "Cell \u001b[0;32mIn[6], line 1\u001b[0m\n\u001b[0;32m----> 1\u001b[0m \u001b[43mbraket\u001b[49m\u001b[43m(\u001b[49m\u001b[43m[\u001b[49m\u001b[43m[\u001b[49m\u001b[38;5;241;43m1\u001b[39;49m\u001b[43m]\u001b[49m\u001b[43m,\u001b[49m\u001b[43m[\u001b[49m\u001b[38;5;241;43m2\u001b[39;49m\u001b[43m]\u001b[49m\u001b[43m]\u001b[49m\u001b[43m,\u001b[49m\u001b[43m[\u001b[49m\u001b[43m[\u001b[49m\u001b[38;5;241;43m3\u001b[39;49m\u001b[43m]\u001b[49m\u001b[43m,\u001b[49m\u001b[43m[\u001b[49m\u001b[38;5;241;43m4\u001b[39;49m\u001b[43m]\u001b[49m\u001b[43m]\u001b[49m\u001b[43m)\u001b[49m\n",
      "Cell \u001b[0;32mIn[4], line 2\u001b[0m, in \u001b[0;36mbraket\u001b[0;34m(u, v)\u001b[0m\n\u001b[1;32m      1\u001b[0m \u001b[38;5;28;01mdef\u001b[39;00m \u001b[38;5;21mbraket\u001b[39m(u,v):\n\u001b[0;32m----> 2\u001b[0m     \u001b[38;5;28;01mreturn\u001b[39;00m np\u001b[38;5;241m.\u001b[39msum([u[i]\u001b[38;5;241m.\u001b[39mconjugate()\u001b[38;5;241m*\u001b[39mv[i] \u001b[38;5;28;01mfor\u001b[39;00m i \u001b[38;5;129;01min\u001b[39;00m \u001b[38;5;28mrange\u001b[39m(\u001b[38;5;28mlen\u001b[39m(u))])\n",
      "Cell \u001b[0;32mIn[4], line 2\u001b[0m, in \u001b[0;36m<listcomp>\u001b[0;34m(.0)\u001b[0m\n\u001b[1;32m      1\u001b[0m \u001b[38;5;28;01mdef\u001b[39;00m \u001b[38;5;21mbraket\u001b[39m(u,v):\n\u001b[0;32m----> 2\u001b[0m     \u001b[38;5;28;01mreturn\u001b[39;00m np\u001b[38;5;241m.\u001b[39msum([\u001b[43mu\u001b[49m\u001b[43m[\u001b[49m\u001b[43mi\u001b[49m\u001b[43m]\u001b[49m\u001b[38;5;241;43m.\u001b[39;49m\u001b[43mconjugate\u001b[49m()\u001b[38;5;241m*\u001b[39mv[i] \u001b[38;5;28;01mfor\u001b[39;00m i \u001b[38;5;129;01min\u001b[39;00m \u001b[38;5;28mrange\u001b[39m(\u001b[38;5;28mlen\u001b[39m(u))])\n",
      "\u001b[0;31mAttributeError\u001b[0m: 'list' object has no attribute 'conjugate'"
     ]
    }
   ],
   "source": [
    "braket([[1],[2]],[[3],[4]])"
   ]
  },
  {
   "cell_type": "markdown",
   "id": "d796d8db",
   "metadata": {},
   "source": [
    "<div class=\"alert alert-block alert-success\">\n",
    "<b>Ejercicio:</b>\n",
    "<br>\n",
    "\n",
    "</div>"
   ]
  }
 ],
 "metadata": {
  "celltoolbar": "Slideshow",
  "kernelspec": {
   "display_name": "Python 3 (ipykernel)",
   "language": "python",
   "name": "python3"
  },
  "language_info": {
   "codemirror_mode": {
    "name": "ipython",
    "version": 3
   },
   "file_extension": ".py",
   "mimetype": "text/x-python",
   "name": "python",
   "nbconvert_exporter": "python",
   "pygments_lexer": "ipython3",
   "version": "3.9.18"
  },
  "toc": {
   "base_numbering": 1,
   "nav_menu": {},
   "number_sections": true,
   "sideBar": true,
   "skip_h1_title": false,
   "title_cell": "Table of Contents",
   "title_sidebar": "Contents",
   "toc_cell": true,
   "toc_position": {},
   "toc_section_display": true,
   "toc_window_display": true
  },
  "varInspector": {
   "cols": {
    "lenName": 16,
    "lenType": 16,
    "lenVar": 40
   },
   "kernels_config": {
    "python": {
     "delete_cmd_postfix": "",
     "delete_cmd_prefix": "del ",
     "library": "var_list.py",
     "varRefreshCmd": "print(var_dic_list())"
    },
    "r": {
     "delete_cmd_postfix": ") ",
     "delete_cmd_prefix": "rm(",
     "library": "var_list.r",
     "varRefreshCmd": "cat(var_dic_list()) "
    }
   },
   "types_to_exclude": [
    "module",
    "function",
    "builtin_function_or_method",
    "instance",
    "_Feature"
   ],
   "window_display": false
  }
 },
 "nbformat": 4,
 "nbformat_minor": 5
}
