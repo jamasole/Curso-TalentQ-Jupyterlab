{
 "cells": [
  {
   "cell_type": "markdown",
   "id": "5cb046c7",
   "metadata": {
    "slideshow": {
     "slide_type": "slide"
    }
   },
   "source": [
    "# Operadores\n",
    "\n",
    "$ \\newcommand{\\bra}[1]{\\langle #1|} $\n",
    "$ \\newcommand{\\ket}[1]{|#1\\rangle} $\n",
    "$ \\newcommand{\\braket}[2]{\\langle #1|#2\\rangle} $\n",
    "$ \\newcommand{\\ketbra}[2]{| #1\\rangle  \\langle #2|} $\n",
    "$ \\newcommand{\\tr}{{\\rm tr}} $\n",
    "$ \\newcommand{\\i}{{\\color{blue} i}} $ \n",
    "$ \\newcommand{\\Hil}{{\\cal H}} $\n",
    "$ \\newcommand{\\V}{{\\cal V}} $\n",
    "$ \\newcommand{\\Lin}{\\hbox{Lin}} $\n"
   ]
  },
  {
   "cell_type": "code",
   "execution_count": 2,
   "id": "c7bd5d4c",
   "metadata": {
    "slideshow": {
     "slide_type": "-"
    }
   },
   "outputs": [],
   "source": [
    "import sys\n",
    "sys.path.append('../')\n",
    "import macro_tQ as tQ\n",
    "\n",
    "import numpy as np\n",
    "import scipy.linalg as la\n",
    "from IPython.display import display,Markdown,Latex\n",
    "import matplotlib.pyplot as plt\n",
    "from qiskit.tools.visualization import array_to_latex"
   ]
  },
  {
   "cell_type": "markdown",
   "id": "6d419d43",
   "metadata": {
    "slideshow": {
     "slide_type": "skip"
    }
   },
   "source": [
    "<a id='top'></a>\n",
    "\n",
    "- [1.3.1 Operadores y matrices](#opdefi) \n",
    "\n",
    "    - [*Matriz de un operador*](#matriz_op)  \n",
    "<br>\n",
    "\n",
    "- [1.3.2 El espacio vectorial Lin($\\Hil$)](#linh)\n",
    "\n",
    "    - [*Producto externo de vectores*](#prod_ext)\n",
    "    \n",
    "    - [*Base canónica*](#base_can)    \n",
    "\n",
    "    - [Funciones de operadores](#funcope)\n",
    "<br>  \n",
    "\n",
    "- [1.3.3  Clases de Operadores](#classop)\n",
    "\n",
    "    - [*Operador Adjunto*](#opadj)\n",
    "\n",
    "    - [*Operador Unitario*](#opunit)\n",
    "    \n",
    "    - [*Operador Normal*](#opnormal)\n",
    "    \n",
    "    - [*Operador Hermítico*](#opermit)\n",
    "    \n",
    "    - [*Proyectores*](#opproyec)\n",
    "<br>        \n",
    "\n",
    "- [Autovalores y autovectores](#autovec) \n",
    "\n",
    "    - [*Subespacio Propio*](#subesprop)\n",
    "   \n",
    "    - [*Espectro de Operadores Normales*](#especopnormal)\n",
    "<br>    \n",
    "\n",
    "- [Espectros de operadores](#especope)\n",
    "    \n",
    "    - [*Descomposición Espectral*](#descomespec)\n",
    "<br>    \n",
    "\n",
    "- [Traza de operadores](#optrace)\n",
    "    - [*$\\Lin(\\Hil)$ como espacio de Hilbert*](#oper_scalprod)\n",
    "    - [*$\\Lin(\\Hil)$ como espacio normado*](#oper_norm)\n",
    "<br>        \n",
    "<br>    \n",
    "\n",
    "- [Funciones de operadores](#funcope)\n",
    "<br>    \n",
    "\n",
    "- [Matrices de Pauli](#paulis)\n",
    "<br>    \n"
   ]
  },
  {
   "cell_type": "markdown",
   "id": "db311637",
   "metadata": {
    "slideshow": {
     "slide_type": "skip"
    }
   },
   "source": [
    "## Operadores y Matrices"
   ]
  },
  {
   "cell_type": "markdown",
   "id": "6f3b844e",
   "metadata": {
    "slideshow": {
     "slide_type": "skip"
    }
   },
   "source": [
    "En un espacio vectorial, además de los **vectores**, será esencial entender las **transformaciones** de estos elementos entre sí. \n"
   ]
  },
  {
   "cell_type": "markdown",
   "id": "eed5d182",
   "metadata": {
    "slideshow": {
     "slide_type": "slide"
    }
   },
   "source": [
    "\n",
    "><b> Definición</b> : \n",
    "<br>\n",
    "    un <i>operador lineal</i>  transforma <u>todo vector en otro</u> \n",
    "<br>\n",
    "<br>\n",
    "$$\n",
    "A: \\ket{u} ~~\\to ~~ \\ket{v}   \n",
    "$$\n",
    "<p>\n"
   ]
  },
  {
   "cell_type": "markdown",
   "id": "5e0c26af",
   "metadata": {
    "slideshow": {
     "slide_type": "fragment"
    }
   },
   "source": [
    "El apelativo lineal es una condición extremadamente útil, que indica cómo se transforma un vector que es combinación lineal de otros dos\n",
    "\n",
    "$$\n",
    "A: \\big(\\alpha\\ket{u} + \\beta\\ket{w}\\big)~~\\to ~~ \\ket{v} =\\alpha A\\ket{u} + \\beta A\\ket{w}\n",
    "$$ "
   ]
  },
  {
   "cell_type": "markdown",
   "id": "ad9d3f3c",
   "metadata": {
    "slideshow": {
     "slide_type": "skip"
    }
   },
   "source": [
    "<b> Notación : </b>  escribimos también $\\ket{v} = A\\ket{u} \\equiv \\ket{Au}$ $~~$ donde $Au=v$ deben entenderse como la etiqueta sinónimas del vector imagen\n",
    "<br>\n"
   ]
  },
  {
   "cell_type": "markdown",
   "id": "ac0bfdd6",
   "metadata": {
    "slideshow": {
     "slide_type": "skip"
    }
   },
   "source": [
    "<b>Ejemplo:</b> \n",
    "<br>   un <i>operador</i>  fácil de visualizar es el operador de <i>rotación en un plano</i>. Dado un ángulo $\\theta \\in (0,2\\pi)$ el operador $A = R(\\theta)$ gira cualquier vector un ángulo $\\theta$ en el sentido antihorario\n",
    "<br>\n",
    "<br>\n",
    "Un vector en  ${\\bf u} =  (u_1,u_2)\\in {\\mathbb R}^2$  es equivalente al número complejo $u = u_1 + i u_2 \\in {\\mathbb C}$.\n",
    "\n",
    "    \n",
    "Escrito en polares, $u=|u|e^{i\\phi}$, y sabemos que una rotación de ángulo $\\theta$ es equivalente a añadirle dicho  ángulo a la fase \n",
    "<br>\n",
    "<br>\n",
    "$$\n",
    " v = R(\\theta) u = |u| e^{i(\\phi + \\theta)} =  |u| e^{i\\phi } e^{i\\theta} = u\\cdot e^{i\\theta} \n",
    "$$\n",
    "<br>    \n",
    "Por tanto, rotar un número complejo un ángulo $\\theta$ se corresponde con la acción el operador $R(\\theta)$\n",
    "que multiplica cualquier número complejo por la fase $e^{i\\theta}$.\n",
    "\n",
    "    \n",
    "    \n",
    "La propiedad fundamental de una rotación es la de mantener invariante el módulo  $|v| = |u|$.    \n",
    "\n"
   ]
  },
  {
   "cell_type": "markdown",
   "id": "3ef157c2",
   "metadata": {
    "slideshow": {
     "slide_type": "skip"
    }
   },
   "source": [
    "<b>Ejercicio:</b> \n",
    "\n",
    "usando el ejemplo anterior, define una función $R$ en python, que recibe un vector en el plano $(u_1,u_2)$ y devuelve el vector $(v_1,v_2)$ de componentes rotadas un ángulo $\\theta$.\n",
    "         \n",
    "</div>\n",
    "<br>\n",
    "<details>\n",
    "<summary><p style=\"text-align:left\"> >> Solución </p></summary>\n",
    "\n",
    "    def R(u1,u2,theta):\n",
    "        u = u1 + u2*1j\n",
    "        v = u*np.exp(1j*theta) # u rotado un angulo theta\n",
    "        return v.real,v.imag    \n",
    "\n",
    "</details>  "
   ]
  },
  {
   "cell_type": "code",
   "execution_count": 4,
   "id": "910284be",
   "metadata": {
    "slideshow": {
     "slide_type": "skip"
    }
   },
   "outputs": [
    {
     "data": {
      "image/png": "[encoded data removed]",
      "text/plain": [
       "<Figure size 576x576 with 1 Axes>"
      ]
     },
     "metadata": {
      "needs_background": "light"
     },
     "output_type": "display_data"
    }
   ],
   "source": [
    "'''ángulo que queremos rotar'''\n",
    "theta=0.6 \n",
    "\n",
    "'''vector a rotar'''\n",
    "u1=2.\n",
    "u2=2.\n",
    "\n",
    "#'''v1 y v2 a partir de u1, u2 y theta'''\n",
    "#def R(u1,u2,theta):\n",
    "#        u = u1 + u2*1j\n",
    "#        v = u*np.exp(1j*theta) # u rotado un angulo theta\n",
    "#        return v.real,v.imag\n",
    "    \n",
    "v1,v2 =  R(u1,u2,theta)\n",
    "\n",
    "''' Representación en el plano complejo '''\n",
    "v = v1**2+v2**2\n",
    "tQ.plot_2D_plane(left=-int(abs(v1))-2,right=int(abs(v1))+2,up=int(abs(v2))+1,down=-int(abs(v2))-1)\n",
    "tQ.draw_vector(u1,u1,vcolor='b')\n",
    "tQ.draw_vector(v1,v2,vcolor='r')\n"
   ]
  },
  {
   "cell_type": "markdown",
   "id": "29cd66be",
   "metadata": {
    "slideshow": {
     "slide_type": "slide"
    }
   },
   "source": [
    "### Matriz de un operador\n",
    "<a id='matriz_op'></a>\n",
    "\n",
    "*Dada una base* $\\ket{i}$ sabemos que:\n",
    "\n",
    "$\\Rightarrow $  un vector queda especificado por una *columna de números* \n",
    "\n",
    "$$\n",
    "\\ket{v} \\sim \\begin{pmatrix} v_1 \\\\ v_2\\\\ \\vdots \\\\ v_N\\end{pmatrix}\n",
    "$$\n"
   ]
  },
  {
   "cell_type": "markdown",
   "id": "af12e90b",
   "metadata": {
    "slideshow": {
     "slide_type": "fragment"
    }
   },
   "source": [
    "$\\Rightarrow $  un operador queda definido por una *matriz de números*. \n",
    "\n",
    "$$\n",
    "A \\sim \\begin{pmatrix} \n",
    "A_{11} & A_{12} & \\cdots & A_{1N} \\\\\n",
    "A_{21} & A_{22} & \\cdots & A_{2N} \\\\\n",
    "\\vdots & \\vdots &  \\ddots      & \\vdots \\\\\n",
    "A_{N1} & A_{N2} &    \\cdots    & A_{NN}\n",
    "\\end{pmatrix}\n",
    "$$\n"
   ]
  },
  {
   "cell_type": "markdown",
   "id": "e29e055d",
   "metadata": {},
   "source": [
    "En ambos casos, los números son las **componentes** en una base. "
   ]
  },
  {
   "cell_type": "markdown",
   "id": "62a56d79",
   "metadata": {
    "slideshow": {
     "slide_type": "skip"
    }
   },
   "source": [
    "Efectivamente, en una base, la relación $\\ket{v} = A\\ket{u}$ equivale a una ecuación que relacione las componentes de ambos vectores\n",
    "$$\n",
    "v_i = \\sum_{j=1}^N A_{ij} u_j  \\, .\n",
    "$$"
   ]
  },
  {
   "cell_type": "markdown",
   "id": "509b8331",
   "metadata": {
    "slideshow": {
     "slide_type": "skip"
    }
   },
   "source": [
    "Esta operación se corresponde con la siguiente *multiplicación de matrices*\n",
    "\n",
    "$$\n",
    "\\begin{pmatrix}\n",
    "v_1 \\\\ v_2 \\\\ \\vdots \\\\ v_N \\end{pmatrix} =  \\begin{pmatrix} \n",
    "A_{11} & A_{12} & \\cdots & A_{1N} \\\\\n",
    "A_{21} & A_{22} & \\cdots & A_{2N} \\\\\n",
    "\\vdots & \\vdots &  \\ddots      & \\vdots \\\\\n",
    "A_{N1} & A_{N2} &    \\cdots    & A_{NN}\n",
    "\\end{pmatrix}\n",
    " \\begin{pmatrix} \n",
    "u_1 \\\\ u_2 \\\\ \\vdots \\\\ u_N\\end{pmatrix} \\hspace{4cm}\n",
    "$$"
   ]
  },
  {
   "cell_type": "markdown",
   "id": "580815fb",
   "metadata": {
    "slideshow": {
     "slide_type": "skip"
    }
   },
   "source": [
    " <b>Ejemplo:</b> \n",
    "<br>    Continuando con el ejemplo del operador de rotación en un plano, hemos visto que las componentes de $u = u_1 + i u_2$ y las de $R(\\theta)u = v = v_1 + i v_2$ se obtienen mediante la multiplicación por una fase pura \n",
    "\\begin{eqnarray}\n",
    "v&=& u e^{i\\theta} \\\\\n",
    "\\end{eqnarray}\n",
    "    \n",
    "Vamos a desarrollar cada miembro en cartesianas, separando las partes real e imaginaria\n",
    "<br>    \n",
    "\\begin{eqnarray}\n",
    "v_1 + i v_2 &=& (u_1 + iu_2) (\\cos \\theta + i \\sin \\theta)  \\\\\n",
    "    \\rule{0mm}{6mm}\n",
    "    &=& (\\cos\\theta \\, u_1 - \\sin \\theta\\,  u_2) + i(\\sin\\theta\\,  u_1 + \\cos \\theta\\,  u_2)\n",
    "\\end{eqnarray}\n",
    "<br>\n",
    "    \n",
    "es decir las coordenadas del vector origen y el vector rotado imagen se relacionan en la  forma \n",
    "\n",
    "<br>\n",
    "\\begin{eqnarray}\n",
    "v_1 = \\cos\\theta \\, u_1 - \\sin \\theta\\,  u_2 ~~~~~~~,~~~~~~~~\n",
    "v_2 = \\sin\\theta \\, u_1 + \\cos \\theta\\,  u_2     \n",
    "\\end{eqnarray}\n",
    "<br>\n",
    "\n",
    "que podemos expresar en forma matricial\n",
    "    \n",
    "$$\n",
    "\\begin{pmatrix} v_1 \\\\ v_2 \\end{pmatrix} = \\begin{pmatrix} \\cos\\theta & -\\sin\\theta \\\\ \\sin\\theta &\\cos\\theta\\end{pmatrix} \\begin{pmatrix} u_1 \\\\ u_2 \\end{pmatrix}\n",
    "$$    "
   ]
  },
  {
   "cell_type": "markdown",
   "id": "3931114f",
   "metadata": {
    "slideshow": {
     "slide_type": "slide"
    }
   },
   "source": [
    "##   El Espacio Vectorial  $\\Lin(\\Hil)$ "
   ]
  },
  {
   "cell_type": "markdown",
   "id": "f8ae057c",
   "metadata": {
    "slideshow": {
     "slide_type": "-"
    }
   },
   "source": [
    "El <i>conjunto</i> de **todos** <i>los operadores lineales</i> sobre un espacio vectorial $\\Hil$ tiene, de forma natural, una estructura de espacio vectorial que denominamos $\\Lin(\\Hil)$"
   ]
  },
  {
   "cell_type": "markdown",
   "id": "dd9bf0a1",
   "metadata": {
    "slideshow": {
     "slide_type": "fragment"
    }
   },
   "source": [
    "En efecto, dados dos operadores,  $A$ y $B$ tanto la suma $C = A+B$ como la multiplicación por un número complejo $D=\\lambda A$ son *nuevos operadores* definidos por su acción sobre un vector cualquiera $\\ket{v}\\in \\Hil$\n",
    "\n",
    "<br>\n",
    "$$\n",
    "C\\ket{v} ~=~ (A + B) \\ket{v} = A\\ket{v} + B\\ket{v}\n",
    "$$\n",
    "<br>\n",
    "$$\n",
    "D\\ket{v} ~=~ (\\lambda A) \\ket{v} = \\lambda (A\\ket{v})\n",
    "$$"
   ]
  },
  {
   "cell_type": "markdown",
   "id": "62dcdd83",
   "metadata": {},
   "source": [
    "El elemento neutro es el operador que aniquila cualquier vector\n",
    "\n",
    "$$\n",
    "(A + 0)\\ket{u} = A\\ket{u} + 0\\ket{u} = A\\ket{u} + 0 = \\ket{v}\n",
    "$$"
   ]
  },
  {
   "cell_type": "markdown",
   "id": "a493c0e4",
   "metadata": {
    "slideshow": {
     "slide_type": "skip"
    }
   },
   "source": [
    "### Producto externo"
   ]
  },
  {
   "cell_type": "markdown",
   "id": "f020a931",
   "metadata": {},
   "source": [
    "$\\Lin(\\Hil)$ es por tanto, un espacio vectorial cuyos vectores son los operadore lineales sobre $\\Hil$. Como para cualquier espacio vectorial, para describir los operadores $A$,  necesitamos una base. \n",
    "\n",
    "Resulta que, como vamos a ver, una base $\\{ \\ket{i}\\}$ para describir los vectores  de $\\ket{v}\\in \\Hil$ nos permite definir una base para los operadores $A \\in \\Lin(\\Hil)$ de forma natural. \n",
    "\n",
    "Para verlo vamos a definir dos formas de componer dos vectores de $\\ket{u},\\ket{v} \\in \\Hil$: el producto interno, y el producto externos. "
   ]
  },
  {
   "cell_type": "markdown",
   "id": "d807f34c",
   "metadata": {
    "slideshow": {
     "slide_type": "skip"
    }
   },
   "source": [
    "\n",
    "\n",
    "- El **producto interno**, o *producto escalar* es un *número complejo*\n",
    "<br>\n",
    "\n",
    "$$\n",
    " a = \\braket{u}{v} = \\braket{v}{u}^* \n",
    "$$\n",
    "\n",
    "- El **producto externo**  es un *operador*\n",
    "<br>\n",
    "\n",
    "$$\n",
    "A = \\ketbra{v}{u}\n",
    "$$"
   ]
  },
  {
   "cell_type": "markdown",
   "id": "583adba2",
   "metadata": {
    "slideshow": {
     "slide_type": "skip"
    }
   },
   "source": [
    "Para comprender <u>por qué el producto externo es un operador</u>, observamos que dicha expresión aplicada a un vector $\\ket{w}$ da otro, <br>\n",
    "\n",
    "$$\n",
    "A : \\ket{w} ~\\to ~ A\\ket{w} =  \\ket{v}\\braket{u}{w}=\\ket{v} b  = b \\ket{v} \n",
    "$$ "
   ]
  },
  {
   "cell_type": "markdown",
   "id": "99c39918",
   "metadata": {
    "slideshow": {
     "slide_type": "skip"
    }
   },
   "source": [
    "**Notar:**\n",
    "<br>\n",
    "1. El *orden* en que escribimos las cosas es *muy* relevante.\n",
    "<br> \n",
    "<br>\n",
    "$\\Rightarrow$ \n",
    "$\\braket{u}{v}$ y $\\ket{v}\\!\\bra{u}$ son objetos <i> radicalmente distintos</i>: el primero es un número y el segundo es un operador. \n",
    "<br>\n",
    "$\\Rightarrow$  En cambio $\\ket{v} b  = b \\ket{v}$, así como $\\bra{u}b = b\\bra{u}$, es decir,  los números complejos  pueden escribirse en cualquier posición (decimos que <i>conmutan con todo</i>)."
   ]
  },
  {
   "cell_type": "markdown",
   "id": "86968ab5",
   "metadata": {},
   "source": [
    "2.    La acción del operador  $A = \\ket{v}\\bra{u}$ es muy fácil de *expresar con palabras*: \n",
    "<br>  \n",
    "    \n",
    "- el operador $A$ toma <i>cualquier vector</i> $\\ket{w}$ y lo convierte en un vector <i>paralelo</i> a $\\ket{v}$ proporcionalmente a su proyección $b=\\braket{u}{w}$. \n",
    "<br>    \n",
    "- si la proyección es nula $a=0$, el operador <i>aniquila</i>, es decir, da el elemento neutro."
   ]
  },
  {
   "cell_type": "markdown",
   "id": "7a0320c7",
   "metadata": {
    "slideshow": {
     "slide_type": "skip"
    }
   },
   "source": [
    "**En componentes**\n",
    "\n",
    "La diferencia entre el *producto interno* $a=\\braket{u}{v}$ y el *externo* $A=\\ketbra{u}{v}$ tiene su reflejo en una base expresando ambos vectores, $\\ket{u} = \\sum_i u_i\\ket{i}$ y $\\ket{v} = \\sum_j v_j \\ket{j}$,  en componentes en una base ortonormal\n",
    "\n",
    "-  el *número complejo* $a$  es el *producto escalar*\n",
    "$$\n",
    " a = \\braket{u}{v}  = \\begin{pmatrix} u_1^*,...,u_N^*\\end{pmatrix}\n",
    "\\begin{pmatrix} v_1 \\\\ \\vdots \\\\ v_N\\end{pmatrix}\\, =  \\sum_i u_i^*v_i\n",
    "$$"
   ]
  },
  {
   "cell_type": "markdown",
   "id": "ce7889b4",
   "metadata": {
    "slideshow": {
     "slide_type": "skip"
    }
   },
   "source": [
    "-  la matriz $A_{ij}$    *representa* el operador $A$ en la base $\\{\\ket{i}\\}$\n",
    "\n",
    "$$\n",
    "A = \\ketbra{v}{u} ~\\sim ~\\begin{pmatrix} v_1 \\\\ \\vdots \\\\ v_N\\end{pmatrix}\n",
    "\\begin{pmatrix} u_1^*,...,u_N^*\\end{pmatrix} ~=~ \n",
    "\\begin{pmatrix} v_1 u_1^* & v_1u_2^* & ... & v_1 u_N^* \\\\\n",
    "v_2 u_1^* & v_2 u_1^*& ... & v_2 u_N^* \\\\ \\vdots & \\vdots  & \\ddots & \\vdots \\\\\n",
    "v_N u_1^* & & ... & v_N u_N^* \\end{pmatrix} ~ = ~A_{ij}\n",
    "$$\n",
    "\n",
    "<br>"
   ]
  },
  {
   "cell_type": "markdown",
   "id": "fffb7ae8",
   "metadata": {
    "slideshow": {
     "slide_type": "skip"
    }
   },
   "source": [
    "### Base canónica de operadores\n",
    "<a id='base_canonica'></a>\n",
    "\n",
    "Consideremos el *producto externo* de dos elementos de la base ortonormal\n",
    "$\\ketbra{i}{j}$\n",
    "<br>\n",
    "\n",
    "- La acción de $\\ketbra{i}{j}$ sobre otro vector, $\\ket{k}$,  de la base es sencilla \n",
    "<br>\n",
    "\n",
    "$$\n",
    " \\ket{i}\\braket{j}{k} = \\ket{i} \\delta_{jk} = \\left\\{ \\begin{array}{rl}\n",
    "0 & {\\rm si} ~~k\\neq j \\\\ \\ket{i} & {\\rm si} ~~ k=j \\end{array} \\right.\n",
    "$$"
   ]
  },
  {
   "cell_type": "markdown",
   "id": "1c2ec265",
   "metadata": {
    "slideshow": {
     "slide_type": "skip"
    }
   },
   "source": [
    "- La matriz asociada al operador  tiene sólo un 1 en el elemento $(ij)$ y cero en todos los demás. Por ejemplo, supongamos que \n",
    "$N=4$ \n",
    "\n",
    "<br>\n",
    "\n",
    "$$\n",
    "\\ketbra{2}{3} ~\\to ~~\n",
    " \\begin{pmatrix} 0 \\\\ 1 \\\\ 0 \\\\ 0 \\end{pmatrix}\\begin{pmatrix} 0 & 0 & 1 & 0 \\end{pmatrix} = \n",
    "\\begin{pmatrix}\n",
    "0 &  0 & 0 &  0 \\\\  0 &  0 & 1&  0 \\\\ 0 &  0 & 0 &  0 \\\\ 0 &  0 & 0 &  0\n",
    "\\end{pmatrix} ~~\\Rightarrow ~~ A_{ij} = \\delta_{i2}\\delta_{j3}\n",
    "$$\n",
    "\n",
    "<br>"
   ]
  },
  {
   "cell_type": "markdown",
   "id": "87b76b79",
   "metadata": {
    "slideshow": {
     "slide_type": "slide"
    }
   },
   "source": [
    "\n",
    "Los <i>elementos de matriz</i> $A_{ij}$ expresan las <i>componentes de un operador</i> en la <b>base de operadores</b> $\\ketbra{i}{j}$\n"
   ]
  },
  {
   "cell_type": "markdown",
   "id": "09964c55",
   "metadata": {
    "slideshow": {
     "slide_type": "-"
    }
   },
   "source": [
    "$$\n",
    "A ~=~ \\sum_{i,j=1}^N A_{ij} \\ketbra{i}{j} \n",
    "$$"
   ]
  },
  {
   "cell_type": "markdown",
   "id": "586868b5",
   "metadata": {
    "slideshow": {
     "slide_type": "skip"
    }
   },
   "source": [
    "<details>\n",
    "    <summary><p style=\"text-align:left\"> >><i>Consistencia</i> </p></summary>\n",
    "Verifiquemos que actúa de la forma correcta\n",
    "$$\n",
    "\\begin{array}{rcl}\n",
    "A |u\\rangle &=&  \\sum_{i,j} A_{ij} \\ketbra{i}{j}  \\left(\\sum_k u_k |k\\rangle \\right) \\\\\n",
    "&\\stackrel{\\rm linealidad}{=} \\rule{0mm}{6mm}& \\sum_{i,j} \\sum_k A_{ij} | i\\rangle  \\,   u_k \\langle j| k\\rangle \\nonumber\\\\\n",
    "&\\stackrel{\\rm ortonormalidad}{=}\\rule{0mm}{6mm}& \\sum_{i,j,k} A_{ij} | i\\rangle  \\,   u_k \\delta_{jk}\\\\\n",
    "&=\\rule{0mm}{6mm}&\\sum_{ij} A_{ij}\\,|i\\rangle \\, u_j= \\sum_i \\left(\\sum_{j} A_{ij}\\, u_j\\right)  |i\\rangle    \\\\\n",
    "&=\\rule{0mm}{6mm}&\\sum_i v_i \\ket{i} \\nonumber\\\\\n",
    "&=\\rule{0mm}{6mm}&   | v\\rangle\n",
    "\\end{array}\n",
    "$$\n",
    "</details>"
   ]
  },
  {
   "cell_type": "markdown",
   "id": "90c30865",
   "metadata": {
    "slideshow": {
     "slide_type": "slide"
    }
   },
   "source": [
    "### Elementos de matriz\n",
    "\n",
    "De la misma manera que obteníamos las componentes de un vector proyectando sobre un elemento de la base\n",
    "\n",
    "$$\n",
    "v_i = \\braket{i}{v}\n",
    "$$\n",
    "\n",
    "ahora podemos obtener los *elementos de matriz* de un operador $A$ en la forma\n",
    "\n",
    "$$  A_{ij} = \\bra{i} A \\ket{j} $$"
   ]
  },
  {
   "cell_type": "markdown",
   "id": "b9741a18",
   "metadata": {
    "slideshow": {
     "slide_type": "fragment"
    }
   },
   "source": [
    "><b>Ejercicio:</b>$~$\n",
    "<br>\n",
    "comprueba la consistencia de las expresiones $~A = \\sum_{i,j=1}^N A_{ij} \\ketbra{i}{j} $ y $~A_{ij} = \\bra{i} A \\ket{j}$\n",
    "<details>\n",
    "    <summary><p style=\"text-align:left\"> >> <i>Solución:</i> </p></summary>\n",
    "\n",
    "aquí tu solución\n",
    "\n",
    "</details>    \n"
   ]
  },
  {
   "cell_type": "markdown",
   "id": "82e22308",
   "metadata": {
    "slideshow": {
     "slide_type": "skip"
    }
   },
   "source": [
    "><b>Resumen:</b> \n",
    "<br>     \n",
    "En una base $\\{\\ket{i}\\}$ podemos siempre relacionar una matriz con un operador. La relación concreta es \n",
    "<br>\n",
    "<br>\n",
    ">- de matriz a  operador: $A_{ij} \\to ~ A = \\sum_{ij} A_{ij}\\ketbra{i}{j}$\n",
    "<br>\n",
    "<br>    \n",
    ">- de operador a  matriz: $A \\to ~ A_{ij} = \\bra{i}A\\ket{j}$\n",
    "<br>      "
   ]
  },
  {
   "cell_type": "markdown",
   "id": "72191d55",
   "metadata": {
    "slideshow": {
     "slide_type": "skip"
    }
   },
   "source": [
    "### Cambio de base \n",
    "\n",
    "Dos bases ortonormales $\\ket{e_i}$ y $\\ket{\\tilde e_i}$ se relacionadas linealmente mediante una matriz\n",
    "\n",
    "$$ \\ket{e_j} \\to \\ket{\\tilde e_j} = \\sum_{ij}U_{ij} \\ket{e_i}$$\n",
    "\n",
    "\n",
    "Tomar la conjugación *adjunta* de esta expresión es muy sencillo usando las reglas\n",
    "\n",
    "$$ \\bra{e_j} \\to \\bra{\\tilde e_j} = \\sum_{ij}U^*_{ij} \\bra{e_i}$$\n",
    "\n"
   ]
  },
  {
   "cell_type": "markdown",
   "id": "82f89e3e",
   "metadata": {
    "slideshow": {
     "slide_type": "skip"
    }
   },
   "source": [
    "\n",
    "En cada base, un operador $A$ *se representa* mediante elementos de matriz distintos\n",
    "\n",
    "$$\n",
    " A_{ij} = \\bra{e_i} A \\ket{e_j} ~~~~,~~~~~ \\tilde A_{ij} = \\bra{\\tilde e_i} A \\ket{\\tilde e_j} \\, .\n",
    "$$\n",
    "\n"
   ]
  },
  {
   "cell_type": "markdown",
   "id": "019b4348",
   "metadata": {
    "slideshow": {
     "slide_type": "skip"
    }
   },
   "source": [
    "Podemos encontrar la relación sustituyendo el cambio de base\n",
    "\n",
    "\\begin{eqnarray}\n",
    "\\tilde A_{ij} &=& \\bra{\\tilde e_i} A \\ket{\\tilde e_j} \\\\ \\rule{0mm}{8mm}\n",
    "&=& \\sum_{k}U^*_{ki}\\bra{e_k} ~A~ \\sum_l U_{lj}\\ket{e_l} \\\\ \n",
    "&=&  \\sum_{k,l} U^\\dagger_{ik}\\bra{e_k} A  \\ket{e_l}U_{lj}   = \\sum_{k,l} U^\\dagger_{ik}A_{kl} U_{lj} \\, .\n",
    "\\end{eqnarray}"
   ]
  },
  {
   "cell_type": "markdown",
   "id": "8a27c515",
   "metadata": {
    "slideshow": {
     "slide_type": "skip"
    }
   },
   "source": [
    "><b> Lema </b>: bajo un cambio de bases ortonormales $ \\ket{e_j} \\to \\ket{\\tilde e_j} = \\sum_{i}U_{ij} \\ket{e_i}$ las componentes de un vector $\\ket{v}$ y de  un operador $A$ cambian siguiendo la regla:\n",
    "<br>      \n",
    "\\begin{eqnarray}\n",
    "\\tilde v_i &=& (U^\\dagger \\cdot v)_i \\\\ \\rule{0mm}{6mm}\n",
    "\\tilde A_{ij} &=& (U^\\dagger \\cdot A \\cdot U)_{ij}\n",
    "\\end{eqnarray}\n"
   ]
  },
  {
   "cell_type": "markdown",
   "id": "c7173981",
   "metadata": {
    "slideshow": {
     "slide_type": "skip"
    }
   },
   "source": [
    "<b>Notar:</b> la regla *mnemotécnica* es que las columnas se multiplican por $U^\\dagger\\cdot$ y las filas por $\\cdot\\, U$\n",
    "<br>    \n",
    "$$\n",
    "\\begin{pmatrix} \\tilde v_1 \\\\ \\vdots \\\\ \\tilde v_N \\end{pmatrix} = \n",
    "U^\\dagger \\cdot \\begin{pmatrix} v_1 \\\\ \\vdots \\\\  v_N \\end{pmatrix} ~~~~\n",
    "~~~~~~~;~~~~~~~~\n",
    "\\begin{pmatrix} \n",
    "\\tilde A_{11} & \\cdots & \\tilde A_{1N} \\\\\n",
    "\\tilde \\vdots & \\ddots & \\vdots  \\\\\n",
    "\\tilde A_{N1} & \\cdots & \\tilde A_{NN} \n",
    "\\end{pmatrix} \n",
    " =  U^\\dagger\\cdot\n",
    " \\overbrace{\\begin{pmatrix} \n",
    " A_{11} & \\cdots &  A_{1N} \\\\\n",
    "\\tilde \\vdots & \\ddots & \\vdots  \\\\\n",
    " A_{N1} & \\cdots &  A_{NN} \n",
    "\\end{pmatrix} }^{\\large \\cdot ~ U}\n",
    "$$\n"
   ]
  },
  {
   "cell_type": "markdown",
   "id": "de51fe4f",
   "metadata": {
    "slideshow": {
     "slide_type": "skip"
    }
   },
   "source": [
    "**Ejercicio**:</b> (*explícaselo a tu ordenador*)\n",
    "<br>\n",
    "Escribe una función en python, $basis\\_change$, que reciba una matriz $U_{ij}$ de cambio de base $\\ket{\\tilde e_j} = \\sum_i{U_{ij}}\\ket{e_i}$, la componentes $v_i$ de un vector, ó $A_{ij}$ de un operador, y devuelva las componentes $\\tilde v_i~$ ó $~\\tilde A_{ij}$ en la nueva base. \n",
    "\n",
    "**Ejercicio**: \n",
    "<br>\n",
    "La matriz $\\begin{pmatrix} 0 & -i \\\\ i & 0\\end{pmatrix}$ representa un operador $\\sigma_y$ en la base $\n",
    "\\{ \\ket{0},\\ket{1}\\}$. Utilizando la función *basis\\_change*, escribe $\\sigma_y$ en la nueva base $$\\{\\ket{\\!+\\!i}= \\frac{1}{\\sqrt{2}}(\\ket{0}+i \\ket{1})~,~\\ket{\\!-\\!i}= \\frac{1}{\\sqrt{2}}(\\ket{0}-i \\ket{1})\\}$$\n",
    "    "
   ]
  },
  {
   "cell_type": "markdown",
   "id": "71b5e50a",
   "metadata": {
    "slideshow": {
     "slide_type": "skip"
    }
   },
   "source": [
    "### Relación de completitud    \n",
    "    \n",
    "La acción del operador identidad es \n",
    "\n",
    "$$\n",
    "I\\ket{v} = \\ket{v}\n",
    "$$\n",
    "\n",
    "En particular sobre todo elemento de la base $I\\ket{i} = \\ket{i}$. En otras palabras,\n",
    "el operador identidad $I$ tiene por matriz $I_{ij}=\\delta_{ij}={\\rm diagonal}\\, (1,1,...,1)$ con lo que\n",
    "<br>\n",
    "\n",
    "$$\n",
    "I = \\sum_{i}  \\ketbra{i}{i}= \\sum_{ij} \\delta_{ij}\\ketbra{i}{j} \n",
    "$$\n",
    "\n",
    "Esta expresión se conoce también como <b>relación de completitud</b> o, también, <b>relación de cierre</b> y se utiliza muy frecuentemente.\n"
   ]
  },
  {
   "cell_type": "markdown",
   "id": "7483494c",
   "metadata": {
    "slideshow": {
     "slide_type": "skip"
    }
   },
   "source": [
    "La relación de completitud es una propiedad de <b> cualquier base</b>. Dicho de otro modo, si $\\{\\ket{e_i}\\}$ y $\\{\\ket{\\tilde e_i}\\}$ son, ambas, bases entonces $I\\ket{e_i} = \\ket{e_ i}$ y $I\\ket{\\tilde e_j} = \\ket{\\tilde e_j}$.\n",
    "Esto quiere decir que, en cualquier base, la matriz que representa la identidad es la matriz diagonal $\\delta_{ij}$\n",
    "<br>\n",
    "\n",
    "$$\n",
    "I =  \\sum_{i}  \\ketbra{e_i}{e_i} =  \\sum_{j}  \\ketbra{\\tilde e_j}{ \\tilde e_j}\\, .\n",
    "$$\n"
   ]
  },
  {
   "cell_type": "markdown",
   "id": "072cde6b",
   "metadata": {
    "slideshow": {
     "slide_type": "skip"
    }
   },
   "source": [
    "La relación de cierre, o completitud,  siempre **se puede insertar** en cualquier momento del cálculo. Se utiliza con frecuencia para efectuar cambios de base."
   ]
  },
  {
   "cell_type": "markdown",
   "id": "2372d4b1",
   "metadata": {
    "slideshow": {
     "slide_type": "skip"
    }
   },
   "source": [
    "Por ejemplo, \n",
    "\n",
    "\\begin{eqnarray}\n",
    "\\ket{\\tilde e_j} ~&=&~ \\left(\\sum_i \\ketbra{e_i}{e_i}\\right) \\ket{\\tilde e_j} \\nonumber\\\\\n",
    "&=&\\sum_i \\braket{e_i}{\\tilde e_j} \\ket{e_i} \\nonumber\\\\\n",
    "&=&\\sum_i U_{ij}\\ket{e_i}\n",
    "\\end{eqnarray}\n",
    "\n",
    "Donde la matriz de cambio de base es\n",
    "$$\n",
    "U_{ij} = \\braket{e_i}{\\tilde e_j}\n",
    "$$"
   ]
  },
  {
   "cell_type": "markdown",
   "id": "475d5890",
   "metadata": {
    "slideshow": {
     "slide_type": "skip"
    }
   },
   "source": [
    "### Operador Adjunto\n",
    "<a id='opadj'></a>\n",
    "\n",
    "    \n",
    "La *conjugación adjunta* definida sobre $\\Hil$ puede extenderse a $\\Lin(\\Hil)$\n",
    "<br><br>\n",
    "\n",
    "$$\n",
    "\\dagger ~\\to ~\n",
    "\\left\\{\n",
    "\\begin{matrix}\n",
    "z & \\leftrightarrow  &  z^* \\\\\n",
    "|u\\rangle & \\leftrightarrow &   \\langle u | \\\\\n",
    "A & \\leftrightarrow & A^{\\dagger}\n",
    "\\end{matrix}\n",
    "\\right. \\hspace{5cm}\n",
    "$$\n",
    "<br>"
   ]
  },
  {
   "cell_type": "markdown",
   "id": "aa4e4c37",
   "metadata": {
    "slideshow": {
     "slide_type": "skip"
    }
   },
   "source": [
    "y hay <b>dos reglas más</b> que permiten aplicar $\\dagger$ a sumas y productos de <i> objetos </i> $a \\in\\{z,\\ket{u},A\\}$\n",
    "<br>\n",
    "\n",
    "- *linealidad* $( a + b)^\\dagger = a^\\dagger + b^\\dagger $\n",
    "<br>\n",
    "\n",
    "- *trasposición* $(ab)^\\dagger = b^\\dagger a^\\dagger$ (sólo relevante cuando $a$ y $b$ no sean C-números que conmutan)\n",
    "<br>"
   ]
  },
  {
   "cell_type": "markdown",
   "id": "d3a1fdb4",
   "metadata": {
    "slideshow": {
     "slide_type": "skip"
    }
   },
   "source": [
    "\n",
    "\n",
    "**Ejemplos**\n",
    "<br>\n",
    "1. $\n",
    "\\ket{v} = A\\ket{u} ~~~~\\Leftrightarrow ~~~~\\bra{v} = \\bra{u}A^\\dagger\n",
    "~~$ donde el operador en la derecha actúa sobre el *bra* a su izquierda.\n",
    "<br>\n",
    "<br>\n",
    "Notar que, como $\\ket{v}^\\dagger=\\ket{Au}^\\dagger = \\bra{Au}$ la ecuación anterior implica\n",
    "<br>\n",
    "<br>\n",
    "$$\n",
    "\\bra{Au} = \\bra{u} A^\\dagger\n",
    "$$\n",
    "<br>\n",
    "2. \n",
    "$\n",
    "\\bra{w}A\\ket{u}^* = \\big(\\bra{w}A\\ket{u}\\big)^\\dagger = \\bra{u}A^\\dagger\\ket{w}\n",
    "$\n",
    "\n"
   ]
  },
  {
   "cell_type": "markdown",
   "id": "5ef6cdad",
   "metadata": {
    "slideshow": {
     "slide_type": "skip"
    }
   },
   "source": [
    "### Matriz adjunta\n",
    "\n",
    "Estas reglas nos permiten obtener el adjunto de un operador\n",
    "\n",
    "\n",
    "<br>\n",
    "\n",
    "\n",
    "$$\n",
    "A^\\dagger = \\sum_{ij}\\left( A_{ij}\\ketbra{i}{j}\\right)^\\dagger = \\sum_{ij} \\, \\ketbra{j}{i}A_{ij}^* =  \\sum_{ji} \\, A_{ji}^*\\ketbra{i}{j}\n",
    "$$\n",
    "\n",
    "donde en la última ecuación hemos hecho un simple intercambio de etiquetas $i\\leftrightarrow j$\n",
    "<br>\n",
    "<br>"
   ]
  },
  {
   "cell_type": "markdown",
   "id": "a5abefe7",
   "metadata": {
    "slideshow": {
     "slide_type": "skip"
    }
   },
   "source": [
    "Vemos que la matriz que representa $A^\\dagger$ es la *matriz adjunta* de $A_{ij}$, es decir, la traspuesta y conjugada\n",
    "<br>\n",
    "\n",
    "\n",
    "$$\n",
    "(A^\\dagger)_{ij} = A^*_{ji} = (A^{*}_{ij})^t \\equiv (A_{ij})^\\dagger\n",
    "$$\n",
    "\n",
    "donde $^\\dagger$ significa el adjunto de un operador a la izquierda, y de una matriz a la derecha.\n"
   ]
  },
  {
   "cell_type": "code",
   "execution_count": 61,
   "id": "3ef54774",
   "metadata": {},
   "outputs": [
    {
     "data": {
      "text/latex": [
       "$$\n",
       "\n",
       "\\begin{bmatrix}\n",
       "1 & 1 + 2 i  \\\\\n",
       " 2 + 3 i & 3 - i  \\\\\n",
       " \\end{bmatrix}\n",
       "$$"
      ],
      "text/plain": [
       "<IPython.core.display.Latex object>"
      ]
     },
     "metadata": {},
     "output_type": "display_data"
    },
    {
     "data": {
      "text/latex": [
       "$$\n",
       "\n",
       "\\begin{bmatrix}\n",
       "1 & 2 - 3 i  \\\\\n",
       " 1 - 2 i & 3 + i  \\\\\n",
       " \\end{bmatrix}\n",
       "$$"
      ],
      "text/plain": [
       "<IPython.core.display.Latex object>"
      ]
     },
     "metadata": {},
     "output_type": "display_data"
    }
   ],
   "source": [
    "A = np.array([[1,1+2j],[2+3j,3-1j]])\n",
    "display(array_to_latex(A))\n",
    "\n",
    "Aadj = A.T.conj()\n",
    "display(array_to_latex(Aadj))\n"
   ]
  },
  {
   "cell_type": "markdown",
   "id": "01eb8ef8",
   "metadata": {
    "slideshow": {
     "slide_type": "skip"
    }
   },
   "source": [
    "Si $\\Hil$ tiene dimensión $N$, un *operador general* $A\\in \\Lin(\\Hil)$ se especifica mediante una matriz de $N^2$ números complejos $\\Rightarrow A = A_{ij}\\ket{e_i}\\bra{e_j}$. \n",
    "\n",
    "$N^2$ números complejos equivalen a $2N^2$ números reales. \n"
   ]
  },
  {
   "cell_type": "markdown",
   "id": "fda21e39",
   "metadata": {
    "slideshow": {
     "slide_type": "skip"
    }
   },
   "source": [
    "En otras palabras: $A$  tiene $N^2$ grados de libertad complejos y, por tanto, ésta es la dimension del espacio ${\\rm L}(\\Hil)$ es  \n",
    "<br>\n",
    "\n",
    "$$ {\\rm dim}_{\\bf C}(\\Lin(\\Hil)) = N^2 ~~~ \\Longleftrightarrow ~~~ {\\rm dim}_{\\bf R}(\\Lin(\\Hil)) =  2N^2\n",
    "$$\n",
    "<br>"
   ]
  },
  {
   "cell_type": "markdown",
   "id": "cf44845d",
   "metadata": {},
   "source": [
    "## 1.3.3 Clases de Operadores\n",
    "<a id='classop'></a>"
   ]
  },
  {
   "cell_type": "markdown",
   "id": "a8f5fa5c",
   "metadata": {
    "slideshow": {
     "slide_type": "-"
    }
   },
   "source": [
    "Vamos a considerar **clases de operadores** que satisfagan algún tipo de *condición* o *restricción*"
   ]
  },
  {
   "cell_type": "markdown",
   "id": "f9a894e7",
   "metadata": {
    "slideshow": {
     "slide_type": "slide"
    }
   },
   "source": [
    "### Operador Unitario\n",
    "><b> Definición: </b> \n",
    "<br>    un <i>operador unitario</i> $U$ es tal que su <i>adjunto</i> es igual a su <i>inverso</i>\n",
    "<br><br>    \n",
    "$$\n",
    "U^\\dagger = U^{-1}  \\, \n",
    "$$\n",
    "<p>"
   ]
  },
  {
   "cell_type": "markdown",
   "id": "ace8fc08",
   "metadata": {
    "slideshow": {
     "slide_type": "fragment"
    }
   },
   "source": [
    "Naturalmente, esta ecuación se traduce en la misma ecuación para las matrices asociadas en *cualquier base*\n",
    "<br>\n",
    "<br>\n",
    "$$\n",
    "(U_{ij})^\\dagger = U_{ji}^* = U^{-1}_{ij}\n",
    "$$\n",
    "<br>\n",
    "Veamos ahora por qué hemos definido esta clase de operadores."
   ]
  },
  {
   "cell_type": "markdown",
   "id": "515b2de8",
   "metadata": {
    "slideshow": {
     "slide_type": "slide"
    }
   },
   "source": [
    "><b>Teorema:</b>    \n",
    "    La acción de un operador unitario <i>preserva </i> el producto escalar de dos vectores cualesquiera. \n",
    "</div>\n",
    "\n",
    "<details>\n",
    "<summary><p style=\"text-align:left\"> >><i>Demostración</i> </p></summary>\n",
    "<br>\n",
    "sea $U$ un operador unitario, y $\\ket{\\varphi'}=U\\ket{\\varphi}$ y $\\ket{\\psi'} = U\\ket{\\psi}$\n",
    "dos vectores transformados por $U$, entonces\n",
    "<br>\n",
    "<br>\n",
    "$$\n",
    "\\braket{\\varphi'}{\\psi'} = \\left(\\bra{\\varphi}U^\\dagger\\right)U\\ket{\\psi} = \\bra{\\varphi} U^\\dagger U \\ket{\\psi} = \n",
    "\\braket{\\varphi}{\\psi}\n",
    "$$\n",
    "\n",
    "<br>\n",
    "\n",
    "particularizando para $\\ket{\\varphi} = \\ket{\\psi}$ tenemos que un operador unitario *conserva la norma*.\n",
    "<br>\n",
    "<br>\n",
    "$$\n",
    "\\|U \\ket{\\varphi}\\| = \\|\\ket{\\varphi}\\|\n",
    "$$"
   ]
  },
  {
   "cell_type": "markdown",
   "id": "f0f91e0e",
   "metadata": {
    "slideshow": {
     "slide_type": "skip"
    }
   },
   "source": [
    "\n",
    "- En particular, preserva  la <i>norma</i> de cualquier vector. \n",
    "<br>\n",
    "Por tanto, conserva la <i>distancia</i> entre dos vectores $ d (\\ket{v},\\ket{w})= \\| (\\ket{v}-\\ket{w}) \\| $.<br>\n",
    "En un lenguaje más formal, se dice que un operador unitario es una *isometría* "
   ]
  },
  {
   "cell_type": "markdown",
   "id": "153c3a69",
   "metadata": {
    "slideshow": {
     "slide_type": "fragment"
    }
   },
   "source": [
    "- La <i>combinación lineal</i> de operadores unitarios **no es** unitaria\n",
    "<br>\n",
    "<br>\n",
    "$$\n",
    " (a U+ bV)^\\dagger = a^* V^\\dagger+ b^* U^\\dagger = a^* V^{-1}+ b^* U^{-1} \\neq  (a U+ b V)^{-1}\n",
    "$$\n",
    "<br>\n",
    "Matemáticamente esto quiere decir que los operadores unitarios no forman un subespacio vectorial de $\\Lin(\\Hil)$\n"
   ]
  },
  {
   "cell_type": "markdown",
   "id": "e7ad601f",
   "metadata": {
    "slideshow": {
     "slide_type": "slide"
    }
   },
   "source": [
    "- La *composición* de  operadores unitarios  **sí es** unitaria\n",
    "<br>\n",
    "<br>\n",
    "$$\n",
    "(UV)^\\dagger = V^\\dagger U^\\dagger = V^{-1}U^{-1} = (UV)^{-1} \n",
    "$$\n",
    "<br>\n",
    "Matemáticamente esto quiere decir que los operadores unitarios forman un <i>grupo</i>: el <i>grupo unitario</i> $U(d)$ actúa sobre $\\Hil$ de dimensión $d$. \n",
    "    "
   ]
  },
  {
   "cell_type": "markdown",
   "id": "1170620e",
   "metadata": {
    "slideshow": {
     "slide_type": "skip"
    }
   },
   "source": [
    "- Aun así, forman una *variedad*: un conjunto continuo  que se puede parametrizar mediante una colección de parámetros, la *dimensión de la variedad*.\n",
    "<br>\n",
    "Como hay una relación 1 a 1 entre un operador una matriz (en una base), esa dimensión será igual a la *dimensión del conjunto de matrices unitarias* \n",
    "\n"
   ]
  },
  {
   "cell_type": "markdown",
   "id": "00610b6f",
   "metadata": {
    "slideshow": {
     "slide_type": "fragment"
    }
   },
   "source": [
    "><b>Ejercicio:</b> (explícaselo a tu cuaderno)\n",
    "<br>    \n",
    "Resta de  ${\\rm dim}_{\\bf R}({\\rm L}(\\Hil)) =  2N^2$ el número de ecuaciones que restringen la matriz de un operador \n",
    "unitario y halla así la  dimensión (real) del grupo $U(N)$ de <i> operadores unitarios</i> de dimensión $N$.\n"
   ]
  },
  {
   "cell_type": "markdown",
   "id": "83c23568",
   "metadata": {
    "slideshow": {
     "slide_type": "skip"
    }
   },
   "source": [
    "**Bases ortonormales**\n",
    "\n",
    "- Como caso particular, aplicando un operador unitario $U$ a una base ortonormal $\\{\\ket{e_i}\\}$ obtenemos otra base ortonormal $\\{\\ket{\\tilde e_i}\\}$\n",
    "<br>\n",
    "\n",
    "$$\n",
    "\\left. \\begin{array}{c}\\ket{\\tilde e_i} = U\\ket{e_i}\\\\ U^{-1} =  U^\\dagger \\end{array} \\right\\}\n",
    "~~~~ \\Longleftrightarrow ~~~~\\braket{\\tilde e_i}{\\tilde e_j} = \\bra{\\tilde e_i}U^\\dagger U\\ket{\\tilde e_j} = \\braket{e_i}{e_j} = \\delta_{ij}\n",
    "$$\n",
    "\n",
    "<br>"
   ]
  },
  {
   "cell_type": "markdown",
   "id": "a4ced02b",
   "metadata": {
    "slideshow": {
     "slide_type": "skip"
    }
   },
   "source": [
    "- Inversamente, dadas dos bases ortonormales, $\\{\\ket{e_i}\\}$ y $\\{\\ket{\\tilde e_i}\\}$, el operador que las relaciona es un operador unitario\n",
    "    \n",
    "$$ \n",
    " \\begin{array}{rcl} \n",
    "U = \\sum_i \\ketbra{\\tilde e_i}{e_i} & \\Rightarrow &  U\\ket{e_j} = \\ket{\\tilde e_j} \n",
    " \\\\ \\rule{0mm}{10mm}\n",
    "U^\\dagger = \\sum_i \\ketbra{e_i}{\\tilde e_i}  & \\Rightarrow &    U^\\dagger\\ket{\\tilde e_j} = \\ket{e_j} ~~~\\Rightarrow ~~~U^\\dagger = U^{-1}\n",
    " \\end{array}\n",
    "$$\n"
   ]
  },
  {
   "cell_type": "markdown",
   "id": "af7322a4",
   "metadata": {
    "slideshow": {
     "slide_type": "skip"
    }
   },
   "source": [
    "- Un  <i>operador ortogonal</i> es un caso particular de operador  unitario con *elementos de matriz reales*. El operador de rotación $R(\\theta)$ que hemos estudiado al comienzo de este tema es un operador ortogonal.\n",
    "Efectivamente, dado\n",
    "$$\n",
    "R(\\theta) = \\begin{pmatrix} \\cos\\theta & -\\sin\\theta \\\\ \\sin\\theta & \\cos\\theta \\end{pmatrix}\n",
    "$$\n",
    "es inmediato comprobar que \n",
    "\n",
    "$$ R(\\theta)^\\dagger =R(\\theta)^t = R(-\\theta) = R(\\theta)^{-1}$$\n",
    "    \n"
   ]
  },
  {
   "cell_type": "code",
   "execution_count": 3,
   "id": "dabedb88",
   "metadata": {
    "slideshow": {
     "slide_type": "skip"
    }
   },
   "outputs": [
    {
     "data": {
      "text/latex": [
       "$$\n",
       "\n",
       "\\begin{bmatrix}\n",
       "\\frac{\\sqrt{2}}{2} & \\frac{\\sqrt{2} i}{2}  \\\\\n",
       " \\frac{\\sqrt{2} i}{2} & \\frac{\\sqrt{2}}{2}  \\\\\n",
       " \\end{bmatrix}\n",
       "$$"
      ],
      "text/plain": [
       "<IPython.core.display.Latex object>"
      ]
     },
     "execution_count": 3,
     "metadata": {},
     "output_type": "execute_result"
    }
   ],
   "source": [
    "U=np.matrix([[1,1J],[1J, + 1]])/np.sqrt(2)\n",
    "array_to_latex(U)"
   ]
  },
  {
   "cell_type": "code",
   "execution_count": 4,
   "id": "38cc621f",
   "metadata": {
    "slideshow": {
     "slide_type": "skip"
    }
   },
   "outputs": [
    {
     "data": {
      "text/latex": [
       "$$\n",
       "\n",
       "\\begin{bmatrix}\n",
       "\\frac{\\sqrt{2}}{2} & - \\frac{\\sqrt{2} i}{2}  \\\\\n",
       " - \\frac{\\sqrt{2} i}{2} & \\frac{\\sqrt{2}}{2}  \\\\\n",
       " \\end{bmatrix}\n",
       "$$"
      ],
      "text/plain": [
       "<IPython.core.display.Latex object>"
      ]
     },
     "execution_count": 4,
     "metadata": {},
     "output_type": "execute_result"
    }
   ],
   "source": [
    "Uadj=U.getH() # getH es un método de la clase matrix que devuelve la matriz conjugada hermítica\n",
    "array_to_latex(Uadj)"
   ]
  },
  {
   "cell_type": "code",
   "execution_count": 5,
   "id": "d4b71087",
   "metadata": {
    "slideshow": {
     "slide_type": "skip"
    }
   },
   "outputs": [
    {
     "name": "stdout",
     "output_type": "stream",
     "text": [
      "comprobamos que U es unitaria\n"
     ]
    },
    {
     "data": {
      "text/latex": [
       "$$\n",
       "\n",
       "\\begin{bmatrix}\n",
       "1 & 0  \\\\\n",
       " 0 & 1  \\\\\n",
       " \\end{bmatrix}\n",
       "$$"
      ],
      "text/plain": [
       "<IPython.core.display.Latex object>"
      ]
     },
     "execution_count": 5,
     "metadata": {},
     "output_type": "execute_result"
    }
   ],
   "source": [
    "print('comprobamos que U es unitaria')\n",
    "\n",
    "array_to_latex(np.dot(Uadj,U))"
   ]
  },
  {
   "cell_type": "markdown",
   "id": "559f451c",
   "metadata": {
    "slideshow": {
     "slide_type": "slide"
    }
   },
   "source": [
    "### Operador Normal\n",
    "<a id='opnormal'></a>\n",
    "    \n",
    "><b> Definición: </b>  un operador $N$  es <i>normal</i> si conmuta con su adjunto\n",
    "<br>   \n",
    "$$\n",
    "NN^\\dagger = N^\\dagger N\n",
    "$$   \n",
    "\n"
   ]
  },
  {
   "cell_type": "markdown",
   "id": "0b83bd9d",
   "metadata": {},
   "source": [
    "Los operadores normales tienen una propiedad extremadamente importante\n",
    "\n",
    ">**Teorema:** un operador $N\\in \\Lin(\\Hil)$ es normal sí y sólo si, existe una base $\\{\\ket{i}\\}\\in \\Hil$ en la cual la matriz $N_{ij}$ que representa dicho operador es diagonal\n",
    "$$\n",
    "N_{ij} = \\bra{i}N\\ket{j} =  \\lambda_i \\delta_{ij} = \\begin{pmatrix} \\lambda_1 & & & \\\\\n",
    "& \\lambda_2 & & \\\\ & & \\ddots& \\\\ & & & \\lambda_{N} \\end{pmatrix}\n",
    "$$\n",
    "donde los números $\\lambda_i$ son, en general, complejos."
   ]
  },
  {
   "cell_type": "markdown",
   "id": "8f734a41",
   "metadata": {
    "slideshow": {
     "slide_type": "slide"
    }
   },
   "source": [
    "### Operador Hermítico\n",
    "><b> Definición: </b> un operador  $H$ es <i>Hermítico</i> (o <i>autoadjunto</i>)  si  verifica la siguiente ecuación \n",
    "<br>  \n",
    "$$\n",
    "H = H^\\dagger \n",
    "$$\n"
   ]
  },
  {
   "cell_type": "markdown",
   "id": "05bdeae6",
   "metadata": {
    "slideshow": {
     "slide_type": "skip"
    }
   },
   "source": [
    "\n",
    "- Evidentemente, un *operador hermítico* $~\\Rightarrow ~$ es un *operador normal*, pero a la inversa no tiene por qué ser verdad."
   ]
  },
  {
   "cell_type": "markdown",
   "id": "2f981b69",
   "metadata": {
    "slideshow": {
     "slide_type": "slide"
    }
   },
   "source": [
    "- La *combinación lineal* de operadores *hermíticos*  con coeficientes *reales* **es**  *hermítica*\n",
    "<br>\n",
    "<br>\n",
    "$$\n",
    "C^\\dagger = (a A + b B)^\\dagger = a^* A^\\dagger + b^* B^\\dagger = aA + b B = C\n",
    "$$\n",
    "<br>\n",
    "Matemáticamente: los operadores autoadjuntos forman un subespacio vectorial real $\\hbox{Her}(\\Hil) \\subset \\Lin(\\Hil)$.\n"
   ]
  },
  {
   "cell_type": "markdown",
   "id": "020cef96",
   "metadata": {
    "slideshow": {
     "slide_type": "fragment"
    }
   },
   "source": [
    "- La composición de operadores hermíticos, en general **no es** hermítica\n",
    "<br>\n",
    "<br>\n",
    "$$\n",
    "(A B)^\\dagger = B^\\dagger A^\\dagger = BA \\neq AB\n",
    "$$\n",
    "<br>\n",
    "Matemáticamente, esto implica que <i>no forman grupo</i> salvo que $A$ y $B$ conmuten entre sí, en cuyo caso forman un <i>grupo Abeliano</i>\n"
   ]
  },
  {
   "cell_type": "markdown",
   "id": "23c774d8",
   "metadata": {
    "slideshow": {
     "slide_type": "skip"
    }
   },
   "source": [
    "- La matriz asociada a un operador hermítico también se llama hermítica, y coincide con su traspuesta y conjugada\n",
    "<br>\n",
    "\n",
    "$$\n",
    "A_{ij} = A^\\dagger_{ij} \\equiv  A^{*t}_{ij} = A^*_{ji}   \\hspace{4cm}\n",
    "$$\n",
    "\n"
   ]
  },
  {
   "cell_type": "markdown",
   "id": "44b578f6",
   "metadata": {
    "slideshow": {
     "slide_type": "skip"
    }
   },
   "source": [
    "<b>Notar:</b>\n",
    "<br>\n",
    "A partir de cualquier operador $C\\neq C^\\dagger $ siempre podemos construir un operador hermítico $H=H^\\dagger$ mediante la combinación lineal\n",
    "<br>    \n",
    "\n",
    "$$\n",
    "H = C + C^\\dagger\n",
    "$$\n",
    "<br>\n",
    "donde $a$ es un número real. Esto se extiende trivialmente a las matrices que los representan en cualquier base\n",
    "    \n",
    "<br> \n",
    "$$\n",
    "H_{ij} = C_{ij} + C_{ji}^*\n",
    "$$ \n"
   ]
  },
  {
   "cell_type": "markdown",
   "id": "16519f99",
   "metadata": {
    "slideshow": {
     "slide_type": "fragment"
    }
   },
   "source": [
    "><b>Ejercicio:</b>   \n",
    "resta de  ${\\rm dim}_{\\bf R}({\\rm L}(\\Hil)) =  2N^2$ el número de ecuaciones que restringen la matriz de un operador \n",
    "hermítico y halla así la dimensión (real) de la  <i>subespacio vectorial de operadores hermíticos</i>. "
   ]
  },
  {
   "cell_type": "markdown",
   "id": "c577c2c4",
   "metadata": {
    "slideshow": {
     "slide_type": "skip"
    }
   },
   "source": [
    "Si has hecho los dos últimos ejercicios  habrás encontrado la misma respuesta en ambos. Eso quiere decir que podría haber una relación entre matrices hermíticas y unitarias. Veremos que es así cuando estudiemos funciones de operadores"
   ]
  },
  {
   "cell_type": "markdown",
   "id": "b987d644",
   "metadata": {
    "slideshow": {
     "slide_type": "slide"
    }
   },
   "source": [
    "<a id='opproyec'></a>\n",
    "### Proyectores\n",
    "\n",
    "\n",
    "El operador $P = \\ketbra{u}{u}$ *proyecta* cualquier vector en la dirección de $\\ket{u}$\n",
    "\n",
    "$$\n",
    "P \\ket{w} = \\ket{u}\\braket{u}{w} = a \\ket{u}\n",
    "$$\n",
    "\n",
    "donde el número $a = \\braket{u}{w}$ es la *proyección* "
   ]
  },
  {
   "cell_type": "markdown",
   "id": "3453f27e",
   "metadata": {
    "slideshow": {
     "slide_type": "skip"
    }
   },
   "source": [
    "De su forma se siguen dos propiedades que caracterizan un operador de proyección \n",
    "\n",
    "- es hermítico \n",
    "\n",
    "$$\n",
    "P^\\dagger = (\\ketbra{u}{u})^\\dagger = \\ketbra{u}{u} = P\n",
    "$$\n",
    "\n",
    "- es idempotente\n",
    "\n",
    "$$\n",
    "P^2 = \\ket{u}\\braket{u}{u}\\bra{u} = \\ketbra{u}{u} = P\n",
    "$$"
   ]
  },
  {
   "cell_type": "markdown",
   "id": "98c497dd",
   "metadata": {
    "slideshow": {
     "slide_type": "slide"
    }
   },
   "source": [
    "><b> Definición: </b> \n",
    "un <i>proyector</i> es un operador hermítico que verifica la ecuación\n",
    "<br><br>\n",
    "$$\n",
    "P^2 = P\n",
    "$$\n"
   ]
  },
  {
   "cell_type": "markdown",
   "id": "a2f50493",
   "metadata": {
    "slideshow": {
     "slide_type": "skip"
    }
   },
   "source": [
    "<b>Notar:</b>   \n",
    "    El proyector es un operador <b>no-unitario</b>: la proyección <i>reduce</i> la norma.\n",
    "Efectivamente,supongamos que $\\ket{u}$ y $\\ket{w}$ son vectores unitarios y distintos\n",
    "<br>\n",
    "<br>\n",
    "$$\n",
    "\\| P\\ket{w}\\|^2 = \\bra{w}P^\\dagger P\\ket{w} = \\bra{w} P\\ket{w}= \\braket{w}{u}\\braket{u}{w} = |\\braket{u}{w}|^2 < \\|\\ket{u}\\|\\|\\ket{w}\\| = 1  \n",
    "$$\n",
    "<br>\n",
    "donde hemos aplicado la <i>desigualdad de Cauchy Schwarz</i> estricta, al suponer que $\\ket{u}\\neq\\ket{w}$."
   ]
  },
  {
   "cell_type": "markdown",
   "id": "abe1ce32",
   "metadata": {
    "slideshow": {
     "slide_type": "skip"
    }
   },
   "source": [
    "**Matriz asociada a un proyector**\n",
    "\n",
    "\n",
    "- Si $\\ket{u} = \\ket{e_1}$ el operador $P_1 = \\ket{e_1}\\bra{e_1}$ proyecta cualquier vector a lo largo de $\\ket{e_1}$.    \n",
    "<br>\n",
    "<br>\n",
    "En forma matricial\n",
    " $$\n",
    " \\ket{e_1}\\bra{e_1} = \\begin{pmatrix} 1 & 0 & ...& 0 \\end{pmatrix} \\begin{pmatrix} 1 \\\\ 0 \\\\ \\vdots\\\\ 0 \\end{pmatrix} =\n",
    " \\begin{pmatrix} 1 & 0 &  \\cdots & 0 \\\\ 0 & 0  & \\cdots & 0 \\\\ \n",
    " \\vdots & \\vdots &\\vdots & \\vdots  \\\\\n",
    " 0  & 0 & \\cdots & 0\\end{pmatrix}\n",
    " $$\n",
    "de modo que\n",
    "$$\n",
    "    \\ket{e_1}\\braket{e_1}{u} ~= ~\\begin{pmatrix} 1 & 0 &  \\cdots & 0 \\\\ 0 & 0  & \\cdots & 0 \\\\ \n",
    " \\vdots & \\vdots &\\vdots & \\vdots  \\\\\n",
    " 0  & 0 & \\cdots & 0\\end{pmatrix} \\begin{pmatrix} u_1 \\\\ u_2 \\\\ \\vdots \\\\ u_N \\end{pmatrix}\n",
    " = \\begin{pmatrix} u^1 \\\\ 0 \\\\ \\vdots \\\\ 0 \\end{pmatrix} = u^1 \\ket{e_1}\n",
    "$$\n",
    "    \n"
   ]
  },
  {
   "cell_type": "markdown",
   "id": "79df25ce",
   "metadata": {
    "slideshow": {
     "slide_type": "skip"
    }
   },
   "source": [
    "    \n",
    "- Si $\\ket{u} = \\sum_i u^i\\ket{e_i}$ es un vector unitario  $\\|\\ket{u}\\|=1$, entonces el proyector a lo largo de $\\ket{u}$ viene dado por\n",
    "<br>\n",
    "<br>\n",
    "$$\n",
    "P(u) = \\ketbra{u}{u} = \\sum_{i,j} u_i u^*_j \\ketbra{e_i}{e_j}\n",
    "$$\n",
    "<br>\n",
    "Es decir, le está asociada una matriz dada por $P_{ij}=u_iu^*_j$. Es trivial verificar que \n",
    "<br>\n",
    "<br>\n",
    "$$\n",
    "P^2_{ik} = \\sum_j P_{ij}P_{jk} = \\sum_j u_i u^*_j u_j u^*_k = u_i\\left(\\sum_j u^*_j u_j\\right) u_k = u_i u_k^* = P_{ik}\n",
    "$$\n",
    "<br>\n",
    "como corresponde a un proyector.\n",
    "    \n"
   ]
  },
  {
   "cell_type": "markdown",
   "id": "ed88740c",
   "metadata": {
    "slideshow": {
     "slide_type": "slide"
    }
   },
   "source": [
    "**Proyector ortogonal**\n"
   ]
  },
  {
   "cell_type": "markdown",
   "id": "5dcfc4a8",
   "metadata": {
    "slideshow": {
     "slide_type": "-"
    }
   },
   "source": [
    "\n",
    "Sea $P = \\ket{u}\\bra{u}$ un proyector a lo largo de un vector $\\ket{u}.~$\n",
    "Entonces el operador $\\Rightarrow  P_\\perp = I - P$ verifica que\n",
    "\n",
    "- es proyector \n",
    "\n",
    "$$~~ P_\\perp^2 = P_\\perp $$\n",
    "\n",
    "- es perpendicular a $P$ \n",
    "\n",
    "\\begin{eqnarray}\n",
    "P_\\perp P &=& (I - P) P = P - P^2 = P - P =  0 \n",
    "\\end{eqnarray} \n",
    " \n",
    "<br>\n",
    "\n"
   ]
  },
  {
   "cell_type": "markdown",
   "id": "771ec373",
   "metadata": {
    "slideshow": {
     "slide_type": "slide"
    }
   },
   "source": [
    "**En resumen:** \n",
    "\n",
    "- dado un vector $\\ket{u}$, podemos descomponer cualquier  otro vector $\\ket{\\psi}$ en sus proyecciones paralela y perpendicular\n",
    "<br>\n",
    "$$\n",
    "\\ket{\\psi} = ( P + P_\\perp) \\ket{\\psi} = a \\ket{u} + b \\ket{u_\\perp} \n",
    "$$\n",
    "<br>\n",
    "donde $a = \\braket{u}{\\psi}$ y  $b = \\braket{u_\\perp}{\\psi}$\n",
    "<br>\n",
    "<br>\n",
    "\n",
    "- $\\ket{u_\\perp}$ y  $\\ket{u}$ son perpendiculares\n",
    "<br>\n",
    "\n",
    "- $\\ket{u}$, $\\ket{u_\\perp}$  y $\\ket{\\psi}$, están en un mismo plano (ver figura)"
   ]
  },
  {
   "cell_type": "code",
   "execution_count": 4,
   "id": "ca29b1e4",
   "metadata": {
    "slideshow": {
     "slide_type": "slide"
    }
   },
   "outputs": [
    {
     "data": {
      "text/latex": [
       "$$\n",
       "\n",
       "\\begin{bmatrix}\n",
       "0.507146995 + 0.1579800449 i  \\\\\n",
       " -0.2590099195 + 0.1551147126 i  \\\\\n",
       " 0.1779771317 - 0.7713764703 i  \\\\\n",
       " \\end{bmatrix}\n",
       "$$"
      ],
      "text/plain": [
       "<IPython.core.display.Latex object>"
      ]
     },
     "metadata": {},
     "output_type": "display_data"
    },
    {
     "data": {
      "text/latex": [
       "$$\n",
       "\n",
       "\\begin{bmatrix}\n",
       "0.2821557691 & -0.1068510731 - 0.1195843591 i & -0.0316015219 + 0.4193180942 i  \\\\\n",
       " -0.1068510731 + 0.1195843591 i & 0.0911467125 & -0.165749682 - 0.1721872859 i  \\\\\n",
       " -0.0316015219 - 0.4193180942 i & -0.165749682 + 0.1721872859 i & 0.6266975184  \\\\\n",
       " \\end{bmatrix}\n",
       "$$"
      ],
      "text/plain": [
       "<IPython.core.display.Latex object>"
      ]
     },
     "metadata": {},
     "output_type": "display_data"
    },
    {
     "data": {
      "text/latex": [
       "$$\n",
       "\n",
       "\\begin{bmatrix}\n",
       "0.7178442309 & 0.1068510731 + 0.1195843591 i & 0.0316015219 - 0.4193180942 i  \\\\\n",
       " 0.1068510731 - 0.1195843591 i & 0.9088532875 & 0.165749682 + 0.1721872859 i  \\\\\n",
       " 0.0316015219 + 0.4193180942 i & 0.165749682 - 0.1721872859 i & 0.3733024816  \\\\\n",
       " \\end{bmatrix}\n",
       "$$"
      ],
      "text/plain": [
       "<IPython.core.display.Latex object>"
      ]
     },
     "metadata": {},
     "output_type": "display_data"
    }
   ],
   "source": [
    "d = 3\n",
    "\n",
    "' generamos un vector aleatorio'\n",
    "u = tQ.random_ket(d)\n",
    "display(array_to_latex(u))\n",
    "\n",
    "' obtenemos los proyectores paralelo y perpendicular'\n",
    "P_par = tQ.ket_bra(u,u);\n",
    "P_perp = np.identity(d) - P_par\n",
    "\n",
    "display(array_to_latex(P_par))\n",
    "display(array_to_latex(P_perp))"
   ]
  },
  {
   "cell_type": "code",
   "execution_count": 9,
   "id": "135c6cff",
   "metadata": {
    "slideshow": {
     "slide_type": "slide"
    }
   },
   "outputs": [
    {
     "data": {
      "text/latex": [
       "$$\n",
       "\n",
       "\\begin{bmatrix}\n",
       "0 & 0 & 0  \\\\\n",
       " 0 & 0 & 0  \\\\\n",
       " 0 & 0 & 0  \\\\\n",
       " \\end{bmatrix}\n",
       "$$"
      ],
      "text/plain": [
       "<IPython.core.display.Latex object>"
      ]
     },
     "metadata": {},
     "output_type": "display_data"
    },
    {
     "name": "stdout",
     "output_type": "stream",
     "text": [
      "(-0+0j)\n"
     ]
    }
   ],
   "source": [
    "\n",
    "' check properties P^2 = P, and orthogonality '\n",
    "A = P_par@P_par - P_par\n",
    "B = P_perp@P_perp - P_perp\n",
    "C = P_par@P_perp\n",
    "\n",
    "display(array_to_latex(A))\n",
    "\n",
    "\n",
    "' obtain parallel and perpendicular components of another vector'\n",
    "psi = tQ.random_ket(d)\n",
    "\n",
    "psi_par = np.dot(P_par,psi)\n",
    "psi_perp = np.dot(P_perp,psi)\n",
    "\n",
    "\n",
    "print(np.round(tQ.braket(psi_par,psi_perp),4))"
   ]
  },
  {
   "cell_type": "markdown",
   "id": "0adc9ea3",
   "metadata": {
    "slideshow": {
     "slide_type": "slide"
    }
   },
   "source": [
    "><b> Ejercicio: </b>  (<i> reflector</i>)\n",
    "<br>\n",
    "Dado un vector unitario $\\ket{u}$, escribe \n",
    "<br>    \n",
    ">- el operador $R_u^{\\perp}$ que <i>refleja la componente perpendicular</i> a $\\ket{u}$ de cualquier  vector $\\ket{\\psi}$   \n",
    "<br>\n",
    "<br>\n",
    ">- el operador $R_{u}^{\\|}$ que <i>refleja la componente paralela</i> a $\\ket{u}$ de cualquier  vector $\\ket{\\psi}$ "
   ]
  },
  {
   "cell_type": "markdown",
   "id": "b90f397d",
   "metadata": {
    "slideshow": {
     "slide_type": "skip"
    }
   },
   "source": [
    "**Proyectores sobre un subespacio**\n",
    "\n",
    "Consideremos una base ortonormal $\\{\\ket{e_i}\\}~,i=1,...,N $  de $\\Hil$ y dividámosla en dos subconjuntos\n",
    "\n",
    "$$\n",
    "\\{\\ket{e_i}\\},~ i=1,...,N_1 ~~~~~~~,~~~~~~~~\\{\\ket{e_{j+N_1}},~j=1,...,N_2   \n",
    "$$\n",
    "\n",
    "Cualquier vector admite una descomposición ortogonal \n",
    "\n",
    "\\begin{eqnarray}\n",
    "\\ket{\\psi} &~=~& \\sum_{i=1}^N a_i \\ket{e_i}   ~= ~ \\sum_{i=1}^N a_i \\ket{e_i} + \\sum_{i=1}^{N_2} a_{i+N_1} \\ket{e_{i+N_1}} ~\\equiv ~ \\ket{\\psi_1} + \\ket{\\psi_2}\\rule{0mm}{5mm}\n",
    "\\end{eqnarray}\n",
    "\n",
    "con $\\braket{\\psi_1}{\\psi_2} = 0$. "
   ]
  },
  {
   "cell_type": "markdown",
   "id": "1c631400",
   "metadata": {
    "slideshow": {
     "slide_type": "skip"
    }
   },
   "source": [
    "Decimos que el espacio $\\Hil$ se descompone en la *suma directa de subespacios ortogonales*\n",
    "\n",
    "$$\n",
    "\\Hil = \\Hil_1 \\oplus \\Hil_2 \n",
    "$$\n",
    "\n",
    "de dimensiones $N_1 + N_2 = N$,\n"
   ]
  },
  {
   "cell_type": "markdown",
   "id": "4fb9c5d0",
   "metadata": {
    "slideshow": {
     "slide_type": "skip"
    }
   },
   "source": [
    "Los operadores \n",
    "\n",
    "$$\n",
    "P_1 = \\sum_{i=1}^{N_1} \\ket{e_i}\\bra{e_i} ~~~~~~~,~~~~~~~~ P_2 = \\sum_{i=1}^{N_2} \\ket{e_{i+N_1}}\\bra{e_{i+N_1}}\n",
    "= I - P_1\n",
    "$$\n",
    "\n",
    "Verifican la ecuación que define un proyector\n",
    "\n",
    "$$\n",
    "P_1^2 = P_1~~~~~,~~~~P_2^2 = P_2\n",
    "$$"
   ]
  },
  {
   "cell_type": "markdown",
   "id": "cc2e2154",
   "metadata": {
    "slideshow": {
     "slide_type": "skip"
    }
   },
   "source": [
    "Su acción extrae de un vector su componente en el subespacio asociado\n",
    "\n",
    "$$\n",
    "P_1 \\ket{\\psi} ~=~ \\sum_{i=1}^{N_1} \\ket{e_i}\\bra{e_i} \\left(\\sum_{k=1}^N a_k \\ket{u_k} \\right) ~=~\n",
    "\\sum_{i=1}^{N_1} a_i \\ket{e_i} ~=~ \\ket{\\psi_1}\\in Hil_1\n",
    "$$\n",
    "\n",
    "$$\n",
    "P_2 \\ket{\\psi} ~=~ \\sum_{i=1}^{N_2} \\ket{e_{i+N_1}}\\bra{e_{i+N_1}} \\left(\\sum_{k=1}^N a_k \\ket{u_k} \\right) ~=~\n",
    "\\sum_{i=1}^{N_1} a_{i+N_1} \\ket{e_{i+N_1}} ~=~ \\ket{\\psi_2}\\in Hil_2\n",
    "$$"
   ]
  },
  {
   "cell_type": "markdown",
   "id": "ffc2a9f0",
   "metadata": {
    "slideshow": {
     "slide_type": "skip"
    }
   },
   "source": [
    "Claramente verifican\n",
    "\n",
    "$$\n",
    "(P_1 + P_2)\\ket{\\psi} = \\ket{\\psi}\n",
    "$$\n",
    "\n",
    "En resumen, vemos que satisfacen \n",
    "\n",
    "$$\n",
    "P_1 P_2 = P_2 P_1  = 0 ~~~,~~~~P_1 + P_2 = I\n",
    "$$\n"
   ]
  },
  {
   "cell_type": "markdown",
   "id": "61c01988",
   "metadata": {
    "slideshow": {
     "slide_type": "skip"
    }
   },
   "source": [
    "**Notar**: que $P_1 \\neq P_v = \\ketbra{v}{v}$ donde $\\ket{v} = \\sum_i \\ket{i}$. Este operador proyectaría cualquier vector *siempre* en la dirección de $\\ket{v}$."
   ]
  },
  {
   "cell_type": "markdown",
   "id": "05f1f796",
   "metadata": {
    "slideshow": {
     "slide_type": "skip"
    }
   },
   "source": [
    "## Autovalores y autovectores\n",
    "       "
   ]
  },
  {
   "cell_type": "markdown",
   "id": "afd750e0",
   "metadata": {
    "slideshow": {
     "slide_type": "slide"
    }
   },
   "source": [
    "### Valores y vectores propios\n",
    "\n",
    "\n",
    "><b> Definición: </b> \n",
    "<br>\n",
    "Existen vectores, $\\ket{\\lambda}$ para los cuales la <i>la acción de un operador</i> $A$ devuelve un vector <i>paralelo</i> al original\n",
    "<br><br>\n",
    "$$\n",
    "A\\ket{\\lambda} = \\lambda \\ket{\\lambda}\\, \n",
    "$$\n",
    "<br>    \n",
    "Decimos que $\\ket{\\lambda}$ es un vector propio (o autovector) de $A$ con valor propio (o autovalor) asociado $\\lambda\\in {\\mathbb C}$ \n",
    "\n"
   ]
  },
  {
   "cell_type": "markdown",
   "id": "ecba41fb",
   "metadata": {
    "slideshow": {
     "slide_type": "skip"
    }
   },
   "source": [
    "Supongamos que $A$ tiene $d$ vectores propios con los que podemos formar un *base ortonormal* $\\{\\ket{\\lambda_i}\\}$\n",
    "tal que\n",
    "\n",
    "$$\n",
    "\\ket{\\lambda_j} = \\sum_i U_{ij}\\ket{e_i}, \n",
    "$$\n",
    "Claramente $U_{ij}$ es la matriz unitaria formada por las componentes de los vectores propios (apilados por columnas)\n",
    "\n",
    ">**Lema**: la matriz $U$ es la matriz que diagonaliza $A$\n",
    "$$\n",
    "A_{diag} = \\begin{pmatrix} \\lambda_1 & & \\\\ & \\ddots & \\\\ & & \\lambda_d \\end{pmatrix} = U^\\dagger A U\n",
    "$$\n",
    "<details>\n",
    "<summary><p > >>$~$ <i>Prueba:</i> </p></summary>\n",
    "\\begin{eqnarray}\n",
    "(A_{diag})_{ij} &\\equiv& \\bra{\\lambda_i}A\\ket{\\lambda_j} \\\\\n",
    "&=& \\big(\\sum_k\\bra{e_k}U_{ki}^*\\big)  A \\sum_l\\big( U_{lj}\\ket{e_l}) \\\\\n",
    "&=& \\sum_{k,l} U_{ki}^* \\bra{e_k} A\\ket{e_l}    U_{lj}\\\\\n",
    "&=& \\sum_{k,l} U^\\dagger_{ik} A_{kl} U_{lj} \\\\\n",
    "&=& (U^\\dagger A U)_{ij}\n",
    "\\end{eqnarray}"
   ]
  },
  {
   "cell_type": "code",
   "execution_count": 13,
   "id": "42fbdbaf",
   "metadata": {
    "slideshow": {
     "slide_type": "skip"
    }
   },
   "outputs": [
    {
     "name": "stdout",
     "output_type": "stream",
     "text": [
      "valprop = [1.+1.j 1.-1.j]\n"
     ]
    },
    {
     "data": {
      "text/latex": [
       "$$\n",
       "\n",
       "\\begin{bmatrix}\n",
       "\\frac{\\sqrt{2}}{2} & \\frac{\\sqrt{2}}{2}  \\\\\n",
       " - \\frac{\\sqrt{2} i}{2} & \\frac{\\sqrt{2} i}{2}  \\\\\n",
       " \\end{bmatrix}\n",
       "$$"
      ],
      "text/plain": [
       "<IPython.core.display.Latex object>"
      ]
     },
     "execution_count": 13,
     "metadata": {},
     "output_type": "execute_result"
    }
   ],
   "source": [
    "A = np.matrix([[1, -1], [1, 1]])\n",
    "\n",
    "' hallamos los autovalores y autovectores'\n",
    "eigvals, eigvecs = np.linalg.eig(A)\n",
    "print('valprop =',eigvals)\n",
    "#print('vecprop =',eigvecs)\n",
    "array_to_latex(eigvecs)\n"
   ]
  },
  {
   "cell_type": "code",
   "execution_count": 14,
   "id": "e89332be",
   "metadata": {
    "slideshow": {
     "slide_type": "skip"
    }
   },
   "outputs": [
    {
     "data": {
      "text/latex": [
       "$$\n",
       "A|\\lambda_m \\rangle -\\lambda_m |\\lambda_m\\rangle =  \n",
       "\\begin{bmatrix}\n",
       "0  \\\\\n",
       " 0  \\\\\n",
       " \\end{bmatrix}\n",
       "$$"
      ],
      "text/plain": [
       "<IPython.core.display.Latex object>"
      ]
     },
     "execution_count": 14,
     "metadata": {},
     "output_type": "execute_result"
    }
   ],
   "source": [
    "'verificamos que los autovectores son las columnas de v'\n",
    "\n",
    "#m=0\n",
    "m=1\n",
    "array_to_latex(np.dot(A, eigvecs[:, m]) - eigvals[m] * eigvecs[:, m],prefix=r'A|\\lambda_m \\rangle -\\lambda_m |\\lambda_m\\rangle =  ')"
   ]
  },
  {
   "cell_type": "code",
   "execution_count": 15,
   "id": "15af3932",
   "metadata": {
    "slideshow": {
     "slide_type": "skip"
    }
   },
   "outputs": [
    {
     "data": {
      "text/latex": [
       "$$\n",
       "A_{diag} = U^\\dagger A U = \n",
       "\\begin{bmatrix}\n",
       "1 + i & 0  \\\\\n",
       " 0 & 1 - i  \\\\\n",
       " \\end{bmatrix}\n",
       "$$"
      ],
      "text/plain": [
       "<IPython.core.display.Latex object>"
      ]
     },
     "execution_count": 15,
     "metadata": {},
     "output_type": "execute_result"
    }
   ],
   "source": [
    "' diagonalizamos A '\n",
    "U = np.matrix(eigvecs);\n",
    "\n",
    "array_to_latex(np.dot(U.getH(),np.dot(A,U)),prefix='A_{diag} = U^\\dagger A U = ')"
   ]
  },
  {
   "cell_type": "markdown",
   "id": "4983453a",
   "metadata": {
    "slideshow": {
     "slide_type": "skip"
    }
   },
   "source": [
    "### Autovalores degenerados: subespacios propios "
   ]
  },
  {
   "cell_type": "markdown",
   "id": "145b17c9",
   "metadata": {
    "slideshow": {
     "slide_type": "skip"
    }
   },
   "source": [
    ">**Definición:** decimos que un autovalor $\\lambda$ es $d$ <i>veces degenerado</i> si existen $d$ autovectores linealmente independientes,  $\\ket{\\lambda^{a}}$ con $a=1,...,d$ asociados al **mismo** autovalor, es decir:\n",
    "<br>\n",
    "<br>\n",
    "$$A\\ket{\\lambda^a} = \\lambda \\ket{\\lambda^a}$$ \n",
    "<br>\n"
   ]
  },
  {
   "cell_type": "markdown",
   "id": "6f51839c",
   "metadata": {
    "slideshow": {
     "slide_type": "skip"
    }
   },
   "source": [
    "Sea $\\ket{u} = \\sum_{a=1}^{d} c_a\\ket{\\lambda^a} $ una combinación de dichos vectores propios, entonces\n",
    "<br>\n",
    "<br>\n",
    "\\begin{eqnarray}\n",
    "A \\ket{u} \n",
    "=  \\sum_{a=1}^{d} c_a A\\ket{\\lambda^a}  =  \\sum_{a=1}^{d} c_a \\lambda\\ket{\\lambda^a}  =   \\lambda \\sum_{a=1}^{d} c_a \\ket{\\lambda^a}  =\\lambda\\ket{u}\n",
    "\\end{eqnarray}\n",
    "<br>\n",
    "Por tanto $\\ket{u}$ es también vector propio con idéntico autovalor. Matemáticamente esto quiere decir que los autovectores asociados a un autovalor $d$ veces degenerado generan un <i>subespacio vectorial propio</i> $\\Hil_\\lambda\\subset \\Hil$. \n",
    "\n"
   ]
  },
  {
   "cell_type": "markdown",
   "id": "1f5a7a49",
   "metadata": {
    "slideshow": {
     "slide_type": "skip"
    }
   },
   "source": [
    "- El teorema de Gramm-Schmidt garantiza que podemos elegir (mediante un cambio adecuado) el conjunto $\\{\\ket{\\lambda^a}\\}\\in (\\lambda), a=1,...,d$ de forma que que sea una  <i>base ortonormal</i> \n",
    "\n",
    "$$\\braket{\\lambda^a}{\\lambda^b}=\\delta_{ab}$$"
   ]
  },
  {
   "cell_type": "markdown",
   "id": "9657d815",
   "metadata": {
    "slideshow": {
     "slide_type": "skip"
    }
   },
   "source": [
    "- El **proyector ortogonal** sobre el subespacio propio $\\Hil_\\lambda$ será la suma de proyectores sobre cada autovector propio\n",
    "\n",
    "$$\n",
    "P = \\sum_{a=1}^{d} \\ketbra{\\lambda^a}{\\lambda^a}\n",
    "$$"
   ]
  },
  {
   "cell_type": "markdown",
   "id": "52c86998",
   "metadata": {
    "slideshow": {
     "slide_type": "skip"
    }
   },
   "source": [
    "><b>Ejemplo:</b>\n",
    "<br>    \n",
    ">- Llamemos $R_z(\\theta)$ el operador que efectúa una rotación  en el plano  $(x,y)$ de ángulo $\\theta$. Cuando $\\theta = \\pi$ encontramos las siguiente acción sobre los tres elementos $\\{\\hat{\\bf x},\\hat{\\bf y},\\hat{\\bf z}\\}$\n",
    "de la base cartesiana\n",
    "<br>    \n",
    "<br>\n",
    "\\begin{eqnarray}\n",
    "R_z(\\pi)\\hat{\\bf x} &=&-\\hat{\\bf x}  \\\\ \\rule{0mm}{6mm}\n",
    "R_z(\\pi)\\hat{\\bf y} &=& -\\hat{\\bf y}  \\\\ \\rule{0mm}{6mm}\n",
    "R_z(\\pi)\\hat{\\bf z} &=& + \\hat{\\bf z}  \n",
    "\\end{eqnarray}    \n",
    "<br>    \n",
    ">- Vemos que hay un autovector $\\hat{\\bf z}$ con autovalor $+1$ y dos autovectores $\\hat{\\bf x} $ y $\\hat{\\bf y} $\n",
    "con autovalor $-1$. \n",
    "<br>\n",
    "<br>\n",
    ">- El espacio ${\\mathbb R}^3$ se divide en dos subespacios propios de $R_z(\\pi)$, uno de dimensión 1 (a lo largo del eje $\\hat{\\bf z}$) y otro de dimensión 2 (en el plano $(\\hat{\\bf x},\\hat{\\bf y})$).\n",
    "<br>\n",
    "<br>    \n",
    ">- Los proyectores asociados serán\n",
    "<br>    \n",
    "$$\n",
    "P_{\\hat{\\bf z}}= \\ket{\\hat{\\bf z}}\\bra{\\hat{\\bf z}}=\\begin{bmatrix} 0 & & \\\\ & 0 & \\\\ & & 1 \\end{bmatrix}~~~,~~~\n",
    "P_{\\hat{\\bf x}\\hat{\\bf y}}= \\ket{\\hat{\\bf x}}\\bra{\\hat{\\bf x}}+\\ket{\\hat{\\bf y}}\\bra{\\hat{\\bf y}}=\\begin{bmatrix} 1 & & \\\\ & 1 & \\\\ & & 0 \\end{bmatrix}~~~,~~~\n",
    "$$\n"
   ]
  },
  {
   "cell_type": "markdown",
   "id": "13dddeb5",
   "metadata": {
    "slideshow": {
     "slide_type": "skip"
    }
   },
   "source": [
    "### Espectro de Operadores Normales\n",
    "\n"
   ]
  },
  {
   "cell_type": "markdown",
   "id": "da34e728",
   "metadata": {
    "slideshow": {
     "slide_type": "skip"
    }
   },
   "source": [
    "Recordemos la definición de un operador normal. $N$ será un operador normal si conmuta con su adjunto\n",
    "\n",
    "$$\n",
    "NN^\\dagger = N^\\dagger N\n",
    "$$\n",
    "\n",
    "La importancia de los operadores normales radica en el siguiente lema     "
   ]
  },
  {
   "cell_type": "markdown",
   "id": "22d1e721",
   "metadata": {
    "slideshow": {
     "slide_type": "skip"
    }
   },
   "source": [
    "><b> Teorema: </b>\n",
    "<br>\n",
    ">- Un operador es normal si y sólo si es diagonalizable\n",
    "<br>\n",
    "<br>  \n",
    ">- Dos autovectores de un operador normal asociados a dos autovalores <i>distintos</i>  son <i>ortogonales</i>\n",
    "<br>  \n",
    "<br>     \n",
    ">$$\n",
    "\\lambda_i\\neq \\lambda_j~~~~\\Longleftrightarrow ~~~~ \\braket{\\lambda_i}{\\lambda_j} = 0\n",
    "$$\n",
    "\n",
    "<details>\n",
    "    <summary><p style=\"text-align:left\"> >> <i>Prueba:</i></p></summary>\n",
    "<br>\n",
    "De la ecuación de autovalores $N\\ket{\\lambda_j} =  \\lambda_j \\ket{\\lambda_j}$, y de $NN^\\dagger = N^\\dagger N$, se sigue que\n",
    "<br>\n",
    "<br>\n",
    "$$\n",
    "\\bra{\\lambda_j}(N^\\dagger - \\lambda_j^*)(N - \\lambda_j) \\ket{\\lambda_j} = \\bra{\\lambda_j}(N - \\lambda_j)(N^\\dagger - \\lambda_j^*) \\ket{\\lambda_j}  = 0\\,\n",
    "$$\n",
    "<br>\n",
    "<br>\n",
    " de donde obtenemos $(N^\\dagger - \\lambda_j^*) \\ket{\\lambda_j} = 0 \\Rightarrow \\bra{\\lambda_j} N = \\bra{\\lambda_j}\\lambda_j$. Entonces\n",
    "<br>\n",
    "<br>\n",
    "$$\n",
    "\\bra{\\lambda_j}N\\ket{\\lambda_i} = \\lambda_j \\braket{\\lambda_j}{\\lambda_i} = \\lambda_i \\braket{\\lambda_j}{\\lambda_i} \\, ,\n",
    "$$\n",
    "de donde se sigue que, para $\\lambda_i \\neq \\lambda_j \\Rightarrow \\braket{\\lambda_i}{\\lambda_j} = 0$. \n",
    "</details>"
   ]
  },
  {
   "cell_type": "markdown",
   "id": "66a3ce24",
   "metadata": {
    "slideshow": {
     "slide_type": "skip"
    }
   },
   "source": [
    "En general, cada autovalor $\\lambda_k$ será $d_k \\geq 1$ veces degenerado. \n",
    "\n",
    "En ese caso hay  $\\{\\ket{\\lambda^a_k}\\}, a=1,...,d_k$ autovectores que generan el subespacio propio, $\\Hil_{\\lambda_k}\\subset \\Hil $, de dimensión $d_k$. \n",
    "\n",
    "Subespacios $\\Hil_{\\lambda_k}\\perp \\Hil_{\\lambda_j}$ son ortogonales para $k\\neq j$ según el teorema. \n",
    "<br>\n",
    "\n"
   ]
  },
  {
   "cell_type": "markdown",
   "id": "c8fb3055",
   "metadata": {
    "slideshow": {
     "slide_type": "skip"
    }
   },
   "source": [
    "\n",
    "**Resumen**: siempre podemos encontrar una base  ortonormal de $\\Hil$, formada por autovectores de un operador normal $N$\n",
    "\n",
    "$$\n",
    "I = \\sum_k\\sum_{a=1}^{d_k} \\ket{\\lambda^a_k}\\bra{\\lambda^a_k} ~~~~~~~~~~~;~~~~~~~~~ \\braket{\\lambda^a_j}{\\lambda^b_k} = \\delta_{ab}\\delta_{jk}\n",
    "$$\n",
    "\n",
    "El proyector sobre el subespacio propio $\\Hil_{\\lambda_k}$ será\n",
    "\n",
    "$$\n",
    "P_k = \\sum_{a=1}^{d_k} \\ketbra{\\lambda^a_k}{\\lambda^a_k}\n",
    "$$"
   ]
  },
  {
   "cell_type": "markdown",
   "id": "c8a0a67c",
   "metadata": {
    "slideshow": {
     "slide_type": "slide"
    }
   },
   "source": [
    "### Descomposición  espectral\n"
   ]
  },
  {
   "cell_type": "markdown",
   "id": "ebc752fb",
   "metadata": {
    "slideshow": {
     "slide_type": "-"
    }
   },
   "source": [
    "><b> Teorema Espectral </b>: \n",
    "<br>     \n",
    "Para todo operador normal $N$, existe una base de  autovectores ortonormales,  $\\{\\ket{\\lambda^a_k}\\}$,  tales que \n",
    "$A$ admite la siguiente <b> descomposición espectral </b>\n",
    "<br>\n",
    "<br>\n",
    "$$\n",
    "N = \\sum_{k=1}^d \\lambda_k   P_k\n",
    "$$\n",
    "<br>     \n",
    "donde $d=  {\\rm dim}(\\Hil)$ y $P_k = \\sum_{a=1}^{g_k} \\ketbra{\\lambda^a_k}{\\lambda^a_k}$ es el proyector sobre el subespacio propio $\\Hil_{\\lambda_k}$ si $\\lambda_k$ es $g_k$ veces degenerado.\n",
    "</p>"
   ]
  },
  {
   "cell_type": "code",
   "execution_count": 4,
   "id": "cf04cdf2",
   "metadata": {
    "slideshow": {
     "slide_type": "slide"
    }
   },
   "outputs": [
    {
     "data": {
      "text/latex": [
       "$$\n",
       "\n",
       "\\begin{bmatrix}\n",
       "1 & 1  \\\\\n",
       " -1 & 1  \\\\\n",
       " \\end{bmatrix}\n",
       "$$"
      ],
      "text/plain": [
       "<IPython.core.display.Latex object>"
      ]
     },
     "execution_count": 4,
     "metadata": {},
     "output_type": "execute_result"
    }
   ],
   "source": [
    "A = np.array([[1, 1], [-1, 1]])\n",
    "array_to_latex(A)\n"
   ]
  },
  {
   "cell_type": "code",
   "execution_count": 5,
   "id": "76ebebd2",
   "metadata": {
    "slideshow": {
     "slide_type": "fragment"
    }
   },
   "outputs": [
    {
     "data": {
      "text/latex": [
       "$$\n",
       "P_0=\n",
       "\\begin{bmatrix}\n",
       "\\frac{1}{2} & - \\frac{i}{2}  \\\\\n",
       " \\frac{i}{2} & \\frac{1}{2}  \\\\\n",
       " \\end{bmatrix}\n",
       "$$"
      ],
      "text/plain": [
       "<IPython.core.display.Latex object>"
      ]
     },
     "metadata": {},
     "output_type": "display_data"
    },
    {
     "data": {
      "text/latex": [
       "$$\n",
       "P_1=\n",
       "\\begin{bmatrix}\n",
       "\\frac{1}{2} & \\frac{i}{2}  \\\\\n",
       " - \\frac{i}{2} & \\frac{1}{2}  \\\\\n",
       " \\end{bmatrix}\n",
       "$$"
      ],
      "text/plain": [
       "<IPython.core.display.Latex object>"
      ]
     },
     "metadata": {},
     "output_type": "display_data"
    },
    {
     "data": {
      "text/latex": [
       "$$\n",
       "P_0 + P_1=\n",
       "\\begin{bmatrix}\n",
       "1 & 0  \\\\\n",
       " 0 & 1  \\\\\n",
       " \\end{bmatrix}\n",
       "$$"
      ],
      "text/plain": [
       "<IPython.core.display.Latex object>"
      ]
     },
     "execution_count": 5,
     "metadata": {},
     "output_type": "execute_result"
    }
   ],
   "source": [
    "' Realizamos la descomposición espectral'\n",
    "eigvals, eigvecs = np.linalg.eig(A)\n",
    "\n",
    "eigvec0 = eigvecs[:,0]\n",
    "P0 = tQ.ket_bra(eigvec0,eigvec0)\n",
    "display(array_to_latex(P0,prefix='P_0='))\n",
    "\n",
    "eigvec1 = eigvecs[:,1]\n",
    "P1 = tQ.ket_bra(eigvec1,eigvec1)\n",
    "display(array_to_latex(P1,prefix='P_1='))\n",
    "\n",
    "'verificamos completitud'\n",
    "array_to_latex(P0+P1,prefix='P_0 + P_1=')"
   ]
  },
  {
   "cell_type": "code",
   "execution_count": 7,
   "id": "3d18ef69",
   "metadata": {
    "slideshow": {
     "slide_type": "skip"
    }
   },
   "outputs": [
    {
     "data": {
      "text/latex": [
       "$$\n",
       "\n",
       "\\begin{bmatrix}\n",
       "1 & 1  \\\\\n",
       " -1 & 1  \\\\\n",
       " \\end{bmatrix}\n",
       "$$"
      ],
      "text/plain": [
       "<IPython.core.display.Latex object>"
      ]
     },
     "execution_count": 7,
     "metadata": {},
     "output_type": "execute_result"
    }
   ],
   "source": [
    "' verificamos el teorema de descomposición espectral '\n",
    "A_descomp_espect = eigvals[0]*P0+eigvals[1]*P1\n",
    "\n",
    "array_to_latex(A_descomp_espect)\n"
   ]
  },
  {
   "cell_type": "markdown",
   "id": "8df31e3b",
   "metadata": {
    "slideshow": {
     "slide_type": "slide"
    }
   },
   "source": [
    "La matriz $A_{ij}$ que expresa $A$ en la base $\\ket{\\lambda_i}$ es diagonal \n",
    "\n",
    "$$\n",
    "A_{ij} = \\bra{\\lambda^a_i} A\\ket{\\lambda^b_j} =  \\lambda_k \\delta_{kj} \\delta_{ab} =\\begin{bmatrix} \\lambda_1 &  &  &  &  \\\\ & \\ddots & & & \\\\ & & \\lambda_2 & &  \\\\&  & & \\ddots & \\\\  & & & &  \\lambda_N \\end{bmatrix}\n",
    "$$\n",
    "<br>\n",
    "donde $\\lambda_k$ aparecerá $d_k$ veces repetido."
   ]
  },
  {
   "cell_type": "markdown",
   "id": "499a7223",
   "metadata": {
    "slideshow": {
     "slide_type": "skip"
    }
   },
   "source": [
    "<b>Notar:</b>\n",
    "<br>\n",
    "<br>\n",
    "- El operador identidad tiene a cualquier vector por autovector $ I\\ket{v} = \\ket{v}$, con autovalores $\\lambda_ i = 1$. Por tanto, en <b>cualquier base</b>, la matriz asociada a $I$ tiene la forma diagonal\n",
    "$$\n",
    "I_{ij} = \\delta_{ij} = \\begin{pmatrix} 1 &  &  &  \\\\ & 1 & &  \\\\ & & \\ddots & \\\\ & & &  1 \\end{pmatrix}\n",
    "$$\n",
    "<br>\n",
    "\n",
    "- La descomposición espectral de $I$ no es otra que la <b>relación de completitud</b>, que es cierta *para cualquier base*, ya que todas las bases son bases de autoestados de $I$\n",
    "$$\n",
    "I ~=~ \\sum_{i=1}^N \\ketbra{\\lambda_i}{\\lambda_i} ~=~ \\sum_{i=1}^N \\ketbra{e_i}{e_i}\n",
    "$$"
   ]
  },
  {
   "cell_type": "markdown",
   "id": "26207dd5",
   "metadata": {},
   "source": [
    "><b> Ejercicio: </b> *(explícaselo a tu ordenador)*<br>\n",
    "escribe una función en python, $spectral\\_decomp$, que verifique si un operador $A$ es normal y, en caso afirmativo, devuelva las dos listas $\\lambda_i$ y $P_i$ asociadas a la decomposición espectral  $A = \\sum_i \\lambda_i P_i$.   \n"
   ]
  },
  {
   "cell_type": "markdown",
   "id": "d911cc7f",
   "metadata": {
    "slideshow": {
     "slide_type": "slide"
    }
   },
   "source": [
    "### Espectro de Operadores Hermíticos, Unitarios y Proyectores\n",
    "\n",
    "Los operadores hermíticos, unitarios y proyectores, son casos particulares de operadores  normales. Por tanto son diagonalizables y sus autovectores, asociados a autovalores distintos, generan subespacios mútuamente ortogonales. \n",
    "\n",
    "\n",
    "Vamos a ver cómo los requisitos adicionales que definend operadores hermíticos, unitarios y proyectores, se traducen en propiedades particulares para sus espectros. \n",
    "\n"
   ]
  },
  {
   "cell_type": "markdown",
   "id": "077177ed",
   "metadata": {},
   "source": [
    "\n",
    "- **Espectro de Operadores Hermíticos**\n",
    "<br>\n",
    "\n",
    ">**Teorema**:  los autovalores de un operador hermíticos son reales $\\lambda_i \\in {\\mathbb R}$.\n",
    "<br>\n",
    "\n",
    "<details>\n",
    "<summary>\n",
    "<p style=\"text-align:left\"> >> <i>Prueba:</i></p>\n",
    "</summary>\n",
    "<br>\n",
    "Tomemos un autovector normalizado de $A$, $\\ket{\\lambda}$ de autovalor $\\lambda$.\n",
    "<br>\n",
    "<br>\n",
    "$$\n",
    "\\lambda = \\bra{\\lambda}A\\ket{\\lambda} =  (\\bra{\\lambda}A^\\dagger\\ket{\\lambda})^* = (\\bra{\\lambda}A\\ket{\\lambda})^*= \\lambda^* .~~~\n",
    "$$   \n",
    "}\n"
   ]
  },
  {
   "cell_type": "markdown",
   "id": "edaa8323",
   "metadata": {
    "slideshow": {
     "slide_type": "skip"
    }
   },
   "source": [
    "><b>Ejercicio:</b> *(explícaselo a tu ordenador)*\n",
    "<br>\n",
    "Escribe una función en python, $random\\_hermitian$, que reciba un número entero $d$ y genere una matriz hermítica de esa dimensión. <br>    \n",
    "Comprueba en distintos casos que el espectro es real. \n",
    " "
   ]
  },
  {
   "cell_type": "markdown",
   "id": "aca5bc42",
   "metadata": {
    "slideshow": {
     "slide_type": "slide"
    }
   },
   "source": [
    "- **Espectro de Operadores Unitarios**\n",
    "\n",
    "\n",
    ">**Teorema**: los autovalores de un operador unitario son fases puras\n",
    "<br><br>\n",
    "$$\n",
    "U^\\dagger = U^{-1} ~~~\\Longleftrightarrow ~~~\\lambda_i = e^{i\\phi_i}\n",
    "$$ \n",
    "</div>\n",
    "\n",
    "<details>\n",
    "<summary><p style=\"color:grey;text-align:left\"> >> <i>Prueba</i> </p></summary>\n",
    "\n",
    "aquí tu prueba\n",
    "    \n",
    "</details>\n",
    "\n"
   ]
  },
  {
   "cell_type": "markdown",
   "id": "b9630442",
   "metadata": {
    "slideshow": {
     "slide_type": "slide"
    }
   },
   "source": [
    "- **Espectro de Proyectores**\n",
    "\n",
    "><b> Teorema: </b>\n",
    "los autovalores de un proyector sólo pueden ser $~0~$ ó $~1~$\n",
    "<br><br>\n",
    "$$\n",
    "P^2= P ~~~\\Longleftrightarrow ~~~\\lambda_i \\in \\{0,1\\}\n",
    "$$ \n",
    "\n",
    "\n",
    "<details>\n",
    "<summary><p style=\"color:grey;text-align:left\"> >> <i>Prueba</i> </p></summary>\n",
    "La ecuación \n",
    "    \n",
    "$$ P^2 = P ~~~~~\\Rightarrow ~~~~~~~~ P^2 \\ket{u} = P\\ket{u} $$\n",
    "\n",
    "sólo tiene dos soluciones consistentes \n",
    "    \n",
    "$$\n",
    "P\\ket{u} = \\ket{u}~~~~~~~\\hbox{y} ~~~~~~~~~~P\\ket{u} = 0\n",
    "$$\n",
    "</details>\n",
    "\n"
   ]
  },
  {
   "cell_type": "markdown",
   "id": "511cc8cd",
   "metadata": {
    "slideshow": {
     "slide_type": "skip"
    }
   },
   "source": [
    "### Operadores que conmutan\n",
    "\n",
    "Cuando dos operadores conmutan se dan ciertas propiedades algebraicas que son muy ventajosas. En cierto modo se parecen más a c-números. Veamos la primera.\n",
    " \n",
    "><b> Teorema </b>\n",
    "<br>     \n",
    "Dados dos operadores $A$ y $B$ que conmutan, [A,B] = 0, existe una base $\\{\\ket{\\lambda_i}\\}$ de autovalores simultáneos de ambos operadores, es decir \n",
    "<br>\n",
    "<br>\n",
    "$$\n",
    "A = \\lambda_i^A\\ketbra{\\lambda_i}{\\lambda_i} ~~~~,~~~~~ B= \\lambda_i^B\\ketbra{\\lambda_i}{\\lambda_i} \n",
    "$$\n",
    "\n",
    "<details>\n",
    "<summary> >> <i>Prueba</i> </summary>\n",
    "Supongamos que $A$ y $B$ conmutan. Entonces la acción de $A$ <i>estabiliza</i> los subespacios propios de $B$. \n",
    "\n",
    "Es decir, si $\\ket{\\lambda}$ es autoestado de $B$, entonces $B\\ket{\\lambda} = \\ket{\\mu}$ también es autoestado con idéntico autovalor. Se comprueba fácilmente\n",
    "<br>\n",
    "<br>\n",
    "$$\n",
    "A(B\\ket{\\lambda} ) = B(A\\ket{\\lambda}) = B(\\lambda\\ket{\\lambda}) = \\lambda (B\\ket{\\lambda})\n",
    "$$\n",
    "<br>\n",
    "\n",
    "Por tanto $\\ket{\\lambda}$ y $B\\ket{\\lambda}$ pertenecen al <i>mismo subespacio propio</i>. Esto es lo que se entiende por <i>estabilizar el subespacio</i>. \n",
    "\n",
    "\n",
    "Si $\\lambda$ es degenerado esto sólo asegura que $B\\ket{\\lambda} = \\ket{\\lambda'}$ pertenece al subespacio propio del mismo autovalor $\\lambda$. \n",
    "\n",
    "Esto quiere decir que, dento de cada subespacio propio de $B$, podemos escoger la base que queramos. En particular podemos escoger una base que diagonalice $A$ dentro de dicho subespacio.     \n",
    "</details>"
   ]
  },
  {
   "cell_type": "markdown",
   "id": "1c70272c",
   "metadata": {
    "slideshow": {
     "slide_type": "skip"
    }
   },
   "source": [
    "En otras palabras, dos operadores que conmutan, son diagonalizables simultáneamente. \n",
    "\n",
    "Eso no implica que sus autovalores sean iguales. La matriz de cada uno en la base que diagonaliza ambos $\\{\\ket{\\lambda_i}\\}$ es\n",
    "<br>\n",
    "\n",
    "$$\n",
    "A = \\begin{bmatrix} \\lambda^A_1 & & &  \\\\ & \\lambda^A_2 & &   \\\\ & & \\ddots &  \\\\ & & & \\lambda^A_n \n",
    "\\end{bmatrix}~~~~~~~,~~~~~~~~\n",
    "B = \\begin{bmatrix} \\lambda^B_1 & & &  \\\\ & \\lambda^B_2 & &   \\\\ & & \\ddots &  \\\\ & & & \\lambda^B_n \n",
    "\\end{bmatrix}\\, .\n",
    "$$"
   ]
  },
  {
   "cell_type": "markdown",
   "id": "d543d07a",
   "metadata": {
    "slideshow": {
     "slide_type": "skip"
    }
   },
   "source": [
    "### Descomposición Polar (DP)\n",
    "\n",
    "><b> Teorema: \n",
    "<br>   \n",
    "</b> todo operador $A\\in \\Lin(\\Hil)$ admite la descomposición polar $A = UR$ donde $U$ es un operador unitario, y $R$ es un operador semi-definido positivo (sólo tiene autovalores positivos o cero) \n"
   ]
  },
  {
   "cell_type": "markdown",
   "id": "aa2c3ecc",
   "metadata": {
    "slideshow": {
     "slide_type": "skip"
    }
   },
   "source": [
    "- La descomposición polar es *única* y generaliza la representación polar de *números complejos* $z = r e^{i\\phi}$ a *operadores*  $A = UR$\n",
    "<br>\n",
    "\n",
    "- El hecho de que $r\\geq 0$ es la contrapartida a que $R$ sea semi-definida positiva. \n",
    "<br>\n",
    "\n",
    "- El factor $e^{i\\phi}$ es análogo al hecho de que un operador unitario, como veremos, sólo tiene autovalores que son fases puras. "
   ]
  },
  {
   "cell_type": "code",
   "execution_count": 20,
   "id": "af607659",
   "metadata": {
    "slideshow": {
     "slide_type": "skip"
    }
   },
   "outputs": [
    {
     "name": "stdout",
     "output_type": "stream",
     "text": [
      "[2.252+0.j 0.417-0.j 0.875+0.j]\n"
     ]
    },
    {
     "data": {
      "text/latex": [
       "$$\n",
       "U=\n",
       "\\begin{bmatrix}\n",
       "-0.0580178141 + 0.1884493112 i & 0.384923871 + 0.2482082334 i & 0.8633350933 - 0.0774570427 i  \\\\\n",
       " 0.3911086141 + 0.1644672642 i & 0.6524985568 + 0.4513831759 i & -0.4195077651 + 0.1204021086 i  \\\\\n",
       " 0.7292141087 + 0.4993517247 i & -0.3416929121 - 0.2096928755 i & 0.1681509064 + 0.1729010213 i  \\\\\n",
       " \\end{bmatrix}\n",
       "$$"
      ],
      "text/plain": [
       "<IPython.core.display.Latex object>"
      ]
     },
     "metadata": {},
     "output_type": "display_data"
    },
    {
     "data": {
      "text/latex": [
       "$$\n",
       "U^\\dagger U=\n",
       "\\begin{bmatrix}\n",
       "1 & 0 & 0  \\\\\n",
       " 0 & 1 & 0  \\\\\n",
       " 0 & 0 & 1  \\\\\n",
       " \\end{bmatrix}\n",
       "$$"
      ],
      "text/plain": [
       "<IPython.core.display.Latex object>"
      ]
     },
     "metadata": {},
     "output_type": "display_data"
    },
    {
     "data": {
      "text/plain": [
       "array([1., 1., 1.])"
      ]
     },
     "execution_count": 20,
     "metadata": {},
     "output_type": "execute_result"
    }
   ],
   "source": [
    "'''Método para construir una matriz unitaria arbitraria usando la descomposición polar'''\n",
    "d = 3\n",
    "A = np.matrix(np.random.rand(d,d)+ np.random.rand(d,d) * 1j)\n",
    "\n",
    "#u, s, vh = linalg.svd(A, full_matrices=False)\n",
    "u,r = la.polar(A)\n",
    "    \n",
    "R = np.matrix(r) \n",
    "' verificamos que R sólo tiene autovalores no-negativos '\n",
    "Reigval, Reigvec = la.eig(R)\n",
    "print(np.round(Reigval,3))\n",
    "\n",
    "U=np.matrix(u) \n",
    "display(array_to_latex(U,prefix='U='))\n",
    "\n",
    "''' Verifiquemos unitariedad '''\n",
    "display(array_to_latex(np.dot(U.getH(),U),prefix='U^\\dagger U='))\n",
    "\n",
    "''' verificamos que los autovalores de U tienen norma unidad'''\n",
    "np.round([la.norm(la.eig(U)[0][i]) for i in range(d)],5)"
   ]
  },
  {
   "cell_type": "markdown",
   "id": "248ec9f7",
   "metadata": {
    "slideshow": {
     "slide_type": "slide"
    }
   },
   "source": [
    "### Descomposición en Valores Singulares (SVD)\n"
   ]
  },
  {
   "cell_type": "markdown",
   "id": "090cde1f",
   "metadata": {
    "slideshow": {
     "slide_type": "skip"
    }
   },
   "source": [
    "Vamos a enunciar este teorema para matrices. Concretamente el teorema habla de una matriz $m\\times n$. Este tipo de matrices se corresponden con operadores $O \\in \\Lin(\\Hil_A,\\Hil_B)$ entre espacios de dimensiones $m$ y $n$."
   ]
  },
  {
   "cell_type": "markdown",
   "id": "3a4c2230",
   "metadata": {},
   "source": [
    "Sea $A\\in \\Lin(\\Hil)$ un operador arbitrario. Podemos formar otro operador $A^\\dagger A$ \n",
    "\n",
    ">**Lema**:  los autovalores de $A^\\dagger A$ son realess, $\\lambda_i\\in {\\mathbb R}$,  y no-negativos $\\lambda_i\\geq 0$\n",
    "<details>\n",
    "<summary> >> <i>Prueba</i> </summary> $~$ Claramente $A^\\dagger A$ es un operador hermítico $(A^\\dagger A)^\\dagger = A^\\dagger A$, así que sus autovalores son reales $\\lambda_i \\in {\\mathbb R}$. \n",
    "\n",
    "Además es definido semi-positivo. Es decir, para todo $\\ket{v}\\in \\Hil$\n",
    "\n",
    "$$\n",
    "\\bra{v}(A^\\dagger A) \\ket{v} = \\| A\\ket{v}\\|^2 \\geq 0 \n",
    "$$\n",
    "\n",
    "donde la desigualdad de satura si y sólo si $A\\ket{v} = 0$. Por tanto todos los autovalores deben ser positivos o cero $\\lambda_i \\geq 0$\n",
    "    \n",
    "</details>    "
   ]
  },
  {
   "cell_type": "markdown",
   "id": "9e6c3cc3",
   "metadata": {},
   "source": [
    "Al ser no-negativos, los autovalores $\\lambda_i$ admiten una raíz cuadrada. Los que no son nulos tienen una importancia especial, y por eso se merecen un nombre \n",
    "\n",
    ">**Definición**: los números $\\sigma_i = \\sqrt{\\lambda_i} > 0$ se denominan <b>valores singulares</b> de $A$, donde $\\lambda_i>0$ son los autovalores no-nulos de $A^\\dagger A$."
   ]
  },
  {
   "cell_type": "markdown",
   "id": "c928d454",
   "metadata": {
    "slideshow": {
     "slide_type": "-"
    }
   },
   "source": [
    "><b> Teorema:</b>$~$\n",
    "Sea $A$ una matriz compleja $m\\times n$. Entonces  admite la siguiente <b>descomposición en valores singulares</b>\n",
    "<br>\n",
    "<br>\n",
    "$$\n",
    "A = U\\,\\Sigma\\, V^{\\dagger} \\, ,\n",
    "$$\n",
    "<br>\n",
    "donde $U\\in U(m)$, $V\\in U(n)$ son matrices unitarias cuadradas y $\\,\\Sigma \\,$ es una matriz rectangular $m\\times n$ con $\\sigma_1, ...,\\sigma_r$ <i>valores singulares</i> reales y positivos   en la diagonal, donde $r\\leq {\\rm min}(m,n)$. \n",
    "    \n"
   ]
  },
  {
   "cell_type": "code",
   "execution_count": 67,
   "id": "dbd4c215",
   "metadata": {
    "slideshow": {
     "slide_type": "slide"
    }
   },
   "outputs": [
    {
     "data": {
      "text/latex": [
       "$$\n",
       "A=\n",
       "\\begin{bmatrix}\n",
       "0.0773964539 + 0.6810737331 i & 0.3585454477 + 0.9496809919 i  \\\\\n",
       " 1.246739534 - 1.5756473101 i & 1.3594037303 - 0.5276024719 i  \\\\\n",
       " -0.0438868881 - 1.0118714004 i & 1.1447671705 + 0.4355408865 i  \\\\\n",
       " \\end{bmatrix}\n",
       "$$"
      ],
      "text/plain": [
       "<IPython.core.display.Latex object>"
      ]
     },
     "metadata": {},
     "output_type": "display_data"
    },
    {
     "name": "stdout",
     "output_type": "stream",
     "text": [
      "the shape of A is : (3, 2)\n"
     ]
    }
   ],
   "source": [
    "A = np.random.randn(3,2)+ 1j*np.random.randn(3,2)\n",
    "display(array_to_latex(A,prefix='A='))\n",
    "print( 'the shape of A is :', A.shape)"
   ]
  },
  {
   "cell_type": "code",
   "execution_count": 71,
   "id": "1e4e77d3",
   "metadata": {
    "slideshow": {
     "slide_type": "slide"
    }
   },
   "outputs": [
    {
     "data": {
      "text/latex": [
       "$$\n",
       "U=\n",
       "\\begin{bmatrix}\n",
       "-0.221884957 - 0.2758058122 i & -0.524926579 + 0.0886189877 i & -0.6588351925 - 0.3965263807 i  \\\\\n",
       " -0.4612709323 + 0.6898625619 i & 0.284654761 - 0.059596911 i & -0.0864338709 - 0.4682604339 i  \\\\\n",
       " -0.244557824 + 0.355258305 i & -0.7422690947 - 0.2847019986 i & 0.3110792517 + 0.2918802318 i  \\\\\n",
       " \\end{bmatrix}\n",
       "$$"
      ],
      "text/plain": [
       "<IPython.core.display.Latex object>"
      ]
     },
     "metadata": {},
     "output_type": "display_data"
    },
    {
     "data": {
      "text/latex": [
       "$$\n",
       "\\Sigma=\n",
       "\\begin{bmatrix}\n",
       "4.9357412272 & 0  \\\\\n",
       " 0 & 2.1537080903  \\\\\n",
       " 0 & 0  \\\\\n",
       " \\end{bmatrix}\n",
       "$$"
      ],
      "text/plain": [
       "<IPython.core.display.Latex object>"
      ]
     },
     "metadata": {},
     "output_type": "display_data"
    },
    {
     "data": {
      "text/latex": [
       "$$\n",
       "V=\n",
       "\\begin{bmatrix}\n",
       "-0.7479798321 & 0.6637214558  \\\\\n",
       " -0.4920794208 + 0.4454032044 i & -0.5545481155 + 0.5019464282 i  \\\\\n",
       " \\end{bmatrix}\n",
       "$$"
      ],
      "text/plain": [
       "<IPython.core.display.Latex object>"
      ]
     },
     "metadata": {},
     "output_type": "display_data"
    },
    {
     "data": {
      "text/latex": [
       "$$\n",
       "U^{\\dagger}U =\n",
       "\\begin{bmatrix}\n",
       "1 & 0 & 0  \\\\\n",
       " 0 & 1 & 0  \\\\\n",
       " 0 & 0 & 1  \\\\\n",
       " \\end{bmatrix}\n",
       "$$"
      ],
      "text/plain": [
       "<IPython.core.display.Latex object>"
      ]
     },
     "metadata": {},
     "output_type": "display_data"
    },
    {
     "data": {
      "text/latex": [
       "$$\n",
       "V^{\\dagger}V =\n",
       "\\begin{bmatrix}\n",
       "1 & 0  \\\\\n",
       " 0 & 1  \\\\\n",
       " \\end{bmatrix}\n",
       "$$"
      ],
      "text/plain": [
       "<IPython.core.display.Latex object>"
      ]
     },
     "metadata": {},
     "output_type": "display_data"
    }
   ],
   "source": [
    "U, sig, Vadj = la.svd(A, full_matrices=True)\n",
    "m = U.shape[0]\n",
    "n = Vadj.shape[0]\n",
    "\n",
    "V = Vadj.T.conj()\n",
    "Sigma = np.zeros([m,n])\n",
    "for i in range(min(m,n)):\n",
    "    Sigma[i,i]=s[i]\n",
    "\n",
    "    \n",
    "display(array_to_latex(U,prefix='U='))\n",
    "display(array_to_latex(Sigma,prefix='\\Sigma='))\n",
    "display(array_to_latex(V,prefix='V='))\n",
    "\n",
    "'''Verifiquemos unitariedad'''\n",
    "display(array_to_latex(np.dot(U.T.conj(),U),prefix='U^{\\dagger}U ='))\n",
    "display(array_to_latex(np.dot(V.T.conj(),V),prefix='V^{\\dagger}V ='))\n",
    "\n"
   ]
  },
  {
   "cell_type": "code",
   "execution_count": 84,
   "id": "945c5b0d",
   "metadata": {},
   "outputs": [
    {
     "name": "stdout",
     "output_type": "stream",
     "text": [
      "[1.4137767  8.77588808]\n"
     ]
    },
    {
     "data": {
      "text/latex": [
       "$$\n",
       "H=\n",
       "\\begin{bmatrix}\n",
       "-0.6637214558 & -0.7479798321  \\\\\n",
       " 0.5545481155 - 0.5019464282 i & -0.4920794208 + 0.4454032044 i  \\\\\n",
       " \\end{bmatrix}\n",
       "$$"
      ],
      "text/plain": [
       "<IPython.core.display.Latex object>"
      ]
     },
     "execution_count": 84,
     "metadata": {},
     "output_type": "execute_result"
    }
   ],
   "source": [
    "(sig1, V) = la.eigh(np.dot(A.T.conj(),A))\n",
    "\n",
    "print(sig1)\n",
    "array_to_latex(V, prefix='H=')"
   ]
  },
  {
   "cell_type": "code",
   "execution_count": 83,
   "id": "06687410",
   "metadata": {},
   "outputs": [
    {
     "name": "stdout",
     "output_type": "stream",
     "text": [
      "[-4.44655927e-16  1.41377670e+00  8.77588808e+00]\n"
     ]
    },
    {
     "data": {
      "text/latex": [
       "$$\n",
       "U=\n",
       "\\begin{bmatrix}\n",
       "0.7689583744 & 0.5323544293 & 0.3539799149  \\\\\n",
       " 0.3155220089 + 0.3566293733 i & -0.2906038897 + 0.0113799858 i & -0.2483729147 - 0.7918283416 i  \\\\\n",
       " -0.417042302 - 0.0896665427 i & 0.6845190979 + 0.4042922724 i & -0.1235058862 - 0.4132351493 i  \\\\\n",
       " \\end{bmatrix}\n",
       "$$"
      ],
      "text/plain": [
       "<IPython.core.display.Latex object>"
      ]
     },
     "execution_count": 83,
     "metadata": {},
     "output_type": "execute_result"
    }
   ],
   "source": [
    "(sig2, U) = la.eigh(np.dot(A,A.T.conj()))\n",
    "\n",
    "print(sig2)\n",
    "array_to_latex(U, prefix='U=')"
   ]
  },
  {
   "cell_type": "markdown",
   "id": "a5b6cce4",
   "metadata": {},
   "source": [
    "No acaba de salir $U$"
   ]
  },
  {
   "cell_type": "markdown",
   "id": "82cdf99f",
   "metadata": {
    "slideshow": {
     "slide_type": "skip"
    }
   },
   "source": [
    "## Traza de un operador"
   ]
  },
  {
   "cell_type": "markdown",
   "id": "9ff182b3",
   "metadata": {
    "slideshow": {
     "slide_type": "slide"
    }
   },
   "source": [
    "### Definición de traza de un operador\n",
    "\n",
    "><b> Definición:</b> la traza de un operador $A$ se define como la suma de elementos diagonales de su matriz\n",
    "<br>\n",
    "<br>    \n",
    "$$\n",
    "\\tr A = \\sum_ i \\bra{e_i} A\\ket{e_i} =  \\sum_{i} A_{ii} \n",
    "$$\n",
    "<br>\n",
    "de sus elementos de matriz diagonales <u> en cualquier base </u>        \n",
    "\n"
   ]
  },
  {
   "cell_type": "markdown",
   "id": "15c0026e",
   "metadata": {
    "slideshow": {
     "slide_type": "slide"
    }
   },
   "source": [
    "Para ser consistente esta definición es necesario probar que se puede calcular en cualquier base\n",
    "\n",
    "><b> Lema:</b> la traza de un operador es <i>independiente de la base</i> en la que se calcule\n",
    "</div>  \n",
    "\n",
    "<details>\n",
    "<summary> >> <i>Prueba</i> </summary>\n",
    "\\begin{eqnarray} Sean $\\{\\ket{i}\\}$ y $\\{\\ket{\\tilde i}\\}$ dos bases cualesquiera. Entonces\n",
    "{\\rm tr} A  &=&\\sum_i A_{ii} =\\sum_{i} \\bra{i}A\\ket{i} =\\sum_{i} \\bra{i}A\\left( \\sum_j\\ketbra{\\tilde j}{\\tilde j}\\right)\\ket{i}\n",
    "\\nonumber\\\\\n",
    "&=& \\sum_{ij}\\bra{i}A\\ket{\\tilde j} \\braket{\\tilde j}{i} = \\sum_{ij}\\braket{\\tilde j}{i}\\bra{i}A\\ket{\\tilde j}  \\nonumber\\\\\n",
    "&=& \\sum_{j} \\bra{\\tilde j}\\left(\\sum_i\\ketbra{i}{i}\\right) A \\ket{\\tilde j}= \\sum_{j} \\bra{\\tilde j}A\\ket{\\tilde j}\\nonumber\\\\\n",
    "&=& \\sum_j \\tilde A_{jj}\n",
    "\\end{eqnarray}\n",
    "</details>"
   ]
  },
  {
   "cell_type": "markdown",
   "id": "dcc64d79",
   "metadata": {
    "slideshow": {
     "slide_type": "slide"
    }
   },
   "source": [
    "- Si $A$ es diagonalizable, la traza es la suma de sus autovalores. En efecto, si $\\ket{\\lambda_i}$ es la base de autoestados \n",
    "<br>\n",
    "<br>\n",
    "$$\n",
    "A\\ket{\\lambda_j} = \\lambda_i \\ket{\\lambda_i}\n",
    "$$ \n",
    "<br>\n",
    "entonces\n",
    "<br>\n",
    "$$\n",
    "{\\rm tr} A = \\sum_i \\bra{\\lambda_i}A\\ket{\\lambda_i} = \\sum_i \\lambda_i\n",
    "$$\n"
   ]
  },
  {
   "cell_type": "markdown",
   "id": "1b440807",
   "metadata": {
    "slideshow": {
     "slide_type": "skip"
    }
   },
   "source": [
    "- La traza es una operación *lineal*\n",
    "<br>\n",
    "<br>\n",
    "$$\n",
    "{\\rm tr} (A + B ) = {\\rm tr}A + {\\rm tr}B\n",
    "$$"
   ]
  },
  {
   "cell_type": "markdown",
   "id": "e30a9a1c",
   "metadata": {
    "slideshow": {
     "slide_type": "slide"
    }
   },
   "source": [
    "- La traza de un producto de operadores tiene la propiedad de *cíclicidad*: es invariante bajo permutaciones  cíclicas de los operadores en su argumento. Por ejemplo, para tres operadores $A, B$ y $C$\n",
    "<br>\n",
    "$$\n",
    "{\\rm tr}(ABC)= {\\rm tr}(BCA) \n",
    "$$\n",
    "\n",
    "<details>\n",
    "<summary> >> <i>Prueba</i> </summary>\n",
    "\\begin{eqnarray} \n",
    "    {\\rm tr}(ABC)&=&\\sum_i (ABC)_{ii} =  \\sum_{ijk} A_{ij}B_{jk}C_{ki}\\\\\n",
    "    &=& \\sum_{ijk} B_{jk}C_{ki}A_{ij} = \\sum_j (BCA)_{jj}\\\\\n",
    "    &=&  {\\rm tr}(BCA)\n",
    "\\end{eqnarray}\n",
    "</details>\n",
    "\n",
    "Para un producto de dos operadores, el anterior resultado implica que la *traza de un conmutador es cero*. Dicho de otra forma\n",
    "\n",
    "$$\n",
    "{\\rm tr}(AB) = {\\rm tr}(BA) ~~~\\Rightarrow ~~~~{\\rm tr}([A,B]) = 0 \\, .\n",
    "$$"
   ]
  },
  {
   "cell_type": "markdown",
   "id": "39e4274a",
   "metadata": {
    "slideshow": {
     "slide_type": "fragment"
    }
   },
   "source": [
    "- Sea el operador *producto externo* de dos vectores $A = \\ketbra{u}{v}$. Entonces \n",
    "\n",
    "$$\n",
    "\\tr \\left(\\rule{0mm}{5mm}\\ketbra{u}{v}\\right)  = \\braket{v}{u}\n",
    "$$\n",
    "\n",
    "\n",
    "<details>\n",
    "<summary> >> <i>Prueba</i> </summary>\n",
    "$$ \\tr \\left(\\rule{0mm}{5mm}\\ketbra{u}{v}\\right) = \\sum_i \\braket{e_i}{u}\\braket{v}{e_i} = \\bra{v}\\left(\\sum_i \\ketbra{e_i}{e_i}\\right) \\ket{u} = \\braket{v}{u}\n",
    "$$\n",
    "</details>   "
   ]
  },
  {
   "cell_type": "markdown",
   "id": "c965dc48",
   "metadata": {
    "slideshow": {
     "slide_type": "slide"
    }
   },
   "source": [
    "### $\\Lin(\\Hil)$ como un espacio de Hilbert"
   ]
  },
  {
   "cell_type": "markdown",
   "id": "f187a4a7",
   "metadata": {
    "slideshow": {
     "slide_type": "-"
    }
   },
   "source": [
    "Para transformar $\\Lin(\\Hil)$ en un espacio de Hilbert sólo es necesario definir un *producto escalar hermítico* entre dos elementos \n",
    "\n",
    "><b> Definición: </b> <i> (producto escalar) </i> \n",
    "<br>     \n",
    "dados dos operadores lineales,  $A, B \\in \\Lin(\\Hil)$  definimos su <i> producto escalar </i>  $( A, B)\\in {\\mathbb C}$\n",
    "<br> \n",
    "<br>\n",
    "$$\n",
    "( A, B) \\equiv {\\rm tr}\\left( A^\\dagger B \\right) \n",
    "$$\n"
   ]
  },
  {
   "cell_type": "markdown",
   "id": "e752a88a",
   "metadata": {
    "slideshow": {
     "slide_type": "skip"
    }
   },
   "source": [
    "En una base tenemos que\n",
    "\n",
    "$$\n",
    "(A,B) = \\sum_{ij} A^\\dagger_{ij} B_{ji} = \\sum_{ij} A^*_{ji} B_{ji}\n",
    "$$\n",
    "\n",
    "mientras que \n",
    "\n",
    "$$\n",
    "(B,A) = \\sum_{ij} B^\\dagger_{ij} A_{ji} = \\sum_{ij} B^*_{ji} A_{ji}\n",
    "$$\n",
    "\n",
    "Se sigue que  $(B,A) = (A,B)^*$. Además es trivial comprobar que  $(A,B+C) = (A,B) + (A,C)$, por lo que se trata de un *producto escalar hermítico*"
   ]
  },
  {
   "cell_type": "markdown",
   "id": "42e0609a",
   "metadata": {
    "slideshow": {
     "slide_type": "slide"
    }
   },
   "source": [
    "### $\\Lin(\\Hil)$ como un espacio normado"
   ]
  },
  {
   "cell_type": "markdown",
   "id": "3ef94ae8",
   "metadata": {},
   "source": [
    "Una **norma** definida sobre $\\Lin(\\Hil)  $es un una función real $ A\\to  \\| A\\| \\in {\\mathbb R}$ con las propiedades \n",
    "que se han definido en una [sección anterior](../00_Formalismo/01_Vectores.ipynb#norm)"
   ]
  },
  {
   "cell_type": "markdown",
   "id": "7efe3b8f",
   "metadata": {},
   "source": [
    "><b> Definición: </b> <i> ($p$-norma Shatten) </i> : dado un operador $A\\in \\Lin(\\Hil)$ la función  \n",
    "<br> \n",
    "$$\n",
    "\\| A \\|_p =  \\left({\\rm tr} \\left(A^\\dagger A\\right)^{p/2} \\right)^{1/p}\n",
    "$$\n",
    "define una norma, denominada <b>$p$-norma de Shatten</b>.\n",
    "\n"
   ]
  },
  {
   "cell_type": "markdown",
   "id": "66c8e2bf",
   "metadata": {
    "slideshow": {
     "slide_type": "skip"
    }
   },
   "source": [
    " Ya hemos mencionado que el operador $A^\\dagger A$ es un operador con propiedades importantes cuyos autovalores son los cuadrados de los valores principales $\\lambda_i = \\sigma_i^2$. Es decir, en la base diagonal\n",
    " $$\n",
    " A^\\dagger A = \\begin{pmatrix} \\sigma_1^2 & & & & &  \\\\ & \\ddots & & & \\\\ & & \\sigma_r^2 & & & \\\\ & & & 0 & &\\\\ & & & & \\ddots & \\\\ & & & & & 0 \\end{pmatrix}\n",
    " $$"
   ]
  },
  {
   "cell_type": "markdown",
   "id": "2b0302cf",
   "metadata": {
    "slideshow": {
     "slide_type": "-"
    }
   },
   "source": [
    "Los tres casos más frecuentes son\n",
    "\n",
    "- $p=1$ **norma de la traza** $~\\Rightarrow ~  \\| A \\|_1 =  {\\rm tr} \\sqrt{A^\\dagger A}$\n",
    "<br>\n",
    "\n",
    "\n",
    "Esta norma es igual a la suma de los valores singulares de $A ~\\Rightarrow ~\\| A \\|_1  = \\sum_i^r \\sigma_i$"
   ]
  },
  {
   "cell_type": "markdown",
   "id": "28893f6b",
   "metadata": {},
   "source": [
    "\n",
    "- $p=2$ **norma de Frobenius** $~\\Rightarrow ~ \\| A \\|_2 =  \\sqrt{{ \\rm tr} A^\\dagger A }$\n",
    "<br>\n",
    "\n",
    "La norma de Frobenius es la que se obtiene a partir  del producto escalar $\\|A\\|_2 = (A,A)$"
   ]
  },
  {
   "cell_type": "markdown",
   "id": "c8b6403c",
   "metadata": {},
   "source": [
    "\n",
    "- $p=\\infty$ **norma espectral** $~\\Rightarrow ~  \\| A \\|_\\infty = \\lim_{p\\to \\infty} \\| A \\|_p$\n",
    "\n",
    "Puede demostrarse que la norma espectral es equivalente a la siguiente definición\n",
    "\n",
    "$$\n",
    "\\|A\\|_\\infty = \\hbox{max}_{\\ket{u}\\in \\Hil}\\{ \\|A\\ket{u}\\| ~~\\hbox{con} ~ \\|\\ket{u}\\| = 1\\}\n",
    "$$\n"
   ]
  },
  {
   "cell_type": "markdown",
   "id": "a467968b",
   "metadata": {},
   "source": [
    "><b>Ejercicio:</b>$~$*(explícaselo a tu ordenador)*\n",
    "<br>\n",
    "Escribe una función en python, $trace\\_norm(A_{ij})$, que calcule la norma de la traza de un operador $A$ dado por una matriz $A_{ij}$.\n",
    "</div>"
   ]
  },
  {
   "cell_type": "markdown",
   "id": "a4cf1c06",
   "metadata": {
    "slideshow": {
     "slide_type": "slide"
    }
   },
   "source": [
    "### Distancia de traza"
   ]
  },
  {
   "cell_type": "markdown",
   "id": "40aeb16e",
   "metadata": {
    "slideshow": {
     "slide_type": "skip"
    }
   },
   "source": [
    "Cualquier norma permite definir una noción de *distancia* o *diferencia* entre dos operadores. "
   ]
  },
  {
   "cell_type": "markdown",
   "id": "e01a7bad",
   "metadata": {
    "slideshow": {
     "slide_type": "-"
    }
   },
   "source": [
    "><b> Definición: </b> <i> (Distancia de traza) </i> \n",
    "<br>     \n",
    "Se define la  <b> distancia de traza</b> entre dos operadores $A$ y $B$ como la <i>norma del operador diferencia</i>\n",
    "<br> \n",
    "<br>\n",
    "$$\n",
    "d(A,B) = \\| A - B \\|_1 \n",
    "$$\n",
    "</div>\n"
   ]
  },
  {
   "cell_type": "markdown",
   "id": "51ef8d75",
   "metadata": {
    "slideshow": {
     "slide_type": "skip"
    }
   },
   "source": [
    "## Funciones de Operadores"
   ]
  },
  {
   "cell_type": "markdown",
   "id": "aa9d95a8",
   "metadata": {
    "slideshow": {
     "slide_type": "skip"
    }
   },
   "source": [
    "### Funciones analíticas de operadores\n",
    "\n",
    "Estamos acostumbrados a escribir funciones *de una variable real o compleja*. Por ejemplo $f(x)= x^2$, ó, $ f(z) = e^z$. \n",
    "\n",
    "Querríamos dar sentido a una función *de un operador* \n",
    "$\n",
    "A \\to f(A)\n",
    "$"
   ]
  },
  {
   "cell_type": "markdown",
   "id": "4e00bc7d",
   "metadata": {
    "slideshow": {
     "slide_type": "skip"
    }
   },
   "source": [
    "En el caso de que $f(z)$ sea una función analítica expresable como una serie de Taylor en torno a $x=0$ \n",
    "\n",
    "$$\n",
    "f(z) = \\sum_{n=0}^\\infty \\frac{1}{n!} f^{(n)}(0)\\,  z^n\n",
    "$$\n",
    "\n",
    "tomaremos como **definición** la *misma serie* cambiando el argumento $x\\to A$\n",
    "\n",
    "$$\n",
    "f(A) = \\sum_{n=0}^\\infty \\frac{1}{n!} f^{(n)}(0)\\,  A^n\n",
    "$$\n",
    "\n"
   ]
  },
  {
   "cell_type": "markdown",
   "id": "62e4b9f2",
   "metadata": {
    "slideshow": {
     "slide_type": "skip"
    }
   },
   "source": [
    "<b>Notar:</b> \n",
    " $~$ de la misma forma que, para funciones analíticas $f(z)^* = f(z^*)$, también la definición anterior asegura que \n",
    "$f(A)^\\dagger = f(A^\\dagger)$\n",
    "\n",
    "\n"
   ]
  },
  {
   "cell_type": "markdown",
   "id": "2c21b232",
   "metadata": {
    "slideshow": {
     "slide_type": "skip"
    }
   },
   "source": [
    "### La exponenciación de un operador \n",
    "\n",
    "Sea $A\\in \\Lin(\\Hil)$, definimos la exponencial $e^A$ mediante la serie de Taylor usual\n",
    "\n",
    "$$\n",
    "\\exp(A) = e^A \\equiv  I + A + \\frac{1}{2} A^2 + \\frac{1}{3!} A^3 + ...\n",
    "$$\n"
   ]
  },
  {
   "cell_type": "code",
   "execution_count": 137,
   "id": "16f42fcc",
   "metadata": {},
   "outputs": [
    {
     "data": {
      "text/latex": [
       "$$\n",
       "\n",
       "\\begin{bmatrix}\n",
       "1.21231 + 0.03374 i & 0.32278 + 0.07788 i  \\\\\n",
       " 0.01783 + 0.20924 i & 0.88062 - 0.14876 i  \\\\\n",
       " \\end{bmatrix}\n",
       "$$"
      ],
      "text/plain": [
       "<IPython.core.display.Latex object>"
      ]
     },
     "metadata": {},
     "output_type": "display_data"
    },
    {
     "data": {
      "text/latex": [
       "$$\n",
       "\n",
       "\\begin{bmatrix}\n",
       "1.21233 + 0.03367 i & 0.3225 + 0.0775 i  \\\\\n",
       " 0.018 + 0.209 i & 0.88083 - 0.14833 i  \\\\\n",
       " \\end{bmatrix}\n",
       "$$"
      ],
      "text/plain": [
       "<IPython.core.display.Latex object>"
      ]
     },
     "execution_count": 137,
     "metadata": {},
     "output_type": "execute_result"
    }
   ],
   "source": [
    "' para exponenciar matrices es recomendable la función expm de la libreria scipy.linalg'\n",
    "\n",
    "from scipy.linalg import expm\n",
    "from numpy.linalg import matrix_power\n",
    "import math\n",
    "\n",
    "A = 0.1*np.matrix([[2,3+1j],[2j,-1-2j]])\n",
    "\n",
    "display(array_to_latex(np.around(expm(A),5)))\n",
    "\n",
    "' podemos comparar con la serie de Taylor a tercer orden'\n",
    "array_to_latex(np.round(matrix_power(A,0)  + matrix_power(A,1)  + 1./2.*matrix_power(A,2)  + 1./math.factorial(3)*matrix_power(A,3),5))"
   ]
  },
  {
   "cell_type": "markdown",
   "id": "fa8d5592",
   "metadata": {
    "slideshow": {
     "slide_type": "skip"
    }
   },
   "source": [
    "Una propiedad importante de la función exponencial es  $e^xe^y = e^{x+y}$. La propiedad análoga para operadores *sólo es cierta cuando conmutan entre sí*.  Para el caso genérico tenemos dos opciones"
   ]
  },
  {
   "cell_type": "markdown",
   "id": "12437f56",
   "metadata": {
    "slideshow": {
     "slide_type": "skip"
    }
   },
   "source": [
    "**Teorema de Baker-Campbel-Haussdorf**\n",
    "\n",
    "><b> Teorema: </b> \n",
    "<br>\n",
    "Sean $A,B\\subset{\\rm L}(\\Hil)$ dos operadores lineales genéricos. Entonces\n",
    "<br>\n",
    "<br>\n",
    "$$\n",
    "e^A e^B = e^{\\left({A+B + \\frac{1}{2}[A,B] + \\frac{1}{12}[A,[A,B]]+ \\frac{1}{12}[B,[B,A]] + ...}\\right)}\n",
    "$$\n"
   ]
  },
  {
   "cell_type": "markdown",
   "id": "56c416cd",
   "metadata": {
    "slideshow": {
     "slide_type": "skip"
    }
   },
   "source": [
    "Vemos que\n",
    "\n",
    "-  Si $A$ y $B$ conmutan, \n",
    "\n",
    "$$[A,B]=0 ~\\Leftrightarrow ~e^A e^B = e^{A+B}$$\n"
   ]
  },
  {
   "cell_type": "markdown",
   "id": "23c58118",
   "metadata": {
    "slideshow": {
     "slide_type": "skip"
    }
   },
   "source": [
    "\n",
    "-  Si el conmutador de $A$ y $B$  es un c-número \n",
    "\n",
    "$$[A,B]= c I  ~\\Leftrightarrow ~  e^A e^B = e^{A+B + \\frac{c}{2}}$$\n",
    "\n"
   ]
  },
  {
   "cell_type": "markdown",
   "id": "a564ddc4",
   "metadata": {
    "slideshow": {
     "slide_type": "skip"
    }
   },
   "source": [
    "\n",
    "-  El inverso de $e^A$ es $e^{-A}$.$~$ Efectivamente, como \n",
    "\n",
    "$$[A,A]=0 \\Rightarrow e^A e^{-A} = e^{A-A} = e^0 = I$$"
   ]
  },
  {
   "cell_type": "markdown",
   "id": "8663ed51",
   "metadata": {
    "slideshow": {
     "slide_type": "skip"
    }
   },
   "source": [
    "**Teorema de Lie-Suzuki-Trotter**\n",
    "\n",
    "><b> Teorema: </b> \n",
    "<br>\n",
    "Sean $A,B\\subset{\\rm L}(\\Hil)$ dos operadores lineales genéricos. Entonces\n",
    "<br>\n",
    "<br>\n",
    "$$\n",
    "e^{A+B} = \\lim_{n\\to\\infty} \\left(e^{{A/n}} e^{B/n}\\right)^n\n",
    "$$\n",
    "\n",
    "Esta segunda opción es de uso muy frecuente en el contexto de la *simulación cuántica*. "
   ]
  },
  {
   "cell_type": "markdown",
   "id": "a7f20249",
   "metadata": {
    "slideshow": {
     "slide_type": "skip"
    }
   },
   "source": [
    "**Relación entre operadores hermíticos y unitarios**\n",
    "\n",
    ">**Teorema:** todo operador unitario $U$ se puede expresar como la exponencial imaginaria de un operador hermítico $H$\n",
    "<br>\n",
    "<br>\n",
    "$$\n",
    "U = e^{i H}\n",
    "$$\n",
    "\n",
    "Efectivamente, \n",
    "\n",
    "$$U^\\dagger = \\left(e^{i H}\\right)^\\dagger = e^{-i H^\\dagger} = e^{-i H}=U^{-1}$$ \n",
    "\n",
    "por tanto, $U$ es unitario si y sólo si $H$ es hermítico.\n",
    "<br>\n",
    "<br>\n",
    "<details>\n",
    "<summary><p > >>$~$ <i>Detalles:</i> </p></summary>\n",
    "\\begin{eqnarray}\n",
    "U^\\dagger &=& \\left( e^{iH}\\right)^\\dagger = \\left( 1+ iH + \\frac{1}{2}(i H)^2 + ...\\right)^\\dagger \\\\\n",
    "&=& 1 - iH^\\dagger  + \\frac{1}{2}(-i)^2 (H^2)^\\dagger + ... \\\\\n",
    "&=& 1 - iH +\\frac{1}{2} H^2 - ... \\\\\n",
    "&=& e^{-iH}\\\\ \\rule{0mm}{6mm}\n",
    "&=& U^{-1}\n",
    "\\end{eqnarray}\n",
    "</details>"
   ]
  },
  {
   "cell_type": "markdown",
   "id": "d7ee870c",
   "metadata": {
    "slideshow": {
     "slide_type": "slide"
    }
   },
   "source": [
    "### Funciones  generales "
   ]
  },
  {
   "cell_type": "markdown",
   "id": "e4938f30",
   "metadata": {
    "slideshow": {
     "slide_type": "skip"
    }
   },
   "source": [
    "No siempre $f(z)$ admite una expansión en serie de Taylor. Por ejemplo $f(z) = \\exp(1/z)$ en torno a $z=0$ no es analítica.\n",
    "\n",
    "En estos casos, el operador $f(A)$ existe, pero para construirlo es necesario recurrir a la *forma diagonalizada*\n"
   ]
  },
  {
   "cell_type": "markdown",
   "id": "035b46d8",
   "metadata": {
    "slideshow": {
     "slide_type": "-"
    }
   },
   "source": [
    "\n",
    "><b> Teorema: </b> $~$   Sea $A$ un operador diagonalizable, y sea $A= \\sum_i \\lambda_i \\ket{\\lambda_i}\\bra{\\lambda_i}$ su representación espectral. \n",
    "<br>\n",
    "Entonces el operador $f(A)$ tiene la representación espectral siguiente\n",
    "<br>    \n",
    "$$\n",
    "f(A) = \\sum_i f(\\lambda_i) \\ket{\\lambda_i}\\bra{\\lambda_i}\n",
    "$$\n",
    "\n",
    "En particular, la matriz asociada a $f(A)$ en la base $\\{\\ket{\\lambda_i}\\}$ que diagonaliza $A^{(D)}_{ij}$ \n",
    "es la diagonal de los elementos $f(\\lambda_i)$ de los autovalores\n",
    "\n",
    "$$\n",
    "f(A^{(D)}_{ij}) = \\begin{bmatrix} f(\\lambda_1)& &  & \\\\ & f(\\lambda_2) & &  \\\\ & & \\ddots & \\\\ & & & f(\\lambda_n)\n",
    "\\end{bmatrix}\n",
    "$$"
   ]
  },
  {
   "cell_type": "markdown",
   "id": "e200cce0",
   "metadata": {
    "slideshow": {
     "slide_type": "slide"
    }
   },
   "source": [
    "><b>Ejemplo 1:</b>    \n",
    "$$f(A) = e^{1/A} = \\sum_i e^{1/\\lambda_i} \\ket{\\lambda_i}\\bra{\\lambda_i}$$\n",
    "\n"
   ]
  },
  {
   "cell_type": "markdown",
   "id": "76a06109",
   "metadata": {
    "slideshow": {
     "slide_type": "slide"
    }
   },
   "source": [
    "><b>Ejemplo 2:</b>    \n",
    "\\begin{eqnarray}\n",
    "f(A) = {\\rm tr}(A \\log A) &=& {\\rm tr}\\left[\\left(\\sum_j \\lambda_j \\ket{\\lambda_j}\\bra{\\lambda_j}\\right)\\left(\\sum_k\\log \\lambda_k \\ket{\\lambda_k}\\bra{\\lambda_k}\\right)\\right] ~=~  {\\rm tr}\\left[\\sum_k \\lambda_k \\log\\lambda_k \\ket{\\lambda_k}\\bra{\\lambda_k} \\right] \\\\ \\rule{0mm}{20mm}\n",
    "&=& {\\rm tr} \\begin{bmatrix} \\lambda_1 \\log \\lambda_1& &  & \\\\ &\\lambda_2 \\log \\lambda_2 & &  \\\\ & & \\ddots & \\\\ & & & \\lambda_n \\log \\lambda_n\n",
    "\\end{bmatrix}\n",
    " ~= ~ \\sum_k \\lambda_k \\log \\lambda_k \\rule{0mm}{8mm}\n",
    "\\end{eqnarray}\n"
   ]
  },
  {
   "cell_type": "markdown",
   "id": "3cfee01c",
   "metadata": {
    "slideshow": {
     "slide_type": "slide"
    }
   },
   "source": [
    "## Matrices de Pauli\n",
    "\n"
   ]
  },
  {
   "cell_type": "markdown",
   "id": "2a8365b6",
   "metadata": {
    "slideshow": {
     "slide_type": "-"
    }
   },
   "source": [
    "><b> Definición: </b>  $~$ se definen las matrices de Pauli \n",
    "<br>\n",
    "<br>\n",
    "$$\n",
    "\\sigma_x = \\begin{bmatrix} 0 & 1 \\\\ 1 & 0 \\end{bmatrix}~~~~~,~~~~~~~~~\n",
    "\\sigma_y = \\begin{bmatrix} 0 & -i \\\\ i & 0 \\end{bmatrix}~~~~~,~~~~~~~~~\n",
    "\\sigma_z = \\begin{bmatrix} 1 & 0 \\\\ 0 & -1 \\end{bmatrix} \\, .\n",
    "$$"
   ]
  },
  {
   "cell_type": "markdown",
   "id": "50438c5f",
   "metadata": {
    "slideshow": {
     "slide_type": "fragment"
    }
   },
   "source": [
    "- También se usan los subíndices enteros $\\sigma_1=\\sigma_x, ~\n",
    "\\sigma_2=\\sigma_y$  y  $\\sigma_3=\\sigma_z$. \n",
    "<br>\n",
    "<br>\n",
    "- Una propiedad importantísima de las matrices de Pauli  es que son, a la vez,  <u>*hermíticas* y *unitarias*</u>.\n",
    "\n"
   ]
  },
  {
   "cell_type": "markdown",
   "id": "e755bef0",
   "metadata": {
    "slideshow": {
     "slide_type": "slide"
    }
   },
   "source": [
    "**Composición de matrices de Pauli**\n"
   ]
  },
  {
   "cell_type": "markdown",
   "id": "2e7613b5",
   "metadata": {
    "slideshow": {
     "slide_type": "fragment"
    }
   },
   "source": [
    "Es inmediato verificar que se cumplen las siguientes relaciones\n",
    "\n",
    "\n",
    "- si multiplicamos dos matrices de Pauli **iguales**\n",
    "\n",
    "$$\n",
    "\\sigma_1\\sigma_1 = \\sigma_2\\sigma_2 = \\sigma_3\\sigma_3 =   I\n",
    "$$\n",
    "\n",
    "- si multiplicamos dos matrices de Pauli **diferentes**\n",
    "\n",
    "\\begin{eqnarray}\n",
    "\\sigma_1\\sigma_2 &=&  - \\sigma_2\\sigma_1 = i \\sigma_3   \\\\\n",
    "\\sigma_2\\sigma_3 &=&  -\\sigma_3\\sigma_2  = -i \\sigma_1  \\\\\n",
    "\\sigma_3\\sigma_1 &=& -\\sigma_2\\sigma_3 = -i \\sigma_2   \\\\\n",
    "\\end{eqnarray}"
   ]
  },
  {
   "cell_type": "code",
   "execution_count": 142,
   "id": "82656214",
   "metadata": {
    "slideshow": {
     "slide_type": "slide"
    }
   },
   "outputs": [
    {
     "name": "stdout",
     "output_type": "stream",
     "text": [
      "[[ True  True]\n",
      " [ True  True]]\n",
      "[[ True  True]\n",
      " [ True  True]]\n",
      "[[ True  True]\n",
      " [ True  True]]\n"
     ]
    },
    {
     "data": {
      "text/plain": [
       "'etc'"
      ]
     },
     "execution_count": 142,
     "metadata": {},
     "output_type": "execute_result"
    }
   ],
   "source": [
    "I = np.eye(2)\n",
    "s1 = np.matrix([[0,1],[1,0]])\n",
    "s2 = np.matrix([[0,-1j],[1j,0]])\n",
    "s3 = np.matrix([[1,0],[0,-1]])\n",
    "\n",
    "'verifica todas las opciones'\n",
    "print(s1*s1==I)\n",
    "print(s1*s2==1j*s3)\n",
    "print(s2*s1==-1j*s3)\n",
    "'etc'"
   ]
  },
  {
   "cell_type": "markdown",
   "id": "1cb84e3f",
   "metadata": {},
   "source": [
    "Todas estas *relaciones de composición* se pueden condensar en la siguiente ecuación algebráica\n",
    "<br>\n",
    "\n",
    "$$\n",
    "\\fbox{$\\sigma_i \\sigma_j = \\delta_{ij}I + i\\epsilon_{ijk}  \\sigma_k$}\n",
    "$$\n",
    "\n",
    "donde hemos hecho uso del *símbolo antisimétrico*\n",
    "$$\\epsilon_{123} = \\epsilon_{231}=\\epsilon_{312}=1~~~~,~~~~\\epsilon_{213} = \\epsilon_{132}=\\epsilon_{321}=-1$$"
   ]
  },
  {
   "cell_type": "markdown",
   "id": "2747a917",
   "metadata": {
    "slideshow": {
     "slide_type": "skip"
    }
   },
   "source": [
    "A partir de estas relaciones es inmediado ver que las matrices de Pauli verifican relaciones de conmutación \n",
    "\n",
    "    \n",
    "$$\n",
    "[\\sigma_i,\\sigma_j] ~=~ \\sigma_i\\sigma_j - \\sigma_j\\sigma_i ~=~ 2i\\epsilon_{ijk}\\sigma_k\n",
    "$$\n",
    "\n",
    "y de anticonmutación \n",
    "\n",
    "$$\n",
    "\\{\\sigma_i,\\sigma_j \\} ~=~ \\sigma_i\\sigma_j + \\sigma_j\\sigma_i =  2\\delta_{ij} ~~~~~\n",
    "$$\n"
   ]
  },
  {
   "cell_type": "markdown",
   "id": "b9b30790",
   "metadata": {
    "slideshow": {
     "slide_type": "skip"
    }
   },
   "source": [
    "Las matrices de Pauli tienen traza nula\n",
    "\n",
    "$$\n",
    "{\\rm tr} \\, \\sigma_i = 0\n",
    "$$"
   ]
  },
  {
   "cell_type": "markdown",
   "id": "63acee56",
   "metadata": {
    "slideshow": {
     "slide_type": "skip"
    }
   },
   "source": [
    "Tomando la traza de la relación de composición obtenemos que las matrices de Pauli <u>*son ortogonales*</u> \n",
    "en el sentido del producto escalar definido sobre $\\Lin(\\Hil)$\n",
    "<br>\n",
    "\n",
    "$$\n",
    "(\\sigma_i, \\sigma_j) \\equiv {\\rm tr}(\\sigma_i\\sigma_j) = {\\rm tr}(\\delta_{ij}I + i\\epsilon_{ijk}  \\sigma_k) = 2\\delta_{ij}\n",
    "$$\n"
   ]
  },
  {
   "cell_type": "markdown",
   "id": "fa25524a",
   "metadata": {
    "slideshow": {
     "slide_type": "slide"
    }
   },
   "source": [
    "Las matrices hermíticas de dimensión 2$\\times$2 tienen cuatro grados de libertad reales. \n",
    "\n",
    "Si añadimos la matriz identidad $~I = \\begin{bmatrix} 1 & 0 \\\\ 0 & 1 \\end{bmatrix}~\n",
    "$  el conjunto $\\{I,\\sigma_x,\\sigma_y,\\sigma_z\\}$ forma una *base* para el espacio de *matrices hermíticas* $2\\times 2$.  \n",
    "\n",
    "\\begin{eqnarray}\n",
    "A &=& a_0 I + {\\bf a} \\cdot \\boldsymbol{\\sigma} \\\\  \\rule{0mm}{10mm} &=&  a_0 I + a_1 \\sigma_1 + a_2 \\sigma_2 + a_3 \\sigma_3 \\\\ \\rule{0mm}{10mm}&=& \n",
    "\\begin{bmatrix}\n",
    "a_0 + a_3 & a_1 - i a_2 \\\\ a_1 + i a_2 & a_0 - a_3\n",
    "\\end{bmatrix} = A^\\dagger\n",
    "\\end{eqnarray}\n",
    "con $a_i\\in {\\mathbb R}$ cuatro números reales."
   ]
  },
  {
   "cell_type": "markdown",
   "id": "01a81624",
   "metadata": {
    "slideshow": {
     "slide_type": "slide"
    }
   },
   "source": [
    "Separemos el vector ${\\bf a}$ en su módulo $a$, y su dirección unitaria $\\hat{\\bf n}$\n",
    "\n",
    "$${\\bf a} = (a_1,a_2,a_3) =a \\left( \\frac{a_1}{a},\\frac{a_2}{a},\\frac{a_3}{a}\\right) =  a\\, \\hat{\\bf n}$$ \n",
    "\n",
    "donde $a=|{\\bf a}|=\\sqrt{a_1^2+a_2^3+a_3^2}~$  y $\\hat{\\bf n}$ es unitario\n"
   ]
  },
  {
   "cell_type": "markdown",
   "id": "64d477cb",
   "metadata": {
    "slideshow": {
     "slide_type": "fragment"
    }
   },
   "source": [
    "\n",
    "Entonces\n",
    "<br>\n",
    "$$\n",
    " {\\bf a} \\cdot \\boldsymbol{\\sigma} =  a\\, \\hat{\\bf n} \\cdot \\boldsymbol{\\sigma}\n",
    "$$\n",
    "\n",
    "es una matriz *hermítica*, que podemos exponenciar para formar una matriz *unitaria*. La sorpresa ahora, es que el resultado, vuelve a ser expresable en términos de las propias matrices de Pauli!\n"
   ]
  },
  {
   "cell_type": "markdown",
   "id": "ff5c0fe8",
   "metadata": {
    "slideshow": {
     "slide_type": "fragment"
    }
   },
   "source": [
    "><b> Teorema: </b>  $~$ \n",
    "$$\n",
    "\\fbox{$\\exp \\left( \\rule{0mm}{4mm} i\\,   {\\bf a} \\cdot \\boldsymbol{\\sigma}  \\right) = (\\cos a)\\, I + i (\\sin a)\\,\\hat{\\bf n} \\cdot  \\boldsymbol{\\sigma} $}\n",
    "$$\n",
    "<br>"
   ]
  },
  {
   "cell_type": "markdown",
   "id": "b19ec320",
   "metadata": {
    "slideshow": {
     "slide_type": "skip"
    }
   },
   "source": [
    "Esta expresión, extremadamente útil,  generaliza la *fórmula de Euler*  para una fase compleja \n",
    "\n",
    "$$ \\exp(i\\alpha) =  \\cos\\alpha + i \\sin\\alpha $$\n",
    "<br>\n"
   ]
  },
  {
   "cell_type": "code",
   "execution_count": 144,
   "id": "b6a11eb3",
   "metadata": {
    "slideshow": {
     "slide_type": "skip"
    }
   },
   "outputs": [
    {
     "name": "stdout",
     "output_type": "stream",
     "text": [
      "a= 0.7791610541963517\n"
     ]
    },
    {
     "data": {
      "text/latex": [
       "$$\n",
       "\n",
       "\\begin{bmatrix}\n",
       "0.5008827322 & \\frac{15 \\cdot 2^{\\frac{47}{170}} \\cdot 3^{\\frac{148}{255}} \\cdot 5^{\\frac{11}{170}} \\cdot 7^{\\frac{53}{255}}}{98} & 0.6394453233  \\\\\n",
       " \\end{bmatrix}\n",
       "$$"
      ],
      "text/plain": [
       "<IPython.core.display.Latex object>"
      ]
     },
     "metadata": {},
     "output_type": "display_data"
    },
    {
     "data": {
      "text/latex": [
       "$$\n",
       "e1=\n",
       "\\begin{bmatrix}\n",
       "0.7115 + 0.4493 i & 0.4099 + 0.352 i  \\\\\n",
       " -0.4099 + 0.352 i & 0.7115 - 0.4493 i  \\\\\n",
       " \\end{bmatrix}\n",
       "$$"
      ],
      "text/plain": [
       "<IPython.core.display.Latex object>"
      ]
     },
     "metadata": {},
     "output_type": "display_data"
    },
    {
     "data": {
      "text/latex": [
       "$$\n",
       "e1=\n",
       "\\begin{bmatrix}\n",
       "0.7115 + 0.4493 i & 0.4099 + 0.352 i  \\\\\n",
       " -0.4099 + 0.352 i & 0.7115 - 0.4493 i  \\\\\n",
       " \\end{bmatrix}\n",
       "$$"
      ],
      "text/plain": [
       "<IPython.core.display.Latex object>"
      ]
     },
     "metadata": {},
     "output_type": "display_data"
    }
   ],
   "source": [
    "'verificamos la ecuación anterio numéricamente'\n",
    "from scipy.linalg import expm\n",
    "\n",
    "'generamos un vector aleatorio'\n",
    "avec = np.random.rand(3)\n",
    "a = np.linalg.norm(avec)\n",
    "nvec = avec/a\n",
    "print('a=',a)\n",
    "display(array_to_latex(nvec))\n",
    "\n",
    "sigvec = np.array([s1,s2,s3])\n",
    "\n",
    "adots= sum(list(avec[i]*sigvec[i] for i in range(3)))\n",
    "\n",
    "'exponentiating'\n",
    "e1 = expm(1j*adots)\n",
    "\n",
    "'using the Euler-like formula'\n",
    "ndots= sum(list(nvec[i]*sigvec[i] for i in range(3)))\n",
    "e2 = np.cos(a)*s0 + 1j*np.sin(a)*(nvec[0]*sigvec[0]+nvec[1]*sigvec[1]+nvec[2]*sigvec[2])\n",
    "\n",
    "'verify'\n",
    "display(array_to_latex(np.round(e1,4),prefix='e1='))\n",
    "display(array_to_latex(np.round(e2,4),prefix='e1='))\n"
   ]
  },
  {
   "cell_type": "markdown",
   "id": "ab24cedf",
   "metadata": {
    "slideshow": {
     "slide_type": "skip"
    }
   },
   "source": [
    "><b> Ejercicio: </b> <br> \n",
    "Obtén la descomposición espectral de las tres matrices de Pauli, $\\sigma_x, \\sigma_y $ y $\\sigma_z$. Utiliza esta descomposición para demostrar la expresión\n",
    "<br>\n",
    "<br>\n",
    "$$\n",
    "e^{i \\alpha\\,  \\hat{\\bf n}\\cdot\\boldsymbol{\\sigma}} = \\cos \\alpha \\, I + i \\sin \\alpha \\, \\hat{\\bf n}\\cdot\\boldsymbol{\\sigma}\n",
    "$$\n",
    "donde $\\hat{\\bf n} = (n_x, n_y,n_z)$ es un vector unitario.\n",
    "</div>"
   ]
  }
 ],
 "metadata": {
  "celltoolbar": "Slideshow",
  "kernelspec": {
   "display_name": "Python 3 (ipykernel)",
   "language": "python",
   "name": "python3"
  },
  "language_info": {
   "codemirror_mode": {
    "name": "ipython",
    "version": 3
   },
   "file_extension": ".py",
   "mimetype": "text/x-python",
   "name": "python",
   "nbconvert_exporter": "python",
   "pygments_lexer": "ipython3",
   "version": "3.9.18"
  },
  "toc": {
   "base_numbering": 1,
   "nav_menu": {},
   "number_sections": true,
   "sideBar": true,
   "skip_h1_title": false,
   "title_cell": "Table of Contents",
   "title_sidebar": "Contents",
   "toc_cell": false,
   "toc_position": {},
   "toc_section_display": true,
   "toc_window_display": false
  },
  "varInspector": {
   "cols": {
    "lenName": 16,
    "lenType": 16,
    "lenVar": 40
   },
   "kernels_config": {
    "python": {
     "delete_cmd_postfix": "",
     "delete_cmd_prefix": "del ",
     "library": "var_list.py",
     "varRefreshCmd": "print(var_dic_list())"
    },
    "r": {
     "delete_cmd_postfix": ") ",
     "delete_cmd_prefix": "rm(",
     "library": "var_list.r",
     "varRefreshCmd": "cat(var_dic_list()) "
    }
   },
   "types_to_exclude": [
    "module",
    "function",
    "builtin_function_or_method",
    "instance",
    "_Feature"
   ],
   "window_display": false
  }
 },
 "nbformat": 4,
 "nbformat_minor": 5
}
