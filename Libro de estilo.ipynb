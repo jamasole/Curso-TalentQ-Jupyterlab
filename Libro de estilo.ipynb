{
 "cells": [
  {
   "cell_type": "markdown",
   "id": "7531af58",
   "metadata": {},
   "source": [
    "# Libro de Estilo\n",
    "\n",
    "Fuente: [The Ultimate Markdown Guide (for Jupyter Notebook)](https://medium.com/analytics-vidhya/the-ultimate-markdown-guide-for-jupyter-notebook-d5e5abf728fd)\n"
   ]
  },
  {
   "cell_type": "markdown",
   "id": "8c0721b0",
   "metadata": {},
   "source": [
    "## Recuadros"
   ]
  },
  {
   "cell_type": "markdown",
   "id": "7e4a36fa",
   "metadata": {},
   "source": [
    "Recuadro gris para resaltar enunciados importantes:\n",
    "\n",
    "<table width=\"100%\"><td style=\"font-size:15px;font-style:italic;text-align:left;\">\n",
    "    <b>Axioma 1</b> : <br>\n",
    "En un instante, $t$,  la información accesible de un sistema  está contenida en\n",
    "un vector de estado $|\\psi \\rangle$, perteneciente a un espacio de Hilbert ${\\mathcal H}$, que es unitario $\\langle\\psi|\\psi\\rangle=1$. \n",
    " </td></table>\n",
    " \n",
    " No es necesario poner el texto en italic\n",
    " \n",
    "<table width=\"100%\"><td style=\"font-size:15px;font-style:roman;text-align:center;\">Un cúbit es un vector (ket) de un Espacio de Hilbert complejo de dimensión dos, $~|v\\rangle~\\in~{\\mathcal H} \\sim {\\mathbb C}^2$  \n",
    "</td></table>"
   ]
  },
  {
   "cell_type": "markdown",
   "id": "c796ebb7",
   "metadata": {},
   "source": [
    "<div class=\"alert alert-block alert-info\">\n",
    "    <b>Tip:</b> Use blue boxes (alert-info) for tips and notes.\n",
    "</div>\n",
    "\n",
    "<div class=\"alert alert-block alert-warning\">\n",
    "    <b>Example:</b> Use yellow boxes for examples that are not inside code cells, or use for mathematical formulas if needed. Typically also used to display warning messages.\n",
    "</div>\n",
    "\n",
    "<div class=\"alert alert-block alert-success\">\n",
    "    <b>Success:</b> This alert box indicates a successful or positive action.\n",
    "</div>\n",
    "\n",
    "<div class=\"alert alert-block alert-danger\">\n",
    "    <b>Danger:</b> This alert box indicates a dangerous or potentially negative action.\n",
    "</div>"
   ]
  },
  {
   "cell_type": "markdown",
   "id": "7e09f421",
   "metadata": {},
   "source": [
    "### Añadir background a texto"
   ]
  },
  {
   "cell_type": "markdown",
   "id": "579162df",
   "metadata": {},
   "source": [
    "<code style=\"background:yellow;color:black\">Useful for highlighting to grab the attention of the reader towards certain points.\n",
    "</code>"
   ]
  },
  {
   "cell_type": "markdown",
   "id": "9e504f20",
   "metadata": {},
   "source": [
    "<p style=\"background:black\">\n",
    "<code style=\"background:black;color:white\">>> /home/YOUR_USERNAME> pip install qiskit\n",
    "</code>\n",
    "</p>"
   ]
  },
  {
   "cell_type": "markdown",
   "id": "012b3efd",
   "metadata": {},
   "source": [
    "## Ecuaciones\n",
    "\n"
   ]
  },
  {
   "cell_type": "markdown",
   "id": "15079cca",
   "metadata": {},
   "source": [
    "- Dejar siempre un espacio entre texto y el código de la ecuación. Por ejemplo \n",
    "\n",
    "$$  \n",
    "f(x) = 0 \\, \n",
    "$$\n",
    "\n",
    "donde $f(x)$ es el oráculo. \n",
    "\n",
    "- Fijaos que las ecuaciones se puntúan. Es decir, si terminan una frase, hay que poner un punto separado. Por ejemplo, la solución final es \n",
    "\n",
    "$$\n",
    "f(x) = \\sin(x) \\, .\n",
    "$$\n",
    "\n",
    "Antes de la ecuación no hemos terminado con :, eso es de muy mal estilo.\n",
    "\n",
    "- Para poner ecuaciones en varias líneas, usad \n",
    "\n",
    "\\begin{eqnarray}\n",
    "f(1) &=& 1 \\\\  \\rule{0mm}{6mm}\n",
    "f(2) &=& 1 \\\\\n",
    "\\end{eqnarray}\n",
    "\n",
    "El comando rule inserta un cuadrado sin tinta (0mm de ancho) de 6mm de alto.  Esta es una manera de separar las líneas para que queden holgadas. Podéis cambiar esta cifra hasta que os quede bonita la ecuación."
   ]
  },
  {
   "cell_type": "markdown",
   "id": "d783da87",
   "metadata": {},
   "source": [
    "## Referencias"
   ]
  },
  {
   "cell_type": "markdown",
   "id": "8024f4d7",
   "metadata": {},
   "source": [
    "No hace falta ver las direcciones enormes en la celda. Las referencias en Markdown se ponen así: [usc](https://www.usc.es/gl) ."
   ]
  },
  {
   "cell_type": "code",
   "execution_count": null,
   "id": "6b598d12",
   "metadata": {},
   "outputs": [],
   "source": []
  }
 ],
 "metadata": {
  "kernelspec": {
   "display_name": "Python 3",
   "language": "python",
   "name": "python3"
  },
  "language_info": {
   "codemirror_mode": {
    "name": "ipython",
    "version": 3
   },
   "file_extension": ".py",
   "mimetype": "text/x-python",
   "name": "python",
   "nbconvert_exporter": "python",
   "pygments_lexer": "ipython3",
   "version": "3.7.10"
  },
  "varInspector": {
   "cols": {
    "lenName": 16,
    "lenType": 16,
    "lenVar": 40
   },
   "kernels_config": {
    "python": {
     "delete_cmd_postfix": "",
     "delete_cmd_prefix": "del ",
     "library": "var_list.py",
     "varRefreshCmd": "print(var_dic_list())"
    },
    "r": {
     "delete_cmd_postfix": ") ",
     "delete_cmd_prefix": "rm(",
     "library": "var_list.r",
     "varRefreshCmd": "cat(var_dic_list()) "
    }
   },
   "types_to_exclude": [
    "module",
    "function",
    "builtin_function_or_method",
    "instance",
    "_Feature"
   ],
   "window_display": false
  }
 },
 "nbformat": 4,
 "nbformat_minor": 5
}
