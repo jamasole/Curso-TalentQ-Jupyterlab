{
 "cells": [
  {
   "cell_type": "markdown",
   "id": "3710bfdb",
   "metadata": {
    "slideshow": {
     "slide_type": "slide"
    }
   },
   "source": [
    "<img   src=\"../figuras/logo/TalentQ_LogoPosNegro.png\" align=center  width=\"12%\"/>\n",
    "<br>\n",
    "\n",
    "<table width=\"100%\">\n",
    "<td style=\"font-size:400%px;font-style:italic;text-align:right;background-color:rgba(0, 190, 170,0.6)\">\n",
    "Mezcla de Estados\n",
    "</td></table>\n",
    "\n",
    "\n",
    "\n",
    "$ \\newcommand{\\bra}[1]{\\langle #1|} $\n",
    "$ \\newcommand{\\ket}[1]{|#1\\rangle} $\n",
    "$ \\newcommand{\\braket}[2]{\\langle #1|#2\\rangle} $\n",
    "$ \\newcommand{\\ketbra}[2]{| #1\\rangle \\langle #2|} $\n",
    "$ \\newcommand{\\tr}{{\\rm Tr}\\,} $\n",
    "$ \\newcommand{\\Tr}{{\\rm Tr}\\,} $\n",
    "$ \\newcommand{\\i}{{\\color{blue} i}} $ \n",
    "$ \\newcommand{\\Hil}{{\\cal H}} $\n",
    "$ \\newcommand{\\V}{{\\cal V}} $\n",
    "$ \\newcommand{\\Lin}{\\hbox{Lin}}$"
   ]
  },
  {
   "cell_type": "markdown",
   "id": "c1915265",
   "metadata": {
    "slideshow": {
     "slide_type": "slide"
    }
   },
   "source": [
    "\n",
    "-[Medidas generalizadas](#med_gen) \n",
    "   <br>\n",
    "\n",
    "-[Medidas proyectivas](#med_gen) \n",
    "   <br>\n",
    "\n",
    "-[POVM's](#med_gen) \n",
    "   <br>\n",
    "\n",
    "-[Distinguibilidad](#disting_est) \n",
    "   <br>\n",
    "   \n"
   ]
  },
  {
   "cell_type": "markdown",
   "id": "dd75c76b",
   "metadata": {
    "slideshow": {
     "slide_type": "slide"
    }
   },
   "source": [
    "<a id=\"est_pur_mez\"></a>\n",
    "<a id='dirac'></a>\n",
    "<table width=\"100%\">\n",
    "    <td style=\"font-size:250%px;font-family:Helvetica;text-align:left;background-color:rgba(0,0,900, 0.3);\">\n",
    "<b>Medidas generalizadas</b>\n",
    "</table>   \n"
   ]
  },
  {
   "cell_type": "markdown",
   "id": "0b483de9",
   "metadata": {
    "slideshow": {
     "slide_type": "slide"
    }
   },
   "source": [
    "La Teoría Clásica de la Información se formula independientemente de las medidas que se puedan hacer sobre el sistema.\n",
    "\n",
    "Ello es debido a que la lectura da siempre el mismo resultado, salvo errores. \n",
    "\n",
    "Esto es completamente distinto en Mecánica Cuántica. "
   ]
  },
  {
   "cell_type": "markdown",
   "id": "45033226",
   "metadata": {
    "slideshow": {
     "slide_type": "fragment"
    }
   },
   "source": [
    "Ya hemos hablado del Postulado de la Medida en el [capítulo 1](../00_Formalismo/02_Fundamentos_MC.ipynb#med_proy) \n",
    "\n",
    "En aquel caso, se dijo explícitamente que se trataba de *medidas proyectivas*. Vamos a aclarar este punto."
   ]
  },
  {
   "cell_type": "markdown",
   "id": "0705f6fd",
   "metadata": {
    "slideshow": {
     "slide_type": "slide"
    }
   },
   "source": [
    "Un aparato de medida recibe un sistema en un estado y devuelve un número real $\\lambda_m$, la medida, dentro de una colección de valores posibles $\\lambda_m,\\, m=1,...,d$ \n",
    "\n",
    "Genéricamente hay dos posibilidades: que el sistema no se destruya, o que se destruya. Vamos a empezar por la primera opción"
   ]
  },
  {
   "cell_type": "markdown",
   "id": "7276ba53",
   "metadata": {
    "slideshow": {
     "slide_type": "fragment"
    }
   },
   "source": [
    "Si el sistema no se destruye, continúa en un estado $\\ket{\\lambda_m}$ que está asociado al resultado de medida $\\lambda_m$\n",
    "\n",
    "Habrá, por tanto, una colección de estados a los que nos puede llevar la *intervención* del aparato de medida $\\ket{\\psi} \\to \\ket{\\lambda_m}$. \n",
    "\n",
    "A priori, estos estados no tienen por qué ser ortogonales, ni estar limitados por la dimensión del espacio de Hilbert"
   ]
  },
  {
   "cell_type": "markdown",
   "id": "984a3465",
   "metadata": {
    "slideshow": {
     "slide_type": "slide"
    }
   },
   "source": [
    "La repetición de medidas permite, a través de las frecuencias relativas de aparición, obtener las *probabilidades*  $p(m)$ de las distintas medidas posibles $\\lambda_m$."
   ]
  },
  {
   "cell_type": "markdown",
   "id": "84e551e1",
   "metadata": {
    "slideshow": {
     "slide_type": "fragment"
    }
   },
   "source": [
    "<div class=\"alert alert-block alert-info\">\n",
    "<p style=\"text-align: left ;color: navy;\">    \n",
    "En resumen: un aparato de medida, selecciona un conjunto de estados de $\\{\\ket{\\lambda_m} \\in \\Hil\\}$ a los que puede colapsar el estado medido. \n",
    "<br>\n",
    "    Para caracterizar matemáticamente  el proceso de medida asociamos <i>con cada resultado posible</i>, $\\lambda_m$, un <b>operador cuántico de medida</b> $M_m$. \n",
    "</div>"
   ]
  },
  {
   "cell_type": "markdown",
   "id": "e1b3424c",
   "metadata": {
    "slideshow": {
     "slide_type": "slide"
    }
   },
   "source": [
    "####  $\\bullet$  Postulado III:  *Medida generalizada sobre un estado puro*  <a id='postul_III_medida'></a>\n",
    "<div class=\"alert alert-block alert-info\">\n",
    "<p style=\"text-align: left ;color: navy;\">    \n",
    "Una medida cuántica se describe mediante una colección de <i> operadores  de medida</i>  $\\{ M_m \\}$ con $m=1,2,...,d$ actuando sobre el estado $\\ket{\\psi}$ que se desea medir, y asociados con los distintos resultados de medida posibles $\\lambda_m$.  Estos operadores deben verificar la <i>relación de completitud</i>\n",
    "$$\n",
    "\\sum_{m=1}^N M_m^\\dagger M_m = I \\, ,\n",
    "$$\n",
    "<br>\n",
    "- la probabilidad de medir $\\lambda_m$ vendrá dada por el valor esperado \n",
    "<br>\n",
    "<br>    \n",
    "$$\n",
    "p(m)  = \\bra{\\psi} M_m^\\dagger M_m \\ket{\\psi}\n",
    "$$\n",
    "<br>\n",
    "- el estado posterior a la detección de un resultado $\\lambda_m$ vendrá dado por\n",
    "<br>\n",
    "<br>    \n",
    "$$\n",
    "\\ket{\\lambda_m} = \\frac{M_m\\ket{\\psi}}{p(m)}\n",
    "$$\n",
    "<br>\n",
    "donde el denominador es necesario para normalizar, dado que, en general $M_m$ no será unitario.</p>\n",
    "</div>\n",
    "    "
   ]
  },
  {
   "cell_type": "markdown",
   "id": "07a021fc",
   "metadata": {
    "slideshow": {
     "slide_type": "slide"
    }
   },
   "source": [
    "Notar: la relación de completitud es esencial para que las cantidades $p(m)$ tengan intepretación de probabilidades\n",
    "\n",
    "$$\n",
    "\\sum_m p(m) = \\sum_m \\bra{\\psi}M^\\dagger M_m \\ket{\\psi} = \\braket{\\psi}{\\psi} = 1\n",
    "$$\n"
   ]
  },
  {
   "cell_type": "markdown",
   "id": "2984f16d",
   "metadata": {
    "slideshow": {
     "slide_type": "slide"
    }
   },
   "source": [
    "<a id=\"est_pur_mez\"></a>\n",
    "<a id='dirac'></a>\n",
    "<table width=\"100%\">\n",
    "    <td style=\"font-size:250%px;font-family:Helvetica;text-align:left;background-color:rgba(0,0,900, 0.3);\">\n",
    "<b>Medidas proyectivas</b>\n",
    "</table>   \n"
   ]
  },
  {
   "cell_type": "markdown",
   "id": "3e8d097d",
   "metadata": {
    "slideshow": {
     "slide_type": "slide"
    }
   },
   "source": [
    "La medidas generalizadas $M_m$ no están asociadas a una *propiedad medible*. Son simplemente *posibles salidas* de un aparato de medida. "
   ]
  },
  {
   "cell_type": "markdown",
   "id": "1e878ffb",
   "metadata": {
    "slideshow": {
     "slide_type": "slide"
    }
   },
   "source": [
    "Sin embargo hay clases particulares de medidas que sí evalúan una *magnitud mensurable*. Éstas están asociada a un\n",
    "operador hermítico $A = A^\\dagger$ que, por tanto, será diagonalizable\n",
    "$$\n",
    "A = \\sum_m \\lambda_m P_m  = \\sum_m \\lambda_m \\ket{\\lambda_m}\\bra{\\lambda_m}\n",
    "$$"
   ]
  },
  {
   "cell_type": "markdown",
   "id": "cc0109fc",
   "metadata": {
    "slideshow": {
     "slide_type": "slide"
    }
   },
   "source": [
    "<div class=\"alert alert-block alert-warning\">\n",
    "    <b>Ejemplo:</b> \n",
    "supongamos un estado de un cúbit $\\ket{\\psi} = a\\ket{0} + b \\ket{1}$, y definamos los <i>operadores de medida</i>. \n",
    "<br>\n",
    "<br>\n",
    "$$\n",
    "M_0 = \\ketbra{0}{0} ~~~~,~~~~M_1=\\ketbra{1}{1}\n",
    "$$\n",
    "<br>    \n",
    "En este caso se trata de proyectores hermíticos. La relación de completitud se satisface\n",
    "<br>\n",
    "<br>    \n",
    "$$\n",
    "M_0^\\dagger M_0 + M_1^\\dagger M_1 = M_0 + M_1 = \\ketbra{0}{0} + \\ketbra{1}{1} = I\n",
    "$$\n",
    "<br>\n",
    "<br>    \n",
    "La probabilidad de obtener como resultado de una medida el valor 0 ó 1 es\n",
    "<br>\n",
    "<br>    \n",
    "\\begin{eqnarray}\n",
    "p(0) &=&\\bra{\\psi}M_0^\\dagger M_0 \\ket{\\psi} = |\\braket{0}{\\psi}|^2 = |a|^2 \\nonumber\\\\\n",
    "p(1) &=&\\bra{\\psi}M_1^\\dagger M_1 \\ket{\\psi} = |\\braket{1}{\\psi}|^2 = |b|^2 \\nonumber\\\\\n",
    "\\end{eqnarray}\n",
    "\n",
    "Los estados posteriores a la medida serán\n",
    "\\begin{eqnarray}\n",
    "\\ket{\\psi} \\stackrel{M_0}{\\longrightarrow} \\frac{M_0\\ket{\\psi}}{p(0)} = \\frac{a\\ket{0}}{|a|}\\sim \\ket{0} \\\\   \n",
    "\\rule{0mm}{5mm}    \n",
    "\\ket{\\psi} \\stackrel{M_1}{\\longrightarrow} \\frac{M_1\\ket{\\psi}}{p(0)} = \\frac{b\\ket{1}}{|b|}\\sim \\ket{1} \\\\    \n",
    "\\end{eqnarray}\n",
    " \n",
    "</div>\n",
    "\n"
   ]
  },
  {
   "cell_type": "markdown",
   "id": "69cfd1eb",
   "metadata": {
    "slideshow": {
     "slide_type": "slide"
    }
   },
   "source": [
    "<a id=\"est_pur_mez\"></a>\n",
    "<a id='dirac'></a>\n",
    "<table width=\"100%\">\n",
    "    <td style=\"font-size:250%px;font-family:Helvetica;text-align:left;background-color:rgba(0,0,900, 0.3);\">\n",
    "<b>POVMs</b>\n",
    "</table>   \n"
   ]
  },
  {
   "cell_type": "markdown",
   "id": "bbe9d1a7",
   "metadata": {
    "slideshow": {
     "slide_type": "slide"
    }
   },
   "source": [
    "A partir de una medida generalizada definida mediante operadores $\\{M_m\\}$ podemos definir un conjunto de *Medidas Evaluadas por Operadores Positivos* POVM mediante la expresión\n",
    "\n",
    "$$\n",
    "E_m = M_m^\\dagger M_m\n",
    "$$"
   ]
  },
  {
   "cell_type": "markdown",
   "id": "d55872fe",
   "metadata": {
    "slideshow": {
     "slide_type": "slide"
    }
   },
   "source": [
    "Notar que\n",
    "\n",
    "- son operadores hermíticos $E_m^\\dagger = E_m$\n",
    "<br>\n",
    "<br>\n",
    "- son operadores positivos $\\bra{\\psi}E_m\\ket{m} = \\bra{\\psi}M_m^\\dagger M_m\\ket{m} = |M\\ket{\\psi}|^2$ >0\n",
    "<br>\n",
    "<br>\n",
    "- verifican la relación de cierre $\\sum_m E_m = I$"
   ]
  },
  {
   "cell_type": "markdown",
   "id": "91a84df0",
   "metadata": {
    "slideshow": {
     "slide_type": "slide"
    }
   },
   "source": [
    "Un POVM es un concepto más *grueso* que un *operador generalizado*. En particular sólo sirve para calcular probabilidades de ocurrencia de un cierto resultado\n",
    "\n",
    "$$\n",
    "p(m) = \\bra{\\psi} E_m \\ket{\\psi}\n",
    "$$"
   ]
  },
  {
   "cell_type": "markdown",
   "id": "d4d7d947",
   "metadata": {
    "slideshow": {
     "slide_type": "slide"
    }
   },
   "source": [
    "La construcción de un POVM $E_m$ a patir de un conjunto de medidas $M_m$ es unívoca. Pero no es biyectiva.\n",
    "\n",
    "Es decir, a un POVM le podemos asociar distintos operadores de medida"
   ]
  },
  {
   "cell_type": "markdown",
   "id": "e2c1f701",
   "metadata": {
    "slideshow": {
     "slide_type": "slide"
    }
   },
   "source": [
    "Como $E_m$ son operadores positivos, es posible definir su raíz cuadrada $\\sqrt{E_m}$, (usando la descomposición espectral)\n",
    "\n",
    "Entonces, para cualquier unitario $U$ podemos definir un operador\n",
    "\n",
    "$$\n",
    "M_m = U\\sqrt{E_m}\n",
    "$$\n",
    "\n",
    "que verifica ser un operador de medida asociado a $E_m$\n",
    "\n",
    "$$\n",
    "M_m^\\dagger M_m = \\sqrt{E_m}U^\\dagger U \\sqrt{E_m} = E_m\n",
    "$$\n"
   ]
  },
  {
   "cell_type": "markdown",
   "id": "c1acec29",
   "metadata": {
    "slideshow": {
     "slide_type": "slide"
    }
   },
   "source": [
    "Después de una medida, el estado es\n",
    "$$\n",
    "\\ket{\\psi} \\to \\ket{\\psi_m} = \\frac{U\\sqrt{E_m}\\ket{\\psi}}{p(m)}\n",
    "$$"
   ]
  },
  {
   "cell_type": "markdown",
   "id": "9d23dc4c",
   "metadata": {
    "slideshow": {
     "slide_type": "slide"
    }
   },
   "source": [
    "<a id=\"est_pur_mez\"></a>\n",
    "<a id='dirac'></a>\n",
    "<table width=\"100%\">\n",
    "    <td style=\"font-size:250%px;font-family:Helvetica;text-align:left;background-color:rgba(0,0,900, 0.3);\">\n",
    "<b>Ejemplo de medida generalizada: el experimento de Stern y Gerlach</b>\n",
    "</table>   \n"
   ]
  },
  {
   "cell_type": "markdown",
   "id": "a1542154",
   "metadata": {
    "slideshow": {
     "slide_type": "slide"
    }
   },
   "source": [
    "Consideremos un experimento de Stern-Gerlach en el que el campo magnético apunta en la dirección $z$."
   ]
  },
  {
   "cell_type": "markdown",
   "id": "ead1843a",
   "metadata": {
    "slideshow": {
     "slide_type": "slide"
    }
   },
   "source": [
    "Debido a la interacción con el campo $B_z$, las partículas\n",
    "\n",
    "-  $\\ket{\\uparrow}$  espín +1/2   sufrirán una deflexión hacia arriba.\n",
    "<br>\n",
    "<br>\n",
    "-  $\\ket{\\downarrow}$  espín -1/2 sufrirán una deflexión hacia abajo.\n"
   ]
  },
  {
   "cell_type": "markdown",
   "id": "a4d16946",
   "metadata": {
    "slideshow": {
     "slide_type": "slide"
    }
   },
   "source": [
    "<div>\n",
    "<img src=\"Stern-Gerlach-2.png\" width=\"700\"/>\n",
    "</div>\n",
    "\n"
   ]
  },
  {
   "cell_type": "markdown",
   "id": "a29207c9",
   "metadata": {
    "slideshow": {
     "slide_type": "slide"
    }
   },
   "source": [
    "#### Experimento de Stern-Gerlach ideal:\n",
    "\n",
    "En un detector ideal la amplitud de probabilidad de impacto en la posición $z$ viene dada por la función de onda $\\psi(z) = \\braket{z}{\\psi}$. \n",
    "\n",
    "Si sólo estamos interesados en sabe si impactó en $z>0$ o en $z<0$ podemos reducir el problema a un espacio de Hilbert de dimensión 2 \n",
    "<br>\n",
    "<br>\n",
    "\n",
    "$$\n",
    "\\ket{\\psi} = \\int_{-\\infty}^{+\\infty} dz \\ket{z}\\braket{z}{\\psi}=  \\int_{-\\infty}^0 dz \\ket{z}\\braket{z}{\\psi} + \\int_0^{+\\infty}dz \\ket{z}\\braket{z}{\\psi}  = \n",
    "a\\ket{+} + b\\ket{-}\n",
    "$$\n",
    "<br>\n",
    "\n",
    "donde $a^2 + b^2 = 1$. \n",
    "\n",
    "- Los estados $\\ket{+}$ están asociados a la detección en cualquier punto con $z>0$ y a este evento le asignamos el valor +1. \n",
    "<br>\n",
    "<br>\n",
    "- Los estados $\\ket{-}$ están asociados a la detección en cualquier punto con $z<0$ y a este evento le asignamos el valor -1. \n"
   ]
  },
  {
   "cell_type": "markdown",
   "id": "671a046c",
   "metadata": {
    "slideshow": {
     "slide_type": "slide"
    }
   },
   "source": [
    "A la entrada del detector, el sistema se halla en el estado \n",
    "\n",
    "$$\n",
    "\\ket{\\chi} = \\ket{s}\\ket{\\psi}\n",
    "$$\n",
    "\n",
    "donde $\\ket{s} = c_\\uparrow\\ket{\\uparrow} + c_\\downarrow \\ket{\\downarrow}$ es un estado de espín con $|c_1|^2 + |c_2|^2 = 1$."
   ]
  },
  {
   "cell_type": "markdown",
   "id": "6e74e2d4",
   "metadata": {
    "slideshow": {
     "slide_type": "slide"
    }
   },
   "source": [
    "La interacción con el campo magnético correlaciona los estados $\\ket{\\uparrow}$ con $\\ket{+}$ y $\\ket{\\downarrow}$ con $\\ket{-}$, lo cual genera un *estado entrelazado*\n",
    "\n",
    "$$\n",
    "\\ket{\\chi}  ~\\longrightarrow ~ \\ket{\\chi'}~ =~ c_\\uparrow \\ket{\\uparrow}\\otimes \\ket{+} ~+~ c_\\downarrow \\ket{\\downarrow}\\otimes \\ket{-}  \n",
    "$$"
   ]
  },
  {
   "cell_type": "markdown",
   "id": "b5adb1cd",
   "metadata": {
    "slideshow": {
     "slide_type": "slide"
    }
   },
   "source": [
    "Si el detector superior o inferior  responden, entonces realiza una medida proyectiva en el espacio $\\{\\ket{\\pm}\\}$ y el estado colapsa  a uno de los dos estados de espín\n",
    "\n",
    "$$\n",
    " (+1)~ : ~\\ket{\\chi'} \\, \\longrightarrow \\,  \\ket{\\uparrow} ~~~~~~~~~~~;~~~~~~~~~~ (-1)~ :~ \\ket{\\chi'} \\, \\longrightarrow \\,  \\ket{\\downarrow}\n",
    "$$\n",
    "\n"
   ]
  },
  {
   "cell_type": "markdown",
   "id": "af3eeaac",
   "metadata": {
    "slideshow": {
     "slide_type": "slide"
    }
   },
   "source": [
    "La repetición permite reconstruir las probabilidades de medida\n",
    "\n",
    "$$\n",
    "p(+1) ~=~ |c_\\uparrow|^2 ~~~~~~~~~;~~~~~~~~~~ p(-1) ~=~ |c_\\downarrow|^2\n",
    "$$"
   ]
  },
  {
   "cell_type": "markdown",
   "id": "3bd98e43",
   "metadata": {
    "slideshow": {
     "slide_type": "slide"
    }
   },
   "source": [
    "<div class=\"alert alert-block alert-danger\">\n",
    "<b>En resumen:</b> \n",
    "\n",
    "\n",
    "en un experimento ideal, la medida proyectiva de la componente orbital efectuada por los detectores $\\pm$, permite realizar una medida proyectiva indirecta del observable $\\sigma_z$ en el espacio de espín.\n",
    "    \n",
    "</div>"
   ]
  },
  {
   "cell_type": "markdown",
   "id": "9c26ee6b",
   "metadata": {
    "slideshow": {
     "slide_type": "slide"
    }
   },
   "source": [
    "#### Experimento de Stern-Gerlach real:\n",
    "\n",
    "En el experimento de Stern-Gerlach real la interacción con el campo magnético genera un entrelazamiento con unas funciones de onda que no tienen soporte en el la semirecta $z>0$ ó $z<0$.  \n",
    "\n",
    "En este caso el estado inicial de espín es transferido a un estado\n",
    "\n",
    "$$\n",
    "\\ket{\\chi}  ~\\longrightarrow ~ \\ket{\\chi'} = c_\\uparrow \\ket{\\uparrow}\\otimes \\left( \\sqrt{1-p_0}\\,\\ket{+} + \\sqrt{p_0}\\,\\ket{-} \\right) + c_\\downarrow \\ket{\\downarrow}\\otimes \\left( \\sqrt{p_1}\\, \\ket{+} + \\sqrt{1-p_1}\\, \\ket{-} \\right)\n",
    "$$"
   ]
  },
  {
   "cell_type": "markdown",
   "id": "98574b1c",
   "metadata": {
    "slideshow": {
     "slide_type": "slide"
    }
   },
   "source": [
    "Si vamos a medir el grado de libertad orbital, será mejor que escribamos el estado\n",
    "\n",
    "$$\n",
    "\\ket{\\chi'} = \n",
    "\\left(  \\sqrt{1-p_0} c_\\uparrow \\ket{\\uparrow} + \\sqrt{p_1} c_\\downarrow \\ket{\\downarrow}\\right) \\otimes \\,\\ket{+} + \\left( \\sqrt{p_0}\\,c_\\uparrow \\ket{\\uparrow}  +  \\sqrt{1-p_1}c_\\downarrow  \\ket{\\downarrow} \\right)\\otimes \\ket{+}\n",
    "$$\n",
    "\n",
    "\n",
    "Ejercicio: verifica que $|\\ket{\\chi'}| = 1$."
   ]
  },
  {
   "cell_type": "markdown",
   "id": "b91e77bb",
   "metadata": {
    "slideshow": {
     "slide_type": "slide"
    }
   },
   "source": [
    "Nuevamente una medida consiste en una señal que procede del detector + o del detector -\n",
    "\n",
    "Introduzcamos los operadores de medida\n",
    "\n",
    "\\begin{eqnarray}\n",
    "M_+ &=& \\sqrt{1-p_0} \\, \\ket{\\uparrow}\\bra{\\uparrow} + \\sqrt{p_1} \\, \\ket{\\downarrow}\\bra{\\downarrow} \\\\\n",
    "\\rule{0mm}{5mm}\n",
    "M_- &=& \\sqrt{p_0} \\, \\ket{\\uparrow}\\bra{\\uparrow} + \\sqrt{1-p_1} \\, \\ket{\\downarrow}\\bra{\\downarrow} \\\\\n",
    "\\end{eqnarray}\n",
    "\n",
    "que obeceden la regla de completitud\n",
    "\n",
    "\\begin{eqnarray}\n",
    "M_+^\\dagger M_+ + M_-^\\dagger M_- &=& (1-p_0) \\, \\ket{\\uparrow}\\bra{\\uparrow} + p_1 \\, \\ket{\\downarrow}\\bra{\\downarrow}  + p_0 \\, \\ket{\\uparrow}\\bra{\\uparrow} + (1-p_1) \\, \\ket{\\downarrow}\\bra{\\downarrow}\n",
    "\\\\  \\rule{0mm}{5mm}\n",
    "&=&  \\ket{\\uparrow}\\bra{\\uparrow} +   \\ket{\\downarrow}\\bra{\\downarrow}\\\\\n",
    "&=& \\rule{0mm}{5mm} I\n",
    "\\end{eqnarray}\n"
   ]
  },
  {
   "cell_type": "markdown",
   "id": "b5023fbc",
   "metadata": {
    "slideshow": {
     "slide_type": "slide"
    }
   },
   "source": [
    "La respuesta del detector + ó del -  colapsa el estado en la forma dada por los operadore $M_m$\n",
    "\n",
    "\\begin{eqnarray}\n",
    "(+1)~:~ \\ket{\\chi'}=\\ket{s}\\ket{\\psi} ~&\\longrightarrow & ~\\ket{s_+} = \\sqrt{1-p_0}\\, c_\\uparrow\\ket{\\uparrow} + \\sqrt{p_1}\\, c_\\downarrow\\ket{\\downarrow}) \\cdot \\frac{1}{\\hbox{Norma}} \\\\\n",
    "&& =  \\frac{M_+\\ket{\\varphi}}{\\bra{s}M_+^\\dagger M_+\\ket{s}} \\\\\n",
    "\\rule{0mm}{10mm}\n",
    "(-1)~:~ \\ket{\\chi'}=\\ket{s}\\ket{\\psi} ~&\\longrightarrow & ~\\ket{s_-} = \\sqrt{p_0}\\, c_\\uparrow\\ket{\\uparrow} + \\sqrt{1-p_1}\\, c_\\downarrow\\ket{\\downarrow}) \\cdot \\frac{1}{\\hbox{Norma}} \\\\\n",
    "&& =\\frac{M_-\\ket{\\varphi}}{\\bra{s}M_-^\\dagger M_-\\ket{s}}  \\\\\n",
    "\\end{eqnarray}"
   ]
  },
  {
   "cell_type": "markdown",
   "id": "8c8604d5",
   "metadata": {
    "slideshow": {
     "slide_type": "slide"
    }
   },
   "source": [
    "Las probabilidades de medida asociadas también son expresables en términos de $M_m$\n",
    "\n",
    "\\begin{eqnarray} \n",
    "p(+1) &=& (1-p_0)|c_\\uparrow|^2 + p_1 |c_\\downarrow|^2 = \\bra{s}M_+^\\dagger M_+\\ket{s} \\\\\n",
    "\\rule{0mm}{7mm}\n",
    "p(-1) &=& p_0 |c_\\uparrow|^2 + (1-p_1) |c_\\downarrow|^2=  \\bra{s}M_-^\\dagger M_-\\ket{s} \n",
    "\\end{eqnarray}"
   ]
  },
  {
   "cell_type": "markdown",
   "id": "cef517c2",
   "metadata": {
    "slideshow": {
     "slide_type": "slide"
    }
   },
   "source": [
    "<div class=\"alert alert-block alert-danger\">\n",
    "<b>En resumen:</b> \n",
    "\n",
    "\n",
    "en un experimento no-ideal, la medida proyectiva en el espacio orbital $\\Hil^B$ no conduce a una medida proyectiva en el espacio de espín. \n",
    "\n",
    "<br>\n",
    "Las probabilidades $p(+1)$ y $p(-1)$ no permiten reconstruir los valores de $|c_\\uparrow|^2$ y $|c_\\downarrow|^2$. En este sentido una <b>medida generalizada</b> es una medida imprecisa de la polarización del espín. \n",
    "</div>"
   ]
  },
  {
   "cell_type": "markdown",
   "id": "d39b87a4",
   "metadata": {
    "slideshow": {
     "slide_type": "slide"
    }
   },
   "source": [
    "<div class=\"alert alert-block alert-warning\">\n",
    "    <b>Casos:</b> \n",
    "\n",
    "Debenmos distinguir dos límites: \n",
    "\n",
    "- $p_0= p_1= 0$. Este es el límite de medida ideal estudiado antes que permite reconstruir las probabilidades \n",
    " $|c_\\uparrow|^2$ y $|c_\\downarrow|^2$ con total fidelidad. \n",
    "<br>\n",
    "    \n",
    "- $p_0 = p_1 = 1/2$. En este caso el estado $\\ket{\\chi'} = \\frac{1}{\\sqrt{2}}\\ket{s}\\otimes (\\ket{+} + \\ket{-})$ no está entrelazado. La medida de  $|c_\\uparrow|^2$ y $|c_\\downarrow|^2$ tiene imprecisión absoluta. El estado inicial no es modificado por la medida.\n",
    "</div>"
   ]
  },
  {
   "cell_type": "markdown",
   "id": "cd675239",
   "metadata": {},
   "source": [
    "Los POVMs están asociados a las medidas $+1$ y $-1$ en el detector\n",
    "<br>\n",
    "<br>\n",
    "    \n",
    "\\begin{eqnarray}\n",
    "E_+ &=& (1-p_0)\\ketbra{\\uparrow}{\\uparrow} + p_1 \\ketbra{\\downarrow}{\\downarrow} \\\\\n",
    "\\rule{0mm}{7mm}\n",
    "E_- &=& p_0\\ketbra{\\uparrow}{\\uparrow} + 1- p_1 \\ketbra{\\downarrow}{\\downarrow}    \n",
    "\\end{eqnarray}\n",
    "<br>\n",
    "A partir de ellos reconstruímos las probabilidades\n",
    "\\begin{eqnarray}\n",
    "p(+1) &=& \\bra{s}E_+ \\ket{s} \\\\ \\rule{0mm}{5mm}\n",
    "p(-1) &=& \\bra{s} E_- \\ket{s}\n",
    "\\end{eqnarray}\n",
    "    \n",
    "Es inmediato comprobar que \n",
    "    \n",
    "$$\n",
    "M_+ = \\sqrt{E_+} ~~~~~,~~~~~~ M_- = \\sqrt{E_-}\n",
    "$$\n",
    "    \n",
    "Estos operadores de medida forman parte de una clase más general de <i>medidas generalizadas</i>\n",
    "    \n",
    "$$\n",
    "\\tilde M_+ = U_+ \\sqrt{E_+} ~~~~~,~~~~~~ \\tilde M_- = U_- \\sqrt{E_-}\n",
    "$$\n",
    "\n",
    "donde $U_+$ y $U_-$ son operadores unitarios.\n",
    "    \n"
   ]
  },
  {
   "cell_type": "markdown",
   "id": "5b5f61d6",
   "metadata": {},
   "source": [
    "<a id=\"est_pur_mez\"></a>\n",
    "<a id='dirac'></a>\n",
    "<table width=\"100%\">\n",
    "    <td style=\"font-size:250%px;font-family:Helvetica;text-align:left;background-color:rgba(0,0,900, 0.3);\">\n",
    "<b>Distinguibilidad de estados</b>\n",
    "</table>   \n"
   ]
  },
  {
   "cell_type": "markdown",
   "id": "2ef82fd9",
   "metadata": {},
   "source": [
    "<div class=\"alert alert-block alert-info\">\n",
    "<p style=\"text-align: left ;color: navy;\">    \n",
    "    <b> Teorema: </b> es imposible decidir,  mediante una sola medida, si un cierto objeto cuántico se encuentra en un estado $\\ket{\\psi}$.\n",
    "</div>"
   ]
  },
  {
   "cell_type": "markdown",
   "id": "b5c6d309",
   "metadata": {},
   "source": [
    "Por reducción al absurdo, supongamos que fuese posible: "
   ]
  },
  {
   "cell_type": "markdown",
   "id": "9bcc86a1",
   "metadata": {},
   "source": [
    "Entonces debería existir un conjunto de operadores POVM, $\\{E_m\\}$, tal que, una medida concreta $\\hat m$, con certidumbre total\n",
    "\n",
    "- *ocurre* con  cuando el estado $\\ket{\\psi}$ está presente, \n",
    "\n",
    "$$ p_\\psi(\\hat m) = \\bra{\\psi}E_{\\hat m}\\ket{\\psi} = 1$$\n",
    "<br>\n",
    "- *no ocurre* cuando el objeto se encuentra en *cualquier* otro estado $\\ket{\\chi}\\neq \\ket{\\psi}$\n",
    "\n",
    "$$ p_\\chi(\\hat m) = \\bra{\\chi}E_{\\hat m}\\ket{\\chi} = 0$$\n"
   ]
  },
  {
   "cell_type": "markdown",
   "id": "6ca17f07",
   "metadata": {},
   "source": [
    "Podemos ahora hacer uso de una propiedad de los POVMs que se demostrará a parte. Para cualesquiera estados $\\ket{\\psi}, \\ket{\\chi}$ se cumplen las implicaciones\n",
    "\n",
    "\\begin{eqnarray}\n",
    "\\bra{\\psi}E_{\\hat m}\\ket{\\psi} = 0 ~~~~&\\Longleftrightarrow &~~~~E_{\\hat m} \\ket{\\psi} = 1 \\\\\n",
    "\\bra{\\chi}E_{\\hat m}\\ket{\\chi} = 0 ~~~~&\\Longleftrightarrow &~~~~E_{\\hat m} \\ket{\\chi} = 0 \\\\\n",
    "\\end{eqnarray}\n",
    "\n"
   ]
  },
  {
   "cell_type": "markdown",
   "id": "714e6d37",
   "metadata": {},
   "source": [
    "Ahora podemos ver que, necesariamente, $\\ket{\\psi}$ y $\\ket{\\phi}$ deben ser ortogonales\n",
    "\n",
    "$$\n",
    "\\braket{\\psi}{\\chi} = \\bra{\\psi}E_{\\hat m}\\ket{\\chi} = 0\n",
    "$$"
   ]
  },
  {
   "cell_type": "markdown",
   "id": "2cf5534c",
   "metadata": {},
   "source": [
    "Para un estado arbitrario $\\ket{\\chi}$ la condición de ortogonalidad no será cierta, lo cual prueba el teorema."
   ]
  },
  {
   "cell_type": "markdown",
   "id": "e5e8e1c5",
   "metadata": {},
   "source": [
    "### Distinguibilidad dentro de un conjunto"
   ]
  },
  {
   "cell_type": "markdown",
   "id": "cb8e08c0",
   "metadata": {},
   "source": [
    "El teorema anterior admite una solución dentro de una clase de experimentos en los cuales queremos discriminar entre un conjunto de estados previamente acordados"
   ]
  },
  {
   "cell_type": "markdown",
   "id": "ad5821dd",
   "metadata": {},
   "source": [
    "Sea  $\\{\\ket{\\psi_a}\\}$ con $a=0,1,2,..,p$ un conjunto de estados conocido de antemano por Alice y Bob.\n",
    "\n",
    "Alice escoge un estado concreto $\\ket{\\psi_a}$ y se lo envía a Bob, el cuál debe reconocer cuál es."
   ]
  },
  {
   "cell_type": "markdown",
   "id": "33ddf6c8",
   "metadata": {},
   "source": [
    "Para ello Bob intenta diseñar una serie de POVMs $E_m$ adecuados al problema, de forma que\n",
    "\n",
    "$$\n",
    "\\bra{\\psi_a} E_a \\ket{\\psi_a} = 1 ~~~~~~~~~~,~~~~~~~~~ \\bra{\\psi_b} E_a \\ket{\\psi_b} = 0~~~~~~(\\hbox{para} \\, a\\neq b)\n",
    "$$\n",
    "\n",
    "Es decir, con una sola medida, sería posible dilucidar qué estado es el que se ha recibido."
   ]
  },
  {
   "cell_type": "markdown",
   "id": "5f735743",
   "metadata": {},
   "source": [
    "Del teorema anterior se deduce que:\n",
    "\n",
    "\n",
    "<div class=\"alert alert-block alert-info\">\n",
    "<p style=\"text-align: left ;color: navy;\">    \n",
    "    <b> Teorema: </b> Sólo es posible distinguir de forma <i>inequívoca</i> un estado de entre un conjunto de estados,  si estos son <i> ortogonales</i>\n",
    "</div>\n",
    "\n",
    "En este caso podemos dar una construcción explícita, incluso de los operadores de medida generalizada."
   ]
  },
  {
   "cell_type": "markdown",
   "id": "755f6412",
   "metadata": {},
   "source": [
    "Vamos a comenzar suponiendo que $\\braket{\\psi_i}{\\psi_j} = \\delta_{ij}$ son ortonormales. Entonces $p\\leq n$ y Bob puede definir detectores asociados a las medidas generalizadas\n",
    "\n",
    "\n",
    "\\begin{eqnarray}\n",
    "M_i &=& \\ketbra{\\psi_i}{\\psi_i} ~~~~~~~~~~~~~i=1,2,..,p \\\\\n",
    "\\rule{0mm}{10mm} \n",
    "M_0 &=& \\sqrt{I-\\sum_{i=1}^p \\ketbra{\\psi_i}{\\psi_i}}\n",
    "\\end{eqnarray}\n",
    "\n",
    "De hecho, son hermíticos $M_i = M_i^\\dagger$ y proyectores ortogonales $M_iM_j = M_j \\delta_{ij}$, por lo que \n",
    "que verifican también la relación de completitud \n",
    "\n",
    "$$\n",
    "\\sum_{i=0}^p  M_i = \\sum_{i=0}^p  M_i^2 = I \n",
    "$$\n",
    "\n"
   ]
  },
  {
   "cell_type": "markdown",
   "id": "f6b65683",
   "metadata": {},
   "source": [
    "Si Bob recibe un estado $\\ket{\\psi_j}$, entonces la probabilidad de medida asociada al operador $M_i$ será\n",
    "\n",
    "$$\n",
    "p(i) = \\bra{\\psi_j}M_i^\\dagger M_i \\ket{\\psi_j} = \\delta_{ij}\n",
    "$$\n",
    "\n",
    "es decir $p(j) = 1 $ si $i=j$ y $p(i) = 0$ si $i\\neq j$."
   ]
  },
  {
   "cell_type": "markdown",
   "id": "54f44f68",
   "metadata": {},
   "source": [
    "De esta manera, es posible distinguir fidedignamente cuál es el estado recibido con una sola medida de los  $p+1$ detectores. "
   ]
  },
  {
   "cell_type": "markdown",
   "id": "99576f13",
   "metadata": {},
   "source": [
    "#### Estados no-ortogonales"
   ]
  },
  {
   "cell_type": "markdown",
   "id": "4ceab642",
   "metadata": {},
   "source": [
    "Para una clase de experimentos, el uso de POVMs y medidas generalizadas es más ventajoso que el uso de medidas proyectivas. "
   ]
  },
  {
   "cell_type": "markdown",
   "id": "1b3b7cf6",
   "metadata": {},
   "source": [
    "Supongamos que Bob recibe un objeto cuántico que ha sido preparado por Alice con igual probabilidad en uno de un par de estados $\\ket{1},\\ket{2}$ no ortogonales $\\braket{1}{2}\\neq 0$. \n",
    "\n",
    "Bob diseña un POVM $\\{E_m\\}$ optimizado para cumplir con las siguientes reglas del juego"
   ]
  },
  {
   "cell_type": "markdown",
   "id": "50b60210",
   "metadata": {},
   "source": [
    "- después de la medida podemos no emitir ninguna afirmación o hacerlo\n",
    "\n",
    "- si emitimos una afirmación, ésta debe ser cierta:  o es $\\ket{1}$ o es $\\ket{2}$ con certidumbre total."
   ]
  },
  {
   "cell_type": "markdown",
   "id": "c0fa1ed4",
   "metadata": {},
   "source": [
    "Por tanto, hay *tres respuestas* posibles, y, consistentemente, el POVM está formado por *tres operadores* $\\{ E_1, E_2, E_3\\}$  construidos de forma tal que\n",
    "\n",
    "- en el estado  $\\ket{1}$, $E_2$ nunca ocurre $ \\Rightarrow \\bra{1}E_2\\ket{1} = 0$, pero pueden ocurrir $E_1, E_3$ \n",
    "\n",
    "En consecuencia, si *se detecta* $E_2 \\Rightarrow \\bra{1}E_2\\ket{1} \\neq 0$ entonces no puede ser $\\ket{1}$, así que *tiene que ser* $\\ket{2}$.\n",
    "\n",
    "<br>\n",
    "\n",
    "\n",
    "- en el estado  $\\ket{2}$,  $E_1$ nunca ocurre $\\Rightarrow  \\bra{2}E_1\\ket{2} = 0$, pero pueden ocurrir $E_2, E_3$ \n",
    "\n",
    "En consecuencia, *si se detecta* $E_1 \\Rightarrow \\bra{1}E_1\\ket{1} \\neq 0$ entonces no puede ser $\\ket{2}$, así que *tiene que ser* $\\ket{1}$.\n",
    "\n",
    "<br>\n",
    "\n"
   ]
  },
  {
   "cell_type": "markdown",
   "id": "ed920916",
   "metadata": {},
   "source": [
    "De forma consistente, tenemos que, después de efectuar una medida \n",
    "\n",
    "- Si se detecta $E_1$ es señal inequívoca de que el estado era $\\ket{1}$\n",
    "<br>\n",
    "- Si se detecta $E_2$ es señal inequívoca de que el estado era $\\ket{2}$\n",
    "<br>\n",
    "\n",
    "- Si se detecta $E_3$ no se puede afirmar nada\n"
   ]
  },
  {
   "cell_type": "markdown",
   "id": "f9e359ed",
   "metadata": {},
   "source": [
    "Podemos dar una forma más explícita de estos operadores\n",
    "\n",
    "\\begin{eqnarray}\n",
    "E_1 &=& a_1 \\left( \\rule{0mm}{4mm}I- \\ket{2}\\bra{2} \\right) \\\\\n",
    "\\rule{0mm}{6mm}\n",
    "E_2 &=& a_2 \\left( \\rule{0mm}{4mm} I-\\ket{1}\\bra{1} \\right)  \\\\\n",
    "\\rule{0mm}{6mm}\n",
    "E_3 &=& I - E_1 - E_2\n",
    "\\end{eqnarray}"
   ]
  },
  {
   "cell_type": "markdown",
   "id": "1bd57c2f",
   "metadata": {},
   "source": [
    "Las constantes $a_1$ y $a_2$ pueden optimizarse para que la probabilidad de las opciones $E_1$ y $E_2$ que permiten extraer una conclusión se maximice\n",
    "\n",
    "\\begin{eqnarray}\n",
    "p &=& \\frac{1}{2}\\left( \\rule{0mm}{4mm}\\bra{1}E_1\\ket{1} + \\bra{2}E_1\\ket{2}\\right)  + \\frac{1}{2} \\left( \n",
    "\\rule{0mm}{4mm}\\bra{1}E_2\\ket{1} + \\bra{2}E_2\\ket{2} \\right) \\\\\n",
    "&=& \\frac{1}{2}  \\rule{0mm}{4mm}\\bra{1}E_1\\ket{1}    + \\frac{1}{2}   \n",
    "\\rule{0mm}{4mm}\\bra{2}E_2\\ket{2} \\\\\n",
    "&=& \\frac{1}{2}(a_1 + a_2) \\left( 1- |\\braket{1}{2}|^2    \\right)\n",
    "\\end{eqnarray}"
   ]
  },
  {
   "cell_type": "markdown",
   "id": "c93446d9",
   "metadata": {},
   "source": [
    "En https://arxiv.org/abs/quant-ph/9604014 se demuestra que, para maximizar $p$, manteniendo la positividad de $E_3$\n",
    "\n",
    "$$\n",
    "a_1 = a_2 = \\frac{1}{1+|\\braket{1}{2}|} ~~~~~~~\\Rightarrow ~~~~~~~ p = 1 - |\\braket{1}{2}|\n",
    "$$"
   ]
  },
  {
   "cell_type": "markdown",
   "id": "d94f862c",
   "metadata": {},
   "source": [
    "Para estados ortogonales $\\braket{1}{2} = 0$ se cumple la distinguibilidad completa $p_{max} = 1$"
   ]
  }
 ],
 "metadata": {
  "celltoolbar": "Slideshow",
  "kernelspec": {
   "display_name": "Python 3 (ipykernel)",
   "language": "python",
   "name": "python3"
  },
  "language_info": {
   "codemirror_mode": {
    "name": "ipython",
    "version": 3
   },
   "file_extension": ".py",
   "mimetype": "text/x-python",
   "name": "python",
   "nbconvert_exporter": "python",
   "pygments_lexer": "ipython3",
   "version": "3.9.16"
  },
  "varInspector": {
   "cols": {
    "lenName": 16,
    "lenType": 16,
    "lenVar": 40
   },
   "kernels_config": {
    "python": {
     "delete_cmd_postfix": "",
     "delete_cmd_prefix": "del ",
     "library": "var_list.py",
     "varRefreshCmd": "print(var_dic_list())"
    },
    "r": {
     "delete_cmd_postfix": ") ",
     "delete_cmd_prefix": "rm(",
     "library": "var_list.r",
     "varRefreshCmd": "cat(var_dic_list()) "
    }
   },
   "types_to_exclude": [
    "module",
    "function",
    "builtin_function_or_method",
    "instance",
    "_Feature"
   ],
   "window_display": false
  }
 },
 "nbformat": 4,
 "nbformat_minor": 5
}
