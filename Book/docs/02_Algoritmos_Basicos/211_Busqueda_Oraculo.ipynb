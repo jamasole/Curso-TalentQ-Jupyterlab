{
 "cells": [
  {
   "cell_type": "markdown",
   "metadata": {
    "slideshow": {
     "slide_type": "slide"
    }
   },
   "source": [
    "<img   src=\"../figuras/logo/TalentQ_LogoPosNegro.png\" align=center  width=\"12%\"/>\n",
    "<br>\n",
    "\n",
    "<table width=\"100%\">\n",
<<<<<<< HEAD
    "<td style=\"font-size:400%px;font-style:italic;text-align:right;background-color:rgba(0, 190, 170,0.6)\">\n",
=======
    "<td style=\"font-size:400%px;font-style:italic;text-align:right;background-color:rgba(0, 160, 120,0.6)\">\n",
>>>>>>> ff71a8c41af8176e6473df19aa343a50dfaf584f
    "Algoritmos  de oráculo\n",
    "</td></table>\n",
    "$ \\newcommand{\\bra}[1]{\\langle #1|} $\n",
    "$ \\newcommand{\\ket}[1]{|#1\\rangle} $\n",
    "$ \\newcommand{\\braket}[2]{\\langle #1|#2\\rangle} $\n",
    "$ \\newcommand{\\i}{{\\color{blue} i}} $ \n",
    "$ \\newcommand{\\Hil}{{\\cal H}} $\n",
    "$ \\newcommand{\\cg}[1]{{\\rm C}#1} $\n",
    "\n"
   ]
  },
  {
   "cell_type": "code",
<<<<<<< HEAD
   "execution_count": 12,
=======
   "execution_count": 19,
>>>>>>> ff71a8c41af8176e6473df19aa343a50dfaf584f
   "metadata": {
    "slideshow": {
     "slide_type": "slide"
    }
   },
   "outputs": [],
   "source": [
    "'Correr esta celda para incluir funciones predefinidas'\n",
    "%run ../macro_CURSO.py"
   ]
  },
  {
   "cell_type": "markdown",
   "metadata": {},
   "source": [
    "\n",
    "- [Introducción](#unasol)\n",
    "\n",
    "\n",
    "- [El problema de Deutsch-Josza](#DeJo)\n",
    "\n",
    "\n",
    "- [El problema de Bernstein-Vazirani](#BeVa)\n",
    "\n",
    "\n",
    "- [El problema de Simon](#Simon)"
   ]
  },
  {
   "cell_type": "markdown",
   "metadata": {
    "slideshow": {
     "slide_type": "slide"
    }
   },
   "source": [
    "<a id='unasol'></a>\n",
    "<table width=\"100%\">\n",
<<<<<<< HEAD
    "    <td style=\"font-size:250%px;font-family:Helvetica;text-align:left;background-color:rgba(0,0,900, 0.3);\">\n",
=======
    "    <td style=\"font-size:250%px;font-family:Helvetica;text-align:left;background-color:rgba(12, 43, 337, 0.3);\">\n",
>>>>>>> ff71a8c41af8176e6473df19aa343a50dfaf584f
    "<b> Introducción </b>\n",
    "</table>   "
   ]
  },
  {
   "cell_type": "markdown",
   "metadata": {},
   "source": [
    "- La potencial de la computación cuántica reside en que podamos fabricar estados que concentran la solución a un problema en una o varias amplitudes. \n",
    "\n",
    "\n",
    "- El foco se desplaza enconces a encontrar los *problemas adecuados*"
   ]
  },
  {
   "cell_type": "markdown",
   "metadata": {},
   "source": [
<<<<<<< HEAD
    "- Los problemas **búsqueda de oráculo** consisten en *desvelar alguna propiedad de la función que implementa dicho oráculo* "
=======
    "- Los problemas *búsqueda de oráculo* consiste en desvelar alguna propiedad de la función que implementa dicho oráculo. "
>>>>>>> ff71a8c41af8176e6473df19aa343a50dfaf584f
   ]
  },
  {
   "cell_type": "markdown",
   "metadata": {
    "slideshow": {
     "slide_type": "slide"
    }
   },
   "source": [
    "*Ejemplo:* \n",
    "\n",
    "Denotaremos el conjunto $S_n =\\{0,1,...2^n-1 \\}\\sim \\{0,1\\}^n$ indistintamente.\n",
    "\n",
<<<<<<< HEAD
    "Vamos a considerar una *función binaria*  $f:S_n \\to S_1$ implementada a través de un *oráculo* $U_f$ que podemos consultar a placer"
=======
    "Vamos a considerar una función binaria  $f:S_n \\to S_1$ implementada a través de un oráculo $O$ que podemos consultar a placer\n"
>>>>>>> ff71a8c41af8176e6473df19aa343a50dfaf584f
   ]
  },
  {
   "cell_type": "markdown",
   "metadata": {},
   "source": [
<<<<<<< HEAD
=======
    "La implementación unitaria de $f$ se realiza en la forma de un operador controlado\n",
    "\n",
>>>>>>> ff71a8c41af8176e6473df19aa343a50dfaf584f
    "$$\n",
    "{U_f} : \\ket{x}_n\\otimes \\ket{y} \\to \\ket{x}_n\\otimes \\ket{y + f(x)}\n",
    "$$\n",
    "\n",
<<<<<<< HEAD
    "En particular, si tomamos $\\ket{y} = \\ket{-}$ el oráculo $f(x)$ vendrá codificado *en la fase*"
=======
    "En particular, si $\\ket{y} = \\ket{-}$ tendremos el oráculo $f(x)$ codificado en la fase."
>>>>>>> ff71a8c41af8176e6473df19aa343a50dfaf584f
   ]
  },
  {
   "cell_type": "markdown",
   "metadata": {
    "slideshow": {
<<<<<<< HEAD
     "slide_type": "slide"
=======
     "slide_type": "fragment"
>>>>>>> ff71a8c41af8176e6473df19aa343a50dfaf584f
    }
   },
   "source": [
    "Vamos a estudiar el siguiente circuito"
   ]
  },
  {
   "cell_type": "markdown",
   "metadata": {
    "slideshow": {
     "slide_type": "fragment"
    }
   },
   "source": [
    "<center> \n",
<<<<<<< HEAD
    "<img src=\"./figuras/Busqueda_Oraculo.png\" width='60%' style='margin:automatic'/>\n",
=======
    "<img src=\"./figuras/Busqueda_Oraculo.png\" width='50%' style='margin:automatic'/>\n",
>>>>>>> ff71a8c41af8176e6473df19aa343a50dfaf584f
    "</center>\n"
   ]
  },
  {
   "cell_type": "markdown",
   "metadata": {
    "slideshow": {
     "slide_type": "fragment"
    }
   },
   "source": [
    "Los ingredientes son :\n",
    "    \n",
    "- paralelismo ($\\to $ evaluar el oráculo en **todos** los elementos de la base simultáneamente)\n",
    "\n",
    "- codificación del oráculo en **la fase** (retroceso de fase)\n",
    "\n",
    "- interferencia para **concentrar** la información en algunas amplitudes.\n"
   ]
  },
  {
   "cell_type": "markdown",
   "metadata": {
    "slideshow": {
     "slide_type": "slide"
    }
   },
   "source": [
<<<<<<< HEAD
    "Evaluemos el estado en la salida"
=======
    "Vamos a evaluar el estado en la salida"
>>>>>>> ff71a8c41af8176e6473df19aa343a50dfaf584f
   ]
  },
  {
   "cell_type": "markdown",
   "metadata": {
    "slideshow": {
     "slide_type": "fragment"
    }
   },
   "source": [
    "\\begin{eqnarray}\n",
<<<<<<< HEAD
    "\\ket{\\psi_0} = \\ket{0}_n \\otimes \\ket{-} \n",
    "&\\stackrel{W_{n}}{\\longrightarrow}&  \\frac{1}{\\sqrt{2^n}} \\sum_{x=0}^{2^n-1}\\ket{x}\\otimes \\ket{-} ~~~~\\hbox{ paralelismo}  \\nonumber \\\\\n",
=======
    "\\ket{\\psi_0} &=& \\ket{0}_n \\otimes \\ket{-} \\nonumber\\\\\n",
    "\\rule{0mm}{15mm}\n",
    "&\\stackrel{W_{n}}{\\longrightarrow} & \\frac{1}{\\sqrt{2^n}} \\sum_{x=0}^{2^n-1}\\ket{x}\\otimes \\ket{-} ~~~~\\hbox{ paralelismo}  \\nonumber \\\\\n",
>>>>>>> ff71a8c41af8176e6473df19aa343a50dfaf584f
    "\\rule{0mm}{12mm}\n",
    "&\\stackrel{U_f}{\\longrightarrow} &  \\frac{1}{\\sqrt{2^n}} \\sum_{x=0}^{2^n-1}\\ket{x}\\otimes (-1)^{f(x)} \\ket{-} ~~~~ \\hbox{ codificación del oráculo  en la fase}\n",
    "\\end{eqnarray}"
   ]
  },
  {
   "cell_type": "markdown",
   "metadata": {
    "slideshow": {
     "slide_type": "fragment"
    }
   },
   "source": [
    "\\begin{eqnarray}\n",
<<<<<<< HEAD
    "~~~&\\stackrel{W_{n}}{\\longrightarrow} &   \\frac{1}{\\sqrt{2^n}} \\sum_{x=0}^{2^n-1}(-1)^{f(x)}(H^{\\otimes n}\\ket{x})\\otimes  \\ket{-}   \\nonumber\\\\\n",
=======
    "&\\stackrel{W_{n}}{\\longrightarrow} &   \\frac{1}{\\sqrt{2^n}} \\sum_{x=0}^{2^n-1}(-1)^{f(x)}(H^{\\otimes n}\\ket{x})\\otimes  \\ket{-}   \\nonumber\\\\\n",
>>>>>>> ff71a8c41af8176e6473df19aa343a50dfaf584f
    "\\rule{0mm}{12mm}\n",
    "&=&   \\frac{1}{2^n} \\sum_{x,y=0}^{2^n-1}(-1)^{f(x)+ x \\cdot y}\\ket{y}\\otimes \\ket{-}   ~~~~ \\hbox{interferencia } \n",
    "\\hspace{2.8cm}\n",
    "\\end{eqnarray}\n",
    "<br>\n",
    "donde\n",
<<<<<<< HEAD
    "$$x\\cdot y = x_{n-1}y_{n-1} \\oplus x_{n-2}y_{n-2} \\oplus ...  \\oplus x_{0}y_{0}$$ "
=======
    "$$x\\cdot y = x_{n-1}y_{n-1} \\oplus x_{n-2}y_{n-2} \\oplus ...  \\oplus x_{0}y_{0}$$ \n"
>>>>>>> ff71a8c41af8176e6473df19aa343a50dfaf584f
   ]
  },
  {
   "cell_type": "markdown",
   "metadata": {
    "slideshow": {
     "slide_type": "fragment"
    }
   },
   "source": [
<<<<<<< HEAD
    "- el estado final está factorizado. En el primer registro encontramos\n",
    "\n",
    "$$\n",
    "\\fbox{$ \\displaystyle\n",
    "\\ket{\\Phi} =  \\frac{1}{2^n} \\sum_{x,y=0}^{2^n-1}(-1)^{f(x)+ x \\cdot y}\\ket{y}\n",
    "$}\n",
=======
    "- el estado final está factorizado\n",
    "\n",
    "-  en el primer registro está en el estado\n",
    "$$\n",
    "\\ket{\\Phi} =  \\frac{1}{2^n} \\sum_{x,y=0}^{2^n-1}(-1)^{f(x)+ x \\cdot y}\\ket{y}\n",
>>>>>>> ff71a8c41af8176e6473df19aa343a50dfaf584f
    "$$\n",
    "\n",
    "-  dependiendo de cómo sea $f(x)$ podremos conseguir *interferencias* que  concentren la probabilidad en algún estado\n"
   ]
  },
  {
   "cell_type": "markdown",
   "metadata": {
    "slideshow": {
     "slide_type": "slide"
    }
   },
   "source": [
    "<a id='DeJo'></a>\n",
    "<table width=\"100%\">\n",
<<<<<<< HEAD
    "    <td style=\"font-size:250%px;font-family:Helvetica;text-align:left;background-color:rgba(0,0,900, 0.3);\">\n",
=======
    "    <td style=\"font-size:250%px;font-family:Helvetica;text-align:left;background-color:rgba(12, 43, 337, 0.3);\">\n",
>>>>>>> ff71a8c41af8176e6473df19aa343a50dfaf584f
    "<b>  El problema de Deutsch-Josza</b>\n",
    "</table>   "
   ]
  },
  {
   "cell_type": "markdown",
   "metadata": {
    "slideshow": {
     "slide_type": "slide"
    }
   },
   "source": [
    " \n",
    "\n",
<<<<<<< HEAD
    "- **Promesa**: $f$ pertenece a una de las dos clases siguientes:  \n",
    "\n",
    "    -  <i>constante</i> ($C \\Rightarrow f(x)$ igual para todo $x$) o \n",
    "\n",
    "    -  <i>equilibrada</i> ($E\\Rightarrow f(x)$ igual para la mitad)\n",
=======
    "- **Promesa**: $f$ pertenece a una de las dos clases siguientes:  *constante* ($C \\Rightarrow f(x)$ igual para todo $x$) o *equilibrada* ($E\\Rightarrow f(x)$ igual para la mitad)\n",
>>>>>>> ff71a8c41af8176e6473df19aa343a50dfaf584f
    "\n",
    "<br>\n",
    "\n",
    "\n",
    "- **Problema**: descubrir si $f$ es de clase  $C$ ó $E$\n",
    "\n",
    "<br>\n",
    "\n",
    "\n",
    "<div class=\"alert alert-block alert-danger\">\n",
    "Clásicamente: deberíamos invocar el oráculos  $2^n/2+1$ veces\n",
    "</div>\n",
    "\n",
    "\n"
   ]
  },
  {
   "cell_type": "markdown",
   "metadata": {
    "slideshow": {
     "slide_type": "fragment"
    }
   },
   "source": [
    "\n",
    "-  **Solución**: corremos el circuito una vez y medimos sobre el estado $~\\ket{\\Phi}$ \n",
<<<<<<< HEAD
=======
    "\n",
    "<br>\n",
>>>>>>> ff71a8c41af8176e6473df19aa343a50dfaf584f
    "<br>\n",
    "\n",
    "<table width=\"100%\"><td style=\"font-size:120%px;font-style:roman;text-align:left;\">\n",
    "    $\\to ~$ si $f \\in C$  es <b>constante</b>  $~\\Rightarrow~ f(x) = f_0 ~\\forall x ~~~\\Rightarrow~~~$ la probabilidad de obtener $ \\ket{0^n}~$ es  $ 1$  \n",
    "<br>\n",
    "</table>\n"
   ]
  },
  {
   "cell_type": "markdown",
   "metadata": {
    "slideshow": {
<<<<<<< HEAD
     "slide_type": "slide"
=======
     "slide_type": "fragment"
>>>>>>> ff71a8c41af8176e6473df19aa343a50dfaf584f
    }
   },
   "source": [
    "*Prueba:*  \n",
    "\n",
    "\\begin{eqnarray}\n",
    "p_{0} &=& |\\braket{0^n}{\\Phi}|^2 \\nonumber\\\\ \\rule{0mm}{12mm}\n",
    "&=& \\left\\vert \\bra{0^n} \\sum_{y=0}^{2^n-1}\\left( \\frac{1}{2^n}\\sum_{x=0}^{2^n-1}(-1)^{f_0 + x \\cdot y} \\right)\\ket{y} \\right\\vert^2\n",
<<<<<<< HEAD
    " \\nonumber\\\\ \\rule{0mm}{10mm}\n",
    " &=& \\left\\vert \\frac{(-1)^{f_0}}{2^{n}}   \\sum_{x=0}^{2^n-1} (-1)^{x \\cdot 0}\\right\\vert^2    \\\\ \\rule{0mm}{8mm}\n",
    " &=& (-1)^{2f_0} \\\\ \\rule{0mm}{8mm} &=& 1 \\hspace{10cm}\n",
=======
    " \\nonumber\\\\ \\rule{0mm}{12mm}\n",
    " &=& \\left\\vert \\frac{(-1)^{f_0}}{2^{n}}   \\sum_{x=0}^{2^n-1} (-1)^{x \\cdot 0}\\right\\vert^2    \\\\ \\rule{0mm}{15mm}\n",
    " &=& (-1)^{2f_0} \\\\ \\rule{0mm}{15mm} &=& 1 \n",
>>>>>>> ff71a8c41af8176e6473df19aa343a50dfaf584f
    "\\nonumber \n",
    "\\end{eqnarray}\n",
    "\n"
   ]
  },
  {
   "cell_type": "markdown",
   "metadata": {
    "slideshow": {
     "slide_type": "slide"
    }
   },
   "source": [
    "\n",
    "<table width=\"100%\"><td style=\"font-size:120%px;font-style:roman;text-align:left;\">\n",
    "$\\to ~ $    si $f\\in E$ es <b>equilibrada</b> $~\\Rightarrow~$ la probabilidad de obtener $~\\ket{0^n}~$  es $~0~$\n",
    "</table>\n"
   ]
  },
  {
   "cell_type": "markdown",
   "metadata": {
    "slideshow": {
     "slide_type": "fragment"
    }
   },
   "source": [
<<<<<<< HEAD
    "*Prueba:*\n",
=======
    "\n",
>>>>>>> ff71a8c41af8176e6473df19aa343a50dfaf584f
    "\n",
    "En este caso  $f(x)=\\pm 1$ está distribuida de forma equilibrada $~\\Rightarrow$\n",
    "<br>\n",
    "\n",
    "\\begin{eqnarray}\n",
    "\\braket{0^n}{\\Phi} &=& \\bra{0^n} \\sum_{y=0}^{2^n-1}\\left( \\frac{1}{2^n}\\sum_{x=0}^{2^n-1}(-1)^{f(x) + x \\cdot y} \\right)\\ket{y} \\nonumber\\\\ \\rule{0mm}{15mm}\n",
    " &=&  \\frac{1}{2^{n}} \\sum_{x=0}^{2^n-1} (-1)^{f(x) + x \\cdot 0}    = 0\n",
    "\\nonumber \\\\\n",
<<<<<<< HEAD
    " &=&  \\frac{1}{2^{n}} \\sum_{x=0}^{2^n-1} (-1)^{f(x)}    = 0  \\hspace{10cm}\n",
=======
    " &=&  \\frac{1}{2^{n}} \\sum_{x=0}^{2^n-1} (-1)^{f(x)}    = 0\n",
>>>>>>> ff71a8c41af8176e6473df19aa343a50dfaf584f
    "\\end{eqnarray}\n",
    "\n",
    "al haber, por hipótesis, igual número de valores $f(x)=0$ que de $f(x)=1$ en la suma.\n",
    "\n"
   ]
  },
  {
   "cell_type": "markdown",
   "metadata": {
    "slideshow": {
     "slide_type": "fragment"
    }
   },
   "source": [
<<<<<<< HEAD
=======
    "<br>\n",
    "<br>\n",
>>>>>>> ff71a8c41af8176e6473df19aa343a50dfaf584f
    "\n",
    "<div class=\"alert alert-block alert-success\">\n",
    "<b>Ejercicio 2.1.1.1 </b> \n",
    "    \n",
    "oráculos constantes sólo hay dos, $f(x)=0~$ ó $~f(x) = 1$ para todo $x$. Oráculos equilibrados hay muchos, y en la lección anterior deberías haber fabricado un circuito para generarlos. \n",
    "Construye el circuito de Deutsch-Josza y ponlo a prueba con estos oráculos. \n",
    "</div>\n"
   ]
  },
  {
<<<<<<< HEAD
=======
   "cell_type": "code",
   "execution_count": null,
   "metadata": {},
   "outputs": [],
   "source": []
  },
  {
>>>>>>> ff71a8c41af8176e6473df19aa343a50dfaf584f
   "cell_type": "markdown",
   "metadata": {
    "slideshow": {
     "slide_type": "slide"
    }
   },
   "source": [
    "<a id='BeVa'></a>\n",
    "<table width=\"100%\">\n",
<<<<<<< HEAD
    "    <td style=\"font-size:250%px;font-family:Helvetica;text-align:left;background-color:rgba(0,0,900, 0.3);\">\n",
=======
    "    <td style=\"font-size:250%px;font-family:Helvetica;text-align:left;background-color:rgba(12, 43, 337, 0.3);\">\n",
>>>>>>> ff71a8c41af8176e6473df19aa343a50dfaf584f
    "<b> El problema de Bernstein-Vazirani</b>\n",
    "</table>   "
   ]
  },
  {
   "cell_type": "markdown",
   "metadata": {
    "slideshow": {
     "slide_type": "slide"
    }
   },
   "source": [
    "\n",
    "\n",
    "-  **Promesa**: $f$ es una *función lineal*, definida por una cadena de bits $a \\in \\{0,1\\}^n$\n",
    "<br>\n",
    "$$f(x) = a\\cdot x  = a_{n-1} x_{n-1} \\oplus ....\\oplus a_0 x_0$$\n",
    "<br>\n",
    "\n",
    "- **Problema**: hallar $a = a_{n-1} \\ldots a_0$ \n",
    "\n",
    "<br>\n",
    "<br>\n",
    "\n",
    "<div class=\"alert alert-block alert-danger\">\n",
<<<<<<< HEAD
    "<b>Clásicamente</b>: necesitaríamos invocar el oráculo   $n$ veces. \n",
    "\n",
    "Por ejemplo  $f(0\\cdots 0 1)=0,1 $ revela $a_0=0,1$ respectivamente.\n",
=======
    " Clásicamente necesitaríamos invocar el oráculo   $n$ veces. \n",
    " Por ejemplo  $f(0\\cdots 0 1)=0,1 $ revela $a_0=0,1$ respectivamente.\n",
>>>>>>> ff71a8c41af8176e6473df19aa343a50dfaf584f
    "Iterativamente  $f(0\\cdots 0 1 0)\\to a_1$, $ f(0\\cdots 1 0 0)\\to a_2 \\cdots$, etc.\n",
    "</div>\n"
   ]
  },
  {
   "cell_type": "markdown",
   "metadata": {
    "slideshow": {
<<<<<<< HEAD
     "slide_type": "slide"
=======
     "slide_type": "fragment"
>>>>>>> ff71a8c41af8176e6473df19aa343a50dfaf584f
    }
   },
   "source": [
    "**Solución**: correr el circuito una vez y medir el estado final\n",
    "\n",
    "\\begin{eqnarray}\n",
    "\\ket{\\Phi} &=& \\frac{1}{2^n} \\sum_{x,y=0}^{2^n-1}(-1)^{f(x)+ y \\cdot x}\\ket{y}\n",
    "=  \n",
    "\\frac{1}{2^n}\\sum_{y=0}^{2^n-1} \\left(\\sum_{x=0}^{2^n-1}(-1)^{(a+y)\\cdot x}\\right)\\ket{y} ~\\nonumber\\\\  \\rule{0mm}{10mm}\n",
    "&=&  \n",
    "\\frac{1}{2^n}\\sum_{y=0}^{2^n-1} \\left(\\sum_{x=0}^{2^n-1}(-1)^{(-a+y)\\cdot x}\\right)\\ket{y}\\nonumber\\\\ \\rule{0mm}{10mm}\n",
    " &=&  \\frac{1}{2^n} \\sum_{y=0}^{2^n-1} 2^n \\delta_{(-a+y),0} \\ket{y} \\nonumber\\\\ \\rule{0mm}{10mm}\n",
    "&=& \\rule{0mm}{5mm} \\ket{a_0a_1\\cdots a_{n-1}} \\nonumber \n",
    "\\end{eqnarray}\n",
    "\n",
    "¡ Una **única**  medida del estado final da $a$ !\n",
    "\n"
   ]
  },
  {
   "cell_type": "markdown",
   "metadata": {
    "slideshow": {
     "slide_type": "fragment"
    }
   },
   "source": [
    "<div class=\"alert alert-block alert-warning\">\n",
    "    <b>Notar :</b> \n",
    "    en ambos casos, la <i>clave</i> está en <i>concentrar</i> la  probabilidad de la solución en la amplitud de un sólo estado.     \n",
    "</div>\n"
   ]
  },
  {
   "cell_type": "markdown",
   "metadata": {
    "slideshow": {
     "slide_type": "slide"
    }
   },
   "source": [
    "###  Implementación"
   ]
  },
  {
   "cell_type": "markdown",
   "metadata": {
    "slideshow": {
     "slide_type": "-"
    }
   },
   "source": [
    "en primer lugar generamos un oráculo lineal $f(x)=x\\cdot a$ con una cadena $a=(a_{n-1},\\ldots a_0)$ oculta de longitud $n$"
   ]
  },
  {
   "cell_type": "code",
<<<<<<< HEAD
   "execution_count": 13,
   "metadata": {
=======
   "execution_count": 44,
   "metadata": {
    "scrolled": false,
>>>>>>> ff71a8c41af8176e6473df19aa343a50dfaf584f
    "slideshow": {
     "slide_type": "fragment"
    }
   },
   "outputs": [
    {
     "name": "stdout",
     "output_type": "stream",
     "text": [
<<<<<<< HEAD
      "cadena oculta= 0101\n"
=======
      "cadena oculta= 1011\n"
>>>>>>> ff71a8c41af8176e6473df19aa343a50dfaf584f
     ]
    },
    {
     "data": {
      "text/html": [
<<<<<<< HEAD
       "<pre style=\"word-wrap: normal;white-space: pre;background: #fff0;line-height: 1.1;font-family: &quot;Courier New&quot;,Courier,monospace\">               \n",
       "q_0: ──■───────\n",
       "       │       \n",
       "q_1: ──┼───────\n",
       "       │       \n",
       "q_2: ──┼────■──\n",
       "       │    │  \n",
       "q_3: ──┼────┼──\n",
       "     ┌─┴─┐┌─┴─┐\n",
       "q_4: ┤ X ├┤ X ├\n",
       "     └───┘└───┘</pre>"
      ],
      "text/plain": [
       "               \n",
       "q_0: ──■───────\n",
       "       │       \n",
       "q_1: ──┼───────\n",
       "       │       \n",
       "q_2: ──┼────■──\n",
       "       │    │  \n",
       "q_3: ──┼────┼──\n",
       "     ┌─┴─┐┌─┴─┐\n",
       "q_4: ┤ X ├┤ X ├\n",
       "     └───┘└───┘"
      ]
     },
     "execution_count": 13,
=======
       "<pre style=\"word-wrap: normal;white-space: pre;background: #fff0;line-height: 1.1;font-family: &quot;Courier New&quot;,Courier,monospace\">                    \n",
       "q_0: ──■────────────\n",
       "       │            \n",
       "q_1: ──┼────■───────\n",
       "       │    │       \n",
       "q_2: ──┼────┼───────\n",
       "       │    │       \n",
       "q_3: ──┼────┼────■──\n",
       "     ┌─┴─┐┌─┴─┐┌─┴─┐\n",
       "q_4: ┤ X ├┤ X ├┤ X ├\n",
       "     └───┘└───┘└───┘</pre>"
      ],
      "text/plain": [
       "                    \n",
       "q_0: ──■────────────\n",
       "       │            \n",
       "q_1: ──┼────■───────\n",
       "       │    │       \n",
       "q_2: ──┼────┼───────\n",
       "       │    │       \n",
       "q_3: ──┼────┼────■──\n",
       "     ┌─┴─┐┌─┴─┐┌─┴─┐\n",
       "q_4: ┤ X ├┤ X ├┤ X ├\n",
       "     └───┘└───┘└───┘"
      ]
     },
     "execution_count": 44,
>>>>>>> ff71a8c41af8176e6473df19aa343a50dfaf584f
     "metadata": {},
     "output_type": "execute_result"
    }
   ],
   "source": [
    "from qiskit import QuantumRegister, ClassicalRegister, QuantumCircuit\n",
    "\n",
    "def random_linear_oracle(n):  #n es la longitud de la cadena a oculta\n",
    "\n",
    "    import random, string\n",
    "    a = ''.join(random.choices(['0','1'], k=n))\n",
    "    print('cadena oculta=',a)  \n",
    "    qc = QuantumCircuit(n+1) # el ultimo registro es la salida |f(x)> = |a.x>\n",
    "\n",
    "    \n",
    "    for i, ai in enumerate(reversed(a)):  # ponemos reversed para usar el convenio de qiskit\n",
    "        if ai == '1':\n",
    "            qc.cx(i,n)    \n",
    "    return qc\n",
    "\n",
    "random_linear_oracle(4).draw()\n",
    "    "
   ]
  },
  {
   "cell_type": "markdown",
   "metadata": {
    "slideshow": {
     "slide_type": "slide"
    }
   },
   "source": [
    "Ahora implementamos el oráculo en el algoritmo de BV "
   ]
  },
  {
   "cell_type": "code",
<<<<<<< HEAD
   "execution_count": 14,
=======
   "execution_count": 45,
>>>>>>> ff71a8c41af8176e6473df19aa343a50dfaf584f
   "metadata": {
    "slideshow": {
     "slide_type": "-"
    }
   },
   "outputs": [],
   "source": [
    "def BV_circuit(linear_oracle,n):\n",
    "    #n: número de bits\n",
    "    #a: coeficiente oculto\n",
    "    #return: circuito\n",
    "\n",
    "    qreg = QuantumRegister(n+1)\n",
    "    creg = ClassicalRegister(n)\n",
    "    qc = QuantumCircuit(qreg,creg)\n",
    "\n",
    "    #Hacemos máxima superposición\n",
<<<<<<< HEAD
    "    qc.h(qreg[:-1])\n",
    "\n",
    "    #Ponemos el último qubit en el estado |->\n",
    "    qc.x(qreg[-1])\n",
    "    qc.h(qreg[-1])\n",
=======
    "    qc.h(qreg)\n",
    "\n",
    "    #Ponemos el último qubit en el estado |->\n",
    "    qc.z(qreg[-1])\n",
>>>>>>> ff71a8c41af8176e6473df19aa343a50dfaf584f
    "\n",
    "    qc.barrier()\n",
    "    \n",
    "    # añadimos el oráculo lineal con la cadena oculta\n",
    "    qc.append(linear_oracle.to_gate(),qreg[:])\n",
    "    \n",
    "    qc.barrier()\n",
    "    \n",
    "\n",
    "    #Aplicamos Hadamard de nuevo\n",
    "\n",
    "    qc.h(qreg[0:-1])\n",
    "\n",
    "    qc.measure(qreg[0:-1],creg)\n",
    "\n",
    "    return qc"
   ]
  },
  {
   "cell_type": "markdown",
   "metadata": {
    "slideshow": {
     "slide_type": "slide"
    }
   },
   "source": [
    "vamos a correr un ejemplo concreto "
   ]
  },
  {
   "cell_type": "code",
<<<<<<< HEAD
   "execution_count": 15,
=======
   "execution_count": 50,
>>>>>>> ff71a8c41af8176e6473df19aa343a50dfaf584f
   "metadata": {
    "slideshow": {
     "slide_type": "-"
    }
   },
   "outputs": [
    {
     "name": "stdout",
     "output_type": "stream",
     "text": [
<<<<<<< HEAD
      "cadena oculta= 0010\n"
=======
      "cadena oculta= 1000\n"
>>>>>>> ff71a8c41af8176e6473df19aa343a50dfaf584f
     ]
    },
    {
     "data": {
<<<<<<< HEAD
      "image/png": "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\n",
      "text/plain": [
       "<Figure size 1058.23x535.111 with 1 Axes>"
      ]
     },
     "execution_count": 15,
=======
      "image/png": "iVBORw0KGgoAAAANSUhEUgAAAoUAAAExCAYAAAAKmtgqAAAAOXRFWHRTb2Z0d2FyZQBNYXRwbG90bGliIHZlcnNpb24zLjUuMSwgaHR0cHM6Ly9tYXRwbG90bGliLm9yZy/YYfK9AAAACXBIWXMAAAsTAAALEwEAmpwYAABCn0lEQVR4nO3df1yN9/8/8MepUEp+FCJLSr/Xj6mwN9PJr2SzDdF4f8nwdvx8T2sfMzUbKsKqt31WmKwNQyXjjTZm1czeTMiWWH4n2Vt+FyHV9w+fzpzVVSeuznXO6XG/3dxup+u8rut6nu3ZdR5dP2XV1dXVICIiIqJmzUDqAoiIiIhIegyFRERERMRQSEREREQMhUREREQEhkIiIiIiAkMhEREREYGhkIiIiIjAUEhEREREYCgkIiIiIjAUEhEREREYComIiIgIDIVEREREBIZCIiIiIgJDIRERERGBoZCIiIiIwFBIRERERGAoJCIiIiIwFBIRERERGAqJiIiICAyFRERERATASOoCiKRw+vTpBsf87//+L2bPnl3vGGdnZ7FKInpu7Gsieh7cU0gk4LPPPpO6BCLRsa+JSAhDIRERERExFBIRERERQyGRoLS0NKlLIBId+5qIhDAUEhERERFDIZGQoKAgqUsgEh37moiE8JY0GpaeA1y5Jc26rdsDo3ykWTc1vd9/AEqvSV1F89GmE+A0UOoqdIOubvfmzp2L3NxcUetRh5eXF+Lj4zW+XiKGQg27cgs4xy9uagKl14DbRVJXQVSbrm73cnNzkZ2dLXUZRBrDw8dEAmbNmiV1CUSiY18TkRCGQiIBDT31gUgXsa+JSAhDIZGAAQMGSF0CkejY10QkhKGQSEBJSYnUJRCJjn1NREIYComIiIiIoZBIiKurq9QlEImOfU1EQnQ6FO7fvx8hISFwcHBA69atYWtri4kTJ+LChQt1jt+7dy/8/f1hbm4OMzMzeHp6Ij09XcNVk67Ytm2b1CUQiY593XR8fHwwY8YMfPbZZ0hOTsaaNWswd+5c9O/fH4aGhrXGGxgYIDk5GfPmzZOgWqLadPo+hatXr8bt27cxb948ODo64vLly1iyZAm8vb1x7Ngx2NraKscmJSVBoVBg5syZ+OCDDyCTyZCXl4fy8nLpPgBptYULF2Lx4sVSl0EkKva1uFq0aIHp06dj5syZcHZ2FhxXVFSEtWvXIj4+HqWlpTAwMMD69esREhKCsrIybNq0CVeuXNFg5US16XQoTEhIQMeOHVWm9e/fH3Z2dkhMTERMTAwAoLCwEHPmzEFMTAzCwsKUY4cMGaLRep9FWqQcNi8ORu83I9SaTuJJTU3Viy/PyqpKJO2Zj705yXj0+AG8HYZibtAatDW1lLo0koAu9LWubPe8vLyQnJwMT09PAMCVK1fw/fffIzc3F7dv34apqSk8PDwgl8vh6OiIxYsXY8qUKZg2bRrGjx+PkJAQ3Lt3D8OHD2cgJK2gtaGwqqoKsbGxWLNmDS5fvgwnJyesWrUK06ZNg5+fH9auXVsrEAKAra0tLC0tUVT056MdkpKSIJPJeNNWapa2ZC7Dzyd34NM5h2He2gIrUyYjZvMERE/NkLo0Ip0VEBCA7du3w8TEBOfOncO8efOwY8cOVFZW1jl+4MCBWLZsGXx9ffHtt99CJpPh3r17CAwMxIEDBzRcPVHdtPacwilTpmDJkiVQKBTIyMjA2LFjMW7cOJw/fx7e3t6C8+Xl5aGkpARubm7KaQcOHICzszNSUlLg4OAAIyMj2NraYunSpaiqqtLExyGSzJ5DaxHs/z66WNjB1KQt/vHqchz5/Vv899YlqUsj0km9e/dWBsIvvvgCHh4eSE9PFwyEAPDDDz+gX79+OHHiBGQyGQAgJiaGgZC0ilbuKdy8eTOSk5ORlZUFPz8/AIC/vz+OHTuG9PR09OrVq875KioqoFAoYGlpCYVCoZxeXFyM4uJihIaGIioqCk5OTti1axfCw8Nx584dLFu2TCOfi3SLPjzztKz8Nq7dLoSD9Z9/SHW1tEdrY3OcKz6Bzu27S1gdSUEf+lpKxsbG+Oqrr2BiYoK1a9eqfNfUx8DAAJ9//jk8PT3x6NEjtGzZEnPnzsXnn3+OP/74o4mrJlKPVobC6OhoDBs2TBkIa/Ts2RMtWrSAh4dHrXmqq6sxdepUHDlyBLt27YKFhYXyvaqqKpSWliI1NRVBQUEAnoTM69evIz4+HhERETAzMwMAXLx4ESEhIbh69SpatWqFhIQEvPLKKw3WXPOXX0NGh2eim4tcrbE1ftkRhaN7VqpMq3hQBpsXBzdqOdnZWfjnUP9GzaOvQkNDGxxz7tw52Nvb1zsmLi5OrJKe28rpmfC0l6tMu/+wFABgatJWZbqZcTvcf3BXU6XppezsLPiO067fJ23ta33a7s2bNw9OTk44efIk5syZo9Y8T19UUnPIeP78+Rg+fDhWrFiBCRMm/KXmbLW/U4gaUl1drfZYrTt8XFRUhLy8PIwZM6bWe4WFhXBzc0OrVq1qvTd79mxs3LgRGzZswNChQ1XeqwmIAQEBKtMDAgLw8OFD5OfnK6cpFAoEBwejoKAAa9aswVtvvYVHjx6J8dGeWe83wjFj7W2Vf10d+0taU3Owc+dOqUt4bq1btQEA3Cu/ozK97MFttDY2l6Ikkpiu9LU2bvdatGiBGTNmAHjynaPOd0NdgfDAgQOYOXMmKisrMXbsWHTu3LmpSydSi9btKay5QMTKykplenl5ObKzsxEYGFhrnrCwMCQmJmLdunUIDg6u9b67uzsOHTokuE4DgyfZ+Pr16/jpp5+UG82//e1v6Nq1KzIzM2sFyr9SN4l/ug84d02toaLz85MjLVL9vxj02enTpxscExcXh2nTptU7JjY2VqySnlvOFuB2keo0M5N26NTOBmevHENPay8AwNUb53H/wV3Ydam9x53U5+cnR3Widv0+aWtf6+p2Ty6XqxxuDwgIgJWVFX777TdkZWU1OL9QIASAS5cuYefOnRg5ciTGjx+vsnfWz89PreUTiU3r9hRaWj65TUZBQYHK9OXLl+Pq1au1LjIJDw9HbGwsVq1ahcmTJ9e5zJEjRwIAMjJUr7bMyMiAqamp8qKUwsJCdO7cWWVPZI8ePXDpEk/IJ901vO80bM2KwdWbF3DvwV18vud9+DgGwKqDrdSlEemUvn37AlBvb2t9gbBGzXL69OkjfrFEz0Dr9hTa2dnBw8MD0dHR6NChA6ytrZGWloY9e/YAgEooXLFiBaKjoxEcHAwfHx+VvYHm5ubKxzkFBgZiyJAhUCgUKCkpgaOjI3bv3o1NmzYhKioKJiYmmv2QpBMWLVokdQmieMt/Psru38Lsf/miovIhejkMwfzxG6UuiySiL30thZr7ER47dqzeceoEwqeX4+XlJXqtRM9C60KhgYEBUlNToVAoMGPGDFhYWCAkJASzZs3CggULVC4y2b17NwBg69at2Lp1q8py/rr7PT09HREREYiMjMSNGzdgb2+PhIQETJ8+XTnGxsYG//3vf/Hw4UPl3sILFy6ge3fprtAMishq1HQSz9ixY6UuQRSGBoZQjFgJxYiVDQ8mvacLfa2t270TJ07A0NAQZ86cqXfcihUrGgyEwJPTpb799lsUFxc3RblEjaZ1oRAAHB0dkZmZqTJtwoQJcHV1Vdmr15hzLszMzBAfH4/4+HjBMZaWlujXrx+SkpIwc+ZM/Pzzz7hy5Qr8/bXrCkPSDBcXF5w6dUrqMohExb5+dhER6j1JZc2aNRgxYgSmTJlS730Ib968Wed58kRS0cpQWJecnBzl+RxNafXq1Zg0aRLi4+PRsmVLbN68GS1btmzy9RIRkX4oKCiAi4tLvTezJtJGOhEKy8rKUFBQgJkzZzb5uuzs7PDjjz82+XqIiEh/MRCSLtKJUGhmZsZfMNI4uVwudQlEomNfE5EQrbslDZG2SExMlLoEItGxr4lICEMhkYCaJxcQ6RP2NREJYSgkEsAnCpA+Yl8TkRCGQiIiIiJiKCQiIiIihkIiQbzBL+kj9jURCdGJW9LoE+v2zXPduiglJUUnHglG1BhS9LWubvee5ZnE5wuvAgDsbLqovG7q9RKJQVZdXV0tdRFEmnb69OkGx6jzODBnZ2exSnpuOVuA20VSV9F8tOsG+LwldRWq9LGvdc38mLUAgGXvT1N5TaQLePiYiIiIiBgKiYiIiIihkEhQQkKC1CUQiY59TURCGAqJBLi5uUldApHo2NdEJIShkEiAn5+f1CUQiY59TURCGAqJiIiIiKGQSIivr6/UJRCJjn1NREIYCokEHDlyROoSiETHviYiIQyFRERERMRQSEREREQMhUSC0tLSpC6BSHTsayISwlBIRERERAyFREKCgoKkLoFIdOxrIhJiJHUBzU16DnDlljTrtm4PjPKRZt1E1Hxxu6c5c+fORW5uriTr9vLyQnx8vCTrJnEwFGrYlVvAuWtSV0FEpDnc7mlObm4usrOzpS6DdBQPHxMJmDVrltQlEImOfU1EQhgKiQTMnj1b6hKIRMe+JiIhDIVEAgYMGCB1CUSiY18TkRCGQiIBJSUlUpdAJDr2NREJYSgkIiIiIoZCIiGurq5Sl0AkOvY1EQlhKCQSsG3bNqlLIBId+5rq0r59e7i6usLNzQ0WFhb1jm3VqhVvgq6ndDoU7t+/HyEhIXBwcEDr1q1ha2uLiRMn4sKFC3WO37t3L/z9/WFubg4zMzN4enoiPT1dw1WTrli4cKHUJRCJjn1NNXx9fZGUlIQLFy7g5s2bOHnyJPLy8nD9+nVcunQJX375Jf72t7+pzNOqVSts27YNqampmDNnjkSVU1PR6VC4evVqFBcXY968ecjIyEBkZCQOHz4Mb29vXLx4UWVsUlIShg8fDnd3d6SlpWH79u2YNGkSysvLpSmetF5qaqrUJRCJjn1NPXr0wP79+/HLL79g8uTJsLW1xb1795Cfn4/8/HyUlZXBxsYGEydOxMGDB/HTTz/B0dFRGQhfffVVlJSUICsrS+qPQiLT6SeaJCQkoGPHjirT+vfvDzs7OyQmJiImJgYAUFhYiDlz5iAmJgZhYWHKsUOGDNFovc8iLVIOmxcHo/ebEWpNJ/qrzNwt2PnzZzhffAIPKu7ju5jHUpdEVC9u95rOmDFj8MUXX8DU1BQ3b95EUlISNm7ciJMnT6KyshIAYGBgABcXF4wfPx7/+Mc/0K9fP+Tm5uL333+Hl5cXSkpKMGjQIPz2228SfxoSm9buKayqqsLKlSvh4OAAY2NjeHp6Ijs7G05OTpg2bRoA1AqEAGBrawtLS0sUFRUppyUlJUEmk/FO/tQsmZm0x4iXZ2LG6/FSl0JEEgoODsaWLVtgamqKzZs3w9HREfPmzcOvv/6qDITAk+/fkydPIjw8HA4ODvjqq69gYmICLy8vlJaWMhDqMa0NhVOmTMGSJUugUCiQkZGBsWPHYty4cTh//jy8vb0F58vLy0NJSQnc3NyU0w4cOABnZ2ekpKTAwcEBRkZGsLW1xdKlS1FVVaWJj0M6SF+eH+rrFICBL41DFws7qUshLaAvfU2N4+zsjOTkZBgYGODDDz/E+PHjcePGjQbne/DggcqFJ8bGxjA0NGzKUklCWhkKN2/ejOTkZOzcuRPvvfce/P39ER4ejpdffhmPHz9Gr1696pyvoqICCoUClpaWUCgUyunFxcU4c+YMQkNDERYWhn379mH06NEIDw/HggULNPWxSMecPHlS6hKIRMe+bn4MDAyQnJwMY2NjrF+/HpGRkWrN99dzCDdt2oQWLVrgyy+/hJGRTp99RgK08v9qdHQ0hg0bBj8/P5XpPXv2RIsWLeDh4VFrnurqakydOhVHjhzBrl27VP6yqaqqQmlpKVJTU5WX0fv7++P69euIj49HREQEzMzMADy5Mm/Lli04e/YsUlJS1L7sXiaTqTVudHgmurnI1Rpb45cdUTi6Z6XKtIoHZbB5cXCjlpOdnYV/DvVv1Dz6KjQ0tMExcXFxDY6Li4sTq6TntnJ6Jjzt5VKX0WxkZ2fBd5x2/T5pa183p+3e+8vWAHjynfD0aykFBASgT58+uHLlilo9AtQOhIMGDcK5c+fw8ssvw8PDA2+++SbS0tJU5snOzpb8s1Jt1dXVao/Vuj2FRUVFyMvLw5gxY2q9V1hYCDc3N7Rq1arWe7Nnz8bGjRuxYcMGDB06VOW9moAYEBCgMj0gIAAPHz5Efn6+ctqwYcPw7bffatXzQXu/EY4Za2+r/Ovq2F/qsoiImgy3e+KZOXMmAGDVqlW4e/dug+PrCoS//fYb7t+/j9jYWJVlkn7Ruj2FNReIWFlZqUwvLy9HdnY2AgMDa80TFhaGxMRErFu3DsHBwbXed3d3x6FDhwTXaWDwZzb+6z2Z1KVuEv90H3Du2jOt4rn5+cmRFqn+Xwz67PTp0w2OiYuLU17UJKRmA6kNcrYAt4saHkfi8POTozpRu36ftLWvm9N2b37MWgBPvhOefq0pcrlc5bxRQ0NDDBo0CACQnJzc4PxCgbDGhg0bEB8fjwEDBsDExETltm5+fn68TY2O07o9hZaWlgCAgoIClenLly/H1atXa11kEh4ejtjYWKxatQqTJ0+uc5kjR44EAGRkZKhMz8jIgKmpqcpFKUQ1Fi1aJHUJoqisqsSjigeoePwIAPCo4gEeVTzQ6BcVaQ996WtSj6urK0xMTHDu3Dlcu1Z/Mm8oEALA3bt3kZ+fD0NDQ3h6ejZl6SQBrdtTaGdnBw8PD0RHR6NDhw6wtrZGWloa9uzZAwAqoXDFihWIjo5GcHAwfHx8VPYGmpubK5/xGRgYiCFDhkChUKCkpASOjo7YvXs3Nm3ahKioKJiYmGj2Q5JOGDt2rNQliOL7oxuwMuVt5c+vLnjS7xs+uACrDrYSVUVS0Ze+JvXY2NgAAH7//fd6x6kTCGv8/vvv8PDwgI2NTb1H4Uj3aF0oNDAwQGpqKhQKBWbMmAELCwuEhIRg1qxZWLBggcpFJrt37wYAbN26FVu3blVZzl93Y6enpyMiIgKRkZG4ceMG7O3tkZCQgOnTp2vkcz2roIisRk0n8bi4uODUqVNSl/HcAnwnIcB3ktRlkJbQhb7mdk88mZmZcHJywsOHD+sd16VLF7z00ktq3Zg6LCwMERERKC4uFrtckpjWhUIAcHR0RGZmpsq0CRMmKHeD12jMuQtmZmaIj49HfHy8SFUSERFpt/v379c6HasuFy9ehL+/P1q2bIm8vLx6x16+fFms8kjLaN05hUJycnLqvWm1WD788EN069YN//nPf6BQKNCtWzecO3euyddLREQkpYKCggYDIek3nQiFZWVlKCgoELxptZiWLFmCoqIiPHz4EDdu3EBRURHs7e2bfL2kfeRyudQlEImOfU1EQrTy8PFfmZmZqTyXkUgTEhMTpS6BSHTsayISohN7ComkMGPGDKlLIBId+5qIhDAUEgngTVhJH7GviUgIQyERERERMRQSEREREUMhkSBtv8Ev0bNgXxOREJ24+lifWLdvnuvWRSkpKXwkGOkdKfqa2z3N8fLyeqb5zhdeBQDY2XRRea2JdZP2YCjUsFE+UldA6vroo48YCknvSNHX3O5pzrM+tWt+zFoAwLL3p6m8puaFh4+JiIiIiKGQiIiIiBgKiQQlJCRIXQKR6NjXRCSEoZBIgJubm9QlEImOfU1EQhgKiQT4+flJXQKR6NjXRCSEoZCIiIiIGAqJhPj6+kpdApHo2NdEJIShkEjAkSNHpC6BSHTsayISwlBIRERERAyFRERERMRQSCQoLS1N6hKIRMe+JiIhDIVERERExFBIJCQoKEjqEohEx74mIiFGUhfQ3KTnAFduSbNu6/bAKB9p1k1EzRe3e9SQuXPnIjc3V+Pr9fLyQnx8vMbXq60YCjXsyi3g3DWpqyAi0hxu96ghubm5yM7OlrqMZo+Hj4kEzJo1S+oSiETHviYiIQyFRAJmz54tdQlEomNfE5EQhkIiAQMGDJC6BCLRsa+JSAhDIZGAkpISqUsgEh37moiEMBQSEREREUMhkRBXV1epSyASHfuaiIQwFBIJ2LZtm9QlEImOfU3NVYsWLaQuQevpdCjcv38/QkJC4ODggNatW8PW1hYTJ07EhQsX6hy/d+9e+Pv7w9zcHGZmZvD09ER6erqGqyZdsXDhQqlLIBId+5p0nampKUaPHo2lS5dix44d+O677/DNN98gMjISb7zxBoyNjWvNY25ujuzsbMybN0+CinWHTt+8evXq1bh9+zbmzZsHR0dHXL58GUuWLIG3tzeOHTsGW1tb5dikpCQoFArMnDkTH3zwAWQyGfLy8lBeXi7dByCtlpqaisWLF0tdhmTit02HoYER5oz83yZZ/v5jm5CStRxr3j3RJMunujX3vibd1bFjR0RERCAkJARt27at9f4bb7wBALh58ybWr1+PqKgo3L59G+bm5vj222/x8ssvo0uXLkhMTERpaammy9cJOh0KExIS0LFjR5Vp/fv3h52dHRITExETEwMAKCwsxJw5cxATE4OwsDDl2CFDhmi03meRFimHzYuD0fvNCLWmEz3t893v4/CpXSi5fRnGrczQx/lVTH01BuatOzQ479zRq5u0tkG9/o5Bvf6u/Hn5lkkwNDRC2Jh19c6XmbsFO3/+DOeLT+BBxX18F/O41phbZdfw+a7/waFTu1BZWQGrDnaImrIHlm27oqikAOszFiD/0n9w/+FddGpng1GvhGJ4n6nK+VemTMaxgn249+AOjFuawtc5EIrXPkGb1u3F+w9Agrjdo78aPXo0EhMTld/5P//8M/bv348TJ06gtLQU5ubm8PLywtChQ+Hr64v33nsP48ePxzvvvIN3330XL7/8Mi5evAi5XM5AWA+tDYVVVVWIjY3FmjVrcPnyZTg5OWHVqlWYNm0a/Pz8sHbt2lqBEABsbW1haWmJoqIi5bSkpCTIZDLeyZ+aHQMDQ8wftxG2Vi+irPw2lm+ZiBVbJ2HJ2zufa7nV1dWoqqqEoaHmNyFmJu0x4uWZeFRRjrht02q9/6jiAeatGQQXm774Yt7vaGPSAYXXTsGklRkAoLT8Fjzt/THzjVWwMO+CkxcPImL9a2jTugNecR8FABg94F3MevNTmLQ0RVn5bfxr23R8un0WFvz9a41+ViICQkNDERsbC+DJaWPvvvsufv3111rj0tLSEBERAR8fH8TFxaF///5ISUmBTCZTBsJLly5punydorXnFE6ZMgVLliyBQqFARkYGxo4di3HjxuH8+fPw9vYWnC8vLw8lJSVwc3NTTjtw4ACcnZ2RkpICBwcHGBkZwdbWFkuXLkVVVZUmPg7pIH14DueUwGj0tH4JRoYt0M6sI0b2fwe/nstSGVP+sAxr/v0eJiy1w+sRbTBlhSt+O38Ay7dMwiepf+49G/I/MqQf+Bdm/ssHry1ojd+LcgTnBYCwRDk2fR+psq4h/yND3oWfAADfHUlGyLKeAICtmcvxw/FN2JfzJUaEm2FEuBkqqyrr/Ey+TgEY+NI4dLGwq/P9vTlf4l75bfxzVALamlrCwMAAtlZuMDU2BwC42PTBG/1mwbJtV8hkMrzYoz98nYap/HfpYfUiTFqaKn+WyQxQVPK7Gv/FtZ8+9DU1H3//+9+VgfDdd9/F4MGD6wyET8vJycGIESNQWFgImUyG6upqREdHMxCqQSv3FG7evBnJycnIysqCn58fAMDf3x/Hjh1Deno6evXqVed8FRUVUCgUsLS0hEKhUE4vLi5GcXExQkNDERUVBScnJ+zatQvh4eG4c+cOli1bppHPRbrl5MmT6NSpk9RliOr42f2w6+qpMu2T1Cm4cbcYyxX7YdXeFsU3zgnO/+0vSfg4ZDs6d7BFZdVjLN8yUe156xPsPw+X/puv1uHjhpw4lwlrSwes2DoJR37/Fu1MO+LVvgqMHhBa5/gHj+7jVOEh/H3whyrTt/ywDF//EIXyh2Vo1cIE74/b+Fx1aQt97GvST9bW1vjss88APHk8Y83rhpibm2PPnj2wsbHBrVu30L59e0RGRmL79u24fv16U5as87QyFEZHR2PYsGHKQFijZ8+eaNGiBTw8PGrNU11djalTp+LIkSPYtWsXLCwslO9VVVWhtLQUqampCAoKAvAkZF6/fh3x8fGIiIiAmZkZbt26hQkTJqCgoAAmJibo3LkzEhIS0LNnzwZrlslkan220eGZ6OYiV2tsjV92ROHonpUq0yoelMHmxcGNWk52dhb+OdS/UfPoq9DQugPC0+Li4hocFxcXJ1ZJz23l9Ex42ssF3z/w6zbsOrQan0z/c0/RrbJryD6Rgs/D8tClQw8AgLWlcL+P8XsPXS3tAQB3799o1LyacufedeSey8SM1+Px3tgvcP7qr1iwbhjamXVSOYcRACqrKhGzeQI6tnsBQ7wnqrz31sD5eGvgfFy9eQHf/bIe1haqny07Owu+47Tr90lb+7o5bffeX7YGwJPvhKdfazttrHvZsmVo27YtduzY0ahAWHNRycWLF+Hv74/169fD398fixcvxsyZM1XGZ2dnS/45m1p1dbXaY7Xu8HFRURHy8vIwZsyYWu8VFhbCzc0NrVq1qvXe7NmzsXHjRmzYsAFDhw5Vea8mIAYEBKhMDwgIwMOHD5Gfnw/gyS/A3LlzUVBQgBMnTuC1117D22+/LdZHe2a93wjHjLW3Vf51dewvdVmkQ7JPpCIu7R9YPGknHLr9uaf9vzcvAgC6dXRUazmdO9g+87zPouZQ8ohwM+w/tkmteVq3agPLttYY9co7aGHUEk4v+GBQr/+Hn0/uUBn3uLIC0ZvG4WbpVUS+vQtGhnXfw6xLhx7o6zoC4euH83QTDeJ2r3nr1KkTxo4di8rKSvzzn/9Ua56/BkK5XI6LFy8qryeYMGECzM3Nm7Jsnad1ewprLhCxsrJSmV5eXo7s7GwEBgbWmicsLAyJiYlYt24dgoODa73v7u6OQ4cOCa7TwOBJNm7Xrh0GD/7zr9C//e1vWL58uVp1q5vEP90HnLum1lDR+fnJkRap/l8M+uz06dMNjomLi8O0abUvZHhazbku2iBnC3C7qPb0b498gbX/DsPit/+NF3v0U3mvJuRduX4G3Ts3/KQLA9mff0c2NG/rVm3w4NE95c/X7xTXv2yD2n+j/juqrMGa/sq+qxcKinJqTX96b8CjigdYvCEI5Q/LsOwfe5UXoQiprHqM63eu4MGje2ht3AbAk9+n6kTt+n3S1r5uTtu9+TFrATz5Tnj6tbaTum65XK5yvuvYsWPRsmVLfPPNNygsLGxw/roCYc05hKdOncIPP/yAgQMHYuTIkfjyyy+V8/n5+SErK0v0z6OrtG5PoaWlJQCgoKBAZfry5ctx9erVWheZhIeHIzY2FqtWrcLkyZPrXObIkSMBABkZGSrTMzIyYGpqqnJRytPi4+Px5ptvPsvHID2waNEiqUt4btt/WoW1u97D0n98VysQAkB7s054xSMIq9Jn4o+bF1FdXY0r18/iyvWzDS67oXkdunnj4MlvcLusBPcflOKLb8PrX14bK/xx43yDe+MqqyrxqOIBKh4/AvAk4D2qeKD8AhvqOwl379/AjoOfobKqEueKT+CH45vQ/8UnVxaXPyzDgqRAVDx+hOipGbUC4a2ya9iX8xXKym8DAIpKCvD57nl4sUd/ZSDUZfrQ16T/evfuDaD293Zd6guENWqW4+vrK36xekTr9hTa2dnBw8MD0dHR6NChA6ytrZGWloY9e/YAgEooXLFiBaKjoxEcHAwfHx+VvYHm5ubKZ3wGBgZiyJAhUCgUKCkpgaOjI3bv3o1NmzYhKioKJiYmtepYtGgRzp49ix9++KGJPzFpq7Fjx0pdwnNL2PEODA2M8N5q1XOqnt4D996Y9Uj+7kOEJfrh7v0b6Ny+O+aOXqPW8oXmtbbsidGvhOL81V8RsswebU07YuqrMdibkyy4rOG9pyL3zH6M/tgC1dXV2LboBgwNDGuN+/7oBqxM+fO0jlcXPPn93fDBBVh1sEXn9t0RNWUPEneGYt3ueejQtismDPkYcq8nRxEO/LYNJ85loVULEwR9/OdtrQb1+n+YO3o1ZJBhb04yEnfORcXjhzA3tYSvcyBChupHmNKHvib95+7uDgA4fvx4vePUCYRPL6euaxLoT7JqLdyvXVBQAIVCgV9++QUWFhYICQlBmzZtsGDBApSWlipD3F93Nz/tr7uEy8rKEBERga1bt+LGjRuwt7fHO++8g+nTp9eaNzIyEjt27MC+ffvQrl07UT+blIdR7DsBc7T/ft0aoc5hNhcXF5w6dareMc7OzmKV9NyEDh9T02jXDfB5S+oqVGlrXzen7V7Noddl709Tea3tpK77r9/nH3/8MV544QUsWLAA//3vfwXn27ZtG0aNGtXgfQi7d++OhQsX4syZMyp3HOHhY1Vat6cQABwdHZGZmakybcKECXB1dVXZq9eY/5FmZmaIj49HfHx8veMWLVqEPXv2NEkgJCIiooZ9/PHHao374IMPYGVlhfHjx9d7H8JLly5hypQpIlWnv7QyFNYlJycHffv2bdJ1nDx5Eh9//DHs7e0hl8uV03Nzc5t0vURERNR4BQUF6Nev9vnS9Gx0IhSWlZWhoKCg1v2FxObm5qYTV4mRZjz9hwGRvmBfE5EQnQiFZmZmqKys+5FXRE0lMTFR6hKIRMe+JiIhWndLGiJtMWPGDKlLIBId+5qIhDAUEgngFWmkj9jXRCSEoZCIiIiIGAqJiIiIiKGQSFBDN/gl0kXsayISwlBIJCAlJUXqEohEx74mIiE6cUsafWLdvnmuWxd99NFHfE4s6R0p+prbPWqIl5dXo+c5X3gVAGBn00XldVOvV58xFGrYKB+pKyAi0ixu96ghDT2Cti5SP69ZH/HwMRERERExFBIJSUhIkLoEItGxr4lICEMhkQA3NzepSyASHfuaiIQwFBIJ8PPzk7oEItGxr4lICEMhERERETEUEhERERFDIZEgX19fqUsgEh37moiEMBQSCThy5IjUJRCJjn1NREIYComIiIiIoZCIiIiIGAqJBKWlpUldApHo2NdEJIShkIiIiIgYComEBAUFSV0CkejY10QkxEjqApqb9Bzgyi1p1m3dHhjlI826iaj54naP9NHcuXORm5srybq9vLwQHx8v+nIZCjXsyi3g3DWpqyAi0hxu90gf5ebmIjs7W+oyRMXDx0QCZs2aJXUJRKJjXxOREIZCIgGzZ8+WugQi0bGviUgIQyGRgAEDBkhdApHo2NdEJIShkEhASUmJ1CUQiY59TURCGAqJiIiIiKGQSIirq6vUJRCJjn1NREJ0OhTu378fISEhcHBwQOvWrWFra4uJEyfiwoULdY7fu3cv/P39YW5uDjMzM3h6eiI9PV3DVZOu2LZtm9QlEImOfU0knRYtWsDDwwODBw/GoEGD4OzsDAMD4SjWuXNnTJ06VWP16XQoXL16NYqLizFv3jxkZGQgMjIShw8fhre3Ny5evKgyNikpCcOHD4e7uzvS0tKwfft2TJo0CeXl5dIUT1pv4cKFUpdAJDr2NZFmtWzZEuPGjUNmZiZKS0tx4sQJ7Nu3D99//z1OnTqFO3fuYOfOnQgMDIRMJlPO17lzZ2RmZuLzzz/H22+/rZFadfrm1QkJCejYsaPKtP79+8POzg6JiYmIiYkBABQWFmLOnDmIiYlBWFiYcuyQIUM0Wu+zSIuUw+bFwej9ZoRa00k8qampWLx4sdRlPLf1GeHIPP417t6/gZZGxnC3G4DpI2LRqb2N1KWRBHShr7ndI30hl8uxfv169OjRQzmtoKAAhYWFMDAwQM+ePWFjY4MRI0ZgxIgROHr0KCZNmoSSkhJkZmbCxcUFv/76K/79739rpF6t3VNYVVWFlStXwsHBAcbGxvD09ER2djacnJwwbdo0AKgVCAHA1tYWlpaWKCoqUk5LSkqCTCbjTVupWRrsPQGrQ3OxI/IuNiy4iE7tbBC16S2pyyIi0muLFy9GZmYmevTogfz8fCgUCrRv3x5OTk4YMmQIBg0ahO7du6Nr1654//33UVRUBG9vbxw9ehTHjh1TBsJBgwbh+vXrGqlZa0PhlClTsGTJEigUCmRkZGDs2LEYN24czp8/D29vb8H58vLyUFJSAjc3N+W0AwcOwNnZGSkpKXBwcICRkRFsbW2xdOlSVFVVaeLjEEnGppMzTE3aAgCqUQ2ZzACXS36XuCoiIv0VFRWFDz/8EI8fP8aHH34IT09PrF27Frdv36419urVq1i+fDlcXFyQnJyMli1bomvXrrh8+bJGAyGgpYePN2/ejOTkZGRlZcHPzw8A4O/vj2PHjiE9PR29evWqc76KigooFApYWlpCoVAopxcXF6O4uBihoaGIioqCk5MTdu3ahfDwcNy5cwfLli3TyOci3aJPz7T84fjX+Ff6DNx/cBeGBkaYPiJW6pJIIvrU10TaaPjw4ViwYAEqKiowZswY7NixQ635TE1N0adPH+XPnTt3RufOnRkKo6OjMWzYMGUgrNGzZ0/llTt/VV1djalTp+LIkSPYtWsXLCwslO9VVVWhtLQUqampCAoKAvAkZF6/fh3x8fGIiIiAmZkZAODNN9/E+fPnYWhoiBYtWiA6OhqDBw9uwk/bsF92ROHonpUq0yoelMHmRWnr0ncnT55Ep06dpC5DFANfGo+BL43Hzbt/IONIEnp0cZe6JJKIrvQ1t3uki9q0aYO1a9cCAN5//321A2HNRSU1h4yPHz+OkJAQfPHFF+jTpw+qq6ubsmwlrQuFRUVFyMvLQ2hoaK33CgsL4ebmhlatWtV6b/bs2di4cSO+/vprDB06VOU9CwsLnDlzBgEBASrTAwIC8NVXXyE/Px+9e/cGACQnJ6Ndu3YAgOPHj0Mul+PmzZswNDSst+6nrxiqz+jwTHRzkas1tkbvN8LrPOG6sbKzs/DPof6Nnk8f1dVffxUXF9fguLi4OLFKem4rp2fC015e75gO5lYY3ucfmLjUDpvCC2HeuoNmitND2dlZ8B2nXb9P2trXzWm79/6yNQCefCc8/Vrb6WLd2lhzSEgIrK2tcfjwYfzrX/9Sa56/BsJBgwbh4cOHGDx4MHx9fTF48GDs27dPZZ7s7Gy1P2tjAqXWnVNYc4GIlZWVyvTy8nJkZ2fXeeg4LCwMiYmJ+PzzzxEcHFzrfXf3+veKPH2PoJpACAB37tyBTCbTWEIn0oTKysd48OgebtwtlroUIiK9MmPGDADA8uXL1bpmoa5AeP36dZSWluKzzz5TWaYmaN2eQktLSwBPLtkePny4cvry5ctx9erVWheZhIeHIzY2Fp9++ikmT55c5zJHjhyJzz//XHnBSo2MjAyYmpqqXJQCALNmzUJGRgbu3LmDbdu2wcio4f9M6gbHT/cB566pNVR0fn5ypEUy4ALA6dOnGxwTFxenvNJdSGys9pybl7MFuF2kOq2qqgo7/5MAP8+xaG/WCSW3i/DZN3Ng1d4WNh2dpSlUT/j5yVGdqF2/T9ra181puzc/5smhw+rqapXX2k4X65a6ZrlcrnKOrpWVFVxdXZX3HWyIUCCssWHDBkRHR2PgwIG1dlD5+fkhKytL1M8DaGEotLOzg4eHB6Kjo9GhQwdYW1sjLS0Ne/bsAQCVULhixQpER0cjODgYPj4+OHTokPI9c3Nz5eOcAgMDMWTIECgUCpSUlMDR0RG7d+/Gpk2bEBUVBRMTE5UaatJ5dnY2QkND8eOPPyrPOaTmY9GiRVKXIIpfTu/Bpn2L8eDRPZiatIOnvRwx076HoaHW/fqTBuhLXxNpm5p8cuzYMTx+/LjesQ0FQuDJkdPi4mJ07doV9vb2OHv2bJPVXkPrvhUMDAyQmpoKhUKBGTNmwMLCAiEhIZg1axYWLFigcpHJ7t27AQBbt27F1q1bVZbz1xSdnp6OiIgIREZG4saNG7C3t0dCQgKmT58uWIufnx8MDAxw8ODBWucjakpQRFajppN4nt6rrKsMDAwQPWWP1GWQFtGFvuZ2j3RR165dAQDnzp2rd5w6gbDG2bNn0bVrV3Tt2rV5hkIAcHR0RGZmpsq0CRMmwNXVVWWvXmN2nZqZmSE+Ph7x8fGCY8rKynDjxg10794dwJMLTc6dOwcXF5dG1U/6wcXFBadOnZK6DCJRsa+Jmsb69euxdevWBs8lNDc3R9u2bdW6MfXrr7+OyspK3L9/X+xy66SVobAuOTk56Nu3b5Ou4969ewgODkZZWRmMjIxgbGyMjRs3wsaGjwMjIiIiYZWVlbh7926D486cOQM/Pz/cvn27wXsQ3rlzR6zy1KITobCsrAwFBQWYOXNmk66nc+fOKuclEhEREYlNE4eCn4VOhEIzMzNUVlZKXQY1M3K5XOoSiETHviYiIVp3n0IibZGYmCh1CUSiY18TkRCGQiIBmrxhKJGmsK+JSAhDIZGAprgxKJHU2NdEJIShkIiIiIgYComIiIiIoZBIEG/wS/qIfU1EQnTiljT6xLp981y3LkpJSdGJR4IRNYYUfc3tHukjLy+vRs9zvvAqAMDOpovKa02sWx0MhRo2ykfqCkhdH330EUMh6R0p+prbPdJH9T02V8j8mLUAgGXvT1N5rS14+JiIiIiIGAqJiIiIiKGQSFBCQoLUJRCJjn1NREIYCokEuLm5SV0CkejY10QkhKGQSICfn5/UJRCJjn1NREIYComIiIiIoZBIiK+vr9QlEImOfU1EQhgKiQQcOXJE6hKIRMe+JiIhDIVERERExFBIRERERAyFRILS0tKkLoFIdOxrIhLCUEhEREREDIVEQoKCgqQugUh07GsiEmIkdQHNTXoOcOWWNOu2bg+M8nm2ecN+z8eJ0lJxC1KDZ5s2+MTJVePrJSIiam4YCjXsyi3g3DWpq2i8E6Wl+PHWTanLICIioibCw8dEAmbNmiV1CUSiY18TkRCGQiIBs2fPlroEItGxr4lICEMhkYABAwZIXQKR6NjXRCSEoZBIQElJidQlEImOfU1EQhgKiYiIiIihkEiIqytvhUP6h31NREIYCokEbNu2TeoSiETHviYiITodCvfv34+QkBA4ODigdevWsLW1xcSJE3HhwoU6x+/duxf+/v4wNzeHmZkZPD09kZ6eruGqSVcsXLhQ6hKIRMe+JiIhOh0KV69ejeLiYsybNw8ZGRmIjIzE4cOH4e3tjYsXL6qMTUpKwvDhw+Hu7o60tDRs374dkyZNQnl5uTTFk9ZLTU2VugQi0bGviUiITj/RJCEhAR07dlSZ1r9/f9jZ2SExMRExMTEAgMLCQsyZMwcxMTEICwtTjh0yZIhG630WaZFy2Lw4GL3fjFBrurao+i0PleF17JGorAQqKmD4yXIYuL+o+cKasaqqKoQm9Ef+pf/g6/DL6Nium9QlERGRFtHaPYVVVVVYuXIlHBwcYGxsDE9PT2RnZ8PJyQnTpk0DgFqBEABsbW1haWmJoqIi5bSkpCTIZDLeyV+DDNxfRIud6Sr/jNK2QGbXA7I+vSFz48numrbtQBxatWgtdRlERKSltDYUTpkyBUuWLIFCoUBGRgbGjh2LcePG4fz58/D29hacLy8vDyUlJXBzc1NOO3DgAJydnZGSkgIHBwcYGRnB1tYWS5cuRVVVlSY+DgGo/CQO1Y8ewXDB+5AZaG3rKWVnZ0tdgmiKSgrw758TMO21lVKXQhLTp74mInFp5eHjzZs3Izk5GVlZWfDz8wMA+Pv749ixY0hPT0evXr3qnK+iogIKhQKWlpZQKBTK6cXFxSguLkZoaCiioqLg5OSEXbt2ITw8HHfu3MGyZcs08rmas8qNX6P6+AkYfRoHmYmJ1OWo5eTJk+jUqZPUZTy3qqoqrEyZjGmvrYSZSTupyyGJ6UtfE5H4tDIURkdHY9iwYcpAWKNnz55o0aIFPDw8as1TXV2NqVOn4siRI9i1axcsLCyU71VVVaG0tBSpqakICgoC8CRkXr9+HfHx8YiIiICZmZnK8tauXQuFQqEyT31kMplan210eCa6ucjVGlvjlx1ROLpHdQ9PxYMy2Lw4uFHLyc7Owj+H+jdqnhqGK5bBwLP2f3d1VP14AFVbU2EYEw1Z586NmjcrKwsy377PtN76hIaGNjgmLi6uwXFxcXFilfTcVk7PhKe9vNb07T/9Cx3aWKG/+0j8cfOixuvSV9nZWfAd92y/T01FH/ta17y/bA2AJ98JT7/WdrpYN2tWT3V1tdpjte4YXlFREfLy8jBmzJha7xUWFsLNzQ2tWrWq9d7s2bOxceNGbNiwAUOHDlV5ryYgBgQEqEwPCAjAw4cPkZ+frzL9zJkz+OKLL9C3r/hh5Fn0fiMcM9beVvnX1bG/1GWppaqgAJUrYmE4958wcHWRupxm58r1s0j78RPMfvN/pS6FiIi0nNbtKay5QMTKykplenl5ObKzsxEYGFhrnrCwMCQmJmLdunUIDg6u9b67uzsOHTokuE6Dp85ve/z4MSZPnozExETMnTtX7brVTeKf7gPOXVN7saLy85MjLVL9vxieNjjnMH68dbNR81Rfv47Kj5bAYPRIGAx6tj0qcrkc3zfirxx1nT59usExcXFxyouahMTGxopV0nPL2QLcLlKdlnfhJ9wpK8E/PnlypXd19ZNzaBWxHpg0LBKv/22mpsvUG35+clQnit+bz0Mf+1rXzI9ZC+DJd8LTr7WdLtbNmsWndXsKLS0tAQAFBQUq05cvX46rV6/WusgkPDwcsbGxWLVqFSZPnlznMkeOHAkAyMjIUJmekZEBU1NTlYtSlixZgsDAQHh5eT3vR2nWqh88QOVHiyFzdYFByASpy3kmixYtkrqE5+bnORZfzj+H1aG5WB2ai8gpewAAS/+xF0O8J0pcHUlBH/qaiJqG1u0ptLOzg4eHB6Kjo9GhQwdYW1sjLS0Ne/Y8+TJ7OhSuWLEC0dHRCA4Oho+Pj8reQHNzc+UzPgMDAzFkyBAoFAqUlJTA0dERu3fvxqZNmxAVFQWT/7vw4fDhw/jhhx+QlZWluQ+sp6p/OojqM2eBwst4/MboWu8bvjPnmfceasrYsWOlLuG5GbdsDeOWf96GprLqMQCgQxsrmLQyE5qN9Jg+9DURNQ2tC4UGBgZITU2FQqHAjBkzYGFhgZCQEMyaNQsLFixQuchk9+7dAICtW7di69atKsvx8/NTCXfp6emIiIhAZGQkbty4AXt7eyQkJGD69OnKMZmZmTh37hzs7e0BAH/88Qfy8/Nx6dIllZtea1JQRFajpmsLg8GDYDB4kNRlPBcXFxecOnVK6jJEZdXBFvtWaM+hCtI8fexrIhKH1oVCAHB0dERmZqbKtAkTJsDV1VW5Vw9Ao/bomZmZIT4+HvHx8YJj5s+fj/nz5yt/lsvlmD17tlpXHxMRERHpMq07p1BITk5OvTetJiIiIqJnp5V7Cv+qrKwMBQUFmDlTs1dK8tzC5k0ul0tdApHo2NdEJEQnQqGZmRkqKyulLoOamcTERKlLIBId+5qIhOjM4WMiTZsxY4bUJRCJjn1NREIYCokE8PQB0kfsayISwlBIRERERAyFRERERMRQSCSIN/glfcS+JiIhDIVEAlJSUqQugUh07GsiEqITt6TRJ9btdXPdnm3aiFeIDqwXAD766COdek5sm05SV9C86Op/b13rayLSHIZCDRvlI3UFz+YTJ1epS6AGOA2UugIiItJlPHxMRERERAyFREISEhKkLoFIdOxrIhLCUEgkwM3NTeoSiETHviYiIQyFRAL8/PykLoFIdOxrIhLCUEhEREREDIVERERExFvSUDPl7Ozc4JiPPvpIrXFE2oJ9TUTPg3sKiQR8/PHHUpdAJDr2NREJYSgkIiIiIoZCIiIiImIoJCIiIiIwFBIRERERGAqJiIiICAyFRERERASGQo2bNWsWjIx4e0giIqotKysLbm5u6NmzJ6ZOnYrKykqpS2rQO++8g27duunUd9vly5cxaNAguLi4wM3NDR988IHUJall6NCh8PLygru7O4KCgnD37l1Rl89QqEEHDhxAWVmZ1GUQEZEWqqqqwtSpU5GamoqzZ8/i7t272Lhxo9RlNWjMmDHIycmRuoxGMTIyQkxMDE6dOoXjx4/jp59+wo4dO6Quq0GpqanIzc3Fb7/9hm7duiE2NlbU5TMUasjDhw8xf/58rFy5UupSiIhICx05cgRdu3aFq6srAGDKlCnYtm2bxFU1rH///rCyspK6jEbp0qULfHx8AAAtW7bESy+9hMLCQomraljbtm0BPPkD4sGDB5DJZKIun6FQQxYvXowpU6agY8eOUpdCRERaqKioCC+88ILyZxsbG1y+fFnCipqHmzdv4ptvvsGQIUOkLkUtI0eORKdOnfD7778jLCxM1GXLqqurq0VdItXy66+/4t1338W+ffsgk8lgZGSEx48fS10WERE9p7L75fhq23eoePzk3L+r124AALp0slB5XeOt1/zRuWOHOpeVlpaG7du3Y9OmTQCAU6dOYfz48Th+/LjodX9/8ChOFlxU/lxf3Y49uiFQ3qfBZTb1d9uNW3fx9Y7vUfV/saW+mg0NDTBh5FC0bWNa7zIfPXqEYcOG4dVXXxU9YNXYse8gLhb90WDNAPCSmwMG9PZocJmPHj3ClClTMGjQIEyaNEm0WrmnUAMOHjyI/Px89OjRA7a2tqisrIStra3oJ4gSEZFmmbU2gadLT1y9dkP5JQ+g1uur126gxwtWgoEQAF544QWVPYOFhYXo1q1bk9T98ktuKL13v8G679wtQz8f9yapobEs2pvDoUc3tf5buznYNhgIKysrMX78eHh5eTVZIASAV3zdceP23QZrfvDwEXp7Oqu1zJYtW+Ktt97C9u3bRa2VoVADZsyYgeLiYly8eBEXL16EoaEhLl68CHNzc6lLIyKi5/Sytxt6dreud0zHDm0xzK/+vW0+Pj4oKipCfn4+ACApKQmjRo0Src6nmbY2RlCgX4PjRga8AnOz1k1Sw7MY3N9bZc9aXbpbd4ZfH88GlzVt2jS0adMGn3zyiVjl1alDO3OMGPRyvWNkAMa8Kodxq5aCY0pLS3H16lUAT84p3LlzJ9zc3MQslaEQAJKTkyGTyWr907UTZ4mISPMMZDKMGe4n+IVuYCBD8GsD0bJF/bdsMTQ0xLp16xAUFAR7e3uYmZlhwoQJTVEyAMDZ3gZ9vFwE33/JrSfcne0aXI5CoUC3bt1QWVmJbt26YdasWWKWqcLI0BDBr/nD0LDu+NKyhRHGvuoPA4P6483Bgwexfv165OTk4KWXXoKXlxdWrVrVFCUDAHzcneDSs7vg+6/09oDdC13qXUZpaSlef/11eHh4wMPDA48fP0ZERISodfKcQjwJhW+//TY2bdoEO7s/fwFatmyJXr16Nem6q6urRb96iIiINC83/yy2/PuHWtMH9/fG4H7eElTUsIePKrAqeRtu3FI9naltG1PMnRwEE+NWElVWvx9/+RV7Mg/Vmj5q2AC1D8FqWtm9csStT8W9+w9Uplt17IDZE0fCyMhQosr+xD2FT/Hw8EDfvn2V/5o6EALAt9m/IHV3lvLEWSIi0k1erj3h8Zc9ay906Qj/l1+SqKKGtWrZAsGv+tfaOTHmVbnWBkIA6O/rDjsb1T1rLj1t4OvhJFFFDTMzNcHoYQNUphkaGiD4NX+tCIRAMwqFv/32G0aPHg1LS0sYGxvDwcEB4eHhktZUdq8cPx/NQ1V1FQy4t5CISOe9ObS/8hy8FkaGGPuaPwwbOJQpNRvrzvDv66X8ub+Pe4PnSErtySF7OVq1bAEAMDUxxqhhA7T+yJurgy18ngquQ1/xbfAcSU3S7k4VydGjR9G3b1+cPHkSK1aswJ49ezB//nz88ccfKuMGDx4MQ0NDdOrUCSEhISguLm7Sun785QQeV1Zh4MtNv0eSiIiaXmsTYwQNlwMAhvv3RccO7SStR12D+nnDurMlOlm0R4Cfr9TlqKV92zZ4fXA/AE8OG7cx1Z4LYuozYuDL6NC2DWy7WeEVX+24srtGszinUC6XIz8/H2fOnFHeDfxp3333HQ4ePIg+ffrA1NQUv/zyC5YtW4Y2bdrg2LFjsLBoOMXPj1nbFKUTERERPbNl709Te6zuPL36Gd2/fx8HDhzA7Nmz6wyEABAQEICAgADlz3K5HP369cMrr7yCzz77DAsXLtRUuURERESS0PtQeOvWLVRVVTX6BqD9+vWDra0tDh8+rNb4xiTxsnvliFn9NV506oHg1wY2qi4iIiKipqD3obB9+/YwMDDAlStXGj1vY24X8yyHj4+fPIvjJ882ej4iIiIidTRmp5XeX2jSunVrDBgwAJs3b27UY+V++uknXLp0CX36NPy8RyIiIiJd1ywuNDl69CgGDBiA7t27Y968eejevTsKCwtx4MABrFu3DoMHD4ZcLoe7uztMTU1x5MgRxMTEoH379jh69Cg6dBB+VmVj7ck8hANHfsO7U8ago0U70ZZLRERE9Dz0/vAxAHh7e+M///kPPvzwQ4SGhuLBgwd44YUX8NZbbwEA3N3d8fXXX+Py5ct4+PAhunbtir///e/46KOPRA2EZffK8Z9jJ+Hlas9ASERERFqlWewp1BaXiv7All2ZmDwmkKGQiIiItApDoYZVVVU1+KBuIiIiIk1jKCQiIiIi/b/6mIiIiIgaxlBIRERERAyFRERERMRQSERERERgKCQiIiIiMBQSERERERgKiYiIiAgMhUREREQEhkIiIiIiAkMhEREREYGhkIiIiIjAUEhEREREYCgkIiIiIjAUEhEREREYComIiIgIDIVEREREBIZCIiIiIgJDIRERERGBoZCIiIiIwFBIRERERGAoJCIiIiIwFBIRERERGAqJiIiICAyFRERERASGQiIiIiICQyERERERgaGQiIiIiAD8f80yvBfh8ZFTAAAAAElFTkSuQmCC\n",
      "text/plain": [
       "<Figure size 835.395x385.28 with 1 Axes>"
      ]
     },
     "execution_count": 50,
>>>>>>> ff71a8c41af8176e6473df19aa343a50dfaf584f
     "metadata": {},
     "output_type": "execute_result"
    }
   ],
   "source": [
    "n = 4\n",
    "linear_oracle = random_linear_oracle(n)\n",
    "\n",
    "circuito = BV_circuit(linear_oracle,n)\n",
    "\n",
    "circuito.draw(output = 'mpl')"
   ]
  },
  {
   "cell_type": "markdown",
<<<<<<< HEAD
   "metadata": {
    "slideshow": {
     "slide_type": "slide"
    }
   },
=======
   "metadata": {},
>>>>>>> ff71a8c41af8176e6473df19aa343a50dfaf584f
   "source": [
    "ahora podemos extraer la cadena $a$ en *una sóla invocación* del oráculo"
   ]
  },
  {
   "cell_type": "code",
<<<<<<< HEAD
   "execution_count": 17,
=======
   "execution_count": 51,
>>>>>>> ff71a8c41af8176e6473df19aa343a50dfaf584f
   "metadata": {},
   "outputs": [
    {
     "data": {
<<<<<<< HEAD
      "image/png": "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\n",
      "text/plain": [
       "<Figure size 700x500 with 1 Axes>"
      ]
     },
     "execution_count": 17,
=======
      "image/png": "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\n",
      "text/plain": [
       "<Figure size 504x360 with 1 Axes>"
      ]
     },
     "execution_count": 51,
>>>>>>> ff71a8c41af8176e6473df19aa343a50dfaf584f
     "metadata": {},
     "output_type": "execute_result"
    }
   ],
   "source": [
    "from qiskit import execute, Aer\n",
    "simulator = Aer.get_backend('qasm_simulator')\n",
    "\n",
    "job = execute(circuito,simulator,shots = 1)\n",
    "cuentas = job.result().get_counts(circuito)\n",
    "\n",
    "from qiskit.tools.visualization import plot_histogram\n",
    "plot_histogram(cuentas) # Mostramos un histograma de resultados"
   ]
  },
  {
   "cell_type": "markdown",
   "metadata": {
    "slideshow": {
     "slide_type": "slide"
    }
   },
   "source": [
    "<div class=\"alert alert-block alert-warning\">\n",
    "\n",
    "<b>¿Por qué funciona el algoritmo de Bernstein Vazirani?</b>\n",
    "\n",
    "Supongamos que $a = 01011$ y que el oráculo que implementa la función lineal es \n",
    "<br>\n",
    "<br>    \n",
    "<center>\n",
<<<<<<< HEAD
    "<img src=\"./figuras/BV_circuit.png\" width='25%' style='margin:automatic'/>\n",
    "</center>\n",
    "\n",
    "<br>    \n",
    "Insertando dicho oráculo en el algoritmo de búsqueda, y  recordando que $H^2 = I$, podemos insertar  \n",
    "la identidad en diversos puntos y, usando la equivalencia de circuitos transformarlo a este otro\n",
=======
    "<img src=\"./figuras/BV_circuit.png\" width='30%' style='margin:automatic'/>\n",
    "</center>\n",
    "\n",
    "<br>    \n",
    "Insertando dicho oráculo en el algoritmo de búsqueda, y \n",
    "<br>\n",
    "    \n",
    "-  recordando que $\\ket{-} = H \\ket{1}$ \n",
    "<br>\n",
    "-  usando la equivalencia de circuitos \n",
    "\n",
    "\n",
    "es fácil reconocer que es equivalente al siguiente\n",
>>>>>>> ff71a8c41af8176e6473df19aa343a50dfaf584f
    "\n",
    "<center>\n",
    "<img src=\"./figuras/Bernstein_Vazirani_trick.png\" width='20%' style='margin:automatic'/>\n",
    "</center>\n",
    "    \n",
    "</div>"
   ]
  },
  {
   "cell_type": "markdown",
   "metadata": {
    "slideshow": {
     "slide_type": "fragment"
    }
   },
   "source": [
    "Los anteriores algoritmos son *deterministas*. \n",
    "\n",
    "Vamos a ver un algoritmo que proporciona una ventaja exponencial pero de manera *probabilista*"
   ]
  },
  {
   "cell_type": "markdown",
   "metadata": {
    "slideshow": {
     "slide_type": "slide"
    }
   },
   "source": [
    "<a id='Simon'></a>\n",
    "<table width=\"100%\">\n",
<<<<<<< HEAD
    "    <td style=\"font-size:250%px;font-family:Helvetica;text-align:left;background-color:rgba(0,0,900, 0.3);\">\n",
=======
    "    <td style=\"font-size:250%px;font-family:Helvetica;text-align:left;background-color:rgba(12, 43, 337, 0.3);\">\n",
>>>>>>> ff71a8c41af8176e6473df19aa343a50dfaf584f
    "<b> El problema de Simon</b>\n",
    "</table>   "
   ]
  },
  {
   "cell_type": "markdown",
   "metadata": {
    "slideshow": {
     "slide_type": "slide"
    }
   },
   "source": [
    "\n",
    "Consideremos *ahora* una función $f:\\{0,1\\}^n \\to \\{0,1\\}^n$ con la siguiente propiedad\n",
    "\n",
    "-  **Promesa** : $f$ es *doblemente valuada y periódica* bajo suma *bit a bit*. \n",
    "\n"
   ]
  },
  {
   "cell_type": "markdown",
   "metadata": {
    "slideshow": {
     "slide_type": "fragment"
    }
   },
   "source": [
    "es decir $~\\Rightarrow ~$  existe un $~s\\in \\{0,1\\}^n ~$ tal que $~~\\forall x$\n",
    "\n",
    "$$\n",
    " f(x) = f(x\\oplus s) ~~~~~\n",
    "$$"
   ]
  },
  {
   "cell_type": "markdown",
   "metadata": {
    "slideshow": {
     "slide_type": "fragment"
    }
   },
   "source": [
    "Ejemplo: <br>\n",
    "\n",
    "|$$x$$|$$f(x)$$|||$$x$$|$$f(x)$$|\n",
    "|---|---|||---|---|\n",
    "|0000|1111|||1000|0101|\n",
    "|0001|1011|||1001|0100|\n",
    "|0010|0011|||1010|0000|\n",
    "|0011|1000|||1011|1110|\n",
    "|0100|0101|||1100|1111|\n",
    "|0101|0100|||1101|1011|\n",
    "|0110|0000|||1110|0011|\n",
    "|0111|1110|||1111|1000|\n",
    "\n",
    "<br>\n"
   ]
  },
  {
   "cell_type": "markdown",
   "metadata": {
    "slideshow": {
     "slide_type": "fragment"
    }
   },
   "source": [
    "-  **Problema**: hallar $s$ con el mínimo número de consultas al oráculo"
   ]
  },
  {
   "cell_type": "markdown",
   "metadata": {
    "slideshow": {
     "slide_type": "fragment"
    }
   },
   "source": [
    "<div class=\"alert alert-block alert-danger\">\n",
    "    <i>Clásicamente</i>: necesitaríamos inspeccionar ${\\cal O}(n 2^n)$ términos\n",
    "</div>\n"
   ]
  },
  {
   "cell_type": "markdown",
   "metadata": {
    "slideshow": {
     "slide_type": "slide"
    }
   },
   "source": [
    "El circuito es *el mismo*, pero ahora involucra $n$ cúbits para codificar la *imagen* de $f$\n",
    "<br>\n",
    "<br>\n",
    "<br>\n",
    "\n",
    "<center>\n",
    "<img src=\"./figuras/SimonCircuit.png\" width='60%' style='margin:automatic'/>\n",
    "</center>\n",
    "\n"
   ]
  },
  {
   "cell_type": "markdown",
   "metadata": {
    "slideshow": {
     "slide_type": "fragment"
    }
   },
   "source": [
    "Notar la diferencia con los casos anteriores: \n",
    "\n",
    "-   ahora en la entrada de la ancilla ponemos $\\ket{0}_n$ <br>\n",
<<<<<<< HEAD
    "$\\Rightarrow$ como consecuencia el oráculo implementa la acción de $f(x)$ de forma *booleana*\n",
=======
    "$\\Rightarrow$ como consecuencia el oráculo aplica $f(x)$ de forma *booleana*\n",
>>>>>>> ff71a8c41af8176e6473df19aa343a50dfaf584f
    "\n",
    "\n",
    "$$\n",
    "U_f \\sum_{x=0}^{2^n-1}\\ket{x}\\otimes \\ket{0}  = \\sum_{x=0}^{2^n-1}\\ket{x}\\otimes \\ket{f(x)}\n",
    "$$\n",
    "\n",
    "\n"
   ]
  },
  {
   "cell_type": "markdown",
   "metadata": {
    "slideshow": {
     "slide_type": "fragment"
    }
   },
   "source": [
    "-  después de aplicar e oráculo el estado está entrelazado! \n",
<<<<<<< HEAD
    "Si hacemos una <b>medida del segundo registro</b>\n",
    "  el  n-cúbit  colapsará a un cierto estado \n",
=======
    "<br>\n",
    "$\\Rightarrow$ si hacemos una medida del segundo registro \n",
    "  el  n-cúbit en segundo registro colapsará a un cierto estado \n",
>>>>>>> ff71a8c41af8176e6473df19aa343a50dfaf584f
    "$~\\ket{f(x_0)} $"
   ]
  },
  {
   "cell_type": "markdown",
   "metadata": {
    "slideshow": {
     "slide_type": "fragment"
    }
   },
   "source": [
    "\n",
    "\n",
<<<<<<< HEAD
    "- en virtud de la *promesa* $\\ket{f(x_0)} = \\ket{f(x_0\\oplus s)}$, el primer registro colapsará a una *superposición de dos estados* (justo antes de la barrera) \n",
=======
    "- en virtud de la *promesa* $\\ket{f(x_0)} = \\ket{f(x_0\\oplus s)}$, el primer registro colapsará a una *superposición de dos estados*  \n",
>>>>>>> ff71a8c41af8176e6473df19aa343a50dfaf584f
    "<br>\n",
    "<br>\n",
    "$$\n",
    "\\ket{\\psi} = \\frac{1}{\\sqrt{2}} \\left( \\rule{0mm}{4mm} \\ket{x_0} + \\ket{x_0 \\oplus s} \\right)\n",
    "$$\n",
<<<<<<< HEAD
    "\n"
=======
    "<br>\n",
    "justo antes de la barrera\n"
>>>>>>> ff71a8c41af8176e6473df19aa343a50dfaf584f
   ]
  },
  {
   "cell_type": "markdown",
   "metadata": {
    "slideshow": {
     "slide_type": "slide"
    }
   },
   "source": [
<<<<<<< HEAD
    "para terminar, aplicamos de nuevo la puerta de Walsh-Hadamard al primer registro \n",
=======
    "- siguiendo el circuito, aplicamos de nuevo la puerta de Walsh-Hadamard al primer registro \n",
>>>>>>> ff71a8c41af8176e6473df19aa343a50dfaf584f
    "\n",
    "\\begin{eqnarray}\n",
    "H^{\\otimes n} \\frac{1}{\\sqrt{2}} \\left( \\rule{0mm}{4mm} \\ket{x_0} + \\ket{x_0 \\oplus s} \\right) &=& \\frac{1}{\\sqrt{2^{n+1}}} \\sum_{y=0}^{2^n-1} \\left[ (-1)^{x_0\\cdot y} + (-1)^{(x_0\\oplus s) \\cdot y}\\right]  \\ket{y} \\nonumber\\\\ \\rule{0mm}{10mm}\n",
    "&=& \\frac{1}{\\sqrt{2^{n+1}}} \\sum_{y=0}^{2^n-1} \\left[ (-1)^{x_0\\cdot y} + (-1)^{x_0 \\cdot y}(-1)^{ s \\cdot y}\\right]  \\ket{y} \\nonumber\\\\ \\rule{0mm}{10mm}\n",
    "&=&  \\frac{1}{\\sqrt{2^{n+1}}} \\sum_{y=0}^{2^n-1}(-1)^{x_0\\cdot y}  \\left( \\rule{0mm}{6mm} 1+ (-1)^{s \\cdot y}\\right) \\ket{y}\n",
    "\\end{eqnarray}\n"
   ]
  },
  {
   "cell_type": "markdown",
   "metadata": {
    "slideshow": {
     "slide_type": "fragment"
    }
   },
   "source": [
    "Observar  el factor \n",
    "\n",
    "$$\n",
    "\\frac{1}{2}\\left( \\rule{0mm}{3mm} 1+ (-1)^{s \\cdot y}\\right)~~ = ~~ \n",
    "\\left\\{\\begin{array}{ccc} 0 &\\hbox{if}&  s \\cdot y\\, (\\hbox{mod 2}) = 1 \\\\ 1 &\\hbox{if} & s\\cdot y\\, (\\hbox{mod 2}) = 0\\end{array}\n",
    "\\right.\n",
    "$$ \n",
    "\n",
    "hace que **sólo tengan amplitud no nula** aquellos  $\\ket{y}$ con $s\\cdot y\\,  (\\hbox{mod 2})= 0$\n",
    "\n"
   ]
  },
  {
   "cell_type": "markdown",
   "metadata": {
    "slideshow": {
     "slide_type": "fragment"
    }
   },
   "source": [
    "Midiendo de forma repetida, el primer registro obtendremos una serie de n-bits $ y^{(a)} = y^{(1)},y^{(2)},...,y^{(n)}$ todos los cuales  verifican\n",
    "un sistema homogéneo de $n$ ecuaciones lineales \n"
   ]
  },
  {
   "cell_type": "markdown",
   "metadata": {
    "slideshow": {
     "slide_type": "slide"
    }
   },
   "source": [
    "\n",
    "\\begin{eqnarray}\n",
    "s\\cdot y^{(1)} (\\hbox{mod(2)})~=~ s_{n-1}y^{(1)}_{n-1} \\oplus s_{n-2}y^{(1)}_{n-2} \\oplus \\ldots \\oplus s_0 y^{(1)}_0  &~=~& 0 \\nonumber\\\\ \\rule{0mm}{8mm}\n",
    "s\\cdot y^{(2)} (\\hbox{mod(2)}) ~=~ s_{n-1}y^{(2)}_{n-1} \\oplus s_{n-2}y^{(2)}_{n-2} \\oplus \\ldots \\oplus s_0 y^{(2)}_0 &~=~& 0 \\nonumber\\\\\n",
    "\\vdots & & \\nonumber\\\\ \\rule{0mm}{10mm}\n",
    "s\\cdot y^{(n)} (\\hbox{mod(2)}) ~=~ s_{n-1}y^{(p)}_{n-1} \\oplus s_{n-2}y^{(n)}_{n-2} \\oplus \\ldots \\oplus s_0 y^{(n)}_0 &~=~& 0 \\nonumber\\\\\n",
    "\\end{eqnarray}\n",
    "\n",
    "<br>\n",
    "donde todas las suma se entienden módulo dos.\n",
    "Por un lado $s=s_{n-1}\\ldots s_0$ son nuestras incógnitas y, por otro, $y^{(a)} = y^{(a)}_{n-1}\\ldots y^{(a)}_0$ los coeficientes conocidos como resultado de las medidas"
   ]
  },
  {
   "cell_type": "markdown",
   "metadata": {
    "slideshow": {
     "slide_type": "fragment"
    }
   },
   "source": [
    "Dado que tenemos que averiguar los $n$ bits que conforman la solución $s$ necesitaremos, como mínimo, $n$ ecuaciones linealmente independientes\n",
    "\n"
   ]
  },
  {
   "cell_type": "markdown",
   "metadata": {
    "slideshow": {
     "slide_type": "fragment"
    }
   },
   "source": [
    "<div class=\"alert alert-block alert-danger\",text-align:center>\n",
    "<b> Nota</b>:\n",
    "    \n",
    "    \n",
    "1. No hay garantía de que las cadenas de bits $y$ obtenidos en las distintas evaluaciones del circuito sean diferentes siempre diferentes entre sí. \n",
    "Por tanto en general, para obtener un sistema lineal resoluble será necesario correr el circuito un número mayor de veces que $n$. \n",
    "    \n",
    "Es por esta razón que el algoritmo de Simon es <i>probabilístico</i>\n",
    "    \n",
    "2.  La distribución de amplitudes que son nulas o no es independiente de $x_0$ y, por tanto, del resultado $\\ket{f(x_0)}$ medido en el segundo registro. De modo que lo podemos obviar.    \n",
    "</div>, "
   ]
  },
  {
   "cell_type": "markdown",
   "metadata": {
    "slideshow": {
     "slide_type": "slide"
    }
   },
   "source": [
    "Vamos a estudiar la misma función que hemos utilizado en la lección anterior para codificar un oráculo arbitrario dado por una tabla de verdad *f_outputs*\n",
    "\n",
    "Esta función está en `macro_CURSO.py` donde se denomina `binary_function(f_outputs)`. \n",
    "\n",
<<<<<<< HEAD
    "La *promesa* es que dicha función contiene un único período. Vamos a tratar de encontrarlo."
=======
    "La promesa es que dicha función contiene un sólo período. Vamos a tratar de encontrarlo."
>>>>>>> ff71a8c41af8176e6473df19aa343a50dfaf584f
   ]
  },
  {
   "cell_type": "code",
<<<<<<< HEAD
   "execution_count": 18,
=======
   "execution_count": 20,
>>>>>>> ff71a8c41af8176e6473df19aa343a50dfaf584f
   "metadata": {
    "slideshow": {
     "slide_type": "fragment"
    }
   },
   "outputs": [],
   "source": [
    "# promesa: esta función contiene un periodo binario\n",
    "f_outputs = ['1111', '1011', '0011', '1000', '0101', '0100', \n",
    "               '0000', '1110', '0101', '0100', '0000', '1110', \n",
    "               '1111', '1011', '0011', '1000']\n",
    "\n",
    "# creamos el oráculo y lo transformamos en una puerta \n",
    "simon_oracle_gate = binary_function(f_outputs).to_gate()\n",
    "\n",
    "# verificamos que se trata de una función de n en n bits\n",
    "n_input = int(np.log2(len(f_outputs))) #número de outputs\n",
    "m_output =len(f_outputs[0])            #longitud de cada output\n",
    "assert(n_input == m_output)"
   ]
  },
  {
<<<<<<< HEAD
   "cell_type": "code",
   "execution_count": 19,
   "metadata": {
    "slideshow": {
     "slide_type": "slide"
    }
   },
   "outputs": [
    {
     "data": {
      "image/png": "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\n",
      "text/plain": [
       "<Figure size 1500.11x785.944 with 1 Axes>"
      ]
     },
     "execution_count": 19,
     "metadata": {},
     "output_type": "execute_result"
    }
   ],
   "source": [
    "from qiskit import QuantumRegister, ClassicalRegister, QuantumCircuit\n",
    "n=n_input\n",
    "qr_in = QuantumRegister(n, name='x')\n",
    "qr_out = QuantumRegister(n, name='f(x)')\n",
    "cr = ClassicalRegister(n, name='meas')\n",
    "    \n",
    "# Construimos el circuito\n",
    "qc = QuantumCircuit(qr_in, qr_out, cr, name='q')\n",
    "    \n",
    "## Aplica la puerta de Walsh-Hadamard al primer registro\n",
    "qc.h(qr_in)\n",
    "qc.barrier()\n",
    "\n",
    "# Aplicamos el oráculo\n",
    "qc.append(simon_oracle_gate,qr_in[:]+qr_out[:])    \n",
    "qc.barrier()\n",
    "\n",
    "# Medimos el registro de los cúbits de |f(x)>  este paso se puede omitir, compruébalo \n",
    "qc.measure(qr_out, cr)\n",
    "qc.barrier()\n",
    "\n",
    "# Volvemos a aplicar la puerta de Walsh-Hadamard al primer registro\n",
    "qc.h(qr_in)\n",
    "qc.barrier()\n",
    "\n",
    "# Finalmente medimos el registro de los inputs |x>\n",
    "qc.measure(qr_in, cr)   \n",
    "\n",
    "qc.draw('mpl')"
   ]
  },
  {
   "cell_type": "markdown",
   "metadata": {
    "slideshow": {
     "slide_type": "skip"
=======
   "cell_type": "markdown",
   "metadata": {
    "slideshow": {
     "slide_type": "slide"
>>>>>>> ff71a8c41af8176e6473df19aa343a50dfaf584f
    }
   },
   "source": [
    "\n",
    "\n",
    "<div class=\"alert alert-block alert-success\">\n",
    "<b> Ejercicio 2.1.1.2 </b> \n",
    "    \n",
    "completa la  construcción del algoritmo de Simon \n",
    "\n",
    "<details>\n",
    "    <summary><p style='text-align:right'> >> Solución </p></summary>\n",
    "    \n",
    "    # Aplica la puerta de Walsh-Hadamard al primer registro\n",
    "    qc.h(qr_in)\n",
    "    qc.barrier()\n",
    "    \n",
    "    # Aplicamos el oráculo\n",
    "    qc.append(simon_oracle_gate,qr_in[:]+qr_out[:])    \n",
    "    qc.barrier()\n",
    "    \n",
    "    # Medimos el registro de los cúbits de |f(x)>\n",
    "    qc.measure(qr_out, cr)\n",
    "    qc.barrier()\n",
    "\n",
    "\n",
    "    # Volvemos a aplicar la puerta de Walsh-Hadamard al primer registro\n",
    "    qc.h(qr_in)\n",
    "    qc.barrier()\n",
    "    \n",
    "    # Finalmente medimos el registro de los inputs |x>\n",
    "\n",
    "    qc.measure(qr_in, cr)\n",
    "\n",
    "\n",
    "</details>\n",
    "\n",
    "</div>"
   ]
  },
  {
   "cell_type": "code",
<<<<<<< HEAD
   "execution_count": null,
=======
   "execution_count": 26,
>>>>>>> ff71a8c41af8176e6473df19aa343a50dfaf584f
   "metadata": {
    "slideshow": {
     "slide_type": "skip"
    }
   },
<<<<<<< HEAD
=======
   "outputs": [
    {
     "data": {
      "image/png": "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\n",
      "text/plain": [
       "<Figure size 1140.28x565.88 with 1 Axes>"
      ]
     },
     "execution_count": 26,
     "metadata": {},
     "output_type": "execute_result"
    }
   ],
   "source": [
    "from qiskit import QuantumRegister, ClassicalRegister, QuantumCircuit\n",
    "n=n_input\n",
    "\n",
    "qr_in = QuantumRegister(n, name='x')\n",
    "qr_out = QuantumRegister(n, name='f(x)')\n",
    "cr = ClassicalRegister(n, name='meas')\n",
    "    \n",
    "# Construimos el circuito\n",
    "qc = QuantumCircuit(qr_in, qr_out, cr, name='q')\n",
    "    \n",
    "#========Escribe tu código aquí========\n",
    "# Aplica la puerta de Walsh-Hadamard al primer registro\n",
    "qc.h(qr_in)\n",
    "qc.barrier()\n",
    "\n",
    "# Aplicamos el oráculo\n",
    "qc.append(simon_oracle_gate,qr_in[:]+qr_out[:])    \n",
    "qc.barrier()\n",
    "\n",
    "# Medimos el registro de los cúbits de |f(x)>  este paso se puede omitir, compruébalo \n",
    "qc.measure(qr_out, cr)\n",
    "qc.barrier()\n",
    "\n",
    "\n",
    "# Volvemos a aplicar la puerta de Walsh-Hadamard al primer registro\n",
    "qc.h(qr_in)\n",
    "qc.barrier()\n",
    "\n",
    "# Finalmente medimos el registro de los inputs |x>\n",
    "\n",
    "qc.measure(qr_in, cr)   \n",
    "\n",
    "#======================================\n",
    "    \n",
    "qc.draw('mpl')\n"
   ]
  },
  {
   "cell_type": "code",
   "execution_count": null,
   "metadata": {
    "slideshow": {
     "slide_type": "-"
    }
   },
>>>>>>> ff71a8c41af8176e6473df19aa343a50dfaf584f
   "outputs": [],
   "source": [
    "from qiskit import QuantumRegister, ClassicalRegister, QuantumCircuit\n",
    "n=n_input\n",
    "\n",
    "qr_in = QuantumRegister(n, name='x')\n",
    "qr_out = QuantumRegister(n, name='f(x)')\n",
    "cr = ClassicalRegister(n, name='meas')\n",
    "    \n",
    "# Construimos el circuito\n",
    "qc = QuantumCircuit(qr_in, qr_out, cr, name='q')\n",
    "    \n",
    "#========Escribe tu código aquí========\n",
    "    \n",
    "\n",
    "#======================================\n",
    "    \n",
    "qc.draw('mpl')\n"
   ]
  },
  {
   "cell_type": "markdown",
   "metadata": {
    "slideshow": {
     "slide_type": "slide"
    }
   },
   "source": [
    "### Comprobación"
   ]
  },
  {
   "cell_type": "code",
<<<<<<< HEAD
   "execution_count": 20,
=======
   "execution_count": 27,
>>>>>>> ff71a8c41af8176e6473df19aa343a50dfaf584f
   "metadata": {
    "slideshow": {
     "slide_type": "fragment"
    }
   },
   "outputs": [
    {
     "data": {
<<<<<<< HEAD
      "image/png": "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\n",
      "text/plain": [
       "<Figure size 700x500 with 1 Axes>"
      ]
     },
     "execution_count": 20,
=======
      "image/png": "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\n",
      "text/plain": [
       "<Figure size 504x360 with 1 Axes>"
      ]
     },
     "execution_count": 27,
>>>>>>> ff71a8c41af8176e6473df19aa343a50dfaf584f
     "metadata": {},
     "output_type": "execute_result"
    }
   ],
   "source": [
    "from qiskit import Aer, execute\n",
    "\n",
    "shots_exe = 1000\n",
    "\n",
    "backend = Aer.get_backend('qasm_simulator')\n",
    "job     = execute(qc, backend, shots = shots_exe)\n",
    "result  = job.result()\n",
    "counts  = result.get_counts()\n",
    "\n",
    "from qiskit.tools.visualization import plot_histogram\n",
    "\n",
    "plot_histogram(counts)"
   ]
  },
  {
   "cell_type": "code",
<<<<<<< HEAD
   "execution_count": 22,
=======
   "execution_count": 28,
>>>>>>> ff71a8c41af8176e6473df19aa343a50dfaf584f
   "metadata": {
    "slideshow": {
     "slide_type": "slide"
    }
   },
   "outputs": [],
   "source": [
    "def solve_for_solution(counts):\n",
    "\n",
    "#   extraemos la longitud de las cuentas 'x' que será igual a la de la incógnita 's'\n",
    "    n = len(list(counts)[0]) \n",
    "\n",
    "#   generamos todos los posibles inputs\n",
    "    s_list = [format(i, 'b').zfill(n) for i in range(1, 2**n)]\n",
    "#    s_list = [format(i, '0'+str(n)+'b') for i in range(1, 2**n)]  # otra manera de hacer lo mismo\n",
    "    \n",
    "#   ahora evaluamos, para cada s,  s.x_i = 0 con todos los x_i encontrados\n",
    "    for s_str in s_list:\n",
    "        s = [int(_) for _ in list(s_str)]\n",
    "#        print(' s=',s)\n",
    "\n",
    "#   sólo necesitamos n valores de x independientes'\n",
    "        prod_sxi = [sum([s[j]*int(xi[j]) for j in range(len(s))])%2 for xi in list(counts)[:n]]\n",
    "\n",
    "#   sólo si todos los s.x_i = 0 también la suma será = 0\n",
    "        sum_sx = sum(prod_sxi)\n",
    "        print('(Sum_{i=1}^4 s.x_i%2))=', sum_sx, ' para s=', s_str)\n",
    "        if  sum_sx==0:\n",
    "            return s_str\n",
    "            break"
   ]
  },
  {
   "cell_type": "markdown",
   "metadata": {},
   "source": [
    "Ejecutamos la parte clásica que sólo involucra ${\\cal O}(n^2)$ operaciones"
   ]
  },
  {
   "cell_type": "code",
<<<<<<< HEAD
   "execution_count": 23,
=======
   "execution_count": 29,
>>>>>>> ff71a8c41af8176e6473df19aa343a50dfaf584f
   "metadata": {
    "slideshow": {
     "slide_type": "fragment"
    }
   },
   "outputs": [
    {
     "name": "stdout",
     "output_type": "stream",
     "text": [
<<<<<<< HEAD
      "(Sum_{i=1}^4 s.x_i%2))= 2  para s= 0001\n",
      "(Sum_{i=1}^4 s.x_i%2))= 1  para s= 0010\n",
      "(Sum_{i=1}^4 s.x_i%2))= 3  para s= 0011\n",
      "(Sum_{i=1}^4 s.x_i%2))= 3  para s= 0100\n",
      "(Sum_{i=1}^4 s.x_i%2))= 3  para s= 0101\n",
      "(Sum_{i=1}^4 s.x_i%2))= 2  para s= 0110\n",
      "(Sum_{i=1}^4 s.x_i%2))= 2  para s= 0111\n",
      "(Sum_{i=1}^4 s.x_i%2))= 3  para s= 1000\n",
      "(Sum_{i=1}^4 s.x_i%2))= 3  para s= 1001\n",
      "(Sum_{i=1}^4 s.x_i%2))= 2  para s= 1010\n",
      "(Sum_{i=1}^4 s.x_i%2))= 2  para s= 1011\n",
=======
      "(Sum_{i=1}^4 s.x_i%2))= 1  para s= 0001\n",
      "(Sum_{i=1}^4 s.x_i%2))= 2  para s= 0010\n",
      "(Sum_{i=1}^4 s.x_i%2))= 3  para s= 0011\n",
      "(Sum_{i=1}^4 s.x_i%2))= 2  para s= 0100\n",
      "(Sum_{i=1}^4 s.x_i%2))= 3  para s= 0101\n",
      "(Sum_{i=1}^4 s.x_i%2))= 2  para s= 0110\n",
      "(Sum_{i=1}^4 s.x_i%2))= 3  para s= 0111\n",
      "(Sum_{i=1}^4 s.x_i%2))= 2  para s= 1000\n",
      "(Sum_{i=1}^4 s.x_i%2))= 3  para s= 1001\n",
      "(Sum_{i=1}^4 s.x_i%2))= 2  para s= 1010\n",
      "(Sum_{i=1}^4 s.x_i%2))= 3  para s= 1011\n",
>>>>>>> ff71a8c41af8176e6473df19aa343a50dfaf584f
      "(Sum_{i=1}^4 s.x_i%2))= 0  para s= 1100\n",
      "la periodicidad buscada es = 1100\n"
     ]
    }
   ],
   "source": [
    "s_sol = solve_for_solution(counts)\n",
    "print('la periodicidad buscada es =', s_sol)"
   ]
  },
  {
   "cell_type": "markdown",
   "metadata": {
    "slideshow": {
     "slide_type": "slide"
    }
   },
   "source": [
    "<div class=\"alert alert-block alert-success\">\n",
    "<b> Ejercicio  2.1.1.3  </b>\n",
    "    \n",
<<<<<<< HEAD
    "completa esta  función que tome como argumento una cadena de bits <i>s</i>, y  genera una tabla de verdad asociada a una función binaria $f:\\{0,1\\}^n\\to\\{0,1\\}^n$ con exactamente la periodicidad $s$. Utiliza el algoritmo de Simon para recuperar dicha periodicidad. \n",
=======
    "completa esta  función que tome como argumento una cadena de bits <i>s</i>, y  genere una tabla de verdad asociada a una función binaria $f:\\{0,1\\}^n\\to\\{0,1\\}^n$ con exactamente la periodicidad $s$. Utiliza el algoritmo de Simon para recuperar dicha periodicidad. \n",
>>>>>>> ff71a8c41af8176e6473df19aa343a50dfaf584f
    "\n",
    "\n",
    "<details>\n",
    "<summary><p style='text-align:right'> >> Solución </p></summary>\n",
    "\n",
    "            old = [a for a in aux if sum_mod2(a, s) == inp][0]\n",
    "            outputs.append(old)\n",
    "</details>\n",
    "\n",
    "</div>\n"
   ]
  },
  {
   "cell_type": "code",
<<<<<<< HEAD
   "execution_count": 10,
=======
   "execution_count": null,
>>>>>>> ff71a8c41af8176e6473df19aa343a50dfaf584f
   "metadata": {
    "slideshow": {
     "slide_type": "-"
    }
   },
   "outputs": [],
   "source": [
    "\n",
    "def oraculo_de_Simon(s):   \n",
    "    'autor Sergio Barrera'  \n",
    "\n",
    "    def suma_bit_a_bit_mod2(a, b):    \n",
    "        suma = ''\n",
    "        for i in range(len(a)):\n",
    "            suma += str((int(a[i]) + int(b[i])) % 2)\n",
    "        return suma\n",
    "\n",
    "    n = len(s) \n",
    "    inputs  = [format(i, 'b').zfill(n) for i in range(2**n)]\n",
    "    aux = []\n",
    "    outputs = []    \n",
    "    for inp in inputs:\n",
    "        if inp in [suma_bit_a_bit_mod2(a, s) for a in aux]:\n",
    "###         \n",
<<<<<<< HEAD
    "            old = [a for a in aux if sum_mod2(a, s) == inp][0]\n",
    "            outputs.append(old)\n",
=======
    "#        tu solución aquí \n",
>>>>>>> ff71a8c41af8176e6473df19aa343a50dfaf584f
    "##\n",
    "        else:\n",
    "            outputs.append(inp)\n",
    "            aux.append(inp)\n",
    "    return outputs\n",
    "\n"
   ]
  }
 ],
 "metadata": {
<<<<<<< HEAD
  "kernelspec": {
   "display_name": "Python 3 (ipykernel)",
=======
  "celltoolbar": "Slideshow",
  "kernelspec": {
   "display_name": "Python 3",
>>>>>>> ff71a8c41af8176e6473df19aa343a50dfaf584f
   "language": "python",
   "name": "python3"
  },
  "language_info": {
   "codemirror_mode": {
    "name": "ipython",
    "version": 3
   },
   "file_extension": ".py",
   "mimetype": "text/x-python",
   "name": "python",
   "nbconvert_exporter": "python",
   "pygments_lexer": "ipython3",
<<<<<<< HEAD
   "version": "3.9.12"
=======
   "version": "3.8.5"
>>>>>>> ff71a8c41af8176e6473df19aa343a50dfaf584f
  },
  "varInspector": {
   "cols": {
    "lenName": 16,
    "lenType": 16,
    "lenVar": 40
   },
   "kernels_config": {
    "python": {
     "delete_cmd_postfix": "",
     "delete_cmd_prefix": "del ",
     "library": "var_list.py",
     "varRefreshCmd": "print(var_dic_list())"
    },
    "r": {
     "delete_cmd_postfix": ") ",
     "delete_cmd_prefix": "rm(",
     "library": "var_list.r",
     "varRefreshCmd": "cat(var_dic_list()) "
    }
   },
   "types_to_exclude": [
    "module",
    "function",
    "builtin_function_or_method",
    "instance",
    "_Feature"
   ],
   "window_display": false
  }
 },
 "nbformat": 4,
 "nbformat_minor": 4
}
