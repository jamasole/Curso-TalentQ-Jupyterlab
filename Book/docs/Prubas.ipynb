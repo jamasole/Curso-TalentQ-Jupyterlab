{
 "cells": [
  {
   "cell_type": "markdown",
   "id": "971e587f-b446-4516-a53d-8e9604f76a6d",
   "metadata": {},
   "source": [
    ":::::{grid} 2 3 3 4\n",
    "\n",
    "::::{grid-item}\n",
    "\n",
    ":::{card} Title\n",
    ":img-background: figuras/croma.jpg\n",
    ":class-card: sd-text-black\n",
    ":img-alt: my text\n",
    "\n",
    "Text\n",
    ":::\n",
    "\n",
    "::::\n",
    "\n",
    "::::{grid-item-card} Title\n",
    ":img-top: figuras/croma.jpg\n",
    ":img-alt:\n",
    "\n",
    "Header\n",
    "^^^\n",
    "Content\n",
    "+++\n",
    "Footer\n",
    "::::\n",
    "\n",
    "::::{grid-item-card} Title\n",
    ":img-bottom: figuras/croma.jpg\n",
    "\n",
    "Header\n",
    "^^^\n",
    "Content\n",
    "+++\n",
    "Footer\n",
    "::::\n",
    "\n",
    ":::::"
   ]
  }
 ],
 "metadata": {
  "kernelspec": {
   "display_name": "Python 3 (ipykernel)",
   "language": "python",
   "name": "python3"
  },
  "language_info": {
   "codemirror_mode": {
    "name": "ipython",
    "version": 3
   },
   "file_extension": ".py",
   "mimetype": "text/x-python",
   "name": "python",
   "nbconvert_exporter": "python",
   "pygments_lexer": "ipython3",
   "version": "3.10.13"
  }
 },
 "nbformat": 4,
 "nbformat_minor": 5
}
