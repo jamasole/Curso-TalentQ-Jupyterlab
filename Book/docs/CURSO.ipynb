{
 "cells": [
  {
   "cell_type": "markdown",
   "metadata": {},
   "source": [
    "---\n",
    "title: Curso de Introducción a la  Computación Cuántica\n",
    "license: CC-BY-4.0\n",
    "github: https://github.com/jamasole/Curso-TalentQ-Jupyterlab.git\n",
    "subject: Curso\n",
    "venue: QuantumSpain\n",
    "thumbnail: thumbnails/myThumbnail.png\n",
    "authors:\n",
    "  - name: Javier Mas\n",
    "    email: javier.mas@usc.es\n",
    "    corresponding: true\n",
    "    orcid: 0000-0001-7008-2126\n",
    "    affiliations:\n",
    "      - IGFAE-USC\n",
    "  - name: David Castaño\n",
    "    email: javier.mas@usc.es\n",
    "    corresponding: true\n",
    "    orcid: 0000-0001-7008-2126\n",
    "    affiliations:\n",
    "      - UMA\n",
    "math:   \n",
    "  '\\i': '{\\color{blue}{i}}'\n",
    "  '\\bes': '\\begin{equation*}'\n",
    "  '\\ees': '\\end{equation*}'\n",
    "  '\\O': '{\\mathcal O}'\n",
    "  '\\Lin': '\\hbox{Lin}'\n",
    "  '\\Hil': '{\\mathcal H}'\n",
    "abbreviations:\n",
    "    MyST: Markedly Structured Text\n",
    "    TLA: Three Letter Acronym\n",
    "---"
   ]
  },
  {
   "cell_type": "markdown",
   "metadata": {
    "editable": true,
    "slideshow": {
     "slide_type": "slide"
    },
    "tags": []
   },
   "source": [
    "\n",
    "[**Bibliografía**](Bibliografía.ipynb#fund)\n",
    "\n",
    ":::{card}\n",
    "\n",
    "### Elementos de Mecánica Cuántica\n",
    "^^^\n",
    "#### Las herramientas\n",
    "\n",
    "- [**$~$ Números complejos**](00_Formalismo/01_Numeros_Complejos.ipynb)  \n",
    "- [**$~$ Vectores**](00_Formalismo/01_Vectores.ipynb)  \n",
    "- [**$~$ Operadores**](00_Formalismo/01_Operadores.ipynb) \n",
    "- [**$~$ Tensores**](00_Formalismo/01_Tensores.ipynb) \n",
    "- [**$~$ Probabilidades**](00_Formalismo/01_Probabilidades.ipynb)\n",
    "\n",
    "#### Las reglas del juego   \n",
    "\n",
    "- [**$~$ Fundamentos de MC**](00_Formalismo/02_Fundamentos_MC.ipynb)  \n",
    ":::"
   ]
  },
  {
   "cell_type": "markdown",
   "metadata": {
    "slideshow": {
     "slide_type": "slide"
    }
   },
   "source": [
    "\n",
    ":::{card}\n",
    "\n",
    "### Cúbits\n",
    "\n",
    "^^^\n",
    "\n",
    "#### Un cúbit\n",
    "\n",
    "- [**$~$ Un Cúbit**](01_Circuitos/111_Cubits.ipynb) \n",
    "\n",
    "- [**$~$ El arte de medir**](01_Circuitos/114_El_Arte_de_Medir_I.ipynb)\n",
    "  \n",
    "#### Multi-cúbits\n",
    "\n",
    "- [**$~$ Estados y puertas multi-cúbit**](01_Circuitos/121_Multicubits.ipynb)   \n",
    "\n",
    "- [**$~$ El arte de medir multi-cúbits**](01_Circuitos/122_El_Arte_de_Medir_II.ipynb)\n",
    "\n",
    "- [**$~$ Entrelazamiento en acción**](01_Circuitos/123_Entrelazamiento.ipynb)\n",
    ":::\n",
    "\n",
    ":::{card} \n",
    "\n",
    "### Circuitos\n",
    "\n",
    "^^^\n",
    "- Circuitos\n",
    "\n",
    "::::   \n",
    "\n",
    "\n",
    "\n",
    " \n"
   ]
  },
  {
   "cell_type": "code",
   "execution_count": null,
   "metadata": {},
   "outputs": [],
   "source": []
  }
 ],
 "metadata": {
  "celltoolbar": "Slideshow",
  "kernelspec": {
   "display_name": "Python 3 (ipykernel)",
   "language": "python",
   "name": "python3"
  },
  "language_info": {
   "codemirror_mode": {
    "name": "ipython",
    "version": 3
   },
   "file_extension": ".py",
   "mimetype": "text/x-python",
   "name": "python",
   "nbconvert_exporter": "python",
   "pygments_lexer": "ipython3",
   "version": "3.9.18"
  },
  "toc": {
   "base_numbering": 1,
   "nav_menu": {},
   "number_sections": true,
   "sideBar": true,
   "skip_h1_title": false,
   "title_cell": "Table of Contents",
   "title_sidebar": "Contents",
   "toc_cell": false,
   "toc_position": {},
   "toc_section_display": true,
   "toc_window_display": false
  },
  "varInspector": {
   "cols": {
    "lenName": 16,
    "lenType": 16,
    "lenVar": 40
   },
   "kernels_config": {
    "python": {
     "delete_cmd_postfix": "",
     "delete_cmd_prefix": "del ",
     "library": "var_list.py",
     "varRefreshCmd": "print(var_dic_list())"
    },
    "r": {
     "delete_cmd_postfix": ") ",
     "delete_cmd_prefix": "rm(",
     "library": "var_list.r",
     "varRefreshCmd": "cat(var_dic_list()) "
    }
   },
   "types_to_exclude": [
    "module",
    "function",
    "builtin_function_or_method",
    "instance",
    "_Feature"
   ],
   "window_display": false
  }
 },
 "nbformat": 4,
 "nbformat_minor": 4
}
