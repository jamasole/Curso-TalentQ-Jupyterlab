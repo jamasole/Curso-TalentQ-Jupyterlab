{
 "cells": [
  {
   "cell_type": "markdown",
   "id": "5cb046c7",
   "metadata": {
    "slideshow": {
     "slide_type": "slide"
    }
   },
   "source": [
    "---\n",
    "license: CC-BY-4.0\n",
    "github: https://github.com/jamasole/Curso-TalentQ-Jupyterlab\n",
    "subject: Curso\n",
    "venue: Quantum Spain\n",
    "authors:\n",
    "  - name: Javier Mas\n",
    "    email: javier.mas@usc.es\n",
    "    corresponding: true\n",
    "    orcid: 0000-0001-7008-2126\n",
    "    affiliations:\n",
    "      - IGFAE-USC\n",
    "  - name: David Castaño\n",
    "    email: david.castano@uma.es\n",
    "    corresponding: true\n",
    "    orcid: 0000-0001-7008-2126\n",
    "    affiliations:\n",
    "      - UMA\n",
    "math:   \n",
    "    '\\i': '{i}'\n",
    "    '\\bes': '\\begin{equation*}'\n",
    "    '\\ees': '\\end{equation*}'\n",
    "    '\\O': '{\\mathcal O}'\n",
    "    '\\Lin': '\\rm L'\n",
    "    '\\Hil': '{\\mathcal H}'\n",
    "    '\\braa': '{\\langle #1|}'\n",
    "    '\\ket': '{|#1\\rangle}'\n",
    "    '\\braket': '{\\langle #1|#2\\rangle}'\n",
    "    '\\ketbra': '{|#1\\rangle\\langle #2|}'\n",
    "    '\\tr': '{\\rm tr}'\n",
    "    '\\R': '{\\mathbb R}' \n",
    "    '\\C': '{\\mathbb C}'\n",
    "    '\\V': '{V}'\n",
    "---"
   ]
  },
  {
   "cell_type": "markdown",
   "id": "473db2d0-c360-4cc5-8375-746888d17e83",
   "metadata": {},
   "source": [
    "```{figure} ../thumbnails/myThumbnail.png\n",
    ":align: center\n",
    "```"
   ]
  },
  {
   "cell_type": "markdown",
   "id": "51ef8d75",
   "metadata": {
    "slideshow": {
     "slide_type": "skip"
    }
   },
   "source": [
    "## Funciones de Operadores"
   ]
  },
  {
   "cell_type": "markdown",
   "id": "155a3d8b-f215-41fa-ac90-3a43fe37ff38",
   "metadata": {},
   "source": [
    "```{contents}\n",
    ":local:\n",
    ":depth: 2\n",
    "```"
   ]
  },
  {
   "cell_type": "code",
   "execution_count": 2,
   "id": "c7bd5d4c",
   "metadata": {
    "slideshow": {
     "slide_type": "-"
    }
   },
   "outputs": [],
   "source": [
    "import sys\n",
    "sys.path.append('../')\n",
    "import macro_tQ as tQ\n",
    "\n",
    "import numpy as np\n",
    "import scipy.linalg as la\n",
    "from IPython.display import display,Markdown,Latex\n",
    "import matplotlib.pyplot as plt\n",
    "from qiskit.tools.visualization import array_to_latex"
   ]
  },
  {
   "cell_type": "markdown",
   "id": "aa9d95a8",
   "metadata": {
    "slideshow": {
     "slide_type": "skip"
    }
   },
   "source": [
    "### Funciones analíticas de operadores\n",
    "\n",
    "Estamos acostumbrados a escribir funciones *de una variable real o compleja*. Por ejemplo $f(x)= x^2$, ó, $ f(z) = e^z$. \n",
    "\n",
    "Querríamos dar sentido a una función *de un operador* \n",
    "$\n",
    "A \\to f(A)\n",
    "$"
   ]
  },
  {
   "cell_type": "markdown",
   "id": "4e00bc7d",
   "metadata": {
    "slideshow": {
     "slide_type": "skip"
    }
   },
   "source": [
    "En el caso de que $f(z)$ sea una función analítica expresable como una serie de Taylor en torno a $x=0$ \n",
    "\n",
    "$$\n",
    "f(z) = \\sum_{n=0}^\\infty \\frac{1}{n!} f^{(n)}(0)\\,  z^n\n",
    "$$\n",
    "\n",
    "tomaremos como **definición** la *misma serie* cambiando el argumento $x\\to A$\n",
    "\n",
    "$$\n",
    "f(A) = \\sum_{n=0}^\\infty \\frac{1}{n!} f^{(n)}(0)\\,  A^n\n",
    "$$\n",
    "\n"
   ]
  },
  {
   "cell_type": "markdown",
   "id": "62e4b9f2",
   "metadata": {
    "slideshow": {
     "slide_type": "skip"
    }
   },
   "source": [
    "<b>Notar:</b> \n",
    " $~$ de la misma forma que, para funciones analíticas $f(z)^* = f(z^*)$, también la definición anterior asegura que \n",
    "$f(A)^\\dagger = f(A^\\dagger)$\n",
    "\n",
    "\n"
   ]
  },
  {
   "cell_type": "markdown",
   "id": "2c21b232",
   "metadata": {
    "slideshow": {
     "slide_type": "skip"
    }
   },
   "source": [
    "### La exponenciación de un operador \n",
    "\n",
    "Sea $A\\in \\Lin(\\Hil)$, definimos la exponencial $e^A$ mediante la serie de Taylor usual\n",
    "\n",
    "$$\n",
    "\\exp(A) = e^A \\equiv  I + A + \\frac{1}{2} A^2 + \\frac{1}{3!} A^3 + ...\n",
    "$$\n"
   ]
  },
  {
   "cell_type": "code",
   "execution_count": 137,
   "id": "16f42fcc",
   "metadata": {},
   "outputs": [
    {
     "data": {
      "text/latex": [
       "$$\n",
       "\n",
       "\\begin{bmatrix}\n",
       "1.21231 + 0.03374 i & 0.32278 + 0.07788 i  \\\\\n",
       " 0.01783 + 0.20924 i & 0.88062 - 0.14876 i  \\\\\n",
       " \\end{bmatrix}\n",
       "$$"
      ],
      "text/plain": [
       "<IPython.core.display.Latex object>"
      ]
     },
     "metadata": {},
     "output_type": "display_data"
    },
    {
     "data": {
      "text/latex": [
       "$$\n",
       "\n",
       "\\begin{bmatrix}\n",
       "1.21233 + 0.03367 i & 0.3225 + 0.0775 i  \\\\\n",
       " 0.018 + 0.209 i & 0.88083 - 0.14833 i  \\\\\n",
       " \\end{bmatrix}\n",
       "$$"
      ],
      "text/plain": [
       "<IPython.core.display.Latex object>"
      ]
     },
     "execution_count": 137,
     "metadata": {},
     "output_type": "execute_result"
    }
   ],
   "source": [
    "' para exponenciar matrices es recomendable la función expm de la libreria scipy.linalg'\n",
    "\n",
    "from scipy.linalg import expm\n",
    "from numpy.linalg import matrix_power\n",
    "import math\n",
    "\n",
    "A = 0.1*np.matrix([[2,3+1j],[2j,-1-2j]])\n",
    "\n",
    "display(array_to_latex(np.around(expm(A),5)))\n",
    "\n",
    "' podemos comparar con la serie de Taylor a tercer orden'\n",
    "array_to_latex(np.round(matrix_power(A,0)  + matrix_power(A,1)  + 1./2.*matrix_power(A,2)  + 1./math.factorial(3)*matrix_power(A,3),5))"
   ]
  },
  {
   "cell_type": "markdown",
   "id": "fa8d5592",
   "metadata": {
    "slideshow": {
     "slide_type": "skip"
    }
   },
   "source": [
    "Una propiedad importante de la función exponencial es  $e^xe^y = e^{x+y}$. La propiedad análoga para operadores *sólo es cierta cuando conmutan entre sí*.  Para el caso genérico tenemos dos opciones"
   ]
  },
  {
   "cell_type": "markdown",
   "id": "12437f56",
   "metadata": {
    "slideshow": {
     "slide_type": "skip"
    }
   },
   "source": [
    "**Teorema de Baker-Campbel-Haussdorf**\n",
    "\n",
    "><b> Teorema: </b> \n",
    "<br>\n",
    "Sean $A,B\\subset{\\rm L}(\\Hil)$ dos operadores lineales genéricos. Entonces\n",
    "<br>\n",
    "<br>\n",
    "$$\n",
    "e^A e^B = e^{\\left({A+B + \\frac{1}{2}[A,B] + \\frac{1}{12}[A,[A,B]]+ \\frac{1}{12}[B,[B,A]] + ...}\\right)}\n",
    "$$\n"
   ]
  },
  {
   "cell_type": "markdown",
   "id": "56c416cd",
   "metadata": {
    "slideshow": {
     "slide_type": "skip"
    }
   },
   "source": [
    "Vemos que\n",
    "\n",
    "-  Si $A$ y $B$ conmutan, \n",
    "\n",
    "$$[A,B]=0 ~\\Leftrightarrow ~e^A e^B = e^{A+B}$$\n"
   ]
  },
  {
   "cell_type": "markdown",
   "id": "23c58118",
   "metadata": {
    "slideshow": {
     "slide_type": "skip"
    }
   },
   "source": [
    "\n",
    "-  Si el conmutador de $A$ y $B$  es un c-número \n",
    "\n",
    "$$[A,B]= c I  ~\\Leftrightarrow ~  e^A e^B = e^{A+B + \\frac{c}{2}}$$\n",
    "\n"
   ]
  },
  {
   "cell_type": "markdown",
   "id": "a564ddc4",
   "metadata": {
    "slideshow": {
     "slide_type": "skip"
    }
   },
   "source": [
    "\n",
    "-  El inverso de $e^A$ es $e^{-A}$.$~$ Efectivamente, como \n",
    "\n",
    "$$[A,A]=0 \\Rightarrow e^A e^{-A} = e^{A-A} = e^0 = I$$"
   ]
  },
  {
   "cell_type": "markdown",
   "id": "8663ed51",
   "metadata": {
    "slideshow": {
     "slide_type": "skip"
    }
   },
   "source": [
    "**Teorema de Lie-Suzuki-Trotter**\n",
    "\n",
    "><b> Teorema: </b> \n",
    "<br>\n",
    "Sean $A,B\\subset{\\rm L}(\\Hil)$ dos operadores lineales genéricos. Entonces\n",
    "<br>\n",
    "<br>\n",
    "$$\n",
    "e^{A+B} = \\lim_{n\\to\\infty} \\left(e^{{A/n}} e^{B/n}\\right)^n\n",
    "$$\n",
    "\n",
    "Esta segunda opción es de uso muy frecuente en el contexto de la *simulación cuántica*. "
   ]
  },
  {
   "cell_type": "markdown",
   "id": "a7f20249",
   "metadata": {
    "slideshow": {
     "slide_type": "skip"
    }
   },
   "source": [
    "**Relación entre operadores hermíticos y unitarios**\n",
    "\n",
    ">**Teorema:** todo operador unitario $U$ se puede expresar como la exponencial imaginaria de un operador hermítico $H$\n",
    "<br>\n",
    "<br>\n",
    "$$\n",
    "U = e^{i H}\n",
    "$$\n",
    "\n",
    "Efectivamente, \n",
    "\n",
    "$$U^\\dagger = \\left(e^{i H}\\right)^\\dagger = e^{-i H^\\dagger} = e^{-i H}=U^{-1}$$ \n",
    "\n",
    "por tanto, $U$ es unitario si y sólo si $H$ es hermítico.\n",
    "<br>\n",
    "<br>\n",
    "<details>\n",
    "<summary><p > >>$~$ <i>Detalles:</i> </p></summary>\n",
    "\\begin{eqnarray}\n",
    "U^\\dagger &=& \\left( e^{iH}\\right)^\\dagger = \\left( 1+ iH + \\frac{1}{2}(i H)^2 + ...\\right)^\\dagger \\\\\n",
    "&=& 1 - iH^\\dagger  + \\frac{1}{2}(-i)^2 (H^2)^\\dagger + ... \\\\\n",
    "&=& 1 - iH +\\frac{1}{2} H^2 - ... \\\\\n",
    "&=& e^{-iH}\\\\ \\rule{0mm}{6mm}\n",
    "&=& U^{-1}\n",
    "\\end{eqnarray}\n",
    "</details>"
   ]
  },
  {
   "cell_type": "markdown",
   "id": "d7ee870c",
   "metadata": {
    "slideshow": {
     "slide_type": "slide"
    }
   },
   "source": [
    "### Funciones  generales "
   ]
  },
  {
   "cell_type": "markdown",
   "id": "e4938f30",
   "metadata": {
    "slideshow": {
     "slide_type": "skip"
    }
   },
   "source": [
    "No siempre $f(z)$ admite una expansión en serie de Taylor. Por ejemplo $f(z) = \\exp(1/z)$ en torno a $z=0$ no es analítica.\n",
    "\n",
    "En estos casos, el operador $f(A)$ existe, pero para construirlo es necesario recurrir a la *forma diagonalizada*\n"
   ]
  },
  {
   "cell_type": "markdown",
   "id": "035b46d8",
   "metadata": {
    "slideshow": {
     "slide_type": "-"
    }
   },
   "source": [
    "\n",
    "><b> Teorema: </b> $~$   Sea $A$ un operador diagonalizable, y sea $A= \\sum_i \\lambda_i \\ket{\\lambda_i}\\bra{\\lambda_i}$ su representación espectral. \n",
    "<br>\n",
    "Entonces el operador $f(A)$ tiene la representación espectral siguiente\n",
    "<br>    \n",
    "$$\n",
    "f(A) = \\sum_i f(\\lambda_i) \\ket{\\lambda_i}\\bra{\\lambda_i}\n",
    "$$\n",
    "\n",
    "En particular, la matriz asociada a $f(A)$ en la base $\\{\\ket{\\lambda_i}\\}$ que diagonaliza $A^{(D)}_{ij}$ \n",
    "es la diagonal de los elementos $f(\\lambda_i)$ de los autovalores\n",
    "\n",
    "$$\n",
    "f(A^{(D)}_{ij}) = \\begin{bmatrix} f(\\lambda_1)& &  & \\\\ & f(\\lambda_2) & &  \\\\ & & \\ddots & \\\\ & & & f(\\lambda_n)\n",
    "\\end{bmatrix}\n",
    "$$"
   ]
  },
  {
   "cell_type": "markdown",
   "id": "e200cce0",
   "metadata": {
    "slideshow": {
     "slide_type": "slide"
    }
   },
   "source": [
    "><b>Ejemplo 1:</b>    \n",
    "$$f(A) = e^{1/A} = \\sum_i e^{1/\\lambda_i} \\ket{\\lambda_i}\\bra{\\lambda_i}$$\n",
    "\n"
   ]
  },
  {
   "cell_type": "markdown",
   "id": "76a06109",
   "metadata": {
    "slideshow": {
     "slide_type": "slide"
    }
   },
   "source": [
    "><b>Ejemplo 2:</b>    \n",
    "\\begin{eqnarray}\n",
    "f(A) = {\\rm tr}(A \\log A) &=& {\\rm tr}\\left[\\left(\\sum_j \\lambda_j \\ket{\\lambda_j}\\bra{\\lambda_j}\\right)\\left(\\sum_k\\log \\lambda_k \\ket{\\lambda_k}\\bra{\\lambda_k}\\right)\\right] ~=~  {\\rm tr}\\left[\\sum_k \\lambda_k \\log\\lambda_k \\ket{\\lambda_k}\\bra{\\lambda_k} \\right] \\\\ \\rule{0mm}{20mm}\n",
    "&=& {\\rm tr} \\begin{bmatrix} \\lambda_1 \\log \\lambda_1& &  & \\\\ &\\lambda_2 \\log \\lambda_2 & &  \\\\ & & \\ddots & \\\\ & & & \\lambda_n \\log \\lambda_n\n",
    "\\end{bmatrix}\n",
    " ~= ~ \\sum_k \\lambda_k \\log \\lambda_k \\rule{0mm}{8mm}\n",
    "\\end{eqnarray}\n"
   ]
  }
 ],
 "metadata": {
  "celltoolbar": "Slideshow",
  "kernelspec": {
   "display_name": "Python 3 (ipykernel)",
   "language": "python",
   "name": "python3"
  },
  "language_info": {
   "codemirror_mode": {
    "name": "ipython",
    "version": 3
   },
   "file_extension": ".py",
   "mimetype": "text/x-python",
   "name": "python",
   "nbconvert_exporter": "python",
   "pygments_lexer": "ipython3",
   "version": "3.10.13"
  },
  "toc": {
   "base_numbering": 1,
   "nav_menu": {},
   "number_sections": true,
   "sideBar": true,
   "skip_h1_title": false,
   "title_cell": "Table of Contents",
   "title_sidebar": "Contents",
   "toc_cell": false,
   "toc_position": {},
   "toc_section_display": true,
   "toc_window_display": false
  },
  "varInspector": {
   "cols": {
    "lenName": 16,
    "lenType": 16,
    "lenVar": 40
   },
   "kernels_config": {
    "python": {
     "delete_cmd_postfix": "",
     "delete_cmd_prefix": "del ",
     "library": "var_list.py",
     "varRefreshCmd": "print(var_dic_list())"
    },
    "r": {
     "delete_cmd_postfix": ") ",
     "delete_cmd_prefix": "rm(",
     "library": "var_list.r",
     "varRefreshCmd": "cat(var_dic_list()) "
    }
   },
   "types_to_exclude": [
    "module",
    "function",
    "builtin_function_or_method",
    "instance",
    "_Feature"
   ],
   "window_display": false
  }
 },
 "nbformat": 4,
 "nbformat_minor": 5
}
