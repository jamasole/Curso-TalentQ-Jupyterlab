{
 "cells": [
  {
   "cell_type": "code",
   "execution_count": 1,
   "id": "ad3f84e1",
   "metadata": {},
   "outputs": [
    {
     "ename": "ModuleNotFoundError",
     "evalue": "No module named 'qibo'",
     "output_type": "error",
     "traceback": [
      "\u001b[0;31m---------------------------------------------------------------------------\u001b[0m",
      "\u001b[0;31mModuleNotFoundError\u001b[0m                       Traceback (most recent call last)",
      "Cell \u001b[0;32mIn[1], line 2\u001b[0m\n\u001b[1;32m      1\u001b[0m \u001b[38;5;28;01mimport\u001b[39;00m \u001b[38;5;21;01mnumpy\u001b[39;00m \u001b[38;5;28;01mas\u001b[39;00m \u001b[38;5;21;01mnp\u001b[39;00m\n\u001b[0;32m----> 2\u001b[0m \u001b[38;5;28;01mimport\u001b[39;00m \u001b[38;5;21;01mqibo\u001b[39;00m\n\u001b[1;32m      3\u001b[0m \u001b[38;5;28;01mimport\u001b[39;00m \u001b[38;5;21;01mmatplotlib\u001b[39;00m\u001b[38;5;21;01m.\u001b[39;00m\u001b[38;5;21;01mpyplot\u001b[39;00m \u001b[38;5;28;01mas\u001b[39;00m \u001b[38;5;21;01mplt\u001b[39;00m\n\u001b[1;32m      4\u001b[0m \u001b[38;5;28;01mfrom\u001b[39;00m \u001b[38;5;21;01mqibo\u001b[39;00m \u001b[38;5;28;01mimport\u001b[39;00m callbacks, gates, hamiltonians, models\n",
      "\u001b[0;31mModuleNotFoundError\u001b[0m: No module named 'qibo'"
     ]
    }
   ],
   "source": [
    "> {sub-ref}`today` | {sub-ref}`wordcount-minutes` min read\n",
    "\n",
    "import numpy as np\n",
    "import qibo\n",
    "import matplotlib.pyplot as plt\n",
    "from qibo import callbacks, gates, hamiltonians, models\n",
    "from qibo.symbols import Y, Z, I\n",
    "from sklearn.datasets import make_moons\n",
    "from qibo.models import Circuit\n",
    "\n",
    "import tensorflow as tf\n",
    "qibo.set_backend(\"tensorflow\")"
   ]
  },
  {
   "cell_type": "code",
   "execution_count": 2,
   "id": "1d503161",
   "metadata": {},
   "outputs": [],
   "source": [
    "num_q=7"
   ]
  },
  {
   "cell_type": "code",
   "execution_count": 3,
   "id": "fa510163",
   "metadata": {},
   "outputs": [],
   "source": [
    "def Basis_encoding(x, nqubits= 2):\n",
    "    c= Circuit(nqubits=nqubits)\n",
    "    \n",
    "    for i in range(nqubits):\n",
    "        if x[i]==1:\n",
    "            c.add(gates.X(q=i))\n",
    "    return c"
   ]
  },
  {
   "cell_type": "code",
   "execution_count": 4,
   "id": "a002f679",
   "metadata": {},
   "outputs": [
    {
     "ename": "NameError",
     "evalue": "name 'Circuit' is not defined",
     "output_type": "error",
     "traceback": [
      "\u001b[0;31m---------------------------------------------------------------------------\u001b[0m",
      "\u001b[0;31mNameError\u001b[0m                                 Traceback (most recent call last)",
      "Cell \u001b[0;32mIn[4], line 2\u001b[0m\n\u001b[1;32m      1\u001b[0m x \u001b[38;5;241m=\u001b[39m np\u001b[38;5;241m.\u001b[39marray([\u001b[38;5;241m1\u001b[39m,\u001b[38;5;241m1\u001b[39m,\u001b[38;5;241m1\u001b[39m,\u001b[38;5;241m1\u001b[39m,\u001b[38;5;241m0\u001b[39m,\u001b[38;5;241m1\u001b[39m,\u001b[38;5;241m1\u001b[39m])\n\u001b[0;32m----> 2\u001b[0m c_b\u001b[38;5;241m=\u001b[39m\u001b[43mBasis_encoding\u001b[49m\u001b[43m(\u001b[49m\u001b[43mx\u001b[49m\u001b[43m,\u001b[49m\u001b[43mnum_q\u001b[49m\u001b[43m)\u001b[49m\n\u001b[1;32m      5\u001b[0m \u001b[38;5;28mprint\u001b[39m(\u001b[38;5;124m\"\u001b[39m\u001b[38;5;124mx               : \u001b[39m\u001b[38;5;124m\"\u001b[39m, x)\n\u001b[1;32m      6\u001b[0m \u001b[38;5;28mprint\u001b[39m(\u001b[38;5;124m\"\u001b[39m\u001b[38;5;124mamplitude vector: \u001b[39m\u001b[38;5;124m\"\u001b[39m, np\u001b[38;5;241m.\u001b[39marray(c_b\u001b[38;5;241m.\u001b[39mexecute()\u001b[38;5;241m.\u001b[39mstate()))\n",
      "Cell \u001b[0;32mIn[3], line 2\u001b[0m, in \u001b[0;36mBasis_encoding\u001b[0;34m(x, nqubits)\u001b[0m\n\u001b[1;32m      1\u001b[0m \u001b[38;5;28;01mdef\u001b[39;00m \u001b[38;5;21mBasis_encoding\u001b[39m(x, nqubits\u001b[38;5;241m=\u001b[39m \u001b[38;5;241m2\u001b[39m):\n\u001b[0;32m----> 2\u001b[0m     c\u001b[38;5;241m=\u001b[39m \u001b[43mCircuit\u001b[49m(nqubits\u001b[38;5;241m=\u001b[39mnqubits)\n\u001b[1;32m      4\u001b[0m     \u001b[38;5;28;01mfor\u001b[39;00m i \u001b[38;5;129;01min\u001b[39;00m \u001b[38;5;28mrange\u001b[39m(nqubits):\n\u001b[1;32m      5\u001b[0m         \u001b[38;5;28;01mif\u001b[39;00m x[i]\u001b[38;5;241m==\u001b[39m\u001b[38;5;241m1\u001b[39m:\n",
      "\u001b[0;31mNameError\u001b[0m: name 'Circuit' is not defined"
     ]
    }
   ],
   "source": [
    "x = np.array([1,1,1,1,0,1,1])\n",
    "c_b=Basis_encoding(x,num_q)\n",
    "\n",
    "\n",
    "print(\"x               : \", x)\n",
    "print(\"amplitude vector: \", np.array(c_b.execute().state()))\n",
    "print(c_b.draw())"
   ]
  },
  {
   "cell_type": "code",
   "execution_count": 5,
   "id": "ec590d73",
   "metadata": {},
   "outputs": [],
   "source": [
    "num_q=2"
   ]
  },
  {
   "cell_type": "code",
   "execution_count": 6,
   "id": "d71ce60d",
   "metadata": {},
   "outputs": [],
   "source": [
    "def Normalize(x):\n",
    "    N=np.linalg.norm(x)\n",
    "    return 1/N*x"
   ]
  },
  {
   "cell_type": "code",
   "execution_count": 7,
   "id": "090be5c4",
   "metadata": {},
   "outputs": [
    {
     "ename": "NameError",
     "evalue": "name 'Circuit' is not defined",
     "output_type": "error",
     "traceback": [
      "\u001b[0;31m---------------------------------------------------------------------------\u001b[0m",
      "\u001b[0;31mNameError\u001b[0m                                 Traceback (most recent call last)",
      "Cell \u001b[0;32mIn[7], line 4\u001b[0m\n\u001b[1;32m      2\u001b[0m \u001b[38;5;66;03m#We normalize x\u001b[39;00m\n\u001b[1;32m      3\u001b[0m x_norm\u001b[38;5;241m=\u001b[39mNormalize(x)\n\u001b[0;32m----> 4\u001b[0m c_a \u001b[38;5;241m=\u001b[39m \u001b[43mCircuit\u001b[49m(num_q)\n\u001b[1;32m      6\u001b[0m \u001b[38;5;28mprint\u001b[39m(\u001b[38;5;124m\"\u001b[39m\u001b[38;5;124mx               : \u001b[39m\u001b[38;5;124m\"\u001b[39m, x)\n\u001b[1;32m      7\u001b[0m \u001b[38;5;28mprint\u001b[39m(\u001b[38;5;124m\"\u001b[39m\u001b[38;5;124mamplitude vector: \u001b[39m\u001b[38;5;124m\"\u001b[39m, np\u001b[38;5;241m.\u001b[39marray(c_a(x_norm,nshots\u001b[38;5;241m=\u001b[39m\u001b[38;5;241m10000\u001b[39m)\u001b[38;5;241m.\u001b[39mstate()))\n",
      "\u001b[0;31mNameError\u001b[0m: name 'Circuit' is not defined"
     ]
    }
   ],
   "source": [
    "x = np.array([0,1,2,3])\n",
    "#We normalize x\n",
    "x_norm=Normalize(x)\n",
    "c_a = Circuit(num_q)\n",
    "\n",
    "print(\"x               : \", x)\n",
    "print(\"amplitude vector: \", np.array(c_a(x_norm,nshots=10000).state()))\n",
    "print(c_a.draw())"
   ]
  },
  {
   "cell_type": "code",
   "execution_count": 8,
   "id": "a327651f",
   "metadata": {},
   "outputs": [],
   "source": [
    "num_q=4"
   ]
  },
  {
   "cell_type": "code",
   "execution_count": 9,
   "id": "4903ea8d",
   "metadata": {},
   "outputs": [],
   "source": [
    "def Angle(x,nqubits):\n",
    "    c= Circuit(nqubits=nqubits)\n",
    "    \n",
    "    for i in range(nqubits):\n",
    "        c.add(gates.RX(q=i,theta=x[i]))\n",
    "    return c"
   ]
  },
  {
   "cell_type": "code",
   "execution_count": 10,
   "id": "7f22817e",
   "metadata": {},
   "outputs": [
    {
     "ename": "NameError",
     "evalue": "name 'Circuit' is not defined",
     "output_type": "error",
     "traceback": [
      "\u001b[0;31m---------------------------------------------------------------------------\u001b[0m",
      "\u001b[0;31mNameError\u001b[0m                                 Traceback (most recent call last)",
      "Cell \u001b[0;32mIn[10], line 3\u001b[0m\n\u001b[1;32m      1\u001b[0m x \u001b[38;5;241m=\u001b[39m np\u001b[38;5;241m.\u001b[39marray([\u001b[38;5;241m0\u001b[39m,\u001b[38;5;241m1\u001b[39m,\u001b[38;5;241m2\u001b[39m,\u001b[38;5;241m3\u001b[39m])\n\u001b[0;32m----> 3\u001b[0m c_an\u001b[38;5;241m=\u001b[39m\u001b[43mAngle\u001b[49m\u001b[43m(\u001b[49m\u001b[43mx\u001b[49m\u001b[43m,\u001b[49m\u001b[43mnum_q\u001b[49m\u001b[43m)\u001b[49m\n\u001b[1;32m      5\u001b[0m \u001b[38;5;28mprint\u001b[39m(\u001b[38;5;124m\"\u001b[39m\u001b[38;5;124mx               : \u001b[39m\u001b[38;5;124m\"\u001b[39m, x)\n\u001b[1;32m      6\u001b[0m \u001b[38;5;28mprint\u001b[39m(\u001b[38;5;124m\"\u001b[39m\u001b[38;5;124mamplitude vector: \u001b[39m\u001b[38;5;124m\"\u001b[39m, np\u001b[38;5;241m.\u001b[39marray(c_an\u001b[38;5;241m.\u001b[39mexecute()\u001b[38;5;241m.\u001b[39mstate()))\n",
      "Cell \u001b[0;32mIn[9], line 2\u001b[0m, in \u001b[0;36mAngle\u001b[0;34m(x, nqubits)\u001b[0m\n\u001b[1;32m      1\u001b[0m \u001b[38;5;28;01mdef\u001b[39;00m \u001b[38;5;21mAngle\u001b[39m(x,nqubits):\n\u001b[0;32m----> 2\u001b[0m     c\u001b[38;5;241m=\u001b[39m \u001b[43mCircuit\u001b[49m(nqubits\u001b[38;5;241m=\u001b[39mnqubits)\n\u001b[1;32m      4\u001b[0m     \u001b[38;5;28;01mfor\u001b[39;00m i \u001b[38;5;129;01min\u001b[39;00m \u001b[38;5;28mrange\u001b[39m(nqubits):\n\u001b[1;32m      5\u001b[0m         c\u001b[38;5;241m.\u001b[39madd(gates\u001b[38;5;241m.\u001b[39mRX(q\u001b[38;5;241m=\u001b[39mi,theta\u001b[38;5;241m=\u001b[39mx[i]))\n",
      "\u001b[0;31mNameError\u001b[0m: name 'Circuit' is not defined"
     ]
    }
   ],
   "source": [
    "x = np.array([0,1,2,3])\n",
    "\n",
    "c_an=Angle(x,num_q)\n",
    "\n",
    "print(\"x               : \", x)\n",
    "print(\"amplitude vector: \", np.array(c_an.execute().state()))\n",
    "print(c_an.draw())"
   ]
  },
  {
   "cell_type": "code",
   "execution_count": 11,
   "id": "f708c7e6",
   "metadata": {},
   "outputs": [],
   "source": [
    "num_q=2"
   ]
  },
  {
   "cell_type": "code",
   "execution_count": 12,
   "id": "791fd6b3",
   "metadata": {},
   "outputs": [],
   "source": [
    "def denseAngle(x,nqubits):\n",
    "    c= Circuit(nqubits=nqubits)\n",
    "    \n",
    "    for i in range(nqubits):\n",
    "        c.add(gates.RX(q=i,theta=x[i]))\n",
    "        c.add(gates.RZ(q=i,theta=x[i+1]))\n",
    "    return c"
   ]
  },
  {
   "cell_type": "code",
   "execution_count": 13,
   "id": "a25d68d2",
   "metadata": {},
   "outputs": [
    {
     "ename": "NameError",
     "evalue": "name 'Circuit' is not defined",
     "output_type": "error",
     "traceback": [
      "\u001b[0;31m---------------------------------------------------------------------------\u001b[0m",
      "\u001b[0;31mNameError\u001b[0m                                 Traceback (most recent call last)",
      "Cell \u001b[0;32mIn[13], line 3\u001b[0m\n\u001b[1;32m      1\u001b[0m x \u001b[38;5;241m=\u001b[39m np\u001b[38;5;241m.\u001b[39marray([\u001b[38;5;241m0\u001b[39m,\u001b[38;5;241m1\u001b[39m,\u001b[38;5;241m2\u001b[39m,\u001b[38;5;241m3\u001b[39m])\n\u001b[0;32m----> 3\u001b[0m c_dan\u001b[38;5;241m=\u001b[39m\u001b[43mdenseAngle\u001b[49m\u001b[43m(\u001b[49m\u001b[43mx\u001b[49m\u001b[43m,\u001b[49m\u001b[43mnum_q\u001b[49m\u001b[43m)\u001b[49m\n\u001b[1;32m      5\u001b[0m \u001b[38;5;28mprint\u001b[39m(\u001b[38;5;124m\"\u001b[39m\u001b[38;5;124mx               : \u001b[39m\u001b[38;5;124m\"\u001b[39m, x)\n\u001b[1;32m      6\u001b[0m \u001b[38;5;28mprint\u001b[39m(\u001b[38;5;124m\"\u001b[39m\u001b[38;5;124mamplitude vector: \u001b[39m\u001b[38;5;124m\"\u001b[39m, np\u001b[38;5;241m.\u001b[39marray(c_dan\u001b[38;5;241m.\u001b[39mexecute()\u001b[38;5;241m.\u001b[39mstate()))\n",
      "Cell \u001b[0;32mIn[12], line 2\u001b[0m, in \u001b[0;36mdenseAngle\u001b[0;34m(x, nqubits)\u001b[0m\n\u001b[1;32m      1\u001b[0m \u001b[38;5;28;01mdef\u001b[39;00m \u001b[38;5;21mdenseAngle\u001b[39m(x,nqubits):\n\u001b[0;32m----> 2\u001b[0m     c\u001b[38;5;241m=\u001b[39m \u001b[43mCircuit\u001b[49m(nqubits\u001b[38;5;241m=\u001b[39mnqubits)\n\u001b[1;32m      4\u001b[0m     \u001b[38;5;28;01mfor\u001b[39;00m i \u001b[38;5;129;01min\u001b[39;00m \u001b[38;5;28mrange\u001b[39m(nqubits):\n\u001b[1;32m      5\u001b[0m         c\u001b[38;5;241m.\u001b[39madd(gates\u001b[38;5;241m.\u001b[39mRX(q\u001b[38;5;241m=\u001b[39mi,theta\u001b[38;5;241m=\u001b[39mx[i]))\n",
      "\u001b[0;31mNameError\u001b[0m: name 'Circuit' is not defined"
     ]
    }
   ],
   "source": [
    "x = np.array([0,1,2,3])\n",
    "\n",
    "c_dan=denseAngle(x,num_q)\n",
    "\n",
    "print(\"x               : \", x)\n",
    "print(\"amplitude vector: \", np.array(c_dan.execute().state()))\n",
    "print(c_dan.draw())"
   ]
  }
 ],
 "metadata": {
  "authors": [
   {
    "affiliations": [
     "IGFAE-USC"
    ],
    "corresponding": true,
    "email": "javier.mas@usc.es",
    "name": "Javier Mas",
    "orcid": "0000-0001-7008-2126"
   },
   {
    "affiliations": [
     "UMA"
    ],
    "corresponding": true,
    "email": "david.castano@uma.es",
    "name": "David Castaño",
    "orcid": "0000-0001-7008-2126"
   }
  ],
  "github": "https://github.com/jamasole/Curso-TalentQ-Jupyterlab",
  "jupytext": {
   "text_representation": {
    "extension": ".md",
    "format_name": "myst",
    "format_version": 0.13,
    "jupytext_version": "1.16.1"
   }
  },
  "kernelspec": {
   "display_name": "Python 3 (ipykernel)",
   "language": "python",
   "name": "python3"
  },
  "language_info": {
   "codemirror_mode": {
    "name": "ipython",
    "version": 3
   },
   "file_extension": ".py",
   "mimetype": "text/x-python",
   "name": "python",
   "nbconvert_exporter": "python",
   "pygments_lexer": "ipython3",
   "version": "3.12.1"
  },
  "license": "CC-BY-4.0",
  "math": {
   "\\C": "{\\mathbb C}",
   "\\Hil": "{\\mathcal H}",
   "\\Lin": "\\rm L",
   "\\O": "{\\mathcal O}",
   "\\R": "{\\mathbb R}",
   "\\V": "{\\cal V}",
   "\\bes": "\\begin{equation*}",
   "\\braa": "{\\langle #1|}",
   "\\braket": "{\\langle #1|#2\\rangle}",
   "\\ees": "\\end{equation*}",
   "\\i": "{\\color{blue} i}",
   "\\ket": "{|#1\\rangle}",
   "\\ketbra": "{|#1\\rangle\\langle #2|}",
   "\\tr": "{\\rm tr}"
  },
  "source_map": [
   44,
   60,
   66,
   71,
   75,
   86,
   90,
   95,
   104,
   109,
   114,
   122,
   129,
   133,
   143,
   151,
   156,
   165,
   172,
   176,
   180,
   186,
   195,
   199,
   204,
   228,
   235,
   239,
   248,
   256,
   261,
   271,
   278,
   282,
   292,
   300,
   304,
   309,
   315,
   322,
   326,
   330,
   344,
   357
  ],
  "subject": "Curso",
  "venue": "Quantum Spain"
 },
 "nbformat": 4,
 "nbformat_minor": 5
}