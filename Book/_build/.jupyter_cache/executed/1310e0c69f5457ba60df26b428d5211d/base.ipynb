{
 "cells": [
  {
   "cell_type": "code",
   "execution_count": 1,
   "id": "4bbc20ba",
   "metadata": {
    "slideshow": {
     "slide_type": "-"
    }
   },
   "outputs": [
    {
     "ename": "ModuleNotFoundError",
     "evalue": "No module named 'macro_tQ'",
     "output_type": "error",
     "traceback": [
      "\u001b[0;31m---------------------------------------------------------------------------\u001b[0m",
      "\u001b[0;31mModuleNotFoundError\u001b[0m                       Traceback (most recent call last)",
      "Cell \u001b[0;32mIn[1], line 3\u001b[0m\n\u001b[1;32m      1\u001b[0m \u001b[38;5;28;01mimport\u001b[39;00m \u001b[38;5;21;01msys\u001b[39;00m\n\u001b[1;32m      2\u001b[0m sys\u001b[38;5;241m.\u001b[39mpath\u001b[38;5;241m.\u001b[39mappend(\u001b[38;5;124m'\u001b[39m\u001b[38;5;124m../\u001b[39m\u001b[38;5;124m'\u001b[39m)\n\u001b[0;32m----> 3\u001b[0m \u001b[38;5;28;01mimport\u001b[39;00m \u001b[38;5;21;01mmacro_tQ\u001b[39;00m \u001b[38;5;28;01mas\u001b[39;00m \u001b[38;5;21;01mtQ\u001b[39;00m\n\u001b[1;32m      5\u001b[0m \u001b[38;5;28;01mimport\u001b[39;00m \u001b[38;5;21;01mnumpy\u001b[39;00m \u001b[38;5;28;01mas\u001b[39;00m \u001b[38;5;21;01mnp\u001b[39;00m\n\u001b[1;32m      6\u001b[0m \u001b[38;5;28;01mimport\u001b[39;00m \u001b[38;5;21;01mscipy\u001b[39;00m\u001b[38;5;21;01m.\u001b[39;00m\u001b[38;5;21;01mlinalg\u001b[39;00m \u001b[38;5;28;01mas\u001b[39;00m \u001b[38;5;21;01mla\u001b[39;00m\n",
      "\u001b[0;31mModuleNotFoundError\u001b[0m: No module named 'macro_tQ'"
     ]
    }
   ],
   "source": [
    "import sys\n",
    "sys.path.append('../')\n",
    "import macro_tQ as tQ\n",
    "\n",
    "import numpy as np\n",
    "import scipy.linalg as la\n",
    "from IPython.display import display,Markdown,Latex\n",
    "import matplotlib.pyplot as plt\n",
    "from qiskit.tools.visualization import array_to_latex"
   ]
  },
  {
   "cell_type": "code",
   "execution_count": 2,
   "id": "1314cf7a",
   "metadata": {
    "slideshow": {
     "slide_type": "skip"
    }
   },
   "outputs": [
    {
     "ename": "NameError",
     "evalue": "name 'R' is not defined",
     "output_type": "error",
     "traceback": [
      "\u001b[0;31m---------------------------------------------------------------------------\u001b[0m",
      "\u001b[0;31mNameError\u001b[0m                                 Traceback (most recent call last)",
      "Cell \u001b[0;32mIn[2], line 14\u001b[0m\n\u001b[1;32m      6\u001b[0m u2\u001b[38;5;241m=\u001b[39m\u001b[38;5;241m2.\u001b[39m\n\u001b[1;32m      8\u001b[0m \u001b[38;5;66;03m#'''v1 y v2 a partir de u1, u2 y theta'''\u001b[39;00m\n\u001b[1;32m      9\u001b[0m \u001b[38;5;66;03m#def R(u1,u2,theta):\u001b[39;00m\n\u001b[1;32m     10\u001b[0m \u001b[38;5;66;03m#        u = u1 + u2*1j\u001b[39;00m\n\u001b[1;32m     11\u001b[0m \u001b[38;5;66;03m#        v = u*np.exp(1j*theta) # u rotado un angulo theta\u001b[39;00m\n\u001b[1;32m     12\u001b[0m \u001b[38;5;66;03m#        return v.real,v.imag\u001b[39;00m\n\u001b[0;32m---> 14\u001b[0m v1,v2 \u001b[38;5;241m=\u001b[39m  \u001b[43mR\u001b[49m(u1,u2,theta)\n\u001b[1;32m     16\u001b[0m \u001b[38;5;124;03m''' Representación en el plano complejo '''\u001b[39;00m\n\u001b[1;32m     17\u001b[0m v \u001b[38;5;241m=\u001b[39m v1\u001b[38;5;241m*\u001b[39m\u001b[38;5;241m*\u001b[39m\u001b[38;5;241m2\u001b[39m\u001b[38;5;241m+\u001b[39mv2\u001b[38;5;241m*\u001b[39m\u001b[38;5;241m*\u001b[39m\u001b[38;5;241m2\u001b[39m\n",
      "\u001b[0;31mNameError\u001b[0m: name 'R' is not defined"
     ]
    }
   ],
   "source": [
    "'''ángulo que queremos rotar'''\n",
    "theta=0.6 \n",
    "\n",
    "'''vector a rotar'''\n",
    "u1=2.\n",
    "u2=2.\n",
    "\n",
    "#'''v1 y v2 a partir de u1, u2 y theta'''\n",
    "#def R(u1,u2,theta):\n",
    "#        u = u1 + u2*1j\n",
    "#        v = u*np.exp(1j*theta) # u rotado un angulo theta\n",
    "#        return v.real,v.imag\n",
    "    \n",
    "v1,v2 =  R(u1,u2,theta)\n",
    "\n",
    "''' Representación en el plano complejo '''\n",
    "v = v1**2+v2**2\n",
    "tQ.plot_2D_plane(left=-int(abs(v1))-2,right=int(abs(v1))+2,up=int(abs(v2))+1,down=-int(abs(v2))-1)\n",
    "tQ.draw_vector(u1,u1,vcolor='b')\n",
    "tQ.draw_vector(v1,v2,vcolor='r')"
   ]
  },
  {
   "cell_type": "code",
   "execution_count": 3,
   "id": "5ea3f963",
   "metadata": {},
   "outputs": [
    {
     "ename": "NameError",
     "evalue": "name 'np' is not defined",
     "output_type": "error",
     "traceback": [
      "\u001b[0;31m---------------------------------------------------------------------------\u001b[0m",
      "\u001b[0;31mNameError\u001b[0m                                 Traceback (most recent call last)",
      "Cell \u001b[0;32mIn[3], line 1\u001b[0m\n\u001b[0;32m----> 1\u001b[0m A \u001b[38;5;241m=\u001b[39m \u001b[43mnp\u001b[49m\u001b[38;5;241m.\u001b[39marray([[\u001b[38;5;241m1\u001b[39m,\u001b[38;5;241m1\u001b[39m\u001b[38;5;241m+\u001b[39m\u001b[38;5;241m2\u001b[39mj],[\u001b[38;5;241m2\u001b[39m\u001b[38;5;241m+\u001b[39m\u001b[38;5;241m3\u001b[39mj,\u001b[38;5;241m3\u001b[39m\u001b[38;5;241m-\u001b[39m\u001b[38;5;241m1\u001b[39mj]])\n\u001b[1;32m      2\u001b[0m display(array_to_latex(A))\n\u001b[1;32m      4\u001b[0m Aadj \u001b[38;5;241m=\u001b[39m A\u001b[38;5;241m.\u001b[39mT\u001b[38;5;241m.\u001b[39mconj()\n",
      "\u001b[0;31mNameError\u001b[0m: name 'np' is not defined"
     ]
    }
   ],
   "source": [
    "A = np.array([[1,1+2j],[2+3j,3-1j]])\n",
    "display(array_to_latex(A))\n",
    "\n",
    "Aadj = A.T.conj()\n",
    "display(array_to_latex(Aadj))"
   ]
  },
  {
   "cell_type": "code",
   "execution_count": 4,
   "id": "ac1488cf",
   "metadata": {
    "slideshow": {
     "slide_type": "-"
    }
   },
   "outputs": [
    {
     "ename": "ModuleNotFoundError",
     "evalue": "No module named 'macro_tQ'",
     "output_type": "error",
     "traceback": [
      "\u001b[0;31m---------------------------------------------------------------------------\u001b[0m",
      "\u001b[0;31mModuleNotFoundError\u001b[0m                       Traceback (most recent call last)",
      "Cell \u001b[0;32mIn[4], line 3\u001b[0m\n\u001b[1;32m      1\u001b[0m \u001b[38;5;28;01mimport\u001b[39;00m \u001b[38;5;21;01msys\u001b[39;00m\n\u001b[1;32m      2\u001b[0m sys\u001b[38;5;241m.\u001b[39mpath\u001b[38;5;241m.\u001b[39mappend(\u001b[38;5;124m'\u001b[39m\u001b[38;5;124m../\u001b[39m\u001b[38;5;124m'\u001b[39m)\n\u001b[0;32m----> 3\u001b[0m \u001b[38;5;28;01mimport\u001b[39;00m \u001b[38;5;21;01mmacro_tQ\u001b[39;00m \u001b[38;5;28;01mas\u001b[39;00m \u001b[38;5;21;01mtQ\u001b[39;00m\n\u001b[1;32m      5\u001b[0m \u001b[38;5;28;01mimport\u001b[39;00m \u001b[38;5;21;01mnumpy\u001b[39;00m \u001b[38;5;28;01mas\u001b[39;00m \u001b[38;5;21;01mnp\u001b[39;00m\n\u001b[1;32m      6\u001b[0m \u001b[38;5;28;01mimport\u001b[39;00m \u001b[38;5;21;01mscipy\u001b[39;00m\u001b[38;5;21;01m.\u001b[39;00m\u001b[38;5;21;01mlinalg\u001b[39;00m \u001b[38;5;28;01mas\u001b[39;00m \u001b[38;5;21;01mla\u001b[39;00m\n",
      "\u001b[0;31mModuleNotFoundError\u001b[0m: No module named 'macro_tQ'"
     ]
    }
   ],
   "source": [
    "import sys\n",
    "sys.path.append('../')\n",
    "import macro_tQ as tQ\n",
    "\n",
    "import numpy as np\n",
    "import scipy.linalg as la\n",
    "from IPython.display import display,Markdown,Latex\n",
    "import matplotlib.pyplot as plt\n",
    "from qiskit.tools.visualization import array_to_latex"
   ]
  }
 ],
 "metadata": {
  "authors": [
   {
    "affiliations": [
     "IGFAE-USC"
    ],
    "corresponding": true,
    "email": "javier.mas@usc.es",
    "name": "Javier Mas",
    "orcid": "0000-0001-7008-2126"
   },
   {
    "affiliations": [
     "UMA"
    ],
    "corresponding": true,
    "email": "david.castano@uma.es",
    "name": "David Castaño",
    "orcid": "0000-0001-7008-2126"
   }
  ],
  "github": "https://github.com/jamasole/Curso-TalentQ-Jupyterlab",
  "jupytext": {
   "text_representation": {
    "extension": ".md",
    "format_name": "myst",
    "format_version": 0.13,
    "jupytext_version": "1.15.2"
   }
  },
  "kernelspec": {
   "display_name": "Python 3 (ipykernel)",
   "language": "python",
   "name": "python3"
  },
  "language_info": {
   "codemirror_mode": {
    "name": "ipython",
    "version": 3
   },
   "file_extension": ".py",
   "mimetype": "text/x-python",
   "name": "python",
   "nbconvert_exporter": "python",
   "pygments_lexer": "ipython3",
   "version": "3.10.13"
  },
  "license": "CC-BY-4.0",
  "math": {
   "\\C": "{\\mathbb C}",
   "\\Hil": "{\\mathcal H}",
   "\\Lin": "\\rm L",
   "\\O": "{\\mathcal O}",
   "\\R": "{\\mathbb R}",
   "\\V": "{V}",
   "\\bes": "\\begin{equation*}",
   "\\braa": "{\\langle #1|}",
   "\\braket": "{\\langle #1|#2\\rangle}",
   "\\ees": "\\end{equation*}",
   "\\i": "{i}",
   "\\ket": "{|#1\\rangle}",
   "\\ketbra": "{|#1\\rangle\\langle #2|}",
   "\\tr": "{\\rm tr}"
  },
  "source_map": [
   46,
   52,
   56,
   72,
   76,
   80,
   94,
   102,
   111,
   136,
   156,
   183,
   196,
   209,
   213,
   220,
   236,
   267,
   275,
   279,
   283,
   295,
   303,
   307,
   315,
   331,
   339,
   356,
   369,
   381,
   396,
   413,
   418,
   424,
   441,
   455,
   467,
   475,
   489,
   499,
   509,
   524,
   549,
   557,
   564,
   584,
   594,
   598,
   613,
   634,
   645,
   662,
   680,
   692,
   700,
   706,
   715,
   720,
   736,
   740,
   744,
   759,
   770
  ],
  "subject": "Curso",
  "venue": "Quantum Spain"
 },
 "nbformat": 4,
 "nbformat_minor": 5
}