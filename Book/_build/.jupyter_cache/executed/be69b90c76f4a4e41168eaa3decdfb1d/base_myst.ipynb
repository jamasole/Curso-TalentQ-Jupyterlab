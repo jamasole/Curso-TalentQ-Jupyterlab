{
 "cells": [
  {
   "cell_type": "code",
   "execution_count": 1,
   "id": "c7bd5d4c",
   "metadata": {
    "slideshow": {
     "slide_type": "-"
    }
   },
   "outputs": [],
   "source": [
    "> {sub-ref}`today` | {sub-ref}`wordcount-minutes` min read\n",
    "\n",
    "import sys\n",
    "sys.path.append('../')\n",
    "import macro_tQ as tQ\n",
    "\n",
    "import numpy as np\n",
    "import scipy.linalg as la\n",
    "from IPython.display import display,Markdown,Latex\n",
    "import matplotlib.pyplot as plt\n",
    "from qiskit.tools.visualization import array_to_latex"
   ]
  },
  {
   "cell_type": "code",
   "execution_count": 2,
   "id": "42fbdbaf",
   "metadata": {
    "slideshow": {
     "slide_type": "skip"
    }
   },
   "outputs": [
    {
     "name": "stdout",
     "output_type": "stream",
     "text": [
      "valprop = [1.+1.j 1.-1.j]\n"
     ]
    },
    {
     "data": {
      "text/latex": [
       "$$\n",
       "\n",
       "\\begin{bmatrix}\n",
       "\\frac{\\sqrt{2}}{2} & \\frac{\\sqrt{2}}{2}  \\\\\n",
       " - \\frac{\\sqrt{2} i}{2} & \\frac{\\sqrt{2} i}{2}  \\\\\n",
       " \\end{bmatrix}\n",
       "$$"
      ],
      "text/plain": [
       "<IPython.core.display.Latex object>"
      ]
     },
     "execution_count": 2,
     "metadata": {},
     "output_type": "execute_result"
    }
   ],
   "source": [
    "A = np.matrix([[1, -1], [1, 1]])\n",
    "\n",
    "' hallamos los autovalores y autovectores'\n",
    "eigvals, eigvecs = np.linalg.eig(A)\n",
    "print('valprop =',eigvals)\n",
    "#print('vecprop =',eigvecs)\n",
    "array_to_latex(eigvecs)\n"
   ]
  },
  {
   "cell_type": "code",
   "execution_count": 3,
   "id": "e89332be",
   "metadata": {
    "slideshow": {
     "slide_type": "skip"
    }
   },
   "outputs": [
    {
     "data": {
      "text/latex": [
       "$$\n",
       "A|\\lambda_m \\rangle -\\lambda_m |\\lambda_m\\rangle =  \n",
       "\\begin{bmatrix}\n",
       "0  \\\\\n",
       " 0  \\\\\n",
       " \\end{bmatrix}\n",
       "$$"
      ],
      "text/plain": [
       "<IPython.core.display.Latex object>"
      ]
     },
     "execution_count": 3,
     "metadata": {},
     "output_type": "execute_result"
    }
   ],
   "source": [
    "'verificamos que los autovectores son las columnas de v'\n",
    "\n",
    "#m=0\n",
    "m=1\n",
    "array_to_latex(np.dot(A, eigvecs[:, m]) - eigvals[m] * eigvecs[:, m],prefix=r'A|\\lambda_m \\rangle -\\lambda_m |\\lambda_m\\rangle =  ')"
   ]
  },
  {
   "cell_type": "code",
   "execution_count": 4,
   "id": "15af3932",
   "metadata": {
    "slideshow": {
     "slide_type": "skip"
    }
   },
   "outputs": [
    {
     "data": {
      "text/latex": [
       "$$\n",
       "A_{diag} = U^\\dagger A U = \n",
       "\\begin{bmatrix}\n",
       "1 + i & 0  \\\\\n",
       " 0 & 1 - i  \\\\\n",
       " \\end{bmatrix}\n",
       "$$"
      ],
      "text/plain": [
       "<IPython.core.display.Latex object>"
      ]
     },
     "execution_count": 4,
     "metadata": {},
     "output_type": "execute_result"
    }
   ],
   "source": [
    "' diagonalizamos A '\n",
    "U = np.matrix(eigvecs);\n",
    "\n",
    "array_to_latex(np.dot(U.getH(),np.dot(A,U)),prefix='A_{diag} = U^\\dagger A U = ')"
   ]
  },
  {
   "cell_type": "code",
   "execution_count": 5,
   "id": "cf04cdf2",
   "metadata": {
    "slideshow": {
     "slide_type": "slide"
    }
   },
   "outputs": [
    {
     "data": {
      "text/latex": [
       "$$\n",
       "\n",
       "\\begin{bmatrix}\n",
       "1 & 1  \\\\\n",
       " -1 & 1  \\\\\n",
       " \\end{bmatrix}\n",
       "$$"
      ],
      "text/plain": [
       "<IPython.core.display.Latex object>"
      ]
     },
     "execution_count": 5,
     "metadata": {},
     "output_type": "execute_result"
    }
   ],
   "source": [
    "A = np.array([[1, 1], [-1, 1]])\n",
    "array_to_latex(A)\n"
   ]
  },
  {
   "cell_type": "code",
   "execution_count": 6,
   "id": "76ebebd2",
   "metadata": {
    "slideshow": {
     "slide_type": "fragment"
    }
   },
   "outputs": [
    {
     "data": {
      "text/latex": [
       "$$\n",
       "P_0=\n",
       "\\begin{bmatrix}\n",
       "\\frac{1}{2} & - \\frac{i}{2}  \\\\\n",
       " \\frac{i}{2} & \\frac{1}{2}  \\\\\n",
       " \\end{bmatrix}\n",
       "$$"
      ],
      "text/plain": [
       "<IPython.core.display.Latex object>"
      ]
     },
     "metadata": {},
     "output_type": "display_data"
    },
    {
     "data": {
      "text/latex": [
       "$$\n",
       "P_1=\n",
       "\\begin{bmatrix}\n",
       "\\frac{1}{2} & \\frac{i}{2}  \\\\\n",
       " - \\frac{i}{2} & \\frac{1}{2}  \\\\\n",
       " \\end{bmatrix}\n",
       "$$"
      ],
      "text/plain": [
       "<IPython.core.display.Latex object>"
      ]
     },
     "metadata": {},
     "output_type": "display_data"
    },
    {
     "data": {
      "text/latex": [
       "$$\n",
       "P_0 + P_1=\n",
       "\\begin{bmatrix}\n",
       "1 & 0  \\\\\n",
       " 0 & 1  \\\\\n",
       " \\end{bmatrix}\n",
       "$$"
      ],
      "text/plain": [
       "<IPython.core.display.Latex object>"
      ]
     },
     "execution_count": 6,
     "metadata": {},
     "output_type": "execute_result"
    }
   ],
   "source": [
    "' Realizamos la descomposición espectral'\n",
    "eigvals, eigvecs = np.linalg.eig(A)\n",
    "\n",
    "eigvec0 = eigvecs[:,0]\n",
    "P0 = tQ.ket_bra(eigvec0,eigvec0)\n",
    "display(array_to_latex(P0,prefix='P_0='))\n",
    "\n",
    "eigvec1 = eigvecs[:,1]\n",
    "P1 = tQ.ket_bra(eigvec1,eigvec1)\n",
    "display(array_to_latex(P1,prefix='P_1='))\n",
    "\n",
    "'verificamos completitud'\n",
    "array_to_latex(P0+P1,prefix='P_0 + P_1=')"
   ]
  },
  {
   "cell_type": "code",
   "execution_count": 7,
   "id": "3d18ef69",
   "metadata": {
    "slideshow": {
     "slide_type": "skip"
    }
   },
   "outputs": [
    {
     "data": {
      "text/latex": [
       "$$\n",
       "\n",
       "\\begin{bmatrix}\n",
       "1 & 1  \\\\\n",
       " -1 & 1  \\\\\n",
       " \\end{bmatrix}\n",
       "$$"
      ],
      "text/plain": [
       "<IPython.core.display.Latex object>"
      ]
     },
     "execution_count": 7,
     "metadata": {},
     "output_type": "execute_result"
    }
   ],
   "source": [
    "' verificamos el teorema de descomposición espectral '\n",
    "A_descomp_espect = eigvals[0]*P0+eigvals[1]*P1\n",
    "\n",
    "array_to_latex(A_descomp_espect)\n"
   ]
  },
  {
   "cell_type": "code",
   "execution_count": 8,
   "id": "af607659",
   "metadata": {
    "slideshow": {
     "slide_type": "skip"
    }
   },
   "outputs": [
    {
     "name": "stdout",
     "output_type": "stream",
     "text": [
      "[2.071+0.j 1.042+0.j 0.248-0.j]\n"
     ]
    },
    {
     "data": {
      "text/latex": [
       "$$\n",
       "U=\n",
       "\\begin{bmatrix}\n",
       "0.4293590529 + 0.56229438 i & -0.4019063008 - 0.2010432994 i & 0.5277567645 + 0.1378461049 i  \\\\\n",
       " -0.0975431912 - 0.2472153557 i & 0.2333803917 + 0.5048480557 i & 0.5712396517 + 0.5419568133 i  \\\\\n",
       " 0.5503556255 + 0.3549005679 i & 0.6784964612 + 0.1683968609 i & -0.2703082496 + 0.0968130773 i  \\\\\n",
       " \\end{bmatrix}\n",
       "$$"
      ],
      "text/plain": [
       "<IPython.core.display.Latex object>"
      ]
     },
     "metadata": {},
     "output_type": "display_data"
    },
    {
     "data": {
      "text/latex": [
       "$$\n",
       "U^\\dagger U=\n",
       "\\begin{bmatrix}\n",
       "1 & 0 & 0  \\\\\n",
       " 0 & 1 & 0  \\\\\n",
       " 0 & 0 & 1  \\\\\n",
       " \\end{bmatrix}\n",
       "$$"
      ],
      "text/plain": [
       "<IPython.core.display.Latex object>"
      ]
     },
     "metadata": {},
     "output_type": "display_data"
    },
    {
     "data": {
      "text/plain": [
       "array([1., 1., 1.])"
      ]
     },
     "execution_count": 8,
     "metadata": {},
     "output_type": "execute_result"
    }
   ],
   "source": [
    "'''Método para construir una matriz unitaria arbitraria usando la descomposición polar'''\n",
    "d = 3\n",
    "A = np.matrix(np.random.rand(d,d)+ np.random.rand(d,d) * 1j)\n",
    "\n",
    "#u, s, vh = linalg.svd(A, full_matrices=False)\n",
    "u,r = la.polar(A)\n",
    "    \n",
    "R = np.matrix(r) \n",
    "' verificamos que R sólo tiene autovalores no-negativos '\n",
    "Reigval, Reigvec = la.eig(R)\n",
    "print(np.round(Reigval,3))\n",
    "\n",
    "U=np.matrix(u) \n",
    "display(array_to_latex(U,prefix='U='))\n",
    "\n",
    "''' Verifiquemos unitariedad '''\n",
    "display(array_to_latex(np.dot(U.getH(),U),prefix='U^\\dagger U='))\n",
    "\n",
    "''' verificamos que los autovalores de U tienen norma unidad'''\n",
    "np.round([la.norm(la.eig(U)[0][i]) for i in range(d)],5)"
   ]
  },
  {
   "cell_type": "code",
   "execution_count": 9,
   "id": "dbd4c215",
   "metadata": {
    "slideshow": {
     "slide_type": "slide"
    }
   },
   "outputs": [
    {
     "data": {
      "text/latex": [
       "$$\n",
       "A=\n",
       "\\begin{bmatrix}\n",
       "-0.4598144479 - 0.5184096604 i & 0.9425349896 + 1.1287973365 i  \\\\\n",
       " -0.6782679131 + 1.4590730342 i & -0.1988510227 - 0.096264258 i  \\\\\n",
       " 0.3018660136 + 1.2059755598 i & 0.099837317 + 0.003309329 i  \\\\\n",
       " \\end{bmatrix}\n",
       "$$"
      ],
      "text/plain": [
       "<IPython.core.display.Latex object>"
      ]
     },
     "metadata": {},
     "output_type": "display_data"
    },
    {
     "name": "stdout",
     "output_type": "stream",
     "text": [
      "the shape of A is : (3, 2)\n"
     ]
    }
   ],
   "source": [
    "A = np.random.randn(3,2)+ 1j*np.random.randn(3,2)\n",
    "display(array_to_latex(A,prefix='A='))\n",
    "print( 'the shape of A is :', A.shape)"
   ]
  },
  {
   "cell_type": "code",
   "execution_count": 10,
   "id": "1e4e77d3",
   "metadata": {
    "slideshow": {
     "slide_type": "slide"
    }
   },
   "outputs": [
    {
     "ename": "NameError",
     "evalue": "name 's' is not defined",
     "output_type": "error",
     "traceback": [
      "\u001b[0;31m---------------------------------------------------------------------------\u001b[0m",
      "\u001b[0;31mNameError\u001b[0m                                 Traceback (most recent call last)",
      "Cell \u001b[0;32mIn[10], line 8\u001b[0m\n\u001b[1;32m      6\u001b[0m Sigma \u001b[38;5;241m=\u001b[39m np\u001b[38;5;241m.\u001b[39mzeros([m,n])\n\u001b[1;32m      7\u001b[0m \u001b[38;5;28;01mfor\u001b[39;00m i \u001b[38;5;129;01min\u001b[39;00m \u001b[38;5;28mrange\u001b[39m(\u001b[38;5;28mmin\u001b[39m(m,n)):\n\u001b[0;32m----> 8\u001b[0m     Sigma[i,i]\u001b[38;5;241m=\u001b[39m\u001b[43ms\u001b[49m[i]\n\u001b[1;32m     11\u001b[0m display(array_to_latex(U,prefix\u001b[38;5;241m=\u001b[39m\u001b[38;5;124m'\u001b[39m\u001b[38;5;124mU=\u001b[39m\u001b[38;5;124m'\u001b[39m))\n\u001b[1;32m     12\u001b[0m display(array_to_latex(Sigma,prefix\u001b[38;5;241m=\u001b[39m\u001b[38;5;124m'\u001b[39m\u001b[38;5;124m\\\u001b[39m\u001b[38;5;124mSigma=\u001b[39m\u001b[38;5;124m'\u001b[39m))\n",
      "\u001b[0;31mNameError\u001b[0m: name 's' is not defined"
     ]
    }
   ],
   "source": [
    "U, sig, Vadj = la.svd(A, full_matrices=True)\n",
    "m = U.shape[0]\n",
    "n = Vadj.shape[0]\n",
    "\n",
    "V = Vadj.T.conj()\n",
    "Sigma = np.zeros([m,n])\n",
    "for i in range(min(m,n)):\n",
    "    Sigma[i,i]=s[i]\n",
    "\n",
    "    \n",
    "display(array_to_latex(U,prefix='U='))\n",
    "display(array_to_latex(Sigma,prefix='\\Sigma='))\n",
    "display(array_to_latex(V,prefix='V='))\n",
    "\n",
    "'''Verifiquemos unitariedad'''\n",
    "display(array_to_latex(np.dot(U.T.conj(),U),prefix='U^{\\dagger}U ='))\n",
    "display(array_to_latex(np.dot(V.T.conj(),V),prefix='V^{\\dagger}V ='))\n",
    "\n"
   ]
  },
  {
   "cell_type": "code",
   "execution_count": 11,
   "id": "945c5b0d",
   "metadata": {},
   "outputs": [
    {
     "name": "stdout",
     "output_type": "stream",
     "text": [
      "[1.85133885 4.98462329]\n"
     ]
    },
    {
     "data": {
      "text/latex": [
       "$$\n",
       "H=\n",
       "\\begin{bmatrix}\n",
       "0.3436395649 & -0.9391016183  \\\\\n",
       " 0.9194814249 + 0.1909600973 i & 0.3364600706 + 0.0698768307 i  \\\\\n",
       " \\end{bmatrix}\n",
       "$$"
      ],
      "text/plain": [
       "<IPython.core.display.Latex object>"
      ]
     },
     "execution_count": 11,
     "metadata": {},
     "output_type": "execute_result"
    }
   ],
   "source": [
    "(sig1, V) = la.eigh(np.dot(A.T.conj(),A))\n",
    "\n",
    "print(sig1)\n",
    "array_to_latex(V, prefix='H=')"
   ]
  },
  {
   "cell_type": "code",
   "execution_count": 12,
   "id": "06687410",
   "metadata": {},
   "outputs": [
    {
     "name": "stdout",
     "output_type": "stream",
     "text": [
      "[7.99360578e-15 1.85133885e+00 4.98462329e+00]\n"
     ]
    },
    {
     "data": {
      "text/latex": [
       "$$\n",
       "U=\n",
       "\\begin{bmatrix}\n",
       "0.1421711871 & -0.8457350376 & 0.5143146895  \\\\\n",
       " 0.5822460377 - 0.1744425139 i & -0.1237719711 - 0.3820539288 i & -0.3644789986 - 0.580025616 i  \\\\\n",
       " -0.3734531522 + 0.6862065706 i & -0.3512589134 - 0.0080446654 i & -0.4743743419 - 0.2029155695 i  \\\\\n",
       " \\end{bmatrix}\n",
       "$$"
      ],
      "text/plain": [
       "<IPython.core.display.Latex object>"
      ]
     },
     "execution_count": 12,
     "metadata": {},
     "output_type": "execute_result"
    }
   ],
   "source": [
    "(sig2, U) = la.eigh(np.dot(A,A.T.conj()))\n",
    "\n",
    "print(sig2)\n",
    "array_to_latex(U, prefix='U=')"
   ]
  },
  {
   "cell_type": "code",
   "execution_count": 13,
   "id": "16f42fcc",
   "metadata": {},
   "outputs": [
    {
     "data": {
      "text/latex": [
       "$$\n",
       "\n",
       "\\begin{bmatrix}\n",
       "1.21231 + 0.03374 i & 0.32278 + 0.07788 i  \\\\\n",
       " 0.01783 + 0.20924 i & 0.88062 - 0.14876 i  \\\\\n",
       " \\end{bmatrix}\n",
       "$$"
      ],
      "text/plain": [
       "<IPython.core.display.Latex object>"
      ]
     },
     "metadata": {},
     "output_type": "display_data"
    },
    {
     "data": {
      "text/latex": [
       "$$\n",
       "\n",
       "\\begin{bmatrix}\n",
       "1.21233 + 0.03367 i & 0.3225 + 0.0775 i  \\\\\n",
       " 0.018 + 0.209 i & 0.88083 - 0.14833 i  \\\\\n",
       " \\end{bmatrix}\n",
       "$$"
      ],
      "text/plain": [
       "<IPython.core.display.Latex object>"
      ]
     },
     "execution_count": 13,
     "metadata": {},
     "output_type": "execute_result"
    }
   ],
   "source": [
    "' para exponenciar matrices es recomendable la función expm de la libreria scipy.linalg'\n",
    "\n",
    "from scipy.linalg import expm\n",
    "from numpy.linalg import matrix_power\n",
    "import math\n",
    "\n",
    "A = 0.1*np.matrix([[2,3+1j],[2j,-1-2j]])\n",
    "\n",
    "display(array_to_latex(np.around(expm(A),5)))\n",
    "\n",
    "' podemos comparar con la serie de Taylor a tercer orden'\n",
    "array_to_latex(np.round(matrix_power(A,0)  + matrix_power(A,1)  + 1./2.*matrix_power(A,2)  + 1./math.factorial(3)*matrix_power(A,3),5))"
   ]
  },
  {
   "cell_type": "code",
   "execution_count": 14,
   "id": "82656214",
   "metadata": {
    "slideshow": {
     "slide_type": "slide"
    }
   },
   "outputs": [
    {
     "name": "stdout",
     "output_type": "stream",
     "text": [
      "[[ True  True]\n",
      " [ True  True]]\n",
      "[[ True  True]\n",
      " [ True  True]]\n",
      "[[ True  True]\n",
      " [ True  True]]\n"
     ]
    },
    {
     "data": {
      "text/plain": [
       "'etc'"
      ]
     },
     "execution_count": 14,
     "metadata": {},
     "output_type": "execute_result"
    }
   ],
   "source": [
    "I = np.eye(2)\n",
    "s1 = np.matrix([[0,1],[1,0]])\n",
    "s2 = np.matrix([[0,-1j],[1j,0]])\n",
    "s3 = np.matrix([[1,0],[0,-1]])\n",
    "\n",
    "'verifica todas las opciones'\n",
    "print(s1*s1==I)\n",
    "print(s1*s2==1j*s3)\n",
    "print(s2*s1==-1j*s3)\n",
    "'etc'"
   ]
  },
  {
   "cell_type": "code",
   "execution_count": 15,
   "id": "b6a11eb3",
   "metadata": {
    "slideshow": {
     "slide_type": "skip"
    }
   },
   "outputs": [
    {
     "name": "stdout",
     "output_type": "stream",
     "text": [
      "a= 1.3155182359755793\n"
     ]
    },
    {
     "data": {
      "text/latex": [
       "$$\n",
       "\n",
       "\\begin{bmatrix}\n",
       "0.6743689638 & 0.5958619533 & 0.4360906251  \\\\\n",
       " \\end{bmatrix}\n",
       "$$"
      ],
      "text/plain": [
       "<IPython.core.display.Latex object>"
      ]
     },
     "metadata": {},
     "output_type": "display_data"
    },
    {
     "ename": "NameError",
     "evalue": "name 's0' is not defined",
     "output_type": "error",
     "traceback": [
      "\u001b[0;31m---------------------------------------------------------------------------\u001b[0m",
      "\u001b[0;31mNameError\u001b[0m                                 Traceback (most recent call last)",
      "Cell \u001b[0;32mIn[15], line 20\u001b[0m\n\u001b[1;32m     18\u001b[0m \u001b[38;5;124m'\u001b[39m\u001b[38;5;124musing the Euler-like formula\u001b[39m\u001b[38;5;124m'\u001b[39m\n\u001b[1;32m     19\u001b[0m ndots\u001b[38;5;241m=\u001b[39m \u001b[38;5;28msum\u001b[39m(\u001b[38;5;28mlist\u001b[39m(nvec[i]\u001b[38;5;241m*\u001b[39msigvec[i] \u001b[38;5;28;01mfor\u001b[39;00m i \u001b[38;5;129;01min\u001b[39;00m \u001b[38;5;28mrange\u001b[39m(\u001b[38;5;241m3\u001b[39m)))\n\u001b[0;32m---> 20\u001b[0m e2 \u001b[38;5;241m=\u001b[39m np\u001b[38;5;241m.\u001b[39mcos(a)\u001b[38;5;241m*\u001b[39m\u001b[43ms0\u001b[49m \u001b[38;5;241m+\u001b[39m \u001b[38;5;241m1\u001b[39mj\u001b[38;5;241m*\u001b[39mnp\u001b[38;5;241m.\u001b[39msin(a)\u001b[38;5;241m*\u001b[39m(nvec[\u001b[38;5;241m0\u001b[39m]\u001b[38;5;241m*\u001b[39msigvec[\u001b[38;5;241m0\u001b[39m]\u001b[38;5;241m+\u001b[39mnvec[\u001b[38;5;241m1\u001b[39m]\u001b[38;5;241m*\u001b[39msigvec[\u001b[38;5;241m1\u001b[39m]\u001b[38;5;241m+\u001b[39mnvec[\u001b[38;5;241m2\u001b[39m]\u001b[38;5;241m*\u001b[39msigvec[\u001b[38;5;241m2\u001b[39m])\n\u001b[1;32m     22\u001b[0m \u001b[38;5;124m'\u001b[39m\u001b[38;5;124mverify\u001b[39m\u001b[38;5;124m'\u001b[39m\n\u001b[1;32m     23\u001b[0m display(array_to_latex(np\u001b[38;5;241m.\u001b[39mround(e1,\u001b[38;5;241m4\u001b[39m),prefix\u001b[38;5;241m=\u001b[39m\u001b[38;5;124m'\u001b[39m\u001b[38;5;124me1=\u001b[39m\u001b[38;5;124m'\u001b[39m))\n",
      "\u001b[0;31mNameError\u001b[0m: name 's0' is not defined"
     ]
    }
   ],
   "source": [
    "'verificamos la ecuación anterio numéricamente'\n",
    "from scipy.linalg import expm\n",
    "\n",
    "'generamos un vector aleatorio'\n",
    "avec = np.random.rand(3)\n",
    "a = np.linalg.norm(avec)\n",
    "nvec = avec/a\n",
    "print('a=',a)\n",
    "display(array_to_latex(nvec))\n",
    "\n",
    "sigvec = np.array([s1,s2,s3])\n",
    "\n",
    "adots= sum(list(avec[i]*sigvec[i] for i in range(3)))\n",
    "\n",
    "'exponentiating'\n",
    "e1 = expm(1j*adots)\n",
    "\n",
    "'using the Euler-like formula'\n",
    "ndots= sum(list(nvec[i]*sigvec[i] for i in range(3)))\n",
    "e2 = np.cos(a)*s0 + 1j*np.sin(a)*(nvec[0]*sigvec[0]+nvec[1]*sigvec[1]+nvec[2]*sigvec[2])\n",
    "\n",
    "'verify'\n",
    "display(array_to_latex(np.round(e1,4),prefix='e1='))\n",
    "display(array_to_latex(np.round(e2,4),prefix='e1='))\n"
   ]
  }
 ],
 "metadata": {
  "celltoolbar": "Slideshow",
  "kernelspec": {
   "display_name": "Python 3 (ipykernel)",
   "language": "python",
   "name": "python3"
  },
  "language_info": {
   "codemirror_mode": {
    "name": "ipython",
    "version": 3
   },
   "file_extension": ".py",
   "mimetype": "text/x-python",
   "name": "python",
   "nbconvert_exporter": "python",
   "pygments_lexer": "ipython3",
   "version": "3.10.13"
  },
  "toc": {
   "base_numbering": 1,
   "nav_menu": {},
   "number_sections": true,
   "sideBar": true,
   "skip_h1_title": false,
   "title_cell": "Table of Contents",
   "title_sidebar": "Contents",
   "toc_cell": false,
   "toc_position": {},
   "toc_section_display": true,
   "toc_window_display": false
  },
  "varInspector": {
   "cols": {
    "lenName": 16,
    "lenType": 16,
    "lenVar": 40
   },
   "kernels_config": {
    "python": {
     "delete_cmd_postfix": "",
     "delete_cmd_prefix": "del ",
     "library": "var_list.py",
     "varRefreshCmd": "print(var_dic_list())"
    },
    "r": {
     "delete_cmd_postfix": ") ",
     "delete_cmd_prefix": "rm(",
     "library": "var_list.r",
     "varRefreshCmd": "cat(var_dic_list()) "
    }
   },
   "types_to_exclude": [
    "module",
    "function",
    "builtin_function_or_method",
    "instance",
    "_Feature"
   ],
   "window_display": false
  }
 },
 "nbformat": 4,
 "nbformat_minor": 5
}