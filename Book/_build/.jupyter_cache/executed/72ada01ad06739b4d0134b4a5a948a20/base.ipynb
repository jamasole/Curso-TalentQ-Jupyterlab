{
 "cells": [
  {
   "cell_type": "code",
   "execution_count": 1,
   "id": "c7bd5d4c",
   "metadata": {
    "slideshow": {
     "slide_type": "-"
    }
   },
   "outputs": [],
   "source": [
    "import sys\n",
    "sys.path.append('../')\n",
    "import macro_tQ as tQ\n",
    "\n",
    "import numpy as np\n",
    "import scipy.linalg as la\n",
    "from IPython.display import display,Markdown,Latex\n",
    "import matplotlib.pyplot as plt\n",
    "from qiskit.tools.visualization import array_to_latex"
   ]
  },
  {
   "cell_type": "code",
   "execution_count": 2,
   "id": "dabedb88",
   "metadata": {
    "slideshow": {
     "slide_type": "skip"
    }
   },
   "outputs": [
    {
     "data": {
      "text/latex": [
       "$$\n",
       "\n",
       "\\begin{bmatrix}\n",
       "\\frac{\\sqrt{2}}{2} & \\frac{\\sqrt{2} i}{2}  \\\\\n",
       " \\frac{\\sqrt{2} i}{2} & \\frac{\\sqrt{2}}{2}  \\\\\n",
       " \\end{bmatrix}\n",
       "$$"
      ],
      "text/plain": [
       "<IPython.core.display.Latex object>"
      ]
     },
     "execution_count": 2,
     "metadata": {},
     "output_type": "execute_result"
    }
   ],
   "source": [
    "U=np.matrix([[1,1J],[1J, + 1]])/np.sqrt(2)\n",
    "array_to_latex(U)"
   ]
  },
  {
   "cell_type": "code",
   "execution_count": 3,
   "id": "38cc621f",
   "metadata": {
    "slideshow": {
     "slide_type": "skip"
    }
   },
   "outputs": [
    {
     "data": {
      "text/latex": [
       "$$\n",
       "\n",
       "\\begin{bmatrix}\n",
       "\\frac{\\sqrt{2}}{2} & - \\frac{\\sqrt{2} i}{2}  \\\\\n",
       " - \\frac{\\sqrt{2} i}{2} & \\frac{\\sqrt{2}}{2}  \\\\\n",
       " \\end{bmatrix}\n",
       "$$"
      ],
      "text/plain": [
       "<IPython.core.display.Latex object>"
      ]
     },
     "execution_count": 3,
     "metadata": {},
     "output_type": "execute_result"
    }
   ],
   "source": [
    "Uadj=U.getH() # getH es un método de la clase matrix que devuelve la matriz conjugada hermítica\n",
    "array_to_latex(Uadj)"
   ]
  },
  {
   "cell_type": "code",
   "execution_count": 4,
   "id": "d4b71087",
   "metadata": {
    "slideshow": {
     "slide_type": "skip"
    }
   },
   "outputs": [
    {
     "name": "stdout",
     "output_type": "stream",
     "text": [
      "comprobamos que U es unitaria\n"
     ]
    },
    {
     "data": {
      "text/latex": [
       "$$\n",
       "\n",
       "\\begin{bmatrix}\n",
       "1 & 0  \\\\\n",
       " 0 & 1  \\\\\n",
       " \\end{bmatrix}\n",
       "$$"
      ],
      "text/plain": [
       "<IPython.core.display.Latex object>"
      ]
     },
     "execution_count": 4,
     "metadata": {},
     "output_type": "execute_result"
    }
   ],
   "source": [
    "print('comprobamos que U es unitaria')\n",
    "\n",
    "array_to_latex(np.dot(Uadj,U))"
   ]
  },
  {
   "cell_type": "code",
   "execution_count": 5,
   "id": "ca29b1e4",
   "metadata": {
    "slideshow": {
     "slide_type": "slide"
    }
   },
   "outputs": [
    {
     "data": {
      "text/latex": [
       "$$\n",
       "\n",
       "\\begin{bmatrix}\n",
       "0.1641281023 - 0.6278233836 i  \\\\\n",
       " 0.3965479292 - 0.5450247156 i  \\\\\n",
       " 0.0491091393 + 0.3495509357 i  \\\\\n",
       " \\end{bmatrix}\n",
       "$$"
      ],
      "text/plain": [
       "<IPython.core.display.Latex object>"
      ]
     },
     "metadata": {},
     "output_type": "display_data"
    },
    {
     "data": {
      "text/latex": [
       "$$\n",
       "\n",
       "\\begin{bmatrix}\n",
       "0.4211002349 & 0.4072639202 - 0.1595081904 i & -0.2113960614 - 0.0882029978 i  \\\\\n",
       " 0.4072639202 + 0.1595081904 i & 0.4543022008 & -0.1710397718 - 0.1653793944 i  \\\\\n",
       " -0.2113960614 + 0.0882029978 i & -0.1710397718 + 0.1653793944 i & 0.1245975642  \\\\\n",
       " \\end{bmatrix}\n",
       "$$"
      ],
      "text/plain": [
       "<IPython.core.display.Latex object>"
      ]
     },
     "metadata": {},
     "output_type": "display_data"
    },
    {
     "data": {
      "text/latex": [
       "$$\n",
       "\n",
       "\\begin{bmatrix}\n",
       "0.5788997651 & -0.4072639202 + 0.1595081904 i & 0.2113960614 + 0.0882029978 i  \\\\\n",
       " -0.4072639202 - 0.1595081904 i & 0.5456977992 & 0.1710397718 + 0.1653793944 i  \\\\\n",
       " 0.2113960614 - 0.0882029978 i & 0.1710397718 - 0.1653793944 i & 0.8754024358  \\\\\n",
       " \\end{bmatrix}\n",
       "$$"
      ],
      "text/plain": [
       "<IPython.core.display.Latex object>"
      ]
     },
     "metadata": {},
     "output_type": "display_data"
    }
   ],
   "source": [
    "d = 3\n",
    "\n",
    "' generamos un vector aleatorio'\n",
    "u = tQ.random_ket(d)\n",
    "display(array_to_latex(u))\n",
    "\n",
    "' obtenemos los proyectores paralelo y perpendicular'\n",
    "P_par = tQ.ket_bra(u,u);\n",
    "P_perp = np.identity(d) - P_par\n",
    "\n",
    "display(array_to_latex(P_par))\n",
    "display(array_to_latex(P_perp))"
   ]
  },
  {
   "cell_type": "code",
   "execution_count": 6,
   "id": "135c6cff",
   "metadata": {
    "slideshow": {
     "slide_type": "slide"
    }
   },
   "outputs": [
    {
     "data": {
      "text/latex": [
       "$$\n",
       "\n",
       "\\begin{bmatrix}\n",
       "0 & 0 & 0  \\\\\n",
       " 0 & 0 & 0  \\\\\n",
       " 0 & 0 & 0  \\\\\n",
       " \\end{bmatrix}\n",
       "$$"
      ],
      "text/plain": [
       "<IPython.core.display.Latex object>"
      ]
     },
     "metadata": {},
     "output_type": "display_data"
    },
    {
     "name": "stdout",
     "output_type": "stream",
     "text": [
      "(-0+0j)\n"
     ]
    }
   ],
   "source": [
    "\n",
    "' check properties P^2 = P, and orthogonality '\n",
    "A = P_par@P_par - P_par\n",
    "B = P_perp@P_perp - P_perp\n",
    "C = P_par@P_perp\n",
    "\n",
    "display(array_to_latex(A))\n",
    "\n",
    "\n",
    "' obtain parallel and perpendicular components of another vector'\n",
    "psi = tQ.random_ket(d)\n",
    "\n",
    "psi_par = np.dot(P_par,psi)\n",
    "psi_perp = np.dot(P_perp,psi)\n",
    "\n",
    "\n",
    "print(np.round(tQ.braket(psi_par,psi_perp),4))"
   ]
  }
 ],
 "metadata": {
  "celltoolbar": "Slideshow",
  "kernelspec": {
   "display_name": "Python 3 (ipykernel)",
   "language": "python",
   "name": "python3"
  },
  "language_info": {
   "codemirror_mode": {
    "name": "ipython",
    "version": 3
   },
   "file_extension": ".py",
   "mimetype": "text/x-python",
   "name": "python",
   "nbconvert_exporter": "python",
   "pygments_lexer": "ipython3",
   "version": "3.10.13"
  },
  "toc": {
   "base_numbering": 1,
   "nav_menu": {},
   "number_sections": true,
   "sideBar": true,
   "skip_h1_title": false,
   "title_cell": "Table of Contents",
   "title_sidebar": "Contents",
   "toc_cell": false,
   "toc_position": {},
   "toc_section_display": true,
   "toc_window_display": false
  },
  "varInspector": {
   "cols": {
    "lenName": 16,
    "lenType": 16,
    "lenVar": 40
   },
   "kernels_config": {
    "python": {
     "delete_cmd_postfix": "",
     "delete_cmd_prefix": "del ",
     "library": "var_list.py",
     "varRefreshCmd": "print(var_dic_list())"
    },
    "r": {
     "delete_cmd_postfix": ") ",
     "delete_cmd_prefix": "rm(",
     "library": "var_list.r",
     "varRefreshCmd": "cat(var_dic_list()) "
    }
   },
   "types_to_exclude": [
    "module",
    "function",
    "builtin_function_or_method",
    "instance",
    "_Feature"
   ],
   "window_display": false
  }
 },
 "nbformat": 4,
 "nbformat_minor": 5
}