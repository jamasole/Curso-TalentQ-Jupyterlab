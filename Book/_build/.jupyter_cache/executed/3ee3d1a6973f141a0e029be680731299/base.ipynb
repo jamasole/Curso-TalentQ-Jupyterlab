{
 "cells": [
  {
   "cell_type": "code",
   "execution_count": 1,
   "id": "7493f289",
   "metadata": {},
   "outputs": [],
   "source": [
    "# import numpy as np\n",
    "# from qiskit.visualization import array_to_latex\n",
    "\n",
    "# # Se define H gate\n",
    "# H = 1/np.sqrt(2) * np.matrix([[1,1],[1,-1]])\n",
    "# H_latex = array_to_latex(H, prefix=\"{H =}\", source=True)"
   ]
  },
  {
   "cell_type": "code",
   "execution_count": 2,
   "id": "c831fca7",
   "metadata": {},
   "outputs": [
    {
     "data": {
      "text/latex": [
       "$${H =}\n",
       "\n",
       "\\begin{bmatrix}\n",
       "\\frac{\\sqrt{2}}{2} & \\frac{\\sqrt{2}}{2}  \\\\\n",
       " \\frac{\\sqrt{2}}{2} & - \\frac{\\sqrt{2}}{2}  \\\\\n",
       " \\end{bmatrix}\n",
       "$$"
      ],
      "text/plain": [
       "<IPython.core.display.Latex object>"
      ]
     },
     "execution_count": 2,
     "metadata": {},
     "output_type": "execute_result"
    }
   ],
   "source": [
    "from IPython.display import Latex\n",
    "H_latex = '{H =}\\n\\n\\\\begin{bmatrix}\\n\\\\frac{\\\\sqrt{2}}{2} & \\\\frac{\\\\sqrt{2}}{2}  \\\\\\\\\\n \\\\frac{\\\\sqrt{2}}{2} & - \\\\frac{\\\\sqrt{2}}{2}  \\\\\\\\\\n \\\\end{bmatrix}\\n'\n",
    "Latex(f\"$${H_latex}$$\")"
   ]
  },
  {
   "cell_type": "code",
   "execution_count": 3,
   "id": "5b3a7880",
   "metadata": {},
   "outputs": [],
   "source": [
    "# from qiskit import QuantumCircuit, assemble, Aer\n",
    "# from qiskit.providers.aer.library import save_statevector\n",
    "# from qiskit.visualization.state_visualization import plot_bloch_multivector\n",
    "\n",
    "# # Se define el circuito de 1 qubit en este caso y le aplicamos H\n",
    "# qc = QuantumCircuit(1)\n",
    "# qc.h(0)\n",
    "\n",
    "# # Se visualiza el circuito\n",
    "# qc.draw(output=\"mpl\", filename=\"qc_hadamard.jpg\")\n",
    "\n",
    "# # Se obtienen los resultados\n",
    "# qc.save_statevector()\n",
    "# qobj = assemble(qc)\n",
    "# sim = Aer.get_backend('aer_simulator')\n",
    "# result = sim.run(qobj).result()\n",
    "# final_state = result.get_statevector()\n",
    "\n",
    "# # Se visualiza en la esfera de Bloch\n",
    "# plot_bloch = plot_bloch_multivector(final_state)\n",
    "\n",
    "# plot_bloch.savefig('bloch_hadamard.jpg')"
   ]
  },
  {
   "cell_type": "code",
   "execution_count": 4,
   "id": "653312bd",
   "metadata": {},
   "outputs": [],
   "source": [
    "# from qiskit import execute\n",
    "\n",
    "# qc = QuantumCircuit(1)\n",
    "# qc.h(0)\n",
    "\n",
    "# simulator = Aer.get_backend('unitary_simulator')\n",
    "# result = execute(qc, simulator).result()\n",
    "\n",
    "# # Se puede visualizar la matriz que representa el estado\n",
    "# matrix = result.get_unitary(qc)\n",
    "# display(matrix)"
   ]
  },
  {
   "cell_type": "code",
   "execution_count": 5,
   "id": "9974302c",
   "metadata": {},
   "outputs": [],
   "source": [
    "# theta = np.random.uniform(0,2*np.pi)\n",
    "\n",
    "# R_x = 1j*np.matrix([[np.cos(theta/2),-1j*np.sin(theta/2)],[-1j*np.sin(theta/2),np.cos(theta/2)]])\n",
    "# Rx_latex = array_to_latex(R_x, prefix=\"R_{x} = \", source=True)"
   ]
  },
  {
   "cell_type": "code",
   "execution_count": 6,
   "id": "3f4a6336",
   "metadata": {},
   "outputs": [
    {
     "data": {
      "text/latex": [
       "$$R_{x} = \n",
       "\\begin{bmatrix}\n",
       "0.6880838323 i & 0.7256312009  \\\\\n",
       " 0.7256312009 & 0.6880838323 i  \\\\\n",
       " \\end{bmatrix}\n",
       "$$"
      ],
      "text/plain": [
       "<IPython.core.display.Latex object>"
      ]
     },
     "execution_count": 6,
     "metadata": {},
     "output_type": "execute_result"
    }
   ],
   "source": [
    "Rx_latex = 'R_{x} = \\n\\\\begin{bmatrix}\\n0.6880838323 i & 0.7256312009  \\\\\\\\\\n 0.7256312009 & 0.6880838323 i  \\\\\\\\\\n \\\\end{bmatrix}\\n'\n",
    "Latex(f\"$${Rx_latex}$$\")"
   ]
  },
  {
   "cell_type": "code",
   "execution_count": 7,
   "id": "6e73e651",
   "metadata": {},
   "outputs": [],
   "source": [
    "# theta = np.random.uniform(0,2*np.pi)\n",
    "\n",
    "# R_y = 1j*np.matrix([[np.cos(theta/2),-1*np.sin(theta/2)],[np.sin(theta/2),np.cos(theta/2)]])\n",
    "# Ry_latex = array_to_latex(R_y, prefix=\"R_{y} = \", source=True)"
   ]
  },
  {
   "cell_type": "code",
   "execution_count": 8,
   "id": "65dcf951",
   "metadata": {},
   "outputs": [
    {
     "data": {
      "text/latex": [
       "$$R_{y} = \n",
       "\\begin{bmatrix}\n",
       "- 0.23586718 i & - 0.9717853021 i  \\\\\n",
       " 0.9717853021 i & - 0.23586718 i  \\\\\n",
       " \\end{bmatrix}\n",
       "$$"
      ],
      "text/plain": [
       "<IPython.core.display.Latex object>"
      ]
     },
     "execution_count": 8,
     "metadata": {},
     "output_type": "execute_result"
    }
   ],
   "source": [
    "Ry_latex = 'R_{y} = \\n\\\\begin{bmatrix}\\n- 0.23586718 i & - 0.9717853021 i  \\\\\\\\\\n 0.9717853021 i & - 0.23586718 i  \\\\\\\\\\n \\\\end{bmatrix}\\n'\n",
    "Latex(f\"$${Ry_latex}$$\")"
   ]
  },
  {
   "cell_type": "code",
   "execution_count": 9,
   "id": "9ba8ed86",
   "metadata": {},
   "outputs": [],
   "source": [
    "# theta = np.random.uniform(0,2*np.pi)\n",
    "\n",
    "# R_z = np.matrix([[np.exp((-1j*theta)/2),0],[0,np.exp((1j*theta)/2)]])\n",
    "# Rz_latex = array_to_latex(R_z, prefix=\"R_{z} = \", source=True)"
   ]
  },
  {
   "cell_type": "code",
   "execution_count": 10,
   "id": "184dc70e",
   "metadata": {},
   "outputs": [
    {
     "data": {
      "text/latex": [
       "$$R_{z} = \n",
       "\\begin{bmatrix}\n",
       "0.6991138242 - 0.7150103921 i & 0  \\\\\n",
       " 0 & 0.6991138242 + 0.7150103921 i  \\\\\n",
       " \\end{bmatrix}\n",
       "$$"
      ],
      "text/plain": [
       "<IPython.core.display.Latex object>"
      ]
     },
     "execution_count": 10,
     "metadata": {},
     "output_type": "execute_result"
    }
   ],
   "source": [
    "Rz_latex = 'R_{z} = \\n\\\\begin{bmatrix}\\n0.6991138242 - 0.7150103921 i & 0  \\\\\\\\\\n 0 & 0.6991138242 + 0.7150103921 i  \\\\\\\\\\n \\\\end{bmatrix}\\n'\n",
    "Latex(f\"$${Rz_latex}$$\")"
   ]
  },
  {
   "cell_type": "code",
   "execution_count": 11,
   "id": "ba9008a7",
   "metadata": {},
   "outputs": [],
   "source": [
    "# import numpy as np\n",
    "# from qiskit import QuantumCircuit, ClassicalRegister, QuantumRegister, transpile\n",
    "# from qiskit import BasicAer\n",
    "\n",
    "\n",
    "# backend = BasicAer.get_backend('unitary_simulator')\n",
    "\n",
    "# q = QuantumRegister(1)\n",
    "# theta = np.pi/2\n",
    "\n",
    "# qc = QuantumCircuit(q)\n",
    "\n",
    "# # Se aplica la puerta Rx\n",
    "# qc.rx(theta,q)\n",
    "# qc.draw(output = \"mpl\", filename=\"qc_rx.png\")\n",
    "\n",
    "# job = backend.run(transpile(qc, backend))\n",
    "# job.result().get_unitary(qc, decimals=3)\n",
    "# #https://qiskit.org/documentation/tutorials/circuits/3_summary_of_quantum_operations.html"
   ]
  },
  {
   "cell_type": "code",
   "execution_count": 12,
   "id": "e6afb35c",
   "metadata": {},
   "outputs": [],
   "source": [
    "# q = QuantumRegister(1)\n",
    "# theta = np.pi/2\n",
    "\n",
    "# qc = QuantumCircuit(q)\n",
    "\n",
    "# # Se aplica la puerta Ry\n",
    "# qc.ry(theta,q)\n",
    "# qc.draw(output = \"mpl\", filename=\"qc_ry.jpg\")\n",
    "\n",
    "# job = backend.run(transpile(qc, backend))\n",
    "# job.result().get_unitary(qc, decimals=3)"
   ]
  },
  {
   "cell_type": "code",
   "execution_count": 13,
   "id": "959b280e",
   "metadata": {},
   "outputs": [],
   "source": [
    "# q = QuantumRegister(1)\n",
    "# theta = np.pi/2\n",
    "\n",
    "# qc = QuantumCircuit(q)\n",
    "\n",
    "# # Se aplica la puerta Rz\n",
    "# qc.rz(theta,q)\n",
    "# qc.draw(output = \"mpl\", filename=\"qc_rz.jpg\")\n",
    "\n",
    "# job = backend.run(transpile(qc, backend))\n",
    "# job.result().get_unitary(qc, decimals=3)"
   ]
  },
  {
   "cell_type": "code",
   "execution_count": 14,
   "id": "d56c231f",
   "metadata": {},
   "outputs": [],
   "source": [
    "# from qiskit import QuantumCircuit, Aer, execute\n",
    "\n",
    "# qc = QuantumCircuit(2)\n",
    "# qc.cx(1, 0)\n",
    "# qc.draw(output = \"mpl\", filename=\"qc_cx.jpg\")\n",
    "\n",
    "# simulator = Aer.get_backend('unitary_simulator')\n",
    "# result = execute(qc, simulator).result()\n",
    "\n",
    "# matrix = result.get_unitary(qc)\n",
    "# cnot_latex = array_to_latex(matrix, prefix = \"CNOT_{21} = \", source=True)"
   ]
  },
  {
   "cell_type": "code",
   "execution_count": 15,
   "id": "cb2ef4aa",
   "metadata": {},
   "outputs": [
    {
     "data": {
      "text/latex": [
       "$$CNOT_{21} = \n",
       "\\begin{bmatrix}\n",
       "1 & 0 & 0 & 0  \\\\\n",
       " 0 & 1 & 0 & 0  \\\\\n",
       " 0 & 0 & 0 & 1  \\\\\n",
       " 0 & 0 & 1 & 0  \\\\\n",
       " \\end{bmatrix}\n",
       "$$"
      ],
      "text/plain": [
       "<IPython.core.display.Latex object>"
      ]
     },
     "execution_count": 15,
     "metadata": {},
     "output_type": "execute_result"
    }
   ],
   "source": [
    "cnot_latex = 'CNOT_{21} = \\n\\\\begin{bmatrix}\\n1 & 0 & 0 & 0  \\\\\\\\\\n 0 & 1 & 0 & 0  \\\\\\\\\\n 0 & 0 & 0 & 1  \\\\\\\\\\n 0 & 0 & 1 & 0  \\\\\\\\\\n \\\\end{bmatrix}\\n'\n",
    "Latex(f\"$${cnot_latex}$$\")"
   ]
  },
  {
   "cell_type": "code",
   "execution_count": 16,
   "id": "167a2d74",
   "metadata": {},
   "outputs": [],
   "source": [
    "# qc = QuantumCircuit(2)\n",
    "# qc.cz(1, 0)\n",
    "# qc.draw(output = \"mpl\", filename=\"qc_cz.jpg\")\n",
    "\n",
    "# simulator = Aer.get_backend('unitary_simulator')\n",
    "# result = execute(qc, simulator).result()\n",
    "\n",
    "# matrix = result.get_unitary(qc)\n",
    "# cz_latex = array_to_latex(matrix, prefix = \"CZ_{21} = \", source=True)"
   ]
  },
  {
   "cell_type": "code",
   "execution_count": 17,
   "id": "a86b0ee2",
   "metadata": {},
   "outputs": [
    {
     "data": {
      "text/latex": [
       "$$CZ_{21} = \n",
       "\\begin{bmatrix}\n",
       "1 & 0 & 0 & 0  \\\\\n",
       " 0 & 1 & 0 & 0  \\\\\n",
       " 0 & 0 & 1 & 0  \\\\\n",
       " 0 & 0 & 0 & -1  \\\\\n",
       " \\end{bmatrix}\n",
       "$$"
      ],
      "text/plain": [
       "<IPython.core.display.Latex object>"
      ]
     },
     "execution_count": 17,
     "metadata": {},
     "output_type": "execute_result"
    }
   ],
   "source": [
    "cz_latex = 'CZ_{21} = \\n\\\\begin{bmatrix}\\n1 & 0 & 0 & 0  \\\\\\\\\\n 0 & 1 & 0 & 0  \\\\\\\\\\n 0 & 0 & 1 & 0  \\\\\\\\\\n 0 & 0 & 0 & -1  \\\\\\\\\\n \\\\end{bmatrix}\\n'\n",
    "Latex(f\"$${cz_latex}$$\")"
   ]
  }
 ],
 "metadata": {
  "authors": [
   {
    "affiliations": [
     "IGFAE-USC"
    ],
    "corresponding": true,
    "email": "javier.mas@usc.es",
    "name": "Javier Mas",
    "orcid": "0000-0001-7008-2126"
   },
   {
    "affiliations": [
     "UMA"
    ],
    "corresponding": true,
    "email": "david.castano@uma.es",
    "name": "David Castaño",
    "orcid": "0000-0001-7008-2126"
   }
  ],
  "github": "https://github.com/jamasole/Curso-TalentQ-Jupyterlab",
  "jupytext": {
   "text_representation": {
    "extension": ".md",
    "format_name": "myst",
    "format_version": 0.13,
    "jupytext_version": "1.16.1"
   }
  },
  "kernelspec": {
   "display_name": "Python 3 (ipykernel)",
   "language": "python",
   "name": "python3"
  },
  "language_info": {
   "codemirror_mode": {
    "name": "ipython",
    "version": 3
   },
   "file_extension": ".py",
   "mimetype": "text/x-python",
   "name": "python",
   "nbconvert_exporter": "python",
   "pygments_lexer": "ipython3",
   "version": "3.12.1"
  },
  "license": "CC-BY-4.0",
  "math": {
   "\\C": "{\\mathbb C}",
   "\\Hil": "{\\mathcal H}",
   "\\Lin": "\\rm L",
   "\\O": "{\\mathcal O}",
   "\\R": "{\\mathbb R}",
   "\\V": "{\\cal V}",
   "\\bes": "\\begin{equation*}",
   "\\braa": "{\\langle #1|}",
   "\\braket": "{\\langle #1|#2\\rangle}",
   "\\ees": "\\end{equation*}",
   "\\i": "{\\color{blue} i}",
   "\\ket": "{|#1\\rangle}",
   "\\ketbra": "{|#1\\rangle\\langle #2|}",
   "\\tr": "{\\rm tr}"
  },
  "source_map": [
   44,
   60,
   66,
   71,
   82,
   87,
   102,
   110,
   115,
   139,
   144,
   154,
   159,
   190,
   195,
   201,
   211,
   220,
   226,
   249,
   255,
   261,
   273,
   290,
   297,
   302,
   309,
   314,
   321,
   326,
   346,
   352,
   364,
   370,
   382,
   388,
   403,
   407,
   421,
   424,
   430,
   442,
   445,
   451,
   474
  ],
  "subject": "Curso",
  "venue": "Quantum Spain"
 },
 "nbformat": 4,
 "nbformat_minor": 5
}