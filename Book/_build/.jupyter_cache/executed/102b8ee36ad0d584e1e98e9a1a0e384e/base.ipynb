{
 "cells": [
  {
   "cell_type": "code",
   "execution_count": 1,
   "id": "f3369579",
   "metadata": {
    "slideshow": {
     "slide_type": "-"
    },
    "tags": [
     "hide-input"
    ]
   },
   "outputs": [
    {
     "ename": "ModuleNotFoundError",
     "evalue": "No module named 'macro_tQ'",
     "output_type": "error",
     "traceback": [
      "\u001b[0;31m---------------------------------------------------------------------------\u001b[0m",
      "\u001b[0;31mModuleNotFoundError\u001b[0m                       Traceback (most recent call last)",
      "Cell \u001b[0;32mIn[1], line 3\u001b[0m\n\u001b[1;32m      1\u001b[0m \u001b[38;5;28;01mimport\u001b[39;00m \u001b[38;5;21;01msys\u001b[39;00m\n\u001b[1;32m      2\u001b[0m sys\u001b[38;5;241m.\u001b[39mpath\u001b[38;5;241m.\u001b[39mappend(\u001b[38;5;124m'\u001b[39m\u001b[38;5;124m../\u001b[39m\u001b[38;5;124m'\u001b[39m)\n\u001b[0;32m----> 3\u001b[0m \u001b[38;5;28;01mimport\u001b[39;00m \u001b[38;5;21;01mmacro_tQ\u001b[39;00m \u001b[38;5;28;01mas\u001b[39;00m \u001b[38;5;21;01mtQ\u001b[39;00m\n\u001b[1;32m      5\u001b[0m \u001b[38;5;28;01mimport\u001b[39;00m \u001b[38;5;21;01mnumpy\u001b[39;00m \u001b[38;5;28;01mas\u001b[39;00m \u001b[38;5;21;01mnp\u001b[39;00m\n\u001b[1;32m      6\u001b[0m \u001b[38;5;28;01mimport\u001b[39;00m \u001b[38;5;21;01mscipy\u001b[39;00m\u001b[38;5;21;01m.\u001b[39;00m\u001b[38;5;21;01mlinalg\u001b[39;00m \u001b[38;5;28;01mas\u001b[39;00m \u001b[38;5;21;01mla\u001b[39;00m\n",
      "\u001b[0;31mModuleNotFoundError\u001b[0m: No module named 'macro_tQ'"
     ]
    }
   ],
   "source": [
    "import sys\n",
    "sys.path.append('../')\n",
    "import macro_tQ as tQ\n",
    "\n",
    "import numpy as np\n",
    "import scipy.linalg as la\n",
    "from IPython.display import display,Markdown,Latex\n",
    "import matplotlib.pyplot as plt\n",
    "from qiskit.tools.visualization import array_to_latex"
   ]
  },
  {
   "cell_type": "code",
   "execution_count": 2,
   "id": "072eeb9c",
   "metadata": {
    "slideshow": {
     "slide_type": "-"
    }
   },
   "outputs": [
    {
     "ename": "NameError",
     "evalue": "name 'np' is not defined",
     "output_type": "error",
     "traceback": [
      "\u001b[0;31m---------------------------------------------------------------------------\u001b[0m",
      "\u001b[0;31mNameError\u001b[0m                                 Traceback (most recent call last)",
      "Cell \u001b[0;32mIn[2], line 3\u001b[0m\n\u001b[1;32m      1\u001b[0m \u001b[38;5;124m'\u001b[39m\u001b[38;5;124mangulos de medida\u001b[39m\u001b[38;5;124m'\u001b[39m\n\u001b[1;32m      2\u001b[0m phi_divs \u001b[38;5;241m=\u001b[39m \u001b[38;5;241m100\u001b[39m\n\u001b[0;32m----> 3\u001b[0m phi_list\u001b[38;5;241m=\u001b[39m\u001b[43mnp\u001b[49m\u001b[38;5;241m.\u001b[39mlinspace(\u001b[38;5;241m0\u001b[39m,\u001b[38;5;241m2\u001b[39m\u001b[38;5;241m*\u001b[39mnp\u001b[38;5;241m.\u001b[39mpi,phi_divs) \u001b[38;5;66;03m#lista de angulos'\u001b[39;00m\n\u001b[1;32m      5\u001b[0m \u001b[38;5;124m'\u001b[39m\u001b[38;5;124mlista de correlaciones C[i] a calcular\u001b[39m\u001b[38;5;124m'\u001b[39m\n\u001b[1;32m      6\u001b[0m C\u001b[38;5;241m=\u001b[39m[\u001b[38;5;241m0\u001b[39m,\u001b[38;5;241m0\u001b[39m,\u001b[38;5;241m0\u001b[39m,\u001b[38;5;241m0\u001b[39m]\n",
      "\u001b[0;31mNameError\u001b[0m: name 'np' is not defined"
     ]
    }
   ],
   "source": [
    "'angulos de medida'\n",
    "phi_divs = 100\n",
    "phi_list=np.linspace(0,2*np.pi,phi_divs) #lista de angulos'\n",
    "\n",
    "'lista de correlaciones C[i] a calcular'\n",
    "C=[0,0,0,0]\n",
    "\n",
    "'lista de valores de R'\n",
    "R=np.zeros(phi_divs)\n",
    "\n",
    "'Numero de medidas'\n",
    "nshots = 2048\n",
    "\n",
    "from qiskit import QuantumCircuit, Aer, execute\n",
    "M_simulator = Aer.get_backend('qasm_simulator')\n",
    "\n"
   ]
  },
  {
   "cell_type": "code",
   "execution_count": 3,
   "id": "644a9112",
   "metadata": {
    "slideshow": {
     "slide_type": "slide"
    }
   },
   "outputs": [
    {
     "ename": "NameError",
     "evalue": "name 'phi_list' is not defined",
     "output_type": "error",
     "traceback": [
      "\u001b[0;31m---------------------------------------------------------------------------\u001b[0m",
      "\u001b[0;31mNameError\u001b[0m                                 Traceback (most recent call last)",
      "Cell \u001b[0;32mIn[3], line 4\u001b[0m\n\u001b[1;32m      1\u001b[0m \u001b[38;5;28;01mfor\u001b[39;00m j \u001b[38;5;129;01min\u001b[39;00m \u001b[38;5;28mrange\u001b[39m(phi_divs): \n\u001b[1;32m      3\u001b[0m     \u001b[38;5;124m'\u001b[39m\u001b[38;5;124mángulos de medida\u001b[39m\u001b[38;5;124m'\u001b[39m\n\u001b[0;32m----> 4\u001b[0m     phi\u001b[38;5;241m=\u001b[39m\u001b[43mphi_list\u001b[49m[j] \n\u001b[1;32m      5\u001b[0m \u001b[38;5;250m    \u001b[39m\u001b[38;5;124;03m'''A' = 2\\phi, A = B = phi, B' = 0'''\u001b[39;00m\n\u001b[1;32m      6\u001b[0m     angles_AB\u001b[38;5;241m=\u001b[39m[[phi,phi],[\u001b[38;5;241m2\u001b[39m\u001b[38;5;241m*\u001b[39mphi,phi],[phi,\u001b[38;5;241m0\u001b[39m],[\u001b[38;5;241m2\u001b[39m\u001b[38;5;241m*\u001b[39mphi,\u001b[38;5;241m0\u001b[39m]] \u001b[38;5;66;03m# AB , A'B , AB', A'B'\u001b[39;00m\n",
      "\u001b[0;31mNameError\u001b[0m: name 'phi_list' is not defined"
     ]
    }
   ],
   "source": [
    "for j in range(phi_divs): \n",
    "\n",
    "    'ángulos de medida'\n",
    "    phi=phi_list[j] \n",
    "    '''A' = 2\\phi, A = B = phi, B' = 0'''\n",
    "    angles_AB=[[phi,phi],[2*phi,phi],[phi,0],[2*phi,0]] # AB , A'B , AB', A'B'\n",
    "\n",
    "    for i in range(4):        \n",
    "        'una pareja de ángulos uno para A y otro para B '\n",
    "        ang_AB=angles_AB[i]\n",
    "\n",
    "        'hay un circuito para cada proceso de medida'\n",
    "        qc=QuantumCircuit(2,2)\n",
    "        'creamos el par de Bell B(11)'\n",
    "        qc.x(0)\n",
    "        qc.x(1)\n",
    "        qc.h(0)\n",
    "        qc.cx(0,1)\n",
    "\n",
    "         \n",
    "        'simulamos la medida en la base de los polarizadores de A y B rotados en torno al eje x'\n",
    "        qc.rx(-ang_AB[0],0)  # notar el valor negativo del ángulo de rotación \n",
    "        qc.rx(-ang_AB[1],1)\n",
    "        qc.measure([0,1],[0,1])\n",
    "        \n",
    "        if j ==0 and i ==0:\n",
    "            display(qc.draw('mpl'))\n",
    "        ' medimos '\n",
    "        counts=execute(qc,backend = M_simulator,shots = nshots).result().get_counts()         \n",
    "        'construimos el correlador'\n",
    "        C[i]= 0 \n",
    "        for bitstring, counts in counts.items():\n",
    "            C[i] += (-1)**(sum([int(bit) for bit in bitstring])) * counts/nshots \n",
    "\n",
    "    'construimos la cantidad R'\n",
    "    R[j]=np.abs(C[0]+C[1]+C[2]-C[3])"
   ]
  },
  {
   "cell_type": "code",
   "execution_count": 4,
   "id": "bd757416",
   "metadata": {
    "slideshow": {
     "slide_type": "-"
    }
   },
   "outputs": [
    {
     "ename": "NameError",
     "evalue": "name 'np' is not defined",
     "output_type": "error",
     "traceback": [
      "\u001b[0;31m---------------------------------------------------------------------------\u001b[0m",
      "\u001b[0;31mNameError\u001b[0m                                 Traceback (most recent call last)",
      "Cell \u001b[0;32mIn[4], line 2\u001b[0m\n\u001b[1;32m      1\u001b[0m \u001b[38;5;124m'\u001b[39m\u001b[38;5;124m función analítica \u001b[39m\u001b[38;5;124m'\u001b[39m\n\u001b[0;32m----> 2\u001b[0m fx\u001b[38;5;241m=\u001b[39m \u001b[43mnp\u001b[49m\u001b[38;5;241m.\u001b[39mabs(\u001b[38;5;241m1\u001b[39m \u001b[38;5;241m+\u001b[39m \u001b[38;5;241m2\u001b[39m\u001b[38;5;241m*\u001b[39mnp\u001b[38;5;241m.\u001b[39mcos(phi_list) \u001b[38;5;241m-\u001b[39m np\u001b[38;5;241m.\u001b[39mcos(\u001b[38;5;241m2\u001b[39m\u001b[38;5;241m*\u001b[39mphi_list))\n\u001b[1;32m      3\u001b[0m plt\u001b[38;5;241m.\u001b[39mplot(phi_list,fx,\u001b[38;5;124m'\u001b[39m\u001b[38;5;124mk-\u001b[39m\u001b[38;5;124m'\u001b[39m,linewidth\u001b[38;5;241m=\u001b[39m\u001b[38;5;241m1\u001b[39m)\n\u001b[1;32m      5\u001b[0m \u001b[38;5;124m'\u001b[39m\u001b[38;5;124m resultado de la simulación\u001b[39m\u001b[38;5;124m'\u001b[39m\n",
      "\u001b[0;31mNameError\u001b[0m: name 'np' is not defined"
     ]
    }
   ],
   "source": [
    "' función analítica '\n",
    "fx= np.abs(1 + 2*np.cos(phi_list) - np.cos(2*phi_list))\n",
    "plt.plot(phi_list,fx,'k-',linewidth=1)\n",
    "\n",
    "' resultado de la simulación'\n",
    "plt.plot(phi_list,R,'.')\n",
    "plt.axhline(y = 2, color = 'r', linestyle = '-')\n",
    "plt.axhline(y = -2, color = 'r', linestyle = '-')\n",
    "\n",
    "' líneas horizotales en +2 y - 2'\n",
    "plt.axvline(x = np.pi/3, color = 'b', linestyle = '-')\n",
    "plt.axvline(x = 5*np.pi/3, color = 'b', linestyle = '-')\n",
    "plt.xlabel(r'$\\varphi$')\n",
    "plt.ylabel(r'$R(\\varphi)$')\n",
    "plt.show()"
   ]
  },
  {
   "cell_type": "code",
   "execution_count": 5,
   "id": "48b7222b",
   "metadata": {
    "run_control": {
     "marked": false
    },
    "slideshow": {
     "slide_type": "fragment"
    }
   },
   "outputs": [
    {
     "name": "stderr",
     "output_type": "stream",
     "text": [
      "/home/dcb/Programs/miniconda/miniconda3/envs/qiskit_qibo_penny/lib/python3.11/site-packages/qiskit/visualization/circuit/matplotlib.py:266: FutureWarning: The default matplotlib drawer scheme will be changed to \"iqp\" in a following release. To silence this warning, specify the current default explicitly as style=\"clifford\", or the new default as style=\"iqp\".\n",
      "  self._style, def_font_ratio = load_style(self._style)\n"
     ]
    },
    {
     "data": {
      "image/png": "[encoded data removed]",
      "text/plain": [
       "<Figure size 454.719x367.889 with 1 Axes>"
      ]
     },
     "execution_count": 5,
     "metadata": {},
     "output_type": "execute_result"
    }
   ],
   "source": [
    "from qiskit import QuantumRegister, ClassicalRegister, QuantumCircuit, Aer, execute\n",
    "\n",
    "qc_GHZ = QuantumCircuit(3,3) \n",
    "\n",
    "qc_GHZ.x(0)\n",
    "qc_GHZ.h(0)\n",
    "qc_GHZ.cx(0,1)\n",
    "qc_GHZ.cx(0,2)\n",
    "\n",
    "qc_GHZ.draw(output='mpl')"
   ]
  },
  {
   "cell_type": "code",
   "execution_count": 6,
   "id": "dc83268e",
   "metadata": {
    "slideshow": {
     "slide_type": "fragment"
    }
   },
   "outputs": [
    {
     "ename": "NameError",
     "evalue": "name 'mc_add_measure_XYZ' is not defined",
     "output_type": "error",
     "traceback": [
      "\u001b[0;31m---------------------------------------------------------------------------\u001b[0m",
      "\u001b[0;31mNameError\u001b[0m                                 Traceback (most recent call last)",
      "Cell \u001b[0;32mIn[6], line 14\u001b[0m\n\u001b[1;32m     11\u001b[0m multibasis \u001b[38;5;241m=\u001b[39m \u001b[38;5;124m'\u001b[39m\u001b[38;5;124mXXX\u001b[39m\u001b[38;5;124m'\u001b[39m\n\u001b[1;32m     13\u001b[0m qc_GHZ\u001b[38;5;241m.\u001b[39mbarrier()\n\u001b[0;32m---> 14\u001b[0m \u001b[43mmc_add_measure_XYZ\u001b[49m(qc_GHZ, multibasis)\n\u001b[1;32m     15\u001b[0m qc_GHZ\u001b[38;5;241m.\u001b[39mdraw(output\u001b[38;5;241m=\u001b[39m\u001b[38;5;124m'\u001b[39m\u001b[38;5;124mmpl\u001b[39m\u001b[38;5;124m'\u001b[39m)\n",
      "\u001b[0;31mNameError\u001b[0m: name 'mc_add_measure_XYZ' is not defined"
     ]
    }
   ],
   "source": [
    "from qiskit import Aer, execute\n",
    "\n",
    "M_backend = Aer.get_backend('qasm_simulator')\n",
    "shots=1000\n",
    "\n",
    "\n",
    "'elige uno de los términos siguientes'\n",
    "#multibasis = 'YYX'\n",
    "#multibasis = 'YXY'\n",
    "#multibasis = 'XYY'\n",
    "multibasis = 'XXX'\n",
    "\n",
    "qc_GHZ.barrier()\n",
    "mc_add_measure_XYZ(qc_GHZ, multibasis)\n",
    "qc_GHZ.draw(output='mpl')"
   ]
  },
  {
   "cell_type": "code",
   "execution_count": 7,
   "id": "1966e126",
   "metadata": {
    "slideshow": {
     "slide_type": "fragment"
    }
   },
   "outputs": [
    {
     "ename": "QiskitError",
     "evalue": "'No counts for experiment \"0\"'",
     "output_type": "error",
     "traceback": [
      "\u001b[0;31m---------------------------------------------------------------------------\u001b[0m",
      "\u001b[0;31mQiskitError\u001b[0m                               Traceback (most recent call last)",
      "Cell \u001b[0;32mIn[7], line 1\u001b[0m\n\u001b[0;32m----> 1\u001b[0m cuentas_GHZ \u001b[38;5;241m=\u001b[39m \u001b[43mexecute\u001b[49m\u001b[43m(\u001b[49m\u001b[43mqc_GHZ\u001b[49m\u001b[43m,\u001b[49m\u001b[43mM_backend\u001b[49m\u001b[43m,\u001b[49m\u001b[43mshots\u001b[49m\u001b[38;5;241;43m=\u001b[39;49m\u001b[43mshots\u001b[49m\u001b[43m)\u001b[49m\u001b[38;5;241;43m.\u001b[39;49m\u001b[43mresult\u001b[49m\u001b[43m(\u001b[49m\u001b[43m)\u001b[49m\u001b[38;5;241;43m.\u001b[39;49m\u001b[43mget_counts\u001b[49m\u001b[43m(\u001b[49m\u001b[43m)\u001b[49m\n\u001b[1;32m      2\u001b[0m \u001b[38;5;28mprint\u001b[39m(\u001b[38;5;124m'\u001b[39m\u001b[38;5;124m<\u001b[39m\u001b[38;5;124m'\u001b[39m\u001b[38;5;241m+\u001b[39m\u001b[38;5;28mstr\u001b[39m(multibasis)\u001b[38;5;241m+\u001b[39m\u001b[38;5;124m'\u001b[39m\u001b[38;5;124m> =\u001b[39m\u001b[38;5;124m'\u001b[39m, mc_val_esp_sigma(cuentas_GHZ)[\u001b[38;5;241m0\u001b[39m])\n",
      "File \u001b[0;32m~/Programs/miniconda/miniconda3/envs/qiskit_qibo_penny/lib/python3.11/site-packages/qiskit/result/result.py:289\u001b[0m, in \u001b[0;36mResult.get_counts\u001b[0;34m(self, experiment)\u001b[0m\n\u001b[1;32m    287\u001b[0m         dict_list\u001b[38;5;241m.\u001b[39mappend(statevector\u001b[38;5;241m.\u001b[39mStatevector(vec)\u001b[38;5;241m.\u001b[39mprobabilities_dict(decimals\u001b[38;5;241m=\u001b[39m\u001b[38;5;241m15\u001b[39m))\n\u001b[1;32m    288\u001b[0m     \u001b[38;5;28;01melse\u001b[39;00m:\n\u001b[0;32m--> 289\u001b[0m         \u001b[38;5;28;01mraise\u001b[39;00m QiskitError(\u001b[38;5;124mf\u001b[39m\u001b[38;5;124m'\u001b[39m\u001b[38;5;124mNo counts for experiment \u001b[39m\u001b[38;5;124m\"\u001b[39m\u001b[38;5;132;01m{\u001b[39;00m\u001b[38;5;28mrepr\u001b[39m(key)\u001b[38;5;132;01m}\u001b[39;00m\u001b[38;5;124m\"\u001b[39m\u001b[38;5;124m'\u001b[39m)\n\u001b[1;32m    291\u001b[0m \u001b[38;5;66;03m# Return first item of dict_list if size is 1\u001b[39;00m\n\u001b[1;32m    292\u001b[0m \u001b[38;5;28;01mif\u001b[39;00m \u001b[38;5;28mlen\u001b[39m(dict_list) \u001b[38;5;241m==\u001b[39m \u001b[38;5;241m1\u001b[39m:\n",
      "\u001b[0;31mQiskitError\u001b[0m: 'No counts for experiment \"0\"'"
     ]
    }
   ],
   "source": [
    "cuentas_GHZ = execute(qc_GHZ,M_backend,shots=shots).result().get_counts()\n",
    "print('<'+str(multibasis)+'> =', mc_val_esp_sigma(cuentas_GHZ)[0])"
   ]
  },
  {
   "cell_type": "code",
   "execution_count": 8,
   "id": "ee9d9981",
   "metadata": {
    "slideshow": {
     "slide_type": "-"
    }
   },
   "outputs": [
    {
     "ename": "NameError",
     "evalue": "name 'np' is not defined",
     "output_type": "error",
     "traceback": [
      "\u001b[0;31m---------------------------------------------------------------------------\u001b[0m",
      "\u001b[0;31mNameError\u001b[0m                                 Traceback (most recent call last)",
      "Cell \u001b[0;32mIn[8], line 8\u001b[0m\n\u001b[1;32m      2\u001b[0m [theta,phi]\u001b[38;5;241m=\u001b[39m[\u001b[38;5;241m1.1\u001b[39m , \u001b[38;5;241m2.2\u001b[39m]\n\u001b[1;32m      4\u001b[0m \u001b[38;5;66;03m# o hazlo de forma aleatoria\u001b[39;00m\n\u001b[1;32m      5\u001b[0m \u001b[38;5;66;03m#import random\u001b[39;00m\n\u001b[1;32m      6\u001b[0m \u001b[38;5;66;03m#[theta,phi] = np.array([np.pi*np.random.rand(),2*np.pi*np.random.rand()])\u001b[39;00m\n\u001b[0;32m----> 8\u001b[0m estado \u001b[38;5;241m=\u001b[39m [\u001b[43mnp\u001b[49m\u001b[38;5;241m.\u001b[39mcos(theta\u001b[38;5;241m/\u001b[39m\u001b[38;5;241m2\u001b[39m),(np\u001b[38;5;241m.\u001b[39mexp(\u001b[38;5;241m1\u001b[39mj\u001b[38;5;241m*\u001b[39mphi))\u001b[38;5;241m*\u001b[39mnp\u001b[38;5;241m.\u001b[39msin(theta\u001b[38;5;241m/\u001b[39m\u001b[38;5;241m2\u001b[39m)]\n\u001b[1;32m     10\u001b[0m \u001b[38;5;66;03m#visualicémoslo en la esfera de Bloch\u001b[39;00m\n\u001b[1;32m     11\u001b[0m \u001b[38;5;28;01mfrom\u001b[39;00m \u001b[38;5;21;01mqiskit\u001b[39;00m\u001b[38;5;21;01m.\u001b[39;00m\u001b[38;5;21;01mvisualization\u001b[39;00m \u001b[38;5;28;01mimport\u001b[39;00m plot_bloch_multivector, array_to_latex  \n",
      "\u001b[0;31mNameError\u001b[0m: name 'np' is not defined"
     ]
    }
   ],
   "source": [
    "# escoge dos ángulos theta y phi en la esfera de Bloch\n",
    "[theta,phi]=[1.1 , 2.2]\n",
    "\n",
    "# o hazlo de forma aleatoria\n",
    "#import random\n",
    "#[theta,phi] = np.array([np.pi*np.random.rand(),2*np.pi*np.random.rand()])\n",
    "\n",
    "estado = [np.cos(theta/2),(np.exp(1j*phi))*np.sin(theta/2)]\n",
    "\n",
    "#visualicémoslo en la esfera de Bloch\n",
    "from qiskit.visualization import plot_bloch_multivector, array_to_latex  \n",
    "plot_bloch_multivector(estado)"
   ]
  },
  {
   "cell_type": "code",
   "execution_count": 9,
   "id": "5734044e",
   "metadata": {
    "run_control": {
     "marked": false
    },
    "slideshow": {
     "slide_type": "-"
    }
   },
   "outputs": [],
   "source": [
    "from qiskit import QuantumCircuit, QuantumRegister, ClassicalRegister, Aer, execute\n",
    "\n",
    "qrA = QuantumRegister(2, name=\"qAlice\") \n",
    "qrB =  QuantumRegister(1, name=\"qBob\") \n",
    "crx = ClassicalRegister(1, name=\"crx\") \n",
    "cry = ClassicalRegister(1, name=\"cry\") "
   ]
  },
  {
   "cell_type": "code",
   "execution_count": 10,
   "id": "b50d991f",
   "metadata": {
    "slideshow": {
     "slide_type": "slide"
    }
   },
   "outputs": [
    {
     "ename": "NameError",
     "evalue": "name 'estado' is not defined",
     "output_type": "error",
     "traceback": [
      "\u001b[0;31m---------------------------------------------------------------------------\u001b[0m",
      "\u001b[0;31mNameError\u001b[0m                                 Traceback (most recent call last)",
      "Cell \u001b[0;32mIn[10], line 10\u001b[0m\n\u001b[1;32m      7\u001b[0m qc\u001b[38;5;241m.\u001b[39mbarrier()\n\u001b[1;32m      9\u001b[0m \u001b[38;5;66;03m# inyecta en el circuito el estado a teleportar\u001b[39;00m\n\u001b[0;32m---> 10\u001b[0m qc\u001b[38;5;241m.\u001b[39minitialize(\u001b[43mestado\u001b[49m,\u001b[38;5;241m0\u001b[39m)\n\u001b[1;32m     12\u001b[0m qc\u001b[38;5;241m.\u001b[39mbarrier()\n\u001b[1;32m     14\u001b[0m \u001b[38;5;66;03m# Añade un medidor de estados de Bell en los cúbits de Alice y efectúa las medidas\u001b[39;00m\n",
      "\u001b[0;31mNameError\u001b[0m: name 'estado' is not defined"
     ]
    }
   ],
   "source": [
    "# inicializa el circuito\n",
    "qc = QuantumCircuit(qrA,qrB, crx, cry)\n",
    "\n",
    "# Alice y Bob comparten un par de Bell\n",
    "qc.h(qrA[1])\n",
    "qc.cx(qrA[1],qrB[0])\n",
    "qc.barrier()\n",
    "\n",
    "# inyecta en el circuito el estado a teleportar\n",
    "qc.initialize(estado,0)\n",
    "\n",
    "qc.barrier()\n",
    "\n",
    "# Añade un medidor de estados de Bell en los cúbits de Alice y efectúa las medidas\n",
    "qc.cx(qrA[0],qrA[1])\n",
    "qc.h(qrA[0])\n",
    "qc.barrier()\n",
    "qc.measure([qrA[0],qrA[1]],[0,1])\n",
    "\n",
    "# Añade el operador X^y Z^x controlado clásicamente por las salidas x e y \n",
    "qc.x(qrB[0]).c_if(cry, 1)  \n",
    "qc.z(qrB[0]).c_if(crx, 1)  \n",
    "qc.barrier()\n",
    "\n",
    "#visualiza el circuito \n",
    "qc.draw('mpl')"
   ]
  },
  {
   "cell_type": "code",
   "execution_count": 11,
   "id": "1a549652",
   "metadata": {
    "slideshow": {
     "slide_type": "slide"
    }
   },
   "outputs": [
    {
     "ename": "NameError",
     "evalue": "name 'plot_bloch_multivector' is not defined",
     "output_type": "error",
     "traceback": [
      "\u001b[0;31m---------------------------------------------------------------------------\u001b[0m",
      "\u001b[0;31mNameError\u001b[0m                                 Traceback (most recent call last)",
      "Cell \u001b[0;32mIn[11], line 4\u001b[0m\n\u001b[1;32m      2\u001b[0m S_simulator \u001b[38;5;241m=\u001b[39m Aer\u001b[38;5;241m.\u001b[39mget_backend(\u001b[38;5;124m'\u001b[39m\u001b[38;5;124mstatevector_simulator\u001b[39m\u001b[38;5;124m'\u001b[39m)\n\u001b[1;32m      3\u001b[0m out_vector\u001b[38;5;241m=\u001b[39mexecute(qc,S_simulator)\u001b[38;5;241m.\u001b[39mresult()\u001b[38;5;241m.\u001b[39mget_statevector()\n\u001b[0;32m----> 4\u001b[0m \u001b[43mplot_bloch_multivector\u001b[49m(out_vector)\n",
      "\u001b[0;31mNameError\u001b[0m: name 'plot_bloch_multivector' is not defined"
     ]
    }
   ],
   "source": [
    "# ejecuta varias veces y observa el resultado \n",
    "S_simulator = Aer.get_backend('statevector_simulator')\n",
    "out_vector=execute(qc,S_simulator).result().get_statevector()\n",
    "plot_bloch_multivector(out_vector)"
   ]
  }
 ],
 "metadata": {
  "celltoolbar": "Tags",
  "kernelspec": {
   "display_name": "Python 3 (ipykernel)",
   "language": "python",
   "name": "python3"
  },
  "language_info": {
   "codemirror_mode": {
    "name": "ipython",
    "version": 3
   },
   "file_extension": ".py",
   "mimetype": "text/x-python",
   "name": "python",
   "nbconvert_exporter": "python",
   "pygments_lexer": "ipython3",
   "version": "3.11.7"
  },
  "toc": {
   "base_numbering": 1,
   "nav_menu": {},
   "number_sections": true,
   "sideBar": true,
   "skip_h1_title": true,
   "title_cell": "Table of Contents",
   "title_sidebar": "Contents",
   "toc_cell": false,
   "toc_position": {
    "height": "calc(100% - 180px)",
    "left": "10px",
    "top": "150px",
    "width": "414.053px"
   },
   "toc_section_display": true,
   "toc_window_display": true
  },
  "varInspector": {
   "cols": {
    "lenName": 16,
    "lenType": 16,
    "lenVar": 40
   },
   "kernels_config": {
    "python": {
     "delete_cmd_postfix": "",
     "delete_cmd_prefix": "del ",
     "library": "var_list.py",
     "varRefreshCmd": "print(var_dic_list())"
    },
    "r": {
     "delete_cmd_postfix": ") ",
     "delete_cmd_prefix": "rm(",
     "library": "var_list.r",
     "varRefreshCmd": "cat(var_dic_list()) "
    }
   },
   "types_to_exclude": [
    "module",
    "function",
    "builtin_function_or_method",
    "instance",
    "_Feature"
   ],
   "window_display": false
  }
 },
 "nbformat": 4,
 "nbformat_minor": 5
}