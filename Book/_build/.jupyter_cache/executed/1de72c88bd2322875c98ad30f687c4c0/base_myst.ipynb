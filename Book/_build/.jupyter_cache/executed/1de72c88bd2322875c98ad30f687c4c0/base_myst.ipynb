{
 "cells": [
  {
   "cell_type": "code",
   "execution_count": 1,
   "id": "c7bd5d4c",
   "metadata": {
    "slideshow": {
     "slide_type": "-"
    }
   },
   "outputs": [],
   "source": [
    "> {sub-ref}`today` | {sub-ref}`wordcount-minutes` min read\n",
    "\n",
    "import sys\n",
    "sys.path.append('../')\n",
    "import macro_tQ as tQ\n",
    "\n",
    "import numpy as np\n",
    "import scipy.linalg as la\n",
    "from IPython.display import display,Markdown,Latex\n",
    "import matplotlib.pyplot as plt\n",
    "from qiskit.tools.visualization import array_to_latex"
   ]
  },
  {
   "cell_type": "code",
   "execution_count": 2,
   "id": "910284be",
   "metadata": {
    "slideshow": {
     "slide_type": "skip"
    }
   },
   "outputs": [
    {
     "ename": "NameError",
     "evalue": "name 'R' is not defined",
     "output_type": "error",
     "traceback": [
      "\u001b[0;31m---------------------------------------------------------------------------\u001b[0m",
      "\u001b[0;31mNameError\u001b[0m                                 Traceback (most recent call last)",
      "Cell \u001b[0;32mIn[2], line 14\u001b[0m\n\u001b[1;32m      6\u001b[0m u2\u001b[38;5;241m=\u001b[39m\u001b[38;5;241m2.\u001b[39m\n\u001b[1;32m      8\u001b[0m \u001b[38;5;66;03m#'''v1 y v2 a partir de u1, u2 y theta'''\u001b[39;00m\n\u001b[1;32m      9\u001b[0m \u001b[38;5;66;03m#def R(u1,u2,theta):\u001b[39;00m\n\u001b[1;32m     10\u001b[0m \u001b[38;5;66;03m#        u = u1 + u2*1j\u001b[39;00m\n\u001b[1;32m     11\u001b[0m \u001b[38;5;66;03m#        v = u*np.exp(1j*theta) # u rotado un angulo theta\u001b[39;00m\n\u001b[1;32m     12\u001b[0m \u001b[38;5;66;03m#        return v.real,v.imag\u001b[39;00m\n\u001b[0;32m---> 14\u001b[0m v1,v2 \u001b[38;5;241m=\u001b[39m  \u001b[43mR\u001b[49m(u1,u2,theta)\n\u001b[1;32m     16\u001b[0m \u001b[38;5;124;03m''' Representación en el plano complejo '''\u001b[39;00m\n\u001b[1;32m     17\u001b[0m v \u001b[38;5;241m=\u001b[39m v1\u001b[38;5;241m*\u001b[39m\u001b[38;5;241m*\u001b[39m\u001b[38;5;241m2\u001b[39m\u001b[38;5;241m+\u001b[39mv2\u001b[38;5;241m*\u001b[39m\u001b[38;5;241m*\u001b[39m\u001b[38;5;241m2\u001b[39m\n",
      "\u001b[0;31mNameError\u001b[0m: name 'R' is not defined"
     ]
    }
   ],
   "source": [
    "'''ángulo que queremos rotar'''\n",
    "theta=0.6 \n",
    "\n",
    "'''vector a rotar'''\n",
    "u1=2.\n",
    "u2=2.\n",
    "\n",
    "#'''v1 y v2 a partir de u1, u2 y theta'''\n",
    "#def R(u1,u2,theta):\n",
    "#        u = u1 + u2*1j\n",
    "#        v = u*np.exp(1j*theta) # u rotado un angulo theta\n",
    "#        return v.real,v.imag\n",
    "    \n",
    "v1,v2 =  R(u1,u2,theta)\n",
    "\n",
    "''' Representación en el plano complejo '''\n",
    "v = v1**2+v2**2\n",
    "tQ.plot_2D_plane(left=-int(abs(v1))-2,right=int(abs(v1))+2,up=int(abs(v2))+1,down=-int(abs(v2))-1)\n",
    "tQ.draw_vector(u1,u1,vcolor='b')\n",
    "tQ.draw_vector(v1,v2,vcolor='r')\n"
   ]
  },
  {
   "cell_type": "code",
   "execution_count": 3,
   "id": "3ef54774",
   "metadata": {},
   "outputs": [
    {
     "data": {
      "text/latex": [
       "$$\n",
       "\n",
       "\\begin{bmatrix}\n",
       "1 & 1 + 2 i  \\\\\n",
       " 2 + 3 i & 3 - i  \\\\\n",
       " \\end{bmatrix}\n",
       "$$"
      ],
      "text/plain": [
       "<IPython.core.display.Latex object>"
      ]
     },
     "metadata": {},
     "output_type": "display_data"
    },
    {
     "data": {
      "text/latex": [
       "$$\n",
       "\n",
       "\\begin{bmatrix}\n",
       "1 & 2 - 3 i  \\\\\n",
       " 1 - 2 i & 3 + i  \\\\\n",
       " \\end{bmatrix}\n",
       "$$"
      ],
      "text/plain": [
       "<IPython.core.display.Latex object>"
      ]
     },
     "metadata": {},
     "output_type": "display_data"
    }
   ],
   "source": [
    "A = np.array([[1,1+2j],[2+3j,3-1j]])\n",
    "display(array_to_latex(A))\n",
    "\n",
    "Aadj = A.T.conj()\n",
    "display(array_to_latex(Aadj))\n"
   ]
  },
  {
   "cell_type": "code",
   "execution_count": 4,
   "id": "dabedb88",
   "metadata": {
    "slideshow": {
     "slide_type": "skip"
    }
   },
   "outputs": [
    {
     "data": {
      "text/latex": [
       "$$\n",
       "\n",
       "\\begin{bmatrix}\n",
       "\\frac{\\sqrt{2}}{2} & \\frac{\\sqrt{2} i}{2}  \\\\\n",
       " \\frac{\\sqrt{2} i}{2} & \\frac{\\sqrt{2}}{2}  \\\\\n",
       " \\end{bmatrix}\n",
       "$$"
      ],
      "text/plain": [
       "<IPython.core.display.Latex object>"
      ]
     },
     "execution_count": 4,
     "metadata": {},
     "output_type": "execute_result"
    }
   ],
   "source": [
    "U=np.matrix([[1,1J],[1J, + 1]])/np.sqrt(2)\n",
    "array_to_latex(U)"
   ]
  },
  {
   "cell_type": "code",
   "execution_count": 5,
   "id": "38cc621f",
   "metadata": {
    "slideshow": {
     "slide_type": "skip"
    }
   },
   "outputs": [
    {
     "data": {
      "text/latex": [
       "$$\n",
       "\n",
       "\\begin{bmatrix}\n",
       "\\frac{\\sqrt{2}}{2} & - \\frac{\\sqrt{2} i}{2}  \\\\\n",
       " - \\frac{\\sqrt{2} i}{2} & \\frac{\\sqrt{2}}{2}  \\\\\n",
       " \\end{bmatrix}\n",
       "$$"
      ],
      "text/plain": [
       "<IPython.core.display.Latex object>"
      ]
     },
     "execution_count": 5,
     "metadata": {},
     "output_type": "execute_result"
    }
   ],
   "source": [
    "Uadj=U.getH() # getH es un método de la clase matrix que devuelve la matriz conjugada hermítica\n",
    "array_to_latex(Uadj)"
   ]
  },
  {
   "cell_type": "code",
   "execution_count": 6,
   "id": "d4b71087",
   "metadata": {
    "slideshow": {
     "slide_type": "skip"
    }
   },
   "outputs": [
    {
     "name": "stdout",
     "output_type": "stream",
     "text": [
      "comprobamos que U es unitaria\n"
     ]
    },
    {
     "data": {
      "text/latex": [
       "$$\n",
       "\n",
       "\\begin{bmatrix}\n",
       "1 & 0  \\\\\n",
       " 0 & 1  \\\\\n",
       " \\end{bmatrix}\n",
       "$$"
      ],
      "text/plain": [
       "<IPython.core.display.Latex object>"
      ]
     },
     "execution_count": 6,
     "metadata": {},
     "output_type": "execute_result"
    }
   ],
   "source": [
    "print('comprobamos que U es unitaria')\n",
    "\n",
    "array_to_latex(np.dot(Uadj,U))"
   ]
  },
  {
   "cell_type": "code",
   "execution_count": 7,
   "id": "ca29b1e4",
   "metadata": {
    "slideshow": {
     "slide_type": "slide"
    }
   },
   "outputs": [
    {
     "data": {
      "text/latex": [
       "$$\n",
       "\n",
       "\\begin{bmatrix}\n",
       "0.6778527033 - 0.5971307961 i  \\\\\n",
       " 0.0903212041 + 0.145795272 i  \\\\\n",
       " -0.3194592991 + 0.2290897202 i  \\\\\n",
       " \\end{bmatrix}\n",
       "$$"
      ],
      "text/plain": [
       "<IPython.core.display.Latex object>"
      ]
     },
     "metadata": {},
     "output_type": "display_data"
    },
    {
     "data": {
      "text/latex": [
       "$$\n",
       "\n",
       "\\begin{bmatrix}\n",
       "0.816049475 & -0.0258343745 - 0.1527612917 i & -0.3533428765 + 0.0354698995 i  \\\\\n",
       " -0.0258343745 + 0.1527612917 i & 0.0294141812 & 0.0045462495 - 0.0672673148 i  \\\\\n",
       " -0.3533428765 - 0.0354698995 i & 0.0045462495 + 0.0672673148 i & 0.1545363437  \\\\\n",
       " \\end{bmatrix}\n",
       "$$"
      ],
      "text/plain": [
       "<IPython.core.display.Latex object>"
      ]
     },
     "metadata": {},
     "output_type": "display_data"
    },
    {
     "data": {
      "text/latex": [
       "$$\n",
       "\n",
       "\\begin{bmatrix}\n",
       "0.183950525 & 0.0258343745 + 0.1527612917 i & 0.3533428765 - 0.0354698995 i  \\\\\n",
       " 0.0258343745 - 0.1527612917 i & 0.9705858188 & -0.0045462495 + 0.0672673148 i  \\\\\n",
       " 0.3533428765 + 0.0354698995 i & -0.0045462495 - 0.0672673148 i & 0.8454636563  \\\\\n",
       " \\end{bmatrix}\n",
       "$$"
      ],
      "text/plain": [
       "<IPython.core.display.Latex object>"
      ]
     },
     "metadata": {},
     "output_type": "display_data"
    }
   ],
   "source": [
    "d = 3\n",
    "\n",
    "' generamos un vector aleatorio'\n",
    "u = tQ.random_ket(d)\n",
    "display(array_to_latex(u))\n",
    "\n",
    "' obtenemos los proyectores paralelo y perpendicular'\n",
    "P_par = tQ.ket_bra(u,u);\n",
    "P_perp = np.identity(d) - P_par\n",
    "\n",
    "display(array_to_latex(P_par))\n",
    "display(array_to_latex(P_perp))"
   ]
  },
  {
   "cell_type": "code",
   "execution_count": 8,
   "id": "135c6cff",
   "metadata": {
    "slideshow": {
     "slide_type": "slide"
    }
   },
   "outputs": [
    {
     "data": {
      "text/latex": [
       "$$\n",
       "\n",
       "\\begin{bmatrix}\n",
       "0 & 0 & 0  \\\\\n",
       " 0 & 0 & 0  \\\\\n",
       " 0 & 0 & 0  \\\\\n",
       " \\end{bmatrix}\n",
       "$$"
      ],
      "text/plain": [
       "<IPython.core.display.Latex object>"
      ]
     },
     "metadata": {},
     "output_type": "display_data"
    },
    {
     "name": "stdout",
     "output_type": "stream",
     "text": [
      "(-0+0j)\n"
     ]
    }
   ],
   "source": [
    "\n",
    "' check properties P^2 = P, and orthogonality '\n",
    "A = P_par@P_par - P_par\n",
    "B = P_perp@P_perp - P_perp\n",
    "C = P_par@P_perp\n",
    "\n",
    "display(array_to_latex(A))\n",
    "\n",
    "\n",
    "' obtain parallel and perpendicular components of another vector'\n",
    "psi = tQ.random_ket(d)\n",
    "\n",
    "psi_par = np.dot(P_par,psi)\n",
    "psi_perp = np.dot(P_perp,psi)\n",
    "\n",
    "\n",
    "print(np.round(tQ.braket(psi_par,psi_perp),4))"
   ]
  },
  {
   "cell_type": "code",
   "execution_count": 9,
   "id": "42fbdbaf",
   "metadata": {
    "slideshow": {
     "slide_type": "skip"
    }
   },
   "outputs": [
    {
     "name": "stdout",
     "output_type": "stream",
     "text": [
      "valprop = [1.+1.j 1.-1.j]\n"
     ]
    },
    {
     "data": {
      "text/latex": [
       "$$\n",
       "\n",
       "\\begin{bmatrix}\n",
       "\\frac{\\sqrt{2}}{2} & \\frac{\\sqrt{2}}{2}  \\\\\n",
       " - \\frac{\\sqrt{2} i}{2} & \\frac{\\sqrt{2} i}{2}  \\\\\n",
       " \\end{bmatrix}\n",
       "$$"
      ],
      "text/plain": [
       "<IPython.core.display.Latex object>"
      ]
     },
     "execution_count": 9,
     "metadata": {},
     "output_type": "execute_result"
    }
   ],
   "source": [
    "A = np.matrix([[1, -1], [1, 1]])\n",
    "\n",
    "' hallamos los autovalores y autovectores'\n",
    "eigvals, eigvecs = np.linalg.eig(A)\n",
    "print('valprop =',eigvals)\n",
    "#print('vecprop =',eigvecs)\n",
    "array_to_latex(eigvecs)\n"
   ]
  },
  {
   "cell_type": "code",
   "execution_count": 10,
   "id": "e89332be",
   "metadata": {
    "slideshow": {
     "slide_type": "skip"
    }
   },
   "outputs": [
    {
     "data": {
      "text/latex": [
       "$$\n",
       "A|\\lambda_m \\rangle -\\lambda_m |\\lambda_m\\rangle =  \n",
       "\\begin{bmatrix}\n",
       "0  \\\\\n",
       " 0  \\\\\n",
       " \\end{bmatrix}\n",
       "$$"
      ],
      "text/plain": [
       "<IPython.core.display.Latex object>"
      ]
     },
     "execution_count": 10,
     "metadata": {},
     "output_type": "execute_result"
    }
   ],
   "source": [
    "'verificamos que los autovectores son las columnas de v'\n",
    "\n",
    "#m=0\n",
    "m=1\n",
    "array_to_latex(np.dot(A, eigvecs[:, m]) - eigvals[m] * eigvecs[:, m],prefix=r'A|\\lambda_m \\rangle -\\lambda_m |\\lambda_m\\rangle =  ')"
   ]
  },
  {
   "cell_type": "code",
   "execution_count": 11,
   "id": "15af3932",
   "metadata": {
    "slideshow": {
     "slide_type": "skip"
    }
   },
   "outputs": [
    {
     "data": {
      "text/latex": [
       "$$\n",
       "A_{diag} = U^\\dagger A U = \n",
       "\\begin{bmatrix}\n",
       "1 + i & 0  \\\\\n",
       " 0 & 1 - i  \\\\\n",
       " \\end{bmatrix}\n",
       "$$"
      ],
      "text/plain": [
       "<IPython.core.display.Latex object>"
      ]
     },
     "execution_count": 11,
     "metadata": {},
     "output_type": "execute_result"
    }
   ],
   "source": [
    "' diagonalizamos A '\n",
    "U = np.matrix(eigvecs);\n",
    "\n",
    "array_to_latex(np.dot(U.getH(),np.dot(A,U)),prefix='A_{diag} = U^\\dagger A U = ')"
   ]
  },
  {
   "cell_type": "code",
   "execution_count": 12,
   "id": "cf04cdf2",
   "metadata": {
    "slideshow": {
     "slide_type": "slide"
    }
   },
   "outputs": [
    {
     "data": {
      "text/latex": [
       "$$\n",
       "\n",
       "\\begin{bmatrix}\n",
       "1 & 1  \\\\\n",
       " -1 & 1  \\\\\n",
       " \\end{bmatrix}\n",
       "$$"
      ],
      "text/plain": [
       "<IPython.core.display.Latex object>"
      ]
     },
     "execution_count": 12,
     "metadata": {},
     "output_type": "execute_result"
    }
   ],
   "source": [
    "A = np.array([[1, 1], [-1, 1]])\n",
    "array_to_latex(A)\n"
   ]
  },
  {
   "cell_type": "code",
   "execution_count": 13,
   "id": "76ebebd2",
   "metadata": {
    "slideshow": {
     "slide_type": "fragment"
    }
   },
   "outputs": [
    {
     "data": {
      "text/latex": [
       "$$\n",
       "P_0=\n",
       "\\begin{bmatrix}\n",
       "\\frac{1}{2} & - \\frac{i}{2}  \\\\\n",
       " \\frac{i}{2} & \\frac{1}{2}  \\\\\n",
       " \\end{bmatrix}\n",
       "$$"
      ],
      "text/plain": [
       "<IPython.core.display.Latex object>"
      ]
     },
     "metadata": {},
     "output_type": "display_data"
    },
    {
     "data": {
      "text/latex": [
       "$$\n",
       "P_1=\n",
       "\\begin{bmatrix}\n",
       "\\frac{1}{2} & \\frac{i}{2}  \\\\\n",
       " - \\frac{i}{2} & \\frac{1}{2}  \\\\\n",
       " \\end{bmatrix}\n",
       "$$"
      ],
      "text/plain": [
       "<IPython.core.display.Latex object>"
      ]
     },
     "metadata": {},
     "output_type": "display_data"
    },
    {
     "data": {
      "text/latex": [
       "$$\n",
       "P_0 + P_1=\n",
       "\\begin{bmatrix}\n",
       "1 & 0  \\\\\n",
       " 0 & 1  \\\\\n",
       " \\end{bmatrix}\n",
       "$$"
      ],
      "text/plain": [
       "<IPython.core.display.Latex object>"
      ]
     },
     "execution_count": 13,
     "metadata": {},
     "output_type": "execute_result"
    }
   ],
   "source": [
    "' Realizamos la descomposición espectral'\n",
    "eigvals, eigvecs = np.linalg.eig(A)\n",
    "\n",
    "eigvec0 = eigvecs[:,0]\n",
    "P0 = tQ.ket_bra(eigvec0,eigvec0)\n",
    "display(array_to_latex(P0,prefix='P_0='))\n",
    "\n",
    "eigvec1 = eigvecs[:,1]\n",
    "P1 = tQ.ket_bra(eigvec1,eigvec1)\n",
    "display(array_to_latex(P1,prefix='P_1='))\n",
    "\n",
    "'verificamos completitud'\n",
    "array_to_latex(P0+P1,prefix='P_0 + P_1=')"
   ]
  },
  {
   "cell_type": "code",
   "execution_count": 14,
   "id": "3d18ef69",
   "metadata": {
    "slideshow": {
     "slide_type": "skip"
    }
   },
   "outputs": [
    {
     "data": {
      "text/latex": [
       "$$\n",
       "\n",
       "\\begin{bmatrix}\n",
       "1 & 1  \\\\\n",
       " -1 & 1  \\\\\n",
       " \\end{bmatrix}\n",
       "$$"
      ],
      "text/plain": [
       "<IPython.core.display.Latex object>"
      ]
     },
     "execution_count": 14,
     "metadata": {},
     "output_type": "execute_result"
    }
   ],
   "source": [
    "' verificamos el teorema de descomposición espectral '\n",
    "A_descomp_espect = eigvals[0]*P0+eigvals[1]*P1\n",
    "\n",
    "array_to_latex(A_descomp_espect)\n"
   ]
  },
  {
   "cell_type": "code",
   "execution_count": 15,
   "id": "af607659",
   "metadata": {
    "slideshow": {
     "slide_type": "skip"
    }
   },
   "outputs": [
    {
     "name": "stdout",
     "output_type": "stream",
     "text": [
      "[2.539+0.j 0.602-0.j 0.223+0.j]\n"
     ]
    },
    {
     "data": {
      "text/latex": [
       "$$\n",
       "U=\n",
       "\\begin{bmatrix}\n",
       "0.1266247256 + 0.562424179 i & 0.4428063938 + 0.5498233192 i & -0.2828401104 - 0.2987699933 i  \\\\\n",
       " 0.2516007734 + 0.7460677721 i & -0.3346729718 - 0.2060236513 i & 0.2367337966 + 0.411807354 i  \\\\\n",
       " -0.1859299821 - 0.1146960927 i & 0.4520120082 + 0.3779553105 i & 0.5188991647 + 0.5795286297 i  \\\\\n",
       " \\end{bmatrix}\n",
       "$$"
      ],
      "text/plain": [
       "<IPython.core.display.Latex object>"
      ]
     },
     "metadata": {},
     "output_type": "display_data"
    },
    {
     "data": {
      "text/latex": [
       "$$\n",
       "U^\\dagger U=\n",
       "\\begin{bmatrix}\n",
       "1 & 0 & 0  \\\\\n",
       " 0 & 1 & 0  \\\\\n",
       " 0 & 0 & 1  \\\\\n",
       " \\end{bmatrix}\n",
       "$$"
      ],
      "text/plain": [
       "<IPython.core.display.Latex object>"
      ]
     },
     "metadata": {},
     "output_type": "display_data"
    },
    {
     "data": {
      "text/plain": [
       "array([1., 1., 1.])"
      ]
     },
     "execution_count": 15,
     "metadata": {},
     "output_type": "execute_result"
    }
   ],
   "source": [
    "'''Método para construir una matriz unitaria arbitraria usando la descomposición polar'''\n",
    "d = 3\n",
    "A = np.matrix(np.random.rand(d,d)+ np.random.rand(d,d) * 1j)\n",
    "\n",
    "#u, s, vh = linalg.svd(A, full_matrices=False)\n",
    "u,r = la.polar(A)\n",
    "    \n",
    "R = np.matrix(r) \n",
    "' verificamos que R sólo tiene autovalores no-negativos '\n",
    "Reigval, Reigvec = la.eig(R)\n",
    "print(np.round(Reigval,3))\n",
    "\n",
    "U=np.matrix(u) \n",
    "display(array_to_latex(U,prefix='U='))\n",
    "\n",
    "''' Verifiquemos unitariedad '''\n",
    "display(array_to_latex(np.dot(U.getH(),U),prefix='U^\\dagger U='))\n",
    "\n",
    "''' verificamos que los autovalores de U tienen norma unidad'''\n",
    "np.round([la.norm(la.eig(U)[0][i]) for i in range(d)],5)"
   ]
  },
  {
   "cell_type": "code",
   "execution_count": 16,
   "id": "dbd4c215",
   "metadata": {
    "slideshow": {
     "slide_type": "slide"
    }
   },
   "outputs": [
    {
     "data": {
      "text/latex": [
       "$$\n",
       "A=\n",
       "\\begin{bmatrix}\n",
       "-0.4410284528 + 1.4336115603 i & -1.2511911074 - 1.1008255686 i  \\\\\n",
       " 0.9645532092 + 1.5993864258 i & -1.7514964911 + 0.4970817944 i  \\\\\n",
       " -0.8078300321 + 0.6910610901 i & -0.3282565549 + 1.4579235431 i  \\\\\n",
       " \\end{bmatrix}\n",
       "$$"
      ],
      "text/plain": [
       "<IPython.core.display.Latex object>"
      ]
     },
     "metadata": {},
     "output_type": "display_data"
    },
    {
     "name": "stdout",
     "output_type": "stream",
     "text": [
      "the shape of A is : (3, 2)\n"
     ]
    }
   ],
   "source": [
    "A = np.random.randn(3,2)+ 1j*np.random.randn(3,2)\n",
    "display(array_to_latex(A,prefix='A='))\n",
    "print( 'the shape of A is :', A.shape)"
   ]
  },
  {
   "cell_type": "code",
   "execution_count": 17,
   "id": "1e4e77d3",
   "metadata": {
    "slideshow": {
     "slide_type": "slide"
    }
   },
   "outputs": [
    {
     "ename": "NameError",
     "evalue": "name 's' is not defined",
     "output_type": "error",
     "traceback": [
      "\u001b[0;31m---------------------------------------------------------------------------\u001b[0m",
      "\u001b[0;31mNameError\u001b[0m                                 Traceback (most recent call last)",
      "Cell \u001b[0;32mIn[17], line 8\u001b[0m\n\u001b[1;32m      6\u001b[0m Sigma \u001b[38;5;241m=\u001b[39m np\u001b[38;5;241m.\u001b[39mzeros([m,n])\n\u001b[1;32m      7\u001b[0m \u001b[38;5;28;01mfor\u001b[39;00m i \u001b[38;5;129;01min\u001b[39;00m \u001b[38;5;28mrange\u001b[39m(\u001b[38;5;28mmin\u001b[39m(m,n)):\n\u001b[0;32m----> 8\u001b[0m     Sigma[i,i]\u001b[38;5;241m=\u001b[39m\u001b[43ms\u001b[49m[i]\n\u001b[1;32m     11\u001b[0m display(array_to_latex(U,prefix\u001b[38;5;241m=\u001b[39m\u001b[38;5;124m'\u001b[39m\u001b[38;5;124mU=\u001b[39m\u001b[38;5;124m'\u001b[39m))\n\u001b[1;32m     12\u001b[0m display(array_to_latex(Sigma,prefix\u001b[38;5;241m=\u001b[39m\u001b[38;5;124m'\u001b[39m\u001b[38;5;124m\\\u001b[39m\u001b[38;5;124mSigma=\u001b[39m\u001b[38;5;124m'\u001b[39m))\n",
      "\u001b[0;31mNameError\u001b[0m: name 's' is not defined"
     ]
    }
   ],
   "source": [
    "U, sig, Vadj = la.svd(A, full_matrices=True)\n",
    "m = U.shape[0]\n",
    "n = Vadj.shape[0]\n",
    "\n",
    "V = Vadj.T.conj()\n",
    "Sigma = np.zeros([m,n])\n",
    "for i in range(min(m,n)):\n",
    "    Sigma[i,i]=s[i]\n",
    "\n",
    "    \n",
    "display(array_to_latex(U,prefix='U='))\n",
    "display(array_to_latex(Sigma,prefix='\\Sigma='))\n",
    "display(array_to_latex(V,prefix='V='))\n",
    "\n",
    "'''Verifiquemos unitariedad'''\n",
    "display(array_to_latex(np.dot(U.T.conj(),U),prefix='U^{\\dagger}U ='))\n",
    "display(array_to_latex(np.dot(V.T.conj(),V),prefix='V^{\\dagger}V ='))\n",
    "\n"
   ]
  },
  {
   "cell_type": "code",
   "execution_count": 18,
   "id": "945c5b0d",
   "metadata": {},
   "outputs": [
    {
     "name": "stdout",
     "output_type": "stream",
     "text": [
      "[ 2.88576116 12.30796148]\n"
     ]
    },
    {
     "data": {
      "text/latex": [
       "$$\n",
       "H=\n",
       "\\begin{bmatrix}\n",
       "-0.7598181393 & 0.6501356745  \\\\\n",
       " -0.0905192019 - 0.6438032847 i & -0.1057904285 - 0.7524174307 i  \\\\\n",
       " \\end{bmatrix}\n",
       "$$"
      ],
      "text/plain": [
       "<IPython.core.display.Latex object>"
      ]
     },
     "execution_count": 18,
     "metadata": {},
     "output_type": "execute_result"
    }
   ],
   "source": [
    "(sig1, V) = la.eigh(np.dot(A.T.conj(),A))\n",
    "\n",
    "print(sig1)\n",
    "array_to_latex(V, prefix='H=')"
   ]
  },
  {
   "cell_type": "code",
   "execution_count": 19,
   "id": "06687410",
   "metadata": {},
   "outputs": [
    {
     "name": "stdout",
     "output_type": "stream",
     "text": [
      "[1.47254903e-18 2.88576116e+00 1.23079615e+01]\n"
     ]
    },
    {
     "data": {
      "text/latex": [
       "$$\n",
       "U=\n",
       "\\begin{bmatrix}\n",
       "0.7513897369 & 0.1877145708 & -0.6325952128  \\\\\n",
       " -0.4117262765 + 0.505873165 i & 0.1673085052 - 0.0226990487 i & -0.4393973408 + 0.5941350086 i  \\\\\n",
       " 0.0999360963 + 0.0002327739 i & -0.6089260702 + 0.751974001 i & -0.0619880423 + 0.2234151917 i  \\\\\n",
       " \\end{bmatrix}\n",
       "$$"
      ],
      "text/plain": [
       "<IPython.core.display.Latex object>"
      ]
     },
     "execution_count": 19,
     "metadata": {},
     "output_type": "execute_result"
    }
   ],
   "source": [
    "(sig2, U) = la.eigh(np.dot(A,A.T.conj()))\n",
    "\n",
    "print(sig2)\n",
    "array_to_latex(U, prefix='U=')"
   ]
  },
  {
   "cell_type": "code",
   "execution_count": 20,
   "id": "16f42fcc",
   "metadata": {},
   "outputs": [
    {
     "data": {
      "text/latex": [
       "$$\n",
       "\n",
       "\\begin{bmatrix}\n",
       "1.21231 + 0.03374 i & 0.32278 + 0.07788 i  \\\\\n",
       " 0.01783 + 0.20924 i & 0.88062 - 0.14876 i  \\\\\n",
       " \\end{bmatrix}\n",
       "$$"
      ],
      "text/plain": [
       "<IPython.core.display.Latex object>"
      ]
     },
     "metadata": {},
     "output_type": "display_data"
    },
    {
     "data": {
      "text/latex": [
       "$$\n",
       "\n",
       "\\begin{bmatrix}\n",
       "1.21233 + 0.03367 i & 0.3225 + 0.0775 i  \\\\\n",
       " 0.018 + 0.209 i & 0.88083 - 0.14833 i  \\\\\n",
       " \\end{bmatrix}\n",
       "$$"
      ],
      "text/plain": [
       "<IPython.core.display.Latex object>"
      ]
     },
     "execution_count": 20,
     "metadata": {},
     "output_type": "execute_result"
    }
   ],
   "source": [
    "' para exponenciar matrices es recomendable la función expm de la libreria scipy.linalg'\n",
    "\n",
    "from scipy.linalg import expm\n",
    "from numpy.linalg import matrix_power\n",
    "import math\n",
    "\n",
    "A = 0.1*np.matrix([[2,3+1j],[2j,-1-2j]])\n",
    "\n",
    "display(array_to_latex(np.around(expm(A),5)))\n",
    "\n",
    "' podemos comparar con la serie de Taylor a tercer orden'\n",
    "array_to_latex(np.round(matrix_power(A,0)  + matrix_power(A,1)  + 1./2.*matrix_power(A,2)  + 1./math.factorial(3)*matrix_power(A,3),5))"
   ]
  },
  {
   "cell_type": "code",
   "execution_count": 21,
   "id": "82656214",
   "metadata": {
    "slideshow": {
     "slide_type": "slide"
    }
   },
   "outputs": [
    {
     "name": "stdout",
     "output_type": "stream",
     "text": [
      "[[ True  True]\n",
      " [ True  True]]\n",
      "[[ True  True]\n",
      " [ True  True]]\n",
      "[[ True  True]\n",
      " [ True  True]]\n"
     ]
    },
    {
     "data": {
      "text/plain": [
       "'etc'"
      ]
     },
     "execution_count": 21,
     "metadata": {},
     "output_type": "execute_result"
    }
   ],
   "source": [
    "I = np.eye(2)\n",
    "s1 = np.matrix([[0,1],[1,0]])\n",
    "s2 = np.matrix([[0,-1j],[1j,0]])\n",
    "s3 = np.matrix([[1,0],[0,-1]])\n",
    "\n",
    "'verifica todas las opciones'\n",
    "print(s1*s1==I)\n",
    "print(s1*s2==1j*s3)\n",
    "print(s2*s1==-1j*s3)\n",
    "'etc'"
   ]
  },
  {
   "cell_type": "code",
   "execution_count": 22,
   "id": "b6a11eb3",
   "metadata": {
    "slideshow": {
     "slide_type": "skip"
    }
   },
   "outputs": [
    {
     "name": "stdout",
     "output_type": "stream",
     "text": [
      "a= 1.1757650475537091\n"
     ]
    },
    {
     "data": {
      "text/latex": [
       "$$\n",
       "\n",
       "\\begin{bmatrix}\n",
       "0.5410925678 & 0.7184625562 & 0.4370702327  \\\\\n",
       " \\end{bmatrix}\n",
       "$$"
      ],
      "text/plain": [
       "<IPython.core.display.Latex object>"
      ]
     },
     "metadata": {},
     "output_type": "display_data"
    },
    {
     "ename": "NameError",
     "evalue": "name 's0' is not defined",
     "output_type": "error",
     "traceback": [
      "\u001b[0;31m---------------------------------------------------------------------------\u001b[0m",
      "\u001b[0;31mNameError\u001b[0m                                 Traceback (most recent call last)",
      "Cell \u001b[0;32mIn[22], line 20\u001b[0m\n\u001b[1;32m     18\u001b[0m \u001b[38;5;124m'\u001b[39m\u001b[38;5;124musing the Euler-like formula\u001b[39m\u001b[38;5;124m'\u001b[39m\n\u001b[1;32m     19\u001b[0m ndots\u001b[38;5;241m=\u001b[39m \u001b[38;5;28msum\u001b[39m(\u001b[38;5;28mlist\u001b[39m(nvec[i]\u001b[38;5;241m*\u001b[39msigvec[i] \u001b[38;5;28;01mfor\u001b[39;00m i \u001b[38;5;129;01min\u001b[39;00m \u001b[38;5;28mrange\u001b[39m(\u001b[38;5;241m3\u001b[39m)))\n\u001b[0;32m---> 20\u001b[0m e2 \u001b[38;5;241m=\u001b[39m np\u001b[38;5;241m.\u001b[39mcos(a)\u001b[38;5;241m*\u001b[39m\u001b[43ms0\u001b[49m \u001b[38;5;241m+\u001b[39m \u001b[38;5;241m1\u001b[39mj\u001b[38;5;241m*\u001b[39mnp\u001b[38;5;241m.\u001b[39msin(a)\u001b[38;5;241m*\u001b[39m(nvec[\u001b[38;5;241m0\u001b[39m]\u001b[38;5;241m*\u001b[39msigvec[\u001b[38;5;241m0\u001b[39m]\u001b[38;5;241m+\u001b[39mnvec[\u001b[38;5;241m1\u001b[39m]\u001b[38;5;241m*\u001b[39msigvec[\u001b[38;5;241m1\u001b[39m]\u001b[38;5;241m+\u001b[39mnvec[\u001b[38;5;241m2\u001b[39m]\u001b[38;5;241m*\u001b[39msigvec[\u001b[38;5;241m2\u001b[39m])\n\u001b[1;32m     22\u001b[0m \u001b[38;5;124m'\u001b[39m\u001b[38;5;124mverify\u001b[39m\u001b[38;5;124m'\u001b[39m\n\u001b[1;32m     23\u001b[0m display(array_to_latex(np\u001b[38;5;241m.\u001b[39mround(e1,\u001b[38;5;241m4\u001b[39m),prefix\u001b[38;5;241m=\u001b[39m\u001b[38;5;124m'\u001b[39m\u001b[38;5;124me1=\u001b[39m\u001b[38;5;124m'\u001b[39m))\n",
      "\u001b[0;31mNameError\u001b[0m: name 's0' is not defined"
     ]
    }
   ],
   "source": [
    "'verificamos la ecuación anterio numéricamente'\n",
    "from scipy.linalg import expm\n",
    "\n",
    "'generamos un vector aleatorio'\n",
    "avec = np.random.rand(3)\n",
    "a = np.linalg.norm(avec)\n",
    "nvec = avec/a\n",
    "print('a=',a)\n",
    "display(array_to_latex(nvec))\n",
    "\n",
    "sigvec = np.array([s1,s2,s3])\n",
    "\n",
    "adots= sum(list(avec[i]*sigvec[i] for i in range(3)))\n",
    "\n",
    "'exponentiating'\n",
    "e1 = expm(1j*adots)\n",
    "\n",
    "'using the Euler-like formula'\n",
    "ndots= sum(list(nvec[i]*sigvec[i] for i in range(3)))\n",
    "e2 = np.cos(a)*s0 + 1j*np.sin(a)*(nvec[0]*sigvec[0]+nvec[1]*sigvec[1]+nvec[2]*sigvec[2])\n",
    "\n",
    "'verify'\n",
    "display(array_to_latex(np.round(e1,4),prefix='e1='))\n",
    "display(array_to_latex(np.round(e2,4),prefix='e1='))\n"
   ]
  }
 ],
 "metadata": {
  "celltoolbar": "Slideshow",
  "kernelspec": {
   "display_name": "Python 3 (ipykernel)",
   "language": "python",
   "name": "python3"
  },
  "language_info": {
   "codemirror_mode": {
    "name": "ipython",
    "version": 3
   },
   "file_extension": ".py",
   "mimetype": "text/x-python",
   "name": "python",
   "nbconvert_exporter": "python",
   "pygments_lexer": "ipython3",
   "version": "3.10.13"
  },
  "toc": {
   "base_numbering": 1,
   "nav_menu": {},
   "number_sections": true,
   "sideBar": true,
   "skip_h1_title": false,
   "title_cell": "Table of Contents",
   "title_sidebar": "Contents",
   "toc_cell": false,
   "toc_position": {},
   "toc_section_display": true,
   "toc_window_display": false
  },
  "varInspector": {
   "cols": {
    "lenName": 16,
    "lenType": 16,
    "lenVar": 40
   },
   "kernels_config": {
    "python": {
     "delete_cmd_postfix": "",
     "delete_cmd_prefix": "del ",
     "library": "var_list.py",
     "varRefreshCmd": "print(var_dic_list())"
    },
    "r": {
     "delete_cmd_postfix": ") ",
     "delete_cmd_prefix": "rm(",
     "library": "var_list.r",
     "varRefreshCmd": "cat(var_dic_list()) "
    }
   },
   "types_to_exclude": [
    "module",
    "function",
    "builtin_function_or_method",
    "instance",
    "_Feature"
   ],
   "window_display": false
  }
 },
 "nbformat": 4,
 "nbformat_minor": 5
}