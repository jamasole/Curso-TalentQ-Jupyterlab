{
 "cells": [
  {
   "cell_type": "code",
   "execution_count": 1,
   "id": "607346c4",
   "metadata": {
    "slideshow": {
     "slide_type": "slide"
    }
   },
   "outputs": [],
   "source": [
    "import numpy as np\n",
    "import scipy.linalg as la\n",
    "import matplotlib.pyplot as plt"
   ]
  },
  {
   "cell_type": "code",
   "execution_count": 2,
   "id": "4293be30",
   "metadata": {
    "slideshow": {
     "slide_type": "fragment"
    }
   },
   "outputs": [
    {
     "name": "stdout",
     "output_type": "stream",
     "text": [
      "True\n"
     ]
    }
   ],
   "source": [
    "'en python, el número  imaginario i se representa con la letra j.  Añadiendo +0j convertimos un float en un complex'\n",
    "print(isinstance(1+0j,complex))"
   ]
  },
  {
   "cell_type": "code",
   "execution_count": 3,
   "id": "6cabf726",
   "metadata": {
    "slideshow": {
     "slide_type": "slide"
    }
   },
   "outputs": [
    {
     "name": "stdout",
     "output_type": "stream",
     "text": [
      "z=x+iy= (-3+1j)\n"
     ]
    },
    {
     "ename": "NameError",
     "evalue": "name 'tQ' is not defined",
     "output_type": "error",
     "traceback": [
      "\u001b[0;31m---------------------------------------------------------------------------\u001b[0m",
      "\u001b[0;31mNameError\u001b[0m                                 Traceback (most recent call last)",
      "Cell \u001b[0;32mIn[3], line 12\u001b[0m\n\u001b[1;32m     10\u001b[0m \u001b[38;5;124;03m'''esta función está en archivo: macro_CURSO.py  '''\u001b[39;00m\n\u001b[1;32m     11\u001b[0m \u001b[38;5;124;03m''' Representación en el plano complejo '''\u001b[39;00m\n\u001b[0;32m---> 12\u001b[0m \u001b[43mtQ\u001b[49m\u001b[38;5;241m.\u001b[39mplot_2D_plane(left\u001b[38;5;241m=\u001b[39m\u001b[38;5;241m-\u001b[39m\u001b[38;5;28mint\u001b[39m(\u001b[38;5;28mabs\u001b[39m(x))\u001b[38;5;241m-\u001b[39m\u001b[38;5;241m1\u001b[39m,right\u001b[38;5;241m=\u001b[39m\u001b[38;5;28mint\u001b[39m(\u001b[38;5;28mabs\u001b[39m(x))\u001b[38;5;241m+\u001b[39m\u001b[38;5;241m1\u001b[39m,up\u001b[38;5;241m=\u001b[39m\u001b[38;5;28mint\u001b[39m(\u001b[38;5;28mabs\u001b[39m(y))\u001b[38;5;241m+\u001b[39m\u001b[38;5;241m1\u001b[39m,down\u001b[38;5;241m=\u001b[39m\u001b[38;5;241m-\u001b[39m\u001b[38;5;28mint\u001b[39m(\u001b[38;5;28mabs\u001b[39m(y))\u001b[38;5;241m-\u001b[39m\u001b[38;5;241m1\u001b[39m)\n\u001b[1;32m     13\u001b[0m tQ\u001b[38;5;241m.\u001b[39mdraw_vector(x,y,\u001b[38;5;124m'\u001b[39m\u001b[38;5;124mb\u001b[39m\u001b[38;5;124m'\u001b[39m)\n",
      "\u001b[0;31mNameError\u001b[0m: name 'tQ' is not defined"
     ]
    }
   ],
   "source": [
    "'''Forma cartesiana''' \n",
    "z = -3 + 1j\n",
    "\n",
    "'''Extraemos las partes real e imaginaria'''\n",
    "x=z.real\n",
    "y=z.imag\n",
    "print('z=x+iy=',x + 1j*y)\n",
    "\n",
    "''' Representación en el plano complejo '''\n",
    "'''esta función está en archivo: macro_CURSO.py  '''\n",
    "''' Representación en el plano complejo '''\n",
    "tQ.plot_2D_plane(left=-int(abs(x))-1,right=int(abs(x))+1,up=int(abs(y))+1,down=-int(abs(y))-1)\n",
    "tQ.draw_vector(x,y,'b')"
   ]
  },
  {
   "cell_type": "code",
   "execution_count": 4,
   "id": "7b2d20f9",
   "metadata": {
    "slideshow": {
     "slide_type": "slide"
    }
   },
   "outputs": [],
   "source": [
    "'Conversión de Cartesianas a Polares'\n",
    "def cartes2polar(z):\n",
    "\n",
    "    y = z.imag\n",
    "    x = z.real\n",
    "    r = np.sqrt(x**2 + y**2)\n",
    "    \n",
    "    if r==0:\n",
    "        print('el número 0+i0 no admite representación polar')\n",
    "        th='indefinido'\n",
    "    elif x==0 and y>0: \n",
    "        th=np.pi/2\n",
    "    elif x==0 and y<0:\n",
    "        th=3*np.pi/2\n",
    "    elif x>0 and y>=0:\n",
    "        th=np.arctan(y/x)\n",
    "    elif x<0 and y>=0:\n",
    "        th=np.arctan(-y/x)+np.pi/2\n",
    "    elif x<0 and y<0:\n",
    "        th=np.arctan(y/x)+np.pi\n",
    "    elif x>0 and y<0:\n",
    "         th=np.arctan(-y/x)+3*np.pi/2.       \n",
    "            \n",
    "    return np.round(r,3),np.round(th,3)\n",
    "\n",
    "#el signo correcto también se puede conseguir usando la funcion np.arctan2(x,y)"
   ]
  },
  {
   "cell_type": "code",
   "execution_count": 5,
   "id": "f732e1b3",
   "metadata": {},
   "outputs": [
    {
     "name": "stdout",
     "output_type": "stream",
     "text": [
      "r= 3.162  th= 0.322\n",
      "(3+1j)\n"
     ]
    }
   ],
   "source": [
    "'obtengamos la representación polar de z = 3+i'\n",
    "r,th = cartes2polar(3.+1.j)\n",
    "print('r=',r, ' th=', th)\n",
    "\n",
    "'a la inversa no es necesario definir ninguna función, ya que numpy directamente escribe un numero complejo en forma cartesiana'\n",
    "z = r*np.exp(1j*th)\n",
    "print(np.round(z,2))"
   ]
  },
  {
   "cell_type": "code",
   "execution_count": 6,
   "id": "37a812b6",
   "metadata": {
    "slideshow": {
     "slide_type": "slide"
    }
   },
   "outputs": [
    {
     "name": "stdout",
     "output_type": "stream",
     "text": [
      "z = (3+1j)\n",
      "z*= (3-1j)\n"
     ]
    },
    {
     "ename": "NameError",
     "evalue": "name 'tQ' is not defined",
     "output_type": "error",
     "traceback": [
      "\u001b[0;31m---------------------------------------------------------------------------\u001b[0m",
      "\u001b[0;31mNameError\u001b[0m                                 Traceback (most recent call last)",
      "Cell \u001b[0;32mIn[6], line 8\u001b[0m\n\u001b[1;32m      5\u001b[0m \u001b[38;5;28mprint\u001b[39m(\u001b[38;5;124m'\u001b[39m\u001b[38;5;124mz*=\u001b[39m\u001b[38;5;124m'\u001b[39m,zc\u001b[38;5;241m.\u001b[39mreal \u001b[38;5;241m+\u001b[39m \u001b[38;5;241m1\u001b[39mj\u001b[38;5;241m*\u001b[39mzc\u001b[38;5;241m.\u001b[39mimag)\n\u001b[1;32m      7\u001b[0m \u001b[38;5;124;03m''' Representación en el plano complejo '''\u001b[39;00m\n\u001b[0;32m----> 8\u001b[0m \u001b[43mtQ\u001b[49m\u001b[38;5;241m.\u001b[39mplot_2D_plane(left\u001b[38;5;241m=\u001b[39m\u001b[38;5;241m-\u001b[39m\u001b[38;5;28mint\u001b[39m(\u001b[38;5;28mabs\u001b[39m(x))\u001b[38;5;241m-\u001b[39m\u001b[38;5;241m1\u001b[39m,right\u001b[38;5;241m=\u001b[39m\u001b[38;5;28mint\u001b[39m(\u001b[38;5;28mabs\u001b[39m(x))\u001b[38;5;241m+\u001b[39m\u001b[38;5;241m1\u001b[39m,up\u001b[38;5;241m=\u001b[39m\u001b[38;5;28mint\u001b[39m(\u001b[38;5;28mabs\u001b[39m(y))\u001b[38;5;241m+\u001b[39m\u001b[38;5;241m1\u001b[39m,down\u001b[38;5;241m=\u001b[39m\u001b[38;5;241m-\u001b[39m\u001b[38;5;28mint\u001b[39m(\u001b[38;5;28mabs\u001b[39m(y))\u001b[38;5;241m-\u001b[39m\u001b[38;5;241m1\u001b[39m)\n\u001b[1;32m      9\u001b[0m tQ\u001b[38;5;241m.\u001b[39mdraw_vector(z\u001b[38;5;241m.\u001b[39mreal,z\u001b[38;5;241m.\u001b[39mimag,\u001b[38;5;124m'\u001b[39m\u001b[38;5;124mb\u001b[39m\u001b[38;5;124m'\u001b[39m)\n\u001b[1;32m     10\u001b[0m tQ\u001b[38;5;241m.\u001b[39mdraw_vector(zc\u001b[38;5;241m.\u001b[39mreal,zc\u001b[38;5;241m.\u001b[39mimag,vcolor\u001b[38;5;241m=\u001b[39m\u001b[38;5;124m'\u001b[39m\u001b[38;5;124mr\u001b[39m\u001b[38;5;124m'\u001b[39m)\n",
      "\u001b[0;31mNameError\u001b[0m: name 'tQ' is not defined"
     ]
    }
   ],
   "source": [
    "'''Conjugacion compleja'''\n",
    "z = 3 + 1j\n",
    "print('z =',z.real + 1j*z.imag)\n",
    "zc = z.conjugate()\n",
    "print('z*=',zc.real + 1j*zc.imag)\n",
    "\n",
    "''' Representación en el plano complejo '''\n",
    "tQ.plot_2D_plane(left=-int(abs(x))-1,right=int(abs(x))+1,up=int(abs(y))+1,down=-int(abs(y))-1)\n",
    "tQ.draw_vector(z.real,z.imag,'b')\n",
    "tQ.draw_vector(zc.real,zc.imag,vcolor='r')"
   ]
  },
  {
   "cell_type": "code",
   "execution_count": 7,
   "id": "ebb0eee5",
   "metadata": {
    "slideshow": {
     "slide_type": "slide"
    }
   },
   "outputs": [
    {
     "ename": "NameError",
     "evalue": "name 'tQ' is not defined",
     "output_type": "error",
     "traceback": [
      "\u001b[0;31m---------------------------------------------------------------------------\u001b[0m",
      "\u001b[0;31mNameError\u001b[0m                                 Traceback (most recent call last)",
      "Cell \u001b[0;32mIn[7], line 8\u001b[0m\n\u001b[1;32m      5\u001b[0m zc \u001b[38;5;241m=\u001b[39m r\u001b[38;5;241m*\u001b[39mnp\u001b[38;5;241m.\u001b[39mexp(\u001b[38;5;241m-\u001b[39mth\u001b[38;5;241m*\u001b[39m\u001b[38;5;241m1\u001b[39mj)\n\u001b[1;32m      7\u001b[0m \u001b[38;5;124;03m''' Dibujamos en el plano complejo '''\u001b[39;00m\n\u001b[0;32m----> 8\u001b[0m \u001b[43mtQ\u001b[49m\u001b[38;5;241m.\u001b[39mplot_2D_plane(left\u001b[38;5;241m=\u001b[39m\u001b[38;5;241m-\u001b[39m\u001b[38;5;28mint\u001b[39m(\u001b[38;5;28mabs\u001b[39m(x))\u001b[38;5;241m-\u001b[39m\u001b[38;5;241m1\u001b[39m,right\u001b[38;5;241m=\u001b[39m\u001b[38;5;28mint\u001b[39m(\u001b[38;5;28mabs\u001b[39m(x))\u001b[38;5;241m+\u001b[39m\u001b[38;5;241m1\u001b[39m,up\u001b[38;5;241m=\u001b[39m\u001b[38;5;28mint\u001b[39m(\u001b[38;5;28mabs\u001b[39m(y))\u001b[38;5;241m+\u001b[39m\u001b[38;5;241m1\u001b[39m,down\u001b[38;5;241m=\u001b[39m\u001b[38;5;241m-\u001b[39m\u001b[38;5;28mint\u001b[39m(\u001b[38;5;28mabs\u001b[39m(y))\u001b[38;5;241m-\u001b[39m\u001b[38;5;241m1\u001b[39m)\n\u001b[1;32m      9\u001b[0m tQ\u001b[38;5;241m.\u001b[39mdraw_vector(z\u001b[38;5;241m.\u001b[39mreal,z\u001b[38;5;241m.\u001b[39mimag)\n\u001b[1;32m     10\u001b[0m tQ\u001b[38;5;241m.\u001b[39mdraw_vector(zc\u001b[38;5;241m.\u001b[39mreal,zc\u001b[38;5;241m.\u001b[39mimag,vcolor\u001b[38;5;241m=\u001b[39m\u001b[38;5;124m'\u001b[39m\u001b[38;5;124mr\u001b[39m\u001b[38;5;124m'\u001b[39m)\n",
      "\u001b[0;31mNameError\u001b[0m: name 'tQ' is not defined"
     ]
    }
   ],
   "source": [
    "'''Forma polar'''\n",
    "r=3.162\n",
    "th=0.322\n",
    "z = r*np.exp(th*1j)\n",
    "zc = r*np.exp(-th*1j)\n",
    "\n",
    "''' Dibujamos en el plano complejo '''\n",
    "tQ.plot_2D_plane(left=-int(abs(x))-1,right=int(abs(x))+1,up=int(abs(y))+1,down=-int(abs(y))-1)\n",
    "tQ.draw_vector(z.real,z.imag)\n",
    "tQ.draw_vector(zc.real,zc.imag,vcolor='r')"
   ]
  },
  {
   "cell_type": "code",
   "execution_count": 8,
   "id": "0d745cbb",
   "metadata": {
    "slideshow": {
     "slide_type": "slide"
    }
   },
   "outputs": [
    {
     "name": "stdout",
     "output_type": "stream",
     "text": [
      "z1+z2= (3+6j)\n",
      "z1-z2= (-1+2j)\n",
      "************************************\n"
     ]
    },
    {
     "ename": "NameError",
     "evalue": "name 'tQ' is not defined",
     "output_type": "error",
     "traceback": [
      "\u001b[0;31m---------------------------------------------------------------------------\u001b[0m",
      "\u001b[0;31mNameError\u001b[0m                                 Traceback (most recent call last)",
      "Cell \u001b[0;32mIn[8], line 16\u001b[0m\n\u001b[1;32m     11\u001b[0m \u001b[38;5;28mprint\u001b[39m(\u001b[38;5;124m'\u001b[39m\u001b[38;5;124mz1-z2=\u001b[39m\u001b[38;5;124m'\u001b[39m,zd)\n\u001b[1;32m     12\u001b[0m \u001b[38;5;28mprint\u001b[39m(\u001b[38;5;124m'\u001b[39m\u001b[38;5;124m************************************\u001b[39m\u001b[38;5;124m'\u001b[39m)\n\u001b[0;32m---> 16\u001b[0m \u001b[43mtQ\u001b[49m\u001b[38;5;241m.\u001b[39mplot_2D_plane(left\u001b[38;5;241m=\u001b[39m\u001b[38;5;241m-\u001b[39m\u001b[38;5;241m2\u001b[39m,right\u001b[38;5;241m=\u001b[39m\u001b[38;5;241m4\u001b[39m,up\u001b[38;5;241m=\u001b[39m\u001b[38;5;241m7\u001b[39m,down\u001b[38;5;241m=\u001b[39m\u001b[38;5;241m-\u001b[39m\u001b[38;5;241m1\u001b[39m) \u001b[38;5;66;03m#cambiar las dimensiones para que encuadrar la figura\u001b[39;00m\n\u001b[1;32m     17\u001b[0m tQ\u001b[38;5;241m.\u001b[39mdraw_vector(z1\u001b[38;5;241m.\u001b[39mreal,z1\u001b[38;5;241m.\u001b[39mimag,\u001b[38;5;124m'\u001b[39m\u001b[38;5;124mb\u001b[39m\u001b[38;5;124m'\u001b[39m)\n\u001b[1;32m     18\u001b[0m tQ\u001b[38;5;241m.\u001b[39mdraw_vector(z2\u001b[38;5;241m.\u001b[39mreal,z2\u001b[38;5;241m.\u001b[39mimag,\u001b[38;5;124m'\u001b[39m\u001b[38;5;124mb\u001b[39m\u001b[38;5;124m'\u001b[39m)\n",
      "\u001b[0;31mNameError\u001b[0m: name 'tQ' is not defined"
     ]
    }
   ],
   "source": [
    "'''Suma en cartesianas'''\n",
    "\n",
    "z1 = 1+4j\n",
    "z2 = 2+2j\n",
    "\n",
    "'''Suma y resta'''\n",
    "zs = z1+z2\n",
    "zd = z1-z2\n",
    "\n",
    "print('z1+z2=',zs)\n",
    "print('z1-z2=',zd)\n",
    "print('************************************')\n",
    "\n",
    "\n",
    "\n",
    "tQ.plot_2D_plane(left=-2,right=4,up=7,down=-1) #cambiar las dimensiones para que encuadrar la figura\n",
    "tQ.draw_vector(z1.real,z1.imag,'b')\n",
    "tQ.draw_vector(z2.real,z2.imag,'b')\n",
    "' representamos la suma como un vector rojo'\n",
    "tQ.draw_vector(zs.real,zs.imag,vcolor='r')\n",
    "' representamos la resta como un vector verde'\n",
    "tQ.draw_vector(zd.real,zd.imag,vcolor='g')"
   ]
  },
  {
   "cell_type": "code",
   "execution_count": 9,
   "id": "cd475030",
   "metadata": {
    "run_control": {
     "marked": true
    },
    "slideshow": {
     "slide_type": "slide"
    }
   },
   "outputs": [
    {
     "name": "stdout",
     "output_type": "stream",
     "text": [
      "z1+z2= (3.3976+0.7941j)\n",
      "z1-z2= (1.8679+2.0825j)\n",
      "************************************\n"
     ]
    },
    {
     "ename": "NameError",
     "evalue": "name 'tQ' is not defined",
     "output_type": "error",
     "traceback": [
      "\u001b[0;31m---------------------------------------------------------------------------\u001b[0m",
      "\u001b[0;31mNameError\u001b[0m                                 Traceback (most recent call last)",
      "Cell \u001b[0;32mIn[9], line 13\u001b[0m\n\u001b[1;32m     10\u001b[0m \u001b[38;5;28mprint\u001b[39m(\u001b[38;5;124m'\u001b[39m\u001b[38;5;124mz1-z2=\u001b[39m\u001b[38;5;124m'\u001b[39m,np\u001b[38;5;241m.\u001b[39mround(zd,\u001b[38;5;241m4\u001b[39m))\n\u001b[1;32m     11\u001b[0m \u001b[38;5;28mprint\u001b[39m(\u001b[38;5;124m'\u001b[39m\u001b[38;5;124m************************************\u001b[39m\u001b[38;5;124m'\u001b[39m)\n\u001b[0;32m---> 13\u001b[0m \u001b[43mtQ\u001b[49m\u001b[38;5;241m.\u001b[39mplot_2D_plane(left\u001b[38;5;241m=\u001b[39m\u001b[38;5;241m-\u001b[39m\u001b[38;5;241m2\u001b[39m,right\u001b[38;5;241m=\u001b[39m\u001b[38;5;241m4\u001b[39m,up\u001b[38;5;241m=\u001b[39m\u001b[38;5;241m3\u001b[39m,down\u001b[38;5;241m=\u001b[39m\u001b[38;5;241m-\u001b[39m\u001b[38;5;241m1\u001b[39m) \u001b[38;5;66;03m#cambiar las dimensiones para que encuadrar la figura\u001b[39;00m\n\u001b[1;32m     14\u001b[0m tQ\u001b[38;5;241m.\u001b[39mdraw_vector(z1\u001b[38;5;241m.\u001b[39mreal,z1\u001b[38;5;241m.\u001b[39mimag,\u001b[38;5;124m'\u001b[39m\u001b[38;5;124mb\u001b[39m\u001b[38;5;124m'\u001b[39m)\n\u001b[1;32m     15\u001b[0m tQ\u001b[38;5;241m.\u001b[39mdraw_vector(z2\u001b[38;5;241m.\u001b[39mreal,z2\u001b[38;5;241m.\u001b[39mimag,\u001b[38;5;124m'\u001b[39m\u001b[38;5;124mb\u001b[39m\u001b[38;5;124m'\u001b[39m)\n",
      "\u001b[0;31mNameError\u001b[0m: name 'tQ' is not defined"
     ]
    }
   ],
   "source": [
    "'python directamente escribe un numero complejo en forma cartesiana'\n",
    "z1 = 3*np.exp(1j*0.5)\n",
    "z2 = 1*np.exp(-1j*0.7)\n",
    "\n",
    "'''Suma y resta'''\n",
    "zs = z1+z2\n",
    "zd = z1-z2\n",
    "\n",
    "print('z1+z2=',np.round(zs,4))\n",
    "print('z1-z2=',np.round(zd,4))\n",
    "print('************************************')\n",
    "\n",
    "tQ.plot_2D_plane(left=-2,right=4,up=3,down=-1) #cambiar las dimensiones para que encuadrar la figura\n",
    "tQ.draw_vector(z1.real,z1.imag,'b')\n",
    "tQ.draw_vector(z2.real,z2.imag,'b')\n",
    "tQ.draw_vector(zs.real,zs.imag,vcolor='r')\n",
    "tQ.draw_vector(zd.real,zd.imag,vcolor='g')"
   ]
  },
  {
   "cell_type": "code",
   "execution_count": 10,
   "id": "6202243d",
   "metadata": {
    "slideshow": {
     "slide_type": "slide"
    }
   },
   "outputs": [
    {
     "name": "stdout",
     "output_type": "stream",
     "text": [
      "z1*z2 =  (2.9402-0.596j)\n",
      "z1**3 =  (-722+103j)\n",
      "************************************\n"
     ]
    }
   ],
   "source": [
    "z1 = 3*np.exp(1j*0.5)\n",
    "z2 = 1*np.exp(-1j*0.7)\n",
    "'''Producto'''\n",
    "print('z1*z2 = ', np.round(z1*z2,4))\n",
    "print('z1**3 = ', np.round(pow(z1,6)))\n",
    "print('************************************')"
   ]
  },
  {
   "cell_type": "code",
   "execution_count": 11,
   "id": "732e72c8",
   "metadata": {
    "slideshow": {
     "slide_type": "slide"
    }
   },
   "outputs": [
    {
     "name": "stdout",
     "output_type": "stream",
     "text": [
      "abs(z1)= 3.0\n",
      "|z1|= 3.0\n",
      "rho= 3.0\n",
      "************************************\n",
      "z1/z2= (1.08707+2.79612j)\n",
      "comprobación z1/z2= (1.08707+2.79612j)\n"
     ]
    }
   ],
   "source": [
    "'''Valor absoluto'''\n",
    "print('abs(z1)=',abs(z1))\n",
    "print('|z1|=',np.sqrt(z1*z1.conjugate()).real)\n",
    "print('rho=',cartes2polar(z1)[0])\n",
    "print('************************************')\n",
    "\n",
    "\n",
    "'''Division'''\n",
    "print('z1/z2=',np.round(z1/z2,5))\n",
    "print('comprobación z1/z2=', np.round(z1*z2.conjugate()/(z2*z2.conjugate()),5))"
   ]
  },
  {
   "cell_type": "code",
   "execution_count": 12,
   "id": "32006d1e",
   "metadata": {
    "code_folding": [
     9
    ],
    "slideshow": {
     "slide_type": "slide"
    }
   },
   "outputs": [
    {
     "ename": "NameError",
     "evalue": "name 'tQ' is not defined",
     "output_type": "error",
     "traceback": [
      "\u001b[0;31m---------------------------------------------------------------------------\u001b[0m",
      "\u001b[0;31mNameError\u001b[0m                                 Traceback (most recent call last)",
      "Cell \u001b[0;32mIn[12], line 11\u001b[0m\n\u001b[1;32m      7\u001b[0m \u001b[38;5;66;03m#print('lista de fases =', np.round(lista_de_fases,2))\u001b[39;00m\n\u001b[1;32m     10\u001b[0m \u001b[38;5;124;03m''' Dibujamos los números complejos '''\u001b[39;00m\n\u001b[0;32m---> 11\u001b[0m \u001b[43mtQ\u001b[49m\u001b[38;5;241m.\u001b[39mplot_2D_plane(fsize\u001b[38;5;241m=\u001b[39m(\u001b[38;5;241m6\u001b[39m,\u001b[38;5;241m6\u001b[39m))\n\u001b[1;32m     12\u001b[0m \u001b[38;5;28;01mfor\u001b[39;00m vec \u001b[38;5;129;01min\u001b[39;00m rho\u001b[38;5;241m*\u001b[39mlista_de_fases:\n\u001b[1;32m     13\u001b[0m     tQ\u001b[38;5;241m.\u001b[39mdraw_vector(x\u001b[38;5;241m=\u001b[39mvec\u001b[38;5;241m.\u001b[39mreal,y\u001b[38;5;241m=\u001b[39mvec\u001b[38;5;241m.\u001b[39mimag)\n",
      "\u001b[0;31mNameError\u001b[0m: name 'tQ' is not defined"
     ]
    }
   ],
   "source": [
    "# cambiar el número N\n",
    "N=9\n",
    "rho=1\n",
    "\n",
    "''' Creamos las fases'''\n",
    "lista_de_fases=np.exp(2*np.pi*1j*np.array(range(N))/N)\n",
    "#print('lista de fases =', np.round(lista_de_fases,2))\n",
    "\n",
    "\n",
    "''' Dibujamos los números complejos '''\n",
    "tQ.plot_2D_plane(fsize=(6,6))\n",
    "for vec in rho*lista_de_fases:\n",
    "    tQ.draw_vector(x=vec.real,y=vec.imag)\n",
    "\n",
    "#draw_unit_circle()\n",
    "plt.gca().add_patch(plt.Circle((0.,0.),1.,color='black',fill=False)) "
   ]
  },
  {
   "cell_type": "code",
   "execution_count": 13,
   "id": "40a522bb",
   "metadata": {},
   "outputs": [
    {
     "name": "stdout",
     "output_type": "stream",
     "text": [
      "(-0+0j)\n"
     ]
    }
   ],
   "source": [
    "''' Calculamos la suma. '''\n",
    "#print(lista_de_fases)\n",
    "print(np.round(sum(rho*lista_de_fases),10))"
   ]
  },
  {
   "cell_type": "code",
   "execution_count": 14,
   "id": "2bbe6875",
   "metadata": {},
   "outputs": [
    {
     "ename": "NameError",
     "evalue": "name 'tQ' is not defined",
     "output_type": "error",
     "traceback": [
      "\u001b[0;31m---------------------------------------------------------------------------\u001b[0m",
      "\u001b[0;31mNameError\u001b[0m                                 Traceback (most recent call last)",
      "Cell \u001b[0;32mIn[14], line 11\u001b[0m\n\u001b[1;32m      7\u001b[0m \u001b[38;5;66;03m#print('lista de fases =', np.round(lista_de_fases,2))\u001b[39;00m\n\u001b[1;32m     10\u001b[0m \u001b[38;5;124;03m''' Dibujamos los números complejos '''\u001b[39;00m\n\u001b[0;32m---> 11\u001b[0m \u001b[43mtQ\u001b[49m\u001b[38;5;241m.\u001b[39mplot_2D_plane(fsize\u001b[38;5;241m=\u001b[39m(\u001b[38;5;241m6\u001b[39m,\u001b[38;5;241m6\u001b[39m))\n\u001b[1;32m     12\u001b[0m \u001b[38;5;28;01mfor\u001b[39;00m vec \u001b[38;5;129;01min\u001b[39;00m rho\u001b[38;5;241m*\u001b[39mlista_de_fases:\n\u001b[1;32m     13\u001b[0m     tQ\u001b[38;5;241m.\u001b[39mdraw_vector(x\u001b[38;5;241m=\u001b[39mvec\u001b[38;5;241m.\u001b[39mreal,y\u001b[38;5;241m=\u001b[39mvec\u001b[38;5;241m.\u001b[39mimag)\n",
      "\u001b[0;31mNameError\u001b[0m: name 'tQ' is not defined"
     ]
    }
   ],
   "source": [
    "# cambiar el número N\n",
    "N=9\n",
    "rho=1\n",
    "j=5\n",
    "''' Creamos las fases'''\n",
    "lista_de_fases=np.exp(2*j*np.pi*1j*np.array(range(N))/N)\n",
    "#print('lista de fases =', np.round(lista_de_fases,2))\n",
    "\n",
    "\n",
    "''' Dibujamos los números complejos '''\n",
    "tQ.plot_2D_plane(fsize=(6,6))\n",
    "for vec in rho*lista_de_fases:\n",
    "    tQ.draw_vector(x=vec.real,y=vec.imag)\n",
    "\n",
    "#draw_unit_circle()\n",
    "plt.gca().add_patch(plt.Circle((0.,0.),1.,color='black',fill=False)) \n",
    "\n",
    "''' Calculamos la suma. '''\n",
    "#print(lista_de_fases)\n",
    "print(np.round(sum(rho*lista_de_fases),10))"
   ]
  },
  {
   "cell_type": "code",
   "execution_count": 15,
   "id": "53d52174",
   "metadata": {},
   "outputs": [
    {
     "ename": "NameError",
     "evalue": "name 'tQ' is not defined",
     "output_type": "error",
     "traceback": [
      "\u001b[0;31m---------------------------------------------------------------------------\u001b[0m",
      "\u001b[0;31mNameError\u001b[0m                                 Traceback (most recent call last)",
      "Cell \u001b[0;32mIn[15], line 11\u001b[0m\n\u001b[1;32m      7\u001b[0m \u001b[38;5;66;03m#print('lista de fases =', np.round(lista_de_fases,2))\u001b[39;00m\n\u001b[1;32m     10\u001b[0m \u001b[38;5;124;03m''' Dibujamos los números complejos '''\u001b[39;00m\n\u001b[0;32m---> 11\u001b[0m \u001b[43mtQ\u001b[49m\u001b[38;5;241m.\u001b[39mplot_2D_plane(fsize\u001b[38;5;241m=\u001b[39m(\u001b[38;5;241m6\u001b[39m,\u001b[38;5;241m6\u001b[39m))\n\u001b[1;32m     12\u001b[0m \u001b[38;5;28;01mfor\u001b[39;00m vec \u001b[38;5;129;01min\u001b[39;00m rho\u001b[38;5;241m*\u001b[39mlista_de_fases:\n\u001b[1;32m     13\u001b[0m     tQ\u001b[38;5;241m.\u001b[39mdraw_vector(x\u001b[38;5;241m=\u001b[39mvec\u001b[38;5;241m.\u001b[39mreal,y\u001b[38;5;241m=\u001b[39mvec\u001b[38;5;241m.\u001b[39mimag)\n",
      "\u001b[0;31mNameError\u001b[0m: name 'tQ' is not defined"
     ]
    }
   ],
   "source": [
    "# cambiar el número N\n",
    "N=9\n",
    "rho=1\n",
    "j=N\n",
    "''' Creamos las fases'''\n",
    "lista_de_fases=np.exp(2*j*np.pi*1j*np.array(range(N))/N)\n",
    "#print('lista de fases =', np.round(lista_de_fases,2))\n",
    "\n",
    "\n",
    "''' Dibujamos los números complejos '''\n",
    "tQ.plot_2D_plane(fsize=(6,6))\n",
    "for vec in rho*lista_de_fases:\n",
    "    tQ.draw_vector(x=vec.real,y=vec.imag)\n",
    "\n",
    "#draw_unit_circle()\n",
    "plt.gca().add_patch(plt.Circle((0.,0.),1.,color='black',fill=False)) \n",
    "\n",
    "''' Calculamos la suma. '''\n",
    "#print(lista_de_fases)\n",
    "print(np.round(sum(rho*lista_de_fases),10))"
   ]
  },
  {
   "cell_type": "code",
   "execution_count": 16,
   "id": "b1b5a775",
   "metadata": {},
   "outputs": [
    {
     "name": "stdout",
     "output_type": "stream",
     "text": [
      "|z1|+|z2|= 4.919349550499537\n",
      "|z1+z2|= 4.8645696489522345\n"
     ]
    },
    {
     "ename": "NameError",
     "evalue": "name 'tQ' is not defined",
     "output_type": "error",
     "traceback": [
      "\u001b[0;31m---------------------------------------------------------------------------\u001b[0m",
      "\u001b[0;31mNameError\u001b[0m                                 Traceback (most recent call last)",
      "Cell \u001b[0;32mIn[16], line 16\u001b[0m\n\u001b[1;32m     12\u001b[0m \u001b[38;5;28mprint\u001b[39m(\u001b[38;5;124m'\u001b[39m\u001b[38;5;124m|z1|+|z2|=\u001b[39m\u001b[38;5;124m'\u001b[39m,\u001b[38;5;28mabs\u001b[39m(z1)\u001b[38;5;241m+\u001b[39m\u001b[38;5;28mabs\u001b[39m(z2))\n\u001b[1;32m     13\u001b[0m \u001b[38;5;28mprint\u001b[39m(\u001b[38;5;124m'\u001b[39m\u001b[38;5;124m|z1+z2|=\u001b[39m\u001b[38;5;124m'\u001b[39m,\u001b[38;5;28mabs\u001b[39m(z1\u001b[38;5;241m+\u001b[39mz2))\n\u001b[0;32m---> 16\u001b[0m \u001b[43mtQ\u001b[49m\u001b[38;5;241m.\u001b[39mplot_2D_plane(left\u001b[38;5;241m=\u001b[39m\u001b[38;5;241m-\u001b[39m\u001b[38;5;241m2\u001b[39m,right\u001b[38;5;241m=\u001b[39m\u001b[38;5;241m4\u001b[39m,up\u001b[38;5;241m=\u001b[39m\u001b[38;5;241m7\u001b[39m,down\u001b[38;5;241m=\u001b[39m\u001b[38;5;241m-\u001b[39m\u001b[38;5;241m1\u001b[39m) \u001b[38;5;66;03m#cambiar las dimensiones para que encuadrar la figura\u001b[39;00m\n\u001b[1;32m     17\u001b[0m tQ\u001b[38;5;241m.\u001b[39mdraw_vector(z1\u001b[38;5;241m.\u001b[39mreal,z1\u001b[38;5;241m.\u001b[39mimag,\u001b[38;5;124m'\u001b[39m\u001b[38;5;124mb\u001b[39m\u001b[38;5;124m'\u001b[39m)\n\u001b[1;32m     18\u001b[0m tQ\u001b[38;5;241m.\u001b[39mdraw_vector(z2\u001b[38;5;241m.\u001b[39mreal,z2\u001b[38;5;241m.\u001b[39mimag,\u001b[38;5;124m'\u001b[39m\u001b[38;5;124mb\u001b[39m\u001b[38;5;124m'\u001b[39m)\n",
      "\u001b[0;31mNameError\u001b[0m: name 'tQ' is not defined"
     ]
    }
   ],
   "source": [
    "'''Comprueba que sólo cuando z1 y z2 son paralelos, se satura la desigualdad triangular'''\n",
    "\n",
    "'''Suma en cartesianas'''\n",
    "z1 = 1+2j\n",
    "\n",
    "ang = 0.3 #el ángulo entre z1 y z2\n",
    "z2 = z1*(1.2*np.exp(1j*ang))\n",
    "\n",
    "'''Suma '''\n",
    "zs = z1+z2\n",
    "\n",
    "print('|z1|+|z2|=',abs(z1)+abs(z2))\n",
    "print('|z1+z2|=',abs(z1+z2))\n",
    "\n",
    "\n",
    "tQ.plot_2D_plane(left=-2,right=4,up=7,down=-1) #cambiar las dimensiones para que encuadrar la figura\n",
    "tQ.draw_vector(z1.real,z1.imag,'b')\n",
    "tQ.draw_vector(z2.real,z2.imag,'b')\n",
    "tQ.draw_vector(zs.real,zs.imag,vcolor='r')"
   ]
  }
 ],
 "metadata": {
  "jupytext": {
   "text_representation": {
    "extension": ".md",
    "format_name": "myst",
    "format_version": 0.13,
    "jupytext_version": "1.15.2"
   }
  },
  "kernelspec": {
   "display_name": "Python 3 (ipykernel)",
   "language": "python",
   "name": "python3"
  },
  "language_info": {
   "codemirror_mode": {
    "name": "ipython",
    "version": 3
   },
   "file_extension": ".py",
   "mimetype": "text/x-python",
   "name": "python",
   "nbconvert_exporter": "python",
   "pygments_lexer": "ipython3",
   "version": "3.10.13"
  },
  "source_map": [
   12,
   30,
   37,
   47,
   51,
   55,
   59,
   66,
   70,
   75,
   79,
   83,
   88,
   99,
   103,
   113,
   118,
   122,
   126,
   130,
   134,
   138,
   147,
   153,
   158,
   162,
   166,
   186,
   195,
   199,
   219,
   223,
   244,
   253,
   264,
   279,
   295,
   299,
   314,
   326,
   330,
   363,
   373,
   387,
   404,
   413,
   430,
   438,
   456,
   485,
   493,
   519,
   538,
   551,
   558,
   572,
   580,
   588,
   598,
   604,
   618,
   627,
   644,
   648,
   661,
   685,
   689,
   699,
   720,
   730,
   751,
   759,
   763,
   773,
   779,
   783,
   793
  ]
 },
 "nbformat": 4,
 "nbformat_minor": 5
}