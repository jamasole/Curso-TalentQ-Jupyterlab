{
 "cells": [
  {
   "cell_type": "code",
   "execution_count": 1,
   "id": "3b512046",
   "metadata": {
    "slideshow": {
     "slide_type": "slide"
    }
   },
   "outputs": [
    {
     "ename": "ModuleNotFoundError",
     "evalue": "No module named 'macro_tQ'",
     "output_type": "error",
     "traceback": [
      "\u001b[0;31m---------------------------------------------------------------------------\u001b[0m",
      "\u001b[0;31mModuleNotFoundError\u001b[0m                       Traceback (most recent call last)",
      "Cell \u001b[0;32mIn[1], line 3\u001b[0m\n\u001b[1;32m      1\u001b[0m \u001b[38;5;28;01mimport\u001b[39;00m \u001b[38;5;21;01msys\u001b[39;00m\n\u001b[1;32m      2\u001b[0m sys\u001b[38;5;241m.\u001b[39mpath\u001b[38;5;241m.\u001b[39mappend(\u001b[38;5;124m'\u001b[39m\u001b[38;5;124m../\u001b[39m\u001b[38;5;124m'\u001b[39m)\n\u001b[0;32m----> 3\u001b[0m \u001b[38;5;28;01mimport\u001b[39;00m \u001b[38;5;21;01mmacro_tQ\u001b[39;00m \u001b[38;5;28;01mas\u001b[39;00m \u001b[38;5;21;01mtQ\u001b[39;00m\n\u001b[1;32m      5\u001b[0m \u001b[38;5;28;01mimport\u001b[39;00m \u001b[38;5;21;01mnumpy\u001b[39;00m \u001b[38;5;28;01mas\u001b[39;00m \u001b[38;5;21;01mnp\u001b[39;00m\n\u001b[1;32m      6\u001b[0m \u001b[38;5;28;01mimport\u001b[39;00m \u001b[38;5;21;01mscipy\u001b[39;00m\u001b[38;5;21;01m.\u001b[39;00m\u001b[38;5;21;01mlinalg\u001b[39;00m \u001b[38;5;28;01mas\u001b[39;00m \u001b[38;5;21;01mla\u001b[39;00m\n",
      "\u001b[0;31mModuleNotFoundError\u001b[0m: No module named 'macro_tQ'"
     ]
    }
   ],
   "source": [
    "import sys\n",
    "sys.path.append('../')\n",
    "import macro_tQ as tQ\n",
    "\n",
    "import numpy as np\n",
    "import scipy.linalg as la\n",
    "from IPython.display import display,Markdown,Latex\n",
    "import matplotlib.pyplot as plt\n",
    "from qiskit.tools.visualization import array_to_latex\n",
    "import copy \n",
    "\n"
   ]
  },
  {
   "cell_type": "code",
   "execution_count": 2,
   "id": "663a3177",
   "metadata": {
    "slideshow": {
     "slide_type": "fragment"
    }
   },
   "outputs": [
    {
     "name": "stdout",
     "output_type": "stream",
     "text": [
      "True\n"
     ]
    }
   ],
   "source": [
    "print(isinstance(1+0j,complex))\n"
   ]
  },
  {
   "cell_type": "code",
   "execution_count": 6,
   "id": "5b9003a1",
   "metadata": {
    "slideshow": {
     "slide_type": "fragment"
    }
   },
   "outputs": [
    {
     "name": "stdout",
     "output_type": "stream",
     "text": [
      "False\n"
     ]
    }
   ],
   "source": []
  },
  {
   "cell_type": "code",
   "execution_count": 3,
   "id": "8371787b",
   "metadata": {
    "slideshow": {
     "slide_type": "slide"
    }
   },
   "outputs": [
    {
     "name": "stdout",
     "output_type": "stream",
     "text": [
      "z=x+iy= (-3+1j)\n"
     ]
    },
    {
     "ename": "NameError",
     "evalue": "name 'tQ' is not defined",
     "output_type": "error",
     "traceback": [
      "\u001b[0;31m---------------------------------------------------------------------------\u001b[0m",
      "\u001b[0;31mNameError\u001b[0m                                 Traceback (most recent call last)",
      "Cell \u001b[0;32mIn[3], line 12\u001b[0m\n\u001b[1;32m     10\u001b[0m \u001b[38;5;124;03m'''esta función está en archivo: macro_CURSO.py  '''\u001b[39;00m\n\u001b[1;32m     11\u001b[0m \u001b[38;5;124;03m''' Representación en el plano complejo '''\u001b[39;00m\n\u001b[0;32m---> 12\u001b[0m \u001b[43mtQ\u001b[49m\u001b[38;5;241m.\u001b[39mplot_2D_plane(left\u001b[38;5;241m=\u001b[39m\u001b[38;5;241m-\u001b[39m\u001b[38;5;28mint\u001b[39m(\u001b[38;5;28mabs\u001b[39m(x))\u001b[38;5;241m-\u001b[39m\u001b[38;5;241m1\u001b[39m,right\u001b[38;5;241m=\u001b[39m\u001b[38;5;28mint\u001b[39m(\u001b[38;5;28mabs\u001b[39m(x))\u001b[38;5;241m+\u001b[39m\u001b[38;5;241m1\u001b[39m,up\u001b[38;5;241m=\u001b[39m\u001b[38;5;28mint\u001b[39m(\u001b[38;5;28mabs\u001b[39m(y))\u001b[38;5;241m+\u001b[39m\u001b[38;5;241m1\u001b[39m,down\u001b[38;5;241m=\u001b[39m\u001b[38;5;241m-\u001b[39m\u001b[38;5;28mint\u001b[39m(\u001b[38;5;28mabs\u001b[39m(y))\u001b[38;5;241m-\u001b[39m\u001b[38;5;241m1\u001b[39m)\n\u001b[1;32m     13\u001b[0m tQ\u001b[38;5;241m.\u001b[39mdraw_vector(x,y,\u001b[38;5;124m'\u001b[39m\u001b[38;5;124mb\u001b[39m\u001b[38;5;124m'\u001b[39m)\n",
      "\u001b[0;31mNameError\u001b[0m: name 'tQ' is not defined"
     ]
    }
   ],
   "source": [
    "'''Forma cartesiana''' \n",
    "z = -3 + 1j\n",
    "\n",
    "'''Extraemos las partes real e imaginaria'''\n",
    "x=z.real\n",
    "y=z.imag\n",
    "print('z=x+iy=',x + 1j*y)\n",
    "\n",
    "''' Representación en el plano complejo '''\n",
    "'''esta función está en archivo: macro_CURSO.py  '''\n",
    "''' Representación en el plano complejo '''\n",
    "tQ.plot_2D_plane(left=-int(abs(x))-1,right=int(abs(x))+1,up=int(abs(y))+1,down=-int(abs(y))-1)\n",
    "tQ.draw_vector(x,y,'b')\n"
   ]
  },
  {
   "cell_type": "code",
   "execution_count": 4,
   "id": "bf3f2f3d",
   "metadata": {
    "slideshow": {
     "slide_type": "slide"
    }
   },
   "outputs": [
    {
     "name": "stdout",
     "output_type": "stream",
     "text": [
      "z*=(x+iy)*= (-3-1j)\n"
     ]
    },
    {
     "ename": "NameError",
     "evalue": "name 'tQ' is not defined",
     "output_type": "error",
     "traceback": [
      "\u001b[0;31m---------------------------------------------------------------------------\u001b[0m",
      "\u001b[0;31mNameError\u001b[0m                                 Traceback (most recent call last)",
      "Cell \u001b[0;32mIn[4], line 6\u001b[0m\n\u001b[1;32m      3\u001b[0m \u001b[38;5;28mprint\u001b[39m(\u001b[38;5;124m'\u001b[39m\u001b[38;5;124mz*=(x+iy)*=\u001b[39m\u001b[38;5;124m'\u001b[39m,z\u001b[38;5;241m.\u001b[39mreal \u001b[38;5;241m+\u001b[39m\u001b[38;5;241m1\u001b[39mj\u001b[38;5;241m*\u001b[39mzc\u001b[38;5;241m.\u001b[39mimag)\n\u001b[1;32m      5\u001b[0m \u001b[38;5;124;03m''' Representación en el plano complejo '''\u001b[39;00m\n\u001b[0;32m----> 6\u001b[0m \u001b[43mtQ\u001b[49m\u001b[38;5;241m.\u001b[39mplot_2D_plane(left\u001b[38;5;241m=\u001b[39m\u001b[38;5;241m-\u001b[39m\u001b[38;5;28mint\u001b[39m(\u001b[38;5;28mabs\u001b[39m(x))\u001b[38;5;241m-\u001b[39m\u001b[38;5;241m1\u001b[39m,right\u001b[38;5;241m=\u001b[39m\u001b[38;5;28mint\u001b[39m(\u001b[38;5;28mabs\u001b[39m(x))\u001b[38;5;241m+\u001b[39m\u001b[38;5;241m1\u001b[39m,up\u001b[38;5;241m=\u001b[39m\u001b[38;5;28mint\u001b[39m(\u001b[38;5;28mabs\u001b[39m(y))\u001b[38;5;241m+\u001b[39m\u001b[38;5;241m1\u001b[39m,down\u001b[38;5;241m=\u001b[39m\u001b[38;5;241m-\u001b[39m\u001b[38;5;28mint\u001b[39m(\u001b[38;5;28mabs\u001b[39m(y))\u001b[38;5;241m-\u001b[39m\u001b[38;5;241m1\u001b[39m)\n\u001b[1;32m      7\u001b[0m tQ\u001b[38;5;241m.\u001b[39mdraw_vector(z\u001b[38;5;241m.\u001b[39mreal,z\u001b[38;5;241m.\u001b[39mimag,\u001b[38;5;124m'\u001b[39m\u001b[38;5;124mb\u001b[39m\u001b[38;5;124m'\u001b[39m)\n\u001b[1;32m      8\u001b[0m tQ\u001b[38;5;241m.\u001b[39mdraw_vector(zc\u001b[38;5;241m.\u001b[39mreal,zc\u001b[38;5;241m.\u001b[39mimag,vcolor\u001b[38;5;241m=\u001b[39m\u001b[38;5;124m'\u001b[39m\u001b[38;5;124mr\u001b[39m\u001b[38;5;124m'\u001b[39m)\n",
      "\u001b[0;31mNameError\u001b[0m: name 'tQ' is not defined"
     ]
    }
   ],
   "source": [
    "'''Conjugacion compleja'''\n",
    "zc = z.conjugate()\n",
    "print('z*=(x+iy)*=',z.real +1j*zc.imag)\n",
    "\n",
    "''' Representación en el plano complejo '''\n",
    "tQ.plot_2D_plane(left=-int(abs(x))-1,right=int(abs(x))+1,up=int(abs(y))+1,down=-int(abs(y))-1)\n",
    "tQ.draw_vector(z.real,z.imag,'b')\n",
    "tQ.draw_vector(zc.real,zc.imag,vcolor='r')\n",
    "\n"
   ]
  },
  {
   "cell_type": "code",
   "execution_count": 5,
   "id": "d3cf646f",
   "metadata": {
    "slideshow": {
     "slide_type": "slide"
    }
   },
   "outputs": [
    {
     "ename": "NameError",
     "evalue": "name 'np' is not defined",
     "output_type": "error",
     "traceback": [
      "\u001b[0;31m---------------------------------------------------------------------------\u001b[0m",
      "\u001b[0;31mNameError\u001b[0m                                 Traceback (most recent call last)",
      "Cell \u001b[0;32mIn[5], line 4\u001b[0m\n\u001b[1;32m      2\u001b[0m r\u001b[38;5;241m=\u001b[39m\u001b[38;5;241m2\u001b[39m\n\u001b[1;32m      3\u001b[0m th\u001b[38;5;241m=\u001b[39m\u001b[38;5;241m3.5\u001b[39m\n\u001b[0;32m----> 4\u001b[0m z \u001b[38;5;241m=\u001b[39m r\u001b[38;5;241m*\u001b[39m\u001b[43mnp\u001b[49m\u001b[38;5;241m.\u001b[39mexp(th\u001b[38;5;241m*\u001b[39m\u001b[38;5;241m1\u001b[39mj)\n\u001b[1;32m      5\u001b[0m \u001b[38;5;28mprint\u001b[39m(z)\n\u001b[1;32m      6\u001b[0m x\u001b[38;5;241m=\u001b[39mz\u001b[38;5;241m.\u001b[39mreal\n",
      "\u001b[0;31mNameError\u001b[0m: name 'np' is not defined"
     ]
    }
   ],
   "source": [
    "'''Forma polar'''\n",
    "r=2\n",
    "th=3.5\n",
    "z = r*np.exp(th*1j)\n",
    "print(z)\n",
    "x=z.real\n",
    "y=z.imag\n",
    "print('z=r exp(i th)=',np.round(x,3) + np.round(y,3)*1j)\n",
    "\n",
    "\n",
    "''' Dibujamos en el plano complejo '''\n",
    "tQ.plot_2D_plane(left=-int(abs(x))-1,right=int(abs(x))+1,up=int(abs(y))+1,down=-int(abs(y))-1)\n",
    "tQ.draw_vector(z.real,z.imag)\n",
    "tQ.draw_vector(z.conjugate().real,z.conjugate().imag,vcolor='r')"
   ]
  },
  {
   "cell_type": "code",
   "execution_count": 6,
   "id": "1b1ce76c",
   "metadata": {
    "slideshow": {
     "slide_type": "slide"
    }
   },
   "outputs": [],
   "source": [
    "'Conversión de Cartesianas a Polares'\n",
    "def cartes2polar(z):\n",
    "\n",
    "    r = np.abs(z)    \n",
    "    y = z.imag\n",
    "    x = z.real\n",
    "    \n",
    "    if r==0:\n",
    "        print('el número 0+i0 no admite representación polar')\n",
    "        th='indefinido'\n",
    "    elif x==0 and y>0: \n",
    "        th=np.pi/2\n",
    "    elif x==0 and y<0:\n",
    "        th=3*np.pi/2\n",
    "    elif x>0 and y>=0:\n",
    "        th=np.arctan(y/x)\n",
    "    elif x<0 and y>=0:\n",
    "        th=np.arctan(-y/x)+np.pi/2\n",
    "    elif x<0 and y<0:\n",
    "        th=np.arctan(y/x)+np.pi\n",
    "    elif x>0 and y<0:\n",
    "         th=np.arctan(-y/x)+3*np.pi/2.       \n",
    "            \n",
    "    return r,th\n",
    "\n",
    "#el signo correcto también se puede conseguir usando la funcion np.arctan2(x,y)"
   ]
  },
  {
   "cell_type": "code",
   "execution_count": 7,
   "id": "6684a694",
   "metadata": {
    "slideshow": {
     "slide_type": "-"
    }
   },
   "outputs": [
    {
     "ename": "NameError",
     "evalue": "name 'np' is not defined",
     "output_type": "error",
     "traceback": [
      "\u001b[0;31m---------------------------------------------------------------------------\u001b[0m",
      "\u001b[0;31mNameError\u001b[0m                                 Traceback (most recent call last)",
      "Cell \u001b[0;32mIn[7], line 2\u001b[0m\n\u001b[1;32m      1\u001b[0m \u001b[38;5;124m'\u001b[39m\u001b[38;5;124mA la inversa no es necesario definir ninguna funcion, ya que numpy directamente escribe un numero complejo en forma cartesiana\u001b[39m\u001b[38;5;124m'\u001b[39m\n\u001b[0;32m----> 2\u001b[0m z \u001b[38;5;241m=\u001b[39m \u001b[38;5;241m3\u001b[39m\u001b[38;5;241m*\u001b[39m\u001b[43mnp\u001b[49m\u001b[38;5;241m.\u001b[39mexp(\u001b[38;5;241m1\u001b[39mj\u001b[38;5;241m*\u001b[39m\u001b[38;5;241m0.5\u001b[39m)\n\u001b[1;32m      3\u001b[0m \u001b[38;5;28mprint\u001b[39m(np\u001b[38;5;241m.\u001b[39mround(z,\u001b[38;5;241m2\u001b[39m))\n",
      "\u001b[0;31mNameError\u001b[0m: name 'np' is not defined"
     ]
    }
   ],
   "source": [
    "'A la inversa no es necesario definir ninguna funcion, ya que numpy directamente escribe un numero complejo en forma cartesiana'\n",
    "z = 3*np.exp(1j*0.5)\n",
    "print(np.round(z,2))\n"
   ]
  },
  {
   "cell_type": "code",
   "execution_count": 8,
   "id": "40c6a654",
   "metadata": {
    "scrolled": true,
    "slideshow": {
     "slide_type": "slide"
    }
   },
   "outputs": [
    {
     "name": "stdout",
     "output_type": "stream",
     "text": [
      "z1+z2= (3+6j)\n",
      "z1-z2= (-1+2j)\n",
      "************************************\n"
     ]
    },
    {
     "ename": "NameError",
     "evalue": "name 'tQ' is not defined",
     "output_type": "error",
     "traceback": [
      "\u001b[0;31m---------------------------------------------------------------------------\u001b[0m",
      "\u001b[0;31mNameError\u001b[0m                                 Traceback (most recent call last)",
      "Cell \u001b[0;32mIn[8], line 16\u001b[0m\n\u001b[1;32m     11\u001b[0m \u001b[38;5;28mprint\u001b[39m(\u001b[38;5;124m'\u001b[39m\u001b[38;5;124mz1-z2=\u001b[39m\u001b[38;5;124m'\u001b[39m,zd)\n\u001b[1;32m     12\u001b[0m \u001b[38;5;28mprint\u001b[39m(\u001b[38;5;124m'\u001b[39m\u001b[38;5;124m************************************\u001b[39m\u001b[38;5;124m'\u001b[39m)\n\u001b[0;32m---> 16\u001b[0m \u001b[43mtQ\u001b[49m\u001b[38;5;241m.\u001b[39mplot_2D_plane(left\u001b[38;5;241m=\u001b[39m\u001b[38;5;241m-\u001b[39m\u001b[38;5;241m2\u001b[39m,right\u001b[38;5;241m=\u001b[39m\u001b[38;5;241m4\u001b[39m,up\u001b[38;5;241m=\u001b[39m\u001b[38;5;241m7\u001b[39m,down\u001b[38;5;241m=\u001b[39m\u001b[38;5;241m-\u001b[39m\u001b[38;5;241m1\u001b[39m) \u001b[38;5;66;03m#cambiar las dimensiones para que encuadrar la figura\u001b[39;00m\n\u001b[1;32m     17\u001b[0m tQ\u001b[38;5;241m.\u001b[39mdraw_vector(z1\u001b[38;5;241m.\u001b[39mreal,z1\u001b[38;5;241m.\u001b[39mimag,\u001b[38;5;124m'\u001b[39m\u001b[38;5;124mb\u001b[39m\u001b[38;5;124m'\u001b[39m)\n\u001b[1;32m     18\u001b[0m tQ\u001b[38;5;241m.\u001b[39mdraw_vector(z2\u001b[38;5;241m.\u001b[39mreal,z2\u001b[38;5;241m.\u001b[39mimag,\u001b[38;5;124m'\u001b[39m\u001b[38;5;124mb\u001b[39m\u001b[38;5;124m'\u001b[39m)\n",
      "\u001b[0;31mNameError\u001b[0m: name 'tQ' is not defined"
     ]
    }
   ],
   "source": [
    "'''Suma en cartesianas'''\n",
    "\n",
    "z1 = 1+4j\n",
    "z2 = 2+2j\n",
    "\n",
    "'''Suma y resta'''\n",
    "zs = z1+z2\n",
    "zd = z1-z2\n",
    "\n",
    "print('z1+z2=',zs)\n",
    "print('z1-z2=',zd)\n",
    "print('************************************')\n",
    "\n",
    "\n",
    "\n",
    "tQ.plot_2D_plane(left=-2,right=4,up=7,down=-1) #cambiar las dimensiones para que encuadrar la figura\n",
    "tQ.draw_vector(z1.real,z1.imag,'b')\n",
    "tQ.draw_vector(z2.real,z2.imag,'b')\n",
    "tQ.draw_vector(zs.real,zs.imag,vcolor='r')\n",
    "tQ.draw_vector(zd.real,zd.imag,vcolor='g')\n"
   ]
  },
  {
   "cell_type": "code",
   "execution_count": 9,
   "id": "fa6e396f",
   "metadata": {
    "run_control": {
     "marked": true
    },
    "slideshow": {
     "slide_type": "slide"
    }
   },
   "outputs": [
    {
     "ename": "NameError",
     "evalue": "name 'np' is not defined",
     "output_type": "error",
     "traceback": [
      "\u001b[0;31m---------------------------------------------------------------------------\u001b[0m",
      "\u001b[0;31mNameError\u001b[0m                                 Traceback (most recent call last)",
      "Cell \u001b[0;32mIn[9], line 2\u001b[0m\n\u001b[1;32m      1\u001b[0m \u001b[38;5;124m'\u001b[39m\u001b[38;5;124mpython directamente escribe un numero complejo en forma cartesiana\u001b[39m\u001b[38;5;124m'\u001b[39m\n\u001b[0;32m----> 2\u001b[0m z1 \u001b[38;5;241m=\u001b[39m \u001b[38;5;241m3\u001b[39m\u001b[38;5;241m*\u001b[39m\u001b[43mnp\u001b[49m\u001b[38;5;241m.\u001b[39mexp(\u001b[38;5;241m1\u001b[39mj\u001b[38;5;241m*\u001b[39m\u001b[38;5;241m0.5\u001b[39m)\n\u001b[1;32m      3\u001b[0m z2 \u001b[38;5;241m=\u001b[39m \u001b[38;5;241m1\u001b[39m\u001b[38;5;241m*\u001b[39mnp\u001b[38;5;241m.\u001b[39mexp(\u001b[38;5;241m-\u001b[39m\u001b[38;5;241m1\u001b[39mj\u001b[38;5;241m*\u001b[39m\u001b[38;5;241m0.7\u001b[39m)\n\u001b[1;32m      5\u001b[0m \u001b[38;5;124;03m'''Suma y resta'''\u001b[39;00m\n",
      "\u001b[0;31mNameError\u001b[0m: name 'np' is not defined"
     ]
    }
   ],
   "source": [
    "'python directamente escribe un numero complejo en forma cartesiana'\n",
    "z1 = 3*np.exp(1j*0.5)\n",
    "z2 = 1*np.exp(-1j*0.7)\n",
    "\n",
    "'''Suma y resta'''\n",
    "zs = z1+z2\n",
    "zd = z1-z2\n",
    "\n",
    "print('z1+z2=',np.round(zs,4))\n",
    "print('z1-z2=',np.round(zd,4))\n",
    "print('************************************')\n",
    "\n",
    "tQ.plot_2D_plane(left=-2,right=4,up=3,down=-1) #cambiar las dimensiones para que encuadrar la figura\n",
    "tQ.draw_vector(z1.real,z1.imag,'b')\n",
    "tQ.draw_vector(z2.real,z2.imag,'b')\n",
    "tQ.draw_vector(zs.real,zs.imag,vcolor='r')\n",
    "tQ.draw_vector(zd.real,zd.imag,vcolor='g')\n"
   ]
  },
  {
   "cell_type": "code",
   "execution_count": 10,
   "id": "8b77ade7",
   "metadata": {
    "slideshow": {
     "slide_type": "slide"
    }
   },
   "outputs": [
    {
     "ename": "NameError",
     "evalue": "name 'np' is not defined",
     "output_type": "error",
     "traceback": [
      "\u001b[0;31m---------------------------------------------------------------------------\u001b[0m",
      "\u001b[0;31mNameError\u001b[0m                                 Traceback (most recent call last)",
      "Cell \u001b[0;32mIn[10], line 1\u001b[0m\n\u001b[0;32m----> 1\u001b[0m z1 \u001b[38;5;241m=\u001b[39m \u001b[38;5;241m3\u001b[39m\u001b[38;5;241m*\u001b[39m\u001b[43mnp\u001b[49m\u001b[38;5;241m.\u001b[39mexp(\u001b[38;5;241m1\u001b[39mj\u001b[38;5;241m*\u001b[39m\u001b[38;5;241m0.5\u001b[39m)\n\u001b[1;32m      2\u001b[0m z2 \u001b[38;5;241m=\u001b[39m \u001b[38;5;241m1\u001b[39m\u001b[38;5;241m*\u001b[39mnp\u001b[38;5;241m.\u001b[39mexp(\u001b[38;5;241m-\u001b[39m\u001b[38;5;241m1\u001b[39mj\u001b[38;5;241m*\u001b[39m\u001b[38;5;241m0.7\u001b[39m)\n\u001b[1;32m      3\u001b[0m \u001b[38;5;124;03m'''Producto'''\u001b[39;00m\n",
      "\u001b[0;31mNameError\u001b[0m: name 'np' is not defined"
     ]
    }
   ],
   "source": [
    "z1 = 3*np.exp(1j*0.5)\n",
    "z2 = 1*np.exp(-1j*0.7)\n",
    "'''Producto'''\n",
    "print('z1*z2 = ', np.round(z1*z2,4))\n",
    "print('z1**3 = ', np.round(pow(z1,6)))\n",
    "print('************************************')"
   ]
  },
  {
   "cell_type": "code",
   "execution_count": 11,
   "id": "263e8258",
   "metadata": {
    "slideshow": {
     "slide_type": "slide"
    }
   },
   "outputs": [
    {
     "name": "stdout",
     "output_type": "stream",
     "text": [
      "|z1|= 4.123105625617661\n"
     ]
    },
    {
     "ename": "NameError",
     "evalue": "name 'np' is not defined",
     "output_type": "error",
     "traceback": [
      "\u001b[0;31m---------------------------------------------------------------------------\u001b[0m",
      "\u001b[0;31mNameError\u001b[0m                                 Traceback (most recent call last)",
      "Cell \u001b[0;32mIn[11], line 3\u001b[0m\n\u001b[1;32m      1\u001b[0m \u001b[38;5;124;03m'''Valor absoluto'''\u001b[39;00m\n\u001b[1;32m      2\u001b[0m \u001b[38;5;28mprint\u001b[39m(\u001b[38;5;124m'\u001b[39m\u001b[38;5;124m|z1|=\u001b[39m\u001b[38;5;124m'\u001b[39m,\u001b[38;5;28mabs\u001b[39m(z1))\n\u001b[0;32m----> 3\u001b[0m \u001b[38;5;28mprint\u001b[39m(\u001b[38;5;124m'\u001b[39m\u001b[38;5;124mcomprobación |z1|=\u001b[39m\u001b[38;5;124m'\u001b[39m,\u001b[43mnp\u001b[49m\u001b[38;5;241m.\u001b[39msqrt(z1\u001b[38;5;241m*\u001b[39mz1\u001b[38;5;241m.\u001b[39mconjugate())\u001b[38;5;241m.\u001b[39mreal) \n\u001b[1;32m      4\u001b[0m \u001b[38;5;28mprint\u001b[39m(\u001b[38;5;124m'\u001b[39m\u001b[38;5;124m************************************\u001b[39m\u001b[38;5;124m'\u001b[39m)\n\u001b[1;32m      7\u001b[0m \u001b[38;5;124;03m'''Division'''\u001b[39;00m\n",
      "\u001b[0;31mNameError\u001b[0m: name 'np' is not defined"
     ]
    }
   ],
   "source": [
    "'''Valor absoluto'''\n",
    "print('|z1|=',abs(z1))\n",
    "print('comprobación |z1|=',np.sqrt(z1*z1.conjugate()).real) \n",
    "print('************************************')\n",
    "\n",
    "\n",
    "'''Division'''\n",
    "print('z1/z2=',np.round(z1/z2,5))\n",
    "print('comprobación z1/z2=', np.round(z1*z2.conjugate()/(z2*z2.conjugate()),5))"
   ]
  },
  {
   "cell_type": "code",
   "execution_count": 12,
   "id": "352392bd",
   "metadata": {
    "code_folding": [
     9
    ],
    "slideshow": {
     "slide_type": "slide"
    }
   },
   "outputs": [
    {
     "ename": "Exception",
     "evalue": "File `'../macro_CURSO.py'` not found.",
     "output_type": "error",
     "traceback": [
      "\u001b[0;31m---------------------------------------------------------------------------\u001b[0m",
      "\u001b[0;31mOSError\u001b[0m                                   Traceback (most recent call last)",
      "File \u001b[0;32m~/opt/anaconda3/envs/jupyterbook/lib/python3.9/site-packages/IPython/core/magics/execution.py:716\u001b[0m, in \u001b[0;36mExecutionMagics.run\u001b[0;34m(self, parameter_s, runner, file_finder)\u001b[0m\n\u001b[1;32m    715\u001b[0m     fpath \u001b[38;5;241m=\u001b[39m arg_lst[\u001b[38;5;241m0\u001b[39m]\n\u001b[0;32m--> 716\u001b[0m     filename \u001b[38;5;241m=\u001b[39m \u001b[43mfile_finder\u001b[49m\u001b[43m(\u001b[49m\u001b[43mfpath\u001b[49m\u001b[43m)\u001b[49m\n\u001b[1;32m    717\u001b[0m \u001b[38;5;28;01mexcept\u001b[39;00m \u001b[38;5;167;01mIndexError\u001b[39;00m \u001b[38;5;28;01mas\u001b[39;00m e:\n",
      "File \u001b[0;32m~/opt/anaconda3/envs/jupyterbook/lib/python3.9/site-packages/IPython/utils/path.py:90\u001b[0m, in \u001b[0;36mget_py_filename\u001b[0;34m(name)\u001b[0m\n\u001b[1;32m     89\u001b[0m         \u001b[38;5;28;01mreturn\u001b[39;00m py_name\n\u001b[0;32m---> 90\u001b[0m \u001b[38;5;28;01mraise\u001b[39;00m \u001b[38;5;167;01mIOError\u001b[39;00m(\u001b[38;5;124m\"\u001b[39m\u001b[38;5;124mFile `\u001b[39m\u001b[38;5;132;01m%r\u001b[39;00m\u001b[38;5;124m` not found.\u001b[39m\u001b[38;5;124m\"\u001b[39m \u001b[38;5;241m%\u001b[39m name)\n",
      "\u001b[0;31mOSError\u001b[0m: File `'../macro_CURSO.py'` not found.",
      "\nThe above exception was the direct cause of the following exception:\n",
      "\u001b[0;31mException\u001b[0m                                 Traceback (most recent call last)",
      "Cell \u001b[0;32mIn[12], line 1\u001b[0m\n\u001b[0;32m----> 1\u001b[0m \u001b[43mget_ipython\u001b[49m\u001b[43m(\u001b[49m\u001b[43m)\u001b[49m\u001b[38;5;241;43m.\u001b[39;49m\u001b[43mrun_line_magic\u001b[49m\u001b[43m(\u001b[49m\u001b[38;5;124;43m'\u001b[39;49m\u001b[38;5;124;43mrun\u001b[39;49m\u001b[38;5;124;43m'\u001b[39;49m\u001b[43m,\u001b[49m\u001b[43m \u001b[49m\u001b[38;5;124;43m'\u001b[39;49m\u001b[38;5;124;43m../macro_CURSO.py\u001b[39;49m\u001b[38;5;124;43m'\u001b[39;49m\u001b[43m)\u001b[49m\n\u001b[1;32m      3\u001b[0m \u001b[38;5;66;03m# cambiar el número N\u001b[39;00m\n\u001b[1;32m      4\u001b[0m N\u001b[38;5;241m=\u001b[39m\u001b[38;5;241m9\u001b[39m\n",
      "File \u001b[0;32m~/opt/anaconda3/envs/jupyterbook/lib/python3.9/site-packages/IPython/core/interactiveshell.py:2432\u001b[0m, in \u001b[0;36mInteractiveShell.run_line_magic\u001b[0;34m(self, magic_name, line, _stack_depth)\u001b[0m\n\u001b[1;32m   2430\u001b[0m     kwargs[\u001b[38;5;124m'\u001b[39m\u001b[38;5;124mlocal_ns\u001b[39m\u001b[38;5;124m'\u001b[39m] \u001b[38;5;241m=\u001b[39m \u001b[38;5;28mself\u001b[39m\u001b[38;5;241m.\u001b[39mget_local_scope(stack_depth)\n\u001b[1;32m   2431\u001b[0m \u001b[38;5;28;01mwith\u001b[39;00m \u001b[38;5;28mself\u001b[39m\u001b[38;5;241m.\u001b[39mbuiltin_trap:\n\u001b[0;32m-> 2432\u001b[0m     result \u001b[38;5;241m=\u001b[39m \u001b[43mfn\u001b[49m\u001b[43m(\u001b[49m\u001b[38;5;241;43m*\u001b[39;49m\u001b[43margs\u001b[49m\u001b[43m,\u001b[49m\u001b[43m \u001b[49m\u001b[38;5;241;43m*\u001b[39;49m\u001b[38;5;241;43m*\u001b[39;49m\u001b[43mkwargs\u001b[49m\u001b[43m)\u001b[49m\n\u001b[1;32m   2434\u001b[0m \u001b[38;5;66;03m# The code below prevents the output from being displayed\u001b[39;00m\n\u001b[1;32m   2435\u001b[0m \u001b[38;5;66;03m# when using magics with decorator @output_can_be_silenced\u001b[39;00m\n\u001b[1;32m   2436\u001b[0m \u001b[38;5;66;03m# when the last Python token in the expression is a ';'.\u001b[39;00m\n\u001b[1;32m   2437\u001b[0m \u001b[38;5;28;01mif\u001b[39;00m \u001b[38;5;28mgetattr\u001b[39m(fn, magic\u001b[38;5;241m.\u001b[39mMAGIC_OUTPUT_CAN_BE_SILENCED, \u001b[38;5;28;01mFalse\u001b[39;00m):\n",
      "File \u001b[0;32m~/opt/anaconda3/envs/jupyterbook/lib/python3.9/site-packages/IPython/core/magics/execution.py:727\u001b[0m, in \u001b[0;36mExecutionMagics.run\u001b[0;34m(self, parameter_s, runner, file_finder)\u001b[0m\n\u001b[1;32m    725\u001b[0m     \u001b[38;5;28;01mif\u001b[39;00m os\u001b[38;5;241m.\u001b[39mname \u001b[38;5;241m==\u001b[39m \u001b[38;5;124m'\u001b[39m\u001b[38;5;124mnt\u001b[39m\u001b[38;5;124m'\u001b[39m \u001b[38;5;129;01mand\u001b[39;00m re\u001b[38;5;241m.\u001b[39mmatch(\u001b[38;5;124mr\u001b[39m\u001b[38;5;124m\"\u001b[39m\u001b[38;5;124m^\u001b[39m\u001b[38;5;124m'\u001b[39m\u001b[38;5;124m.*\u001b[39m\u001b[38;5;124m'\u001b[39m\u001b[38;5;124m$\u001b[39m\u001b[38;5;124m\"\u001b[39m,fpath):\n\u001b[1;32m    726\u001b[0m         warn(\u001b[38;5;124m'\u001b[39m\u001b[38;5;124mFor Windows, use double quotes to wrap a filename: \u001b[39m\u001b[38;5;132;01m%r\u001b[39;00m\u001b[38;5;124mun \u001b[39m\u001b[38;5;124m\"\u001b[39m\u001b[38;5;124mmypath\u001b[39m\u001b[38;5;130;01m\\\\\u001b[39;00m\u001b[38;5;124mmyfile.py\u001b[39m\u001b[38;5;124m\"\u001b[39m\u001b[38;5;124m'\u001b[39m)\n\u001b[0;32m--> 727\u001b[0m     \u001b[38;5;28;01mraise\u001b[39;00m \u001b[38;5;167;01mException\u001b[39;00m(msg) \u001b[38;5;28;01mfrom\u001b[39;00m \u001b[38;5;21;01me\u001b[39;00m\n\u001b[1;32m    728\u001b[0m \u001b[38;5;28;01mexcept\u001b[39;00m \u001b[38;5;167;01mTypeError\u001b[39;00m:\n\u001b[1;32m    729\u001b[0m     \u001b[38;5;28;01mif\u001b[39;00m fpath \u001b[38;5;129;01min\u001b[39;00m sys\u001b[38;5;241m.\u001b[39mmeta_path:\n",
      "\u001b[0;31mException\u001b[0m: File `'../macro_CURSO.py'` not found."
     ]
    }
   ],
   "source": [
    "%run ../macro_CURSO.py\n",
    "\n",
    "# cambiar el número N\n",
    "N=9\n",
    "rho=1\n",
    "\n",
    "''' Creamos las fases'''\n",
    "lista_de_fases=np.exp(2*np.pi*1j*np.array(range(N))/N)\n",
    "#print('lista de fases =', np.round(lista_de_fases,2))\n",
    "\n",
    "\n",
    "''' Dibujamos los números complejos '''\n",
    "tQ.plot_2D_plane(fsize=(6,6))\n",
    "for vec in rho*lista_de_fases:\n",
    "    draw_vector(x=vec.real,y=vec.imag)\n",
    "\n",
    "#draw_unit_circle()\n",
    "plt.gca().add_patch(plt.Circle((0.,0.),1.,color='black',fill=False)) \n",
    "\n",
    "\n",
    "''' Calculamos la suma. '''\n",
    "#print(lista_de_fases)\n",
    "print(np.round(sum(rho*lista_de_fases),10))\n"
   ]
  },
  {
   "cell_type": "code",
   "execution_count": 13,
   "id": "5612ab3d",
   "metadata": {},
   "outputs": [
    {
     "ename": "NameError",
     "evalue": "name 'np' is not defined",
     "output_type": "error",
     "traceback": [
      "\u001b[0;31m---------------------------------------------------------------------------\u001b[0m",
      "\u001b[0;31mNameError\u001b[0m                                 Traceback (most recent call last)",
      "Cell \u001b[0;32mIn[13], line 7\u001b[0m\n\u001b[1;32m      4\u001b[0m z1 \u001b[38;5;241m=\u001b[39m \u001b[38;5;241m1\u001b[39m\u001b[38;5;241m+\u001b[39m\u001b[38;5;241m2\u001b[39mj\n\u001b[1;32m      6\u001b[0m ang \u001b[38;5;241m=\u001b[39m \u001b[38;5;241m0.\u001b[39m \u001b[38;5;66;03m#el ángulo entre z1 y z2\u001b[39;00m\n\u001b[0;32m----> 7\u001b[0m z2 \u001b[38;5;241m=\u001b[39m z1\u001b[38;5;241m*\u001b[39m(\u001b[38;5;241m1.2\u001b[39m\u001b[38;5;241m*\u001b[39m\u001b[43mnp\u001b[49m\u001b[38;5;241m.\u001b[39mexp(\u001b[38;5;241m1\u001b[39mj\u001b[38;5;241m*\u001b[39mang))\n\u001b[1;32m      9\u001b[0m \u001b[38;5;124;03m'''Suma '''\u001b[39;00m\n\u001b[1;32m     10\u001b[0m zs \u001b[38;5;241m=\u001b[39m z1\u001b[38;5;241m+\u001b[39mz2\n",
      "\u001b[0;31mNameError\u001b[0m: name 'np' is not defined"
     ]
    }
   ],
   "source": [
    "'''Comprueba que sólo cuando z1 y z2 son paralelos, se satura la desigualdad triangular'''\n",
    "\n",
    "'''Suma en cartesianas'''\n",
    "z1 = 1+2j\n",
    "\n",
    "ang = 0. #el ángulo entre z1 y z2\n",
    "z2 = z1*(1.2*np.exp(1j*ang))\n",
    "\n",
    "'''Suma '''\n",
    "zs = z1+z2\n",
    "\n",
    "print('|z1|+|z2|=',abs(z1)+abs(z2))\n",
    "print('|z1+z2|=',abs(z1+z2))\n",
    "\n",
    "\n",
    "tQ.plot_2D_plane(left=-2,right=4,up=7,down=-1) #cambiar las dimensiones para que encuadrar la figura\n",
    "tQ.draw_vector(z1.real,z1.imag,'b')\n",
    "tQ.draw_vector(z2.real,z2.imag,'b')\n",
    "tQ.draw_vector(zs.real,zs.imag,vcolor='r')"
   ]
  },
  {
   "cell_type": "code",
   "execution_count": null,
   "id": "c217d92d",
   "metadata": {},
   "outputs": [],
   "source": []
  }
 ],
 "metadata": {
  "celltoolbar": "Slideshow",
  "hide_input": false,
  "kernelspec": {
   "display_name": "Python 3 (ipykernel)",
   "language": "python",
   "name": "python3"
  },
  "language_info": {
   "codemirror_mode": {
    "name": "ipython",
    "version": 3
   },
   "file_extension": ".py",
   "mimetype": "text/x-python",
   "name": "python",
   "nbconvert_exporter": "python",
   "pygments_lexer": "ipython3",
   "version": "3.9.18"
  },
  "varInspector": {
   "cols": {
    "lenName": 16,
    "lenType": 16,
    "lenVar": 40
   },
   "kernels_config": {
    "python": {
     "delete_cmd_postfix": "",
     "delete_cmd_prefix": "del ",
     "library": "var_list.py",
     "varRefreshCmd": "print(var_dic_list())"
    },
    "r": {
     "delete_cmd_postfix": ") ",
     "delete_cmd_prefix": "rm(",
     "library": "var_list.r",
     "varRefreshCmd": "cat(var_dic_list()) "
    }
   },
   "types_to_exclude": [
    "module",
    "function",
    "builtin_function_or_method",
    "instance",
    "_Feature"
   ],
   "window_display": false
  }
 },
 "nbformat": 4,
 "nbformat_minor": 5
}