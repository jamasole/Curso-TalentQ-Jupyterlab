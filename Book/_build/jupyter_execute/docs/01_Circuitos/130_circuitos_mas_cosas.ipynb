{
 "cells": [
  {
   "cell_type": "markdown",
   "id": "2e8c2903",
   "metadata": {},
   "source": [
    "> {sub-ref}`today` | {sub-ref}`wordcount-words` words | {sub-ref}`wordcount-minutes` min read\n",
    "\n",
    "(sec_Circuitos)=\n",
    "\n",
    "# Circuitos cuánticos\n",
    "\n",
    "Aquí vamos a explicar los fundamentos de la computación cuántica, viendo desde que son los qúbits, como operar con ellos y como medirlos. Es decir, varemos como construir **circuitos cuánticos**. Además, también se verán algunas interconexiones con la física para asentar algunos conceptos, como es el caso del experimento de Stern-Gerlach. \n",
    "\n",
    "```{tableofcontents}\n",
    "```"
   ]
  }
 ],
 "metadata": {
  "jupytext": {
   "text_representation": {
    "extension": ".md",
    "format_name": "myst",
    "format_version": 0.13,
    "jupytext_version": "1.15.2"
   }
  },
  "kernelspec": {
   "display_name": "Python 3 (ipykernel)",
   "language": "python",
   "name": "python3"
  },
  "source_map": [
   12
  ]
 },
 "nbformat": 4,
 "nbformat_minor": 5
}