{
 "cells": [
  {
   "cell_type": "markdown",
   "id": "65fe56bd",
   "metadata": {
    "slideshow": {
     "slide_type": "slide"
    }
   },
   "source": [
    "# 1.1 Números Complejos \n",
    "\n",
    "\n",
    "\n",
    "$ \\newcommand{\\bra}[1]{\\langle #1|} $\n",
    "$ \\newcommand{\\ket}[1]{|#1\\rangle} $\n",
    "$ \\newcommand{\\braket}[2]{\\langle #1|#2\\rangle} $\n",
    "$ \\newcommand{\\i}{{ i}} $ \n",
    "$ \\newcommand{\\Hil}{{\\mathbb H}} $\n",
    "\n",
    " "
   ]
  },
  {
   "cell_type": "markdown",
   "id": "819c4c09",
   "metadata": {
    "slideshow": {
     "slide_type": "skip"
    }
   },
   "source": [
    "- [Formas cartesiana y polar](#defi) \n",
    "\n",
    "\n",
    " -  [Operaciones básicas](#opbasi)\n",
    "\n",
    "\n",
    " - [Casos particulares](#ejempnc)\n",
    "\n",
    "     - [*Sumas nulas*](#sumnul)\n",
    "     \n",
    "     - [*Desigualdad triangular*](#destriang)"
   ]
  },
  {
   "cell_type": "code",
   "execution_count": 4,
   "id": "3b512046",
   "metadata": {
    "slideshow": {
     "slide_type": "slide"
    }
   },
   "outputs": [],
   "source": [
    "%run ../macro_tQ.py\n",
    "import sys\n",
    "\n",
    "sys.path.append('../')\n",
    "\n",
    "import macro_tQ as tQ\n",
    "\n",
    "import numpy as np\n",
    "import scipy.linalg as la\n",
    "from IPython.display import display,Markdown,Latex\n",
    "import matplotlib.pyplot as plt\n",
    "from qiskit.tools.visualization import array_to_latex\n",
    "import copy \n",
    "\n"
   ]
  },
  {
   "cell_type": "markdown",
   "id": "dd67cc08",
   "metadata": {
    "slideshow": {
     "slide_type": "slide"
    }
   },
   "source": [
    "## 1.1.1  Introducción\n"
   ]
  },
  {
   "cell_type": "markdown",
   "id": "53d7bc8c",
   "metadata": {
    "slideshow": {
     "slide_type": "slide"
    }
   },
   "source": [
    "La mecánica cuántica guarda una relación muy estrecha con los número complejos "
   ]
  },
  {
   "cell_type": "markdown",
   "id": "dc788706",
   "metadata": {
    "slideshow": {
     "slide_type": "fragment"
    }
   },
   "source": [
    "Recuerda que el *cuadrado* de un número real, $a\\in {\\mathbb R}$ <u>siempre  es positivo</u>"
   ]
  },
  {
   "cell_type": "markdown",
   "id": "95beb303",
   "metadata": {
    "slideshow": {
     "slide_type": "fragment"
    }
   },
   "source": [
    "\n",
    "\n",
    "$$a^2 >0$$  \n",
    "\n"
   ]
  },
  {
   "cell_type": "markdown",
   "id": "0fc1dff7",
   "metadata": {
    "slideshow": {
     "slide_type": "fragment"
    }
   },
   "source": [
    "por ejemplo $~~2^2 =  4~~$ pero también $~~(-2)^2 = 4~~$.\n"
   ]
  },
  {
   "cell_type": "markdown",
   "id": "f8b6a453",
   "metadata": {
    "slideshow": {
     "slide_type": "fragment"
    }
   },
   "source": [
    "Por eso, la raíz cuadrada de un número real <u>*sólo* existe si dicho número es positivo</u>.  \n",
    "\n"
   ]
  },
  {
   "cell_type": "markdown",
   "id": "89d5d949",
   "metadata": {
    "slideshow": {
     "slide_type": "fragment"
    }
   },
   "source": [
    "Por ejemplo $\\sqrt{4}=\\pm 2$, mientras que $$\\sqrt{-4}= \\, ?$$\n"
   ]
  },
  {
   "cell_type": "markdown",
   "id": "6f96edb5",
   "metadata": {
    "slideshow": {
     "slide_type": "fragment"
    }
   },
   "source": [
    "**Pregunta**: $~~$ ¿cómo podríamos definir la <u>raíz cuadrada de un número real negativo</u>? \n"
   ]
  },
  {
   "cell_type": "markdown",
   "id": "45c9f797",
   "metadata": {
    "slideshow": {
     "slide_type": "slide"
    }
   },
   "source": [
    "\n",
    "**Respuesta**: para hacerlo, es necesario <u>ampliar el conjunto de los números reales</u>. \n"
   ]
  },
  {
   "cell_type": "markdown",
   "id": "5849b8aa",
   "metadata": {},
   "source": [
    "```{prf:definition} Número $i$\n",
    "se postula la existencia de un <i>nuevo número</i>, $~i$, que es la solución única de la ecuación $~$\n",
    "\n",
    "$$ i^2 = -1$$\n",
    "```"
   ]
  },
  {
   "cell_type": "markdown",
   "id": "9973866e",
   "metadata": {
    "slideshow": {
     "slide_type": "fragment"
    }
   },
   "source": [
    "Equivalentemente podíamos haber requerido que  $\\i = \\sqrt{-1}$. \n"
   ]
  },
  {
   "cell_type": "markdown",
   "id": "d6af194c",
   "metadata": {
    "slideshow": {
     "slide_type": "fragment"
    }
   },
   "source": [
    "Con esto podemos ahora encontrar la raíz de cualquier número negativo. Por ejemplo, $-4$\n",
    "\n",
    "$$\n",
    "(2i)(2i) = 4 i^2 = - 4\n",
    "$$\n",
    "\n",
    "y $2i$ será la raíz buscada."
   ]
  },
  {
   "cell_type": "markdown",
   "id": "3c69fc24",
   "metadata": {
    "slideshow": {
     "slide_type": "slide"
    }
   },
   "source": [
    "Con el número $i$ se opera igual que con los números reales\n",
    "\n"
   ]
  },
  {
   "cell_type": "markdown",
   "id": "5b406e36",
   "metadata": {
    "slideshow": {
     "slide_type": "fragment"
    }
   },
   "source": [
    "$$ i + i = 2i $$"
   ]
  },
  {
   "cell_type": "markdown",
   "id": "594d7ae0",
   "metadata": {
    "slideshow": {
     "slide_type": "fragment"
    }
   },
   "source": [
    "$$ i - i = 0 $$"
   ]
  },
  {
   "cell_type": "markdown",
   "id": "37141e17",
   "metadata": {
    "slideshow": {
     "slide_type": "fragment"
    }
   },
   "source": [
    "$$ i + 2i = 3 i$$"
   ]
  },
  {
   "cell_type": "markdown",
   "id": "c61c5cef",
   "metadata": {
    "slideshow": {
     "slide_type": "fragment"
    }
   },
   "source": [
    "$$i^3  = i*i*i = i^2 * i = -i$$"
   ]
  },
  {
   "cell_type": "markdown",
   "id": "e85b1c6e",
   "metadata": {
    "slideshow": {
     "slide_type": "fragment"
    }
   },
   "source": [
    "$$\\frac{i}{i} = 1$$"
   ]
  },
  {
   "cell_type": "markdown",
   "id": "c3e72455",
   "metadata": {
    "slideshow": {
     "slide_type": "slide"
    }
   },
   "source": [
    "Observar que el *inverso multiplicativo*  $1/i$ también es $-i$\n",
    "\n",
    "\\begin{eqnarray}\n",
    "\\frac{i}{i}  &=&   1 \\nonumber\\\\\n",
    "i (-i) &=& - i^2  =  1\n",
    "\\end{eqnarray}"
   ]
  },
  {
   "cell_type": "markdown",
   "id": "e18e53ed",
   "metadata": {
    "slideshow": {
     "slide_type": "fragment"
    }
   },
   "source": [
    "por tanto hay una identificación importante\n",
    "\n",
    "$$ i^{-1} = \\frac{1}{i} = -i $$"
   ]
  },
  {
   "cell_type": "markdown",
   "id": "cef2441e",
   "metadata": {
    "slideshow": {
     "slide_type": "fragment"
    }
   },
   "source": [
    "<div class=\"alert alert-block alert-danger\",text-align:center>\n",
    "\n",
    "<b>En resumen</b>: la solución al problema planteado consiste en <i>extender</i> el cuerpo de los números reales ${\\mathbb R}$ al de los complejos ${\\mathbb C}$ que, ahora, incluyen el número $i$\n",
    " \n",
    "</div>"
   ]
  },
  {
   "cell_type": "markdown",
   "id": "3a9fcc7b",
   "metadata": {},
   "source": [
    "```{admonition} En resumen\n",
    ":class: warning\n",
    "\n",
    "la solución al problema planteado consiste en <i>extender</i> el cuerpo de los números reales ${\\mathbb R}$ al de los complejos ${\\mathbb C}$ que, ahora, incluyen el número $i$\n",
    "\n",
    "```"
   ]
  },
  {
   "cell_type": "markdown",
   "id": "a2024d42",
   "metadata": {
    "slideshow": {
     "slide_type": "slide"
    }
   },
   "source": [
    "## 1.1.2 Formas cartesiana y polar"
   ]
  },
  {
   "cell_type": "markdown",
   "id": "ab44c422",
   "metadata": {
    "slideshow": {
     "slide_type": "slide"
    }
   },
   "source": [
    "### Forma Cartesiana\n",
    "\n",
    "\n",
    "\n",
    "\n",
    "\n",
    " Un *número complejo*, $z \\in {\\mathbb C}$, se representa en *forma cartesiana*  mediante <u>dos \n",
    " números reales $x,y\\in {\\mathbb R}$</u> \n",
    "<br>\n",
    "\n",
    "$$\n",
    "z = x + \\i y   ~~~~ \\hbox{donde}~~~ \n",
    "\\left\\{\\begin{array}{cl} x &\\hbox{es la }   parte~ real\\\\\n",
    "y & \\hbox{es la } parte~imaginaria\n",
    "\\end{array}\n",
    "\\right.\n",
    "$$\n"
   ]
  },
  {
   "cell_type": "markdown",
   "id": "3e530624",
   "metadata": {
    "slideshow": {
     "slide_type": "fragment"
    }
   },
   "source": [
    "Un número complejo se representa  en el **plano complejo**: la parte real  en el *eje horizontal*, y la parte imaginaria  en el *eje vertical*\n"
   ]
  },
  {
   "cell_type": "markdown",
   "id": "c720e14a",
   "metadata": {
    "slideshow": {
     "slide_type": "slide"
    }
   },
   "source": [
    "#### Numeros complejos en python:\n",
    " \n",
    "en *python*, el número  imaginario $\\i$ se representa con la letra j.  \n",
    "\n",
    "Añadiendo +0j convertimos un <i>float</i> en un <i>complex</i>\n"
   ]
  },
  {
   "cell_type": "code",
   "execution_count": 15,
   "id": "663a3177",
   "metadata": {
    "slideshow": {
     "slide_type": "fragment"
    }
   },
   "outputs": [
    {
     "name": "stdout",
     "output_type": "stream",
     "text": [
      "True\n"
     ]
    }
   ],
   "source": [
    "print(isinstance(1+0j,complex))\n"
   ]
  },
  {
   "cell_type": "code",
   "execution_count": 6,
   "id": "5b9003a1",
   "metadata": {
    "slideshow": {
     "slide_type": "fragment"
    }
   },
   "outputs": [
    {
     "name": "stdout",
     "output_type": "stream",
     "text": [
      "False\n"
     ]
    }
   ],
   "source": []
  },
  {
   "cell_type": "code",
   "execution_count": 1,
   "id": "8371787b",
   "metadata": {
    "slideshow": {
     "slide_type": "slide"
    }
   },
   "outputs": [
    {
     "name": "stdout",
     "output_type": "stream",
     "text": [
      "z=x+iy= (-3+1j)\n"
     ]
    },
    {
     "ename": "NameError",
     "evalue": "name 'tQ' is not defined",
     "output_type": "error",
     "traceback": [
      "\u001b[0;31m---------------------------------------------------------------------------\u001b[0m",
      "\u001b[0;31mNameError\u001b[0m                                 Traceback (most recent call last)",
      "Input \u001b[0;32mIn [1]\u001b[0m, in \u001b[0;36m<cell line: 12>\u001b[0;34m()\u001b[0m\n\u001b[1;32m     10\u001b[0m \u001b[38;5;124;03m'''esta función está en archivo: macro_CURSO.py  '''\u001b[39;00m\n\u001b[1;32m     11\u001b[0m \u001b[38;5;124;03m''' Representación en el plano complejo '''\u001b[39;00m\n\u001b[0;32m---> 12\u001b[0m \u001b[43mtQ\u001b[49m\u001b[38;5;241m.\u001b[39mplot_2D_plane(left\u001b[38;5;241m=\u001b[39m\u001b[38;5;241m-\u001b[39m\u001b[38;5;28mint\u001b[39m(\u001b[38;5;28mabs\u001b[39m(x))\u001b[38;5;241m-\u001b[39m\u001b[38;5;241m1\u001b[39m,right\u001b[38;5;241m=\u001b[39m\u001b[38;5;28mint\u001b[39m(\u001b[38;5;28mabs\u001b[39m(x))\u001b[38;5;241m+\u001b[39m\u001b[38;5;241m1\u001b[39m,up\u001b[38;5;241m=\u001b[39m\u001b[38;5;28mint\u001b[39m(\u001b[38;5;28mabs\u001b[39m(y))\u001b[38;5;241m+\u001b[39m\u001b[38;5;241m1\u001b[39m,down\u001b[38;5;241m=\u001b[39m\u001b[38;5;241m-\u001b[39m\u001b[38;5;28mint\u001b[39m(\u001b[38;5;28mabs\u001b[39m(y))\u001b[38;5;241m-\u001b[39m\u001b[38;5;241m1\u001b[39m)\n\u001b[1;32m     13\u001b[0m tQ\u001b[38;5;241m.\u001b[39mdraw_vector(x,y,\u001b[38;5;124m'\u001b[39m\u001b[38;5;124mb\u001b[39m\u001b[38;5;124m'\u001b[39m)\n",
      "\u001b[0;31mNameError\u001b[0m: name 'tQ' is not defined"
     ]
    }
   ],
   "source": [
    "'''Forma cartesiana''' \n",
    "z = -3 + 1j\n",
    "\n",
    "'''Extraemos las partes real e imaginaria'''\n",
    "x=z.real\n",
    "y=z.imag\n",
    "print('z=x+iy=',x + 1j*y)\n",
    "\n",
    "''' Representación en el plano complejo '''\n",
    "'''esta función está en archivo: macro_CURSO.py  '''\n",
    "''' Representación en el plano complejo '''\n",
    "tQ.plot_2D_plane(left=-int(abs(x))-1,right=int(abs(x))+1,up=int(abs(y))+1,down=-int(abs(y))-1)\n",
    "tQ.draw_vector(x,y,'b')\n"
   ]
  },
  {
   "cell_type": "markdown",
   "id": "e7edf077",
   "metadata": {
    "slideshow": {
     "slide_type": "slide"
    }
   },
   "source": [
    "### Forma Polar"
   ]
  },
  {
   "cell_type": "markdown",
   "id": "8a2e431c",
   "metadata": {
    "slideshow": {
     "slide_type": "slide"
    }
   },
   "source": [
    "\n",
    "\n",
    "\n",
    "<div class=\"alert alert-block alert-info\",text-align:center>\n",
    "<p style=\"text-align: center;\"> <p style=\"text-align: left ;color: navy;\">  \n",
    "<b> Teorema:</b> (Fórmula de Euler).\n",
    " Dado un ángulo $\\theta \\in (0,2\\pi)$ las dos expresiones siguientes son equivalentes\n",
    "<br>\n",
    "<br>\n",
    "$$\n",
    "\\cos\\theta + i \\sin \\theta = e^{i\\theta} \n",
    "$$\n",
    "\n",
    "<details>\n",
    "<summary><p style=\"text-align:right ; color:grey\"> >>Demostración\n",
    "</p></summary>\n",
    "<br>\n",
    "La demostración de la Fórmula de Euler viene de expandir ambos miembros en serie de Taylor en torno a $\\theta = 0$ y comprobar que ambas series son iguales\n",
    "<br> \n",
    "\\begin{array}{rcl}\n",
    "e^{i\\theta} &=& 1 + \\i\\theta + \\frac{1}{2}(\\i\\theta)^2 + \\frac{1}{3!}(\\i\\theta)^3+\\, ... \\\\\n",
    "    &=& 1 -\\frac{1}{2}\\theta^2 ~+~ ... ~+~ \\i \\left(\\theta - \\frac{1}{3!} \\theta^3+ \\, ...\\right) \\\\\n",
    "    &=& \\cos \\theta  + i \\sin \\theta \n",
    "\\end{array} \n",
    "</details>\n",
    "</div>"
   ]
  },
  {
   "cell_type": "markdown",
   "id": "8ce4b410",
   "metadata": {
    "slideshow": {
     "slide_type": "slide"
    }
   },
   "source": [
    "El número $z=x + \\i y$ se puede representar en *forma polar*\n",
    "<br> \n",
    "\n",
    "$$\n",
    "z = \\rho e^{i\\theta} = \\rho (\\cos\\theta + \\i \\sin\\theta)  \n",
    "$$"
   ]
  },
  {
   "cell_type": "markdown",
   "id": "9e04258d",
   "metadata": {
    "slideshow": {
     "slide_type": "fragment"
    }
   },
   "source": [
    "de donde obtenemos las componentes cartesianas \n",
    "\n",
    "$$x=\\rho\\cos\\theta ~~,~~y=\\rho\\sin\\theta$$\n",
    "\n",
    "y por tanto $\\rho^2 = x^2 + y^2$"
   ]
  },
  {
   "cell_type": "markdown",
   "id": "47fdc2ba",
   "metadata": {
    "slideshow": {
     "slide_type": "slide"
    }
   },
   "source": [
    "Los números reales $\\rho$ y $\\theta$ se denominan *módulo* y *fase*.\n",
    "<br>\n",
    "\n"
   ]
  },
  {
   "cell_type": "markdown",
   "id": "3ab5efa7",
   "metadata": {
    "slideshow": {
     "slide_type": "fragment"
    }
   },
   "source": [
    "Las fases $\\theta$ y $\\theta+ 2\\pi$ representan el *mismo* número complejo\n",
    "<br>\n",
    "\n",
    "$$\n",
    "z = \\rho e^{i\\theta} = \\rho e^{i(\\theta + 2\\pi)} \n",
    "$$\n"
   ]
  },
  {
   "cell_type": "markdown",
   "id": "52cec534",
   "metadata": {
    "slideshow": {
     "slide_type": "fragment"
    }
   },
   "source": [
    "Ello se debe a que las funciones $\\cos \\theta$ y $\\sin\\theta$ son periódicas\n",
    "\n",
    "$$\n",
    "\\sin\\theta  = \\sin(\\theta + 2\\pi)~~~~~~~\\cos\\theta  = \\cos(\\theta +2\\pi)\n",
    "$$"
   ]
  },
  {
   "cell_type": "markdown",
   "id": "4a5d6738",
   "metadata": {
    "slideshow": {
     "slide_type": "slide"
    }
   },
   "source": [
    "Usar la forma polar es útil en situaciones en las que aparecen productos y potencias del número $i$\n",
    "\n",
    "\\begin{eqnarray}\n",
    "i &=& e^{i\\pi/2} \\\\\n",
    "-1 &=& e^{i\\pi} \\\\ \\rule{0mm}{8mm}\n",
    "i &=& e^{3i\\pi/2} =e^{-i\\pi/2} \\\\  \\rule{0mm}{8mm}\n",
    "i^i &=& (e^{i\\pi/2})^i = e^{i^2 \\pi/2} = e^{-\\pi/2}  \\\\  \\rule{0mm}{8mm}\n",
    "i^{2+i} &=& (e^{i\\pi/2})^{(2+i)}= e^{i\\pi/2(2+i)} = e^{i\\pi} e^{-\\pi/2} = -e^{-\\pi/2}  \\rule{0mm}{8mm}\n",
    "\\end{eqnarray}"
   ]
  },
  {
   "cell_type": "markdown",
   "id": "c112e1d8",
   "metadata": {
    "slideshow": {
     "slide_type": "slide"
    }
   },
   "source": [
    "<div class=\"alert alert-block alert-success\">\n",
    "    <b>Ejercicio:</b>\n",
    "    \n",
    "haz una lista de 10 números (fases) $\\theta_i, ~i=0,...,9$, equi-espaciadas entre 0 y 2$\\pi$ y pinta los números complejos $z_i = r \\exp(i \\theta_i)$ y sus complejos conjugados, $z^*_i$.\n",
    "</div>\n",
    "\n"
   ]
  },
  {
   "cell_type": "markdown",
   "id": "7d9ea72b",
   "metadata": {
    "slideshow": {
     "slide_type": "slide"
    }
   },
   "source": [
    "### Conjugacion compleja\n",
    " \n",
    "Todo número complejo, $z$, lleva *asociado* otro, $z^*$, denominado el *complejo conjugado* que se obtiene cambiando $\\i \\to -\\i$\n",
    "<br>\n",
    "\n",
    "$$\n",
    "z = x+\\i y ~~~~\\leftrightarrow~~~~ z^* = x - \\i y \\hspace{2cm}\n",
    "$$\n",
    "<br>\n",
    "\n",
    "Es evidente que $(z^*)^* = z$, es una *involución*."
   ]
  },
  {
   "cell_type": "code",
   "execution_count": 12,
   "id": "bf3f2f3d",
   "metadata": {
    "slideshow": {
     "slide_type": "slide"
    }
   },
   "outputs": [
    {
     "name": "stdout",
     "output_type": "stream",
     "text": [
      "z*=(x+iy)*= (-3-1j)\n"
     ]
    },
    {
     "data": {
      "image/png": "[encoded data removed]",
      "text/plain": [
       "<Figure size 800x800 with 1 Axes>"
      ]
     },
     "metadata": {},
     "output_type": "display_data"
    }
   ],
   "source": [
    "'''Conjugacion compleja'''\n",
    "zc = z.conjugate()\n",
    "print('z*=(x+iy)*=',z.real +1j*zc.imag)\n",
    "\n",
    "''' Representación en el plano complejo '''\n",
    "tQ.plot_2D_plane(left=-int(abs(x))-1,right=int(abs(x))+1,up=int(abs(y))+1,down=-int(abs(y))-1)\n",
    "tQ.draw_vector(z.real,z.imag,'b')\n",
    "tQ.draw_vector(zc.real,zc.imag,vcolor='r')\n",
    "\n"
   ]
  },
  {
   "cell_type": "code",
   "execution_count": 6,
   "id": "d3cf646f",
   "metadata": {
    "slideshow": {
     "slide_type": "slide"
    }
   },
   "outputs": [
    {
     "name": "stdout",
     "output_type": "stream",
     "text": [
      "(-1.8729133745815927-0.7015664553792397j)\n",
      "z=r exp(i th)= (-1.873-0.702j)\n"
     ]
    },
    {
     "data": {
      "image/png": "[encoded data removed]",
      "text/plain": [
       "<Figure size 800x800 with 1 Axes>"
      ]
     },
     "metadata": {},
     "output_type": "display_data"
    }
   ],
   "source": [
    "'''Forma polar'''\n",
    "r=2\n",
    "th=3.5\n",
    "z = r*np.exp(th*1j)\n",
    "print(z)\n",
    "x=z.real\n",
    "y=z.imag\n",
    "print('z=r exp(i th)=',np.round(x,3) + np.round(y,3)*1j)\n",
    "\n",
    "\n",
    "''' Dibujamos en el plano complejo '''\n",
    "tQ.plot_2D_plane(left=-int(abs(x))-1,right=int(abs(x))+1,up=int(abs(y))+1,down=-int(abs(y))-1)\n",
    "tQ.draw_vector(z.real,z.imag)\n",
    "tQ.draw_vector(z.conjugate().real,z.conjugate().imag,vcolor='r')"
   ]
  },
  {
   "cell_type": "markdown",
   "id": "0724fa91",
   "metadata": {
    "slideshow": {
     "slide_type": "fragment"
    }
   },
   "source": [
    " En forma polar la *conjugación compleja* se obtiene *cambiando el signo* de la fase\n",
    "<br>\n",
    "\n",
    "$$\n",
    "z = \\rho e^{i\\theta} ~\\rightarrow ~z^* = \\rho e^{-i\\theta} = \\rho \\cos\\theta - \\i \\rho \\sin\\theta \\hspace{4cm}\n",
    "$$"
   ]
  },
  {
   "cell_type": "markdown",
   "id": "15b43f18",
   "metadata": {
    "slideshow": {
     "slide_type": "slide"
    }
   },
   "source": [
    "### Conversión entre formas cartesiana y polar\n"
   ]
  },
  {
   "cell_type": "markdown",
   "id": "95eea850",
   "metadata": {
    "slideshow": {
     "slide_type": "fragment"
    }
   },
   "source": [
    "La conversión de la representación *polar a cartesiana* es muy sencilla\n",
    "gracias a las fórmula de Euler\n",
    "\n",
    "\n",
    "<br>\n",
    "\n",
    "$$\n",
    "z = r e^{i\\theta} = x + i y ~~~\\hbox{ con }  ~~~\\left\\{\\begin{array}{l} x=r \\cos \\theta \\\\ \\rule{0mm}{4mm} y = r\\sin \\theta\n",
    "\\end{array} \\right.\n",
    "$$\n",
    "\n",
    "<br>"
   ]
  },
  {
   "cell_type": "markdown",
   "id": "3d452b28",
   "metadata": {
    "slideshow": {
     "slide_type": "slide"
    }
   },
   "source": [
    "La conversión inversa, *de cartesiana a polar* es un poco más delicada. Formalmente sería\n",
    "\n",
    "<br>\n",
    "\n",
    "\n",
    "$$\n",
    "z = x + i y  = r e^{i\\theta} ~~~ \\hbox{ con } ~~~ \\left\\{\\begin{array}{l} r=\\sqrt{x^2+y^2} \\\\  \\rule{0mm}{4mm} \\theta = \\arctan(y/x)\n",
    "\\end{array} \\right.\n",
    "$$\n"
   ]
  },
  {
   "cell_type": "markdown",
   "id": "21c32e9d",
   "metadata": {
    "slideshow": {
     "slide_type": "slide"
    }
   },
   "source": [
    "A la hora de la verdad hay que fijar el signo de la función $\\arctan(y/x)$. La siguiente función examina esto mirando a los signos de $x$ y de $y$ para saber en qué cuadrante estamos."
   ]
  },
  {
   "cell_type": "code",
   "execution_count": 7,
   "id": "1b1ce76c",
   "metadata": {
    "slideshow": {
     "slide_type": "slide"
    }
   },
   "outputs": [],
   "source": [
    "'Conversión de Cartesianas a Polares'\n",
    "def cartes2polar(z):\n",
    "\n",
    "    r = np.abs(z)    \n",
    "    y = z.imag\n",
    "    x = z.real\n",
    "    \n",
    "    if r==0:\n",
    "        print('el número 0+i0 no admite representación polar')\n",
    "        th='indefinido'\n",
    "    elif x==0 and y>0: \n",
    "        th=np.pi/2\n",
    "    elif x==0 and y<0:\n",
    "        th=3*np.pi/2\n",
    "    elif x>0 and y>=0:\n",
    "        th=np.arctan(y/x)\n",
    "    elif x<0 and y>=0:\n",
    "        th=np.arctan(-y/x)+np.pi/2\n",
    "    elif x<0 and y<0:\n",
    "        th=np.arctan(y/x)+np.pi\n",
    "    elif x>0 and y<0:\n",
    "         th=np.arctan(-y/x)+3*np.pi/2.       \n",
    "            \n",
    "    return r,th\n",
    "\n",
    "#el signo correcto también se puede conseguir usando la funcion np.arctan2(x,y)"
   ]
  },
  {
   "cell_type": "markdown",
   "id": "f7454a06",
   "metadata": {},
   "source": [
    "<div class=\"alert alert-block alert-success\">\n",
    "    <b>Ejercicio:</b>\n",
    "calcula  la forma polar del número complejo $z = 4 + 3 i$ a mano y verificalo con la función que acabamos de definir"
   ]
  },
  {
   "cell_type": "code",
   "execution_count": 13,
   "id": "6684a694",
   "metadata": {
    "slideshow": {
     "slide_type": "-"
    }
   },
   "outputs": [
    {
     "name": "stdout",
     "output_type": "stream",
     "text": [
      "(2.63+1.44j)\n"
     ]
    }
   ],
   "source": [
    "'A la inversa no es necesario definir ninguna funcion, ya que numpy directamente escribe un numero complejo en forma cartesiana'\n",
    "z = 3*np.exp(1j*0.5)\n",
    "print(np.round(z,2))\n"
   ]
  },
  {
   "cell_type": "markdown",
   "id": "2a5f3ca6",
   "metadata": {
    "slideshow": {
     "slide_type": "slide"
    }
   },
   "source": [
    "## 1.1.3 Operaciones básicas\n",
    "\n",
    "\n",
    "Los numeros complejos ${\\mathbb C}$ forman una estructura matemática denominada *cuerpo*. Esto  quiere decir que admiten dos operaciones *internas*: la **suma** y la **multiplicación**. Vamos a estudiarlas por separado\n",
    "\n"
   ]
  },
  {
   "cell_type": "markdown",
   "id": "27ee6e4a",
   "metadata": {
    "slideshow": {
     "slide_type": "skip"
    }
   },
   "source": [
    "### Suma\n",
    "\n",
    "En representación *cartesiana* se *suman las partes real e imaginaria por separado*\n",
    "\n",
    "<br>\n",
    "\n",
    "$$\n",
    "(a + \\i b) + (c + \\i d) = (a+c) + \\i (b+d)\\hspace{6cm}\n",
    "$$ \n",
    "\n",
    "<br>\n",
    "\n",
    "\n",
    "\n",
    "La resta es obvia, ya que $a,b,c,d$ pueden ser números negativos. \n"
   ]
  },
  {
   "cell_type": "code",
   "execution_count": 8,
   "id": "40c6a654",
   "metadata": {
    "scrolled": true,
    "slideshow": {
     "slide_type": "slide"
    }
   },
   "outputs": [
    {
     "name": "stdout",
     "output_type": "stream",
     "text": [
      "z1+z2= (3+6j)\n",
      "z1-z2= (-1+2j)\n",
      "************************************\n"
     ]
    },
    {
     "data": {
      "image/png": "[encoded data removed]",
      "text/plain": [
       "<Figure size 800x800 with 1 Axes>"
      ]
     },
     "metadata": {},
     "output_type": "display_data"
    }
   ],
   "source": [
    "'''Suma en cartesianas'''\n",
    "\n",
    "z1 = 1+4j\n",
    "z2 = 2+2j\n",
    "\n",
    "'''Suma y resta'''\n",
    "zs = z1+z2\n",
    "zd = z1-z2\n",
    "\n",
    "print('z1+z2=',zs)\n",
    "print('z1-z2=',zd)\n",
    "print('************************************')\n",
    "\n",
    "\n",
    "\n",
    "tQ.plot_2D_plane(left=-2,right=4,up=7,down=-1) #cambiar las dimensiones para que encuadrar la figura\n",
    "tQ.draw_vector(z1.real,z1.imag,'b')\n",
    "tQ.draw_vector(z2.real,z2.imag,'b')\n",
    "tQ.draw_vector(zs.real,zs.imag,vcolor='r')\n",
    "tQ.draw_vector(zd.real,zd.imag,vcolor='g')\n"
   ]
  },
  {
   "cell_type": "markdown",
   "id": "eea2a57d",
   "metadata": {
    "slideshow": {
     "slide_type": "slide"
    }
   },
   "source": [
    "En *forma polar*, la suma de dos números complejos no admite ninguna simplificación, y deben transformarse primeramente a forma cartesiana, para sumarse. \n",
    "\n",
    "$$\n",
    "z + w = \\rho e^{i\\theta} + \\sigma e^{i\\phi} = (\\rho\\cos\\theta + \\sigma\\cos\\phi) + i(\\rho\\sin\\theta +  \\sigma\\sin\\phi) \\hspace{6cm}\n",
    "$$"
   ]
  },
  {
   "cell_type": "code",
   "execution_count": 9,
   "id": "fa6e396f",
   "metadata": {
    "run_control": {
     "marked": true
    },
    "slideshow": {
     "slide_type": "slide"
    }
   },
   "outputs": [
    {
     "name": "stdout",
     "output_type": "stream",
     "text": [
      "z1+z2= (3.3976+0.7941j)\n",
      "z1-z2= (1.8679+2.0825j)\n",
      "************************************\n"
     ]
    },
    {
     "data": {
      "image/png": "[encoded data removed]",
      "text/plain": [
       "<Figure size 800x800 with 1 Axes>"
      ]
     },
     "metadata": {},
     "output_type": "display_data"
    }
   ],
   "source": [
    "'python directamente escribe un numero complejo en forma cartesiana'\n",
    "z1 = 3*np.exp(1j*0.5)\n",
    "z2 = 1*np.exp(-1j*0.7)\n",
    "\n",
    "'''Suma y resta'''\n",
    "zs = z1+z2\n",
    "zd = z1-z2\n",
    "\n",
    "print('z1+z2=',np.round(zs,4))\n",
    "print('z1-z2=',np.round(zd,4))\n",
    "print('************************************')\n",
    "\n",
    "tQ.plot_2D_plane(left=-2,right=4,up=3,down=-1) #cambiar las dimensiones para que encuadrar la figura\n",
    "tQ.draw_vector(z1.real,z1.imag,'b')\n",
    "tQ.draw_vector(z2.real,z2.imag,'b')\n",
    "tQ.draw_vector(zs.real,zs.imag,vcolor='r')\n",
    "tQ.draw_vector(zd.real,zd.imag,vcolor='g')\n"
   ]
  },
  {
   "cell_type": "markdown",
   "id": "1ba4168e",
   "metadata": {
    "slideshow": {
     "slide_type": "slide"
    }
   },
   "source": [
    "###  Multiplicación \n",
    "\n",
    "\n",
    "\n",
    "En *forma cartesiana* la multiplicación es complicada, debiendo multiplicarse todos los factores entre sí, y\n",
    "teniendo en cuenta que $\\i^2= -1$\n",
    "\n",
    "$$\n",
    "(a + \\i b) (c + \\i d) =ac +  a\\i d +\\i bc +\\i^2 bd = (ab - bd) + \\i(ac + bd)\\hspace{6cm}\n",
    "$$ \n",
    "\n",
    "Para hallar el producto de dos números complejos $z=r e^{i\\theta}$ y $w=s e^{i\\phi}$ escritos en forma polar, se multiplican los módulos y se suman las fases\n",
    "\n",
    "$$\n",
    "z w = r e^{i\\theta} s e^{i\\phi} = rs\\,   e^{i(\\theta + \\phi)} \n",
    "$$"
   ]
  },
  {
   "cell_type": "code",
   "execution_count": 18,
   "id": "8b77ade7",
   "metadata": {
    "slideshow": {
     "slide_type": "slide"
    }
   },
   "outputs": [
    {
     "name": "stdout",
     "output_type": "stream",
     "text": [
      "z1*z2 =  (2.9402-0.596j)\n",
      "z1**3 =  (-722+103j)\n",
      "************************************\n"
     ]
    }
   ],
   "source": [
    "z1 = 3*np.exp(1j*0.5)\n",
    "z2 = 1*np.exp(-1j*0.7)\n",
    "'''Producto'''\n",
    "print('z1*z2 = ', np.round(z1*z2,4))\n",
    "print('z1**3 = ', np.round(pow(z1,6)))\n",
    "print('************************************')"
   ]
  },
  {
   "cell_type": "markdown",
   "id": "5f288cb5",
   "metadata": {
    "slideshow": {
     "slide_type": "slide"
    }
   },
   "source": [
    "### Valor absoluto\n",
    "\n",
    "El cuadrado de un número real $a\\in {\\mathbb R}$ es otro número real positivo $a^2 >0$. Ello nos permite definir\n",
    "el valor absoluto $|a| = \\sqrt{a^2}$ que es el mismo para $a$ y para $-a$."
   ]
  },
  {
   "cell_type": "markdown",
   "id": "d833fa41",
   "metadata": {
    "slideshow": {
     "slide_type": "fragment"
    }
   },
   "source": [
    "Esto no sucede con un número complejo $z$. $~$ En efecto,  \n",
    "\n",
    "$$z^2 = x^2 - y^2 +2\\i xy$$ \n",
    "\n",
    "es complejo.$~$ Sin embargo, el producto de un número por su conjugado es un número *real* y *positivo*\n",
    "\n",
    "$$\n",
    "z z^*  = (x + \\i y) (x-\\i y) = x^2 + y^2 >0\n",
    "$$\n"
   ]
  },
  {
   "cell_type": "markdown",
   "id": "21fa5f91",
   "metadata": {
    "slideshow": {
     "slide_type": "fragment"
    }
   },
   "source": [
    "Ello nos permite definir el *valor absoluto* de un número complejo\n",
    "\n",
    "$$\n",
    "|z| = \\sqrt{z z^*} = \\sqrt{x^2 + y^2}\n",
    "$$"
   ]
  },
  {
   "cell_type": "markdown",
   "id": "4dda6476",
   "metadata": {
    "slideshow": {
     "slide_type": "slide"
    }
   },
   "source": [
    "\n",
    "\n",
    "El *valor absoluto* de una fase es 1\n",
    "\n",
    "$$\n",
    "|e^{i\\theta}| = \\sqrt{ e^{i\\theta}   e^{-i\\theta}}=\\sqrt{ e^{i(\\theta-\\theta)}}=\\sqrt{e^0} = 1\n",
    "$$\n"
   ]
  },
  {
   "cell_type": "markdown",
   "id": "85b50397",
   "metadata": {
    "slideshow": {
     "slide_type": "fragment"
    }
   },
   "source": [
    "El *valor absoluto* de un número complejo con el *módulo*  escrito en forma polar\n",
    "\n",
    "$$\n",
    "|z| = \\sqrt{zz^*} = \\sqrt{\\rho e^{i\\theta} \\rho e^{-i\\theta}}=\\sqrt{\\rho^2} = \\rho\n",
    "$$"
   ]
  },
  {
   "cell_type": "markdown",
   "id": "bb456441",
   "metadata": {
    "slideshow": {
     "slide_type": "fragment"
    }
   },
   "source": [
    "<div class=\"alert alert-block alert-success\">\n",
    "    <b>Ejercicio:</b>\n",
    "     Verifica el valor absoluto de un producto de números complejos es el producto de sus valores absolutos\n",
    "</div>\n"
   ]
  },
  {
   "cell_type": "markdown",
   "id": "45a3432e",
   "metadata": {
    "slideshow": {
     "slide_type": "slide"
    }
   },
   "source": [
    "### División\n",
    "\n",
    "\n",
    "Al igual que la multiplicación, en forma cartesiana, la división **no es simple**. Sea $z = a+ \\i b$ y $w=c+\\i d$ \n",
    "<br>\n",
    "<br>\n",
    "\n",
    "$$\n",
    "\\frac{z}{w} = \\frac{z}{w}\\frac{w^*}{w^*} = \\frac{( a+ \\i b)(c-\\i d)}{|w|^2} = \\frac{ac+bd + \\i(bc-ad)}{c^2+d^2}  = \\frac{ac+bd}{c^2+d^2} +\\i\\frac{bc-ad}{c^2+d^2}\n",
    "$$\n",
    "\n"
   ]
  },
  {
   "cell_type": "markdown",
   "id": "eeb9b132",
   "metadata": {
    "slideshow": {
     "slide_type": "fragment"
    }
   },
   "source": [
    "En forma polar la división es tan sencilla como la multiplicación. Se toma el  cociente de los módulos y la resta de las fases\n",
    "\n",
    "$$\n",
    "\\frac{z}{w} = \\frac{\\rho e^{i\\theta}}{\\sigma e^{i\\phi}} = \\frac{\\rho}{\\sigma}\n",
    "e^{i(\\theta-\\phi)}\n",
    "$$"
   ]
  },
  {
   "cell_type": "code",
   "execution_count": 6,
   "id": "263e8258",
   "metadata": {
    "slideshow": {
     "slide_type": "slide"
    }
   },
   "outputs": [
    {
     "ename": "NameError",
     "evalue": "name 'z1' is not defined",
     "output_type": "error",
     "traceback": [
      "\u001b[0;31m---------------------------------------------------------------------------\u001b[0m",
      "\u001b[0;31mNameError\u001b[0m                                 Traceback (most recent call last)",
      "Cell \u001b[0;32mIn[6], line 2\u001b[0m\n\u001b[1;32m      1\u001b[0m \u001b[38;5;124;03m'''Valor absoluto'''\u001b[39;00m\n\u001b[0;32m----> 2\u001b[0m \u001b[38;5;28mprint\u001b[39m(\u001b[38;5;124m'\u001b[39m\u001b[38;5;124m|z1|=\u001b[39m\u001b[38;5;124m'\u001b[39m,\u001b[38;5;28mabs\u001b[39m(\u001b[43mz1\u001b[49m))\n\u001b[1;32m      3\u001b[0m \u001b[38;5;28mprint\u001b[39m(\u001b[38;5;124m'\u001b[39m\u001b[38;5;124mcomprobación |z1|=\u001b[39m\u001b[38;5;124m'\u001b[39m,np\u001b[38;5;241m.\u001b[39msqrt(z1\u001b[38;5;241m*\u001b[39mz1\u001b[38;5;241m.\u001b[39mconjugate())\u001b[38;5;241m.\u001b[39mreal) \n\u001b[1;32m      4\u001b[0m \u001b[38;5;28mprint\u001b[39m(\u001b[38;5;124m'\u001b[39m\u001b[38;5;124m************************************\u001b[39m\u001b[38;5;124m'\u001b[39m)\n",
      "\u001b[0;31mNameError\u001b[0m: name 'z1' is not defined"
     ]
    }
   ],
   "source": [
    "'''Valor absoluto'''\n",
    "print('|z1|=',abs(z1))\n",
    "print('comprobación |z1|=',np.sqrt(z1*z1.conjugate()).real) \n",
    "print('************************************')\n",
    "\n",
    "\n",
    "'''Division'''\n",
    "print('z1/z2=',np.round(z1/z2,5))\n",
    "print('comprobación z1/z2=', np.round(z1*z2.conjugate()/(z2*z2.conjugate()),5))"
   ]
  },
  {
   "cell_type": "markdown",
   "id": "b4683858",
   "metadata": {
    "slideshow": {
     "slide_type": "slide"
    }
   },
   "source": [
    "## 1.1.4 Ejemplos y propiedades\n"
   ]
  },
  {
   "cell_type": "markdown",
   "id": "ab24cefc",
   "metadata": {
    "slideshow": {
     "slide_type": "-"
    }
   },
   "source": [
    "### Sumas nulas\n",
    "\n",
    "En muchas ocasiones nos encontraremos la siguiente representación del numero cero (complejo) $0 = 0 + \\i 0$\n",
    "\n",
    "$$\n",
    "\\sum_{k=0}^{N-1} e^{2\\pi \\i k/N} =   e^{2\\pi \\i\\, 0/N} +  e^{2\\pi \\i\\, 1/N}  +~...~ +   e^{2\\pi \\i\\, (N-2)/N}+   e^{2\\pi \\i\\, (N-1)/N} ~=~  ~0\n",
    " $$\n",
    "\n",
    "Para convencerse de que esta identidad es cierta vamos a representar los números complejos y su suma. Puedes cambiar $N$ y también multiplicar por un módulo constante\n",
    " "
   ]
  },
  {
   "cell_type": "code",
   "execution_count": 20,
   "id": "352392bd",
   "metadata": {
    "code_folding": [
     9
    ],
    "slideshow": {
     "slide_type": "slide"
    }
   },
   "outputs": [
    {
     "name": "stdout",
     "output_type": "stream",
     "text": [
      "(-0+0j)\n"
     ]
    },
    {
     "data": {
      "text/plain": [
       "<Figure size 640x480 with 0 Axes>"
      ]
     },
     "metadata": {},
     "output_type": "display_data"
    },
    {
     "data": {
      "image/png": "[encoded data removed]",
      "text/plain": [
       "<Figure size 600x600 with 1 Axes>"
      ]
     },
     "metadata": {},
     "output_type": "display_data"
    }
   ],
   "source": [
    "%run ../macro_CURSO.py\n",
    "\n",
    "# cambiar el número N\n",
    "N=9\n",
    "rho=1\n",
    "\n",
    "''' Creamos las fases'''\n",
    "lista_de_fases=np.exp(2*np.pi*1j*np.array(range(N))/N)\n",
    "#print('lista de fases =', np.round(lista_de_fases,2))\n",
    "\n",
    "\n",
    "''' Dibujamos los números complejos '''\n",
    "tQ.plot_2D_plane(fsize=(6,6))\n",
    "for vec in rho*lista_de_fases:\n",
    "    draw_vector(x=vec.real,y=vec.imag)\n",
    "\n",
    "#draw_unit_circle()\n",
    "plt.gca().add_patch(plt.Circle((0.,0.),1.,color='black',fill=False)) \n",
    "\n",
    "\n",
    "''' Calculamos la suma. '''\n",
    "#print(lista_de_fases)\n",
    "print(np.round(sum(rho*lista_de_fases),10))\n"
   ]
  },
  {
   "cell_type": "markdown",
   "id": "921fe856",
   "metadata": {},
   "source": [
    "Sea  $1\\leq j \\leq N-1$ un entero por el que multiplicamos todas las fases. El resultado es el mismo\n",
    "\n",
    "$$\n",
    "\\sum_{k=0}^{N-1} e^{2\\pi \\i j k/N} =   e^{2\\pi \\i\\, 0/N} +  e^{2\\pi \\i\\, j/N}  +~...~ +   e^{2\\pi \\i\\, j(N-2)/N}+   e^{2\\pi \\i\\, j(N-1)/N} ~=~  ~0\n",
    " $$\n"
   ]
  },
  {
   "cell_type": "markdown",
   "id": "3bd97a3c",
   "metadata": {},
   "source": [
    "Sin embargo si $j = 0, N, 2N,... = 0\\,\\hbox{mod} N$, entonces la suma no se anula y su valor es igual a $N$. \n",
    "\n",
    "Tomemos por ejemplo $j=N$ \n",
    "\n",
    "$$\n",
    "\\sum_{k=0}^{N-1} e^{2\\pi \\i (3N) k/N} = \\sum_{k=0}^{N-1} e^{2\\pi \\i  k}  =  \\sum_{k=0}^{N-1} 1 =~  ~N\n",
    " $$\n"
   ]
  },
  {
   "cell_type": "markdown",
   "id": "f82b786d",
   "metadata": {},
   "source": [
    "<div class=\"alert alert-block alert-success\">\n",
    "<b>Ejercicio:</b>\n",
    " Modifica la lista de fases para convencerte de que todos los resultados anteriores son correctos\n",
    "</div>\n"
   ]
  },
  {
   "cell_type": "markdown",
   "id": "06e85eb3",
   "metadata": {},
   "source": [
    "Una manera de resumir todos los casos anteriores en una sola expresión involucra la función $\\delta$ de Kronecker\n",
    "\n",
    "$$\n",
    "\\delta_{ij} = \\left\\{ \\begin{array}{rcl} 0 & \\hbox{si} & i\\neq 0 \\\\ 1 & \\hbox{si} & i = j \\end{array} \\right.\n",
    "$$"
   ]
  },
  {
   "cell_type": "markdown",
   "id": "db8bdda2",
   "metadata": {},
   "source": [
    "Con ella podemos enunciar el siguiente resultado "
   ]
  },
  {
   "cell_type": "markdown",
   "id": "2d29b6ff",
   "metadata": {},
   "source": [
    "<div class=\"alert alert-block alert-info\",text-align:center>\n",
    "<p style=\"text-align: Left; color: navy\"> \n",
    "<br>\n",
    "$$\n",
    "\\frac{1}{N}\\sum_{k=0}^{N-1} e^{2\\pi \\i \\, j k/N} =  \\delta_{j\\, 0{\\rm mod} N}\n",
    "$$\n",
    "</p>\n",
    "</div>\n"
   ]
  },
  {
   "cell_type": "markdown",
   "id": "42914050",
   "metadata": {},
   "source": [
    "que usaremos con profusión al estudiar la transformada de Fourier cuántica."
   ]
  },
  {
   "cell_type": "markdown",
   "id": "664afb29",
   "metadata": {},
   "source": [
    "### Desigualdad triangular\n"
   ]
  },
  {
   "cell_type": "markdown",
   "id": "15d23e30",
   "metadata": {},
   "source": [
    "El módulo de la suma de dos números complejos verifica que\n",
    "\n",
    "$$\n",
    "| z+w| \\leq |z| + |w| \n",
    "$$\n",
    "\n",
    "Donde la igualdad sólo se verifica cuando ambos números complejos son paralelos en el plano complejo. "
   ]
  },
  {
   "cell_type": "code",
   "execution_count": 28,
   "id": "5612ab3d",
   "metadata": {},
   "outputs": [
    {
     "name": "stdout",
     "output_type": "stream",
     "text": [
      "|z1|+|z2|= 4.919349550499538\n",
      "|z1+z2|= 4.919349550499538\n"
     ]
    },
    {
     "data": {
      "image/png": "[encoded data removed]",
      "text/plain": [
       "<Figure size 800x800 with 1 Axes>"
      ]
     },
     "metadata": {},
     "output_type": "display_data"
    }
   ],
   "source": [
    "'''Comprueba que sólo cuando z1 y z2 son paralelos, se satura la desigualdad triangular'''\n",
    "\n",
    "'''Suma en cartesianas'''\n",
    "z1 = 1+2j\n",
    "\n",
    "ang = 0. #el ángulo entre z1 y z2\n",
    "z2 = z1*(1.2*np.exp(1j*ang))\n",
    "\n",
    "'''Suma '''\n",
    "zs = z1+z2\n",
    "\n",
    "print('|z1|+|z2|=',abs(z1)+abs(z2))\n",
    "print('|z1+z2|=',abs(z1+z2))\n",
    "\n",
    "\n",
    "tQ.plot_2D_plane(left=-2,right=4,up=7,down=-1) #cambiar las dimensiones para que encuadrar la figura\n",
    "tQ.draw_vector(z1.real,z1.imag,'b')\n",
    "tQ.draw_vector(z2.real,z2.imag,'b')\n",
    "tQ.draw_vector(zs.real,zs.imag,vcolor='r')"
   ]
  },
  {
   "cell_type": "code",
   "execution_count": null,
   "id": "c217d92d",
   "metadata": {},
   "outputs": [],
   "source": []
  }
 ],
 "metadata": {
  "celltoolbar": "Slideshow",
  "hide_input": false,
  "kernelspec": {
   "display_name": "Python 3 (ipykernel)",
   "language": "python",
   "name": "python3"
  },
  "language_info": {
   "codemirror_mode": {
    "name": "ipython",
    "version": 3
   },
   "file_extension": ".py",
   "mimetype": "text/x-python",
   "name": "python",
   "nbconvert_exporter": "python",
   "pygments_lexer": "ipython3",
   "version": "3.11.5"
  },
  "toc": {
   "base_numbering": 1,
   "nav_menu": {},
   "number_sections": true,
   "sideBar": true,
   "skip_h1_title": true,
   "title_cell": "Table of Contents",
   "title_sidebar": "Contents",
   "toc_cell": false,
   "toc_position": {
    "height": "calc(100% - 180px)",
    "left": "10px",
    "top": "150px",
    "width": "347.273px"
   },
   "toc_section_display": true,
   "toc_window_display": true
  },
  "varInspector": {
   "cols": {
    "lenName": 16,
    "lenType": 16,
    "lenVar": 40
   },
   "kernels_config": {
    "python": {
     "delete_cmd_postfix": "",
     "delete_cmd_prefix": "del ",
     "library": "var_list.py",
     "varRefreshCmd": "print(var_dic_list())"
    },
    "r": {
     "delete_cmd_postfix": ") ",
     "delete_cmd_prefix": "rm(",
     "library": "var_list.r",
     "varRefreshCmd": "cat(var_dic_list()) "
    }
   },
   "types_to_exclude": [
    "module",
    "function",
    "builtin_function_or_method",
    "instance",
    "_Feature"
   ],
   "window_display": false
  }
 },
 "nbformat": 4,
 "nbformat_minor": 5
}