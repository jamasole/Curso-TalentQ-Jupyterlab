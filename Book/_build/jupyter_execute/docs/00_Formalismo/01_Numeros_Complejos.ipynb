{
 "cells": [
  {
   "cell_type": "markdown",
   "id": "e1ef2d8f",
   "metadata": {},
   "source": [
    "```{figure} ../thumbnails/myThumbnail.png\n",
    ":align: center\n",
    "```"
   ]
  },
  {
   "cell_type": "markdown",
   "id": "67e67312",
   "metadata": {},
   "source": [
    "# Números Complejos"
   ]
  },
  {
   "cell_type": "code",
   "execution_count": null,
   "id": "8a75bff6",
   "metadata": {
    "editable": true,
    "slideshow": {
     "slide_type": "slide"
    }
   },
   "outputs": [],
   "source": [
    "%run ../macro_tQ.py\n",
    "import sys\n",
    "\n",
    "sys.path.append('../')\n",
    "\n",
    "import macro_tQ as tQ\n",
    "import numpy as np\n",
    "import scipy.linalg as la\n",
    "import matplotlib.pyplot as plt"
   ]
  },
  {
   "cell_type": "markdown",
   "id": "b1ec84a7",
   "metadata": {
    "slideshow": {
     "slide_type": "slide"
    }
   },
   "source": [
    "## Introducción"
   ]
  },
  {
   "cell_type": "markdown",
   "id": "60344868",
   "metadata": {
    "slideshow": {
     "slide_type": "slide"
    }
   },
   "source": [
    "La mecánica cuántica guarda una relación muy estrecha con los números complejos."
   ]
  },
  {
   "cell_type": "markdown",
   "id": "6cd743ce",
   "metadata": {
    "slideshow": {
     "slide_type": "fragment"
    }
   },
   "source": [
    "Recuerda que el *cuadrado* de un número real, $a\\in {\\mathbb R}$ <u>siempre  es positivo</u>"
   ]
  },
  {
   "cell_type": "markdown",
   "id": "96801692",
   "metadata": {
    "slideshow": {
     "slide_type": "fragment"
    }
   },
   "source": [
    "$$ a^2 >0 $$"
   ]
  },
  {
   "cell_type": "markdown",
   "id": "9e57b7a6",
   "metadata": {
    "slideshow": {
     "slide_type": "fragment"
    }
   },
   "source": [
    "por ejemplo $~~2^2 =  4~~$ pero también $~~(-2)^2 = 4~~$."
   ]
  },
  {
   "cell_type": "markdown",
   "id": "2c43ba74",
   "metadata": {
    "slideshow": {
     "slide_type": "fragment"
    }
   },
   "source": [
    "Por eso, la raíz cuadrada de un número real <u>*sólo* existe si dicho número es positivo</u>."
   ]
  },
  {
   "cell_type": "markdown",
   "id": "2b41685a",
   "metadata": {
    "slideshow": {
     "slide_type": "fragment"
    }
   },
   "source": [
    "Por ejemplo $\\sqrt{4}=\\pm 2$, mientras que \n",
    "\n",
    "$$\\sqrt{-4}= \\, ?$$"
   ]
  },
  {
   "cell_type": "markdown",
   "id": "7f287668",
   "metadata": {
    "slideshow": {
     "slide_type": "fragment"
    }
   },
   "source": [
    "**Pregunta**: $~~$ ¿cómo podríamos definir la <u>raíz cuadrada de un número real negativo</u>?"
   ]
  },
  {
   "cell_type": "markdown",
   "id": "b817c7f8",
   "metadata": {
    "slideshow": {
     "slide_type": "slide"
    }
   },
   "source": [
    "**Respuesta**:  es necesario <u>ampliar el conjunto de los números reales</u>."
   ]
  },
  {
   "cell_type": "markdown",
   "id": "291c1c13",
   "metadata": {
    "editable": true,
    "slideshow": {
     "slide_type": ""
    }
   },
   "source": [
    ":::{card}\n",
    "\n",
    "**Definición:** *número* $i$\n",
    "\n",
    "^^^\n",
    " \n",
    "Se postula la existencia de un <i>nuevo número</i>, $~i$, que es la solución única de la ecuación \n",
    "\n",
    "$$\n",
    "i^2 = -1\n",
    "$$\n",
    ":::"
   ]
  },
  {
   "cell_type": "markdown",
   "id": "d460eb8a",
   "metadata": {
    "slideshow": {
     "slide_type": "fragment"
    }
   },
   "source": [
    "Equivalentemente podíamos haber requerido que  $i = \\sqrt{-1}$."
   ]
  },
  {
   "cell_type": "markdown",
   "id": "c24120af",
   "metadata": {
    "slideshow": {
     "slide_type": "fragment"
    }
   },
   "source": [
    "Con esto podemos ahora encontrar la raíz de cualquier número negativo. Por ejemplo, $-4$\n",
    "\n",
    "$$\n",
    "(2i)(2i) = 4 i^2 = - 4\n",
    "$$\n",
    "\n",
    "y $2i$ será la raíz buscada."
   ]
  },
  {
   "cell_type": "markdown",
   "id": "2012554b",
   "metadata": {
    "slideshow": {
     "slide_type": "slide"
    }
   },
   "source": [
    "Con el número $i$ se opera igual que con los números reales"
   ]
  },
  {
   "cell_type": "markdown",
   "id": "dc52c4bb",
   "metadata": {
    "slideshow": {
     "slide_type": "fragment"
    }
   },
   "source": [
    "$$ i + i = 2i $$"
   ]
  },
  {
   "cell_type": "markdown",
   "id": "195e9fe5",
   "metadata": {
    "slideshow": {
     "slide_type": "fragment"
    }
   },
   "source": [
    "$$ i - i = 0 $$"
   ]
  },
  {
   "cell_type": "markdown",
   "id": "a4de32b4",
   "metadata": {
    "slideshow": {
     "slide_type": "fragment"
    }
   },
   "source": [
    "$$ i + 2i = 3 i$$"
   ]
  },
  {
   "cell_type": "markdown",
   "id": "90352fa7",
   "metadata": {
    "slideshow": {
     "slide_type": "fragment"
    }
   },
   "source": [
    "$$i^3  = i*i*i = i^2 * i = -i$$"
   ]
  },
  {
   "cell_type": "markdown",
   "id": "90516acb",
   "metadata": {
    "slideshow": {
     "slide_type": "fragment"
    }
   },
   "source": [
    "$$\\frac{i}{i} = 1$$"
   ]
  },
  {
   "cell_type": "markdown",
   "id": "a4917f1f",
   "metadata": {
    "slideshow": {
     "slide_type": "slide"
    }
   },
   "source": [
    "Observar que el *inverso multiplicativo*  $1/i$ también es $-i$\n",
    "\n",
    "\\begin{eqnarray}\n",
    "\\frac{i}{i}  &=&   1 \\nonumber\\\\\n",
    "i (-i) &=& - i^2  =  1\n",
    "\\end{eqnarray}"
   ]
  },
  {
   "cell_type": "markdown",
   "id": "6b70d968",
   "metadata": {
    "slideshow": {
     "slide_type": "fragment"
    }
   },
   "source": [
    "por tanto hay una identificación importante\n",
    "\n",
    "$$ i^{-1} = \\frac{1}{i} = -i $$"
   ]
  },
  {
   "cell_type": "markdown",
   "id": "0e32a66c",
   "metadata": {
    "slideshow": {
     "slide_type": "fragment"
    }
   },
   "source": [
    "<b>Resumen</b>: la solución al problema planteado consiste en <i>extender</i> el cuerpo de los números reales ${\\mathbb R}$ al de los complejos ${\\mathbb C}$ que, ahora, incluyen el número $i$"
   ]
  },
  {
   "cell_type": "markdown",
   "id": "346ab0bc",
   "metadata": {
    "slideshow": {
     "slide_type": "slide"
    }
   },
   "source": [
    "## Formas cartesiana y polar"
   ]
  },
  {
   "cell_type": "markdown",
   "id": "12a0ef06",
   "metadata": {},
   "source": [
    "Podemos combinar $i$ con un número real, $3\\in {\\mathbb R}$, para formar un *número complejo* $3 + \\i \\in {\\mathbb C}$. Es decir, los números complejos, ${\\mathbb C}$ son una *extensión* de los reales ${\\mathbb R}$. Hay, esencialmente dos maneras de presentar un número complejo: la forma cartesiana y la forma polar."
   ]
  },
  {
   "cell_type": "markdown",
   "id": "e68e1374",
   "metadata": {
    "slideshow": {
     "slide_type": "slide"
    }
   },
   "source": [
    "### Forma Cartesiana\n",
    "\n",
    "\n",
    "\n",
    "\n",
    "\n",
    " Un *número complejo*, $z \\in {\\mathbb C}$, se representa en *forma cartesiana*  mediante <u>dos \n",
    " números reales</u> $x,y\\in {\\mathbb R}$ \n",
    "<br>\n",
    "\n",
    "$$\n",
    "z = x + i y   ~~~~ \\hbox{donde}~~~ \n",
    "\\left\\{\\begin{array}{cl} x &\\hbox{es la    parte real}\\\\\n",
    "y & \\hbox{es la  parte imaginaria}\n",
    "\\end{array}\n",
    "\\right.\n",
    "$$"
   ]
  },
  {
   "cell_type": "code",
   "execution_count": null,
   "id": "aa54ba48",
   "metadata": {
    "slideshow": {
     "slide_type": "fragment"
    }
   },
   "outputs": [],
   "source": [
    "'en python, el número  imaginario i se representa con la letra j.  Añadiendo +0j convertimos un float en un complex'\n",
    "print(isinstance(1+0j,complex))"
   ]
  },
  {
   "cell_type": "markdown",
   "id": "4400e475",
   "metadata": {
    "slideshow": {
     "slide_type": "fragment"
    }
   },
   "source": [
    "Un número complejo se representa  en el **plano complejo**: la parte real  en el *eje horizontal*, y la parte imaginaria  en el *eje vertical*"
   ]
  },
  {
   "cell_type": "code",
   "execution_count": null,
   "id": "1e40b413",
   "metadata": {
    "slideshow": {
     "slide_type": "slide"
    }
   },
   "outputs": [],
   "source": [
    "'''Forma cartesiana''' \n",
    "z = -3 + 1j\n",
    "\n",
    "'''Extraemos las partes real e imaginaria'''\n",
    "x=z.real\n",
    "y=z.imag\n",
    "print('z=x+iy=',x + 1j*y)\n",
    "\n",
    "''' Representación en el plano complejo '''\n",
    "'''esta función está en archivo: macro_CURSO.py  '''\n",
    "''' Representación en el plano complejo '''\n",
    "tQ.plot_2D_plane(left=-int(abs(x))-1,right=int(abs(x))+1,up=int(abs(y))+1,down=-int(abs(y))-1)\n",
    "tQ.draw_vector(x,y,'b')"
   ]
  },
  {
   "cell_type": "markdown",
   "id": "e37fd352",
   "metadata": {
    "slideshow": {
     "slide_type": "slide"
    }
   },
   "source": [
    "### Forma Polar"
   ]
  },
  {
   "cell_type": "markdown",
   "id": "73cf82df",
   "metadata": {
    "slideshow": {
     "slide_type": "slide"
    }
   },
   "source": [
    ":::{card} \n",
    "**Teorema** $~$ *(fórmula de Euler)*\n",
    "\n",
    "^^^\n",
    "\n",
    "Dado un ángulo $\\theta \\in (0,2\\pi)$ las dos expresiones siguientes son equivalentes\n",
    "\n",
    "$$\n",
    "\\cos\\theta + i \\sin \\theta = e^{i\\theta} \n",
    "$$\n",
    ":::"
   ]
  },
  {
   "cell_type": "markdown",
   "id": "3c552091",
   "metadata": {},
   "source": [
    "````{dropdown} Demostración\n",
    "La demostración de la Fórmula de Euler viene de expandir ambos miembros en serie de Taylor en torno a $\\theta = 0$ y comprobar que ambas series son iguales\n",
    "```{math} \n",
    "\\begin{array}{rcl}\n",
    "e^{i\\theta} &=& 1 + i\\theta + \\frac{1}{2}(i\\theta)^2 + \\frac{1}{3!}(i\\theta)^3+\\, ... \\\\ \\rule{0mm}{6mm}\n",
    "    &=& 1 -\\frac{1}{2}\\theta^2 ~+~ ... ~+~ i \\left(\\theta - \\frac{1}{3!} \\theta^3+ \\, ...\\right) \\\\ \\rule{0mm}{6mm}\n",
    "    &=& \\cos \\theta  + i \\sin \\theta \n",
    "\\end{array}\n",
    "```\n",
    "````"
   ]
  },
  {
   "cell_type": "markdown",
   "id": "e539c524",
   "metadata": {},
   "source": [
    "```{math}\n",
    ":label: label_align\n",
    "       \\begin{align}\n",
    "        y    & =  ax^2 + bx + c \\\\\n",
    "        f(x) & =  x^2 + 2xy + y^2 \n",
    "        \\end{align}\n",
    "```"
   ]
  },
  {
   "cell_type": "markdown",
   "id": "556d0c31",
   "metadata": {
    "slideshow": {
     "slide_type": "slide"
    }
   },
   "source": [
    "Un número complejo $z$ se puede representar también  en **forma polar**\n",
    "<br> \n",
    "\n",
    "$$\n",
    "z = \\rho e^{i\\theta} = \\rho (\\cos\\theta + i \\sin\\theta)  \n",
    "$$\n",
    "\n",
    "Los números reales $\\rho$ y $\\theta$ se denominan *módulo* y *fase*."
   ]
  },
  {
   "cell_type": "markdown",
   "id": "c76d147a",
   "metadata": {
    "slideshow": {
     "slide_type": "fragment"
    }
   },
   "source": [
    "Las fases $\\theta$ y $\\theta+ 2\\pi$ representan el *mismo* número complejo\n",
    "<br>\n",
    "\n",
    "$$\n",
    "z = \\rho e^{i\\theta} = \\rho e^{i(\\theta + 2\\pi)} \n",
    "$$\n",
    "\n",
    "y ello se debe a que las funciones $\\cos \\theta$ y $\\sin\\theta$ son periódicas\n",
    "\n",
    "$$\n",
    "\\sin\\theta  = \\sin(\\theta + 2\\pi)~~~~~~~\\cos\\theta  = \\cos(\\theta +2\\pi)\n",
    "$$"
   ]
  },
  {
   "cell_type": "markdown",
   "id": "fc9c154c",
   "metadata": {
    "slideshow": {
     "slide_type": "slide"
    }
   },
   "source": [
    ":::{admonition} Ejemplo\n",
    ":class: tip\n",
    "\n",
    "Usar la forma polar es útil en situaciones en las que aparecen productos y potencias del número $i$\n",
    "\n",
    "\\begin{eqnarray}\n",
    "i &=&  e^{i\\pi/2} \\\\ \\rule{0mm}{8mm}\n",
    "-1 &=& i^2 = e^{i\\pi} \\\\ \\rule{0mm}{8mm}\n",
    "i &=& e^{3i\\pi/2} =e^{-i\\pi/2} \\\\  \\rule{0mm}{8mm}\n",
    "i^i &=& (e^{i\\pi/2})^i = e^{i^2 \\pi/2} = e^{-\\pi/2}  \\\\  \\rule{0mm}{8mm}\n",
    "i^{2+i} &=& (e^{i\\pi/2})^{(2+i)}= e^{i\\pi/2(2+i)} = e^{i\\pi} e^{-\\pi/2} = -e^{-\\pi/2}  \\rule{0mm}{8mm}\n",
    "\\end{eqnarray}\n",
    ":::"
   ]
  },
  {
   "cell_type": "markdown",
   "id": "9e6e380b",
   "metadata": {
    "slideshow": {
     "slide_type": "slide"
    }
   },
   "source": [
    "### Conversión entre formas cartesiana y polar"
   ]
  },
  {
   "cell_type": "markdown",
   "id": "a94411b4",
   "metadata": {
    "slideshow": {
     "slide_type": "fragment"
    }
   },
   "source": [
    "La conversión de la representación *polar a cartesiana* es muy sencilla\n",
    "gracias a las fórmula de Euler\n",
    "\n",
    "\n",
    "<br>\n",
    "\n",
    "$$\n",
    "z = r e^{i\\theta} = x + i y ~~~\\hbox{ con }  ~~~\\left\\{\\begin{array}{l} x=r \\cos \\theta \\\\ \\rule{0mm}{4mm} y = r\\sin \\theta\n",
    "\\end{array} \\right.\n",
    "$$\n",
    "\n",
    "<br>"
   ]
  },
  {
   "cell_type": "markdown",
   "id": "28e9203c",
   "metadata": {
    "slideshow": {
     "slide_type": "slide"
    }
   },
   "source": [
    "La conversión inversa, *de cartesiana a polar* es un poco más delicada. Formalmente sería\n",
    "\n",
    "<br>\n",
    "\n",
    "\n",
    "$$\n",
    "z = x + i y  = r e^{i\\theta} ~~~ \\hbox{ con } ~~~ \\left\\{\\begin{array}{l} r=\\sqrt{x^2+y^2} \\\\  \\rule{0mm}{4mm} \\theta = \\arctan(y/x)\n",
    "\\end{array} \\right.\n",
    "$$"
   ]
  },
  {
   "cell_type": "markdown",
   "id": "88217278",
   "metadata": {
    "slideshow": {
     "slide_type": "slide"
    }
   },
   "source": [
    "A la hora de la verdad hay que fijar el signo de la función $\\arctan(y/x)$. La siguiente función examina esto mirando a los signos de $x$ y de $y$ para saber en qué cuadrante estamos."
   ]
  },
  {
   "cell_type": "code",
   "execution_count": null,
   "id": "4e6dd4d0",
   "metadata": {
    "slideshow": {
     "slide_type": "slide"
    }
   },
   "outputs": [],
   "source": [
    "'Conversión de Cartesianas a Polares'\n",
    "def cartes2polar(z):\n",
    "\n",
    "    y = z.imag\n",
    "    x = z.real\n",
    "    r = np.sqrt(x**2 + y**2)\n",
    "    \n",
    "    if r==0:\n",
    "        print('el número 0+i0 no admite representación polar')\n",
    "        th='indefinido'\n",
    "    elif x==0 and y>0: \n",
    "        th=np.pi/2\n",
    "    elif x==0 and y<0:\n",
    "        th=3*np.pi/2\n",
    "    elif x>0 and y>=0:\n",
    "        th=np.arctan(y/x)\n",
    "    elif x<0 and y>=0:\n",
    "        th=np.arctan(-y/x)+np.pi/2\n",
    "    elif x<0 and y<0:\n",
    "        th=np.arctan(y/x)+np.pi\n",
    "    elif x>0 and y<0:\n",
    "         th=np.arctan(-y/x)+3*np.pi/2.       \n",
    "            \n",
    "    return np.round(r,3),np.round(th,3)\n",
    "\n",
    "#el signo correcto también se puede conseguir usando la funcion np.arctan2(x,y)"
   ]
  },
  {
   "cell_type": "code",
   "execution_count": null,
   "id": "3c3c2b5a",
   "metadata": {},
   "outputs": [],
   "source": [
    "'obtengamos la representación polar de z = 3+i'\n",
    "r,th = cartes2polar(3.+1.j)\n",
    "print('r=',r, ' th=', th)\n",
    "\n",
    "'a la inversa no es necesario definir ninguna función, ya que numpy directamente escribe un numero complejo en forma cartesiana'\n",
    "z = r*np.exp(1j*th)\n",
    "print(np.round(z,2))"
   ]
  },
  {
   "cell_type": "markdown",
   "id": "f6459aa7",
   "metadata": {
    "slideshow": {
     "slide_type": "slide"
    }
   },
   "source": [
    "### Conjugacion compleja\n",
    " \n",
    "Todo número complejo, $z$, lleva *asociado* otro,  denominado el *complejo conjugado* $z^*$, que se obtiene cambiando $i \\to -i$\n",
    "<br>\n",
    "\n",
    "$$\n",
    "z = x+i y ~~~~\\leftrightarrow~~~~ z^* = x - i y \\hspace{2cm}\n",
    "$$\n",
    "\n",
    "La conjugación compleja es una *involución* $\\Rightarrow (z^*)^* = z$"
   ]
  },
  {
   "cell_type": "code",
   "execution_count": null,
   "id": "4f9ffcfe",
   "metadata": {
    "slideshow": {
     "slide_type": "slide"
    }
   },
   "outputs": [],
   "source": [
    "'''Conjugacion compleja'''\n",
    "z = 3 + 1j\n",
    "print('z =',z.real + 1j*z.imag)\n",
    "zc = z.conjugate()\n",
    "print('z*=',zc.real + 1j*zc.imag)\n",
    "\n",
    "''' Representación en el plano complejo '''\n",
    "tQ.plot_2D_plane(left=-int(abs(x))-1,right=int(abs(x))+1,up=int(abs(y))+1,down=-int(abs(y))-1)\n",
    "tQ.draw_vector(z.real,z.imag,'b')\n",
    "tQ.draw_vector(zc.real,zc.imag,vcolor='r')"
   ]
  },
  {
   "cell_type": "markdown",
   "id": "cc6ade2a",
   "metadata": {
    "slideshow": {
     "slide_type": "fragment"
    }
   },
   "source": [
    " En forma polar la *conjugación compleja* se obtiene <u>*cambiando el signo*</u> de la fase\n",
    "<br>\n",
    "\n",
    "$$\n",
    "z = \\rho e^{i\\theta} ~~\\longrightarrow ~~z^* = \\rho e^{-i\\theta} = \\rho \\cos\\theta - i \\rho \\sin\\theta \n",
    "$$"
   ]
  },
  {
   "cell_type": "code",
   "execution_count": null,
   "id": "178d578a",
   "metadata": {
    "slideshow": {
     "slide_type": "slide"
    }
   },
   "outputs": [],
   "source": [
    "'''Forma polar'''\n",
    "r=3.162\n",
    "th=0.322\n",
    "z = r*np.exp(th*1j)\n",
    "zc = r*np.exp(-th*1j)\n",
    "\n",
    "''' Dibujamos en el plano complejo '''\n",
    "tQ.plot_2D_plane(left=-int(abs(x))-1,right=int(abs(x))+1,up=int(abs(y))+1,down=-int(abs(y))-1)\n",
    "tQ.draw_vector(z.real,z.imag)\n",
    "tQ.draw_vector(zc.real,zc.imag,vcolor='r')"
   ]
  },
  {
   "cell_type": "markdown",
   "id": "25ee4840",
   "metadata": {
    "slideshow": {
     "slide_type": "slide"
    }
   },
   "source": [
    "##  Operaciones básicas\n",
    "\n",
    "\n",
    "Los numeros complejos ${\\mathbb C}$ forman una estructura matemática denominada *cuerpo*. Esto  quiere decir que admiten dos operaciones *internas*: la **suma** y la **multiplicación**. Vamos a estudiarlas por separado"
   ]
  },
  {
   "cell_type": "markdown",
   "id": "f325f177",
   "metadata": {
    "slideshow": {
     "slide_type": "skip"
    }
   },
   "source": [
    "### Suma\n",
    "\n",
    "En representación *cartesiana* se *suman las partes real e imaginaria por separado*\n",
    "\n",
    "<br>\n",
    "\n",
    "$$\n",
    "(a + i b) + (c + i d) = (a+c) + i (b+d)\\hspace{6cm}\n",
    "$$ \n",
    "\n",
    "<br>\n",
    "\n",
    "\n",
    "\n",
    "La resta es obvia, ya que $a,b,c,d$ pueden ser números negativos."
   ]
  },
  {
   "cell_type": "code",
   "execution_count": null,
   "id": "66fb65be",
   "metadata": {
    "slideshow": {
     "slide_type": "slide"
    }
   },
   "outputs": [],
   "source": [
    "'''Suma en cartesianas'''\n",
    "\n",
    "z1 = 1+4j\n",
    "z2 = 2+2j\n",
    "\n",
    "'''Suma y resta'''\n",
    "zs = z1+z2\n",
    "zd = z1-z2\n",
    "\n",
    "print('z1+z2=',zs)\n",
    "print('z1-z2=',zd)\n",
    "print('************************************')\n",
    "\n",
    "\n",
    "\n",
    "tQ.plot_2D_plane(left=-2,right=4,up=7,down=-1) #cambiar las dimensiones para que encuadrar la figura\n",
    "tQ.draw_vector(z1.real,z1.imag,'b')\n",
    "tQ.draw_vector(z2.real,z2.imag,'b')\n",
    "' representamos la suma como un vector rojo'\n",
    "tQ.draw_vector(zs.real,zs.imag,vcolor='r')\n",
    "' representamos la resta como un vector verde'\n",
    "tQ.draw_vector(zd.real,zd.imag,vcolor='g')"
   ]
  },
  {
   "cell_type": "markdown",
   "id": "d6dfcb14",
   "metadata": {
    "slideshow": {
     "slide_type": "slide"
    }
   },
   "source": [
    "En *forma polar*, la suma de dos números complejos no admite ninguna simplificación, y deben transformarse primeramente a forma cartesiana, para sumarse. \n",
    "\n",
    "$$\n",
    "z + w = \\rho e^{i\\theta} + \\sigma e^{i\\phi} = (\\rho\\cos\\theta + \\sigma\\cos\\phi) + i(\\rho\\sin\\theta +  \\sigma\\sin\\phi) \\hspace{6cm}\n",
    "$$"
   ]
  },
  {
   "cell_type": "code",
   "execution_count": null,
   "id": "7a3532cc",
   "metadata": {
    "run_control": {
     "marked": true
    },
    "slideshow": {
     "slide_type": "slide"
    }
   },
   "outputs": [],
   "source": [
    "'python directamente escribe un numero complejo en forma cartesiana'\n",
    "z1 = 3*np.exp(1j*0.5)\n",
    "z2 = 1*np.exp(-1j*0.7)\n",
    "\n",
    "'''Suma y resta'''\n",
    "zs = z1+z2\n",
    "zd = z1-z2\n",
    "\n",
    "print('z1+z2=',np.round(zs,4))\n",
    "print('z1-z2=',np.round(zd,4))\n",
    "print('************************************')\n",
    "\n",
    "tQ.plot_2D_plane(left=-2,right=4,up=3,down=-1) #cambiar las dimensiones para que encuadrar la figura\n",
    "tQ.draw_vector(z1.real,z1.imag,'b')\n",
    "tQ.draw_vector(z2.real,z2.imag,'b')\n",
    "tQ.draw_vector(zs.real,zs.imag,vcolor='r')\n",
    "tQ.draw_vector(zd.real,zd.imag,vcolor='g')"
   ]
  },
  {
   "cell_type": "markdown",
   "id": "b553344f",
   "metadata": {
    "slideshow": {
     "slide_type": "slide"
    }
   },
   "source": [
    "###  Multiplicación \n",
    "\n",
    "\n",
    "\n",
    "En *forma cartesiana* la multiplicación es complicada, debiendo multiplicarse todos los factores entre sí, y\n",
    "teniendo en cuenta que $i^2= -1$\n",
    "\n",
    "$$\n",
    "(a + i b) (c + i d) =ac +  ai d +i bc +i^2 bd = (ab - bd) + i(ac + bd)\n",
    "$$ \n",
    "\n",
    "Para hallar el producto de dos números complejos $z=r e^{i\\theta}$ y $w=s e^{i\\phi}$ escritos en forma polar, se multiplican los módulos y se suman las fases\n",
    "\n",
    "$$\n",
    "z w = r e^{i\\theta} s e^{i\\phi} = rs\\,   e^{i(\\theta + \\phi)} \n",
    "$$"
   ]
  },
  {
   "cell_type": "code",
   "execution_count": null,
   "id": "83de4050",
   "metadata": {
    "slideshow": {
     "slide_type": "slide"
    }
   },
   "outputs": [],
   "source": [
    "z1 = 3*np.exp(1j*0.5)\n",
    "z2 = 1*np.exp(-1j*0.7)\n",
    "'''Producto'''\n",
    "print('z1*z2 = ', np.round(z1*z2,4))\n",
    "print('z1**3 = ', np.round(pow(z1,6)))\n",
    "print('************************************')"
   ]
  },
  {
   "cell_type": "markdown",
   "id": "2ca1e72c",
   "metadata": {
    "slideshow": {
     "slide_type": "slide"
    }
   },
   "source": [
    "### Valor absoluto\n",
    "\n",
    "El cuadrado de un número real $a\\in {\\mathbb R}$ es otro número real positivo $a^2 >0$. Ello nos permite definir\n",
    "el valor absoluto $|a| = \\sqrt{a^2}$ que es el mismo para $a$ y para $-a$."
   ]
  },
  {
   "cell_type": "markdown",
   "id": "98b1b3ba",
   "metadata": {
    "slideshow": {
     "slide_type": "fragment"
    }
   },
   "source": [
    "Esto no sucede con un número complejo $z$. En efecto,  \n",
    "\n",
    "$$\n",
    "z^2 = x^2 - y^2 +2i xy\n",
    "$$ \n",
    "\n",
    "es complejo. Sin embargo, el producto de un número por su conjugado es un número *real* y *positivo*\n",
    "\n",
    "$$\n",
    "z z^*  = (x + i y) (x-i y) = x^2 + y^2 >0\n",
    "$$"
   ]
  },
  {
   "cell_type": "markdown",
   "id": "3655adaa",
   "metadata": {
    "slideshow": {
     "slide_type": "fragment"
    }
   },
   "source": [
    "Ello nos permite definir el **valor absoluto** de un número complejo\n",
    "\n",
    "$$\n",
    "|z| = \\sqrt{z z^*} = \\sqrt{x^2 + y^2}\n",
    "$$"
   ]
  },
  {
   "cell_type": "markdown",
   "id": "4cd63c53",
   "metadata": {
    "slideshow": {
     "slide_type": "fragment"
    }
   },
   "source": [
    "El *valor absoluto* de un número complejo coincide con el *módulo*  de la forma polar\n",
    "\n",
    "$$\n",
    "|z| = \\sqrt{zz^*} = \\sqrt{\\rho e^{i\\theta} \\rho e^{-i\\theta}}=\\sqrt{\\rho^2} = \\rho\n",
    "$$"
   ]
  },
  {
   "cell_type": "markdown",
   "id": "f07f3526",
   "metadata": {
    "slideshow": {
     "slide_type": "slide"
    }
   },
   "source": [
    "El *valor absoluto* de una fase es 1\n",
    "\n",
    "$$\n",
    "|e^{i\\theta}| = \\sqrt{ e^{i\\theta}   e^{-i\\theta}}=\\sqrt{ e^{i(\\theta-\\theta)}}=\\sqrt{e^0} = 1\n",
    "$$"
   ]
  },
  {
   "cell_type": "markdown",
   "id": "d755629f",
   "metadata": {
    "slideshow": {
     "slide_type": "fragment"
    }
   },
   "source": [
    ":::{admonition} Ejercicio\n",
    ":class: tip\n",
    "\n",
    "Verifica el valor absoluto de un producto de números complejos es el producto de sus valores absolutos\n",
    ":::"
   ]
  },
  {
   "cell_type": "markdown",
   "id": "3ed36a75",
   "metadata": {
    "slideshow": {
     "slide_type": "slide"
    }
   },
   "source": [
    "### División\n",
    "\n",
    "\n",
    "Al igual que la multiplicación, en forma cartesiana, la **división** no es simple. Sea $z = a+ i b$ y $w=c+i d$ \n",
    "<br>\n",
    "<br>\n",
    "\n",
    "$$\n",
    "\\frac{z}{w} = \\frac{z}{w}\\frac{w^*}{w^*} = \\frac{( a+ i b)(c-i d)}{|w|^2} = \\frac{ac+bd + i(bc-ad)}{c^2+d^2}  = \\frac{ac+bd}{c^2+d^2} +i\\frac{bc-ad}{c^2+d^2}\n",
    "$$"
   ]
  },
  {
   "cell_type": "markdown",
   "id": "17dde3ca",
   "metadata": {
    "slideshow": {
     "slide_type": "fragment"
    }
   },
   "source": [
    "En forma polar la división es tan sencilla como la multiplicación. Se toma el  cociente de los módulos y la resta de las fases\n",
    "\n",
    "$$\n",
    "\\frac{z}{w} = \\frac{|z| e^{i\\theta}}{|w| e^{i\\phi}} = \\frac{|z|}{|w|}\n",
    "e^{i(\\theta-\\phi)}\n",
    "$$"
   ]
  },
  {
   "cell_type": "code",
   "execution_count": null,
   "id": "ceb0e920",
   "metadata": {
    "slideshow": {
     "slide_type": "slide"
    }
   },
   "outputs": [],
   "source": [
    "'''Valor absoluto'''\n",
    "print('abs(z1)=',abs(z1))\n",
    "print('|z1|=',np.sqrt(z1*z1.conjugate()).real)\n",
    "print('rho=',cartes2polar(z1)[0])\n",
    "print('************************************')\n",
    "\n",
    "\n",
    "'''Division'''\n",
    "print('z1/z2=',np.round(z1/z2,5))\n",
    "print('comprobación z1/z2=', np.round(z1*z2.conjugate()/(z2*z2.conjugate()),5))"
   ]
  },
  {
   "cell_type": "markdown",
   "id": "80a0addc",
   "metadata": {
    "slideshow": {
     "slide_type": "slide"
    }
   },
   "source": [
    "##  Ejemplos y propiedades"
   ]
  },
  {
   "cell_type": "markdown",
   "id": "a7cb3ff3",
   "metadata": {
    "slideshow": {
     "slide_type": "-"
    }
   },
   "source": [
    "### Sumas nulas\n",
    "\n",
    "En <u>muchas ocasiones</u> nos encontraremos la siguiente representación del numero cero (complejo) $ 0 \\equiv 0 + i 0$\n",
    "\n",
    "$$\n",
    "\\sum_{k=0}^{N-1} e^{2\\pi i k/N} =   e^{2\\pi i\\, 0/N} +  e^{2\\pi i\\, 1/N}  +~...~ +   e^{2\\pi i\\, (N-2)/N}+   e^{2\\pi i\\, (N-1)/N} ~=~  ~0\n",
    "$$\n",
    "\n",
    "Para convencerse de que esta identidad es cierta vamos a representar los números complejos y su suma. Puedes cambiar $N$ y también multiplicar por un módulo constante"
   ]
  },
  {
   "cell_type": "code",
   "execution_count": null,
   "id": "2477a027",
   "metadata": {
    "code_folding": [
     9
    ],
    "slideshow": {
     "slide_type": "slide"
    }
   },
   "outputs": [],
   "source": [
    "# cambiar el número N\n",
    "N=9\n",
    "rho=1\n",
    "\n",
    "''' Creamos las fases'''\n",
    "lista_de_fases=np.exp(2*np.pi*1j*np.array(range(N))/N)\n",
    "#print('lista de fases =', np.round(lista_de_fases,2))\n",
    "\n",
    "\n",
    "''' Dibujamos los números complejos '''\n",
    "tQ.plot_2D_plane(fsize=(6,6))\n",
    "for vec in rho*lista_de_fases:\n",
    "    tQ.draw_vector(x=vec.real,y=vec.imag)\n",
    "\n",
    "#draw_unit_circle()\n",
    "plt.gca().add_patch(plt.Circle((0.,0.),1.,color='black',fill=False)) "
   ]
  },
  {
   "cell_type": "code",
   "execution_count": null,
   "id": "0baf1421",
   "metadata": {},
   "outputs": [],
   "source": [
    "''' Calculamos la suma. '''\n",
    "#print(lista_de_fases)\n",
    "print(np.round(sum(rho*lista_de_fases),10))"
   ]
  },
  {
   "cell_type": "markdown",
   "id": "388579fe",
   "metadata": {},
   "source": [
    "Sea  $j$ un número entero por el que <u>multiplicamos todas las fases</u>\n",
    "\n",
    "- Si  con $1\\leq j \\leq N-1$ el resultado es el mismo\n",
    "\n",
    "$$\n",
    "\\sum_{k=0}^{N-1} e^{2\\pi i jk/N} =   e^{2\\pi i\\, j0/N} +  e^{2\\pi i\\, j/N}  +~...~ +   e^{2\\pi i\\, j(N-2)/N}+   e^{2\\pi i\\, j(N-1)/N} ~=~  ~0\n",
    "$$"
   ]
  },
  {
   "cell_type": "code",
   "execution_count": null,
   "id": "927fbe25",
   "metadata": {},
   "outputs": [],
   "source": [
    "# cambiar el número N\n",
    "N=9\n",
    "rho=1\n",
    "j=5\n",
    "''' Creamos las fases'''\n",
    "lista_de_fases=np.exp(2*j*np.pi*1j*np.array(range(N))/N)\n",
    "#print('lista de fases =', np.round(lista_de_fases,2))\n",
    "\n",
    "\n",
    "''' Dibujamos los números complejos '''\n",
    "tQ.plot_2D_plane(fsize=(6,6))\n",
    "for vec in rho*lista_de_fases:\n",
    "    tQ.draw_vector(x=vec.real,y=vec.imag)\n",
    "\n",
    "#draw_unit_circle()\n",
    "plt.gca().add_patch(plt.Circle((0.,0.),1.,color='black',fill=False)) \n",
    "\n",
    "''' Calculamos la suma. '''\n",
    "#print(lista_de_fases)\n",
    "print(np.round(sum(rho*lista_de_fases),10))"
   ]
  },
  {
   "cell_type": "markdown",
   "id": "07ab6d32",
   "metadata": {},
   "source": [
    "- Sin embargo si $j = 0, N, 2N,... = 0\\,\\hbox{mod} N$, entonces la suma no se anula y su valor es igual a $N$. \n",
    "\n",
    "Tomemos por ejemplo $j=N$ \n",
    "\n",
    "$$\n",
    "\\sum_{k=0}^{N-1} e^{2\\pi i (3N) k/N} = \\sum_{k=0}^{N-1} e^{2\\pi i  k}  =  \\sum_{k=0}^{N-1} 1 =~  ~N\n",
    " $$"
   ]
  },
  {
   "cell_type": "code",
   "execution_count": null,
   "id": "6322c54d",
   "metadata": {},
   "outputs": [],
   "source": [
    "# cambiar el número N\n",
    "N=9\n",
    "rho=1\n",
    "j=N\n",
    "''' Creamos las fases'''\n",
    "lista_de_fases=np.exp(2*j*np.pi*1j*np.array(range(N))/N)\n",
    "#print('lista de fases =', np.round(lista_de_fases,2))\n",
    "\n",
    "\n",
    "''' Dibujamos los números complejos '''\n",
    "tQ.plot_2D_plane(fsize=(6,6))\n",
    "for vec in rho*lista_de_fases:\n",
    "    tQ.draw_vector(x=vec.real,y=vec.imag)\n",
    "\n",
    "#draw_unit_circle()\n",
    "plt.gca().add_patch(plt.Circle((0.,0.),1.,color='black',fill=False)) \n",
    "\n",
    "''' Calculamos la suma. '''\n",
    "#print(lista_de_fases)\n",
    "print(np.round(sum(rho*lista_de_fases),10))"
   ]
  },
  {
   "cell_type": "markdown",
   "id": "c08ce6a0",
   "metadata": {},
   "source": [
    "Una manera de resumir todos los casos anteriores en una sola expresión involucra la función  **Delta  de Kronecker**: $\\delta_{ij}$\n",
    "\n",
    "$$\n",
    "\\delta_{ij} = \\left\\{ \\begin{array}{rcl} 0 & \\hbox{si} & i\\neq 0 \\\\ 1 & \\hbox{si} & i = j \\end{array} \\right.\n",
    "$$"
   ]
  },
  {
   "cell_type": "markdown",
   "id": "c802a889",
   "metadata": {},
   "source": [
    "Con ella podemos enunciar el siguiente resultado"
   ]
  },
  {
   "cell_type": "markdown",
   "id": "c2496ef9",
   "metadata": {},
   "source": [
    ":::{card} \n",
    "**Teorema**\n",
    "\n",
    "^^^\n",
    "\n",
    "$$\n",
    "\\frac{1}{N}\\sum_{k=0}^{N-1} e^{2\\pi i \\, j k/N} =  \\delta_{j\\, 0{\\rm mod} N}\n",
    "$$\n",
    "\n",
    ":::"
   ]
  },
  {
   "cell_type": "markdown",
   "id": "97abb495",
   "metadata": {},
   "source": [
    "- Es decir, la suma es sólo 1 si $j = 0$mod N.\n",
    "\n",
    "- Esta expresión es de uso muy frecuente en algortimia pues refleja la interferencia destructiva de las superposiciones cuánticas."
   ]
  },
  {
   "cell_type": "markdown",
   "id": "e496f89a",
   "metadata": {},
   "source": [
    "### Desigualdad triangular"
   ]
  },
  {
   "cell_type": "markdown",
   "id": "592ab5ee",
   "metadata": {},
   "source": [
    "El módulo de la suma de dos números complejos verifica que\n",
    "\n",
    "$$\n",
    "| z+w| \\leq |z| + |w| \n",
    "$$\n",
    "\n",
    "Donde la igualdad sólo se verifica cuando ambos números complejos son paralelos en el plano complejo."
   ]
  },
  {
   "cell_type": "code",
   "execution_count": null,
   "id": "40d9cfde",
   "metadata": {},
   "outputs": [],
   "source": [
    "'''Comprueba que sólo cuando z1 y z2 son paralelos, se satura la desigualdad triangular'''\n",
    "\n",
    "'''Suma en cartesianas'''\n",
    "z1 = 1+2j\n",
    "\n",
    "ang = 0.3 #el ángulo entre z1 y z2\n",
    "z2 = z1*(1.2*np.exp(1j*ang))\n",
    "\n",
    "'''Suma '''\n",
    "zs = z1+z2\n",
    "\n",
    "print('|z1|+|z2|=',abs(z1)+abs(z2))\n",
    "print('|z1+z2|=',abs(z1+z2))\n",
    "\n",
    "\n",
    "tQ.plot_2D_plane(left=-2,right=4,up=7,down=-1) #cambiar las dimensiones para que encuadrar la figura\n",
    "tQ.draw_vector(z1.real,z1.imag,'b')\n",
    "tQ.draw_vector(z2.real,z2.imag,'b')\n",
    "tQ.draw_vector(zs.real,zs.imag,vcolor='r')"
   ]
  }
 ],
 "metadata": {
  "authors": [
   {
    "affiliations": [
     "IGFAE-USC"
    ],
    "corresponding": true,
    "email": "javier.mas@usc.es",
    "name": "Javier Mas",
    "orcid": "0000-0001-7008-2126"
   },
   {
    "affiliations": [
     "UMA"
    ],
    "corresponding": true,
    "email": "javier.mas@usc.es",
    "name": "David Castaño",
    "orcid": "0000-0001-7008-2126"
   }
  ],
  "github": "https://github.com/jamasole/Curso-TalentQ-Jupyterlab",
  "jupytext": {
   "text_representation": {
    "extension": ".md",
    "format_name": "myst",
    "format_version": 0.13,
    "jupytext_version": "1.15.2"
   }
  },
  "kernelspec": {
   "display_name": "Python 3 (ipykernel)",
   "language": "python",
   "name": "python3"
  },
  "license": "CC-BY-4.0",
  "math": {
   "\\C": "{\\mathbb C}",
   "\\Hil": "{\\mathcal H}",
   "\\Lin": "\\rm L",
   "\\O": "{\\mathcal O}",
   "\\R": "{\\mathbb R}",
   "\\V": "{V}",
   "\\bes": "\\begin{equation*}",
   "\\bra": "{\\langle #1|}",
   "\\braket": "{\\langle #1|#2\\rangle}",
   "\\ees": "\\end{equation*}",
   "\\i": "{i}",
   "\\ket": "{|#1\\rangle}",
   "\\ketbra": "{| #1\\rangle  \\langle #2|}",
   "\\tr": "{\\rm tr}"
  },
  "source_map": [
   46,
   52,
   56,
   73,
   77,
   81,
   85,
   92,
   96,
   101,
   107,
   111,
   116,
   131,
   135,
   145,
   150,
   154,
   158,
   162,
   166,
   170,
   179,
   185,
   190,
   194,
   198,
   218,
   227,
   231,
   251,
   255,
   269,
   282,
   292,
   303,
   318,
   334,
   338,
   353,
   365,
   369,
   402,
   412,
   425,
   442,
   451,
   468,
   476,
   494,
   523,
   531,
   557,
   576,
   589,
   596,
   610,
   618,
   626,
   636,
   644,
   658,
   667,
   684,
   688,
   701,
   725,
   729,
   739,
   760,
   770,
   791,
   799,
   803,
   816,
   822,
   826,
   836
  ],
  "subject": "Curso",
  "venue": "Quantum Spain"
 },
 "nbformat": 4,
 "nbformat_minor": 5
}