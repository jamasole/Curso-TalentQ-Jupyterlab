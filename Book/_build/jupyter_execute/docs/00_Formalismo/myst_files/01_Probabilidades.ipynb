{
 "cells": [
  {
   "cell_type": "markdown",
   "id": "fbee34a1",
   "metadata": {},
   "source": [
    "```{figure} ../thumbnails/myThumbnail.png\n",
    ":align: center\n",
    "```"
   ]
  },
  {
   "cell_type": "markdown",
   "id": "9b90a533",
   "metadata": {
    "slideshow": {
     "slide_type": "slide"
    }
   },
   "source": [
    "# Probabilidades"
   ]
  },
  {
   "cell_type": "code",
   "execution_count": 1,
   "id": "4e8b25b7",
   "metadata": {
    "slideshow": {
     "slide_type": "slide"
    }
   },
   "outputs": [
    {
     "ename": "Exception",
     "evalue": "File `'../macro_tQ.py'` not found.",
     "output_type": "error",
     "traceback": [
      "\u001b[0;31m---------------------------------------------------------------------------\u001b[0m",
      "\u001b[0;31mOSError\u001b[0m                                   Traceback (most recent call last)",
      "File \u001b[0;32m~/Programs/miniconda/miniconda3/envs/qiskit_env_0.44.0/lib/python3.10/site-packages/IPython/core/magics/execution.py:696\u001b[0m, in \u001b[0;36mExecutionMagics.run\u001b[0;34m(self, parameter_s, runner, file_finder)\u001b[0m\n\u001b[1;32m    695\u001b[0m     fpath \u001b[38;5;241m=\u001b[39m arg_lst[\u001b[38;5;241m0\u001b[39m]\n\u001b[0;32m--> 696\u001b[0m     filename \u001b[38;5;241m=\u001b[39m \u001b[43mfile_finder\u001b[49m\u001b[43m(\u001b[49m\u001b[43mfpath\u001b[49m\u001b[43m)\u001b[49m\n\u001b[1;32m    697\u001b[0m \u001b[38;5;28;01mexcept\u001b[39;00m \u001b[38;5;167;01mIndexError\u001b[39;00m \u001b[38;5;28;01mas\u001b[39;00m e:\n",
      "File \u001b[0;32m~/Programs/miniconda/miniconda3/envs/qiskit_env_0.44.0/lib/python3.10/site-packages/IPython/utils/path.py:90\u001b[0m, in \u001b[0;36mget_py_filename\u001b[0;34m(name)\u001b[0m\n\u001b[1;32m     89\u001b[0m         \u001b[38;5;28;01mreturn\u001b[39;00m py_name\n\u001b[0;32m---> 90\u001b[0m \u001b[38;5;28;01mraise\u001b[39;00m \u001b[38;5;167;01mIOError\u001b[39;00m(\u001b[38;5;124m\"\u001b[39m\u001b[38;5;124mFile `\u001b[39m\u001b[38;5;132;01m%r\u001b[39;00m\u001b[38;5;124m` not found.\u001b[39m\u001b[38;5;124m\"\u001b[39m \u001b[38;5;241m%\u001b[39m name)\n",
      "\u001b[0;31mOSError\u001b[0m: File `'../macro_tQ.py'` not found.",
      "\nThe above exception was the direct cause of the following exception:\n",
      "\u001b[0;31mException\u001b[0m                                 Traceback (most recent call last)",
      "Cell \u001b[0;32mIn[1], line 1\u001b[0m\n\u001b[0;32m----> 1\u001b[0m \u001b[43mget_ipython\u001b[49m\u001b[43m(\u001b[49m\u001b[43m)\u001b[49m\u001b[38;5;241;43m.\u001b[39;49m\u001b[43mrun_line_magic\u001b[49m\u001b[43m(\u001b[49m\u001b[38;5;124;43m'\u001b[39;49m\u001b[38;5;124;43mrun\u001b[39;49m\u001b[38;5;124;43m'\u001b[39;49m\u001b[43m,\u001b[49m\u001b[43m \u001b[49m\u001b[38;5;124;43m'\u001b[39;49m\u001b[38;5;124;43m../macro_tQ.py\u001b[39;49m\u001b[38;5;124;43m'\u001b[39;49m\u001b[43m)\u001b[49m\n\u001b[1;32m      3\u001b[0m \u001b[38;5;28;01mimport\u001b[39;00m \u001b[38;5;21;01msys\u001b[39;00m\n\u001b[1;32m      4\u001b[0m sys\u001b[38;5;241m.\u001b[39mpath\u001b[38;5;241m.\u001b[39mappend(\u001b[38;5;124m'\u001b[39m\u001b[38;5;124m../\u001b[39m\u001b[38;5;124m'\u001b[39m)\n",
      "File \u001b[0;32m~/Programs/miniconda/miniconda3/envs/qiskit_env_0.44.0/lib/python3.10/site-packages/IPython/core/interactiveshell.py:2369\u001b[0m, in \u001b[0;36mInteractiveShell.run_line_magic\u001b[0;34m(self, magic_name, line, _stack_depth)\u001b[0m\n\u001b[1;32m   2367\u001b[0m     kwargs[\u001b[38;5;124m'\u001b[39m\u001b[38;5;124mlocal_ns\u001b[39m\u001b[38;5;124m'\u001b[39m] \u001b[38;5;241m=\u001b[39m \u001b[38;5;28mself\u001b[39m\u001b[38;5;241m.\u001b[39mget_local_scope(stack_depth)\n\u001b[1;32m   2368\u001b[0m \u001b[38;5;28;01mwith\u001b[39;00m \u001b[38;5;28mself\u001b[39m\u001b[38;5;241m.\u001b[39mbuiltin_trap:\n\u001b[0;32m-> 2369\u001b[0m     result \u001b[38;5;241m=\u001b[39m \u001b[43mfn\u001b[49m\u001b[43m(\u001b[49m\u001b[38;5;241;43m*\u001b[39;49m\u001b[43margs\u001b[49m\u001b[43m,\u001b[49m\u001b[43m \u001b[49m\u001b[38;5;241;43m*\u001b[39;49m\u001b[38;5;241;43m*\u001b[39;49m\u001b[43mkwargs\u001b[49m\u001b[43m)\u001b[49m\n\u001b[1;32m   2370\u001b[0m \u001b[38;5;28;01mreturn\u001b[39;00m result\n",
      "File \u001b[0;32m~/Programs/miniconda/miniconda3/envs/qiskit_env_0.44.0/lib/python3.10/site-packages/IPython/core/magics/execution.py:707\u001b[0m, in \u001b[0;36mExecutionMagics.run\u001b[0;34m(self, parameter_s, runner, file_finder)\u001b[0m\n\u001b[1;32m    705\u001b[0m     \u001b[38;5;28;01mif\u001b[39;00m os\u001b[38;5;241m.\u001b[39mname \u001b[38;5;241m==\u001b[39m \u001b[38;5;124m'\u001b[39m\u001b[38;5;124mnt\u001b[39m\u001b[38;5;124m'\u001b[39m \u001b[38;5;129;01mand\u001b[39;00m re\u001b[38;5;241m.\u001b[39mmatch(\u001b[38;5;124mr\u001b[39m\u001b[38;5;124m\"\u001b[39m\u001b[38;5;124m^\u001b[39m\u001b[38;5;124m'\u001b[39m\u001b[38;5;124m.*\u001b[39m\u001b[38;5;124m'\u001b[39m\u001b[38;5;124m$\u001b[39m\u001b[38;5;124m\"\u001b[39m,fpath):\n\u001b[1;32m    706\u001b[0m         warn(\u001b[38;5;124m'\u001b[39m\u001b[38;5;124mFor Windows, use double quotes to wrap a filename: \u001b[39m\u001b[38;5;132;01m%r\u001b[39;00m\u001b[38;5;124mun \u001b[39m\u001b[38;5;124m\"\u001b[39m\u001b[38;5;124mmypath\u001b[39m\u001b[38;5;130;01m\\\\\u001b[39;00m\u001b[38;5;124mmyfile.py\u001b[39m\u001b[38;5;124m\"\u001b[39m\u001b[38;5;124m'\u001b[39m)\n\u001b[0;32m--> 707\u001b[0m     \u001b[38;5;28;01mraise\u001b[39;00m \u001b[38;5;167;01mException\u001b[39;00m(msg) \u001b[38;5;28;01mfrom\u001b[39;00m \u001b[38;5;21;01me\u001b[39;00m\n\u001b[1;32m    708\u001b[0m \u001b[38;5;28;01mexcept\u001b[39;00m \u001b[38;5;167;01mTypeError\u001b[39;00m:\n\u001b[1;32m    709\u001b[0m     \u001b[38;5;28;01mif\u001b[39;00m fpath \u001b[38;5;129;01min\u001b[39;00m sys\u001b[38;5;241m.\u001b[39mmeta_path:\n",
      "\u001b[0;31mException\u001b[0m: File `'../macro_tQ.py'` not found."
     ]
    }
   ],
   "source": [
    "%run ../macro_tQ.py\n",
    "\n",
    "import sys\n",
    "sys.path.append('../')\n",
    "import macro_tQ as tQ\n",
    "\n",
    "import numpy as np\n",
    "import scipy.linalg as la\n",
    "from IPython.display import display,Markdown,Latex\n",
    "import matplotlib.pyplot as plt\n",
    "from qiskit.tools.visualization import array_to_latex\n",
    "import copy "
   ]
  },
  {
   "cell_type": "markdown",
   "id": "5461a685",
   "metadata": {
    "slideshow": {
     "slide_type": "slide"
    }
   },
   "source": [
    "##  Variables aleatorias"
   ]
  },
  {
   "cell_type": "markdown",
   "id": "ef1a45bb",
   "metadata": {
    "slideshow": {
     "slide_type": "slide"
    }
   },
   "source": [
    "Denotaremos con $(X,p(X))$ una  *variable aleatoria* donde\n",
    "\n",
    "- $X$ es el espacio muestral de valores $\\{x_1, x_2,....,x_n\\}$ que pueden aparecer en una *consulta* la variable aleatoria\n",
    "<br>\n",
    "\n",
    "- $p(X)$ es la *distribución de probabilidad*"
   ]
  },
  {
   "cell_type": "markdown",
   "id": "7cd8539f",
   "metadata": {
    "slideshow": {
     "slide_type": "fragment"
    }
   },
   "source": [
    "### Distribución de probabilidad\n",
    "\n",
    "Una distribución de probabilidad es una función real $x\\to p(x)$ que debe  verificar las dos condiciones siguientes\n",
    "\n",
    "$$\n",
    "p(x) \\in [0,1]~~~~~~~,~~~~~~~~\\sum_{x\\in X }p(x) = 1 \n",
    "$$\n",
    "\n",
    "Es decir, la suma de probabilidades de todos los sucesos posibles debe ser la unidad."
   ]
  },
  {
   "cell_type": "markdown",
   "id": "edf02a0e",
   "metadata": {
    "slideshow": {
     "slide_type": "slide"
    }
   },
   "source": [
    ":::{card}\n",
    "\n",
    "**Media**\n",
    "\n",
    "^^^\n",
    "\n",
    "La *media* de una variable aleatoria  viene dada por la expresión \n",
    "\n",
    "$$\n",
    "\\overline X  = \\sum_i x_i p(x_i)\n",
    "$$\n",
    ":::"
   ]
  },
  {
   "cell_type": "markdown",
   "id": "b28e65b2",
   "metadata": {
    "slideshow": {
     "slide_type": "fragment"
    }
   },
   "source": [
    ":::{card}\n",
    "\n",
    "**Varianza**\n",
    "\n",
    "^^^\n",
    "\n",
    "La *varianza*, $\\sigma_X^2$, es la  *media de la desviación cuadrática* $\\overline{(x_i - \\overline{X} )^2}$ \n",
    "\n",
    "$$ \n",
    "\\sigma^2_X = \\sum_j (x_j-\\overline{X})^2 p(x_j) = \\overline{X^2} - \\overline{X}^2\n",
    "$$\n",
    "\n",
    "La cantidad $\\sigma_X$ se denomina  <i>desviación estándar</i>\n",
    "\n",
    "$$\n",
    "\\sigma_X = \\sqrt{\\overline{X^2} - \\overline{X}^2}\n",
    "$$\n",
    "\n",
    ":::"
   ]
  },
  {
   "cell_type": "markdown",
   "id": "67453bc0",
   "metadata": {
    "slideshow": {
     "slide_type": "slide"
    }
   },
   "source": [
    "## La conexión estadística"
   ]
  },
  {
   "cell_type": "markdown",
   "id": "57afe2ed",
   "metadata": {
    "slideshow": {
     "slide_type": "fragment"
    }
   },
   "source": [
    "Nuestro conocimiento del mundo se basa en la realización de experimentos, el resultado de los cuales es (empíricamente) aleatorio."
   ]
  },
  {
   "cell_type": "markdown",
   "id": "0e294f38",
   "metadata": {
    "slideshow": {
     "slide_type": "fragment"
    }
   },
   "source": [
    "Podemos pensar en el hecho de medir un sistema como la consulta de una variable aleatoria $(X,p(X))$ donde la distribución de probabilidad incorpora \n",
    "\n",
    "- toda la certeza asociada a una causa física (señal)\n",
    "\n",
    "- toda la incertidumbre asociada al procedimiento de medida (ruido)"
   ]
  },
  {
   "cell_type": "markdown",
   "id": "8a8600be",
   "metadata": {
    "slideshow": {
     "slide_type": "slide"
    }
   },
   "source": [
    "### Frecuencias e Histogramas"
   ]
  },
  {
   "cell_type": "markdown",
   "id": "c8cf39bb",
   "metadata": {
    "slideshow": {
     "slide_type": "fragment"
    }
   },
   "source": [
    "Cualquier consulta o medida da lugar a una *muestra* finita de valores $A_N = (a_1,a_2,...,a_N)$ donde $a_i\\in \\{x_1,...,x_n\\}$ pueden repetirse en la muestra, con números de aparición $n(x_i)$ tales que  $n(x_1) +  \\ldots + n(x_p) = N$. \n",
    "\n",
    "Estos datos se pueden agrupar en intervalos o *bins* que eliminen cierta precisión numérica. \n",
    "\n",
    "Por ejemplo, si truncamos nuestra precisión a las décimas de unidad,  $13.10$ y $13.19$ pertenecerán al mismo *bin*.\n",
    "\n",
    "Un histograma es un diagrama en el que, por cada *bin*, hay una columna, cuya altura representa el número de sucesos que pertenecen a dicho *bin*\n",
    "\n",
    "En el siguiente ejemplo, puedes ver cómo, la misma lista de datos conduce a distintos histogramas si cambias la anchura de los bins"
   ]
  },
  {
   "cell_type": "code",
   "execution_count": 2,
   "id": "5ff145ab",
   "metadata": {
    "slideshow": {
     "slide_type": "slide"
    }
   },
   "outputs": [
    {
     "data": {
      "image/png": "[encoded data removed]",
      "text/plain": [
       "<Figure size 640x480 with 1 Axes>"
      ]
     },
     "metadata": {},
     "output_type": "display_data"
    }
   ],
   "source": [
    "import numpy as np\n",
    "import matplotlib.pyplot as plt\n",
    "\n",
    "datos1 = [12.2, 15.3, 13, 12.8, 18.1, 13, 20, 19.5, 20.2, 12.1, 12.4, 13.2, 17.9, 14.1, 15, 13.4, 11.1, 14.6, 13, 17.4, 19.2]\n",
    "datos2 = np.linspace(0.,10.,20)\n",
    "datos  = datos1\n",
    "\n",
    "anchura_bins = 1.# para modificar la anchura de los bins\n",
    "num_bins = int((max(datos)-min(datos))/anchura_bins) #número de bins\n",
    "bins_list = np.linspace(min(datos), max(datos) + 1 ,num_bins) #calculamos los extremos de los intervalos\n",
    "\n",
    "\n",
    "counts, bins, ignore = plt.hist(x=datos, bins = bins_list, color='#F2AB6D', rwidth=0.85)\n",
    "plt.xlabel('Datos')\n",
    "plt.ylabel('Frecuencia')\n",
    "plt.xticks(bins_list)\n",
    "\n",
    "plt.show()"
   ]
  },
  {
   "cell_type": "markdown",
   "id": "4f93da7d",
   "metadata": {
    "slideshow": {
     "slide_type": "slide"
    }
   },
   "source": [
    "### Ley de los grandes números"
   ]
  },
  {
   "cell_type": "markdown",
   "id": "cadf8066",
   "metadata": {
    "slideshow": {
     "slide_type": "fragment"
    }
   },
   "source": [
    "Las fracciones relativas tienden en el límite $N\\to \\infty$ a la probabilidad relativa de aparición de  $x_i$ en una sola tirada\n",
    "\n",
    "$$\n",
    "f_N(x_i) = \\frac{n(x_i)}{N}~~~\\stackrel{N\\to\\infty}{\\longrightarrow}~~~{p(x_i)}\n",
    "$$"
   ]
  },
  {
   "cell_type": "markdown",
   "id": "de7fc7c3",
   "metadata": {
    "slideshow": {
     "slide_type": "fragment"
    }
   },
   "source": [
    "Experimentalmente sólo tenemos acceso a las frecuencias relativas $f_N(x_i)$ para un $N$ grande aunque finito."
   ]
  },
  {
   "cell_type": "markdown",
   "id": "13ef18d9",
   "metadata": {
    "slideshow": {
     "slide_type": "slide"
    }
   },
   "source": [
    "Igualmente, nuestro conocimiento de la  media $\\overline X$  y la varianza $\\sigma_X^2$ siempre es aproximado, y se realiza a través de las medias y varianzas muestrales\n",
    "\n",
    "\\begin{eqnarray}\n",
    "\\overline{A}_N = \\sum_i x_i f_N(x_i)~~~&\\stackrel{N\\to\\infty}{\\longrightarrow}&~~~ \\overline{X}\\\\\n",
    "\\sigma_{A_N}^2 = \\sum_{i} (x_i - \\overline{A}_N)^2 f_N(x_i) ~~~&\\stackrel{N\\to\\infty}{\\longrightarrow}&~~~ \\sigma_X^2\n",
    "\\end{eqnarray}"
   ]
  },
  {
   "cell_type": "markdown",
   "id": "67801ee9",
   "metadata": {},
   "source": [
    "##  Alguna distribuciones importantes"
   ]
  },
  {
   "cell_type": "markdown",
   "id": "e635c850",
   "metadata": {
    "slideshow": {
     "slide_type": "slide"
    }
   },
   "source": [
    "### La distribución de Bernouilli"
   ]
  },
  {
   "cell_type": "markdown",
   "id": "54219b3b",
   "metadata": {
    "slideshow": {
     "slide_type": "fragment"
    }
   },
   "source": [
    "Una variable aleatoria de Bernouilli $X=(x,p(x))$ tiene dos posibles resultados\n",
    "\n",
    "   - *éxito* $\\to x=1$ con probabilidad $p(1) = p$\n",
    "   \n",
    "            \n",
    "   - *fracaso* $\\to x=0$ con probabilidad $p(0) = 1-p$"
   ]
  },
  {
   "cell_type": "markdown",
   "id": "599ba516",
   "metadata": {
    "slideshow": {
     "slide_type": "fragment"
    }
   },
   "source": [
    "Podemos calcular fácilmente \n",
    "\n",
    "\\begin{eqnarray}\n",
    "\\overline X &=& \\sum_i x_i p_i =1 \\cdot p + 0\\cdot (1-p) = p\\\\\n",
    "\\sigma^2 &=& \\sum_i (x-\\overline X )^2p_i = (1-p)^2 p +(0-p)^2(1-p) = p(1-p)\n",
    "\\end{eqnarray}"
   ]
  },
  {
   "cell_type": "markdown",
   "id": "22409ba2",
   "metadata": {
    "slideshow": {
     "slide_type": "slide"
    }
   },
   "source": [
    "### Distribución binomial"
   ]
  },
  {
   "cell_type": "markdown",
   "id": "11c61e6d",
   "metadata": {
    "slideshow": {
     "slide_type": "fragment"
    }
   },
   "source": [
    "La variable aleatoria binomial $X = (x,p(x))$ se define como\n",
    "\n",
    "$$\n",
    "x = \\hbox{número de $éxitos$ obtenidos en $n$ pruebas de Bernouilli sucesivas }\n",
    "$$\n",
    "\n",
    "Claramente $x \\in (0,1,2,...n)$.\n",
    "\n",
    "Ahora es muy sencillo obtener la probabilidad de un suceso con $x$ éxitos\n",
    "\n",
    "$$\n",
    "p(x) = \\begin{pmatrix}n\\\\ x\\end{pmatrix} p^x (1-p)^{n-x}\n",
    "$$\n",
    "\n",
    "donde el primer factor tiene en cuenta las posibles ordenaciones en que aparecen $x$ éxitos en $n$ intentos."
   ]
  },
  {
   "cell_type": "markdown",
   "id": "89284510",
   "metadata": {
    "slideshow": {
     "slide_type": "slide"
    }
   },
   "source": [
    "Un cálculo un poco más largo permite ver que, ahora\n",
    "\n",
    "\\begin{eqnarray}\n",
    "\\overline X &=&  np\\\\ \\rule{0mm}{7mm}\n",
    "\\sigma^2 &=& n p(1-p)\n",
    "\\end{eqnarray}"
   ]
  },
  {
   "cell_type": "markdown",
   "id": "34fa9128",
   "metadata": {
    "slideshow": {
     "slide_type": "slide"
    }
   },
   "source": [
    "### La distribución normal"
   ]
  },
  {
   "cell_type": "markdown",
   "id": "20171db4",
   "metadata": {
    "slideshow": {
     "slide_type": "fragment"
    }
   },
   "source": [
    "Vamos a estudiar la distribución normal centrada en $\\mu$ y con anchura $\\sigma$\n",
    "<br>\n",
    "<br>\n",
    "$$\n",
    "p(x) = \\frac{1}{\\sqrt{2\\pi}\\sigma} \\exp \\left({-\\frac{(x-\\mu)^2}{2\\sigma^2}}\\right)\n",
    "$$"
   ]
  },
  {
   "cell_type": "markdown",
   "id": "d63a83a1",
   "metadata": {
    "slideshow": {
     "slide_type": "fragment"
    }
   },
   "source": [
    "Nos encontramos ante una variable aleatoria con un espacio muestral continuo $x\\in (-\\infty,+\\infty)$.\n",
    "\n",
    "\\begin{eqnarray}\n",
    "\\overline{X} &=& \\int_{-\\infty}^{+\\infty} xp(x) dx = \\mu \\\\\n",
    "\\overline{(x-\\overline X)^2} &=& \\int_{-\\infty}^{+\\infty} (x-\\mu)^2 p(x)dx =\\sigma^2\n",
    "\\end{eqnarray}"
   ]
  },
  {
   "cell_type": "code",
   "execution_count": 3,
   "id": "8563e0b2",
   "metadata": {
    "slideshow": {
     "slide_type": "slide"
    }
   },
   "outputs": [],
   "source": [
    "'generamos una instancia de la distribución normal'\n",
    "mu, sigma = 0, 0.1 \n",
    "N = 10000\n",
    "s = np.random.normal(mu, sigma, N)"
   ]
  },
  {
   "cell_type": "code",
   "execution_count": 4,
   "id": "f010b191",
   "metadata": {
    "slideshow": {
     "slide_type": "fragment"
    }
   },
   "outputs": [
    {
     "data": {
      "image/png": "[encoded data removed]",
      "text/plain": [
       "<Figure size 640x480 with 1 Axes>"
      ]
     },
     "metadata": {},
     "output_type": "display_data"
    }
   ],
   "source": [
    "import matplotlib.pyplot as plt\n",
    "\n",
    "\n",
    "'generamos una instancia de histograma con un número de bins'\n",
    "num_bins=100\n",
    "counts, bins, ignore = plt.hist(s, num_bins, density=True)\n",
    "'extraemos los bins para hacer el plot de la funcion analítica'\n",
    "\n",
    "\n",
    "'dibujamos la función analítica para comparar'\n",
    "def gaussian(x,mu,sigma):\n",
    "    return 1/(sigma * np.sqrt(2 * np.pi))*np.exp( - (x - mu)**2 / (2 * sigma**2) )\n",
    "    \n",
    "plt.plot(bins, gaussian(bins,mu,sigma),linewidth=2, color='r')\n",
    "\n",
    "plt.show()"
   ]
  },
  {
   "cell_type": "markdown",
   "id": "2d06ece9",
   "metadata": {},
   "source": [
    "En el límite de número de eventos $N\\to \\infty$, el histograma y la curva matemática confluyen."
   ]
  },
  {
   "cell_type": "markdown",
   "id": "d6ea9a2d",
   "metadata": {
    "slideshow": {
     "slide_type": "slide"
    }
   },
   "source": [
    "##  Probabilidades combinadas"
   ]
  },
  {
   "cell_type": "markdown",
   "id": "b7e54330",
   "metadata": {
    "slideshow": {
     "slide_type": "fragment"
    }
   },
   "source": [
    "Las probabilidades combinadas son la base del estudio de *las correlaciones*. Es aquí donde la Mecánica Cuántica produce resultados inesperados clásicamente, como son la *violación de las desigualdades de Bell*.\n",
    "\n",
    "Ahora vamos a examinar variables aleatorias formadas por dos espacios muestrales $X$ e $Y$. Dependiendo de la forma en que efectuemos la observación de cada una tendremos distintas distribuciones de probabilidad."
   ]
  },
  {
   "cell_type": "markdown",
   "id": "c28e67ee",
   "metadata": {
    "slideshow": {
     "slide_type": "fragment"
    }
   },
   "source": [
    "### Probabilidad Combinada"
   ]
  },
  {
   "cell_type": "markdown",
   "id": "9e04fa40",
   "metadata": {
    "slideshow": {
     "slide_type": "fragment"
    }
   },
   "source": [
    "La  **probabilidad combinada** $p(X,Y)$ asocia un número $p(x,y)$ a la probabilidad de **observación conjunta** de $x$ **e** $y$.\n",
    "\n",
    "Hay que tratar las parejas de eventos  como un solo evento  $a = (x,y)$. Por eso, la condición de normalización ahora es \n",
    "\n",
    "$$\n",
    "\\sum_a p(a) = \\sum_{xy} p(x,y) = 1\\, .\n",
    "$$"
   ]
  },
  {
   "cell_type": "markdown",
   "id": "6ab1c1dc",
   "metadata": {
    "slideshow": {
     "slide_type": "slide"
    }
   },
   "source": [
    "**Distribución Marginal**\n",
    "\n",
    "La probabilidad combinada contiene la máxima información. Si sólo efectuamos medidas en una de las dos variables muestrales, $X$ o $Y$, la probabilidad debe ser recuperable. En efecto, la suma parcial sobre una de las dos variables conduce a sendas **distribuciones marginales**. \n",
    "\n",
    "$$\n",
    "q(x) = \\sum_{y} p(x,y) ~~~~~~~~~ \\tilde q(y) = \\sum_{x} p(x,y)\n",
    "$$"
   ]
  },
  {
   "cell_type": "markdown",
   "id": "ecc2deb8",
   "metadata": {
    "slideshow": {
     "slide_type": "fragment"
    }
   },
   "source": [
    "**Variables independientes**\n",
    "\n",
    " Si la probabilidad combinada es el producto de las probabilidades de los miembros del par, decimos que $X$ e $Y$ son *variables aleatorias independientes*. \n",
    "\n",
    "$$\n",
    "p(x,y) = p(x) p(y)\n",
    "$$"
   ]
  },
  {
   "cell_type": "markdown",
   "id": "962b3b51",
   "metadata": {},
   "source": [
    "Consistentemente, la distribución marginal recupera cada uno de los factores \n",
    "\n",
    "$$\n",
    "\\sum_y p(x,y) = p(x)~~~~,~~~~\\sum_x p(x,y) = p(y)\n",
    "$$"
   ]
  },
  {
   "cell_type": "markdown",
   "id": "33a810ed",
   "metadata": {
    "slideshow": {
     "slide_type": "slide"
    }
   },
   "source": [
    "### Probabilidad condicionada"
   ]
  },
  {
   "cell_type": "markdown",
   "id": "bf7c0e46",
   "metadata": {
    "slideshow": {
     "slide_type": "fragment"
    }
   },
   "source": [
    "La distribución de **probabilidad condicionada** $p(X|Y)$ asigna un número $p(x|y)$ a la probabilidad  de encontrar un suceso $X=x$ una vez *sabemos* que $Y=y$ <u>ha sido el resultado de consultar $Y$</u>"
   ]
  },
  {
   "cell_type": "markdown",
   "id": "a9e24f46",
   "metadata": {
    "slideshow": {
     "slide_type": "fragment"
    }
   },
   "source": [
    "La manera de acceder experimentalmente a estas distribuciones, es efectuar un muestreo $(a_i,b_i), i=1,...,N$ de valores de $(X,Y)$ y *seleccionar* sólo aquellos sucesos donde $b_i = y$ un valor concreto de $Y$."
   ]
  },
  {
   "cell_type": "markdown",
   "id": "389c0ff4",
   "metadata": {
    "slideshow": {
     "slide_type": "slide"
    }
   },
   "source": [
    "#### Teorema de Bayes\n",
    "\n",
    "Las probabilidades *condicionales* y *combinadas* no son independientes. Se relacionan de la forma siguiente\n",
    "\n",
    "$$\n",
    "p(x,y)   = p(x|y)p(y) \n",
    "$$\n",
    "\n",
    "\n",
    "La elección de la variable $X$ o $Y$ es simétrica. Por lo tanto, el mismo resultado debe darse para\n",
    "\n",
    "$$\n",
    "p(x,y)   =  p(y|x) p(x) \n",
    "$$\n",
    "\n",
    "Despejando de los segundos miembrosobtenemos el Teorema de Bayes\n",
    "\n",
    ":::{card} \n",
    "\n",
    "**Teorema** *(de Bayes)*\n",
    "\n",
    "^^^\n",
    "\n",
    "$$\n",
    "p(x|y) = p(y|x) \\frac{p(x)}{p(y)}\n",
    "$$\n",
    ":::"
   ]
  }
 ],
 "metadata": {
  "authors": [
   {
    "affiliations": [
     "IGFAE-USC"
    ],
    "corresponding": true,
    "email": "javier.mas@usc.es",
    "name": "Javier Mas",
    "orcid": "0000-0001-7008-2126"
   },
   {
    "affiliations": [
     "UMA"
    ],
    "corresponding": true,
    "email": "david.castano@uma.es",
    "name": "David Castaño",
    "orcid": "0000-0001-7008-2126"
   }
  ],
  "github": "https://github.com/jamasole/Curso-TalentQ-Jupyterlab",
  "jupytext": {
   "text_representation": {
    "extension": ".md",
    "format_name": "myst",
    "format_version": 0.13,
    "jupytext_version": "1.15.2"
   }
  },
  "kernelspec": {
   "display_name": "Python 3 (ipykernel)",
   "language": "python",
   "name": "python3"
  },
  "language_info": {
   "codemirror_mode": {
    "name": "ipython",
    "version": 3
   },
   "file_extension": ".py",
   "mimetype": "text/x-python",
   "name": "python",
   "nbconvert_exporter": "python",
   "pygments_lexer": "ipython3",
   "version": "3.10.13"
  },
  "license": "CC-BY-4.0",
  "math": {
   "\\C": "{\\mathbb C}",
   "\\Hil": "{\\mathcal H}",
   "\\Lin": "\\rm L",
   "\\O": "{\\mathcal O}",
   "\\R": "{\\mathbb R}",
   "\\V": "{\\cal V}",
   "\\bes": "\\begin{equation*}",
   "\\braa": "{\\langle #1|}",
   "\\braket": "{\\langle #1|#2\\rangle}",
   "\\ees": "\\end{equation*}",
   "\\i": "{\\color{blue} i}",
   "\\ket": "{|#1\\rangle}",
   "\\ketbra": "{|#1\\rangle\\langle #2|}",
   "\\tr": "{\\rm tr}"
  },
  "source_map": [
   46,
   52,
   56,
   75,
   79,
   88,
   100,
   115,
   137,
   141,
   145,
   153,
   157,
   169,
   194,
   198,
   206,
   210,
   219,
   223,
   227,
   237,
   246,
   250,
   269,
   278,
   283,
   292,
   301,
   312,
   333,
   337,
   341,
   347,
   351,
   361,
   371,
   382,
   390,
   394,
   398,
   402
  ],
  "subject": "Curso",
  "venue": "Quantum Spain"
 },
 "nbformat": 4,
 "nbformat_minor": 5
}