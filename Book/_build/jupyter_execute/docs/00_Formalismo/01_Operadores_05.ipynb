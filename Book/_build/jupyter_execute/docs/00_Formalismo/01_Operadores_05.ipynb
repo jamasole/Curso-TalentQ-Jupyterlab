{
 "cells": [
  {
   "cell_type": "markdown",
   "id": "5cb046c7",
   "metadata": {
    "slideshow": {
     "slide_type": "slide"
    }
   },
   "source": [
    "---\n",
    "license: CC-BY-4.0\n",
    "github: https://github.com/jamasole/Curso-TalentQ-Jupyterlab\n",
    "subject: Curso\n",
    "venue: Quantum Spain\n",
    "authors:\n",
    "  - name: Javier Mas\n",
    "    email: javier.mas@usc.es\n",
    "    corresponding: true\n",
    "    orcid: 0000-0001-7008-2126\n",
    "    affiliations:\n",
    "      - IGFAE-USC\n",
    "  - name: David Castaño\n",
    "    email: david.castano@uma.es\n",
    "    corresponding: true\n",
    "    orcid: 0000-0001-7008-2126\n",
    "    affiliations:\n",
    "      - UMA\n",
    "math:   \n",
    "    '\\i': '{i}'\n",
    "    '\\bes': '\\begin{equation*}'\n",
    "    '\\ees': '\\end{equation*}'\n",
    "    '\\O': '{\\mathcal O}'\n",
    "    '\\Lin': '\\rm L'\n",
    "    '\\Hil': '{\\mathcal H}'\n",
    "    '\\braa': '{\\langle #1|}'\n",
    "    '\\ket': '{|#1\\rangle}'\n",
    "    '\\braket': '{\\langle #1|#2\\rangle}'\n",
    "    '\\ketbra': '{|#1\\rangle\\langle #2|}'\n",
    "    '\\tr': '{\\rm tr}'\n",
    "    '\\R': '{\\mathbb R}' \n",
    "    '\\C': '{\\mathbb C}'\n",
    "    '\\V': '{V}'\n",
    "---"
   ]
  },
  {
   "cell_type": "markdown",
   "id": "473db2d0-c360-4cc5-8375-746888d17e83",
   "metadata": {},
   "source": [
    "```{figure} ../thumbnails/myThumbnail.png\n",
    ":align: center\n",
    "```"
   ]
  },
  {
   "cell_type": "markdown",
   "id": "82cdf99f",
   "metadata": {
    "slideshow": {
     "slide_type": "skip"
    }
   },
   "source": [
    "## Traza de un operador"
   ]
  },
  {
   "cell_type": "markdown",
   "id": "8163c9fc-ab66-4eab-a13a-818444ba629d",
   "metadata": {},
   "source": [
    "```{contents}\n",
    ":local:\n",
    ":depth: 2\n",
    "```"
   ]
  },
  {
   "cell_type": "code",
   "execution_count": 2,
   "id": "c7bd5d4c",
   "metadata": {
    "slideshow": {
     "slide_type": "-"
    }
   },
   "outputs": [],
   "source": [
    "import sys\n",
    "sys.path.append('../')\n",
    "import macro_tQ as tQ\n",
    "\n",
    "import numpy as np\n",
    "import scipy.linalg as la\n",
    "from IPython.display import display,Markdown,Latex\n",
    "import matplotlib.pyplot as plt\n",
    "from qiskit.tools.visualization import array_to_latex"
   ]
  },
  {
   "cell_type": "markdown",
   "id": "9ff182b3",
   "metadata": {
    "slideshow": {
     "slide_type": "slide"
    }
   },
   "source": [
    "### Definición de traza de un operador\n",
    "\n",
    "><b> Definición:</b> la traza de un operador $A$ se define como la suma de elementos diagonales de su matriz\n",
    "<br>\n",
    "<br>    \n",
    "$$\n",
    "\\tr A = \\sum_ i \\bra{e_i} A\\ket{e_i} =  \\sum_{i} A_{ii} \n",
    "$$\n",
    "<br>\n",
    "de sus elementos de matriz diagonales <u> en cualquier base </u>        \n",
    "\n"
   ]
  },
  {
   "cell_type": "markdown",
   "id": "15c0026e",
   "metadata": {
    "slideshow": {
     "slide_type": "slide"
    }
   },
   "source": [
    "Para ser consistente esta definición es necesario probar que se puede calcular en cualquier base\n",
    "\n",
    "><b> Lema:</b> la traza de un operador es <i>independiente de la base</i> en la que se calcule\n",
    "</div>  \n",
    "\n",
    "<details>\n",
    "<summary> >> <i>Prueba</i> </summary>\n",
    "\\begin{eqnarray} Sean $\\{\\ket{i}\\}$ y $\\{\\ket{\\tilde i}\\}$ dos bases cualesquiera. Entonces\n",
    "{\\rm tr} A  &=&\\sum_i A_{ii} =\\sum_{i} \\bra{i}A\\ket{i} =\\sum_{i} \\bra{i}A\\left( \\sum_j\\ketbra{\\tilde j}{\\tilde j}\\right)\\ket{i}\n",
    "\\nonumber\\\\\n",
    "&=& \\sum_{ij}\\bra{i}A\\ket{\\tilde j} \\braket{\\tilde j}{i} = \\sum_{ij}\\braket{\\tilde j}{i}\\bra{i}A\\ket{\\tilde j}  \\nonumber\\\\\n",
    "&=& \\sum_{j} \\bra{\\tilde j}\\left(\\sum_i\\ketbra{i}{i}\\right) A \\ket{\\tilde j}= \\sum_{j} \\bra{\\tilde j}A\\ket{\\tilde j}\\nonumber\\\\\n",
    "&=& \\sum_j \\tilde A_{jj}\n",
    "\\end{eqnarray}\n",
    "</details>"
   ]
  },
  {
   "cell_type": "markdown",
   "id": "dcc64d79",
   "metadata": {
    "slideshow": {
     "slide_type": "slide"
    }
   },
   "source": [
    "- Si $A$ es diagonalizable, la traza es la suma de sus autovalores. En efecto, si $\\ket{\\lambda_i}$ es la base de autoestados \n",
    "<br>\n",
    "<br>\n",
    "$$\n",
    "A\\ket{\\lambda_j} = \\lambda_i \\ket{\\lambda_i}\n",
    "$$ \n",
    "<br>\n",
    "entonces\n",
    "<br>\n",
    "$$\n",
    "{\\rm tr} A = \\sum_i \\bra{\\lambda_i}A\\ket{\\lambda_i} = \\sum_i \\lambda_i\n",
    "$$\n"
   ]
  },
  {
   "cell_type": "markdown",
   "id": "1b440807",
   "metadata": {
    "slideshow": {
     "slide_type": "skip"
    }
   },
   "source": [
    "- La traza es una operación *lineal*\n",
    "<br>\n",
    "<br>\n",
    "$$\n",
    "{\\rm tr} (A + B ) = {\\rm tr}A + {\\rm tr}B\n",
    "$$"
   ]
  },
  {
   "cell_type": "markdown",
   "id": "e30a9a1c",
   "metadata": {
    "slideshow": {
     "slide_type": "slide"
    }
   },
   "source": [
    "- La traza de un producto de operadores tiene la propiedad de *cíclicidad*: es invariante bajo permutaciones  cíclicas de los operadores en su argumento. Por ejemplo, para tres operadores $A, B$ y $C$\n",
    "<br>\n",
    "$$\n",
    "{\\rm tr}(ABC)= {\\rm tr}(BCA) \n",
    "$$\n",
    "\n",
    "<details>\n",
    "<summary> >> <i>Prueba</i> </summary>\n",
    "\\begin{eqnarray} \n",
    "    {\\rm tr}(ABC)&=&\\sum_i (ABC)_{ii} =  \\sum_{ijk} A_{ij}B_{jk}C_{ki}\\\\\n",
    "    &=& \\sum_{ijk} B_{jk}C_{ki}A_{ij} = \\sum_j (BCA)_{jj}\\\\\n",
    "    &=&  {\\rm tr}(BCA)\n",
    "\\end{eqnarray}\n",
    "</details>\n",
    "\n",
    "Para un producto de dos operadores, el anterior resultado implica que la *traza de un conmutador es cero*. Dicho de otra forma\n",
    "\n",
    "$$\n",
    "{\\rm tr}(AB) = {\\rm tr}(BA) ~~~\\Rightarrow ~~~~{\\rm tr}([A,B]) = 0 \\, .\n",
    "$$"
   ]
  },
  {
   "cell_type": "markdown",
   "id": "39e4274a",
   "metadata": {
    "slideshow": {
     "slide_type": "fragment"
    }
   },
   "source": [
    "- Sea el operador *producto externo* de dos vectores $A = \\ketbra{u}{v}$. Entonces \n",
    "\n",
    "$$\n",
    "\\tr \\left(\\rule{0mm}{5mm}\\ketbra{u}{v}\\right)  = \\braket{v}{u}\n",
    "$$\n",
    "\n",
    "\n",
    "<details>\n",
    "<summary> >> <i>Prueba</i> </summary>\n",
    "$$ \\tr \\left(\\rule{0mm}{5mm}\\ketbra{u}{v}\\right) = \\sum_i \\braket{e_i}{u}\\braket{v}{e_i} = \\bra{v}\\left(\\sum_i \\ketbra{e_i}{e_i}\\right) \\ket{u} = \\braket{v}{u}\n",
    "$$\n",
    "</details>   "
   ]
  },
  {
   "cell_type": "markdown",
   "id": "c965dc48",
   "metadata": {
    "slideshow": {
     "slide_type": "slide"
    }
   },
   "source": [
    "### $\\Lin(\\Hil)$ como un espacio de Hilbert"
   ]
  },
  {
   "cell_type": "markdown",
   "id": "f187a4a7",
   "metadata": {
    "slideshow": {
     "slide_type": "-"
    }
   },
   "source": [
    "Para transformar $\\Lin(\\Hil)$ en un espacio de Hilbert sólo es necesario definir un *producto escalar hermítico* entre dos elementos \n",
    "\n",
    "><b> Definición: </b> <i> (producto escalar) </i> \n",
    "<br>     \n",
    "dados dos operadores lineales,  $A, B \\in \\Lin(\\Hil)$  definimos su <i> producto escalar </i>  $( A, B)\\in {\\mathbb C}$\n",
    "<br> \n",
    "<br>\n",
    "$$\n",
    "( A, B) \\equiv {\\rm tr}\\left( A^\\dagger B \\right) \n",
    "$$\n"
   ]
  },
  {
   "cell_type": "markdown",
   "id": "e752a88a",
   "metadata": {
    "slideshow": {
     "slide_type": "skip"
    }
   },
   "source": [
    "En una base tenemos que\n",
    "\n",
    "$$\n",
    "(A,B) = \\sum_{ij} A^\\dagger_{ij} B_{ji} = \\sum_{ij} A^*_{ji} B_{ji}\n",
    "$$\n",
    "\n",
    "mientras que \n",
    "\n",
    "$$\n",
    "(B,A) = \\sum_{ij} B^\\dagger_{ij} A_{ji} = \\sum_{ij} B^*_{ji} A_{ji}\n",
    "$$\n",
    "\n",
    "Se sigue que  $(B,A) = (A,B)^*$. Además es trivial comprobar que  $(A,B+C) = (A,B) + (A,C)$, por lo que se trata de un *producto escalar hermítico*"
   ]
  },
  {
   "cell_type": "markdown",
   "id": "42e0609a",
   "metadata": {
    "slideshow": {
     "slide_type": "slide"
    }
   },
   "source": [
    "### $\\Lin(\\Hil)$ como un espacio normado"
   ]
  },
  {
   "cell_type": "markdown",
   "id": "3ef94ae8",
   "metadata": {},
   "source": [
    "Una **norma** definida sobre $\\Lin(\\Hil)  $es un una función real $ A\\to  \\| A\\| \\in {\\mathbb R}$ con las propiedades \n",
    "que se han definido en una [sección anterior](../00_Formalismo/01_Vectores.ipynb#norm)"
   ]
  },
  {
   "cell_type": "markdown",
   "id": "7efe3b8f",
   "metadata": {},
   "source": [
    "><b> Definición: </b> <i> ($p$-norma Shatten) </i> : dado un operador $A\\in \\Lin(\\Hil)$ la función  \n",
    "<br> \n",
    "$$\n",
    "\\| A \\|_p =  \\left({\\rm tr} \\left(A^\\dagger A\\right)^{p/2} \\right)^{1/p}\n",
    "$$\n",
    "define una norma, denominada <b>$p$-norma de Shatten</b>.\n",
    "\n"
   ]
  },
  {
   "cell_type": "markdown",
   "id": "66c8e2bf",
   "metadata": {
    "slideshow": {
     "slide_type": "skip"
    }
   },
   "source": [
    " Ya hemos mencionado que el operador $A^\\dagger A$ es un operador con propiedades importantes cuyos autovalores son los cuadrados de los valores principales $\\lambda_i = \\sigma_i^2$. Es decir, en la base diagonal\n",
    " $$\n",
    " A^\\dagger A = \\begin{pmatrix} \\sigma_1^2 & & & & &  \\\\ & \\ddots & & & \\\\ & & \\sigma_r^2 & & & \\\\ & & & 0 & &\\\\ & & & & \\ddots & \\\\ & & & & & 0 \\end{pmatrix}\n",
    " $$"
   ]
  },
  {
   "cell_type": "markdown",
   "id": "2b0302cf",
   "metadata": {
    "slideshow": {
     "slide_type": "-"
    }
   },
   "source": [
    "Los tres casos más frecuentes son\n",
    "\n",
    "- $p=1$ **norma de la traza** $~\\Rightarrow ~  \\| A \\|_1 =  {\\rm tr} \\sqrt{A^\\dagger A}$\n",
    "<br>\n",
    "\n",
    "\n",
    "Esta norma es igual a la suma de los valores singulares de $A ~\\Rightarrow ~\\| A \\|_1  = \\sum_i^r \\sigma_i$"
   ]
  },
  {
   "cell_type": "markdown",
   "id": "28893f6b",
   "metadata": {},
   "source": [
    "\n",
    "- $p=2$ **norma de Frobenius** $~\\Rightarrow ~ \\| A \\|_2 =  \\sqrt{{ \\rm tr} A^\\dagger A }$\n",
    "<br>\n",
    "\n",
    "La norma de Frobenius es la que se obtiene a partir  del producto escalar $\\|A\\|_2 = (A,A)$"
   ]
  },
  {
   "cell_type": "markdown",
   "id": "c8b6403c",
   "metadata": {},
   "source": [
    "\n",
    "- $p=\\infty$ **norma espectral** $~\\Rightarrow ~  \\| A \\|_\\infty = \\lim_{p\\to \\infty} \\| A \\|_p$\n",
    "\n",
    "Puede demostrarse que la norma espectral es equivalente a la siguiente definición\n",
    "\n",
    "$$\n",
    "\\|A\\|_\\infty = \\hbox{max}_{\\ket{u}\\in \\Hil}\\{ \\|A\\ket{u}\\| ~~\\hbox{con} ~ \\|\\ket{u}\\| = 1\\}\n",
    "$$\n"
   ]
  },
  {
   "cell_type": "markdown",
   "id": "a467968b",
   "metadata": {},
   "source": [
    "><b>Ejercicio:</b>$~$*(explícaselo a tu ordenador)*\n",
    "<br>\n",
    "Escribe una función en python, $trace\\_norm(A_{ij})$, que calcule la norma de la traza de un operador $A$ dado por una matriz $A_{ij}$.\n",
    "</div>"
   ]
  },
  {
   "cell_type": "markdown",
   "id": "a4cf1c06",
   "metadata": {
    "slideshow": {
     "slide_type": "slide"
    }
   },
   "source": [
    "### Distancia de traza"
   ]
  },
  {
   "cell_type": "markdown",
   "id": "40aeb16e",
   "metadata": {
    "slideshow": {
     "slide_type": "skip"
    }
   },
   "source": [
    "Cualquier norma permite definir una noción de *distancia* o *diferencia* entre dos operadores. "
   ]
  },
  {
   "cell_type": "markdown",
   "id": "e01a7bad",
   "metadata": {
    "slideshow": {
     "slide_type": "-"
    }
   },
   "source": [
    "><b> Definición: </b> <i> (Distancia de traza) </i> \n",
    "<br>     \n",
    "Se define la  <b> distancia de traza</b> entre dos operadores $A$ y $B$ como la <i>norma del operador diferencia</i>\n",
    "<br> \n",
    "<br>\n",
    "$$\n",
    "d(A,B) = \\| A - B \\|_1 \n",
    "$$\n",
    "</div>\n"
   ]
  },
  {
   "cell_type": "markdown",
   "id": "51ef8d75",
   "metadata": {
    "slideshow": {
     "slide_type": "skip"
    }
   },
   "source": [
    "## Funciones de Operadores"
   ]
  },
  {
   "cell_type": "markdown",
   "id": "aa9d95a8",
   "metadata": {
    "slideshow": {
     "slide_type": "skip"
    }
   },
   "source": [
    "### Funciones analíticas de operadores\n",
    "\n",
    "Estamos acostumbrados a escribir funciones *de una variable real o compleja*. Por ejemplo $f(x)= x^2$, ó, $ f(z) = e^z$. \n",
    "\n",
    "Querríamos dar sentido a una función *de un operador* \n",
    "$\n",
    "A \\to f(A)\n",
    "$"
   ]
  },
  {
   "cell_type": "markdown",
   "id": "4e00bc7d",
   "metadata": {
    "slideshow": {
     "slide_type": "skip"
    }
   },
   "source": [
    "En el caso de que $f(z)$ sea una función analítica expresable como una serie de Taylor en torno a $x=0$ \n",
    "\n",
    "$$\n",
    "f(z) = \\sum_{n=0}^\\infty \\frac{1}{n!} f^{(n)}(0)\\,  z^n\n",
    "$$\n",
    "\n",
    "tomaremos como **definición** la *misma serie* cambiando el argumento $x\\to A$\n",
    "\n",
    "$$\n",
    "</div>\n"
   ]
  }
 ],
 "metadata": {
  "celltoolbar": "Slideshow",
  "kernelspec": {
   "display_name": "Python 3 (ipykernel)",
   "language": "python",
   "name": "python3"
  },
  "language_info": {
   "codemirror_mode": {
    "name": "ipython",
    "version": 3
   },
   "file_extension": ".py",
   "mimetype": "text/x-python",
   "name": "python",
   "nbconvert_exporter": "python",
   "pygments_lexer": "ipython3",
   "version": "3.10.13"
  },
  "toc": {
   "base_numbering": 1,
   "nav_menu": {},
   "number_sections": true,
   "sideBar": true,
   "skip_h1_title": false,
   "title_cell": "Table of Contents",
   "title_sidebar": "Contents",
   "toc_cell": false,
   "toc_position": {},
   "toc_section_display": true,
   "toc_window_display": false
  },
  "varInspector": {
   "cols": {
    "lenName": 16,
    "lenType": 16,
    "lenVar": 40
   },
   "kernels_config": {
    "python": {
     "delete_cmd_postfix": "",
     "delete_cmd_prefix": "del ",
     "library": "var_list.py",
     "varRefreshCmd": "print(var_dic_list())"
    },
    "r": {
     "delete_cmd_postfix": ") ",
     "delete_cmd_prefix": "rm(",
     "library": "var_list.r",
     "varRefreshCmd": "cat(var_dic_list()) "
    }
   },
   "types_to_exclude": [
    "module",
    "function",
    "builtin_function_or_method",
    "instance",
    "_Feature"
   ],
   "window_display": false
  }
 },
 "nbformat": 4,
 "nbformat_minor": 5
}