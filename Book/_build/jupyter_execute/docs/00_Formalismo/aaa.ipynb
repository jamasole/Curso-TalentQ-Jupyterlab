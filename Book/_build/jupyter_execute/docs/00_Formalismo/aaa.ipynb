{
 "cells": [
  {
   "cell_type": "markdown",
   "id": "5cb046c7",
   "metadata": {
    "slideshow": {
     "slide_type": "slide"
    }
   },
   "source": [
    "---\n",
    "title: Operadores\n",
    "license: CC-BY-4.0\n",
    "github: https://github.com/jamasole/Curso-TalentQ-Jupyterlab\n",
    "subject: Curso\n",
    "venue: Quantum Spain\n",
    "authors:\n",
    "  - name: Javier Mas\n",
    "    email: javier.mas@usc.es\n",
    "    corresponding: true\n",
    "    orcid: 0000-0001-7008-2126\n",
    "    affiliations:\n",
    "      - IGFAE-USC\n",
    "  - name: David Castaño\n",
    "    email: david.castano@uma.es\n",
    "    corresponding: true\n",
    "    orcid: 0000-0001-7008-2126\n",
    "    affiliations:\n",
    "      - UMA\n",
    "math:   \n",
    "    '\\i': '{i}'\n",
    "    '\\bes': '\\begin{equation*}'\n",
    "    '\\ees': '\\end{equation*}'\n",
    "    '\\O': '{\\mathcal O}'\n",
    "    '\\Lin': '\\rm L'\n",
    "    '\\Hil': '{\\mathcal H}'\n",
    "    '\\braa': '{\\langle #1|}'\n",
    "    '\\ket': '{|#1\\rangle}'\n",
    "    '\\braket': '{\\langle #1|#2\\rangle}'\n",
    "    '\\ketbra': '{|#1\\rangle\\langle #2|}'\n",
    "    '\\tr': '{\\rm tr}'\n",
    "    '\\R': '{\\mathbb R}' \n",
    "    '\\C': '{\\mathbb C}'\n",
    "    '\\V': '{V}'\n",
    "---"
   ]
  },
  {
   "cell_type": "code",
   "execution_count": 1,
   "id": "c7bd5d4c",
   "metadata": {
    "slideshow": {
     "slide_type": "-"
    }
   },
   "outputs": [],
   "source": [
    "import sys\n",
    "sys.path.append('../')\n",
    "import macro_tQ as tQ\n",
    "\n",
    "import numpy as np\n",
    "import scipy.linalg as la\n",
    "from IPython.display import display,Markdown,Latex\n",
    "import matplotlib.pyplot as plt\n",
    "from qiskit.tools.visualization import array_to_latex"
   ]
  },
  {
   "cell_type": "markdown",
   "id": "db311637",
   "metadata": {
    "slideshow": {
     "slide_type": "skip"
    }
   },
   "source": [
    "## Operadores y Matrices"
   ]
  },
  {
   "cell_type": "markdown",
   "id": "6f3b844e",
   "metadata": {
    "slideshow": {
     "slide_type": "skip"
    }
   },
   "source": [
    "En un espacio vectorial, además de los **vectores**, será esencial entender las **transformaciones** de estos elementos entre sí. \n"
   ]
  },
  {
   "cell_type": "markdown",
   "id": "eed5d182",
   "metadata": {
    "slideshow": {
     "slide_type": "slide"
    }
   },
   "source": [
    ":::{card}\n",
    "**Definición**: *operador lineal*\n",
    "\n",
    "^^^\n",
    "\n",
    "Un <i>operador lineal</i>  transforma <u>todo vector en otro</u> \n",
    "\n",
    "$$\n",
    "A: \\ket{u} ~~\\to ~~ \\ket{v}   \n",
    "$$\n",
    ":::\n"
   ]
  },
  {
   "cell_type": "markdown",
   "id": "5e0c26af",
   "metadata": {
    "slideshow": {
     "slide_type": "fragment"
    }
   },
   "source": [
    "El apelativo lineal es una condición extremadamente útil, que indica cómo se transforma un vector que es combinación lineal de otros dos\n",
    "\n",
    "$$\n",
    "A: \\big(\\alpha\\ket{u} + \\beta\\ket{w}\\big)~~\\to ~~ \\ket{v} =\\alpha A\\ket{u} + \\beta A\\ket{w}\n",
    "$$ "
   ]
  },
  {
   "cell_type": "markdown",
   "id": "ad9d3f3c",
   "metadata": {
    "slideshow": {
     "slide_type": "skip"
    }
   },
   "source": [
    ":::{admonition} Notación\n",
    ":class: note\n",
    "\n",
    "Escribimos también $\\ket{v} = A\\ket{u} \\equiv \\ket{Au}$ $~~$ donde $Au=v$ deben entenderse como la etiqueta sinónimas del vector imagen\n",
    "\n",
    ":::"
   ]
  },
  {
   "cell_type": "markdown",
   "id": "ac0bfdd6",
   "metadata": {
    "slideshow": {
     "slide_type": "skip"
    }
   },
   "source": [
    ":::{admonition} Ejemplo\n",
    ":class: tip\n",
    "\n",
    "Un <i>operador</i>  fácil de visualizar es el operador de <i>rotación en un plano</i>. Dado un ángulo $\\theta \\in (0,2\\pi)$ el operador $A = R(\\theta)$ gira cualquier vector un ángulo $\\theta$ en el sentido antihorario\n",
    "\n",
    "Un vector en  ${\\bf u} =  (u_1,u_2)\\in {\\mathbb R}^2$  es equivalente al número complejo $u = u_1 + i u_2 \\in {\\mathbb C}$.\n",
    "\n",
    "    \n",
    "Escrito en polares, $u=|u|e^{i\\phi}$, y sabemos que una rotación de ángulo $\\theta$ es equivalente a añadirle dicho  ángulo a la fase \n",
    "\n",
    "$$\n",
    " v = R(\\theta) u = |u| e^{i(\\phi + \\theta)} =  |u| e^{i\\phi } e^{i\\theta} = u\\cdot e^{i\\theta} \n",
    "$$\n",
    "    \n",
    "Por tanto, rotar un número complejo un ángulo $\\theta$ se corresponde con la acción el operador $R(\\theta)$\n",
    "que multiplica cualquier número complejo por la fase $e^{i\\theta}$.\n",
    "\n",
    "    \n",
    "    \n",
    "La propiedad fundamental de una rotación es la de mantener invariante el módulo  $|v| = |u|$.    \n",
    "\n",
    ":::"
   ]
  },
  {
   "cell_type": "markdown",
   "id": "3ef157c2",
   "metadata": {
    "slideshow": {
     "slide_type": "skip"
    }
   },
   "source": [
    "::::{admonition} Ejercicio\n",
    ":class: tip\n",
    "\n",
    "Usando el ejemplo anterior, define una función $R$ en python, que recibe un vector en el plano $(u_1,u_2)$ y devuelve el vector $(v_1,v_2)$ de componentes rotadas un ángulo $\\theta$.\n",
    "\n",
    "\n",
    ":::{dropdown} Solución\n",
    "\n",
    "```{code-block} python\n",
    "def R(u1,u2,theta):\n",
    "   u = u1 + u2*1j\n",
    "   v = u*np.exp(1j*theta) # u rotado un angulo theta\n",
    "   return v.real,v.imag\n",
    "```\n",
    ":::\n",
    "::::\n",
    " "
   ]
  },
  {
   "cell_type": "code",
   "execution_count": 2,
   "id": "910284be",
   "metadata": {
    "slideshow": {
     "slide_type": "skip"
    }
   },
   "outputs": [
    {
     "ename": "NameError",
     "evalue": "name 'R' is not defined",
     "output_type": "error",
     "traceback": [
      "\u001b[0;31m---------------------------------------------------------------------------\u001b[0m",
      "\u001b[0;31mNameError\u001b[0m                                 Traceback (most recent call last)",
      "Cell \u001b[0;32mIn[2], line 14\u001b[0m\n\u001b[1;32m      6\u001b[0m u2\u001b[38;5;241m=\u001b[39m\u001b[38;5;241m2.\u001b[39m\n\u001b[1;32m      8\u001b[0m \u001b[38;5;66;03m#'''v1 y v2 a partir de u1, u2 y theta'''\u001b[39;00m\n\u001b[1;32m      9\u001b[0m \u001b[38;5;66;03m#def R(u1,u2,theta):\u001b[39;00m\n\u001b[1;32m     10\u001b[0m \u001b[38;5;66;03m#        u = u1 + u2*1j\u001b[39;00m\n\u001b[1;32m     11\u001b[0m \u001b[38;5;66;03m#        v = u*np.exp(1j*theta) # u rotado un angulo theta\u001b[39;00m\n\u001b[1;32m     12\u001b[0m \u001b[38;5;66;03m#        return v.real,v.imag\u001b[39;00m\n\u001b[0;32m---> 14\u001b[0m v1,v2 \u001b[38;5;241m=\u001b[39m  \u001b[43mR\u001b[49m(u1,u2,theta)\n\u001b[1;32m     16\u001b[0m \u001b[38;5;124;03m''' Representación en el plano complejo '''\u001b[39;00m\n\u001b[1;32m     17\u001b[0m v \u001b[38;5;241m=\u001b[39m v1\u001b[38;5;241m*\u001b[39m\u001b[38;5;241m*\u001b[39m\u001b[38;5;241m2\u001b[39m\u001b[38;5;241m+\u001b[39mv2\u001b[38;5;241m*\u001b[39m\u001b[38;5;241m*\u001b[39m\u001b[38;5;241m2\u001b[39m\n",
      "\u001b[0;31mNameError\u001b[0m: name 'R' is not defined"
     ]
    }
   ],
   "source": [
    "'''ángulo que queremos rotar'''\n",
    "theta=0.6 \n",
    "\n",
    "'''vector a rotar'''\n",
    "u1=2.\n",
    "u2=2.\n",
    "\n",
    "#'''v1 y v2 a partir de u1, u2 y theta'''\n",
    "#def R(u1,u2,theta):\n",
    "#        u = u1 + u2*1j\n",
    "#        v = u*np.exp(1j*theta) # u rotado un angulo theta\n",
    "#        return v.real,v.imag\n",
    "    \n",
    "v1,v2 =  R(u1,u2,theta)\n",
    "\n",
    "''' Representación en el plano complejo '''\n",
    "v = v1**2+v2**2\n",
    "tQ.plot_2D_plane(left=-int(abs(v1))-2,right=int(abs(v1))+2,up=int(abs(v2))+1,down=-int(abs(v2))-1)\n",
    "tQ.draw_vector(u1,u1,vcolor='b')\n",
    "tQ.draw_vector(v1,v2,vcolor='r')\n"
   ]
  },
  {
   "cell_type": "markdown",
   "id": "29cd66be",
   "metadata": {
    "slideshow": {
     "slide_type": "slide"
    }
   },
   "source": [
    "### Matriz de un operador\n",
    "<a id='matriz_op'></a>\n",
    "\n",
    "*Dada una base* $\\ket{i}$ sabemos que:\n",
    "\n",
    "$\\Rightarrow $  un vector queda especificado por una *columna de números* \n",
    "\n",
    "$$\n",
    "\\ket{v} \\sim \\begin{pmatrix} v_1 \\\\ v_2\\\\ \\vdots \\\\ v_N\\end{pmatrix}\n",
    "$$\n"
   ]
  },
  {
   "cell_type": "markdown",
   "id": "af12e90b",
   "metadata": {
    "slideshow": {
     "slide_type": "fragment"
    }
   },
   "source": [
    "$\\Rightarrow $  un operador queda definido por una *matriz de números*. \n",
    "\n",
    "$$\n",
    "A \\sim \\begin{pmatrix} \n",
    "A_{11} & A_{12} & \\cdots & A_{1N} \\\\\n",
    "A_{21} & A_{22} & \\cdots & A_{2N} \\\\\n",
    "\\vdots & \\vdots &  \\ddots      & \\vdots \\\\\n",
    "A_{N1} & A_{N2} &    \\cdots    & A_{NN}\n",
    "\\end{pmatrix}\n",
    "$$\n"
   ]
  },
  {
   "cell_type": "markdown",
   "id": "e29e055d",
   "metadata": {},
   "source": [
    "En ambos casos, los números son las **componentes** en una base. "
   ]
  },
  {
   "cell_type": "markdown",
   "id": "62a56d79",
   "metadata": {
    "slideshow": {
     "slide_type": "skip"
    }
   },
   "source": [
    "Efectivamente, en una base, la relación $\\ket{v} = A\\ket{u}$ equivale a una ecuación que relacione las componentes de ambos vectores\n",
    "$$\n",
    "v_i = \\sum_{j=1}^N A_{ij} u_j  \\, .\n",
    "$$"
   ]
  },
  {
   "cell_type": "markdown",
   "id": "509b8331",
   "metadata": {
    "slideshow": {
     "slide_type": "skip"
    }
   },
   "source": [
    "Esta operación se corresponde con la siguiente *multiplicación de matrices*\n",
    "\n",
    "$$\n",
    "\\begin{pmatrix}\n",
    "v_1 \\\\ v_2 \\\\ \\vdots \\\\ v_N \\end{pmatrix} =  \\begin{pmatrix} \n",
    "A_{11} & A_{12} & \\cdots & A_{1N} \\\\\n",
    "A_{21} & A_{22} & \\cdots & A_{2N} \\\\\n",
    "\\vdots & \\vdots &  \\ddots      & \\vdots \\\\\n",
    "A_{N1} & A_{N2} &    \\cdots    & A_{NN}\n",
    "\\end{pmatrix}\n",
    " \\begin{pmatrix} \n",
    "u_1 \\\\ u_2 \\\\ \\vdots \\\\ u_N\\end{pmatrix} \n",
    "$$"
   ]
  },
  {
   "cell_type": "markdown",
   "id": "580815fb",
   "metadata": {
    "slideshow": {
     "slide_type": "skip"
    }
   },
   "source": [
    ":::{admonition} Ejemplo\n",
    ":class: tip\n",
    "\n",
    "Continuando con el ejemplo del operador de rotación en un plano, hemos visto que las componentes de $u = u_1 + i u_2$ y las de $R(\\theta)u = v = v_1 + i v_2$ se obtienen mediante la multiplicación por una fase pura \n",
    "\n",
    "\\begin{eqnarray}\n",
    "v&=& u e^{i\\theta} \\\\\n",
    "\\end{eqnarray}\n",
    "    \n",
    "Vamos a desarrollar cada miembro en cartesianas, separando las partes real e imaginaria\n",
    "    \n",
    "\\begin{eqnarray}\n",
    "v_1 + i v_2 &=& (u_1 + iu_2) (\\cos \\theta + i \\sin \\theta)  \\\\\n",
    "    \\rule{0mm}{6mm}\n",
    "    &=& (\\cos\\theta \\, u_1 - \\sin \\theta\\,  u_2) + i(\\sin\\theta\\,  u_1 + \\cos \\theta\\,  u_2)\n",
    "\\end{eqnarray}\n",
    "   \n",
    "es decir las coordenadas del vector origen y el vector rotado imagen se relacionan en la  forma \n",
    "\\begin{eqnarray}\n",
    "v_1 = \\cos\\theta \\, u_1 - \\sin \\theta\\,  u_2 ~~~~~~~,~~~~~~~~\n",
    "v_2 = \\sin\\theta \\, u_1 + \\cos \\theta\\,  u_2     \n",
    "\\end{eqnarray}\n",
    "que podemos expresar en forma matricial\n",
    "    \n",
    "$$\n",
    "\\begin{pmatrix} v_1 \\\\ v_2 \\end{pmatrix} = \\begin{pmatrix} \\cos\\theta & -\\sin\\theta \\\\ \\sin\\theta &\\cos\\theta\\end{pmatrix} \\begin{pmatrix} u_1 \\\\ u_2 \\end{pmatrix}\n",
    "$$    \n",
    ":::"
   ]
  },
  {
   "cell_type": "markdown",
   "id": "3931114f",
   "metadata": {
    "slideshow": {
     "slide_type": "slide"
    }
   },
   "source": [
    "##   El Espacio Vectorial  $\\Lin(\\Hil)$ "
   ]
  },
  {
   "cell_type": "markdown",
   "id": "f8ae057c",
   "metadata": {
    "slideshow": {
     "slide_type": "-"
    }
   },
   "source": [
    "El <i>conjunto</i> de **todos** <i>los operadores lineales</i> sobre un espacio vectorial $\\Hil$ tiene, de forma natural, una estructura de espacio vectorial que denominamos $\\Lin(\\Hil)$"
   ]
  },
  {
   "cell_type": "markdown",
   "id": "dd9bf0a1",
   "metadata": {
    "slideshow": {
     "slide_type": "fragment"
    }
   },
   "source": [
    "En efecto, dados dos operadores,  $A$ y $B$ tanto la suma $C = A+B$ como la multiplicación por un número complejo $D=\\lambda A$ son *nuevos operadores* definidos por su acción sobre un vector cualquiera $\\ket{v}\\in \\Hil$\n",
    "\n",
    "$$\n",
    "C\\ket{v} ~=~ (A + B) \\ket{v} = A\\ket{v} + B\\ket{v}\n",
    "$$\n",
    "\n",
    "$$\n",
    "D\\ket{v} ~=~ (\\lambda A) \\ket{v} = \\lambda (A\\ket{v})\n",
    "$$"
   ]
  },
  {
   "cell_type": "markdown",
   "id": "62dcdd83",
   "metadata": {},
   "source": [
    "El elemento neutro es el operador que aniquila cualquier vector\n",
    "\n",
    "$$\n",
    "(A + 0)\\ket{u} = A\\ket{u} + 0\\ket{u} = A\\ket{u} + 0 = \\ket{v}\n",
    "$$"
   ]
  },
  {
   "cell_type": "markdown",
   "id": "a493c0e4",
   "metadata": {
    "jp-MarkdownHeadingCollapsed": true,
    "slideshow": {
     "slide_type": "skip"
    }
   },
   "source": [
    "### Producto externo"
   ]
  },
  {
   "cell_type": "markdown",
   "id": "f020a931",
   "metadata": {},
   "source": [
    "$\\Lin(\\Hil)$ es por tanto, un espacio vectorial cuyos vectores son los operadore lineales sobre $\\Hil$. Como para cualquier espacio vectorial, para describir los operadores $A$,  necesitamos una base. \n",
    "\n",
    "Resulta que, como vamos a ver, una base $\\{ \\ket{i}\\}$ para describir los vectores  de $\\ket{v}\\in \\Hil$ nos permite definir una base para los operadores $A \\in \\Lin(\\Hil)$ de forma natural. \n",
    "\n",
    "Para verlo vamos a definir dos formas de componer dos vectores de $\\ket{u},\\ket{v} \\in \\Hil$: el producto interno, y el producto externos. "
   ]
  }
 ],
 "metadata": {
  "celltoolbar": "Slideshow",
  "kernelspec": {
   "display_name": "Python 3 (ipykernel)",
   "language": "python",
   "name": "python3"
  },
  "language_info": {
   "codemirror_mode": {
    "name": "ipython",
    "version": 3
   },
   "file_extension": ".py",
   "mimetype": "text/x-python",
   "name": "python",
   "nbconvert_exporter": "python",
   "pygments_lexer": "ipython3",
   "version": "3.10.13"
  },
  "toc": {
   "base_numbering": 1,
   "nav_menu": {},
   "number_sections": true,
   "sideBar": true,
   "skip_h1_title": false,
   "title_cell": "Table of Contents",
   "title_sidebar": "Contents",
   "toc_cell": false,
   "toc_position": {},
   "toc_section_display": true,
   "toc_window_display": false
  },
  "varInspector": {
   "cols": {
    "lenName": 16,
    "lenType": 16,
    "lenVar": 40
   },
   "kernels_config": {
    "python": {
     "delete_cmd_postfix": "",
     "delete_cmd_prefix": "del ",
     "library": "var_list.py",
     "varRefreshCmd": "print(var_dic_list())"
    },
    "r": {
     "delete_cmd_postfix": ") ",
     "delete_cmd_prefix": "rm(",
     "library": "var_list.r",
     "varRefreshCmd": "cat(var_dic_list()) "
    }
   },
   "types_to_exclude": [
    "module",
    "function",
    "builtin_function_or_method",
    "instance",
    "_Feature"
   ],
   "window_display": false
  }
 },
 "nbformat": 4,
 "nbformat_minor": 5
}