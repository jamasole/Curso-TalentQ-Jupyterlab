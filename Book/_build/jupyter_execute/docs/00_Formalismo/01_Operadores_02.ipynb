{
 "cells": [
  {
   "cell_type": "markdown",
   "id": "5cb046c7",
   "metadata": {
    "slideshow": {
     "slide_type": "slide"
    }
   },
   "source": [
    "---\n",
    "license: CC-BY-4.0\n",
    "github: https://github.com/jamasole/Curso-TalentQ-Jupyterlab\n",
    "subject: Curso\n",
    "venue: Quantum Spain\n",
    "authors:\n",
    "  - name: Javier Mas\n",
    "    email: javier.mas@usc.es\n",
    "    corresponding: true\n",
    "    orcid: 0000-0001-7008-2126\n",
    "    affiliations:\n",
    "      - IGFAE-USC\n",
    "  - name: David Castaño\n",
    "    email: david.castano@uma.es\n",
    "    corresponding: true\n",
    "    orcid: 0000-0001-7008-2126\n",
    "    affiliations:\n",
    "      - UMA\n",
    "math:   \n",
    "    '\\i': '{i}'\n",
    "    '\\bes': '\\begin{equation*}'\n",
    "    '\\ees': '\\end{equation*}'\n",
    "    '\\O': '{\\mathcal O}'\n",
    "    '\\Lin': '\\rm L'\n",
    "    '\\Hil': '{\\mathcal H}'\n",
    "    '\\braa': '{\\langle #1|}'\n",
    "    '\\ket': '{|#1\\rangle}'\n",
    "    '\\braket': '{\\langle #1|#2\\rangle}'\n",
    "    '\\ketbra': '{|#1\\rangle\\langle #2|}'\n",
    "    '\\tr': '{\\rm tr}'\n",
    "    '\\R': '{\\mathbb R}' \n",
    "    '\\C': '{\\mathbb C}'\n",
    "    '\\V': '{V}'\n",
    "---"
   ]
  },
  {
   "cell_type": "markdown",
   "id": "473db2d0-c360-4cc5-8375-746888d17e83",
   "metadata": {},
   "source": [
    "```{figure} ../thumbnails/myThumbnail.png\n",
    ":align: center\n",
    "```"
   ]
  },
  {
   "cell_type": "markdown",
   "id": "86ca851f-de19-4efc-b64d-dce400b98f8f",
   "metadata": {},
   "source": [
    "# Operadores II"
   ]
  },
  {
   "cell_type": "code",
   "execution_count": 2,
   "id": "c7bd5d4c",
   "metadata": {
    "slideshow": {
     "slide_type": "-"
    }
   },
   "outputs": [],
   "source": [
    "import sys\n",
    "sys.path.append('../')\n",
    "import macro_tQ as tQ\n",
    "\n",
    "import numpy as np\n",
    "import scipy.linalg as la\n",
    "from IPython.display import display,Markdown,Latex\n",
    "import matplotlib.pyplot as plt\n",
    "from qiskit.tools.visualization import array_to_latex"
   ]
  },
  {
   "cell_type": "markdown",
   "id": "05f1f796",
   "metadata": {
    "slideshow": {
     "slide_type": "skip"
    }
   },
   "source": [
    "## Autovalores y autovectores\n",
    "       "
   ]
  },
  {
   "cell_type": "markdown",
   "id": "afd750e0",
   "metadata": {
    "slideshow": {
     "slide_type": "slide"
    }
   },
   "source": [
    "### Valores y vectores propios"
   ]
  },
  {
   "cell_type": "markdown",
   "id": "14157252-561a-481d-ba8c-358cfbf38542",
   "metadata": {},
   "source": [
    ":::{card}\n",
    "\n",
    "**Definición** (*autovalores y autovectores*)\n",
    "\n",
    "^^^\n",
    "\n",
    "Existen vectores, $\\ket{\\lambda}$ para los cuales la <i>la acción de un operador</i> $A$ devuelve un vector <i>paralelo</i> al original\n",
    "\n",
    "$$\n",
    "A\\ket{\\lambda} = \\lambda \\ket{\\lambda}\\, \n",
    "$$\n",
    "    \n",
    "Decimos que $\\ket{\\lambda}$ es un vector propio (o autovector) de $A$ con valor propio (o autovalor) asociado $\\lambda\\in {\\mathbb C}$ \n",
    ":::"
   ]
  },
  {
   "cell_type": "markdown",
   "id": "ecba41fb",
   "metadata": {
    "slideshow": {
     "slide_type": "skip"
    }
   },
   "source": [
    "Supongamos que $A$ tiene $d$ vectores propios con los que podemos formar un *base ortonormal* $\\{\\ket{\\lambda_i}\\}$\n",
    "tal que\n",
    "\n",
    "$$\n",
    "\\ket{\\lambda_j} = \\sum_i U_{ij}\\ket{e_i}, \n",
    "$$\n",
    "Claramente $U_{ij}$ es la matriz unitaria formada por las componentes de los vectores propios (apilados por columnas)\n",
    "\n",
    "::::{card}\n",
    "**Lema**\n",
    "\n",
    "^^^\n",
    "\n",
    "La matriz $U$ es la matriz que diagonaliza $A$\n",
    "\n",
    "$$\n",
    "A_{diag} = \\begin{pmatrix} \\lambda_1 & & \\\\ & \\ddots & \\\\ & & \\lambda_d \\end{pmatrix} = U^\\dagger A U\n",
    "$$\n",
    "\n",
    ":::{dropdown} Demostración\n",
    "\\begin{eqnarray}\n",
    "(A_{diag})_{ij} &\\equiv& \\bra{\\lambda_i}A\\ket{\\lambda_j} \\\\\n",
    "&=& \\big(\\sum_k\\bra{e_k}U_{ki}^*\\big)  A \\sum_l\\big( U_{lj}\\ket{e_l}) \\\\\n",
    "&=& \\sum_{k,l} U_{ki}^* \\bra{e_k} A\\ket{e_l}    U_{lj}\\\\\n",
    "&=& \\sum_{k,l} U^\\dagger_{ik} A_{kl} U_{lj} \\\\\n",
    "&=& (U^\\dagger A U)_{ij}\n",
    "\\end{eqnarray}\n",
    ":::\n",
    "::::"
   ]
  },
  {
   "cell_type": "code",
   "execution_count": 13,
   "id": "42fbdbaf",
   "metadata": {
    "slideshow": {
     "slide_type": "skip"
    }
   },
   "outputs": [
    {
     "name": "stdout",
     "output_type": "stream",
     "text": [
      "valprop = [1.+1.j 1.-1.j]\n"
     ]
    },
    {
     "data": {
      "text/latex": [
       "$$\n",
       "\n",
       "\\begin{bmatrix}\n",
       "\\frac{\\sqrt{2}}{2} & \\frac{\\sqrt{2}}{2}  \\\\\n",
       " - \\frac{\\sqrt{2} i}{2} & \\frac{\\sqrt{2} i}{2}  \\\\\n",
       " \\end{bmatrix}\n",
       "$$"
      ],
      "text/plain": [
       "<IPython.core.display.Latex object>"
      ]
     },
     "execution_count": 13,
     "metadata": {},
     "output_type": "execute_result"
    }
   ],
   "source": [
    "A = np.matrix([[1, -1], [1, 1]])\n",
    "\n",
    "' hallamos los autovalores y autovectores'\n",
    "eigvals, eigvecs = np.linalg.eig(A)\n",
    "print('valprop =',eigvals)\n",
    "#print('vecprop =',eigvecs)\n",
    "array_to_latex(eigvecs)\n"
   ]
  },
  {
   "cell_type": "code",
   "execution_count": 14,
   "id": "e89332be",
   "metadata": {
    "slideshow": {
     "slide_type": "skip"
    }
   },
   "outputs": [
    {
     "data": {
      "text/latex": [
       "$$\n",
       "A|\\lambda_m \\rangle -\\lambda_m |\\lambda_m\\rangle =  \n",
       "\\begin{bmatrix}\n",
       "0  \\\\\n",
       " 0  \\\\\n",
       " \\end{bmatrix}\n",
       "$$"
      ],
      "text/plain": [
       "<IPython.core.display.Latex object>"
      ]
     },
     "execution_count": 14,
     "metadata": {},
     "output_type": "execute_result"
    }
   ],
   "source": [
    "'verificamos que los autovectores son las columnas de v'\n",
    "\n",
    "#m=0\n",
    "m=1\n",
    "array_to_latex(np.dot(A, eigvecs[:, m]) - eigvals[m] * eigvecs[:, m],prefix=r'A|\\lambda_m \\rangle -\\lambda_m |\\lambda_m\\rangle =  ')"
   ]
  },
  {
   "cell_type": "code",
   "execution_count": 15,
   "id": "15af3932",
   "metadata": {
    "slideshow": {
     "slide_type": "skip"
    }
   },
   "outputs": [
    {
     "data": {
      "text/latex": [
       "$$\n",
       "A_{diag} = U^\\dagger A U = \n",
       "\\begin{bmatrix}\n",
       "1 + i & 0  \\\\\n",
       " 0 & 1 - i  \\\\\n",
       " \\end{bmatrix}\n",
       "$$"
      ],
      "text/plain": [
       "<IPython.core.display.Latex object>"
      ]
     },
     "execution_count": 15,
     "metadata": {},
     "output_type": "execute_result"
    }
   ],
   "source": [
    "' diagonalizamos A '\n",
    "U = np.matrix(eigvecs);\n",
    "\n",
    "array_to_latex(np.dot(U.getH(),np.dot(A,U)),prefix='A_{diag} = U^\\dagger A U = ')"
   ]
  },
  {
   "cell_type": "markdown",
   "id": "4983453a",
   "metadata": {
    "slideshow": {
     "slide_type": "skip"
    }
   },
   "source": [
    "### Autovalores degenerados: subespacios propios "
   ]
  },
  {
   "cell_type": "markdown",
   "id": "145b17c9",
   "metadata": {
    "slideshow": {
     "slide_type": "skip"
    }
   },
   "source": [
    ":::{card} \n",
    "\n",
    "**Definición:**\n",
    "\n",
    "^^^\n",
    "\n",
    "Decimos que un autovalor $\\lambda$ es $d$ <i>veces degenerado</i> si existen $d$ autovectores linealmente independientes,  $\\ket{\\lambda^{a}}$ con $a=1,...,d$ asociados al **mismo** autovalor, es decir:\n",
    "\n",
    "$$\n",
    "A\\ket{\\lambda^a} = \\lambda \\ket{\\lambda^a}\n",
    "$$ \n",
    "\n",
    ":::\n"
   ]
  },
  {
   "cell_type": "markdown",
   "id": "6f51839c",
   "metadata": {
    "slideshow": {
     "slide_type": "skip"
    }
   },
   "source": [
    "Sea $\\ket{u} = \\sum_{a=1}^{d} c_a\\ket{\\lambda^a} $ una combinación de dichos vectores propios, entonces\n",
    "\n",
    "\\begin{eqnarray}\n",
    "A \\ket{u} \n",
    "=  \\sum_{a=1}^{d} c_a A\\ket{\\lambda^a}  =  \\sum_{a=1}^{d} c_a \\lambda\\ket{\\lambda^a}  =   \\lambda \\sum_{a=1}^{d} c_a \\ket{\\lambda^a}  =\\lambda\\ket{u}\n",
    "\\end{eqnarray}\n",
    "\n",
    "Por tanto $\\ket{u}$ es también vector propio con idéntico autovalor. Matemáticamente esto quiere decir que los autovectores asociados a un autovalor $d$ veces degenerado generan un <i>subespacio vectorial propio</i> $\\Hil_\\lambda\\subset \\Hil$. \n",
    "\n"
   ]
  },
  {
   "cell_type": "markdown",
   "id": "1f5a7a49",
   "metadata": {
    "slideshow": {
     "slide_type": "skip"
    }
   },
   "source": [
    "- El teorema de Gramm-Schmidt garantiza que podemos elegir (mediante un cambio adecuado) el conjunto $\\{\\ket{\\lambda^a}\\}\\in (\\lambda), a=1,...,d$ de forma que que sea una  <i>base ortonormal</i> \n",
    "\n",
    "$$\\braket{\\lambda^a}{\\lambda^b}=\\delta_{ab}$$"
   ]
  },
  {
   "cell_type": "markdown",
   "id": "9657d815",
   "metadata": {
    "slideshow": {
     "slide_type": "skip"
    }
   },
   "source": [
    "- El **proyector ortogonal** sobre el subespacio propio $\\Hil_\\lambda$ será la suma de proyectores sobre cada autovector propio\n",
    "\n",
    "$$\n",
    "P = \\sum_{a=1}^{d} \\ketbra{\\lambda^a}{\\lambda^a}\n",
    "$$"
   ]
  },
  {
   "cell_type": "markdown",
   "id": "52c86998",
   "metadata": {
    "slideshow": {
     "slide_type": "skip"
    }
   },
   "source": [
    ":::{admonition} Ejemplo\n",
    ":class: tip\n",
    "\n",
    "Llamemos $R_z(\\theta)$ el operador que efectúa una rotación  en el plano  $(x,y)$ de ángulo $\\theta$. Cuando $\\theta = \\pi$ encontramos las siguiente acción sobre los tres elementos $\\{\\hat{\\bf x},\\hat{\\bf y},\\hat{\\bf z}\\}$\n",
    "de la base cartesiana\n",
    "\n",
    "\\begin{eqnarray}\n",
    "R_z(\\pi)\\hat{\\bf x} &=&-\\hat{\\bf x}  \\\\ \\rule{0mm}{6mm}\n",
    "R_z(\\pi)\\hat{\\bf y} &=& -\\hat{\\bf y}  \\\\ \\rule{0mm}{6mm}\n",
    "R_z(\\pi)\\hat{\\bf z} &=& + \\hat{\\bf z}  \n",
    "\\end{eqnarray}    \n",
    " \n",
    "Vemos que hay un autovector $\\hat{\\bf z}$ con autovalor $+1$ y dos autovectores $\\hat{\\bf x} $ y $\\hat{\\bf y} $\n",
    "con autovalor $-1$. \n",
    "\n",
    "El espacio ${\\mathbb R}^3$ se divide en dos subespacios propios de $R_z(\\pi)$, uno de dimensión 1 (a lo largo del eje $\\hat{\\bf z}$) y otro de dimensión 2 (en el plano $(\\hat{\\bf x},\\hat{\\bf y})$).\n",
    "\n",
    "Los proyectores asociados serán\n",
    "   \n",
    "$$\n",
    "P_{\\hat{\\bf z}}= \\ket{\\hat{\\bf z}}\\bra{\\hat{\\bf z}}=\\begin{bmatrix} 0 & & \\\\ & 0 & \\\\ & & 1 \\end{bmatrix}~~~,~~~\n",
    "P_{\\hat{\\bf x}\\hat{\\bf y}}= \\ket{\\hat{\\bf x}}\\bra{\\hat{\\bf x}}+\\ket{\\hat{\\bf y}}\\bra{\\hat{\\bf y}}=\\begin{bmatrix} 1 & & \\\\ & 1 & \\\\ & & 0 \\end{bmatrix}~~~,~~~\n",
    "$$\n",
    "\n",
    ":::\n"
   ]
  },
  {
   "cell_type": "markdown",
   "id": "13dddeb5",
   "metadata": {
    "slideshow": {
     "slide_type": "skip"
    }
   },
   "source": [
    "### Espectro de Operadores Normales\n",
    "\n"
   ]
  },
  {
   "cell_type": "markdown",
   "id": "da34e728",
   "metadata": {
    "slideshow": {
     "slide_type": "skip"
    }
   },
   "source": [
    "Recordemos la definición de un operador normal. $N$ será un operador normal si conmuta con su adjunto\n",
    "\n",
    "$$\n",
    "NN^\\dagger = N^\\dagger N\n",
    "$$\n",
    "\n",
    "La importancia de los operadores normales radica en el siguiente lema     "
   ]
  },
  {
   "cell_type": "markdown",
   "id": "22d1e721",
   "metadata": {
    "slideshow": {
     "slide_type": "skip"
    }
   },
   "source": [
    "::::{card} \n",
    "\n",
    "**Teorema**\n",
    "\n",
    "^^^\n",
    "\n",
    "Un operador es normal si y sólo si es diagonalizable\n",
    "\n",
    "Dos autovectores de un operador normal asociados a dos autovalores <i>distintos</i>  son <i>ortogonales</i>\n",
    "\n",
    "$$\n",
    "\\lambda_i\\neq \\lambda_j~~~~\\Longleftrightarrow ~~~~ \\braket{\\lambda_i}{\\lambda_j} = 0\n",
    "$$\n",
    "\n",
    ":::{dropdown} Desmostración\n",
    "\n",
    "De la ecuación de autovalores $N\\ket{\\lambda_j} =  \\lambda_j \\ket{\\lambda_j}$, y de $NN^\\dagger = N^\\dagger N$, se sigue que\n",
    "\n",
    "$$\n",
    "\\bra{\\lambda_j}(N^\\dagger - \\lambda_j^*)(N - \\lambda_j) \\ket{\\lambda_j} = \\bra{\\lambda_j}(N - \\lambda_j)(N^\\dagger - \\lambda_j^*) \\ket{\\lambda_j}  = 0\\,\n",
    "$$\n",
    "\n",
    "de donde obtenemos $(N^\\dagger - \\lambda_j^*) \\ket{\\lambda_j} = 0 \\Rightarrow \\bra{\\lambda_j} N = \\bra{\\lambda_j}\\lambda_j$. Entonces\n",
    "\n",
    "$$\n",
    "\\bra{\\lambda_j}N\\ket{\\lambda_i} = \\lambda_j \\braket{\\lambda_j}{\\lambda_i} = \\lambda_i \\braket{\\lambda_j}{\\lambda_i} \\, ,\n",
    "$$\n",
    "\n",
    "de donde se sigue que, para $\\lambda_i \\neq \\lambda_j \\Rightarrow \\braket{\\lambda_i}{\\lambda_j} = 0$. \n",
    "\n",
    ":::\n",
    "::::\n"
   ]
  },
  {
   "cell_type": "markdown",
   "id": "66a3ce24",
   "metadata": {
    "slideshow": {
     "slide_type": "skip"
    }
   },
   "source": [
    "En general, cada autovalor $\\lambda_k$ será $d_k \\geq 1$ veces degenerado. \n",
    "\n",
    "En ese caso hay  $\\{\\ket{\\lambda^a_k}\\}, a=1,...,d_k$ autovectores que generan el subespacio propio, $\\Hil_{\\lambda_k}\\subset \\Hil $, de dimensión $d_k$. \n",
    "\n",
    "Subespacios $\\Hil_{\\lambda_k}\\perp \\Hil_{\\lambda_j}$ son ortogonales para $k\\neq j$ según el teorema. \n",
    "<br>\n",
    "\n"
   ]
  },
  {
   "cell_type": "markdown",
   "id": "c8fb3055",
   "metadata": {
    "slideshow": {
     "slide_type": "skip"
    }
   },
   "source": [
    ":::{admonition} Resumen\n",
    ":class: attention\n",
    "\n",
    "Siempre podemos encontrar una base  ortonormal de $\\Hil$, formada por autovectores de un operador normal $N$\n",
    "\n",
    "$$\n",
    "I = \\sum_k\\sum_{a=1}^{d_k} \\ket{\\lambda^a_k}\\bra{\\lambda^a_k} ~~~~~~~~~~~;~~~~~~~~~ \\braket{\\lambda^a_j}{\\lambda^b_k} = \\delta_{ab}\\delta_{jk}\n",
    "$$\n",
    "\n",
    "El proyector sobre el subespacio propio $\\Hil_{\\lambda_k}$ será\n",
    "\n",
    "$$\n",
    "P_k = \\sum_{a=1}^{d_k} \\ketbra{\\lambda^a_k}{\\lambda^a_k}\n",
    "$$\n",
    ":::"
   ]
  },
  {
   "cell_type": "markdown",
   "id": "c8a0a67c",
   "metadata": {
    "slideshow": {
     "slide_type": "slide"
    }
   },
   "source": [
    "### Descomposición  espectral\n"
   ]
  },
  {
   "cell_type": "markdown",
   "id": "ebc752fb",
   "metadata": {
    "slideshow": {
     "slide_type": "-"
    }
   },
   "source": [
    ":::{card}\n",
    "\n",
    "**Teorema Espectral**\n",
    "\n",
    "^^^\n",
    "    \n",
    "Para todo operador normal $N$, existe una base de  autovectores ortonormales,  $\\{\\ket{\\lambda^a_k}\\}$,  tales que \n",
    "$A$ admite la siguiente <b> descomposición espectral </b>\n",
    "\n",
    "$$\n",
    "N = \\sum_{k=1}^d \\lambda_k   P_k\n",
    "$$\n",
    "     \n",
    "donde $d=  {\\rm dim}(\\Hil)$ y $P_k = \\sum_{a=1}^{g_k} \\ketbra{\\lambda^a_k}{\\lambda^a_k}$ es el proyector sobre el subespacio propio $\\Hil_{\\lambda_k}$ si $\\lambda_k$ es $g_k$ veces degenerado.\n",
    "\n",
    ":::"
   ]
  },
  {
   "cell_type": "code",
   "execution_count": 4,
   "id": "cf04cdf2",
   "metadata": {
    "slideshow": {
     "slide_type": "slide"
    }
   },
   "outputs": [
    {
     "data": {
      "text/latex": [
       "$$\n",
       "\n",
       "\\begin{bmatrix}\n",
       "1 & 1  \\\\\n",
       " -1 & 1  \\\\\n",
       " \\end{bmatrix}\n",
       "$$"
      ],
      "text/plain": [
       "<IPython.core.display.Latex object>"
      ]
     },
     "execution_count": 4,
     "metadata": {},
     "output_type": "execute_result"
    }
   ],
   "source": [
    "A = np.array([[1, 1], [-1, 1]])\n",
    "array_to_latex(A)\n"
   ]
  },
  {
   "cell_type": "code",
   "execution_count": 5,
   "id": "76ebebd2",
   "metadata": {
    "slideshow": {
     "slide_type": "fragment"
    }
   },
   "outputs": [
    {
     "data": {
      "text/latex": [
       "$$\n",
       "P_0=\n",
       "\\begin{bmatrix}\n",
       "\\frac{1}{2} & - \\frac{i}{2}  \\\\\n",
       " \\frac{i}{2} & \\frac{1}{2}  \\\\\n",
       " \\end{bmatrix}\n",
       "$$"
      ],
      "text/plain": [
       "<IPython.core.display.Latex object>"
      ]
     },
     "metadata": {},
     "output_type": "display_data"
    },
    {
     "data": {
      "text/latex": [
       "$$\n",
       "P_1=\n",
       "\\begin{bmatrix}\n",
       "\\frac{1}{2} & \\frac{i}{2}  \\\\\n",
       " - \\frac{i}{2} & \\frac{1}{2}  \\\\\n",
       " \\end{bmatrix}\n",
       "$$"
      ],
      "text/plain": [
       "<IPython.core.display.Latex object>"
      ]
     },
     "metadata": {},
     "output_type": "display_data"
    },
    {
     "data": {
      "text/latex": [
       "$$\n",
       "P_0 + P_1=\n",
       "\\begin{bmatrix}\n",
       "1 & 0  \\\\\n",
       " 0 & 1  \\\\\n",
       " \\end{bmatrix}\n",
       "$$"
      ],
      "text/plain": [
       "<IPython.core.display.Latex object>"
      ]
     },
     "execution_count": 5,
     "metadata": {},
     "output_type": "execute_result"
    }
   ],
   "source": [
    "' Realizamos la descomposición espectral'\n",
    "eigvals, eigvecs = np.linalg.eig(A)\n",
    "\n",
    "eigvec0 = eigvecs[:,0]\n",
    "P0 = tQ.ket_bra(eigvec0,eigvec0)\n",
    "display(array_to_latex(P0,prefix='P_0='))\n",
    "\n",
    "eigvec1 = eigvecs[:,1]\n",
    "P1 = tQ.ket_bra(eigvec1,eigvec1)\n",
    "display(array_to_latex(P1,prefix='P_1='))\n",
    "\n",
    "'verificamos completitud'\n",
    "array_to_latex(P0+P1,prefix='P_0 + P_1=')"
   ]
  },
  {
   "cell_type": "code",
   "execution_count": 7,
   "id": "3d18ef69",
   "metadata": {
    "slideshow": {
     "slide_type": "skip"
    }
   },
   "outputs": [
    {
     "data": {
      "text/latex": [
       "$$\n",
       "\n",
       "\\begin{bmatrix}\n",
       "1 & 1  \\\\\n",
       " -1 & 1  \\\\\n",
       " \\end{bmatrix}\n",
       "$$"
      ],
      "text/plain": [
       "<IPython.core.display.Latex object>"
      ]
     },
     "execution_count": 7,
     "metadata": {},
     "output_type": "execute_result"
    }
   ],
   "source": [
    "' verificamos el teorema de descomposición espectral '\n",
    "A_descomp_espect = eigvals[0]*P0+eigvals[1]*P1\n",
    "\n",
    "array_to_latex(A_descomp_espect)\n"
   ]
  },
  {
   "cell_type": "markdown",
   "id": "8df31e3b",
   "metadata": {
    "slideshow": {
     "slide_type": "slide"
    }
   },
   "source": [
    "La matriz $A_{ij}$ que expresa $A$ en la base $\\ket{\\lambda_i}$ es diagonal \n",
    "\n",
    "$$\n",
    "A_{ij} = \\bra{\\lambda^a_i} A\\ket{\\lambda^b_j} =  \\lambda_k \\delta_{kj} \\delta_{ab} =\\begin{bmatrix} \\lambda_1 &  &  &  &  \\\\ & \\ddots & & & \\\\ & & \\lambda_2 & &  \\\\&  & & \\ddots & \\\\  & & & &  \\lambda_N \\end{bmatrix}\n",
    "$$\n",
    "\n",
    "donde $\\lambda_k$ aparecerá $d_k$ veces repetido."
   ]
  },
  {
   "cell_type": "markdown",
   "id": "499a7223",
   "metadata": {
    "slideshow": {
     "slide_type": "skip"
    }
   },
   "source": [
    ":::{admonition} Nota\n",
    ":class: note\n",
    "\n",
    "El operador identidad tiene a cualquier vector por autovector $ I\\ket{v} = \\ket{v}$, con autovalores $\\lambda_ i = 1$. Por tanto, en <b>cualquier base</b>, la matriz asociada a $I$ tiene la forma diagonal\n",
    "\n",
    "$$\n",
    "I_{ij} = \\delta_{ij} = \\begin{pmatrix} 1 &  &  &  \\\\ & 1 & &  \\\\ & & \\ddots & \\\\ & & &  1 \\end{pmatrix}\n",
    "$$\n",
    "\n",
    "\n",
    "- La descomposición espectral de $I$ no es otra que la <b>relación de completitud</b>, que es cierta *para cualquier base*, ya que todas las bases son bases de autoestados de $I$\n",
    "\n",
    "$$\n",
    "I ~=~ \\sum_{i=1}^N \\ketbra{\\lambda_i}{\\lambda_i} ~=~ \\sum_{i=1}^N \\ketbra{e_i}{e_i}\n",
    "$$\n",
    "\n",
    ":::"
   ]
  },
  {
   "cell_type": "markdown",
   "id": "26207dd5",
   "metadata": {},
   "source": [
    ":::{admonition} Ejercicio *(explícaselo a tu ordenador)*\n",
    ":class: tip\n",
    "\n",
    "Escribe una función en python, `spectral_decomp`, que verifique si un operador $A$ es normal y, en caso afirmativo, devuelva las dos listas $\\lambda_i$ y $P_i$ asociadas a la decomposición espectral  $A = \\sum_i \\lambda_i P_i$.   \n",
    ":::"
   ]
  },
  {
   "cell_type": "markdown",
   "id": "d911cc7f",
   "metadata": {
    "slideshow": {
     "slide_type": "slide"
    }
   },
   "source": [
    "### Espectro de Operadores Hermíticos, Unitarios y Proyectores"
   ]
  },
  {
   "cell_type": "markdown",
   "id": "4e7c75d3-0bc3-4723-a25c-9224cfb38488",
   "metadata": {},
   "source": [
    "Los operadores hermíticos, unitarios y proyectores, son casos particulares de operadores  normales. Por tanto son diagonalizables y sus autovectores, asociados a autovalores distintos, generan subespacios mútuamente ortogonales. \n",
    "\n",
    "\n",
    "Vamos a ver cómo los requisitos adicionales que definend operadores hermíticos, unitarios y proyectores, se traducen en propiedades particulares para sus espectros. "
   ]
  },
  {
   "cell_type": "markdown",
   "id": "077177ed",
   "metadata": {},
   "source": [
    "\n",
    "- **Espectro de Operadores Hermíticos**\n",
    "\n",
    "::::{card}\n",
    "\n",
    "**Teorema**\n",
    "\n",
    "^^^\n",
    "\n",
    "\n",
    "Los autovalores de un operador hermíticos son reales $\\lambda_i \\in {\\mathbb R}$.\n",
    "\n",
    ":::{dropdown} Demostración\n",
    "\n",
    "Tomemos un autovector normalizado de $A$, $\\ket{\\lambda}$ de autovalor $\\lambda$.\n",
    "\n",
    "$$\n",
    "\\lambda = \\bra{\\lambda}A\\ket{\\lambda} =  (\\bra{\\lambda}A^\\dagger\\ket{\\lambda})^* = (\\bra{\\lambda}A\\ket{\\lambda})^*= \\lambda^* .~~~\n",
    "$$   \n",
    "\n",
    ":::\n",
    "::::\n"
   ]
  },
  {
   "cell_type": "markdown",
   "id": "edaa8323",
   "metadata": {
    "slideshow": {
     "slide_type": "skip"
    }
   },
   "source": [
    ":::{admonition} Ejericio *(explícaselo a tu ordenador)*\n",
    ":class: tip\n",
    "\n",
    "Escribe una función en python, `random_hermitian`, que reciba un número entero $d$ y genere una matriz hermítica de esa dimensión. <br>    \n",
    "Comprueba en distintos casos que el espectro es real. \n",
    "\n",
    ":::\n",
    " "
   ]
  },
  {
   "cell_type": "markdown",
   "id": "aca5bc42",
   "metadata": {
    "slideshow": {
     "slide_type": "slide"
    }
   },
   "source": [
    "- **Espectro de Operadores Unitarios**\n",
    "\n",
    "::::{card}\n",
    "\n",
    "**Teorema**\n",
    "\n",
    "^^^\n",
    "\n",
    "Los autovalores de un operador unitario son fases puras\n",
    "\n",
    "$$\n",
    "U^\\dagger = U^{-1} ~~~\\Longleftrightarrow ~~~\\lambda_i = e^{i\\phi_i}\n",
    "$$ \n",
    "\n",
    ":::{dropdown} Demostración\n",
    "\n",
    "Aquí tu prueba\n",
    "    \n",
    ":::\n",
    "::::"
   ]
  },
  {
   "cell_type": "markdown",
   "id": "b9630442",
   "metadata": {
    "slideshow": {
     "slide_type": "slide"
    }
   },
   "source": [
    "- **Espectro de Proyectores**\n",
    "\n",
    "::::{card}\n",
    "\n",
    "**Teorema**\n",
    "\n",
    "^^^\n",
    "\n",
    "Los autovalores de un proyector sólo pueden ser $~0~$ ó $~1~$\n",
    "\n",
    "$$\n",
    "P^2= P ~~~\\Longleftrightarrow ~~~\\lambda_i \\in \\{0,1\\}\n",
    "$$ \n",
    "\n",
    ":::{dropdown} Demostración\n",
    "\n",
    "La ecuación \n",
    "    \n",
    "$$ P^2 = P ~~~~~\\Rightarrow ~~~~~~~~ P^2 \\ket{u} = P\\ket{u} $$\n",
    "\n",
    "sólo tiene dos soluciones consistentes \n",
    "    \n",
    "$$\n",
    "P\\ket{u} = \\ket{u}~~~~~~~\\hbox{y} ~~~~~~~~~~P\\ket{u} = 0\n",
    "$$\n",
    "\n",
    ":::\n",
    "::::\n"
   ]
  },
  {
   "cell_type": "markdown",
   "id": "511cc8cd",
   "metadata": {
    "slideshow": {
     "slide_type": "skip"
    }
   },
   "source": [
    "### Operadores que conmutan"
   ]
  },
  {
   "cell_type": "markdown",
   "id": "6e90a7bb-d98f-433c-be2c-996e4e82ec34",
   "metadata": {},
   "source": [
    "Cuando dos operadores conmutan se dan ciertas propiedades algebraicas que son muy ventajosas. En cierto modo se parecen más a c-números. Veamos la primera.\n",
    " \n",
    "::::{card}\n",
    "\n",
    "**Teorema**\n",
    "\n",
    "^^^\n",
    "\n",
    "Dados dos operadores $A$ y $B$ que conmutan, [A,B] = 0, existe una base $\\{\\ket{\\lambda_i}\\}$ de autovalores simultáneos de ambos operadores, es decir \n",
    "\n",
    "$$\n",
    "A = \\lambda_i^A\\ketbra{\\lambda_i}{\\lambda_i} ~~~~,~~~~~ B= \\lambda_i^B\\ketbra{\\lambda_i}{\\lambda_i} \n",
    "$$\n",
    "\n",
    ":::{dropdown} Demostración\n",
    "\n",
    "Supongamos que $A$ y $B$ conmutan. Entonces la acción de $A$ <i>estabiliza</i> los subespacios propios de $B$. \n",
    "\n",
    "Es decir, si $\\ket{\\lambda}$ es autoestado de $B$, entonces $B\\ket{\\lambda} = \\ket{\\mu}$ también es autoestado con idéntico autovalor. Se comprueba fácilmente\n",
    "\n",
    "$$\n",
    "A(B\\ket{\\lambda} ) = B(A\\ket{\\lambda}) = B(\\lambda\\ket{\\lambda}) = \\lambda (B\\ket{\\lambda})\n",
    "$$\n",
    "\n",
    "Por tanto $\\ket{\\lambda}$ y $B\\ket{\\lambda}$ pertenecen al <i>mismo subespacio propio</i>. Esto es lo que se entiende por <i>estabilizar el subespacio</i>. \n",
    "\n",
    "\n",
    "Si $\\lambda$ es degenerado esto sólo asegura que $B\\ket{\\lambda} = \\ket{\\lambda'}$ pertenece al subespacio propio del mismo autovalor $\\lambda$. \n",
    "\n",
    "Esto quiere decir que, dento de cada subespacio propio de $B$, podemos escoger la base que queramos. En particular podemos escoger una base que diagonalice $A$ dentro de dicho subespacio.     \n",
    "\n",
    ":::\n",
    "::::"
   ]
  },
  {
   "cell_type": "markdown",
   "id": "1c70272c",
   "metadata": {
    "slideshow": {
     "slide_type": "skip"
    }
   },
   "source": [
    "En otras palabras, dos operadores que conmutan, son diagonalizables simultáneamente. \n",
    "\n",
    "Eso no implica que sus autovalores sean iguales. La matriz de cada uno en la base que diagonaliza ambos $\\{\\ket{\\lambda_i}\\}$ es\n",
    "<br>\n",
    "\n",
    "$$\n",
    "A = \\begin{bmatrix} \\lambda^A_1 & & &  \\\\ & \\lambda^A_2 & &   \\\\ & & \\ddots &  \\\\ & & & \\lambda^A_n \n",
    "\\end{bmatrix}~~~~~~~,~~~~~~~~\n",
    "B = \\begin{bmatrix} \\lambda^B_1 & & &  \\\\ & \\lambda^B_2 & &   \\\\ & & \\ddots &  \\\\ & & & \\lambda^B_n \n",
    "\\end{bmatrix}\\, .\n",
    "$$"
   ]
  },
  {
   "cell_type": "markdown",
   "id": "d543d07a",
   "metadata": {
    "slideshow": {
     "slide_type": "skip"
    }
   },
   "source": [
    "### Descomposición Polar (DP)"
   ]
  },
  {
   "cell_type": "markdown",
   "id": "9acf4f7e-9c9c-495f-a4cf-857f7bbfc71a",
   "metadata": {},
   "source": [
    ":::{card}\n",
    "\n",
    "**Teorema**\n",
    "\n",
    "^^^\n",
    "\n",
    "Todo operador $A\\in \\Lin(\\Hil)$ admite la descomposición polar $A = UR$ donde $U$ es un operador unitario, y $R$ es un operador semi-definido positivo (sólo tiene autovalores positivos o cero) \n",
    ":::"
   ]
  },
  {
   "cell_type": "markdown",
   "id": "aa2c3ecc",
   "metadata": {
    "slideshow": {
     "slide_type": "skip"
    }
   },
   "source": [
    "- La descomposición polar es *única* y generaliza la representación polar de *números complejos* $z = r e^{i\\phi}$ a *operadores*  $A = UR$\n",
    "<br>\n",
    "\n",
    "- El hecho de que $r\\geq 0$ es la contrapartida a que $R$ sea semi-definida positiva. \n",
    "<br>\n",
    "\n",
    "- El factor $e^{i\\phi}$ es análogo al hecho de que un operador unitario, como veremos, sólo tiene autovalores que son fases puras. "
   ]
  },
  {
   "cell_type": "code",
   "execution_count": 20,
   "id": "af607659",
   "metadata": {
    "slideshow": {
     "slide_type": "skip"
    }
   },
   "outputs": [
    {
     "name": "stdout",
     "output_type": "stream",
     "text": [
      "[2.252+0.j 0.417-0.j 0.875+0.j]\n"
     ]
    },
    {
     "data": {
      "text/latex": [
       "$$\n",
       "U=\n",
       "\\begin{bmatrix}\n",
       "-0.0580178141 + 0.1884493112 i & 0.384923871 + 0.2482082334 i & 0.8633350933 - 0.0774570427 i  \\\\\n",
       " 0.3911086141 + 0.1644672642 i & 0.6524985568 + 0.4513831759 i & -0.4195077651 + 0.1204021086 i  \\\\\n",
       " 0.7292141087 + 0.4993517247 i & -0.3416929121 - 0.2096928755 i & 0.1681509064 + 0.1729010213 i  \\\\\n",
       " \\end{bmatrix}\n",
       "$$"
      ],
      "text/plain": [
       "<IPython.core.display.Latex object>"
      ]
     },
     "metadata": {},
     "output_type": "display_data"
    },
    {
     "data": {
      "text/latex": [
       "$$\n",
       "U^\\dagger U=\n",
       "\\begin{bmatrix}\n",
       "1 & 0 & 0  \\\\\n",
       " 0 & 1 & 0  \\\\\n",
       " 0 & 0 & 1  \\\\\n",
       " \\end{bmatrix}\n",
       "$$"
      ],
      "text/plain": [
       "<IPython.core.display.Latex object>"
      ]
     },
     "metadata": {},
     "output_type": "display_data"
    },
    {
     "data": {
      "text/plain": [
       "array([1., 1., 1.])"
      ]
     },
     "execution_count": 20,
     "metadata": {},
     "output_type": "execute_result"
    }
   ],
   "source": [
    "'''Método para construir una matriz unitaria arbitraria usando la descomposición polar'''\n",
    "d = 3\n",
    "A = np.matrix(np.random.rand(d,d)+ np.random.rand(d,d) * 1j)\n",
    "\n",
    "#u, s, vh = linalg.svd(A, full_matrices=False)\n",
    "u,r = la.polar(A)\n",
    "    \n",
    "R = np.matrix(r) \n",
    "' verificamos que R sólo tiene autovalores no-negativos '\n",
    "Reigval, Reigvec = la.eig(R)\n",
    "print(np.round(Reigval,3))\n",
    "\n",
    "U=np.matrix(u) \n",
    "display(array_to_latex(U,prefix='U='))\n",
    "\n",
    "''' Verifiquemos unitariedad '''\n",
    "display(array_to_latex(np.dot(U.getH(),U),prefix='U^\\dagger U='))\n",
    "\n",
    "''' verificamos que los autovalores de U tienen norma unidad'''\n",
    "np.round([la.norm(la.eig(U)[0][i]) for i in range(d)],5)"
   ]
  },
  {
   "cell_type": "markdown",
   "id": "248ec9f7",
   "metadata": {
    "slideshow": {
     "slide_type": "slide"
    }
   },
   "source": [
    "### Descomposición en Valores Singulares (SVD)\n"
   ]
  },
  {
   "cell_type": "markdown",
   "id": "090cde1f",
   "metadata": {
    "slideshow": {
     "slide_type": "skip"
    }
   },
   "source": [
    "Vamos a enunciar este teorema para matrices. Concretamente el teorema habla de una matriz $m\\times n$. Este tipo de matrices se corresponden con operadores $O \\in \\Lin(\\Hil_A,\\Hil_B)$ entre espacios de dimensiones $m$ y $n$."
   ]
  },
  {
   "cell_type": "markdown",
   "id": "3a4c2230",
   "metadata": {},
   "source": [
    "Sea $A\\in \\Lin(\\Hil)$ un operador arbitrario. Podemos formar otro operador $A^\\dagger A$ \n",
    "\n",
    "::::{card}\n",
    "\n",
    "**Lema**\n",
    "\n",
    "^^^\n",
    "\n",
    "\n",
    "Los autovalores de $A^\\dagger A$ son realess, $\\lambda_i\\in {\\mathbb R}$,  y no-negativos $\\lambda_i\\geq 0$\n",
    "\n",
    ":::{dropdown} Desmostración\n",
    "\n",
    "Claramente $A^\\dagger A$ es un operador hermítico $(A^\\dagger A)^\\dagger = A^\\dagger A$, así que sus autovalores son reales $\\lambda_i \\in {\\mathbb R}$. \n",
    "\n",
    "Además es definido semi-positivo. Es decir, para todo $\\ket{v}\\in \\Hil$\n",
    "\n",
    "$$\n",
    "\\bra{v}(A^\\dagger A) \\ket{v} = \\| A\\ket{v}\\|^2 \\geq 0 \n",
    "$$\n",
    "\n",
    "donde la desigualdad de satura si y sólo si $A\\ket{v} = 0$. Por tanto todos los autovalores deben ser positivos o cero $\\lambda_i \\geq 0$\n",
    "    \n",
    ":::\n",
    "::::"
   ]
  },
  {
   "cell_type": "markdown",
   "id": "9e6c3cc3",
   "metadata": {},
   "source": [
    "Al ser no-negativos, los autovalores $\\lambda_i$ admiten una raíz cuadrada. Los que no son nulos tienen una importancia especial, y por eso se merecen un nombre \n",
    "\n",
    ":::{card}\n",
    "\n",
    "**Definición**\n",
    "\n",
    "^^^\n",
    "\n",
    "Los números $\\sigma_i = \\sqrt{\\lambda_i} > 0$ se denominan <b>valores singulares</b> de $A$, donde $\\lambda_i>0$ son los autovalores no-nulos de $A^\\dagger A$.\n",
    "\n",
    ":::"
   ]
  },
  {
   "cell_type": "markdown",
   "id": "c928d454",
   "metadata": {
    "slideshow": {
     "slide_type": "-"
    }
   },
   "source": [
    ":::{card}\n",
    "\n",
    "**Teorema**\n",
    "\n",
    "^^^\n",
    "\n",
    "Sea $A$ una matriz compleja $m\\times n$. Entonces  admite la siguiente <b>descomposición en valores singulares</b>\n",
    "\n",
    "$$\n",
    "A = U\\,\\Sigma\\, V^{\\dagger} \\, ,\n",
    "$$\n",
    "\n",
    "donde $U\\in U(m)$, $V\\in U(n)$ son matrices unitarias cuadradas y $\\,\\Sigma \\,$ es una matriz rectangular $m\\times n$ con $\\sigma_1, ...,\\sigma_r$ <i>valores singulares</i> reales y positivos   en la diagonal, donde $r\\leq {\\rm min}(m,n)$. \n",
    ":::    \n"
   ]
  },
  {
   "cell_type": "code",
   "execution_count": 67,
   "id": "dbd4c215",
   "metadata": {
    "slideshow": {
     "slide_type": "slide"
    }
   },
   "outputs": [
    {
     "data": {
      "text/latex": [
       "$$\n",
       "A=\n",
       "\\begin{bmatrix}\n",
       "0.0773964539 + 0.6810737331 i & 0.3585454477 + 0.9496809919 i  \\\\\n",
       " 1.246739534 - 1.5756473101 i & 1.3594037303 - 0.5276024719 i  \\\\\n",
       " -0.0438868881 - 1.0118714004 i & 1.1447671705 + 0.4355408865 i  \\\\\n",
       " \\end{bmatrix}\n",
       "$$"
      ],
      "text/plain": [
       "<IPython.core.display.Latex object>"
      ]
     },
     "metadata": {},
     "output_type": "display_data"
    },
    {
     "name": "stdout",
     "output_type": "stream",
     "text": [
      "the shape of A is : (3, 2)\n"
     ]
    }
   ],
   "source": [
    "A = np.random.randn(3,2)+ 1j*np.random.randn(3,2)\n",
    "display(array_to_latex(A,prefix='A='))\n",
    "print( 'the shape of A is :', A.shape)"
   ]
  },
  {
   "cell_type": "code",
   "execution_count": 71,
   "id": "1e4e77d3",
   "metadata": {
    "slideshow": {
     "slide_type": "slide"
    }
   },
   "outputs": [
    {
     "data": {
      "text/latex": [
       "$$\n",
       "U=\n",
       "\\begin{bmatrix}\n",
       "-0.221884957 - 0.2758058122 i & -0.524926579 + 0.0886189877 i & -0.6588351925 - 0.3965263807 i  \\\\\n",
       " -0.4612709323 + 0.6898625619 i & 0.284654761 - 0.059596911 i & -0.0864338709 - 0.4682604339 i  \\\\\n",
       " -0.244557824 + 0.355258305 i & -0.7422690947 - 0.2847019986 i & 0.3110792517 + 0.2918802318 i  \\\\\n",
       " \\end{bmatrix}\n",
       "$$"
      ],
      "text/plain": [
       "<IPython.core.display.Latex object>"
      ]
     },
     "metadata": {},
     "output_type": "display_data"
    },
    {
     "data": {
      "text/latex": [
       "$$\n",
       "\\Sigma=\n",
       "\\begin{bmatrix}\n",
       "4.9357412272 & 0  \\\\\n",
       " 0 & 2.1537080903  \\\\\n",
       " 0 & 0  \\\\\n",
       " \\end{bmatrix}\n",
       "$$"
      ],
      "text/plain": [
       "<IPython.core.display.Latex object>"
      ]
     },
     "metadata": {},
     "output_type": "display_data"
    },
    {
     "data": {
      "text/latex": [
       "$$\n",
       "V=\n",
       "\\begin{bmatrix}\n",
       "-0.7479798321 & 0.6637214558  \\\\\n",
       " -0.4920794208 + 0.4454032044 i & -0.5545481155 + 0.5019464282 i  \\\\\n",
       " \\end{bmatrix}\n",
       "$$"
      ],
      "text/plain": [
       "<IPython.core.display.Latex object>"
      ]
     },
     "metadata": {},
     "output_type": "display_data"
    },
    {
     "data": {
      "text/latex": [
       "$$\n",
       "U^{\\dagger}U =\n",
       "\\begin{bmatrix}\n",
       "1 & 0 & 0  \\\\\n",
       " 0 & 1 & 0  \\\\\n",
       " 0 & 0 & 1  \\\\\n",
       " \\end{bmatrix}\n",
       "$$"
      ],
      "text/plain": [
       "<IPython.core.display.Latex object>"
      ]
     },
     "metadata": {},
     "output_type": "display_data"
    },
    {
     "data": {
      "text/latex": [
       "$$\n",
       "V^{\\dagger}V =\n",
       "\\begin{bmatrix}\n",
       "1 & 0  \\\\\n",
       " 0 & 1  \\\\\n",
       " \\end{bmatrix}\n",
       "$$"
      ],
      "text/plain": [
       "<IPython.core.display.Latex object>"
      ]
     },
     "metadata": {},
     "output_type": "display_data"
    }
   ],
   "source": [
    "U, sig, Vadj = la.svd(A, full_matrices=True)\n",
    "m = U.shape[0]\n",
    "n = Vadj.shape[0]\n",
    "\n",
    "V = Vadj.T.conj()\n",
    "Sigma = np.zeros([m,n])\n",
    "for i in range(min(m,n)):\n",
    "    Sigma[i,i]=s[i]\n",
    "\n",
    "    \n",
    "display(array_to_latex(U,prefix='U='))\n",
    "display(array_to_latex(Sigma,prefix='\\Sigma='))\n",
    "display(array_to_latex(V,prefix='V='))\n",
    "\n",
    "'''Verifiquemos unitariedad'''\n",
    "display(array_to_latex(np.dot(U.T.conj(),U),prefix='U^{\\dagger}U ='))\n",
    "display(array_to_latex(np.dot(V.T.conj(),V),prefix='V^{\\dagger}V ='))\n",
    "\n"
   ]
  },
  {
   "cell_type": "code",
   "execution_count": 84,
   "id": "945c5b0d",
   "metadata": {},
   "outputs": [
    {
     "name": "stdout",
     "output_type": "stream",
     "text": [
      "[1.4137767  8.77588808]\n"
     ]
    },
    {
     "data": {
      "text/latex": [
       "$$\n",
       "H=\n",
       "\\begin{bmatrix}\n",
       "-0.6637214558 & -0.7479798321  \\\\\n",
       " 0.5545481155 - 0.5019464282 i & -0.4920794208 + 0.4454032044 i  \\\\\n",
       " \\end{bmatrix}\n",
       "$$"
      ],
      "text/plain": [
       "<IPython.core.display.Latex object>"
      ]
     },
     "execution_count": 84,
     "metadata": {},
     "output_type": "execute_result"
    }
   ],
   "source": [
    "(sig1, V) = la.eigh(np.dot(A.T.conj(),A))\n",
    "\n",
    "print(sig1)\n",
    "array_to_latex(V, prefix='H=')"
   ]
  },
  {
   "cell_type": "code",
   "execution_count": 83,
   "id": "06687410",
   "metadata": {},
   "outputs": [
    {
     "name": "stdout",
     "output_type": "stream",
     "text": [
      "[-4.44655927e-16  1.41377670e+00  8.77588808e+00]\n"
     ]
    },
    {
     "data": {
      "text/latex": [
       "$$\n",
       "U=\n",
       "\\begin{bmatrix}\n",
       "0.7689583744 & 0.5323544293 & 0.3539799149  \\\\\n",
       " 0.3155220089 + 0.3566293733 i & -0.2906038897 + 0.0113799858 i & -0.2483729147 - 0.7918283416 i  \\\\\n",
       " -0.417042302 - 0.0896665427 i & 0.6845190979 + 0.4042922724 i & -0.1235058862 - 0.4132351493 i  \\\\\n",
       " \\end{bmatrix}\n",
       "$$"
      ],
      "text/plain": [
       "<IPython.core.display.Latex object>"
      ]
     },
     "execution_count": 83,
     "metadata": {},
     "output_type": "execute_result"
    }
   ],
   "source": [
    "(sig2, U) = la.eigh(np.dot(A,A.T.conj()))\n",
    "\n",
    "print(sig2)\n",
    "array_to_latex(U, prefix='U=')"
   ]
  },
  {
   "cell_type": "markdown",
   "id": "a5b6cce4",
   "metadata": {},
   "source": [
    "No acaba de salir $U$"
   ]
  },
  {
   "cell_type": "markdown",
   "id": "82cdf99f",
   "metadata": {
    "slideshow": {
     "slide_type": "skip"
    }
   },
   "source": [
    "## Traza de un operador"
   ]
  },
  {
   "cell_type": "markdown",
   "id": "9ff182b3",
   "metadata": {
    "slideshow": {
     "slide_type": "slide"
    }
   },
   "source": [
    "### Definición de traza de un operador\n",
    "\n",
    ":::{card}\n",
    "\n",
    "**Definción**\n",
    "\n",
    "^^^\n",
    "\n",
    "La traza de un operador $A$ se define como la suma de elementos diagonales de su matriz\n",
    "   \n",
    "$$\n",
    "\\tr A = \\sum_ i \\bra{e_i} A\\ket{e_i} =  \\sum_{i} A_{ii} \n",
    "$$\n",
    "\n",
    "de sus elementos de matriz diagonales <u> en cualquier base </u>        \n",
    ":::"
   ]
  },
  {
   "cell_type": "markdown",
   "id": "15c0026e",
   "metadata": {
    "slideshow": {
     "slide_type": "slide"
    }
   },
   "source": [
    "Para ser consistente esta definición es necesario probar que se puede calcular en cualquier base\n",
    "\n",
    "::::{card} \n",
    "\n",
    "**Lema**\n",
    "\n",
    "^^^\n",
    "\n",
    "La traza de un operador es <i>independiente de la base</i> en la que se calcule\n",
    "\n",
    ":::{dropdown} Demostración\n",
    "\n",
    "\\begin{eqnarray} Sean $\\{\\ket{i}\\}$ y $\\{\\ket{\\tilde i}\\}$ dos bases cualesquiera. Entonces\n",
    "{\\rm tr} A  &=&\\sum_i A_{ii} =\\sum_{i} \\bra{i}A\\ket{i} =\\sum_{i} \\bra{i}A\\left( \\sum_j\\ketbra{\\tilde j}{\\tilde j}\\right)\\ket{i}\n",
    "\\nonumber\\\\\n",
    "&=& \\sum_{ij}\\bra{i}A\\ket{\\tilde j} \\braket{\\tilde j}{i} = \\sum_{ij}\\braket{\\tilde j}{i}\\bra{i}A\\ket{\\tilde j}  \\nonumber\\\\\n",
    "&=& \\sum_{j} \\bra{\\tilde j}\\left(\\sum_i\\ketbra{i}{i}\\right) A \\ket{\\tilde j}= \\sum_{j} \\bra{\\tilde j}A\\ket{\\tilde j}\\nonumber\\\\\n",
    "&=& \\sum_j \\tilde A_{jj}\n",
    "\\end{eqnarray}\n",
    "\n",
    "\n",
    ":::\n",
    "::::"
   ]
  },
  {
   "cell_type": "markdown",
   "id": "dcc64d79",
   "metadata": {
    "slideshow": {
     "slide_type": "slide"
    }
   },
   "source": [
    "- Si $A$ es diagonalizable, la traza es la suma de sus autovalores. En efecto, si $\\ket{\\lambda_i}$ es la base de autoestados \n",
    "<br>\n",
    "<br>\n",
    "$$\n",
    "A\\ket{\\lambda_j} = \\lambda_i \\ket{\\lambda_i}\n",
    "$$ \n",
    "<br>\n",
    "entonces\n",
    "<br>\n",
    "$$\n",
    "{\\rm tr} A = \\sum_i \\bra{\\lambda_i}A\\ket{\\lambda_i} = \\sum_i \\lambda_i\n",
    "$$\n"
   ]
  },
  {
   "cell_type": "markdown",
   "id": "1b440807",
   "metadata": {
    "slideshow": {
     "slide_type": "skip"
    }
   },
   "source": [
    "- La traza es una operación *lineal*\n",
    "<br>\n",
    "<br>\n",
    "$$\n",
    "{\\rm tr} (A + B ) = {\\rm tr}A + {\\rm tr}B\n",
    "$$"
   ]
  },
  {
   "cell_type": "markdown",
   "id": "e30a9a1c",
   "metadata": {
    "slideshow": {
     "slide_type": "slide"
    }
   },
   "source": [
    "- La traza de un producto de operadores tiene la propiedad de *cíclicidad*: es invariante bajo permutaciones  cíclicas de los operadores en su argumento. Por ejemplo, para tres operadores $A, B$ y $C$\n",
    "\n",
    "$$\n",
    "{\\rm tr}(ABC)= {\\rm tr}(BCA) \n",
    "$$\n",
    "\n",
    ":::{dropdown} Prueba\n",
    "\n",
    "\\begin{eqnarray} \n",
    "    {\\rm tr}(ABC)&=&\\sum_i (ABC)_{ii} =  \\sum_{ijk} A_{ij}B_{jk}C_{ki}\\\\\n",
    "    &=& \\sum_{ijk} B_{jk}C_{ki}A_{ij} = \\sum_j (BCA)_{jj}\\\\\n",
    "    &=&  {\\rm tr}(BCA)\n",
    "\\end{eqnarray}\n",
    ":::\n",
    "\n",
    "Para un producto de dos operadores, el anterior resultado implica que la *traza de un conmutador es cero*. Dicho de otra forma\n",
    "\n",
    "$$\n",
    "{\\rm tr}(AB) = {\\rm tr}(BA) ~~~\\Rightarrow ~~~~{\\rm tr}([A,B]) = 0 \\, .\n",
    "$$"
   ]
  },
  {
   "cell_type": "markdown",
   "id": "39e4274a",
   "metadata": {
    "slideshow": {
     "slide_type": "fragment"
    }
   },
   "source": [
    "- Sea el operador *producto externo* de dos vectores $A = \\ketbra{u}{v}$. Entonces \n",
    "\n",
    "$$\n",
    "\\tr \\left(\\rule{0mm}{5mm}\\ketbra{u}{v}\\right)  = \\braket{v}{u}\n",
    "$$\n",
    "\n",
    ":::{dropdown} Prueba\n",
    "\n",
    "$$ \n",
    "\\tr \\left(\\rule{0mm}{5mm}\\ketbra{u}{v}\\right) = \\sum_i \\braket{e_i}{u}\\braket{v}{e_i} = \\bra{v}\\left(\\sum_i \\ketbra{e_i}{e_i}\\right) \\ket{u} = \\braket{v}{u}\n",
    "$$\n",
    "\n",
    "::: "
   ]
  },
  {
   "cell_type": "markdown",
   "id": "c965dc48",
   "metadata": {
    "slideshow": {
     "slide_type": "slide"
    }
   },
   "source": [
    "### $\\Lin(\\Hil)$ como un espacio de Hilbert"
   ]
  },
  {
   "cell_type": "markdown",
   "id": "f187a4a7",
   "metadata": {
    "slideshow": {
     "slide_type": "-"
    }
   },
   "source": [
    "Para transformar $\\Lin(\\Hil)$ en un espacio de Hilbert sólo es necesario definir un *producto escalar hermítico* entre dos elementos \n",
    "\n",
    ":::{card}\n",
    "\n",
    "**Definición**\n",
    "\n",
    "^^^\n",
    "\n",
    "Dados dos operadores lineales,  $A, B \\in \\Lin(\\Hil)$  definimos su <i> producto escalar </i>  $( A, B)\\in {\\mathbb C}$\n",
    "\n",
    "$$\n",
    "( A, B) \\equiv {\\rm tr}\\left( A^\\dagger B \\right) \n",
    "$$\n",
    "\n",
    ":::"
   ]
  },
  {
   "cell_type": "markdown",
   "id": "e752a88a",
   "metadata": {
    "slideshow": {
     "slide_type": "skip"
    }
   },
   "source": [
    "En una base tenemos que\n",
    "\n",
    "$$\n",
    "(A,B) = \\sum_{ij} A^\\dagger_{ij} B_{ji} = \\sum_{ij} A^*_{ji} B_{ji}\n",
    "$$\n",
    "\n",
    "mientras que \n",
    "\n",
    "$$\n",
    "(B,A) = \\sum_{ij} B^\\dagger_{ij} A_{ji} = \\sum_{ij} B^*_{ji} A_{ji}\n",
    "$$\n",
    "\n",
    "Se sigue que  $(B,A) = (A,B)^*$. Además es trivial comprobar que  $(A,B+C) = (A,B) + (A,C)$, por lo que se trata de un *producto escalar hermítico*"
   ]
  },
  {
   "cell_type": "markdown",
   "id": "42e0609a",
   "metadata": {
    "slideshow": {
     "slide_type": "slide"
    }
   },
   "source": [
    "### $\\Lin(\\Hil)$ como un espacio normado"
   ]
  },
  {
   "cell_type": "markdown",
   "id": "3ef94ae8",
   "metadata": {},
   "source": [
    "Una **norma** definida sobre $\\Lin(\\Hil)  $es un una función real $ A\\to  \\| A\\| \\in {\\mathbb R}$ con las propiedades \n",
    "que se han definido en una [sección anterior](../00_Formalismo/01_Vectores.ipynb#norm)"
   ]
  },
  {
   "cell_type": "markdown",
   "id": "7efe3b8f",
   "metadata": {},
   "source": [
    ":::{card}\n",
    "\n",
    "**Definción** *(norma Shatten)*\n",
    "\n",
    "^^^\n",
    "\n",
    "Dado un operador $A\\in \\Lin(\\Hil)$ la función  \n",
    "\n",
    "$$\n",
    "\\| A \\|_p =  \\left({\\rm tr} \\left(A^\\dagger A\\right)^{p/2} \\right)^{1/p}\n",
    "$$\n",
    "\n",
    "define una norma, denominada <b>$p$-norma de Shatten</b>.\n",
    "\n",
    ":::"
   ]
  },
  {
   "cell_type": "markdown",
   "id": "66c8e2bf",
   "metadata": {
    "slideshow": {
     "slide_type": "skip"
    }
   },
   "source": [
    " Ya hemos mencionado que el operador $A^\\dagger A$ es un operador con propiedades importantes cuyos autovalores son los cuadrados de los valores principales $\\lambda_i = \\sigma_i^2$. Es decir, en la base diagonal\n",
    " $$\n",
    " A^\\dagger A = \\begin{pmatrix} \\sigma_1^2 & & & & &  \\\\ & \\ddots & & & \\\\ & & \\sigma_r^2 & & & \\\\ & & & 0 & &\\\\ & & & & \\ddots & \\\\ & & & & & 0 \\end{pmatrix}\n",
    " $$"
   ]
  },
  {
   "cell_type": "markdown",
   "id": "2b0302cf",
   "metadata": {
    "slideshow": {
     "slide_type": "-"
    }
   },
   "source": [
    "Los tres casos más frecuentes son\n",
    "\n",
    "- $p=1$ **norma de la traza** $~\\Rightarrow ~  \\| A \\|_1 =  {\\rm tr} \\sqrt{A^\\dagger A}$\n",
    "<br>\n",
    "\n",
    "\n",
    "Esta norma es igual a la suma de los valores singulares de $A ~\\Rightarrow ~\\| A \\|_1  = \\sum_i^r \\sigma_i$"
   ]
  },
  {
   "cell_type": "markdown",
   "id": "28893f6b",
   "metadata": {},
   "source": [
    "\n",
    "- $p=2$ **norma de Frobenius** $~\\Rightarrow ~ \\| A \\|_2 =  \\sqrt{{ \\rm tr} A^\\dagger A }$\n",
    "<br>\n",
    "\n",
    "La norma de Frobenius es la que se obtiene a partir  del producto escalar $\\|A\\|_2 = (A,A)$"
   ]
  },
  {
   "cell_type": "markdown",
   "id": "c8b6403c",
   "metadata": {},
   "source": [
    "\n",
    "- $p=\\infty$ **norma espectral** $~\\Rightarrow ~  \\| A \\|_\\infty = \\lim_{p\\to \\infty} \\| A \\|_p$\n",
    "\n",
    "Puede demostrarse que la norma espectral es equivalente a la siguiente definición\n",
    "\n",
    "$$\n",
    "\\|A\\|_\\infty = \\hbox{max}_{\\ket{u}\\in \\Hil}\\{ \\|A\\ket{u}\\| ~~\\hbox{con} ~ \\|\\ket{u}\\| = 1\\}\n",
    "$$\n"
   ]
  },
  {
   "cell_type": "markdown",
   "id": "a467968b",
   "metadata": {},
   "source": [
    ":::{admonition} Ejercicio (explícaselo a tu ordenador)\n",
    ":class: tip\n",
    "\n",
    "Escribe una función en python, `trace_norm(A_{ij})`, que calcule la norma de la traza de un operador $A$ dado por una matriz $A_{ij}$.\n",
    ":::"
   ]
  },
  {
   "cell_type": "markdown",
   "id": "a4cf1c06",
   "metadata": {
    "slideshow": {
     "slide_type": "slide"
    }
   },
   "source": [
    "### Distancia de traza"
   ]
  },
  {
   "cell_type": "markdown",
   "id": "40aeb16e",
   "metadata": {
    "slideshow": {
     "slide_type": "skip"
    }
   },
   "source": [
    "Cualquier norma permite definir una noción de *distancia* o *diferencia* entre dos operadores. "
   ]
  },
  {
   "cell_type": "markdown",
   "id": "e01a7bad",
   "metadata": {
    "slideshow": {
     "slide_type": "-"
    }
   },
   "source": [
    ":::{card}\n",
    "\n",
    "**Definción** \n",
    "\n",
    "^^^\n",
    "\n",
    "Se define la  <b> distancia de traza</b> entre dos operadores $A$ y $B$ como la <i>norma del operador diferencia</i>\n",
    "\n",
    "$$\n",
    "d(A,B) = \\| A - B \\|_1 \n",
    "$$\n",
    "\n",
    ":::"
   ]
  },
  {
   "cell_type": "markdown",
   "id": "51ef8d75",
   "metadata": {
    "slideshow": {
     "slide_type": "skip"
    }
   },
   "source": [
    "## Funciones de Operadores"
   ]
  },
  {
   "cell_type": "markdown",
   "id": "aa9d95a8",
   "metadata": {
    "slideshow": {
     "slide_type": "skip"
    }
   },
   "source": [
    "### Funciones analíticas de operadores\n",
    "\n",
    "Estamos acostumbrados a escribir funciones *de una variable real o compleja*. Por ejemplo $f(x)= x^2$, ó, $ f(z) = e^z$. \n",
    "\n",
    "Querríamos dar sentido a una función *de un operador* \n",
    "$\n",
    "A \\to f(A)\n",
    "$"
   ]
  },
  {
   "cell_type": "markdown",
   "id": "4e00bc7d",
   "metadata": {
    "slideshow": {
     "slide_type": "skip"
    }
   },
   "source": [
    "En el caso de que $f(z)$ sea una función analítica expresable como una serie de Taylor en torno a $x=0$ \n",
    "\n",
    "$$\n",
    "f(z) = \\sum_{n=0}^\\infty \\frac{1}{n!} f^{(n)}(0)\\,  z^n\n",
    "$$\n",
    "\n",
    "tomaremos como **definición** la *misma serie* cambiando el argumento $x\\to A$\n",
    "\n",
    "$$\n",
    "f(A) = \\sum_{n=0}^\\infty \\frac{1}{n!} f^{(n)}(0)\\,  A^n\n",
    "$$\n",
    "\n"
   ]
  },
  {
   "cell_type": "markdown",
   "id": "62e4b9f2",
   "metadata": {
    "slideshow": {
     "slide_type": "skip"
    }
   },
   "source": [
    ":::{admonition} Nota\n",
    ":class: note\n",
    "\n",
    "De la misma forma que, para funciones analíticas $f(z)^* = f(z^*)$, también la definición anterior asegura que \n",
    "$f(A)^\\dagger = f(A^\\dagger)$\n",
    ":::\n",
    "\n",
    "\n"
   ]
  },
  {
   "cell_type": "markdown",
   "id": "2c21b232",
   "metadata": {
    "slideshow": {
     "slide_type": "skip"
    }
   },
   "source": [
    "### La exponenciación de un operador \n",
    "\n",
    "Sea $A\\in \\Lin(\\Hil)$, definimos la exponencial $e^A$ mediante la serie de Taylor usual\n",
    "\n",
    "$$\n",
    "\\exp(A) = e^A \\equiv  I + A + \\frac{1}{2} A^2 + \\frac{1}{3!} A^3 + ...\n",
    "$$\n"
   ]
  },
  {
   "cell_type": "code",
   "execution_count": 137,
   "id": "16f42fcc",
   "metadata": {},
   "outputs": [
    {
     "data": {
      "text/latex": [
       "$$\n",
       "\n",
       "\\begin{bmatrix}\n",
       "1.21231 + 0.03374 i & 0.32278 + 0.07788 i  \\\\\n",
       " 0.01783 + 0.20924 i & 0.88062 - 0.14876 i  \\\\\n",
       " \\end{bmatrix}\n",
       "$$"
      ],
      "text/plain": [
       "<IPython.core.display.Latex object>"
      ]
     },
     "metadata": {},
     "output_type": "display_data"
    },
    {
     "data": {
      "text/latex": [
       "$$\n",
       "\n",
       "\\begin{bmatrix}\n",
       "1.21233 + 0.03367 i & 0.3225 + 0.0775 i  \\\\\n",
       " 0.018 + 0.209 i & 0.88083 - 0.14833 i  \\\\\n",
       " \\end{bmatrix}\n",
       "$$"
      ],
      "text/plain": [
       "<IPython.core.display.Latex object>"
      ]
     },
     "execution_count": 137,
     "metadata": {},
     "output_type": "execute_result"
    }
   ],
   "source": [
    "' para exponenciar matrices es recomendable la función expm de la libreria scipy.linalg'\n",
    "\n",
    "from scipy.linalg import expm\n",
    "from numpy.linalg import matrix_power\n",
    "import math\n",
    "\n",
    "A = 0.1*np.matrix([[2,3+1j],[2j,-1-2j]])\n",
    "\n",
    "display(array_to_latex(np.around(expm(A),5)))\n",
    "\n",
    "' podemos comparar con la serie de Taylor a tercer orden'\n",
    "array_to_latex(np.round(matrix_power(A,0)  + matrix_power(A,1)  + 1./2.*matrix_power(A,2)  + 1./math.factorial(3)*matrix_power(A,3),5))"
   ]
  },
  {
   "cell_type": "markdown",
   "id": "fa8d5592",
   "metadata": {
    "slideshow": {
     "slide_type": "skip"
    }
   },
   "source": [
    "Una propiedad importante de la función exponencial es  $e^xe^y = e^{x+y}$. La propiedad análoga para operadores *sólo es cierta cuando conmutan entre sí*.  Para el caso genérico tenemos dos opciones"
   ]
  },
  {
   "cell_type": "markdown",
   "id": "12437f56",
   "metadata": {
    "slideshow": {
     "slide_type": "skip"
    }
   },
   "source": [
    "**Teorema de Baker-Campbel-Haussdorf**\n",
    "\n",
    ":::{card}\n",
    "\n",
    "**Teorema** *(de Baker-Campbel-Haussdorf)*\n",
    "\n",
    "^^^\n",
    "\n",
    "Sean $A,B\\subset{\\rm L}(\\Hil)$ dos operadores lineales genéricos. Entonces\n",
    "\n",
    "$$\n",
    "e^A e^B = e^{\\left({A+B + \\frac{1}{2}[A,B] + \\frac{1}{12}[A,[A,B]]+ \\frac{1}{12}[B,[B,A]] + ...}\\right)}\n",
    "$$\n",
    "\n",
    ":::"
   ]
  },
  {
   "cell_type": "markdown",
   "id": "56c416cd",
   "metadata": {
    "slideshow": {
     "slide_type": "skip"
    }
   },
   "source": [
    "Vemos que\n",
    "\n",
    "-  Si $A$ y $B$ conmutan, \n",
    "\n",
    "$$[A,B]=0 ~\\Leftrightarrow ~e^A e^B = e^{A+B}$$\n"
   ]
  },
  {
   "cell_type": "markdown",
   "id": "23c58118",
   "metadata": {
    "slideshow": {
     "slide_type": "skip"
    }
   },
   "source": [
    "\n",
    "-  Si el conmutador de $A$ y $B$  es un c-número \n",
    "\n",
    "$$[A,B]= c I  ~\\Leftrightarrow ~  e^A e^B = e^{A+B + \\frac{c}{2}}$$\n",
    "\n"
   ]
  },
  {
   "cell_type": "markdown",
   "id": "a564ddc4",
   "metadata": {
    "slideshow": {
     "slide_type": "skip"
    }
   },
   "source": [
    "\n",
    "-  El inverso de $e^A$ es $e^{-A}$.$~$ Efectivamente, como \n",
    "\n",
    "$$[A,A]=0 \\Rightarrow e^A e^{-A} = e^{A-A} = e^0 = I$$"
   ]
  },
  {
   "cell_type": "markdown",
   "id": "8663ed51",
   "metadata": {
    "slideshow": {
     "slide_type": "skip"
    }
   },
   "source": [
    "**Teorema de Lie-Suzuki-Trotter**\n",
    "\n",
    ":::{card}\n",
    "\n",
    "**Teorema** *(de Lie-Suzuki-Trotter)*\n",
    "\n",
    "^^^\n",
    "\n",
    "Sean $A,B\\subset{\\rm L}(\\Hil)$ dos operadores lineales genéricos. Entonces\n",
    "\n",
    "$$\n",
    "e^{A+B} = \\lim_{n\\to\\infty} \\left(e^{{A/n}} e^{B/n}\\right)^n\n",
    "$$\n",
    "\n",
    "Esta segunda opción es de uso muy frecuente en el contexto de la *simulación cuántica*. \n",
    ":::"
   ]
  },
  {
   "cell_type": "markdown",
   "id": "a7f20249",
   "metadata": {
    "slideshow": {
     "slide_type": "skip"
    }
   },
   "source": [
    "**Relación entre operadores hermíticos y unitarios**\n",
    "\n",
    ":::{card}\n",
    "\n",
    "**Teorema** \n",
    "\n",
    "^^^\n",
    "\n",
    "Todo operador unitario $U$ se puede expresar como la exponencial imaginaria de un operador hermítico $H$\n",
    "\n",
    "$$\n",
    "U = e^{i H}\n",
    "$$\n",
    ":::\n",
    "\n",
    "Efectivamente, \n",
    "\n",
    "$$U^\\dagger = \\left(e^{i H}\\right)^\\dagger = e^{-i H^\\dagger} = e^{-i H}=U^{-1}$$ \n",
    "\n",
    "por tanto, $U$ es unitario si y sólo si $H$ es hermítico.\n",
    "\n",
    ":::{dropdown} Detalles\n",
    "\n",
    "\\begin{eqnarray}\n",
    "U^\\dagger &=& \\left( e^{iH}\\right)^\\dagger = \\left( 1+ iH + \\frac{1}{2}(i H)^2 + ...\\right)^\\dagger \\\\\n",
    "&=& 1 - iH^\\dagger  + \\frac{1}{2}(-i)^2 (H^2)^\\dagger + ... \\\\\n",
    "&=& 1 - iH +\\frac{1}{2} H^2 - ... \\\\\n",
    "&=& e^{-iH}\\\\ \\rule{0mm}{6mm}\n",
    "&=& U^{-1}\n",
    "\\end{eqnarray}\n",
    ":::"
   ]
  },
  {
   "cell_type": "markdown",
   "id": "d7ee870c",
   "metadata": {
    "slideshow": {
     "slide_type": "slide"
    }
   },
   "source": [
    "### Funciones  generales "
   ]
  },
  {
   "cell_type": "markdown",
   "id": "e4938f30",
   "metadata": {
    "slideshow": {
     "slide_type": "skip"
    }
   },
   "source": [
    "No siempre $f(z)$ admite una expansión en serie de Taylor. Por ejemplo $f(z) = \\exp(1/z)$ en torno a $z=0$ no es analítica.\n",
    "\n",
    "En estos casos, el operador $f(A)$ existe, pero para construirlo es necesario recurrir a la *forma diagonalizada*\n"
   ]
  },
  {
   "cell_type": "markdown",
   "id": "035b46d8",
   "metadata": {
    "slideshow": {
     "slide_type": "-"
    }
   },
   "source": [
    ":::{card}\n",
    "\n",
    "**Teorema**\n",
    "\n",
    "^^^\n",
    "\n",
    "Sea $A$ un operador diagonalizable, y sea $A= \\sum_i \\lambda_i \\ket{\\lambda_i}\\bra{\\lambda_i}$ su representación espectral. \n",
    "Entonces el operador $f(A)$ tiene la representación espectral siguiente\n",
    "    \n",
    "$$\n",
    "f(A) = \\sum_i f(\\lambda_i) \\ket{\\lambda_i}\\bra{\\lambda_i}\n",
    "$$\n",
    ":::\n",
    "\n",
    "En particular, la matriz asociada a $f(A)$ en la base $\\{\\ket{\\lambda_i}\\}$ que diagonaliza $A^{(D)}_{ij}$ \n",
    "es la diagonal de los elementos $f(\\lambda_i)$ de los autovalores\n",
    "\n",
    "$$\n",
    "f(A^{(D)}_{ij}) = \\begin{bmatrix} f(\\lambda_1)& &  & \\\\ & f(\\lambda_2) & &  \\\\ & & \\ddots & \\\\ & & & f(\\lambda_n)\n",
    "\\end{bmatrix}\n",
    "$$"
   ]
  },
  {
   "cell_type": "markdown",
   "id": "e200cce0",
   "metadata": {
    "slideshow": {
     "slide_type": "slide"
    }
   },
   "source": [
    ":::{admonition} Ejemplo\n",
    ":class: tip\n",
    "\n",
    "$$\n",
    "f(A) = e^{1/A} = \\sum_i e^{1/\\lambda_i} \\ket{\\lambda_i}\\bra{\\lambda_i}\n",
    "$$\n",
    "\n",
    ":::"
   ]
  },
  {
   "cell_type": "markdown",
   "id": "76a06109",
   "metadata": {
    "slideshow": {
     "slide_type": "slide"
    }
   },
   "source": [
    ":::{admonition} Ejemplo\n",
    ":class: tip\n",
    "\n",
    "\\begin{eqnarray}\n",
    "f(A) = {\\rm tr}(A \\log A) &=& {\\rm tr}\\left[\\left(\\sum_j \\lambda_j \\ket{\\lambda_j}\\bra{\\lambda_j}\\right)\\left(\\sum_k\\log \\lambda_k \\ket{\\lambda_k}\\bra{\\lambda_k}\\right)\\right] ~=~  {\\rm tr}\\left[\\sum_k \\lambda_k \\log\\lambda_k \\ket{\\lambda_k}\\bra{\\lambda_k} \\right] \\\\ \\rule{0mm}{20mm}\n",
    "&=& {\\rm tr} \\begin{bmatrix} \\lambda_1 \\log \\lambda_1& &  & \\\\ &\\lambda_2 \\log \\lambda_2 & &  \\\\ & & \\ddots & \\\\ & & & \\lambda_n \\log \\lambda_n\n",
    "\\end{bmatrix}\n",
    " ~= ~ \\sum_k \\lambda_k \\log \\lambda_k \\rule{0mm}{8mm}\n",
    "\\end{eqnarray}\n",
    "\n",
    ":::"
   ]
  },
  {
   "cell_type": "markdown",
   "id": "3cfee01c",
   "metadata": {
    "slideshow": {
     "slide_type": "slide"
    }
   },
   "source": [
    "## Matrices de Pauli\n",
    "\n"
   ]
  },
  {
   "cell_type": "markdown",
   "id": "2a8365b6",
   "metadata": {
    "slideshow": {
     "slide_type": "-"
    }
   },
   "source": [
    ":::{card}\n",
    "\n",
    "**Definición**\n",
    "\n",
    "^^^\n",
    "\n",
    "$$\n",
    "\\sigma_x = \\begin{bmatrix} 0 & 1 \\\\ 1 & 0 \\end{bmatrix}~~~~~,~~~~~~~~~\n",
    "\\sigma_y = \\begin{bmatrix} 0 & -i \\\\ i & 0 \\end{bmatrix}~~~~~,~~~~~~~~~\n",
    "\\sigma_z = \\begin{bmatrix} 1 & 0 \\\\ 0 & -1 \\end{bmatrix} \\, .\n",
    "$$\n",
    "\n",
    ":::"
   ]
  },
  {
   "cell_type": "markdown",
   "id": "50438c5f",
   "metadata": {
    "slideshow": {
     "slide_type": "fragment"
    }
   },
   "source": [
    "- También se usan los subíndices enteros $\\sigma_1=\\sigma_x, ~\n",
    "\\sigma_2=\\sigma_y$  y  $\\sigma_3=\\sigma_z$. \n",
    "<br>\n",
    "<br>\n",
    "- Una propiedad importantísima de las matrices de Pauli  es que son, a la vez,  <u>*hermíticas* y *unitarias*</u>.\n",
    "\n"
   ]
  },
  {
   "cell_type": "markdown",
   "id": "e755bef0",
   "metadata": {
    "slideshow": {
     "slide_type": "slide"
    }
   },
   "source": [
    "**Composición de matrices de Pauli**\n"
   ]
  },
  {
   "cell_type": "markdown",
   "id": "2e7613b5",
   "metadata": {
    "slideshow": {
     "slide_type": "fragment"
    }
   },
   "source": [
    "Es inmediato verificar que se cumplen las siguientes relaciones\n",
    "\n",
    "\n",
    "- si multiplicamos dos matrices de Pauli **iguales**\n",
    "\n",
    "$$\n",
    "\\sigma_1\\sigma_1 = \\sigma_2\\sigma_2 = \\sigma_3\\sigma_3 =   I\n",
    "$$\n",
    "\n",
    "- si multiplicamos dos matrices de Pauli **diferentes**\n",
    "\n",
    "\\begin{eqnarray}\n",
    "\\sigma_1\\sigma_2 &=&  - \\sigma_2\\sigma_1 = i \\sigma_3   \\\\\n",
    "\\sigma_2\\sigma_3 &=&  -\\sigma_3\\sigma_2  = -i \\sigma_1  \\\\\n",
    "\\sigma_3\\sigma_1 &=& -\\sigma_2\\sigma_3 = -i \\sigma_2   \\\\\n",
    "\\end{eqnarray}"
   ]
  },
  {
   "cell_type": "code",
   "execution_count": 142,
   "id": "82656214",
   "metadata": {
    "slideshow": {
     "slide_type": "slide"
    }
   },
   "outputs": [
    {
     "name": "stdout",
     "output_type": "stream",
     "text": [
      "[[ True  True]\n",
      " [ True  True]]\n",
      "[[ True  True]\n",
      " [ True  True]]\n",
      "[[ True  True]\n",
      " [ True  True]]\n"
     ]
    },
    {
     "data": {
      "text/plain": [
       "'etc'"
      ]
     },
     "execution_count": 142,
     "metadata": {},
     "output_type": "execute_result"
    }
   ],
   "source": [
    "I = np.eye(2)\n",
    "s1 = np.matrix([[0,1],[1,0]])\n",
    "s2 = np.matrix([[0,-1j],[1j,0]])\n",
    "s3 = np.matrix([[1,0],[0,-1]])\n",
    "\n",
    "'verifica todas las opciones'\n",
    "print(s1*s1==I)\n",
    "print(s1*s2==1j*s3)\n",
    "print(s2*s1==-1j*s3)\n",
    "'etc'"
   ]
  },
  {
   "cell_type": "markdown",
   "id": "1cb84e3f",
   "metadata": {},
   "source": [
    "Todas estas *relaciones de composición* se pueden condensar en la siguiente ecuación algebráica\n",
    "<br>\n",
    "\n",
    "$$\n",
    "\\fbox{$\\sigma_i \\sigma_j = \\delta_{ij}I + i\\epsilon_{ijk}  \\sigma_k$}\n",
    "$$\n",
    "\n",
    "donde hemos hecho uso del *símbolo antisimétrico*\n",
    "$$\\epsilon_{123} = \\epsilon_{231}=\\epsilon_{312}=1~~~~,~~~~\\epsilon_{213} = \\epsilon_{132}=\\epsilon_{321}=-1$$"
   ]
  },
  {
   "cell_type": "markdown",
   "id": "2747a917",
   "metadata": {
    "slideshow": {
     "slide_type": "skip"
    }
   },
   "source": [
    "A partir de estas relaciones es inmediado ver que las matrices de Pauli verifican relaciones de conmutación \n",
    "\n",
    "    \n",
    "$$\n",
    "[\\sigma_i,\\sigma_j] ~=~ \\sigma_i\\sigma_j - \\sigma_j\\sigma_i ~=~ 2i\\epsilon_{ijk}\\sigma_k\n",
    "$$\n",
    "\n",
    "y de anticonmutación \n",
    "\n",
    "$$\n",
    "\\{\\sigma_i,\\sigma_j \\} ~=~ \\sigma_i\\sigma_j + \\sigma_j\\sigma_i =  2\\delta_{ij} ~~~~~\n",
    "$$\n"
   ]
  },
  {
   "cell_type": "markdown",
   "id": "b9b30790",
   "metadata": {
    "slideshow": {
     "slide_type": "skip"
    }
   },
   "source": [
    "Las matrices de Pauli tienen traza nula\n",
    "\n",
    "$$\n",
    "{\\rm tr} \\, \\sigma_i = 0\n",
    "$$"
   ]
  },
  {
   "cell_type": "markdown",
   "id": "63acee56",
   "metadata": {
    "slideshow": {
     "slide_type": "skip"
    }
   },
   "source": [
    "Tomando la traza de la relación de composición obtenemos que las matrices de Pauli <u>*son ortogonales*</u> \n",
    "en el sentido del producto escalar definido sobre $\\Lin(\\Hil)$\n",
    "<br>\n",
    "\n",
    "$$\n",
    "(\\sigma_i, \\sigma_j) \\equiv {\\rm tr}(\\sigma_i\\sigma_j) = {\\rm tr}(\\delta_{ij}I + i\\epsilon_{ijk}  \\sigma_k) = 2\\delta_{ij}\n",
    "$$\n"
   ]
  },
  {
   "cell_type": "markdown",
   "id": "fa25524a",
   "metadata": {
    "slideshow": {
     "slide_type": "slide"
    }
   },
   "source": [
    "Las matrices hermíticas de dimensión 2$\\times$2 tienen cuatro grados de libertad reales. \n",
    "\n",
    "Si añadimos la matriz identidad $~I = \\begin{bmatrix} 1 & 0 \\\\ 0 & 1 \\end{bmatrix}~\n",
    "$  el conjunto $\\{I,\\sigma_x,\\sigma_y,\\sigma_z\\}$ forma una *base* para el espacio de *matrices hermíticas* $2\\times 2$.  \n",
    "\n",
    "\\begin{eqnarray}\n",
    "A &=& a_0 I + {\\bf a} \\cdot \\boldsymbol{\\sigma} \\\\  \\rule{0mm}{10mm} &=&  a_0 I + a_1 \\sigma_1 + a_2 \\sigma_2 + a_3 \\sigma_3 \\\\ \\rule{0mm}{10mm}&=& \n",
    "\\begin{bmatrix}\n",
    "a_0 + a_3 & a_1 - i a_2 \\\\ a_1 + i a_2 & a_0 - a_3\n",
    "\\end{bmatrix} = A^\\dagger\n",
    "\\end{eqnarray}\n",
    "con $a_i\\in {\\mathbb R}$ cuatro números reales."
   ]
  },
  {
   "cell_type": "markdown",
   "id": "01a81624",
   "metadata": {
    "slideshow": {
     "slide_type": "slide"
    }
   },
   "source": [
    "Separemos el vector ${\\bf a}$ en su módulo $a$, y su dirección unitaria $\\hat{\\bf n}$\n",
    "\n",
    "$${\\bf a} = (a_1,a_2,a_3) =a \\left( \\frac{a_1}{a},\\frac{a_2}{a},\\frac{a_3}{a}\\right) =  a\\, \\hat{\\bf n}$$ \n",
    "\n",
    "donde $a=|{\\bf a}|=\\sqrt{a_1^2+a_2^3+a_3^2}~$  y $\\hat{\\bf n}$ es unitario\n"
   ]
  },
  {
   "cell_type": "markdown",
   "id": "64d477cb",
   "metadata": {
    "slideshow": {
     "slide_type": "fragment"
    }
   },
   "source": [
    "\n",
    "Entonces\n",
    "<br>\n",
    "$$\n",
    " {\\bf a} \\cdot \\boldsymbol{\\sigma} =  a\\, \\hat{\\bf n} \\cdot \\boldsymbol{\\sigma}\n",
    "$$\n",
    "\n",
    "es una matriz *hermítica*, que podemos exponenciar para formar una matriz *unitaria*. La sorpresa ahora, es que el resultado, vuelve a ser expresable en términos de las propias matrices de Pauli!\n"
   ]
  },
  {
   "cell_type": "markdown",
   "id": "ff5c0fe8",
   "metadata": {
    "slideshow": {
     "slide_type": "fragment"
    }
   },
   "source": [
    ":::{card}\n",
    "\n",
    "**Teorema**\n",
    "\n",
    "^^^\n",
    "\n",
    "$$\n",
    "\\exp \\left( i\\,   {\\bf a} \\cdot \\boldsymbol{\\sigma}  \\right) = (\\cos a)\\, I + i (\\sin a)\\,\\hat{\\bf n} \\cdot  \\boldsymbol{\\sigma} \n",
    "$$\n",
    "\n",
    ":::\n"
   ]
  },
  {
   "cell_type": "markdown",
   "id": "b19ec320",
   "metadata": {
    "slideshow": {
     "slide_type": "skip"
    }
   },
   "source": [
    "Esta expresión, extremadamente útil,  generaliza la *fórmula de Euler*  para una fase compleja \n",
    "\n",
    "$$ \\exp(i\\alpha) =  \\cos\\alpha + i \\sin\\alpha $$\n",
    "<br>\n"
   ]
  },
  {
   "cell_type": "code",
   "execution_count": 144,
   "id": "b6a11eb3",
   "metadata": {
    "slideshow": {
     "slide_type": "skip"
    }
   },
   "outputs": [
    {
     "name": "stdout",
     "output_type": "stream",
     "text": [
      "a= 0.7791610541963517\n"
     ]
    },
    {
     "data": {
      "text/latex": [
       "$$\n",
       "\n",
       "\\begin{bmatrix}\n",
       "0.5008827322 & \\frac{15 \\cdot 2^{\\frac{47}{170}} \\cdot 3^{\\frac{148}{255}} \\cdot 5^{\\frac{11}{170}} \\cdot 7^{\\frac{53}{255}}}{98} & 0.6394453233  \\\\\n",
       " \\end{bmatrix}\n",
       "$$"
      ],
      "text/plain": [
       "<IPython.core.display.Latex object>"
      ]
     },
     "metadata": {},
     "output_type": "display_data"
    },
    {
     "data": {
      "text/latex": [
       "$$\n",
       "e1=\n",
       "\\begin{bmatrix}\n",
       "0.7115 + 0.4493 i & 0.4099 + 0.352 i  \\\\\n",
       " -0.4099 + 0.352 i & 0.7115 - 0.4493 i  \\\\\n",
       " \\end{bmatrix}\n",
       "$$"
      ],
      "text/plain": [
       "<IPython.core.display.Latex object>"
      ]
     },
     "metadata": {},
     "output_type": "display_data"
    },
    {
     "data": {
      "text/latex": [
       "$$\n",
       "e1=\n",
       "\\begin{bmatrix}\n",
       "0.7115 + 0.4493 i & 0.4099 + 0.352 i  \\\\\n",
       " -0.4099 + 0.352 i & 0.7115 - 0.4493 i  \\\\\n",
       " \\end{bmatrix}\n",
       "$$"
      ],
      "text/plain": [
       "<IPython.core.display.Latex object>"
      ]
     },
     "metadata": {},
     "output_type": "display_data"
    }
   ],
   "source": [
    "'verificamos la ecuación anterio numéricamente'\n",
    "from scipy.linalg import expm\n",
    "\n",
    "'generamos un vector aleatorio'\n",
    "avec = np.random.rand(3)\n",
    "a = np.linalg.norm(avec)\n",
    "nvec = avec/a\n",
    "print('a=',a)\n",
    "display(array_to_latex(nvec))\n",
    "\n",
    "sigvec = np.array([s1,s2,s3])\n",
    "\n",
    "adots= sum(list(avec[i]*sigvec[i] for i in range(3)))\n",
    "\n",
    "'exponentiating'\n",
    "e1 = expm(1j*adots)\n",
    "\n",
    "'using the Euler-like formula'\n",
    "ndots= sum(list(nvec[i]*sigvec[i] for i in range(3)))\n",
    "e2 = np.cos(a)*s0 + 1j*np.sin(a)*(nvec[0]*sigvec[0]+nvec[1]*sigvec[1]+nvec[2]*sigvec[2])\n",
    "\n",
    "'verify'\n",
    "display(array_to_latex(np.round(e1,4),prefix='e1='))\n",
    "display(array_to_latex(np.round(e2,4),prefix='e1='))\n"
   ]
  },
  {
   "cell_type": "markdown",
   "id": "ab24cedf",
   "metadata": {
    "slideshow": {
     "slide_type": "skip"
    }
   },
   "source": [
    ":::{card}\n",
    "\n",
    "**Ejericios**\n",
    "\n",
    "^^^\n",
    "\n",
    "Obtén la descomposición espectral de las tres matrices de Pauli, $\\sigma_x, \\sigma_y $ y $\\sigma_z$. Utiliza esta descomposición para demostrar la expresión\n",
    "\n",
    "$$\n",
    "e^{i \\alpha\\,  \\hat{\\bf n}\\cdot\\boldsymbol{\\sigma}} = \\cos \\alpha \\, I + i \\sin \\alpha \\, \\hat{\\bf n}\\cdot\\boldsymbol{\\sigma}\n",
    "$$\n",
    "\n",
    "donde $\\hat{\\bf n} = (n_x, n_y,n_z)$ es un vector unitario.\n",
    "\n",
    ":::"
   ]
  }
 ],
 "metadata": {
  "celltoolbar": "Slideshow",
  "kernelspec": {
   "display_name": "Python 3 (ipykernel)",
   "language": "python",
   "name": "python3"
  },
  "language_info": {
   "codemirror_mode": {
    "name": "ipython",
    "version": 3
   },
   "file_extension": ".py",
   "mimetype": "text/x-python",
   "name": "python",
   "nbconvert_exporter": "python",
   "pygments_lexer": "ipython3",
   "version": "3.10.13"
  },
  "toc": {
   "base_numbering": 1,
   "nav_menu": {},
   "number_sections": true,
   "sideBar": true,
   "skip_h1_title": false,
   "title_cell": "Table of Contents",
   "title_sidebar": "Contents",
   "toc_cell": false,
   "toc_position": {},
   "toc_section_display": true,
   "toc_window_display": false
  },
  "varInspector": {
   "cols": {
    "lenName": 16,
    "lenType": 16,
    "lenVar": 40
   },
   "kernels_config": {
    "python": {
     "delete_cmd_postfix": "",
     "delete_cmd_prefix": "del ",
     "library": "var_list.py",
     "varRefreshCmd": "print(var_dic_list())"
    },
    "r": {
     "delete_cmd_postfix": ") ",
     "delete_cmd_prefix": "rm(",
     "library": "var_list.r",
     "varRefreshCmd": "cat(var_dic_list()) "
    }
   },
   "types_to_exclude": [
    "module",
    "function",
    "builtin_function_or_method",
    "instance",
    "_Feature"
   ],
   "window_display": false
  }
 },
 "nbformat": 4,
 "nbformat_minor": 5
}