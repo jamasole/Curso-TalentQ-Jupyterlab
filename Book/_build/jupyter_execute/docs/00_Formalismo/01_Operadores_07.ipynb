{
 "cells": [
  {
   "cell_type": "markdown",
   "id": "5cb046c7",
   "metadata": {
    "slideshow": {
     "slide_type": "slide"
    }
   },
   "source": [
    "---\n",
    "license: CC-BY-4.0\n",
    "github: https://github.com/jamasole/Curso-TalentQ-Jupyterlab\n",
    "subject: Curso\n",
    "venue: Quantum Spain\n",
    "authors:\n",
    "  - name: Javier Mas\n",
    "    email: javier.mas@usc.es\n",
    "    corresponding: true\n",
    "    orcid: 0000-0001-7008-2126\n",
    "    affiliations:\n",
    "      - IGFAE-USC\n",
    "  - name: David Castaño\n",
    "    email: david.castano@uma.es\n",
    "    corresponding: true\n",
    "    orcid: 0000-0001-7008-2126\n",
    "    affiliations:\n",
    "      - UMA\n",
    "math:   \n",
    "    '\\i': '{i}'\n",
    "    '\\bes': '\\begin{equation*}'\n",
    "    '\\ees': '\\end{equation*}'\n",
    "    '\\O': '{\\mathcal O}'\n",
    "    '\\Lin': '\\rm L'\n",
    "    '\\Hil': '{\\mathcal H}'\n",
    "    '\\braa': '{\\langle #1|}'\n",
    "    '\\ket': '{|#1\\rangle}'\n",
    "    '\\braket': '{\\langle #1|#2\\rangle}'\n",
    "    '\\ketbra': '{|#1\\rangle\\langle #2|}'\n",
    "    '\\tr': '{\\rm tr}'\n",
    "    '\\R': '{\\mathbb R}' \n",
    "    '\\C': '{\\mathbb C}'\n",
    "    '\\V': '{V}'\n",
    "---"
   ]
  },
  {
   "cell_type": "markdown",
   "id": "473db2d0-c360-4cc5-8375-746888d17e83",
   "metadata": {},
   "source": [
    "```{figure} ../thumbnails/myThumbnail.png\n",
    ":align: center\n",
    "```"
   ]
  },
  {
   "cell_type": "markdown",
   "id": "3cfee01c",
   "metadata": {
    "slideshow": {
     "slide_type": "slide"
    }
   },
   "source": [
    "## Matrices de Pauli\n",
    "\n"
   ]
  },
  {
   "cell_type": "code",
   "execution_count": 2,
   "id": "c7bd5d4c",
   "metadata": {
    "slideshow": {
     "slide_type": "-"
    }
   },
   "outputs": [],
   "source": [
    "import sys\n",
    "sys.path.append('../')\n",
    "import macro_tQ as tQ\n",
    "\n",
    "import numpy as np\n",
    "import scipy.linalg as la\n",
    "from IPython.display import display,Markdown,Latex\n",
    "import matplotlib.pyplot as plt\n",
    "from qiskit.tools.visualization import array_to_latex"
   ]
  },
  {
   "cell_type": "markdown",
   "id": "2a8365b6",
   "metadata": {
    "slideshow": {
     "slide_type": "-"
    }
   },
   "source": [
    "><b> Definición: </b>  $~$ se definen las matrices de Pauli \n",
    "<br>\n",
    "<br>\n",
    "$$\n",
    "\\sigma_x = \\begin{bmatrix} 0 & 1 \\\\ 1 & 0 \\end{bmatrix}~~~~~,~~~~~~~~~\n",
    "\\sigma_y = \\begin{bmatrix} 0 & -i \\\\ i & 0 \\end{bmatrix}~~~~~,~~~~~~~~~\n",
    "\\sigma_z = \\begin{bmatrix} 1 & 0 \\\\ 0 & -1 \\end{bmatrix} \\, .\n",
    "$$"
   ]
  },
  {
   "cell_type": "markdown",
   "id": "50438c5f",
   "metadata": {
    "slideshow": {
     "slide_type": "fragment"
    }
   },
   "source": [
    "- También se usan los subíndices enteros $\\sigma_1=\\sigma_x, ~\n",
    "\\sigma_2=\\sigma_y$  y  $\\sigma_3=\\sigma_z$. \n",
    "<br>\n",
    "<br>\n",
    "- Una propiedad importantísima de las matrices de Pauli  es que son, a la vez,  <u>*hermíticas* y *unitarias*</u>.\n",
    "\n"
   ]
  },
  {
   "cell_type": "markdown",
   "id": "e755bef0",
   "metadata": {
    "slideshow": {
     "slide_type": "slide"
    }
   },
   "source": [
    "**Composición de matrices de Pauli**\n"
   ]
  },
  {
   "cell_type": "markdown",
   "id": "2e7613b5",
   "metadata": {
    "slideshow": {
     "slide_type": "fragment"
    }
   },
   "source": [
    "Es inmediato verificar que se cumplen las siguientes relaciones\n",
    "\n",
    "\n",
    "- si multiplicamos dos matrices de Pauli **iguales**\n",
    "\n",
    "$$\n",
    "\\sigma_1\\sigma_1 = \\sigma_2\\sigma_2 = \\sigma_3\\sigma_3 =   I\n",
    "$$\n",
    "\n",
    "- si multiplicamos dos matrices de Pauli **diferentes**\n",
    "\n",
    "\\begin{eqnarray}\n",
    "\\sigma_1\\sigma_2 &=&  - \\sigma_2\\sigma_1 = i \\sigma_3   \\\\\n",
    "\\sigma_2\\sigma_3 &=&  -\\sigma_3\\sigma_2  = -i \\sigma_1  \\\\\n",
    "\\sigma_3\\sigma_1 &=& -\\sigma_2\\sigma_3 = -i \\sigma_2   \\\\\n",
    "\\end{eqnarray}"
   ]
  },
  {
   "cell_type": "code",
   "execution_count": 142,
   "id": "82656214",
   "metadata": {
    "slideshow": {
     "slide_type": "slide"
    }
   },
   "outputs": [
    {
     "name": "stdout",
     "output_type": "stream",
     "text": [
      "[[ True  True]\n",
      " [ True  True]]\n",
      "[[ True  True]\n",
      " [ True  True]]\n",
      "[[ True  True]\n",
      " [ True  True]]\n"
     ]
    },
    {
     "data": {
      "text/plain": [
       "'etc'"
      ]
     },
     "execution_count": 142,
     "metadata": {},
     "output_type": "execute_result"
    }
   ],
   "source": [
    "I = np.eye(2)\n",
    "s1 = np.matrix([[0,1],[1,0]])\n",
    "s2 = np.matrix([[0,-1j],[1j,0]])\n",
    "s3 = np.matrix([[1,0],[0,-1]])\n",
    "\n",
    "'verifica todas las opciones'\n",
    "print(s1*s1==I)\n",
    "print(s1*s2==1j*s3)\n",
    "print(s2*s1==-1j*s3)\n",
    "'etc'"
   ]
  },
  {
   "cell_type": "markdown",
   "id": "1cb84e3f",
   "metadata": {},
   "source": [
    "Todas estas *relaciones de composición* se pueden condensar en la siguiente ecuación algebráica\n",
    "<br>\n",
    "\n",
    "$$\n",
    "\\fbox{$\\sigma_i \\sigma_j = \\delta_{ij}I + i\\epsilon_{ijk}  \\sigma_k$}\n",
    "$$\n",
    "\n",
    "donde hemos hecho uso del *símbolo antisimétrico*\n",
    "$$\\epsilon_{123} = \\epsilon_{231}=\\epsilon_{312}=1~~~~,~~~~\\epsilon_{213} = \\epsilon_{132}=\\epsilon_{321}=-1$$"
   ]
  },
  {
   "cell_type": "markdown",
   "id": "2747a917",
   "metadata": {
    "slideshow": {
     "slide_type": "skip"
    }
   },
   "source": [
    "A partir de estas relaciones es inmediado ver que las matrices de Pauli verifican relaciones de conmutación \n",
    "\n",
    "    \n",
    "$$\n",
    "[\\sigma_i,\\sigma_j] ~=~ \\sigma_i\\sigma_j - \\sigma_j\\sigma_i ~=~ 2i\\epsilon_{ijk}\\sigma_k\n",
    "$$\n",
    "\n",
    "y de anticonmutación \n",
    "\n",
    "$$\n",
    "\\{\\sigma_i,\\sigma_j \\} ~=~ \\sigma_i\\sigma_j + \\sigma_j\\sigma_i =  2\\delta_{ij} ~~~~~\n",
    "$$\n"
   ]
  },
  {
   "cell_type": "markdown",
   "id": "b9b30790",
   "metadata": {
    "slideshow": {
     "slide_type": "skip"
    }
   },
   "source": [
    "Las matrices de Pauli tienen traza nula\n",
    "\n",
    "$$\n",
    "{\\rm tr} \\, \\sigma_i = 0\n",
    "$$"
   ]
  },
  {
   "cell_type": "markdown",
   "id": "63acee56",
   "metadata": {
    "slideshow": {
     "slide_type": "skip"
    }
   },
   "source": [
    "Tomando la traza de la relación de composición obtenemos que las matrices de Pauli <u>*son ortogonales*</u> \n",
    "en el sentido del producto escalar definido sobre $\\Lin(\\Hil)$\n",
    "<br>\n",
    "\n",
    "$$\n",
    "(\\sigma_i, \\sigma_j) \\equiv {\\rm tr}(\\sigma_i\\sigma_j) = {\\rm tr}(\\delta_{ij}I + i\\epsilon_{ijk}  \\sigma_k) = 2\\delta_{ij}\n",
    "$$\n"
   ]
  },
  {
   "cell_type": "markdown",
   "id": "fa25524a",
   "metadata": {
    "slideshow": {
     "slide_type": "slide"
    }
   },
   "source": [
    "Las matrices hermíticas de dimensión 2$\\times$2 tienen cuatro grados de libertad reales. \n",
    "\n",
    "Si añadimos la matriz identidad $~I = \\begin{bmatrix} 1 & 0 \\\\ 0 & 1 \\end{bmatrix}~\n",
    "$  el conjunto $\\{I,\\sigma_x,\\sigma_y,\\sigma_z\\}$ forma una *base* para el espacio de *matrices hermíticas* $2\\times 2$.  \n",
    "\n",
    "\\begin{eqnarray}\n",
    "A &=& a_0 I + {\\bf a} \\cdot \\boldsymbol{\\sigma} \\\\  \\rule{0mm}{10mm} &=&  a_0 I + a_1 \\sigma_1 + a_2 \\sigma_2 + a_3 \\sigma_3 \\\\ \\rule{0mm}{10mm}&=& \n",
    "\\begin{bmatrix}\n",
    "a_0 + a_3 & a_1 - i a_2 \\\\ a_1 + i a_2 & a_0 - a_3\n",
    "\\end{bmatrix} = A^\\dagger\n",
    "\\end{eqnarray}\n",
    "con $a_i\\in {\\mathbb R}$ cuatro números reales."
   ]
  },
  {
   "cell_type": "markdown",
   "id": "01a81624",
   "metadata": {
    "slideshow": {
     "slide_type": "slide"
    }
   },
   "source": [
    "Separemos el vector ${\\bf a}$ en su módulo $a$, y su dirección unitaria $\\hat{\\bf n}$\n",
    "\n",
    "$${\\bf a} = (a_1,a_2,a_3) =a \\left( \\frac{a_1}{a},\\frac{a_2}{a},\\frac{a_3}{a}\\right) =  a\\, \\hat{\\bf n}$$ \n",
    "\n",
    "donde $a=|{\\bf a}|=\\sqrt{a_1^2+a_2^3+a_3^2}~$  y $\\hat{\\bf n}$ es unitario\n"
   ]
  },
  {
   "cell_type": "markdown",
   "id": "64d477cb",
   "metadata": {
    "slideshow": {
     "slide_type": "fragment"
    }
   },
   "source": [
    "\n",
    "Entonces\n",
    "<br>\n",
    "$$\n",
    " {\\bf a} \\cdot \\boldsymbol{\\sigma} =  a\\, \\hat{\\bf n} \\cdot \\boldsymbol{\\sigma}\n",
    "$$\n",
    "\n",
    "es una matriz *hermítica*, que podemos exponenciar para formar una matriz *unitaria*. La sorpresa ahora, es que el resultado, vuelve a ser expresable en términos de las propias matrices de Pauli!\n"
   ]
  },
  {
   "cell_type": "markdown",
   "id": "ff5c0fe8",
   "metadata": {
    "slideshow": {
     "slide_type": "fragment"
    }
   },
   "source": [
    "><b> Teorema: </b>  $~$ \n",
    "$$\n",
    "\\fbox{$\\exp \\left( \\rule{0mm}{4mm} i\\,   {\\bf a} \\cdot \\boldsymbol{\\sigma}  \\right) = (\\cos a)\\, I + i (\\sin a)\\,\\hat{\\bf n} \\cdot  \\boldsymbol{\\sigma} $}\n",
    "$$\n",
    "<br>"
   ]
  },
  {
   "cell_type": "markdown",
   "id": "b19ec320",
   "metadata": {
    "slideshow": {
     "slide_type": "skip"
    }
   },
   "source": [
    "Esta expresión, extremadamente útil,  generaliza la *fórmula de Euler*  para una fase compleja \n",
    "\n",
    "$$ \\exp(i\\alpha) =  \\cos\\alpha + i \\sin\\alpha $$\n",
    "<br>\n"
   ]
  },
  {
   "cell_type": "code",
   "execution_count": 144,
   "id": "b6a11eb3",
   "metadata": {
    "slideshow": {
     "slide_type": "skip"
    }
   },
   "outputs": [
    {
     "name": "stdout",
     "output_type": "stream",
     "text": [
      "a= 0.7791610541963517\n"
     ]
    },
    {
     "data": {
      "text/latex": [
       "$$\n",
       "\n",
       "\\begin{bmatrix}\n",
       "0.5008827322 & \\frac{15 \\cdot 2^{\\frac{47}{170}} \\cdot 3^{\\frac{148}{255}} \\cdot 5^{\\frac{11}{170}} \\cdot 7^{\\frac{53}{255}}}{98} & 0.6394453233  \\\\\n",
       " \\end{bmatrix}\n",
       "$$"
      ],
      "text/plain": [
       "<IPython.core.display.Latex object>"
      ]
     },
     "metadata": {},
     "output_type": "display_data"
    },
    {
     "data": {
      "text/latex": [
       "$$\n",
       "e1=\n",
       "\\begin{bmatrix}\n",
       "0.7115 + 0.4493 i & 0.4099 + 0.352 i  \\\\\n",
       " -0.4099 + 0.352 i & 0.7115 - 0.4493 i  \\\\\n",
       " \\end{bmatrix}\n",
       "$$"
      ],
      "text/plain": [
       "<IPython.core.display.Latex object>"
      ]
     },
     "metadata": {},
     "output_type": "display_data"
    },
    {
     "data": {
      "text/latex": [
       "$$\n",
       "e1=\n",
       "\\begin{bmatrix}\n",
       "0.7115 + 0.4493 i & 0.4099 + 0.352 i  \\\\\n",
       " -0.4099 + 0.352 i & 0.7115 - 0.4493 i  \\\\\n",
       " \\end{bmatrix}\n",
       "$$"
      ],
      "text/plain": [
       "<IPython.core.display.Latex object>"
      ]
     },
     "metadata": {},
     "output_type": "display_data"
    }
   ],
   "source": [
    "'verificamos la ecuación anterio numéricamente'\n",
    "from scipy.linalg import expm\n",
    "\n",
    "'generamos un vector aleatorio'\n",
    "avec = np.random.rand(3)\n",
    "a = np.linalg.norm(avec)\n",
    "nvec = avec/a\n",
    "print('a=',a)\n",
    "display(array_to_latex(nvec))\n",
    "\n",
    "sigvec = np.array([s1,s2,s3])\n",
    "\n",
    "adots= sum(list(avec[i]*sigvec[i] for i in range(3)))\n",
    "\n",
    "'exponentiating'\n",
    "e1 = expm(1j*adots)\n",
    "\n",
    "'using the Euler-like formula'\n",
    "ndots= sum(list(nvec[i]*sigvec[i] for i in range(3)))\n",
    "e2 = np.cos(a)*s0 + 1j*np.sin(a)*(nvec[0]*sigvec[0]+nvec[1]*sigvec[1]+nvec[2]*sigvec[2])\n",
    "\n",
    "'verify'\n",
    "display(array_to_latex(np.round(e1,4),prefix='e1='))\n",
    "display(array_to_latex(np.round(e2,4),prefix='e1='))\n"
   ]
  },
  {
   "cell_type": "markdown",
   "id": "ab24cedf",
   "metadata": {
    "slideshow": {
     "slide_type": "skip"
    }
   },
   "source": [
    "><b> Ejercicio: </b> <br> \n",
    "Obtén la descomposición espectral de las tres matrices de Pauli, $\\sigma_x, \\sigma_y $ y $\\sigma_z$. Utiliza esta descomposición para demostrar la expresión\n",
    "<br>\n",
    "<br>\n",
    "$$\n",
    "e^{i \\alpha\\,  \\hat{\\bf n}\\cdot\\boldsymbol{\\sigma}} = \\cos \\alpha \\, I + i \\sin \\alpha \\, \\hat{\\bf n}\\cdot\\boldsymbol{\\sigma}\n",
    "$$\n",
    "donde $\\hat{\\bf n} = (n_x, n_y,n_z)$ es un vector unitario.\n",
    "</div>"
   ]
  }
 ],
 "metadata": {
  "celltoolbar": "Slideshow",
  "kernelspec": {
   "display_name": "Python 3 (ipykernel)",
   "language": "python",
   "name": "python3"
  },
  "language_info": {
   "codemirror_mode": {
    "name": "ipython",
    "version": 3
   },
   "file_extension": ".py",
   "mimetype": "text/x-python",
   "name": "python",
   "nbconvert_exporter": "python",
   "pygments_lexer": "ipython3",
   "version": "3.10.13"
  },
  "toc": {
   "base_numbering": 1,
   "nav_menu": {},
   "number_sections": true,
   "sideBar": true,
   "skip_h1_title": false,
   "title_cell": "Table of Contents",
   "title_sidebar": "Contents",
   "toc_cell": false,
   "toc_position": {},
   "toc_section_display": true,
   "toc_window_display": false
  },
  "varInspector": {
   "cols": {
    "lenName": 16,
    "lenType": 16,
    "lenVar": 40
   },
   "kernels_config": {
    "python": {
     "delete_cmd_postfix": "",
     "delete_cmd_prefix": "del ",
     "library": "var_list.py",
     "varRefreshCmd": "print(var_dic_list())"
    },
    "r": {
     "delete_cmd_postfix": ") ",
     "delete_cmd_prefix": "rm(",
     "library": "var_list.r",
     "varRefreshCmd": "cat(var_dic_list()) "
    }
   },
   "types_to_exclude": [
    "module",
    "function",
    "builtin_function_or_method",
    "instance",
    "_Feature"
   ],
   "window_display": false
  }
 },
 "nbformat": 4,
 "nbformat_minor": 5
}