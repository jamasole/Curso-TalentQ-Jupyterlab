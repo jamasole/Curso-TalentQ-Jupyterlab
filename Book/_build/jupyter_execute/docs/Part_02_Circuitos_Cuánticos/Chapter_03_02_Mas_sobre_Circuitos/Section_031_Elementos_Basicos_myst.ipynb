{
 "cells": [
  {
   "cell_type": "markdown",
   "id": "81fd03cf",
   "metadata": {
    "slideshow": {
     "slide_type": "slide"
    }
   },
   "source": [
    "> {sub-ref}`today` | {sub-ref}`wordcount-minutes` min read\n",
    "\n",
    "::::{figure} ../../figuras/logos/Logo_TalentQ_Azul.png\n",
    ":width: 150px\n",
    ":align: right\n",
    "::::\n",
    "\n",
    "\n",
    "\n",
    "# Circuitería cuántica elemental \n",
    "\n",
    "$ \\newcommand{\\bra}[1]{\\langle #1|} $\n",
    "$ \\newcommand{\\ket}[1]{|#1\\rangle} $\n",
    "$ \\newcommand{\\braket}[2]{\\langle #1|#2\\rangle} $\n",
    "$ \\newcommand{\\i}{{\\color{blue} i}} $ \n",
    "$ \\newcommand{\\Hil}{{\\mathbb H}} $\n",
    "$ \\newcommand{\\cg}[1]{{\\rm C}#1} $"
   ]
  },
  {
   "cell_type": "code",
   "execution_count": 1,
   "id": "0abf8d27",
   "metadata": {
    "slideshow": {
     "slide_type": "slide"
    },
    "tags": [
     "hide-input"
    ]
   },
   "outputs": [],
   "source": [
    "%run ../../macro_tQ.py"
   ]
  },
  {
   "cell_type": "markdown",
   "id": "988829b2",
   "metadata": {
    "slideshow": {
     "slide_type": "slide"
    }
   },
   "source": [
    "## Retroceso de Fase"
   ]
  },
  {
   "cell_type": "markdown",
   "id": "a2aae500",
   "metadata": {
    "slideshow": {
     "slide_type": "slide"
    }
   },
   "source": [
    "Hemos estudiado ya el operador controlado $\\cg{U}$. Es un error frecuente pensar que el cúbit controlador no se modifica.\n",
    "\n",
    "\n"
   ]
  },
  {
   "cell_type": "markdown",
   "id": "3d55f526",
   "metadata": {
    "slideshow": {
     "slide_type": "fragment"
    }
   },
   "source": [
    "Un caso importante ocurre cuando el operador $U$ actúa sobre uno de sus autoestados \n",
    "(recuerda que los autovalores de  un operador unitario son fases puras)\n",
    "\n",
    "\n",
    "$$\n",
    "U\\ket{u} = e^{i\\lambda} \\ket{u}\n",
    "$$\n",
    "\n"
   ]
  },
  {
   "cell_type": "markdown",
   "id": "0f1ea671",
   "metadata": {
    "slideshow": {
     "slide_type": "fragment"
    }
   },
   "source": [
    " Supongamos que por el *cúbit controlador* circula una superposición $(a\\ket{0}+b\\ket{1})$ y un autoestado $\\ket{u}$ de $U$ por el cúbit controlado. La acción de $\\cg{U}$ es\n",
    "\n",
    "\n",
    "\n",
    "$$\n",
    "\\cg{U}: (a\\ket{0} + b\\ket{1})\\otimes \\ket{u} ~\\to ~ a\\ket{0}\\ket{u} + b \\ket{1}e^{i\\lambda}\\ket{u}  = \\left( a\\ket{0}\\ket{u} + be^{i\\lambda} \\ket{1} \\rule{0mm}{4mm} \\right)\\otimes \\ket{u}\n",
    "$$\n"
   ]
  },
  {
   "cell_type": "markdown",
   "id": "b48cc1c7",
   "metadata": {
    "slideshow": {
     "slide_type": "fragment"
    }
   },
   "source": [
    "En resultado final es que la fase $e^{i\\lambda}$ ha **modificado** el estado de entrada, mientras que el segundo cúbit no ha cambiado. \n"
   ]
  },
  {
   "cell_type": "markdown",
   "id": "3b07a7bb",
   "metadata": {
    "slideshow": {
     "slide_type": "slide"
    }
   },
   "source": [
    "El punto es que, en el segundo paso, la fase generada por la acción de U *no pertenece* realmente a ninguno de los dos espacios sino al producto. \n",
    "\n",
    "De modo que puede adscribirse al primer espacio, como hemos hecho en el último paso. \n",
    "\n",
    "De ahí el nombre de *retroceso de fase*, en inglés \"phase kickback\". \n"
   ]
  },
  {
   "cell_type": "markdown",
   "id": "9bda00ba",
   "metadata": {
    "slideshow": {
     "slide_type": "fragment"
    }
   },
   "source": [
    "El siguiente circuito resume la acción de retroceso de fase\n",
    "\n",
    "\n",
    "::::{figure} images/phase_kickback.png\n",
    ":width: 400px\n",
    ":align: center\n",
    "\n",
    "::::\n",
    "\n"
   ]
  },
  {
   "cell_type": "markdown",
   "id": "c3bded23",
   "metadata": {},
   "source": [
    "::::{admonition} Ejercicio\n",
    ":class: tip\n",
    "\n",
    "\n",
    "    \n",
    "Programa un circuito en el que  $U = P(\\phi)$ es el operador de fase y el estado en el primer cúbit es $\\ket{0}$ y en el segundo es $\\ket{1}$. \n",
    "    \n",
    "    \n",
    "- Usando el *statevector_simulator* representa el estado de salida para distintos de valores de $\\phi\\in $ \n",
    "    \n",
    "- ¿en qué plano rota el vector del primer cúbit? ¿Cómo podemos cambiar dicho plano de rotación?\n",
    "::::\n"
   ]
  },
  {
   "cell_type": "markdown",
   "id": "4c2b6d5c",
   "metadata": {
    "slideshow": {
     "slide_type": "slide"
    }
   },
   "source": [
    "## Circuitos Equivalentes\n"
   ]
  },
  {
   "cell_type": "markdown",
   "id": "a18c721f",
   "metadata": {
    "slideshow": {
     "slide_type": "slide"
    }
   },
   "source": [
    "\n",
    "Es posible encontrar distintos circuitos que producen acciones idénticas sobre un estado arbitrario. Se denominan *circuitos equivalentes*. \n",
    "\n",
    "Matemáticamente, representan distintas descomposiciones del mismo operador unitario en unitarios"
   ]
  },
  {
   "cell_type": "markdown",
   "id": "46ce7ee6",
   "metadata": {
    "slideshow": {
     "slide_type": "fragment"
    }
   },
   "source": [
    "### Conjugación\n",
    "\n",
    "\n",
    "Una caso muy frecuente es la **conjugación** de una puerta $V$  por un **unitario** $U$\n",
    "\n",
    "\n",
    "$$\n",
    "U V   U^\\dagger = V'  \n",
    "$$\n",
    "\n",
    "El operador conjugado $V'$ tiene **la misma acción** sobre la base *base rotada* $\\{\\ket{e'} = U\\ket{e}\\}$\n",
    "que la que tiene $V$ sobre la original $\\{\\ket{e}\\}$."
   ]
  },
  {
   "cell_type": "markdown",
   "id": "f5b6b1fd",
   "metadata": {
    "slideshow": {
     "slide_type": "fragment"
    }
   },
   "source": [
    " Por ello, \n",
    " - los *autovalores* de $V$ y de $V'$ son los *mismos* y \n",
    " \n",
    " - los *autovectores* son los *rotados*\n",
    "\n",
    "$$\n",
    "\\lambda' = \\lambda ~~~~~~\\hbox{y}~~~~~~  \\ket{\\lambda}' = U\\ket{\\lambda}\n",
    "$$"
   ]
  },
  {
   "cell_type": "markdown",
   "id": "65bbfe7c",
   "metadata": {
    "slideshow": {
     "slide_type": "fragment"
    }
   },
   "source": [
    "Comprobémoslo\n",
    "\n",
    "$$\n",
    "\\fbox{$V \\ket{\\lambda}= \\lambda\\ket{\\lambda}$} ~~\\Rightarrow ~~~V'\\ket{\\lambda}' = (UVU^\\dagger) U\\ket{\\lambda} = UV\\ket{\\lambda} =  U(\\lambda\\ket{\\lambda}) = \\lambda U\\ket{\\lambda} = \\lambda\\ket{\\lambda}' ~~\\Rightarrow ~~~ \\fbox{$ V' \\ket{\\lambda}' = \\lambda\\ket{\\lambda}'$}\n",
    "$$\n"
   ]
  },
  {
   "cell_type": "markdown",
   "id": "9d0df563",
   "metadata": {
    "slideshow": {
     "slide_type": "slide"
    }
   },
   "source": [
    "Por ejemplo \n",
    "\n",
    "\n",
    "::::{figure} images/H_conjugation.png\n",
    ":width: 500px\n",
    ":align: center\n",
    "\n",
    "::::\n",
    "\n",
    "\n",
    "\n",
    "y,  equivalentemente, intercambiando $X \\leftrightarrow Z$. \n"
   ]
  },
  {
   "cell_type": "markdown",
   "id": "7c1bbf94",
   "metadata": {
    "slideshow": {
     "slide_type": "fragment"
    }
   },
   "source": [
    "\n",
    "\n",
    "- Este tipo de equivalencia se sigue de las identidades algebráicas\n",
    "\n",
    "\n",
    "\\begin{eqnarray*}\n",
    "HXH = Z ~~~~~&&~~ ~~~\n",
    "HZH = X \\nonumber\n",
    "\\end{eqnarray*}\n",
    "\n",
    "$\\rule{7mm}{0mm}$que son fáciles de visualizar recordando que  $H$ es una rotación de 180$^\\circ$ en torno al eje diagonal en el plano $XZ$\n",
    "\n"
   ]
  },
  {
   "cell_type": "markdown",
   "id": "6e1bb68a",
   "metadata": {
    "slideshow": {
     "slide_type": "fragment"
    }
   },
   "source": [
    "\n",
    "\n",
    "- Análogamente\n",
    "\n",
    "\n",
    "\\begin{eqnarray*}\n",
    "S X S^\\dagger  = Y~~~~~&&~~~ ~~~\n",
    "S Y S^\\dagger = -X  ~~~~~~~~ S Z S^\\dagger = Z\\nonumber\\\\\n",
    "\\end{eqnarray*}\n",
    "\n",
    "$\\rule{7mm}{0mm}$también  son fáciles de visualizar recordando que $S=\\sqrt{Z}$ es una rotación de $90^\\circ$ en torno al eje $Z$.\n"
   ]
  },
  {
   "cell_type": "markdown",
   "id": "a5575fb5",
   "metadata": {
    "slideshow": {
     "slide_type": "slide"
    }
   },
   "source": [
    "### Conjugación de una exponencial\n",
    "\n",
    "Muchas puertas unitarias son de la forma $V = e^{\\alpha A}$."
   ]
  },
  {
   "cell_type": "markdown",
   "id": "814f2265",
   "metadata": {
    "slideshow": {
     "slide_type": "fragment"
    }
   },
   "source": [
    "Por ejemplo, si  $A = \\hat{\\bf n}\\cdot \\boldsymbol{\\sigma} $ entonces $  ~\\Rightarrow ~V= R_{\\hat{\\bf n}}(\\theta)$ es el operador que rota un ángulo $\\theta$ en torno al vector $\\hat{\\bf n}$ en la esfera de Bloch.\n",
    "\n",
    "$$\n",
    " R_{\\hat{\\bf n}}(\\theta) = e^{-i\\frac{\\theta}{2}\\hat{\\bf n}\\cdot \\boldsymbol{\\sigma}}\n",
    "$$\n",
    "\n"
   ]
  },
  {
   "cell_type": "markdown",
   "id": "51b6e10a",
   "metadata": {
    "slideshow": {
     "slide_type": "fragment"
    }
   },
   "source": [
    "::::{card} \n",
    "<b>Lema</b>:  \n",
    "\n",
    "^^^\n",
    "La conjugación de una exponencial se exponencia\n",
    "::::\n",
    "\n",
    "\n",
    "\\begin{eqnarray*}\n",
    "U e^{\\alpha A} U^\\dagger &=&  U \\left(1 + \\alpha A  + \\frac{1}{2} \\alpha^2 A^2 + ... \\right) U^\\dagger \\\\ \\rule{0mm}{8mm}\n",
    "&=& 1 + \\alpha UAU^\\dagger + \\frac{1}{2}\\alpha^2 UAU^\\dagger U AU^\\dagger + ... \\\\ \\rule{0mm}{8mm}\n",
    "&=& e^{ \\alpha UAU^\\dagger} \n",
    "\\end{eqnarray*}\n",
    "\n"
   ]
  },
  {
   "cell_type": "markdown",
   "id": "642149ce",
   "metadata": {
    "slideshow": {
     "slide_type": "slide"
    }
   },
   "source": [
    "Para el caso $A = \\hat{\\bf n}\\cdot \\boldsymbol{\\sigma} $  la conjugación es\n",
    "\n",
    "$$\n",
    "U A U^\\dagger ~\\to ~U (\\hat{\\bf n}\\cdot \\boldsymbol{\\sigma} ) U^\\dagger = (U\\hat{\\bf n})\\cdot  \\boldsymbol{\\sigma}\n",
    "$$\n"
   ]
  },
  {
   "cell_type": "markdown",
   "id": "da156220",
   "metadata": {
    "slideshow": {
     "slide_type": "fragment"
    }
   },
   "source": [
    "::::{card} \n",
    "<b>Corolario</b>:  \n",
    "\n",
    "^^^\n",
    "  $~$ <i>la conjugación de una rotación en torno a un eje produce una rotación en torno al eje conjugado</i>\n",
    "\n",
    "$$\n",
    "U R_{\\hat{\\bf n}}(\\theta) U^\\dagger = R_{U\\hat{\\bf n}}(\\theta)\n",
    "$$\n",
    "::::\n"
   ]
  },
  {
   "cell_type": "markdown",
   "id": "0c681047",
   "metadata": {
    "slideshow": {
     "slide_type": "fragment"
    }
   },
   "source": [
    "Por ejemplo:\n",
    "\n",
    "\\begin{eqnarray*}\n",
    "H R_z(\\theta) H &=& e^{-i \\theta/2 HZH} =  e^{-i (\\theta/2) X} \\\\ \\rule{0mm}{8mm}\n",
    "&=& R_x(\\theta)\n",
    "\\end{eqnarray*}\n",
    "\n",
    "\n",
    "::::{figure} images/HRzHconjugation.png\n",
    ":width: 700px\n",
    ":align: center\n",
    "\n",
    "::::\n",
    "\n"
   ]
  },
  {
   "cell_type": "markdown",
   "id": "bf676c9a",
   "metadata": {
    "slideshow": {
     "slide_type": "slide"
    }
   },
   "source": [
    "### 2 cúbits"
   ]
  },
  {
   "cell_type": "markdown",
   "id": "fac61122",
   "metadata": {
    "slideshow": {
     "slide_type": "fragment"
    }
   },
   "source": [
    "\n",
    "- La puerta  controlada $\\cg{Z} =  {\\rm diag}(1,1,1,-1)$   es simétrica ya que lo único que hace, es cambiar de signo al estado $\\ket{11}$. Es decir\n",
    "\n",
    "\n",
    "\n",
    "::::{figure} images/Equiv_Z.png\n",
    ":width: 300px\n",
    ":align: center\n",
    "\n",
    "::::\n",
    "\n",
    "\n",
    "$\\rule{7mm}{0mm}$ En realidad, $\\cg{Z}$ es un caso particular de   $\\cg{P(\\phi)} = {\\rm diag} (1,1,1, e^{i\\phi})$, para la cual la equivalencia es la misma. \n"
   ]
  },
  {
   "cell_type": "markdown",
   "id": "e9111a65",
   "metadata": {
    "slideshow": {
     "slide_type": "fragment"
    }
   },
   "source": [
    "- Otra equivalencia importante es\n",
    "\n",
    "\n",
    "::::{figure} images/Equiv_HH.png\n",
    ":width: 400px\n",
    ":align: center\n",
    "\n",
    "::::\n",
    "\n"
   ]
  },
  {
   "cell_type": "markdown",
   "id": "978df672",
   "metadata": {
    "slideshow": {
     "slide_type": "fragment"
    }
   },
   "source": [
    "Para probarla, observemos que las tres puertas del segundo cúbit se pueden componer para dar $HXH=Z$. Por el contrario, las dos puertas de Hadamard en el primer cúbit no se pueden multiplicar al haber un control entre ellas. \n",
    "Sin embargo, usando la  equivalencia anterior podemos invertir la puerta $\\cg{Z}$ y, finalmente, conjugar en el primer cúbit $HZH=X$.\n"
   ]
  },
  {
   "cell_type": "markdown",
   "id": "1701028f",
   "metadata": {
    "slideshow": {
     "slide_type": "slide"
    }
   },
   "source": [
    "\n",
    "- Otra  equivalencia nada intuitiva pero muy importante relaciona tres operaciones CNOT con la permutación U$_{\\rm SWAP}$\n",
    "\n",
    "\n",
    "\n",
    "::::{figure} images/Equiv_CNOTs.png\n",
    ":width: 400px\n",
    ":align: center\n",
    "\n",
    "::::\n",
    "\n",
    "\n",
    "\n",
    "\n",
    "$\\rule{7mm}{0mm}$No hay una forma sencilla de probar esta identidad, así que lo recomendable es escribir las matrices asociadas a cada miembro y comprobar que son iguales\n"
   ]
  },
  {
   "cell_type": "markdown",
   "id": "0a9d7b51",
   "metadata": {
    "slideshow": {
     "slide_type": "fragment"
    }
   },
   "source": [
    " \n",
    "\n",
    "- La puerta de phase global controlada, $\\cg{K_\\phi} = {\\rm diag} (1,1,e^{i\\phi}, e^{i\\phi})$, secretamente, no es una puerta controlada\n",
    "\n",
    "\n",
    "\n",
    "::::{figure} images/Equiv_Kphase.png\n",
    ":width: 330px\n",
    ":align: center\n",
    "\n",
    "::::\n",
    "\n"
   ]
  },
  {
   "cell_type": "markdown",
   "id": "e51392aa",
   "metadata": {
    "slideshow": {
     "slide_type": "slide"
    }
   },
   "source": [
    "También podemos comprobar la veracidad de las anteriores identidades programando los circuitos de ambos miembros"
   ]
  },
  {
   "cell_type": "code",
   "execution_count": 2,
   "id": "2923b841",
   "metadata": {
    "slideshow": {
     "slide_type": "fragment"
    }
   },
   "outputs": [
    {
     "name": "stdout",
     "output_type": "stream",
     "text": [
      "          ┌───┐     \n",
      "q_0: ──■──┤ X ├──■──\n",
      "     ┌─┴─┐└─┬─┘┌─┴─┐\n",
      "q_1: ┤ X ├──■──┤ X ├\n",
      "     └───┘     └───┘\n",
      "        \n",
      "q_0: ─X─\n",
      "      │ \n",
      "q_1: ─X─\n",
      "        \n"
     ]
    }
   ],
   "source": [
    "from qiskit import *\n",
    "from qiskit.quantum_info import Statevector\n",
    "U_simulator = Aer.get_backend('unitary_simulator')\n",
    "\n",
    "qc_left= QuantumCircuit(2)\n",
    "qc_right= QuantumCircuit(2)\n",
    "\n",
    "qc_left.cx(0,1)\n",
    "qc_left.cx(1,0)\n",
    "qc_left.cx(0,1)\n",
    "qc_right.swap(1,0)\n",
    " \n",
    "print(qc_left)\n",
    "print(qc_right)\n",
    "\n",
    "U_left = execute(qc_left, backend = U_simulator).result().get_unitary()\n",
    "U_right = execute(qc_right, backend = U_simulator).result().get_unitary()"
   ]
  },
  {
   "cell_type": "markdown",
   "id": "ca304275",
   "metadata": {
    "slideshow": {
     "slide_type": "fragment"
    }
   },
   "source": [
    "podemos comprobar que las matrices que representan los circuitos coinciden"
   ]
  },
  {
   "cell_type": "code",
   "execution_count": 3,
   "id": "74aab711",
   "metadata": {
    "slideshow": {
     "slide_type": "fragment"
    }
   },
   "outputs": [
    {
     "data": {
      "text/latex": [
       "$$\n",
       "\\text{U_left = }\n",
       "\n",
       "\\begin{bmatrix}\n",
       "1 & 0 & 0 & 0  \\\\\n",
       " 0 & 0 & 1 & 0  \\\\\n",
       " 0 & 1 & 0 & 0  \\\\\n",
       " 0 & 0 & 0 & 1  \\\\\n",
       " \\end{bmatrix}\n",
       "$$"
      ],
      "text/plain": [
       "<IPython.core.display.Latex object>"
      ]
     },
     "execution_count": 3,
     "metadata": {},
     "output_type": "execute_result"
    }
   ],
   "source": [
    "from qiskit.tools.visualization import array_to_latex\n",
    "array_to_latex(U_left, prefix=\"\\\\text{U_left = }\\n\")"
   ]
  },
  {
   "cell_type": "code",
   "execution_count": 4,
   "id": "ee59fdaf",
   "metadata": {
    "slideshow": {
     "slide_type": "-"
    }
   },
   "outputs": [
    {
     "data": {
      "text/latex": [
       "$$\n",
       "\\text{U_right = }\n",
       "\n",
       "\\begin{bmatrix}\n",
       "1 & 0 & 0 & 0  \\\\\n",
       " 0 & 0 & 1 & 0  \\\\\n",
       " 0 & 1 & 0 & 0  \\\\\n",
       " 0 & 0 & 0 & 1  \\\\\n",
       " \\end{bmatrix}\n",
       "$$"
      ],
      "text/plain": [
       "<IPython.core.display.Latex object>"
      ]
     },
     "execution_count": 4,
     "metadata": {},
     "output_type": "execute_result"
    }
   ],
   "source": [
    "array_to_latex(U_right, prefix=\"\\\\text{U_right = }\\n\")"
   ]
  },
  {
   "cell_type": "markdown",
   "id": "dcaa0e2e",
   "metadata": {
    "slideshow": {
     "slide_type": "slide"
    }
   },
   "source": [
    "::::{admonition} Ejercicio\n",
    ":class: tip\n",
    "\n",
    " \n",
    "Demuestra las equivalencia de circuitos anteriores de dos formas:\n",
    "\n",
    "- Sobre el papel,  multiplicando las matrices asociadas\n",
    "- En qiskit, componiendo los circuitos y extrayendo el operador unitario asociado\n",
    "::::\n"
   ]
  },
  {
   "cell_type": "markdown",
   "id": "05c75bfb",
   "metadata": {
    "slideshow": {
     "slide_type": "fragment"
    }
   },
   "source": [
    "::::{admonition} Ejercicio\n",
    ":class: tip\n",
    "\n",
    " \n",
    "    \n",
    "Comprueba la equivalencia de los dos circuitos siguientes, siempre que se verifique que $V^2 = U$\n",
    "\n",
    "\n",
    "\n",
    "::::{figure} images/CCUdecomposition.png\n",
    ":width: 450px\n",
    ":align: center\n",
    "\n",
    "::::\n",
    "\n",
    "    \n",
    "    \n",
    "::::\n"
   ]
  },
  {
   "cell_type": "markdown",
   "id": "5364c340",
   "metadata": {
    "slideshow": {
     "slide_type": "slide"
    }
   },
   "source": [
    "## Operadores de Clifford\n"
   ]
  },
  {
   "cell_type": "markdown",
   "id": "3ef1b024",
   "metadata": {
    "slideshow": {
     "slide_type": "slide"
    }
   },
   "source": [
    "\n",
    "::::{card} \n",
    "<b>Definición</b>:  \n",
    "\n",
    "^^^\n",
    "Se define un <i>operador de Clifford</i>, $U$ como aquel que conjuga un operador de Pauli a otro operador de Pauli.\n",
    "::::\n",
    "\n",
    "Los propios operadores de Pauli son operadores de Clifford.  La conjugación correspondiente simplemente refleja el operador de Pauli. Por ejemplo con $U=Z$\n",
    "\n",
    "$$\n",
    "ZXZ = -X~~~~~~~~~ZYZ = -Y ~~~~~~~~~ZZZ = Z \n",
    "$$\n",
    "\n",
    "\n",
    "Pero vemos que también $H$ y $S$ son de Clifford. \n",
    "Por el contrario $T$ no es un operador de Clifford."
   ]
  },
  {
   "cell_type": "markdown",
   "id": "9b4e900e",
   "metadata": {
    "slideshow": {
     "slide_type": "fragment"
    }
   },
   "source": [
    "::::{admonition} Notar\n",
    ":class: note\n",
    "\n",
    "\n",
    "La forma más fácil de calcular estas conjugaciones es  recordar el álgebra de operadores de Pauli\n",
    "\n",
    "$$\n",
    "X Y = i Z ~~~~~ Y Z = i X ~~~~~ ZX = iY\n",
    "$$\n",
    "donde todas involucran a $X,Y$ y $Z$ en orden cíclico.\n",
    "\n",
    "También el hecho de que dos operadores de Pauli distintos anti-conmutan\n",
    "\n",
    "$$\n",
    "\\{X,Y\\} = XY + YX = 0\n",
    "$$\n",
    "e igualmente para $Y$ y $Z$\n",
    "::::\n"
   ]
  },
  {
   "cell_type": "markdown",
   "id": "f9d25e22",
   "metadata": {
    "slideshow": {
     "slide_type": "slide"
    }
   },
   "source": [
    "Esta definición se extiende a puertas multi-cúbits. Un operador de Clifford será aquel que conjuga una cadena de Pauli para dar otra cadena de Pauli. Por ejemplo\n",
    "\n",
    "\\begin{eqnarray*}\n",
    "(XXH) \\, (YZX) \\,  (XXH)^\\dagger &=& XXH \\otimes YZX \\otimes XXH \\\\ \\rule{0mm}{10mm}\n",
    "&=& XYX \\otimes  XZX \\otimes HXH \\\\ \\rule{0mm}{10mm}\n",
    "&=& (-Y)\\otimes (-Z) \\otimes Z \\\\ \\rule{0mm}{10mm} &=& YZZ\n",
    "\\end{eqnarray*}"
   ]
  },
  {
   "cell_type": "markdown",
   "id": "e8e6dbbc",
   "metadata": {
    "slideshow": {
     "slide_type": "fragment"
    }
   },
   "source": [
    "También podemos conjugar operadores obtenidos por exponenciación\n",
    "\n",
    "$$\n",
    "(XXH) \\, e^{aYZX} \\,  (XXH)^\\dagger =e^{a XXH \\otimes XZX \\otimes XXH} =  e^{a YZZ}\n",
    "$$"
   ]
  },
  {
   "cell_type": "markdown",
   "id": "91c25234",
   "metadata": {
    "slideshow": {
     "slide_type": "slide"
    }
   },
   "source": [
    "Para 2 cúbits la *clase de Clifford* admite puertas controladas.\n",
    "\n",
    "$$\n",
    "\\cg{X} \\, (X\\otimes I)\\,  \\cg{X} = X \\otimes X\n",
    "$$\n",
    "\n",
    "que copia el operador $X$ en el segundo cúbit\n",
    "\n",
    "\n"
   ]
  },
  {
   "cell_type": "markdown",
   "id": "96ddcefb",
   "metadata": {
    "slideshow": {
     "slide_type": "fragment"
    }
   },
   "source": [
    "Esta identidad se puede demostrar gráficamente \n",
    "\n",
    "\n",
    "::::{figure} images/clone_X.png\n",
    ":width: 800px\n",
    ":align: center\n",
    "\n",
    "::::\n",
    "\n"
   ]
  },
  {
   "cell_type": "markdown",
   "id": "4747aaec",
   "metadata": {
    "slideshow": {
     "slide_type": "slide"
    }
   },
   "source": [
    "### Computación Cuántica Universal"
   ]
  },
  {
   "cell_type": "markdown",
   "id": "45b529ae",
   "metadata": {
    "slideshow": {
     "slide_type": "slide"
    }
   },
   "source": [
    "El objetivo de un *computador cuántico universal* es el de ser capaz de implementar el operador unitario más general\n",
    "\n",
    "$$\n",
    "U  = \\sum_x \\ket{f(x)}\\bra{x}\n",
    "$$\n",
    "donde $f: x \\to f(x)$ es una función arbitraria invertible."
   ]
  },
  {
   "cell_type": "markdown",
   "id": "076c2574",
   "metadata": {
    "slideshow": {
     "slide_type": "fragment"
    }
   },
   "source": [
    "::::{card} \n",
    "<b>Teorema</b>: </i>Barenco et. al. 1995:</i> \n",
    "\n",
    "^^^\n",
    "\n",
    "Cualquier operador unitario $U_n$ sobre $n$ cúbits puede expresarse como el producto de  \n",
    "\n",
    "-  puertas continuas de <i>un cubit</i> \n",
    "  \n",
    "-  puertas CNOT.\n",
    "::::\n"
   ]
  },
  {
   "cell_type": "markdown",
   "id": "7515e3ef",
   "metadata": {
    "slideshow": {
     "slide_type": "fragment"
    }
   },
   "source": [
    "\n",
    "\n",
    "::::{figure} images/Equiv_Phase.png\n",
    ":width: 600px\n",
    ":align: center\n",
    "\n",
    "::::\n",
    "\n"
   ]
  },
  {
   "cell_type": "markdown",
   "id": "5a81eb10",
   "metadata": {
    "slideshow": {
     "slide_type": "slide"
    }
   },
   "source": [
    "**Prueba**: consta de varios pasos\n",
    "\n"
   ]
  },
  {
   "cell_type": "markdown",
   "id": "4450ff46",
   "metadata": {
    "slideshow": {
     "slide_type": "fragment"
    }
   },
   "source": [
    "1.  cualquier operador $U_n$ sobre $n$ cúbits se puede descomponer como *producto de operadores* $\\cg{^kU}$ controlados por $k$ cúbits"
   ]
  },
  {
   "cell_type": "markdown",
   "id": "95a429d3",
   "metadata": {
    "slideshow": {
     "slide_type": "fragment"
    }
   },
   "source": [
    "2. los operadores $\\hbox{C}^kU$ se pueden descomponer como productos de un  operador $\\cg{U}$ y puertas de Toffoli CCNOT\n"
   ]
  },
  {
   "cell_type": "markdown",
   "id": "31642972",
   "metadata": {
    "slideshow": {
     "slide_type": "fragment"
    }
   },
   "source": [
    "$\\rule{7mm}{0mm}$En general para $\\cg{^kU}$ necesitamos $k-1$ ancillas\n",
    "\n",
    "\n",
    "\n",
    "::::{figure} images/CkUdecomposition.png\n",
    ":name: fig_ref\n",
    ":width: 400px\n",
    ":align: center\n",
    "\n",
    "::::\n",
    "\n"
   ]
  },
  {
   "cell_type": "markdown",
   "id": "0068c9d4",
   "metadata": {
    "slideshow": {
     "slide_type": "slide"
    }
   },
   "source": [
    "<a id=\"Toffolidecomposition\"></a>\n",
    "\n",
    "3. Las puertas de Toffoli puede descomponerse como productos de $H$, $\\cg{X}$ y $\\cg{S}$\n",
    "\n",
    "\n",
    "\n",
    "::::{figure} images/Toffolidecomposition.png\n",
    ":width: 450px\n",
    ":align: center\n",
    "\n",
    "::::\n",
    "\n",
    "\n",
    "\n",
    "$\\rule{7mm}{0mm}$Este no es más que el caso particular  de la descomposición general de $\\cg{^2U}$ usando $U = X = HZH=HSSH =  (HSH)(HSH)= V^2 ~~\\Rightarrow ~~V = HSH$."
   ]
  },
  {
   "cell_type": "markdown",
   "id": "a1437702",
   "metadata": {
    "slideshow": {
     "slide_type": "fragment"
    }
   },
   "source": [
    "<a id=\"CUdecomposition\"></a>\n",
    "4. Una puerta $\\cg{U}$ puede descomponerse de forma única usando tres rotaciones $A, B$ y $C$ que verifiquen\n",
    "\n",
    "$$\n",
    "ABC = I ~~~~~,~~~~ e^{i\\delta}  AXBXC = U\n",
    "$$\n",
    "\n",
    "\n",
    "::::{figure} images/CUdecomposition.png\n",
    ":width: 600px\n",
    ":align: center\n",
    "\n",
    "::::\n",
    "\n",
    "\n",
    "$\\rule{7mm}{0mm}$En efecto, si el cúbit de control es $\\ket{0}$ la fase $P(\\delta)$ no le afecta y el operador efectivo en el segundo cúbit es $ABC= I$.\n",
    "\n",
    "$\\rule{7mm}{0mm}$Por el contrario, si el primer cúbits es $\\ket{1}$, entonces se aplica $AXBXC$ al segundo cúbit, y \n",
    "el operador $P(\\delta)$ añade la fase global, que al ser global podemos pasársela al segundo cúbit, lo que hace $e^{i\\delta} AXBXC = U$\n"
   ]
  },
  {
   "cell_type": "markdown",
   "id": "4e9450d8",
   "metadata": {
    "slideshow": {
     "slide_type": "fragment"
    }
   },
   "source": [
    ":::{dropdown} Detalles\n",
    "\n",
    "Las dos condiciones  algebráicas admiten una solución única para un operador unitario genérico\n",
    "   \n",
    "$$\n",
    "U = e^{i\\delta}\\begin{bmatrix}\\displaystyle e^{-i(\\alpha+\\beta)/2}\\cos\\frac{\\theta}{2} & \\displaystyle - e^{i(-\\alpha+\\beta)/2}\\sin\\frac{\\theta}{2}  \\\\  \n",
    "\\rule{0mm}{5mm}\n",
    "\\displaystyle   e^{i(\\alpha-\\beta)/2}\\sin\\frac{\\theta}{2}  &\\displaystyle e^{i(\\alpha+\\beta)/2}\\cos\\frac{\\theta}{2}\n",
    "\\end{bmatrix} = e^{i\\delta} AXBXC ~  \\Longrightarrow ~\n",
    "\\left\\{ \\begin{array}{l} A = R_z(\\alpha) R_y\\left(\\frac{\\theta}{2}\\right) \\\\ B = R_y\\left(-\\frac{\\theta}{2}\\right) R_z\\left(-\\frac{\\alpha + \\beta}{2}\\right) \\\\\n",
    "C = R_z\\left( \\frac{\\beta-\\alpha}{2}\\right)\\end{array}\n",
    "\\right.\n",
    "$$\n",
    "\n",
    "<i> Nota: </i>: $U\\in U(2)$  es un operador unitario y  su determinante es una fase $\\det U = e^{i\\delta}$.     Por su parte $\\det(AXBXC) = 1$, y por tanto es un elemento de $SU(2)$.  Por esta razón es necesario añadir la fase $e^{i\\delta}$ para obtener un operador unitario general. \n",
    "    \n",
    "    \n",
    ":::\n",
    "\n"
   ]
  },
  {
   "cell_type": "markdown",
   "id": "52d6442b",
   "metadata": {
    "slideshow": {
     "slide_type": "slide"
    }
   },
   "source": [
    "#### Puertas universales\n",
    "\n",
    "\n",
    "- La descomposición del teorema de Barenco es  una identidad exacta capaz de descomponer un conjunto infinito y continuo de operadores $U_n$ en puertas CNOT y puertas *continuas* $U$ \n",
    "\n",
    "\n"
   ]
  },
  {
   "cell_type": "markdown",
   "id": "05ebddf3",
   "metadata": {
    "slideshow": {
     "slide_type": "fragment"
    }
   },
   "source": [
    "- La computación cuántica *resistentes a errores (\"fault tolerant\")* demanda la **discretización** del proceso de computación.\n",
    "\n"
   ]
  },
  {
   "cell_type": "markdown",
   "id": "65010d66",
   "metadata": {
    "slideshow": {
     "slide_type": "fragment"
    }
   },
   "source": [
    "\n",
    "- Existe un *conjunto discreto de puertas universales* susceptibles de ser programadas de manera resistente a errores \n",
    "\n",
    "\n",
    "\n"
   ]
  },
  {
   "cell_type": "markdown",
   "id": "ab994a5a",
   "metadata": {
    "slideshow": {
     "slide_type": "fragment"
    }
   },
   "source": [
    "$\\rule{7mm}{0mm}$Puede ser diferente dependiendo de la plataforma utilizada. \n",
    "\n",
    "- En circuitos superconductores \n",
    "\n",
    "\\begin{eqnarray}\n",
    "\\hbox{Shor basis}~~\n",
    " ~&:& ~~ \\{ H, T, \\hbox{CNOT}\\}  \\nonumber \\\\ \\rule{0mm}{5mm}\n",
    "\\hbox{NCT}~ ~&:& ~~ \\{ X,\\hbox{CNOT}, \\hbox{Toffoli}\\}   \\nonumber\n",
    "\\end{eqnarray}\n"
   ]
  },
  {
   "cell_type": "markdown",
   "id": "b17456a2",
   "metadata": {
    "slideshow": {
     "slide_type": "slide"
    }
   },
   "source": [
    "- Es importante relacionar las puertas universales con *puertas nativas*\n",
    "\n",
    "$\\rule{7mm}{0mm}$Por ejemplo, en ordenadores de iones atrapados hay las siguientes [puertas nativas](https://ionq.com/docs/getting-started-with-native-gates#introducing-the-native-gates)\n",
    "\n",
    "$$\n",
    "\\{ \\hbox{GPi},\\hbox{Virtual}Z, \\hbox{MS}\\} \n",
    "$$\n",
    "\n",
    "\n",
    "\n",
    "$\\rule{7mm}{0mm}$donde \n",
    "$$\n",
    "\\hbox{GPi} = \\begin{bmatrix} 0 & e^{-i\\phi} \\\\e^{i\\phi} & 0 \\end{bmatrix}~~~,~~~\n",
    "\\hbox{Virtual}Z = \\begin{bmatrix} e^{-i\\phi} & 0 \\\\ 0 & e^{i\\phi} \\end{bmatrix} ~~,~~~~\n",
    "$$\n",
    "\n",
    "$\\rule{7mm}{0mm}$ y la puerta de Mølmer-Sørensen\n",
    "\n",
    "$$\n",
    "MS(\\phi_1,\\phi_2) = \\frac{1}{\\sqrt{2}}\n",
    "\\begin{bmatrix}\n",
    "1 & 0 & 0 & e^{-i(\\phi_1+\\phi_2)} \\\\ 0 & 1 &-i e^{-i(\\phi_1-\\phi_2)} & 0 \\\\ 0 & -i e^{i(\\phi_1-\\phi_2)} & 1 & 0  \\\\ \n",
    "-ie^{i(\\phi_1+\\phi_2)} & 0 & 0 & 1 \n",
    "\\end{bmatrix}\n",
    "$$\n",
    "\n"
   ]
  },
  {
   "cell_type": "markdown",
   "id": "69bbfaaa",
   "metadata": {
    "slideshow": {
     "slide_type": "slide"
    }
   },
   "source": [
    "::::{card} \n",
    "<b>Teorema</b>: </i>Solovay Kitaev et. al. 1995</i> \n",
    "\n",
    "^^^\n",
    "    \n",
    "Una puerta simple $U$ arbitraria puede ser aproximada con precisión $\\epsilon$ usando una secuencia de puertas discretas \n",
    "$R$ en el siguiente sentido de proximidad\n",
    "\n",
    "\n",
    "$$\n",
    "\\hbox{max}_{\\ket{\\psi}} || (U - R)\\ket{\\psi} ||<\\epsilon\n",
    "$$\n",
    "    \n",
    "donde la secuencia aproximante $R$ involucra   $\\leq {\\cal O}(\\log^2(1/\\epsilon))$ puertas de un conjunto discreto universal, \n",
    "::::\n",
    "\n",
    "Referencia: M.A. Nielsen y L.I. Chuang *Quantum Computation and Quantum Information*, pág. 197.\n"
   ]
  },
  {
   "cell_type": "markdown",
   "id": "77f962b3",
   "metadata": {
    "slideshow": {
     "slide_type": "slide"
    }
   },
   "source": [
    "## Medidas de calidad en circuitos"
   ]
  },
  {
   "cell_type": "markdown",
   "id": "228fe94d",
   "metadata": {
    "slideshow": {
     "slide_type": "slide"
    }
   },
   "source": [
    "Alguna medidas cuantitativas  permiten comparar la calidad de distintos circuitos que efectúan la misma tarea. \n",
    "\n",
    "- **anchura**= es el número total de cúbits  que necesita.   \n",
    "\n",
    " El uso de ancillas incrementa la anchura de un circuito, y por tanto, reduce su calidad en comparación con otro circuito que tenga menor anchura. \n"
   ]
  },
  {
   "cell_type": "markdown",
   "id": "e9ab6f4e",
   "metadata": {
    "slideshow": {
     "slide_type": "fragment"
    }
   },
   "source": [
    "- **coste**= el número de puertas presentes en el mismo. \n"
   ]
  },
  {
   "cell_type": "markdown",
   "id": "89073fea",
   "metadata": {
    "slideshow": {
     "slide_type": "fragment"
    }
   },
   "source": [
    "- **complejidad**= es una medida estandarizada asociada al número de *puertas elementales* en las que puede descomponerse un circuito. \n",
    "\n",
    " Es un número a reducir. Sin embargo no es una medida inambigua ya que depende de la librería utilizada. Por ejemplo, si ésta es la NCT, entonces el coste del [circuito](#Toffolidecomposition) es 1. Sin embargo, si la librería es la tomada por $ \\{ H, S, T, \\hbox{CNOT}\\} $\n",
    "entonces el coste sube hasta 7. Por ello, a la hora de comparar circuitos es importante definirlos en la misma base. \n",
    "\n"
   ]
  },
  {
   "cell_type": "markdown",
   "id": "af35ae62",
   "metadata": {
    "slideshow": {
     "slide_type": "fragment"
    }
   },
   "source": [
    "\n",
    " \n",
    " * **profundidad**= para evaluar la *profundidad*  es necesario agrupar todas las puertas  que se puedan realizar en paralelo en cortes temporales de duración $\\Delta$ (pulso).\n",
    " \n",
    " En particular puertas que actúen sobre registros diferentes no interferirán y se podrán paralelizar. \n",
    " Por ejemplo, el [circuito que descompone $U$](#CUdecomposition)   tiene un coste igual a 6, pero una profundidad igual a 5. \n",
    " \n",
    "\n"
   ]
  },
  {
   "cell_type": "code",
   "execution_count": 5,
   "id": "63474baa",
   "metadata": {
    "run_control": {
     "marked": false
    },
    "slideshow": {
     "slide_type": "slide"
    }
   },
   "outputs": [
    {
     "name": "stderr",
     "output_type": "stream",
     "text": [
      "/home/dcb/Programs/miniconda/miniconda3/envs/qiskit_qibo_penny/lib/python3.11/site-packages/qiskit/visualization/circuit/matplotlib.py:266: FutureWarning: The default matplotlib drawer scheme will be changed to \"iqp\" in a following release. To silence this warning, specify the current default explicitly as style=\"clifford\", or the new default as style=\"iqp\".\n",
      "  self._style, def_font_ratio = load_style(self._style)\n"
     ]
    },
    {
     "data": {
      "image/png": "[encoded data removed]",
      "text/plain": [
       "<Figure size 454.719x284.278 with 1 Axes>"
      ]
     },
     "execution_count": 5,
     "metadata": {},
     "output_type": "execute_result"
    }
   ],
   "source": [
    "from qiskit import QuantumCircuit, transpile, Aer, QuantumRegister\n",
    "qc = QuantumCircuit(3)\n",
    "\n",
    "\n",
    "qc.h(0)\n",
    "qc.swap(2,1)\n",
    "qc.h(2)\n",
    "qc.cx(2,0)\n",
    "qc.h([0,2])\n",
    "qc.draw('mpl')\n"
   ]
  },
  {
   "cell_type": "code",
   "execution_count": 6,
   "id": "058bae54",
   "metadata": {},
   "outputs": [
    {
     "name": "stdout",
     "output_type": "stream",
     "text": [
      "tamaño= 6\n",
      "puertas no locales= 2\n",
      "anchura= 3\n",
      "profundidad= 4\n"
     ]
    }
   ],
   "source": [
    "print('tamaño=',qc.size())\n",
    "print('puertas no locales=', qc.num_nonlocal_gates())\n",
    "print('anchura=', qc.num_qubits)\n",
    "print('profundidad=', qc.depth())\n"
   ]
  },
  {
   "cell_type": "code",
   "execution_count": 7,
   "id": "865a02df",
   "metadata": {
    "run_control": {
     "marked": false
    },
    "slideshow": {
     "slide_type": "slide"
    }
   },
   "outputs": [
    {
     "data": {
      "image/png": "[encoded data removed]",
      "text/plain": [
       "<Figure size 621.941x284.278 with 1 Axes>"
      ]
     },
     "execution_count": 7,
     "metadata": {},
     "output_type": "execute_result"
    }
   ],
   "source": [
    "qc_dec=qc.decompose()\n",
    "qc_dec.draw('mpl')"
   ]
  },
  {
   "cell_type": "code",
   "execution_count": 8,
   "id": "834dddab",
   "metadata": {},
   "outputs": [
    {
     "name": "stdout",
     "output_type": "stream",
     "text": [
      "complejidad= 8\n",
      "puertas no locales= 4\n",
      "anchura= 3\n",
      "profundidad= 6\n"
     ]
    }
   ],
   "source": [
    "print('complejidad=', qc_dec.size())\n",
    "print('puertas no locales=', qc_dec.num_nonlocal_gates())\n",
    "print('anchura=', qc_dec.num_qubits)\n",
    "print('profundidad=', qc_dec.depth())"
   ]
  },
  {
   "cell_type": "code",
   "execution_count": 9,
   "id": "93dffaa7",
   "metadata": {
    "slideshow": {
     "slide_type": "slide"
    }
   },
   "outputs": [],
   "source": [
    "#from qiskit import IBMQ\n",
    "#IBMQ.load_account()\n",
    "#provider = IBMQ.get_provider(hub='ibm-q')\n",
    "#provider.backends()"
   ]
  },
  {
   "cell_type": "code",
   "execution_count": 10,
   "id": "8adc0ba1",
   "metadata": {
    "slideshow": {
     "slide_type": "slide"
    }
   },
   "outputs": [],
   "source": [
    "#backend = provider.get_backend(\"ibmq_lima\")\n",
    "#backend.configuration().basis_gates"
   ]
  },
  {
   "cell_type": "code",
   "execution_count": 11,
   "id": "f26afe2a",
   "metadata": {
    "slideshow": {
     "slide_type": "fragment"
    }
   },
   "outputs": [],
   "source": [
    "###qc_trans = transpile(qc_dec)\n",
    "#qc_trans = transpile(qc,backend)\n",
    "#qc_trans.draw('mpl')"
   ]
  },
  {
   "cell_type": "code",
   "execution_count": 12,
   "id": "5c7cf0e4",
   "metadata": {
    "slideshow": {
     "slide_type": "fragment"
    }
   },
   "outputs": [],
   "source": [
    "#print('complejidad=', qc_trans.size())\n",
    "#print('puertas no locales=', qc_trans.num_nonlocal_gates())\n",
    "#print('anchura=', qc_trans.num_qubits)\n",
    "#print('profundidad=', qc_trans.depth())"
   ]
  },
  {
   "cell_type": "markdown",
   "id": "c0ced0a4",
   "metadata": {
    "slideshow": {
     "slide_type": "slide"
    }
   },
   "source": [
    "::::{admonition} Ejercicio\n",
    ":class: tip\n",
    "\n",
    "\n",
    "\n",
    "1. Programa y ejecuta un circuito de 16 cúbits que prepare el estado $\\ket{00\\ldots 0} \\to \\frac{1}{\\sqrt{2}}\\left(\\ket{00\\ldots 0} + \\ket{11\\ldots 1}\\right) $ \n",
    "\n",
    "2. Modifica la posición de los controladores hasta reducir la profundidad a 5.\n",
    "\n",
    "::::\n"
   ]
  },
  {
   "cell_type": "markdown",
   "id": "c15a9779",
   "metadata": {
    "slideshow": {
     "slide_type": "slide"
    }
   },
   "source": [
    "## Complejidad computacional"
   ]
  },
  {
   "cell_type": "markdown",
   "id": "fae2bb1d",
   "metadata": {
    "slideshow": {
     "slide_type": "slide"
    }
   },
   "source": [
    "Un algoritmo es una descomposición de una función en composición de un conjunto de *funciones primitivas*"
   ]
  },
  {
   "cell_type": "markdown",
   "id": "6772fe59",
   "metadata": {
    "slideshow": {
     "slide_type": "fragment"
    }
   },
   "source": [
    "A la hora de comparar estrategias de computación es necesario  analizar el coste relativo de diferentes algoritmos. Esta es la labor de teoría de la complejidad computacional. "
   ]
  },
  {
   "cell_type": "markdown",
   "id": "5191daac",
   "metadata": {
    "slideshow": {
     "slide_type": "fragment"
    }
   },
   "source": [
    "Como regla general, cada *modelo computacional* reducirá un problema complejo a una serie de pasos elementales (*operaciones primitivas*), a los que les asignaremos un coste computacional 1. \n"
   ]
  },
  {
   "cell_type": "markdown",
   "id": "017cda54",
   "metadata": {
    "slideshow": {
     "slide_type": "fragment"
    }
   },
   "source": [
    "La teoría de la *complejidad computacional* agrupa problemas por clases en las que el uso de recursos computacionales (tiempo o espacio) crece de forma similar. "
   ]
  },
  {
   "cell_type": "markdown",
   "id": "ca13946f",
   "metadata": {
    "slideshow": {
     "slide_type": "slide"
    }
   },
   "source": [
    "### Complejidad clásica:\n",
    "\n",
    "\n",
    "\n",
    " -  **P** ( *Polinómica*):  decimos que un problema pertenece a esta clase si puede ser resuelto en un tiempo ($t \\sim $número de pasos) polinómico en el tamaño $n$ del dato de entrada $t\\sim \\exists k \\Rightarrow  {\\cal O}(n^k)\\, $. \n"
   ]
  },
  {
   "cell_type": "markdown",
   "id": "67698c50",
   "metadata": {
    "slideshow": {
     "slide_type": "fragment"
    }
   },
   "source": [
    "- **BPP** (\"*Bounded probabilistic polynomial*\"): problemas que se pueden resolver mediante una máquina de Turing probabilística en tiempo polinómico y con una probabilidad de error $\\leq 1/3$ para cualquier dato de entrada. "
   ]
  },
  {
   "cell_type": "markdown",
   "id": "5334c8f5",
   "metadata": {
    "slideshow": {
     "slide_type": "fragment"
    }
   },
   "source": [
    "- **NP** (\"*No determinista Polinómica*\"): clase de problemas que pueden ser  *verificados* en tiempo polinómico,\n",
    "pero carecen de un algoritmo para ser resueltos en tiempo polinómico. \n",
    "\n",
    "\n",
    "Es evidente que **P**$\\subseteq$ **NP**. No es evidente, aunque sí conjeturado, que **P**$\\neq$ **NP**, siendo este un problema central en matemáticas. \n",
    "\n"
   ]
  },
  {
   "cell_type": "markdown",
   "id": "f8e217ea",
   "metadata": {
    "slideshow": {
     "slide_type": "slide"
    }
   },
   "source": [
    "\n",
    "-  **NPC** (*NP-Completa*): es un subconjunto de **NPC**$\\subset$**NP** que contiene a los problemas más difíciles en esta clase. \n",
    "\n",
    "\n",
    " Un problema es **NPC** si cualquier  problema en **NP** puede aplicarse al mismo  mediante un algoritmo de coste polinómico. \n",
    "\n",
    "\n"
   ]
  },
  {
   "cell_type": "markdown",
   "id": "e252f1b0",
   "metadata": {},
   "source": [
    "La importancia de esta subclase es que la resolución eficiente de uno solo de sus elementos implica lo mismo para toda la clase, o lo que es igual implicaría que **NP** = **P**.\n",
    "\n",
    "Ejemplos de esta clase son  el *problema del viajante* y  el de la *satisfabilidad booleana*.\n"
   ]
  },
  {
   "cell_type": "markdown",
   "id": "5a1ba07b",
   "metadata": {
    "slideshow": {
     "slide_type": "fragment"
    }
   },
   "source": [
    "- **PSPACE**. Clase de problemas con necesidades de *memoria* exponencial en el tamaño del problema."
   ]
  },
  {
   "cell_type": "markdown",
   "id": "51384efe",
   "metadata": {},
   "source": [
    "::::{admonition} Ejemplos\n",
    ":class: tip\n",
    "\n",
    "\n",
    "-  ejemplos de la clase <b>NP</b>: la <i>factorización entera</i>, o la evaluación de  <i>logaritmos discretos</i>,... \n",
    "    \n",
    "    \n",
    "- ejemplos de la clase <b>NPC</b> son el <i>problema del viajante</i>, la <i>coloración de grafos</i>, \n",
    "::::\n"
   ]
  },
  {
   "cell_type": "markdown",
   "id": "3c457574",
   "metadata": {
    "slideshow": {
     "slide_type": "slide"
    }
   },
   "source": [
    "### Complejidad cuántica:\n",
    "\n",
    "\n",
    "\n",
    "Decimos que un circuito es *eficiente* (*no-eficiente*) si su *coste* escala de forma *polinómica* (*exponencial*)  con la anchura del circuito. "
   ]
  },
  {
   "cell_type": "markdown",
   "id": "3ff04cfc",
   "metadata": {
    "slideshow": {
     "slide_type": "fragment"
    }
   },
   "source": [
    "La descomposición de un operador unitario genérico $U(n)$ no será eficiente, puesto que viene especificado por un número exponencial $\\sim 2^n\\times 2^n$ de parámetros. "
   ]
  },
  {
   "cell_type": "markdown",
   "id": "70935f5d",
   "metadata": {},
   "source": [
    "Al igual que en computación clásica existen clases de complejidad cuánticas asociadas a familias de problemas que escalan de la misma manera."
   ]
  },
  {
   "cell_type": "markdown",
   "id": "f18fb36b",
   "metadata": {
    "slideshow": {
     "slide_type": "slide"
    }
   },
   "source": [
    "\n",
    " - **BQP** (*Bounded Quantum Polynomial*): clase de problemas para los que existe un algoritmos cuántico de coste polinómico y con una probabilidad de error $\\leq 3$. Es el análogo cuántico de la clase **BPP**. \n"
   ]
  },
  {
   "cell_type": "markdown",
   "id": "a527158d",
   "metadata": {
    "slideshow": {
     "slide_type": "fragment"
    }
   },
   "source": [
    " - **quantum NP**: clase de problemas que admiten un circuito polinómico en el número de cúbits que *verifica*  una eventual solución con probabilidad 1 si es correcta, y *rechaza* cualquier resultado que no sea solución con la misma probabilidad. "
   ]
  },
  {
   "cell_type": "markdown",
   "id": "bf3359f0",
   "metadata": {
    "slideshow": {
     "slide_type": "fragment"
    }
   },
   "source": [
    "- **QMA** (*Quantum Merlin-Arthur*): admitiendo una probabilidad de error $\\leq 1/3$ en la clase **quantum NP** obtenemos el análogo cuántico de la clase **NP**.  Existe una clase **QMA**-completa que contiene los problemas más duros en esta categoría. ´"
   ]
  },
  {
   "cell_type": "markdown",
   "id": "a2d13a0e",
   "metadata": {},
   "source": [
    "::::{admonition} Ejemplos\n",
    ":class: tip\n",
    "\n",
    "    \n",
    "El ejemplo más famoso de problema  <b>QMA</b>-completo es determinar si la energía $E_0$ del estado fundamental de un Hamiltoniano $k-$local es $E_0\\leq a$ o bien $E_0\\geq a + 1/poly(n)$.\n",
    "::::\n"
   ]
  },
  {
   "cell_type": "markdown",
   "id": "5b43cc6f",
   "metadata": {},
   "source": [
    "::::{admonition} Notar\n",
    ":class: note\n",
    "\n",
    "    \n",
    "\n",
    "La teoría de la complejidad computacional intenta establecer relaciones de inclusión entre estas clases. \n",
    "A parte de la mencionada <b> P $\\subseteq$ NP </b> se  puede probar que\n",
    "\n",
    "\n",
    "    \n",
    "::::\n"
   ]
  }
 ],
 "metadata": {
  "celltoolbar": "Tags",
  "kernelspec": {
   "display_name": "Python 3 (ipykernel)",
   "language": "python",
   "name": "python3"
  },
  "language_info": {
   "codemirror_mode": {
    "name": "ipython",
    "version": 3
   },
   "file_extension": ".py",
   "mimetype": "text/x-python",
   "name": "python",
   "nbconvert_exporter": "python",
   "pygments_lexer": "ipython3",
   "version": "3.11.7"
  },
  "toc": {
   "base_numbering": 1,
   "nav_menu": {},
   "number_sections": true,
   "sideBar": true,
   "skip_h1_title": true,
   "title_cell": "Table of Contents",
   "title_sidebar": "Contents",
   "toc_cell": false,
   "toc_position": {
    "height": "calc(100% - 180px)",
    "left": "10px",
    "top": "150px",
    "width": "414.053px"
   },
   "toc_section_display": true,
   "toc_window_display": true
  },
  "varInspector": {
   "cols": {
    "lenName": 16,
    "lenType": 16,
    "lenVar": 40
   },
   "kernels_config": {
    "python": {
     "delete_cmd_postfix": "",
     "delete_cmd_prefix": "del ",
     "library": "var_list.py",
     "varRefreshCmd": "print(var_dic_list())"
    },
    "r": {
     "delete_cmd_postfix": ") ",
     "delete_cmd_prefix": "rm(",
     "library": "var_list.r",
     "varRefreshCmd": "cat(var_dic_list()) "
    }
   },
   "types_to_exclude": [
    "module",
    "function",
    "builtin_function_or_method",
    "instance",
    "_Feature"
   ],
   "window_display": false
  }
 },
 "nbformat": 4,
 "nbformat_minor": 5
}