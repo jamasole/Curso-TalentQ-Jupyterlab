{
 "cells": [
  {
   "cell_type": "markdown",
   "id": "9f181e9e",
   "metadata": {},
   "source": [
    "> {sub-ref}`today` | {sub-ref}`wordcount-words` words | {sub-ref}`wordcount-minutes` min read\n",
    "\n",
    "(sec_Circuitos)=\n",
    "\n",
    "# Circuitos multicúbits\n",
    "\n",
    "En esta sección vamos a extender los contenidos de la anterior pero al caso de multicúbits, introduciendo entre otras cosas conceptos como el entrelazamiento.\n",
    "\n",
    "```{tableofcontents}\n",
    "```"
   ]
  }
 ],
 "metadata": {
  "jupytext": {
   "text_representation": {
    "extension": ".md",
    "format_name": "myst",
    "format_version": 0.13,
    "jupytext_version": "1.15.2"
   }
  },
  "kernelspec": {
   "display_name": "Python 3 (ipykernel)",
   "language": "python",
   "name": "python3"
  },
  "source_map": [
   12
  ]
 },
 "nbformat": 4,
 "nbformat_minor": 5
}