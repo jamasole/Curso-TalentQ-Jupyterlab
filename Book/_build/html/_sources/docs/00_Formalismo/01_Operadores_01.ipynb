{
 "cells": [
  {
   "cell_type": "markdown",
   "id": "f28d9637",
   "metadata": {},
   "source": [
    "$\\newcommand{\\V}{{V}}$\n",
    "$\\newcommand{\\C}{{\\mathbb C}}$\n",
    "$\\newcommand{\\R}{{\\mathbb R}}$\n",
    "$\\newcommand{\\tr}{{\\rm tr}}$\n",
    "$\\newcommand{\\ketbra}[2]{{|#1\\rangle\\langle #2|}}$\n",
    "$\\newcommand{\\braket}[2]{{\\langle #1|#2\\rangle}}$\n",
    "$\\newcommand{\\ket}[1]{{|#1\\rangle}}$\n",
    "$\\newcommand{\\braa}[1]{{\\langle #1|}}$\n",
    "$\\newcommand{\\Hil}{{\\mathcal H}}$\n",
    "$\\newcommand{\\Lin}{\\rm L}$\n",
    "$\\newcommand{\\O}{{\\mathcal O}}$\n",
    "$\\newcommand{\\ees}{\\end{equation*}}$\n",
    "$\\newcommand{\\bes}{\\begin{equation*}}$\n",
    "$\\newcommand{\\i}{{i}}$"
   ]
  },
  {
   "cell_type": "markdown",
   "id": "da46dd5f",
   "metadata": {},
   "source": [
    "```{figure} ../thumbnails/myThumbnail.png\n",
    ":align: center\n",
    "```"
   ]
  },
  {
   "cell_type": "markdown",
   "id": "11b1c8c6",
   "metadata": {},
   "source": [
    "# Operadores I"
   ]
  },
  {
   "cell_type": "code",
   "execution_count": null,
   "id": "2eea1af0",
   "metadata": {
    "slideshow": {
     "slide_type": "-"
    }
   },
   "outputs": [],
   "source": [
    "import sys\n",
    "sys.path.append('../')\n",
    "import macro_tQ as tQ\n",
    "\n",
    "import numpy as np\n",
    "import scipy.linalg as la\n",
    "from IPython.display import display,Markdown,Latex\n",
    "import matplotlib.pyplot as plt\n",
    "from qiskit.tools.visualization import array_to_latex"
   ]
  },
  {
   "cell_type": "markdown",
   "id": "2ec943f8",
   "metadata": {
    "slideshow": {
     "slide_type": "skip"
    }
   },
   "source": [
    "## Operadores y Matrices"
   ]
  },
  {
   "cell_type": "markdown",
   "id": "e1015e0b",
   "metadata": {
    "slideshow": {
     "slide_type": "skip"
    }
   },
   "source": [
    "En un espacio vectorial, además de los **vectores**, será esencial entender las **transformaciones** de estos elementos entre sí."
   ]
  },
  {
   "cell_type": "markdown",
   "id": "8c2c413a",
   "metadata": {
    "slideshow": {
     "slide_type": "slide"
    }
   },
   "source": [
    ":::{card}\n",
    "**Definición**: *operador lineal*\n",
    "\n",
    "^^^\n",
    "\n",
    "Un <i>operador lineal</i>  transforma <u>todo vector en otro</u> \n",
    "\n",
    "$$\n",
    "A: \\ket{u} ~~\\to ~~ \\ket{v}   \n",
    "$$\n",
    ":::"
   ]
  },
  {
   "cell_type": "markdown",
   "id": "26532430",
   "metadata": {
    "slideshow": {
     "slide_type": "fragment"
    }
   },
   "source": [
    "El apelativo lineal es una condición extremadamente útil, que indica cómo se transforma un vector que es combinación lineal de otros dos\n",
    "\n",
    "$$\n",
    "A: \\big(\\alpha\\ket{u} + \\beta\\ket{w}\\big)~~\\to ~~ \\ket{v} =\\alpha A\\ket{u} + \\beta A\\ket{w}\n",
    "$$"
   ]
  },
  {
   "cell_type": "markdown",
   "id": "fbd23118",
   "metadata": {
    "slideshow": {
     "slide_type": "skip"
    }
   },
   "source": [
    ":::{admonition} Notación\n",
    ":class: note\n",
    "\n",
    "Escribimos también $\\ket{v} = A\\ket{u} \\equiv \\ket{Au}$ $~~$ donde $Au=v$ deben entenderse como la etiqueta sinónimas del vector imagen\n",
    "\n",
    ":::"
   ]
  },
  {
   "cell_type": "markdown",
   "id": "7f5da6aa",
   "metadata": {
    "slideshow": {
     "slide_type": "skip"
    }
   },
   "source": [
    ":::{admonition} Ejemplo\n",
    ":class: tip\n",
    "\n",
    "Un <i>operador</i>  fácil de visualizar es el operador de <i>rotación en un plano</i>. Dado un ángulo $\\theta \\in (0,2\\pi)$ el operador $A = R(\\theta)$ gira cualquier vector un ángulo $\\theta$ en el sentido antihorario\n",
    "\n",
    "Un vector en  ${\\bf u} =  (u_1,u_2)\\in {\\mathbb R}^2$  es equivalente al número complejo $u = u_1 + i u_2 \\in {\\mathbb C}$.\n",
    "\n",
    "    \n",
    "Escrito en polares, $u=|u|e^{i\\phi}$, y sabemos que una rotación de ángulo $\\theta$ es equivalente a añadirle dicho  ángulo a la fase \n",
    "\n",
    "$$\n",
    " v = R(\\theta) u = |u| e^{i(\\phi + \\theta)} =  |u| e^{i\\phi } e^{i\\theta} = u\\cdot e^{i\\theta} \n",
    "$$\n",
    "    \n",
    "Por tanto, rotar un número complejo un ángulo $\\theta$ se corresponde con la acción el operador $R(\\theta)$\n",
    "que multiplica cualquier número complejo por la fase $e^{i\\theta}$.\n",
    "\n",
    "    \n",
    "    \n",
    "La propiedad fundamental de una rotación es la de mantener invariante el módulo  $|v| = |u|$.    \n",
    "\n",
    ":::"
   ]
  },
  {
   "cell_type": "markdown",
   "id": "3caee2fc",
   "metadata": {
    "slideshow": {
     "slide_type": "skip"
    }
   },
   "source": [
    "::::{admonition} Ejercicio\n",
    ":class: tip\n",
    "\n",
    "Usando el ejemplo anterior, define una función $R$ en python, que recibe un vector en el plano $(u_1,u_2)$ y devuelve el vector $(v_1,v_2)$ de componentes rotadas un ángulo $\\theta$.\n",
    "\n",
    "\n",
    ":::{dropdown} Solución\n",
    "\n",
    "```{code-block} python\n",
    "def R(u1,u2,theta):\n",
    "   u = u1 + u2*1j\n",
    "   v = u*np.exp(1j*theta) # u rotado un angulo theta\n",
    "   return v.real,v.imag\n",
    "```\n",
    ":::\n",
    "::::"
   ]
  },
  {
   "cell_type": "code",
   "execution_count": null,
   "id": "6618f6df",
   "metadata": {
    "slideshow": {
     "slide_type": "skip"
    }
   },
   "outputs": [],
   "source": [
    "'''ángulo que queremos rotar'''\n",
    "theta=0.6 \n",
    "\n",
    "'''vector a rotar'''\n",
    "u1=2.\n",
    "u2=2.\n",
    "\n",
    "#'''v1 y v2 a partir de u1, u2 y theta'''\n",
    "#def R(u1,u2,theta):\n",
    "#        u = u1 + u2*1j\n",
    "#        v = u*np.exp(1j*theta) # u rotado un angulo theta\n",
    "#        return v.real,v.imag\n",
    "    \n",
    "v1,v2 =  R(u1,u2,theta)\n",
    "\n",
    "''' Representación en el plano complejo '''\n",
    "v = v1**2+v2**2\n",
    "tQ.plot_2D_plane(left=-int(abs(v1))-2,right=int(abs(v1))+2,up=int(abs(v2))+1,down=-int(abs(v2))-1)\n",
    "tQ.draw_vector(u1,u1,vcolor='b')\n",
    "tQ.draw_vector(v1,v2,vcolor='r')"
   ]
  },
  {
   "cell_type": "markdown",
   "id": "fc45338d",
   "metadata": {
    "slideshow": {
     "slide_type": "slide"
    }
   },
   "source": [
    "### Matriz de un operador\n",
    "<a id='matriz_op'></a>\n",
    "\n",
    "*Dada una base* $\\ket{i}$ sabemos que:\n",
    "\n",
    "$\\Rightarrow $  un vector queda especificado por una *columna de números* \n",
    "\n",
    "$$\n",
    "\\ket{v} \\sim \\begin{pmatrix} v_1 \\\\ v_2\\\\ \\vdots \\\\ v_N\\end{pmatrix}\n",
    "$$"
   ]
  },
  {
   "cell_type": "markdown",
   "id": "eef12a1f",
   "metadata": {
    "slideshow": {
     "slide_type": "fragment"
    }
   },
   "source": [
    "$\\Rightarrow $  un operador queda definido por una *matriz de números*. \n",
    "\n",
    "$$\n",
    "A \\sim \\begin{pmatrix} \n",
    "A_{11} & A_{12} & \\cdots & A_{1N} \\\\\n",
    "A_{21} & A_{22} & \\cdots & A_{2N} \\\\\n",
    "\\vdots & \\vdots &  \\ddots      & \\vdots \\\\\n",
    "A_{N1} & A_{N2} &    \\cdots    & A_{NN}\n",
    "\\end{pmatrix}\n",
    "$$"
   ]
  },
  {
   "cell_type": "markdown",
   "id": "b2f4b9fd",
   "metadata": {},
   "source": [
    "En ambos casos, los números son las **componentes** en una base."
   ]
  },
  {
   "cell_type": "markdown",
   "id": "798201d6",
   "metadata": {
    "slideshow": {
     "slide_type": "skip"
    }
   },
   "source": [
    "Efectivamente, en una base, la relación $\\ket{v} = A\\ket{u}$ equivale a una ecuación que relacione las componentes de ambos vectores\n",
    "$$\n",
    "v_i = \\sum_{j=1}^N A_{ij} u_j  \\, .\n",
    "$$"
   ]
  },
  {
   "cell_type": "markdown",
   "id": "87499eba",
   "metadata": {
    "slideshow": {
     "slide_type": "skip"
    }
   },
   "source": [
    "Esta operación se corresponde con la siguiente *multiplicación de matrices*\n",
    "\n",
    "$$\n",
    "\\begin{pmatrix}\n",
    "v_1 \\\\ v_2 \\\\ \\vdots \\\\ v_N \\end{pmatrix} =  \\begin{pmatrix} \n",
    "A_{11} & A_{12} & \\cdots & A_{1N} \\\\\n",
    "A_{21} & A_{22} & \\cdots & A_{2N} \\\\\n",
    "\\vdots & \\vdots &  \\ddots      & \\vdots \\\\\n",
    "A_{N1} & A_{N2} &    \\cdots    & A_{NN}\n",
    "\\end{pmatrix}\n",
    " \\begin{pmatrix} \n",
    "u_1 \\\\ u_2 \\\\ \\vdots \\\\ u_N\\end{pmatrix} \n",
    "$$"
   ]
  },
  {
   "cell_type": "markdown",
   "id": "6b940e3d",
   "metadata": {
    "slideshow": {
     "slide_type": "skip"
    }
   },
   "source": [
    ":::{admonition} Ejemplo\n",
    ":class: tip\n",
    "\n",
    "Continuando con el ejemplo del operador de rotación en un plano, hemos visto que las componentes de $u = u_1 + i u_2$ y las de $R(\\theta)u = v = v_1 + i v_2$ se obtienen mediante la multiplicación por una fase pura \n",
    "\n",
    "\\begin{eqnarray}\n",
    "v&=& u e^{i\\theta} \\\\\n",
    "\\end{eqnarray}\n",
    "    \n",
    "Vamos a desarrollar cada miembro en cartesianas, separando las partes real e imaginaria\n",
    "    \n",
    "\\begin{eqnarray}\n",
    "v_1 + i v_2 &=& (u_1 + iu_2) (\\cos \\theta + i \\sin \\theta)  \\\\\n",
    "    \\rule{0mm}{6mm}\n",
    "    &=& (\\cos\\theta \\, u_1 - \\sin \\theta\\,  u_2) + i(\\sin\\theta\\,  u_1 + \\cos \\theta\\,  u_2)\n",
    "\\end{eqnarray}\n",
    "   \n",
    "es decir las coordenadas del vector origen y el vector rotado imagen se relacionan en la  forma \n",
    "\\begin{eqnarray}\n",
    "v_1 = \\cos\\theta \\, u_1 - \\sin \\theta\\,  u_2 ~~~~~~~,~~~~~~~~\n",
    "v_2 = \\sin\\theta \\, u_1 + \\cos \\theta\\,  u_2     \n",
    "\\end{eqnarray}\n",
    "que podemos expresar en forma matricial\n",
    "    \n",
    "$$\n",
    "\\begin{pmatrix} v_1 \\\\ v_2 \\end{pmatrix} = \\begin{pmatrix} \\cos\\theta & -\\sin\\theta \\\\ \\sin\\theta &\\cos\\theta\\end{pmatrix} \\begin{pmatrix} u_1 \\\\ u_2 \\end{pmatrix}\n",
    "$$    \n",
    ":::"
   ]
  },
  {
   "cell_type": "markdown",
   "id": "01017472",
   "metadata": {},
   "source": [
    "$\\Lin(\\Hil)$ es por tanto, un espacio vectorial cuyos vectores son los operadore lineales sobre $\\Hil$. Como para cualquier espacio vectorial, para describir los operadores $A$,  necesitamos una base. \n",
    "\n",
    "Resulta que, como vamos a ver, una base $\\{ \\ket{i}\\}$ para describir los vectores  de $\\ket{v}\\in \\Hil$ nos permite definir una base para los operadores $A \\in \\Lin(\\Hil)$ de forma natural. \n",
    "\n",
    "Para verlo vamos a definir dos formas de componer dos vectores de $\\ket{u},\\ket{v} \\in \\Hil$: el producto interno, y el producto externos."
   ]
  },
  {
   "cell_type": "markdown",
   "id": "8ddd3b16",
   "metadata": {
    "slideshow": {
     "slide_type": "slide"
    }
   },
   "source": [
    "##   El Espacio Vectorial  $\\Lin(\\Hil)$"
   ]
  },
  {
   "cell_type": "markdown",
   "id": "ba3659cd",
   "metadata": {
    "slideshow": {
     "slide_type": "-"
    }
   },
   "source": [
    "El <i>conjunto</i> de **todos** <i>los operadores lineales</i> sobre un espacio vectorial $\\Hil$ tiene, de forma natural, una estructura de espacio vectorial que denominamos $\\Lin(\\Hil)$"
   ]
  },
  {
   "cell_type": "markdown",
   "id": "9e86e4fc",
   "metadata": {
    "slideshow": {
     "slide_type": "fragment"
    }
   },
   "source": [
    "En efecto, dados dos operadores,  $A$ y $B$ tanto la suma $C = A+B$ como la multiplicación por un número complejo $D=\\lambda A$ son *nuevos operadores* definidos por su acción sobre un vector cualquiera $\\ket{v}\\in \\Hil$\n",
    "\n",
    "$$\n",
    "C\\ket{v} ~=~ (A + B) \\ket{v} = A\\ket{v} + B\\ket{v}\n",
    "$$\n",
    "\n",
    "$$\n",
    "D\\ket{v} ~=~ (\\lambda A) \\ket{v} = \\lambda (A\\ket{v})\n",
    "$$"
   ]
  },
  {
   "cell_type": "markdown",
   "id": "97fa1477",
   "metadata": {},
   "source": [
    "El elemento neutro es el operador que aniquila cualquier vector\n",
    "\n",
    "$$\n",
    "(A + 0)\\ket{u} = A\\ket{u} + 0\\ket{u} = A\\ket{u} + 0 = \\ket{v}\n",
    "$$"
   ]
  },
  {
   "cell_type": "markdown",
   "id": "dc77065d",
   "metadata": {
    "slideshow": {
     "slide_type": "skip"
    }
   },
   "source": [
    "### Producto externo"
   ]
  },
  {
   "cell_type": "markdown",
   "id": "e3a1d13a",
   "metadata": {},
   "source": [
    "$\\Lin(\\Hil)$ es por tanto, un espacio vectorial cuyos vectores son los operadore lineales sobre $\\Hil$. Como para cualquier espacio vectorial, para describir los operadores $A$,  necesitamos una base. \n",
    "\n",
    "Resulta que, como vamos a ver, una base $\\{ \\ket{i}\\}$ para describir los vectores  de $\\ket{v}\\in \\Hil$ nos permite definir una base para los operadores $A \\in \\Lin(\\Hil)$ de forma natural. \n",
    "\n",
    "Para verlo vamos a definir dos formas de componer dos vectores de $\\ket{u},\\ket{v} \\in \\Hil$: el producto interno, y el producto externos."
   ]
  },
  {
   "cell_type": "markdown",
   "id": "81075398",
   "metadata": {
    "slideshow": {
     "slide_type": "skip"
    }
   },
   "source": [
    "- El **producto interno**, o *producto escalar* es un *número complejo*\n",
    "\n",
    "$$\n",
    " a = \\braket{u}{v} = \\braket{v}{u}^* \n",
    "$$\n",
    "\n",
    "- El **producto externo**  es un *operador*\n",
    "\n",
    "$$\n",
    "A = \\ketbra{v}{u}\n",
    "$$"
   ]
  },
  {
   "cell_type": "markdown",
   "id": "f2e60ae4",
   "metadata": {
    "slideshow": {
     "slide_type": "skip"
    }
   },
   "source": [
    "Para comprender <u>por qué el producto externo es un operador</u>, observamos que dicha expresión aplicada a un vector $\\ket{w}$ da otro, <br>\n",
    "\n",
    "$$\n",
    "A : \\ket{w} ~\\to ~ A\\ket{w} =  \\ket{v}\\braket{u}{w}=\\ket{v} b  = b \\ket{v} \n",
    "$$"
   ]
  },
  {
   "cell_type": "markdown",
   "id": "9dd5a924",
   "metadata": {
    "slideshow": {
     "slide_type": "skip"
    }
   },
   "source": [
    ":::{admonition} Nota\n",
    ":class: note\n",
    "\n",
    "- El *orden* en que escribimos las cosas es *muy* relevante.\n",
    "    - $\\braket{u}{v}$ y $\\ket{v}\\!\\bra{u}$ son objetos <i> radicalmente distintos</i>: el primero es un número y el segundo es un operador. \n",
    "\n",
    "    - En cambio $\\ket{v} b  = b \\ket{v}$, así como $\\bra{u}b = b\\bra{u}$, es decir,  los números complejos  pueden escribirse en cualquier posición (decimos que <i>conmutan con todo</i>).\n",
    "\n",
    "- La acción del operador  $A = \\ket{v}\\bra{u}$ es muy fácil de *expresar con palabras*: \n",
    "<br>  \n",
    "    - el operador $A$ toma <i>cualquier vector</i> $\\ket{w}$ y lo convierte en un vector <i>paralelo</i> a $\\ket{v}$ proporcionalmente a su proyección $b=\\braket{u}{w}$. \n",
    "<br>    \n",
    "    - si la proyección es nula $a=0$, el operador <i>aniquila</i>, es decir, da el elemento neutro.\n",
    ":::"
   ]
  },
  {
   "cell_type": "markdown",
   "id": "dbe0b2a6",
   "metadata": {
    "slideshow": {
     "slide_type": "skip"
    }
   },
   "source": [
    "**En componentes**\n",
    "\n",
    "La diferencia entre el *producto interno* $a=\\braket{u}{v}$ y el *externo* $A=\\ketbra{u}{v}$ tiene su reflejo en una base expresando ambos vectores, $\\ket{u} = \\sum_i u_i\\ket{i}$ y $\\ket{v} = \\sum_j v_j \\ket{j}$,  en componentes en una base ortonormal\n",
    "\n",
    "-  el *número complejo* $a$  es el *producto escalar*\n",
    "  \n",
    "$$\n",
    " a = \\braket{u}{v}  = \\begin{pmatrix} u_1^*,...,u_N^*\\end{pmatrix}\n",
    "\\begin{pmatrix} v_1 \\\\ \\vdots \\\\ v_N\\end{pmatrix}\\, =  \\sum_i u_i^*v_i\n",
    "$$"
   ]
  },
  {
   "cell_type": "markdown",
   "id": "ab9f0a47",
   "metadata": {
    "slideshow": {
     "slide_type": "skip"
    }
   },
   "source": [
    "-  la matriz $A_{ij}$    *representa* el operador $A$ en la base $\\{\\ket{i}\\}$\n",
    "\n",
    "$$\n",
    "A = \\ketbra{v}{u} ~\\sim ~\\begin{pmatrix} v_1 \\\\ \\vdots \\\\ v_N\\end{pmatrix}\n",
    "\\begin{pmatrix} u_1^*,...,u_N^*\\end{pmatrix} ~=~ \n",
    "\\begin{pmatrix} v_1 u_1^* & v_1u_2^* & ... & v_1 u_N^* \\\\\n",
    "v_2 u_1^* & v_2 u_1^*& ... & v_2 u_N^* \\\\ \\vdots & \\vdots  & \\ddots & \\vdots \\\\\n",
    "v_N u_1^* & & ... & v_N u_N^* \\end{pmatrix} ~ = ~A_{ij}\n",
    "$$"
   ]
  },
  {
   "cell_type": "markdown",
   "id": "53227b4a",
   "metadata": {
    "slideshow": {
     "slide_type": "skip"
    }
   },
   "source": [
    "### Base canónica de operadores\n",
    "<a id='base_canonica'></a>\n",
    "\n",
    "Consideremos el *producto externo* de dos elementos de la base ortonormal\n",
    "$\\ketbra{i}{j}$\n",
    "\n",
    "- La acción de $\\ketbra{i}{j}$ sobre otro vector, $\\ket{k}$,  de la base es sencilla \n",
    "\n",
    "$$\n",
    " \\ket{i}\\braket{j}{k} = \\ket{i} \\delta_{jk} = \\left\\{ \\begin{array}{rl}\n",
    "0 & {\\rm si} ~~k\\neq j \\\\ \\ket{i} & {\\rm si} ~~ k=j \\end{array} \\right.\n",
    "$$"
   ]
  },
  {
   "cell_type": "markdown",
   "id": "b982f384",
   "metadata": {
    "slideshow": {
     "slide_type": "skip"
    }
   },
   "source": [
    "- La matriz asociada al operador  tiene sólo un 1 en el elemento $(ij)$ y cero en todos los demás. Por ejemplo, supongamos que \n",
    "$N=4$ \n",
    "\n",
    "<br>\n",
    "\n",
    "$$\n",
    "\\ketbra{2}{3} ~\\to ~~\n",
    " \\begin{pmatrix} 0 \\\\ 1 \\\\ 0 \\\\ 0 \\end{pmatrix}\\begin{pmatrix} 0 & 0 & 1 & 0 \\end{pmatrix} = \n",
    "\\begin{pmatrix}\n",
    "0 &  0 & 0 &  0 \\\\  0 &  0 & 1&  0 \\\\ 0 &  0 & 0 &  0 \\\\ 0 &  0 & 0 &  0\n",
    "\\end{pmatrix} ~~\\Rightarrow ~~ A_{ij} = \\delta_{i2}\\delta_{j3}\n",
    "$$\n",
    "\n",
    "<br>"
   ]
  },
  {
   "cell_type": "markdown",
   "id": "d1d7e05c",
   "metadata": {
    "slideshow": {
     "slide_type": "slide"
    }
   },
   "source": [
    "Los <i>elementos de matriz</i> $A_{ij}$ expresan las <i>componentes de un operador</i> en la <b>base de operadores</b> $\\ketbra{i}{j}$"
   ]
  },
  {
   "cell_type": "markdown",
   "id": "dd60d682",
   "metadata": {
    "slideshow": {
     "slide_type": "-"
    }
   },
   "source": [
    "$$\n",
    "A ~=~ \\sum_{i,j=1}^N A_{ij} \\ketbra{i}{j} \n",
    "$$"
   ]
  },
  {
   "cell_type": "markdown",
   "id": "03c5b142",
   "metadata": {},
   "source": [
    ":::{dropdown} Consistencia\n",
    "Verifiquemos que actúa de la forma correcta\n",
    "\n",
    "$$\n",
    "\\begin{array}{rcl}\n",
    "A |u\\rangle &=&  \\sum_{i,j} A_{ij} \\ketbra{i}{j}  \\left(\\sum_k u_k |k\\rangle \\right) \\\\\n",
    "&\\stackrel{\\rm linealidad}{=} \\rule{0mm}{6mm}& \\sum_{i,j} \\sum_k A_{ij} | i\\rangle  \\,   u_k \\langle j| k\\rangle \\nonumber\\\\\n",
    "&\\stackrel{\\rm ortonormalidad}{=}\\rule{0mm}{6mm}& \\sum_{i,j,k} A_{ij} | i\\rangle  \\,   u_k \\delta_{jk}\\\\\n",
    "&=\\rule{0mm}{6mm}&\\sum_{ij} A_{ij}\\,|i\\rangle \\, u_j= \\sum_i \\left(\\sum_{j} A_{ij}\\, u_j\\right)  |i\\rangle    \\\\\n",
    "&=\\rule{0mm}{6mm}&\\sum_i v_i \\ket{i} \\nonumber\\\\\n",
    "&=\\rule{0mm}{6mm}&   | v\\rangle\n",
    "\\end{array}\n",
    "$$\n",
    ":::"
   ]
  },
  {
   "cell_type": "markdown",
   "id": "bf6b5d67",
   "metadata": {
    "slideshow": {
     "slide_type": "slide"
    }
   },
   "source": [
    "### Elementos de matriz\n",
    "\n",
    "De la misma manera que obteníamos las componentes de un vector proyectando sobre un elemento de la base\n",
    "\n",
    "$$\n",
    "v_i = \\braket{i}{v}\n",
    "$$\n",
    "\n",
    "ahora podemos obtener los *elementos de matriz* de un operador $A$ en la forma\n",
    "\n",
    "$$  A_{ij} = \\bra{i} A \\ket{j} $$"
   ]
  },
  {
   "cell_type": "markdown",
   "id": "56709e48",
   "metadata": {
    "slideshow": {
     "slide_type": "fragment"
    }
   },
   "source": [
    ":::{admonition} Ejercicio\n",
    ":class: tip\n",
    "\n",
    "Comprueba la consistencia de las expresiones $~A = \\sum_{i,j=1}^N A_{ij} \\ketbra{i}{j} $ y $~A_{ij} = \\bra{i} A \\ket{j}$\n",
    "<details>\n",
    "    <summary><p style=\"text-align:left\"> >> <i>Solución:</i> </p></summary>\n",
    "\n",
    "aquí tu solución\n",
    ":::"
   ]
  },
  {
   "cell_type": "markdown",
   "id": "2a0e00e2",
   "metadata": {
    "slideshow": {
     "slide_type": "skip"
    }
   },
   "source": [
    ":::{admonition} En resumen\n",
    ":class: attention\n",
    "\n",
    "En una base $\\{\\ket{i}\\}$ podemos siempre relacionar una matriz con un operador. La relación concreta es de matriz a  operador: $A_{ij} \\to ~ A = \\sum_{ij} A_{ij}\\ketbra{i}{j}$ de operador a  matriz: $A \\to ~ A_{ij} = \\bra{i}A\\ket{j}$\n",
    ":::"
   ]
  },
  {
   "cell_type": "markdown",
   "id": "b7cd9873",
   "metadata": {
    "slideshow": {
     "slide_type": "skip"
    }
   },
   "source": [
    "### Cambio de base \n",
    "\n",
    "Dos bases ortonormales $\\ket{e_i}$ y $\\ket{\\tilde e_i}$ se relacionadas linealmente mediante una matriz\n",
    "\n",
    "$$ \\ket{e_j} \\to \\ket{\\tilde e_j} = \\sum_{ij}U_{ij} \\ket{e_i}$$\n",
    "\n",
    "\n",
    "Tomar la conjugación *adjunta* de esta expresión es muy sencillo usando las reglas\n",
    "\n",
    "$$ \\bra{e_j} \\to \\bra{\\tilde e_j} = \\sum_{ij}U^*_{ij} \\bra{e_i}$$"
   ]
  },
  {
   "cell_type": "markdown",
   "id": "964cd69d",
   "metadata": {
    "slideshow": {
     "slide_type": "skip"
    }
   },
   "source": [
    "En cada base, un operador $A$ *se representa* mediante elementos de matriz distintos\n",
    "\n",
    "$$\n",
    " A_{ij} = \\bra{e_i} A \\ket{e_j} ~~~~,~~~~~ \\tilde A_{ij} = \\bra{\\tilde e_i} A \\ket{\\tilde e_j} \\, .\n",
    "$$"
   ]
  },
  {
   "cell_type": "markdown",
   "id": "2b664e42",
   "metadata": {
    "slideshow": {
     "slide_type": "skip"
    }
   },
   "source": [
    "Podemos encontrar la relación sustituyendo el cambio de base\n",
    "\n",
    "\\begin{eqnarray}\n",
    "\\tilde A_{ij} &=& \\bra{\\tilde e_i} A \\ket{\\tilde e_j} \\\\ \\rule{0mm}{8mm}\n",
    "&=& \\sum_{k}U^*_{ki}\\bra{e_k} ~A~ \\sum_l U_{lj}\\ket{e_l} \\\\ \n",
    "&=&  \\sum_{k,l} U^\\dagger_{ik}\\bra{e_k} A  \\ket{e_l}U_{lj}   = \\sum_{k,l} U^\\dagger_{ik}A_{kl} U_{lj} \\, .\n",
    "\\end{eqnarray}"
   ]
  },
  {
   "cell_type": "markdown",
   "id": "eb253e3b",
   "metadata": {
    "slideshow": {
     "slide_type": "skip"
    }
   },
   "source": [
    ":::{card} \n",
    "**Lema**\n",
    "\n",
    "^^^\n",
    "\n",
    "Bajo un cambio de bases ortonormales $ \\ket{e_j} \\to \\ket{\\tilde e_j} = \\sum_{i}U_{ij} \\ket{e_i}$ las componentes de un vector $\\ket{v}$ y de  un operador $A$ cambian siguiendo la regla:\n",
    "<br>      \n",
    "\\begin{eqnarray}\n",
    "\\tilde v_i &=& (U^\\dagger \\cdot v)_i \\\\ \n",
    "\\tilde A_{ij} &=& (U^\\dagger \\cdot A \\cdot U)_{ij}\n",
    "\\end{eqnarray}\n",
    ":::"
   ]
  },
  {
   "cell_type": "markdown",
   "id": "01906355",
   "metadata": {
    "slideshow": {
     "slide_type": "skip"
    }
   },
   "source": [
    ":::{admonition} Nota\n",
    ":class: note\n",
    "\n",
    "La regla *memotécnica* es que las columnas se multiplican por $U^\\dagger\\cdot$ y las filas por $\\cdot\\, U$\n",
    "\n",
    "$$\n",
    "\\begin{pmatrix} \\tilde v_1 \\\\ \\vdots \\\\ \\tilde v_N \\end{pmatrix} = \n",
    "U^\\dagger \\cdot \\begin{pmatrix} v_1 \\\\ \\vdots \\\\  v_N \\end{pmatrix} ~~~~\n",
    "~~~~~~~;~~~~~~~~\n",
    "\\begin{pmatrix} \n",
    "\\tilde A_{11} & \\cdots & \\tilde A_{1N} \\\\\n",
    "\\tilde \\vdots & \\ddots & \\vdots  \\\\\n",
    "\\tilde A_{N1} & \\cdots & \\tilde A_{NN} \n",
    "\\end{pmatrix} \n",
    " =  U^\\dagger\\cdot\n",
    " \\overbrace{\\begin{pmatrix} \n",
    " A_{11} & \\cdots &  A_{1N} \\\\\n",
    "\\tilde \\vdots & \\ddots & \\vdots  \\\\\n",
    " A_{N1} & \\cdots &  A_{NN} \n",
    "\\end{pmatrix} }^{\\large \\cdot ~ U}\n",
    "$$\n",
    ":::"
   ]
  },
  {
   "cell_type": "markdown",
   "id": "ebdd82dc",
   "metadata": {
    "slideshow": {
     "slide_type": "skip"
    }
   },
   "source": [
    ":::{admonition} **Ejercicio** (*explícaselo a tu ordenador*)\n",
    ":class: tip\n",
    "\n",
    "Escribe una función en python, $basis\\_change$, que reciba una matriz $U_{ij}$ de cambio de base $\\ket{\\tilde e_j} = \\sum_i{U_{ij}}\\ket{e_i}$, la componentes $v_i$ de un vector, ó $A_{ij}$ de un operador, y devuelva las componentes $\\tilde v_i~$ ó $~\\tilde A_{ij}$ en la nueva base. \n",
    ":::"
   ]
  },
  {
   "cell_type": "markdown",
   "id": "1517f373",
   "metadata": {},
   "source": [
    ":::{admonition} **Ejercicio** \n",
    ":class: tip\n",
    "La matriz $\\begin{pmatrix} 0 & -i \\\\ i & 0\\end{pmatrix}$ representa un operador $\\sigma_y$ en la base $\\{ \\ket{0},\\ket{1}\\}$. Utilizando la función *basis\\_change*, escribe $\\sigma_y$ en la nueva base $\\{\\ket{\\!+\\!i}= \\frac{1}{\\sqrt{2}}(\\ket{0}+i \\ket{1})~,~\\ket{\\!-\\!i}= \\frac{1}{\\sqrt{2}}(\\ket{0}-i \\ket{1})\\}$\n",
    ":::"
   ]
  },
  {
   "cell_type": "markdown",
   "id": "6314c603",
   "metadata": {
    "slideshow": {
     "slide_type": "skip"
    }
   },
   "source": [
    "### Relación de completitud    \n",
    "    \n",
    "La acción del operador identidad es \n",
    "\n",
    "$$\n",
    "I\\ket{v} = \\ket{v}\n",
    "$$\n",
    "\n",
    "En particular sobre todo elemento de la base $I\\ket{i} = \\ket{i}$. En otras palabras,\n",
    "el operador identidad $I$ tiene por matriz $I_{ij}=\\delta_{ij}={\\rm diagonal}\\, (1,1,...,1)$ con lo que\n",
    "<br>\n",
    "\n",
    "$$\n",
    "I = \\sum_{i}  \\ketbra{i}{i}= \\sum_{ij} \\delta_{ij}\\ketbra{i}{j} \n",
    "$$\n",
    "\n",
    "Esta expresión se conoce también como <b>relación de completitud</b> o, también, <b>relación de cierre</b> y se utiliza muy frecuentemente."
   ]
  },
  {
   "cell_type": "markdown",
   "id": "6f05b62e",
   "metadata": {
    "slideshow": {
     "slide_type": "skip"
    }
   },
   "source": [
    "La relación de completitud es una propiedad de <b> cualquier base</b>. Dicho de otro modo, si $\\{\\ket{e_i}\\}$ y $\\{\\ket{\\tilde e_i}\\}$ son, ambas, bases entonces $I\\ket{e_i} = \\ket{e_ i}$ y $I\\ket{\\tilde e_j} = \\ket{\\tilde e_j}$.\n",
    "Esto quiere decir que, en cualquier base, la matriz que representa la identidad es la matriz diagonal $\\delta_{ij}$\n",
    "<br>\n",
    "\n",
    "$$\n",
    "I =  \\sum_{i}  \\ketbra{e_i}{e_i} =  \\sum_{j}  \\ketbra{\\tilde e_j}{ \\tilde e_j}\\, .\n",
    "$$"
   ]
  },
  {
   "cell_type": "markdown",
   "id": "9517d900",
   "metadata": {
    "slideshow": {
     "slide_type": "skip"
    }
   },
   "source": [
    "La relación de cierre, o completitud,  siempre **se puede insertar** en cualquier momento del cálculo. Se utiliza con frecuencia para efectuar cambios de base."
   ]
  },
  {
   "cell_type": "markdown",
   "id": "942dc0ad",
   "metadata": {
    "slideshow": {
     "slide_type": "skip"
    }
   },
   "source": [
    "Por ejemplo, \n",
    "\n",
    "\\begin{eqnarray}\n",
    "\\ket{\\tilde e_j} ~&=&~ \\left(\\sum_i \\ketbra{e_i}{e_i}\\right) \\ket{\\tilde e_j} \\nonumber\\\\\n",
    "&=&\\sum_i \\braket{e_i}{\\tilde e_j} \\ket{e_i} \\nonumber\\\\\n",
    "&=&\\sum_i U_{ij}\\ket{e_i}\n",
    "\\end{eqnarray}\n",
    "\n",
    "Donde la matriz de cambio de base es\n",
    "$$\n",
    "U_{ij} = \\braket{e_i}{\\tilde e_j}\n",
    "$$"
   ]
  },
  {
   "cell_type": "markdown",
   "id": "16fe19a6",
   "metadata": {
    "slideshow": {
     "slide_type": "skip"
    }
   },
   "source": [
    "### Operador Adjunto\n",
    "<a id='opadj'></a>\n",
    "\n",
    "    \n",
    "La *conjugación adjunta* definida sobre $\\Hil$ puede extenderse a $\\Lin(\\Hil)$\n",
    "<br><br>\n",
    "\n",
    "$$\n",
    "\\dagger ~\\to ~\n",
    "\\left\\{\n",
    "\\begin{matrix}\n",
    "z & \\leftrightarrow  &  z^* \\\\\n",
    "|u\\rangle & \\leftrightarrow &   \\langle u | \\\\\n",
    "A & \\leftrightarrow & A^{\\dagger}\n",
    "\\end{matrix}\n",
    "\\right. \\hspace{5cm}\n",
    "$$\n",
    "<br>"
   ]
  },
  {
   "cell_type": "markdown",
   "id": "2d4f9fc5",
   "metadata": {
    "slideshow": {
     "slide_type": "skip"
    }
   },
   "source": [
    "y hay <b>dos reglas más</b> que permiten aplicar $\\dagger$ a sumas y productos de <i> objetos </i> $a \\in\\{z,\\ket{u},A\\}$\n",
    "<br>\n",
    "\n",
    "- *linealidad* $( a + b)^\\dagger = a^\\dagger + b^\\dagger $\n",
    "<br>\n",
    "\n",
    "- *trasposición* $(ab)^\\dagger = b^\\dagger a^\\dagger$ (sólo relevante cuando $a$ y $b$ no sean C-números que conmutan)\n",
    "<br>"
   ]
  },
  {
   "cell_type": "markdown",
   "id": "1b98cb79",
   "metadata": {
    "slideshow": {
     "slide_type": "skip"
    }
   },
   "source": [
    ":::{admonition} **Ejemplos**\n",
    ":class: tip\n",
    "\n",
    "\n",
    "1. $\\ket{v} = A\\ket{u} ~~~~\\Leftrightarrow ~~~~\\bra{v} = \\bra{u}A^\\dagger\n",
    "~~$ donde el operador en la derecha actúa sobre el *bra* a su izquierda.\n",
    "Notar que, como $\\ket{v}^\\dagger=\\ket{Au}^\\dagger = \\bra{Au}$ la ecuación anterior implica\n",
    "\n",
    "$$\n",
    "\\bra{Au} = \\bra{u} A^\\dagger\n",
    "$$\n",
    "\n",
    "2. $\\bra{w}A\\ket{u}^* = \\big(\\bra{w}A\\ket{u}\\big)^\\dagger = \\bra{u}A^\\dagger\\ket{w}$\n",
    ":::"
   ]
  },
  {
   "cell_type": "markdown",
   "id": "95ee1b74",
   "metadata": {
    "slideshow": {
     "slide_type": "skip"
    }
   },
   "source": [
    "### Matriz adjunta\n",
    "\n",
    "Estas reglas nos permiten obtener el adjunto de un operador\n",
    "\n",
    "\n",
    "<br>\n",
    "\n",
    "\n",
    "$$\n",
    "A^\\dagger = \\sum_{ij}\\left( A_{ij}\\ketbra{i}{j}\\right)^\\dagger = \\sum_{ij} \\, \\ketbra{j}{i}A_{ij}^* =  \\sum_{ji} \\, A_{ji}^*\\ketbra{i}{j}\n",
    "$$\n",
    "\n",
    "donde en la última ecuación hemos hecho un simple intercambio de etiquetas $i\\leftrightarrow j$\n",
    "<br>\n",
    "<br>"
   ]
  },
  {
   "cell_type": "markdown",
   "id": "360de03b",
   "metadata": {
    "slideshow": {
     "slide_type": "skip"
    }
   },
   "source": [
    "Vemos que la matriz que representa $A^\\dagger$ es la *matriz adjunta* de $A_{ij}$, es decir, la traspuesta y conjugada\n",
    "<br>\n",
    "\n",
    "\n",
    "$$\n",
    "(A^\\dagger)_{ij} = A^*_{ji} = (A^{*}_{ij})^t \\equiv (A_{ij})^\\dagger\n",
    "$$\n",
    "\n",
    "donde $^\\dagger$ significa el adjunto de un operador a la izquierda, y de una matriz a la derecha."
   ]
  },
  {
   "cell_type": "code",
   "execution_count": null,
   "id": "30d3ce67",
   "metadata": {},
   "outputs": [],
   "source": [
    "A = np.array([[1,1+2j],[2+3j,3-1j]])\n",
    "display(array_to_latex(A))\n",
    "\n",
    "Aadj = A.T.conj()\n",
    "display(array_to_latex(Aadj))"
   ]
  },
  {
   "cell_type": "markdown",
   "id": "1de11fb2",
   "metadata": {
    "slideshow": {
     "slide_type": "skip"
    }
   },
   "source": [
    "Si $\\Hil$ tiene dimensión $N$, un *operador general* $A\\in \\Lin(\\Hil)$ se especifica mediante una matriz de $N^2$ números complejos $\\Rightarrow A = A_{ij}\\ket{e_i}\\bra{e_j}$. \n",
    "\n",
    "$N^2$ números complejos equivalen a $2N^2$ números reales."
   ]
  },
  {
   "cell_type": "markdown",
   "id": "412de108",
   "metadata": {
    "slideshow": {
     "slide_type": "skip"
    }
   },
   "source": [
    "En otras palabras: $A$  tiene $N^2$ grados de libertad complejos y, por tanto, ésta es la dimension del espacio ${\\rm L}(\\Hil)$ es  \n",
    "<br>\n",
    "\n",
    "$$ {\\rm dim}_{\\bf C}(\\Lin(\\Hil)) = N^2 ~~~ \\Longleftrightarrow ~~~ {\\rm dim}_{\\bf R}(\\Lin(\\Hil)) =  2N^2\n",
    "$$\n",
    "<br>"
   ]
  },
  {
   "cell_type": "markdown",
   "id": "cd849dea",
   "metadata": {},
   "source": [
    "## Clases de Operadores\n",
    "<a id='classop'></a>"
   ]
  },
  {
   "cell_type": "code",
   "execution_count": null,
   "id": "8d250251",
   "metadata": {
    "slideshow": {
     "slide_type": "-"
    }
   },
   "outputs": [],
   "source": [
    "import sys\n",
    "sys.path.append('../')\n",
    "import macro_tQ as tQ\n",
    "\n",
    "import numpy as np\n",
    "import scipy.linalg as la\n",
    "from IPython.display import display,Markdown,Latex\n",
    "import matplotlib.pyplot as plt\n",
    "from qiskit.tools.visualization import array_to_latex"
   ]
  },
  {
   "cell_type": "markdown",
   "id": "127511b8",
   "metadata": {
    "slideshow": {
     "slide_type": "-"
    }
   },
   "source": [
    "Vamos a considerar **clases de operadores** que satisfagan algún tipo de *condición* o *restricción*"
   ]
  },
  {
   "cell_type": "markdown",
   "id": "39784f35",
   "metadata": {
    "slideshow": {
     "slide_type": "slide"
    }
   },
   "source": [
    "### Operador Unitario"
   ]
  },
  {
   "cell_type": "markdown",
   "id": "7e50ca71",
   "metadata": {},
   "source": [
    ":::{card} \n",
    "**Definción**: *operador unitario*\n",
    "\n",
    "^^^\n",
    "\n",
    "Un <i>operador unitario</i> $U$ es tal que su <i>adjunto</i> es igual a su <i>inverso</i>\n",
    "\n",
    "\n",
    "$$\n",
    "U^\\dagger = U^{-1}  \\, \n",
    "$$\n",
    ":::"
   ]
  },
  {
   "cell_type": "markdown",
   "id": "ae16d7fc",
   "metadata": {
    "slideshow": {
     "slide_type": "fragment"
    }
   },
   "source": [
    "Naturalmente, esta ecuación se traduce en la misma ecuación para las matrices asociadas en *cualquier base*\n",
    "<br>\n",
    "<br>\n",
    "$$\n",
    "(U_{ij})^\\dagger = U_{ji}^* = U^{-1}_{ij}\n",
    "$$\n",
    "<br>\n",
    "Veamos ahora por qué hemos definido esta clase de operadores."
   ]
  },
  {
   "cell_type": "markdown",
   "id": "ac8a157d",
   "metadata": {
    "slideshow": {
     "slide_type": "slide"
    }
   },
   "source": [
    "::::{card} \n",
    "\n",
    "**Teorema**\n",
    "\n",
    "^^^\n",
    "\n",
    "La acción de un operador unitario <i>preserva </i> el producto escalar de dos vectores cualesquiera. \n",
    "\n",
    ":::{dropdown} Demostración\n",
    "\n",
    "Sea $U$ un operador unitario, y $\\ket{\\varphi'}=U\\ket{\\varphi}$ y $\\ket{\\psi'} = U\\ket{\\psi}$\n",
    "dos vectores transformados por $U$, entonces\n",
    "\n",
    "$$\n",
    "\\braket{\\varphi'}{\\psi'} = \\left(\\bra{\\varphi}U^\\dagger\\right)U\\ket{\\psi} = \\bra{\\varphi} U^\\dagger U \\ket{\\psi} = \n",
    "\\braket{\\varphi}{\\psi}\n",
    "$$\n",
    "\n",
    "particularizando para $\\ket{\\varphi} = \\ket{\\psi}$ tenemos que un operador unitario *conserva la norma*.\n",
    "\n",
    "$$\n",
    "\\|U \\ket{\\varphi}\\| = \\|\\ket{\\varphi}\\|\n",
    "$$\n",
    ":::\n",
    "\n",
    "+++ {\"slideshow\": {\"slide_type\": \"skip\"}}\n",
    "\n",
    "\n",
    "- En particular, preserva  la <i>norma</i> de cualquier vector. \n",
    "<br>\n",
    "Por tanto, conserva la <i>distancia</i> entre dos vectores $ d (\\ket{v},\\ket{w})= \\| (\\ket{v}-\\ket{w}) \\| $.<br>\n",
    "En un lenguaje más formal, se dice que un operador unitario es una *isometría* \n",
    "\n",
    "+++ {\"slideshow\": {\"slide_type\": \"fragment\"}}\n",
    "\n",
    "- La <i>combinación lineal</i> de operadores unitarios **no es** unitaria\n",
    "<br>\n",
    "<br>\n",
    "$$\n",
    " (a U+ bV)^\\dagger = a^* V^\\dagger+ b^* U^\\dagger = a^* V^{-1}+ b^* U^{-1} \\neq  (a U+ b V)^{-1}\n",
    "$$\n",
    "<br>\n",
    "Matemáticamente esto quiere decir que los operadores unitarios no forman un subespacio vectorial de $\\Lin(\\Hil)$\n",
    "\n",
    "+++ {\"slideshow\": {\"slide_type\": \"slide\"}}\n",
    "\n",
    "- La *composición* de  operadores unitarios  **sí es** unitaria\n",
    "<br>\n",
    "<br>\n",
    "$$\n",
    "(UV)^\\dagger = V^\\dagger U^\\dagger = V^{-1}U^{-1} = (UV)^{-1} \n",
    "$$\n",
    "<br>\n",
    "Matemáticamente esto quiere decir que los operadores unitarios forman un <i>grupo</i>: el <i>grupo unitario</i> $U(d)$ actúa sobre $\\Hil$ de dimensión $d$. \n",
    "    \n",
    "\n",
    "+++ {\"slideshow\": {\"slide_type\": \"skip\"}}\n",
    "\n",
    "- Aun así, forman una *variedad*: un conjunto continuo  que se puede parametrizar mediante una colección de parámetros, la *dimensión de la variedad*.\n",
    "<br>\n",
    "Como hay una relación 1 a 1 entre un operador una matriz (en una base), esa dimensión será igual a la *dimensión del conjunto de matrices unitarias* \n",
    "\n",
    "\n",
    "+++ {\"slideshow\": {\"slide_type\": \"fragment\"}}\n",
    "\n",
    ":::{admonition} **Ejercicio** *(explícaselo a tu cuaderno)*\n",
    ":class: tip\n",
    "   \n",
    "Resta de  ${\\rm dim}_{\\bf R}({\\rm L}(\\Hil)) =  2N^2$ el número de ecuaciones que restringen la matriz de un operador \n",
    "unitario y halla así la  dimensión (real) del grupo $U(N)$ de <i> operadores unitarios</i> de dimensión $N$.\n",
    ":::\n",
    "\n",
    "+++ {\"slideshow\": {\"slide_type\": \"skip\"}}\n",
    "\n",
    "**Bases ortonormales**\n",
    "\n",
    "- Como caso particular, aplicando un operador unitario $U$ a una base ortonormal $\\{\\ket{e_i}\\}$ obtenemos otra base ortonormal $\\{\\ket{\\tilde e_i}\\}$\n",
    "<br>\n",
    "\n",
    "$$\n",
    "\\left. \\begin{array}{c}\\ket{\\tilde e_i} = U\\ket{e_i}\\\\ U^{-1} =  U^\\dagger \\end{array} \\right\\}\n",
    "~~~~ \\Longleftrightarrow ~~~~\\braket{\\tilde e_i}{\\tilde e_j} = \\bra{\\tilde e_i}U^\\dagger U\\ket{\\tilde e_j} = \\braket{e_i}{e_j} = \\delta_{ij}\n",
    "$$\n",
    "\n",
    "<br>\n",
    "\n",
    "+++ {\"slideshow\": {\"slide_type\": \"skip\"}}\n",
    "\n",
    "- Inversamente, dadas dos bases ortonormales, $\\{\\ket{e_i}\\}$ y $\\{\\ket{\\tilde e_i}\\}$, el operador que las relaciona es un operador unitario\n",
    "    \n",
    "$$ \n",
    " \\begin{array}{rcl} \n",
    "U = \\sum_i \\ketbra{\\tilde e_i}{e_i} & \\Rightarrow &  U\\ket{e_j} = \\ket{\\tilde e_j} \n",
    " \\\\ \\rule{0mm}{10mm}\n",
    "U^\\dagger = \\sum_i \\ketbra{e_i}{\\tilde e_i}  & \\Rightarrow &    U^\\dagger\\ket{\\tilde e_j} = \\ket{e_j} ~~~\\Rightarrow ~~~U^\\dagger = U^{-1}\n",
    " \\end{array}\n",
    "$$\n",
    "\n",
    "+++ {\"slideshow\": {\"slide_type\": \"skip\"}}\n",
    "\n",
    "- Un  <i>operador ortogonal</i> es un caso particular de operador  unitario con *elementos de matriz reales*. El operador de rotación $R(\\theta)$ que hemos estudiado al comienzo de este tema es un operador ortogonal.\n",
    "Efectivamente, dado\n",
    "$$\n",
    "R(\\theta) = \\begin{pmatrix} \\cos\\theta & -\\sin\\theta \\\\ \\sin\\theta & \\cos\\theta \\end{pmatrix}\n",
    "$$\n",
    "es inmediato comprobar que \n",
    "\n",
    "$$ R(\\theta)^\\dagger =R(\\theta)^t = R(-\\theta) = R(\\theta)^{-1}$$\n",
    "    \n",
    "\n",
    "```{code-cell} ipython3\n",
    "---\n",
    "slideshow:\n",
    "  slide_type: skip\n",
    "---\n",
    "U=np.matrix([[1,1J],[1J, + 1]])/np.sqrt(2)\n",
    "array_to_latex(U)\n",
    "```\n",
    "\n",
    "```{code-cell} ipython3\n",
    "---\n",
    "slideshow:\n",
    "  slide_type: skip\n",
    "---\n",
    "Uadj=U.getH() # getH es un método de la clase matrix que devuelve la matriz conjugada hermítica\n",
    "array_to_latex(Uadj)\n",
    "```\n",
    "\n",
    "```{code-cell} ipython3\n",
    "---\n",
    "slideshow:\n",
    "  slide_type: skip\n",
    "---\n",
    "print('comprobamos que U es unitaria')\n",
    "\n",
    "array_to_latex(np.dot(Uadj,U))\n",
    "```\n",
    "\n",
    ":::{card}\n",
    "**Definición** *(operador normal)*\n",
    "\n",
    "^^^\n",
    "\n",
    "Un operador $N$  es <i>normal</i> si conmuta con su adjunto\n",
    "   \n",
    "$$\n",
    "NN^\\dagger = N^\\dagger N\n",
    "$$   \n",
    ":::\n",
    "\n",
    "+++\n",
    "\n",
    "Los operadores normales tienen una propiedad extremadamente importante\n",
    "\n",
    ":::{card}\n",
    "**Teorema** \n",
    "\n",
    "^^^\n",
    "\n",
    "Un operador $N\\in \\Lin(\\Hil)$ es normal sí y sólo si, existe una base $\\{\\ket{i}\\}\\in \\Hil$ en la cual la matriz $N_{ij}$ que representa dicho operador es diagonal\n",
    "\n",
    "$$\n",
    "N_{ij} = \\bra{i}N\\ket{j} =  \\lambda_i \\delta_{ij} = \\begin{pmatrix} \\lambda_1 & & & \\\\\n",
    "& \\lambda_2 & & \\\\ & & \\ddots& \\\\ & & & \\lambda_{N} \\end{pmatrix}\n",
    "$$\n",
    "\n",
    "donde los números $\\lambda_i$ son, en general, complejos.\n",
    "\n",
    ":::\n",
    "\n",
    "+++ {\"slideshow\": {\"slide_type\": \"slide\"}}\n",
    "\n",
    "### Operador Hermítico\n",
    "\n",
    ":::{card}\n",
    "\n",
    "**Definción** (operador hermítico)\n",
    "\n",
    "^^^\n",
    "\n",
    "Un operador  $H$ es <i>Hermítico</i> (o <i>autoadjunto</i>)  si  verifica la siguiente ecuación \n",
    "  \n",
    "$$\n",
    "H = H^\\dagger \n",
    "$$\n",
    ":::\n",
    "\n",
    "+++ {\"slideshow\": {\"slide_type\": \"skip\"}}\n",
    "\n",
    "\n",
    "- Evidentemente, un *operador hermítico* $~\\Rightarrow ~$ es un *operador normal*, pero a la inversa no tiene por qué ser verdad.\n",
    "\n",
    "+++ {\"slideshow\": {\"slide_type\": \"slide\"}}\n",
    "\n",
    "- La *combinación lineal* de operadores *hermíticos*  con coeficientes *reales* **es**  *hermítica*\n",
    "<br>\n",
    "<br>\n",
    "$$\n",
    "C^\\dagger = (a A + b B)^\\dagger = a^* A^\\dagger + b^* B^\\dagger = aA + b B = C\n",
    "$$\n",
    "<br>\n",
    "Matemáticamente: los operadores autoadjuntos forman un subespacio vectorial real $\\hbox{Her}(\\Hil) \\subset \\Lin(\\Hil)$.\n",
    "\n",
    "+++ {\"slideshow\": {\"slide_type\": \"fragment\"}}\n",
    "\n",
    "- La composición de operadores hermíticos, en general **no es** hermítica\n",
    "<br>\n",
    "<br>\n",
    "$$\n",
    "(A B)^\\dagger = B^\\dagger A^\\dagger = BA \\neq AB\n",
    "$$\n",
    "<br>\n",
    "Matemáticamente, esto implica que <i>no forman grupo</i> salvo que $A$ y $B$ conmuten entre sí, en cuyo caso forman un <i>grupo Abeliano</i>\n",
    "\n",
    "+++ {\"slideshow\": {\"slide_type\": \"skip\"}}\n",
    "\n",
    "- La matriz asociada a un operador hermítico también se llama hermítica, y coincide con su traspuesta y conjugada\n",
    "<br>\n",
    "\n",
    "$$\n",
    "A_{ij} = A^\\dagger_{ij} \\equiv  A^{*t}_{ij} = A^*_{ji}   \\hspace{4cm}\n",
    "$$\n",
    "\n",
    "\n",
    "+++ {\"slideshow\": {\"slide_type\": \"skip\"}}\n",
    "\n",
    ":::{admonition} Nota\n",
    ":class: note\n",
    "\n",
    "A partir de cualquier operador $C\\neq C^\\dagger $ siempre podemos construir un operador hermítico $H=H^\\dagger$ mediante la combinación lineal  \n",
    "\n",
    "$$\n",
    "H = C + C^\\dagger\n",
    "$$\n",
    "\n",
    "donde $a$ es un número real. Esto se extiende trivialmente a las matrices que los representan en cualquier base\n",
    "    \n",
    "\n",
    "$$\n",
    "H_{ij} = C_{ij} + C_{ji}^*\n",
    "$$ \n",
    ":::\n",
    "\n",
    "+++ {\"slideshow\": {\"slide_type\": \"fragment\"}}\n",
    "\n",
    ":::{card}\n",
    "\n",
    "**Ejercicio**\n",
    "\n",
    "^^^\n",
    "\n",
    "Resta de  ${\\rm dim}_{\\bf R}({\\rm L}(\\Hil)) =  2N^2$ el número de ecuaciones que restringen la matriz de un operador hermítico y halla así la dimensión (real) de la  <i>subespacio vectorial de operadores hermíticos</i>. \n",
    ":::\n",
    "\n",
    "+++ {\"slideshow\": {\"slide_type\": \"skip\"}}\n",
    "\n",
    "Si has hecho los dos últimos ejercicios  habrás encontrado la misma respuesta en ambos. Eso quiere decir que podría haber una relación entre matrices hermíticas y unitarias. Veremos que es así cuando estudiemos funciones de operadores\n",
    "\n",
    "+++ {\"slideshow\": {\"slide_type\": \"slide\"}}\n",
    "\n",
    "<a id='opproyec'></a>\n",
    "### Proyectores\n",
    "\n",
    "\n",
    "El operador $P = \\ketbra{u}{u}$ *proyecta* cualquier vector en la dirección de $\\ket{u}$\n",
    "\n",
    "$$\n",
    "P \\ket{w} = \\ket{u}\\braket{u}{w} = a \\ket{u}\n",
    "$$\n",
    "\n",
    "donde el número $a = \\braket{u}{w}$ es la *proyección* \n",
    "\n",
    "+++ {\"slideshow\": {\"slide_type\": \"skip\"}}\n",
    "\n",
    "De su forma se siguen dos propiedades que caracterizan un operador de proyección \n",
    "\n",
    "- es hermítico \n",
    "\n",
    "$$\n",
    "P^\\dagger = (\\ketbra{u}{u})^\\dagger = \\ketbra{u}{u} = P\n",
    "$$\n",
    "\n",
    "- es idempotente\n",
    "\n",
    "$$\n",
    "P^2 = \\ket{u}\\braket{u}{u}\\bra{u} = \\ketbra{u}{u} = P\n",
    "$$\n",
    "\n",
    "+++ {\"slideshow\": {\"slide_type\": \"slide\"}}\n",
    "\n",
    ":::{card}\n",
    "\n",
    "**Definition** *(operador hermítico)*\n",
    "\n",
    "^^^\n",
    "\n",
    "Un <i>proyector</i> es un operador hermítico que verifica la ecuación\n",
    "\n",
    "$$\n",
    "P^2 = P\n",
    "$$\n",
    ":::\n",
    "\n",
    "+++ {\"slideshow\": {\"slide_type\": \"skip\"}}\n",
    "\n",
    ":::{admonition} Nota\n",
    ":class: note\n",
    "\n",
    "El proyector es un operador <b>no-unitario</b>: la proyección <i>reduce</i> la norma.\n",
    "Efectivamente,supongamos que $\\ket{u}$ y $\\ket{w}$ son vectores unitarios y distintos\n",
    "\n",
    "$$\n",
    "\\| P\\ket{w}\\|^2 = \\bra{w}P^\\dagger P\\ket{w} = \\bra{w} P\\ket{w}= \\braket{w}{u}\\braket{u}{w} = |\\braket{u}{w}|^2 < \\|\\ket{u}\\|\\|\\ket{w}\\| = 1  \n",
    "$$\n",
    "\n",
    "donde hemos aplicado la <i>desigualdad de Cauchy Schwarz</i> estricta, al suponer que $\\ket{u}\\neq\\ket{w}$.\n",
    ":::\n",
    "\n",
    "+++ {\"slideshow\": {\"slide_type\": \"skip\"}}\n",
    "\n",
    "**Matriz asociada a un proyector**\n",
    "\n",
    "\n",
    "- Si $\\ket{u} = \\ket{e_1}$ el operador $P_1 = \\ket{e_1}\\bra{e_1}$ proyecta cualquier vector a lo largo de $\\ket{e_1}$. En forma matricial\n",
    "\\begin{equation}\n",
    " \\ket{e_1}\\bra{e_1} = \\begin{pmatrix} 1 & 0 & ...& 0 \\end{pmatrix} \\begin{pmatrix} 1 \\\\ 0 \\\\ \\vdots\\\\ 0 \\end{pmatrix} =\n",
    " \\begin{pmatrix} 1 & 0 &  \\cdots & 0 \\\\ 0 & 0  & \\cdots & 0 \\\\ \n",
    " \\vdots & \\vdots &\\vdots & \\vdots  \\\\\n",
    " 0  & 0 & \\cdots & 0\\end{pmatrix}\n",
    "\\end{equation}\n",
    "de modo que\n",
    "\\begin{equation}\n",
    "\\ket{e_1}\\braket{e_1}{u} ~= ~\\begin{pmatrix} 1 & 0 &  \\cdots & 0 \\\\ 0 & 0  & \\cdots & 0 \\\\ \n",
    " \\vdots & \\vdots &\\vdots & \\vdots  \\\\\n",
    "0  & 0 & \\cdots & 0\\end{pmatrix} \\begin{pmatrix} u_1 \\\\ u_2 \\\\ \\vdots \\\\ u_N \\end{pmatrix}\n",
    " = \\begin{pmatrix} u^1 \\\\ 0 \\\\ \\vdots \\\\ 0 \\end{pmatrix} = u^1 \\ket{e_1}\n",
    "\\end{equation}\n",
    "    \n",
    "\n",
    "+++ {\"slideshow\": {\"slide_type\": \"skip\"}}\n",
    "\n",
    "- Si $\\ket{u} = \\sum_i u^i\\ket{e_i}$ es un vector unitario  $\\|\\ket{u}\\|=1$, entonces el proyector a lo largo de $\\ket{u}$ viene dado por\n",
    "\n",
    "$$\n",
    "P(u) = \\ketbra{u}{u} = \\sum_{i,j} u_i u^*_j \\ketbra{e_i}{e_j}\n",
    "$$\n",
    "\n",
    "Es decir, le está asociada una matriz dada por $P_{ij}=u_iu^*_j$. Es trivial verificar que \n",
    "\n",
    "$$\n",
    "P^2_{ik} = \\sum_j P_{ij}P_{jk} = \\sum_j u_i u^*_j u_j u^*_k = u_i\\left(\\sum_j u^*_j u_j\\right) u_k = u_i u_k^* = P_{ik}\n",
    "$$\n",
    "\n",
    "como corresponde a un proyector.\n",
    "    \n",
    "\n",
    "+++ {\"slideshow\": {\"slide_type\": \"slide\"}}\n",
    "\n",
    "**Proyector ortogonal**\n",
    "\n",
    "+++ {\"slideshow\": {\"slide_type\": \"-\"}}\n",
    "\n",
    "\n",
    "Sea $P = \\ket{u}\\bra{u}$ un proyector a lo largo de un vector $\\ket{u}.~$\n",
    "Entonces el operador $\\Rightarrow  P_\\perp = I - P$ verifica que\n",
    "\n",
    "- es proyector \n",
    "\n",
    "$$~~ P_\\perp^2 = P_\\perp $$\n",
    "\n",
    "- es perpendicular a $P$ \n",
    "\n",
    "\\begin{eqnarray}\n",
    "P_\\perp P &=& (I - P) P = P - P^2 = P - P =  0 \n",
    "\\end{eqnarray} \n",
    " \n",
    "<br>\n",
    "\n",
    "\n",
    "+++ {\"slideshow\": {\"slide_type\": \"slide\"}}\n",
    "\n",
    "**En resumen:** \n",
    "\n",
    "- dado un vector $\\ket{u}$, podemos descomponer cualquier  otro vector $\\ket{\\psi}$ en sus proyecciones paralela y perpendicular\n",
    "<br>\n",
    "$$\n",
    "\\ket{\\psi} = ( P + P_\\perp) \\ket{\\psi} = a \\ket{u} + b \\ket{u_\\perp} \n",
    "$$\n",
    "<br>\n",
    "donde $a = \\braket{u}{\\psi}$ y  $b = \\braket{u_\\perp}{\\psi}$\n",
    "<br>\n",
    "<br>\n",
    "\n",
    "- $\\ket{u_\\perp}$ y  $\\ket{u}$ son perpendiculares\n",
    "<br>\n",
    "\n",
    "- $\\ket{u}$, $\\ket{u_\\perp}$  y $\\ket{\\psi}$, están en un mismo plano (ver figura)\n",
    "\n",
    "```{code-cell} ipython3\n",
    "---\n",
    "slideshow:\n",
    "  slide_type: slide\n",
    "---\n",
    "d = 3\n",
    "\n",
    "' generamos un vector aleatorio'\n",
    "u = tQ.random_ket(d)\n",
    "display(array_to_latex(u))\n",
    "\n",
    "' obtenemos los proyectores paralelo y perpendicular'\n",
    "P_par = tQ.ket_bra(u,u);\n",
    "P_perp = np.identity(d) - P_par\n",
    "\n",
    "display(array_to_latex(P_par))\n",
    "display(array_to_latex(P_perp))\n",
    "```\n",
    "\n",
    "```{code-cell} ipython3\n",
    "---\n",
    "slideshow:\n",
    "  slide_type: slide\n",
    "---\n",
    "\n",
    "' check properties P^2 = P, and orthogonality '\n",
    "A = P_par@P_par - P_par\n",
    "B = P_perp@P_perp - P_perp\n",
    "C = P_par@P_perp\n",
    "\n",
    "display(array_to_latex(A))\n",
    "\n",
    "\n",
    "' obtain parallel and perpendicular components of another vector'\n",
    "psi = tQ.random_ket(d)\n",
    "\n",
    "psi_par = np.dot(P_par,psi)\n",
    "psi_perp = np.dot(P_perp,psi)\n",
    "\n",
    "\n",
    "print(np.round(tQ.braket(psi_par,psi_perp),4))\n",
    "```\n",
    "\n",
    "+++ {\"slideshow\": {\"slide_type\": \"slide\"}}\n",
    "\n",
    ":::{admonition} **Ejercicio** (*reflector*)\n",
    ":class: tip \n",
    "\n",
    "Dado un vector unitario $\\ket{u}$, escribe el operador $R_u^{\\perp}$ que <i>refleja la componente perpendicular</i> a $\\ket{u}$ de cualquier  vector $\\ket{\\psi}$ el operador $R_{u}^{\\|}$ que <i>refleja la componente paralela</i> a $\\ket{u}$ de cualquier  vector $\\ket{\\psi}$ \n",
    ":::\n",
    "\n",
    "+++ {\"slideshow\": {\"slide_type\": \"skip\"}}\n",
    "\n",
    "**Proyectores sobre un subespacio**\n",
    "\n",
    "Consideremos una base ortonormal $\\{\\ket{e_i}\\}~,i=1,...,N $  de $\\Hil$ y dividámosla en dos subconjuntos\n",
    "\n",
    "$$\n",
    "\\{\\ket{e_i}\\},~ i=1,...,N_1 ~~~~~~~,~~~~~~~~\\{\\ket{e_{j+N_1}},~j=1,...,N_2   \n",
    "$$\n",
    "\n",
    "Cualquier vector admite una descomposición ortogonal \n",
    "\n",
    "\\begin{eqnarray}\n",
    "\\ket{\\psi} &~=~& \\sum_{i=1}^N a_i \\ket{e_i}   ~= ~ \\sum_{i=1}^N a_i \\ket{e_i} + \\sum_{i=1}^{N_2} a_{i+N_1} \\ket{e_{i+N_1}} ~\\equiv ~ \\ket{\\psi_1} + \\ket{\\psi_2}\\rule{0mm}{5mm}\n",
    "\\end{eqnarray}\n",
    "\n",
    "con $\\braket{\\psi_1}{\\psi_2} = 0$. \n",
    "\n",
    "+++ {\"slideshow\": {\"slide_type\": \"skip\"}}\n",
    "\n",
    "Decimos que el espacio $\\Hil$ se descompone en la *suma directa de subespacios ortogonales*\n",
    "\n",
    "$$\n",
    "\\Hil = \\Hil_1 \\oplus \\Hil_2 \n",
    "$$\n",
    "\n",
    "de dimensiones $N_1 + N_2 = N$,\n",
    "\n",
    "+++ {\"slideshow\": {\"slide_type\": \"skip\"}}\n",
    "\n",
    "Los operadores \n",
    "\n",
    "$$\n",
    "P_1 = \\sum_{i=1}^{N_1} \\ket{e_i}\\bra{e_i} ~~~~~~~,~~~~~~~~ P_2 = \\sum_{i=1}^{N_2} \\ket{e_{i+N_1}}\\bra{e_{i+N_1}}\n",
    "= I - P_1\n",
    "$$\n",
    "\n",
    "Verifican la ecuación que define un proyector\n",
    "\n",
    "$$\n",
    "P_1^2 = P_1~~~~~,~~~~P_2^2 = P_2\n",
    "$$\n",
    "\n",
    "+++ {\"slideshow\": {\"slide_type\": \"skip\"}}\n",
    "\n",
    "Su acción extrae de un vector su componente en el subespacio asociado\n",
    "\n",
    "$$\n",
    "P_1 \\ket{\\psi} ~=~ \\sum_{i=1}^{N_1} \\ket{e_i}\\bra{e_i} \\left(\\sum_{k=1}^N a_k \\ket{u_k} \\right) ~=~\n",
    "\\sum_{i=1}^{N_1} a_i \\ket{e_i} ~=~ \\ket{\\psi_1}\\in Hil_1\n",
    "$$\n",
    "\n",
    "$$\n",
    "P_2 \\ket{\\psi} ~=~ \\sum_{i=1}^{N_2} \\ket{e_{i+N_1}}\\bra{e_{i+N_1}} \\left(\\sum_{k=1}^N a_k \\ket{u_k} \\right) ~=~\n",
    "\\sum_{i=1}^{N_1} a_{i+N_1} \\ket{e_{i+N_1}} ~=~ \\ket{\\psi_2}\\in Hil_2\n",
    "$$\n",
    "\n",
    "+++ {\"slideshow\": {\"slide_type\": \"skip\"}}\n",
    "\n",
    "Claramente verifican\n",
    "\n",
    "$$\n",
    "(P_1 + P_2)\\ket{\\psi} = \\ket{\\psi}\n",
    "$$\n",
    "\n",
    "En resumen, vemos que satisfacen \n",
    "\n",
    "$$\n",
    "P_1 P_2 = P_2 P_1  = 0 ~~~,~~~~P_1 + P_2 = I\n",
    "$$\n",
    "\n",
    "+++ {\"slideshow\": {\"slide_type\": \"skip\"}}\n",
    "\n",
    ":::{admonition} Nota\n",
    ":class: note\n",
    "\n",
    "Notar que $P_1 \\neq P_v = \\ketbra{v}{v}$ donde $\\ket{v} = \\sum_i \\ket{i}$. Este operador proyectaría cualquier vector *siempre* en la dirección de $\\ket{v}$.\n",
    ":::"
   ]
  }
 ],
 "metadata": {
  "authors": [
   {
    "affiliations": [
     "IGFAE-USC"
    ],
    "corresponding": true,
    "email": "javier.mas@usc.es",
    "name": "Javier Mas",
    "orcid": "0000-0001-7008-2126"
   },
   {
    "affiliations": [
     "UMA"
    ],
    "corresponding": true,
    "email": "david.castano@uma.es",
    "name": "David Castaño",
    "orcid": "0000-0001-7008-2126"
   }
  ],
  "github": "https://github.com/jamasole/Curso-TalentQ-Jupyterlab",
  "jupytext": {
   "text_representation": {
    "extension": ".md",
    "format_name": "myst",
    "format_version": 0.13,
    "jupytext_version": "1.15.2"
   }
  },
  "kernelspec": {
   "display_name": "Python 3 (ipykernel)",
   "language": "python",
   "name": "python3"
  },
  "license": "CC-BY-4.0",
  "math": {
   "\\C": "{\\mathbb C}",
   "\\Hil": "{\\mathcal H}",
   "\\Lin": "\\rm L",
   "\\O": "{\\mathcal O}",
   "\\R": "{\\mathbb R}",
   "\\V": "{V}",
   "\\bes": "\\begin{equation*}",
   "\\braa": "{\\langle #1|}",
   "\\braket": "{\\langle #1|#2\\rangle}",
   "\\ees": "\\end{equation*}",
   "\\i": "{i}",
   "\\ket": "{|#1\\rangle}",
   "\\ketbra": "{|#1\\rangle\\langle #2|}",
   "\\tr": "{\\rm tr}"
  },
  "source_map": [
   44,
   60,
   66,
   70,
   86,
   90,
   94,
   108,
   116,
   125,
   150,
   170,
   197,
   210,
   223,
   227,
   234,
   250,
   281,
   289,
   293,
   297,
   309,
   317,
   321,
   329,
   345,
   353,
   370,
   383,
   395,
   410,
   427,
   432,
   438,
   455,
   469,
   481,
   489,
   503,
   513,
   523,
   538,
   563,
   571,
   578,
   598,
   608,
   612,
   627,
   648,
   659,
   676,
   694,
   706,
   714,
   720,
   729,
   734,
   750,
   754,
   758,
   773,
   784
  ],
  "subject": "Curso",
  "venue": "Quantum Spain"
 },
 "nbformat": 4,
 "nbformat_minor": 5
}