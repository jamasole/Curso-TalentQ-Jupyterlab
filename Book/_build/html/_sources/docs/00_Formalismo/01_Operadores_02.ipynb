{
 "cells": [
  {
   "cell_type": "markdown",
   "id": "ae20d88d",
   "metadata": {},
   "source": [
    "$\\newcommand{\\V}{{V}}$\n",
    "$\\newcommand{\\C}{{\\mathbb C}}$\n",
    "$\\newcommand{\\R}{{\\mathbb R}}$\n",
    "$\\newcommand{\\tr}{{\\rm tr}}$\n",
    "$\\newcommand{\\ketbra}[2]{{|#1\\rangle\\langle #2|}}$\n",
    "$\\newcommand{\\braket}[2]{{\\langle #1|#2\\rangle}}$\n",
    "$\\newcommand{\\ket}[1]{{|#1\\rangle}}$\n",
    "$\\newcommand{\\braa}[1]{{\\langle #1|}}$\n",
    "$\\newcommand{\\Hil}{{\\mathcal H}}$\n",
    "$\\newcommand{\\Lin}{\\rm L}$\n",
    "$\\newcommand{\\O}{{\\mathcal O}}$\n",
    "$\\newcommand{\\ees}{\\end{equation*}}$\n",
    "$\\newcommand{\\bes}{\\begin{equation*}}$\n",
    "$\\newcommand{\\i}{{i}}$"
   ]
  },
  {
   "cell_type": "markdown",
   "id": "3e799054",
   "metadata": {},
   "source": [
    "```{figure} ../thumbnails/myThumbnail.png\n",
    ":align: center\n",
    "```"
   ]
  },
  {
   "cell_type": "markdown",
   "id": "ae9cfc78",
   "metadata": {},
   "source": [
    "# Operadores II"
   ]
  },
  {
   "cell_type": "code",
   "execution_count": null,
   "id": "f3c9e88f",
   "metadata": {
    "slideshow": {
     "slide_type": "-"
    }
   },
   "outputs": [],
   "source": [
    "import sys\n",
    "sys.path.append('../')\n",
    "import macro_tQ as tQ\n",
    "\n",
    "import numpy as np\n",
    "import scipy.linalg as la\n",
    "from IPython.display import display,Markdown,Latex\n",
    "import matplotlib.pyplot as plt\n",
    "from qiskit.tools.visualization import array_to_latex"
   ]
  },
  {
   "cell_type": "markdown",
   "id": "e72eb42d",
   "metadata": {
    "slideshow": {
     "slide_type": "skip"
    }
   },
   "source": [
    "## Autovalores y autovectores"
   ]
  },
  {
   "cell_type": "markdown",
   "id": "c9ddd303",
   "metadata": {
    "slideshow": {
     "slide_type": "slide"
    }
   },
   "source": [
    "### Valores y vectores propios"
   ]
  },
  {
   "cell_type": "markdown",
   "id": "b181e933",
   "metadata": {},
   "source": [
    ":::{card}\n",
    "\n",
    "**Definición** (*autovalores y autovectores*)\n",
    "\n",
    "^^^\n",
    "\n",
    "Existen vectores, $\\ket{\\lambda}$ para los cuales la <i>la acción de un operador</i> $A$ devuelve un vector <i>paralelo</i> al original\n",
    "\n",
    "$$\n",
    "A\\ket{\\lambda} = \\lambda \\ket{\\lambda}\\, \n",
    "$$\n",
    "    \n",
    "Decimos que $\\ket{\\lambda}$ es un vector propio (o autovector) de $A$ con valor propio (o autovalor) asociado $\\lambda\\in {\\mathbb C}$ \n",
    ":::"
   ]
  },
  {
   "cell_type": "markdown",
   "id": "e4c1ccef",
   "metadata": {
    "slideshow": {
     "slide_type": "skip"
    }
   },
   "source": [
    "Supongamos que $A$ tiene $d$ vectores propios con los que podemos formar un *base ortonormal* $\\{\\ket{\\lambda_i}\\}$\n",
    "tal que\n",
    "\n",
    "$$\n",
    "\\ket{\\lambda_j} = \\sum_i U_{ij}\\ket{e_i}, \n",
    "$$\n",
    "Claramente $U_{ij}$ es la matriz unitaria formada por las componentes de los vectores propios (apilados por columnas)\n",
    "\n",
    "::::{card}\n",
    "**Lema**\n",
    "\n",
    "^^^\n",
    "\n",
    "La matriz $U$ es la matriz que diagonaliza $A$\n",
    "\n",
    "$$\n",
    "A_{diag} = \\begin{pmatrix} \\lambda_1 & & \\\\ & \\ddots & \\\\ & & \\lambda_d \\end{pmatrix} = U^\\dagger A U\n",
    "$$\n",
    "\n",
    ":::{dropdown} Demostración\n",
    "\\begin{eqnarray}\n",
    "(A_{diag})_{ij} &\\equiv& \\bra{\\lambda_i}A\\ket{\\lambda_j} \\\\\n",
    "&=& \\big(\\sum_k\\bra{e_k}U_{ki}^*\\big)  A \\sum_l\\big( U_{lj}\\ket{e_l}) \\\\\n",
    "&=& \\sum_{k,l} U_{ki}^* \\bra{e_k} A\\ket{e_l}    U_{lj}\\\\\n",
    "&=& \\sum_{k,l} U^\\dagger_{ik} A_{kl} U_{lj} \\\\\n",
    "&=& (U^\\dagger A U)_{ij}\n",
    "\\end{eqnarray}\n",
    ":::\n",
    "::::"
   ]
  },
  {
   "cell_type": "code",
   "execution_count": null,
   "id": "5b52e513",
   "metadata": {
    "slideshow": {
     "slide_type": "skip"
    }
   },
   "outputs": [],
   "source": [
    "A = np.matrix([[1, -1], [1, 1]])\n",
    "\n",
    "' hallamos los autovalores y autovectores'\n",
    "eigvals, eigvecs = np.linalg.eig(A)\n",
    "print('valprop =',eigvals)\n",
    "#print('vecprop =',eigvecs)\n",
    "array_to_latex(eigvecs)"
   ]
  },
  {
   "cell_type": "code",
   "execution_count": null,
   "id": "386e1b86",
   "metadata": {
    "slideshow": {
     "slide_type": "skip"
    }
   },
   "outputs": [],
   "source": [
    "'verificamos que los autovectores son las columnas de v'\n",
    "\n",
    "#m=0\n",
    "m=1\n",
    "array_to_latex(np.dot(A, eigvecs[:, m]) - eigvals[m] * eigvecs[:, m],prefix=r'A|\\lambda_m \\rangle -\\lambda_m |\\lambda_m\\rangle =  ')"
   ]
  },
  {
   "cell_type": "code",
   "execution_count": null,
   "id": "38b40978",
   "metadata": {
    "slideshow": {
     "slide_type": "skip"
    }
   },
   "outputs": [],
   "source": [
    "' diagonalizamos A '\n",
    "U = np.matrix(eigvecs);\n",
    "\n",
    "array_to_latex(np.dot(U.getH(),np.dot(A,U)),prefix='A_{diag} = U^\\dagger A U = ')"
   ]
  },
  {
   "cell_type": "markdown",
   "id": "02225aab",
   "metadata": {
    "slideshow": {
     "slide_type": "skip"
    }
   },
   "source": [
    "### Autovalores degenerados: subespacios propios"
   ]
  },
  {
   "cell_type": "markdown",
   "id": "402f0383",
   "metadata": {
    "slideshow": {
     "slide_type": "skip"
    }
   },
   "source": [
    ":::{card} \n",
    "\n",
    "**Definición:**\n",
    "\n",
    "^^^\n",
    "\n",
    "Decimos que un autovalor $\\lambda$ es $d$ <i>veces degenerado</i> si existen $d$ autovectores linealmente independientes,  $\\ket{\\lambda^{a}}$ con $a=1,...,d$ asociados al **mismo** autovalor, es decir:\n",
    "\n",
    "$$\n",
    "A\\ket{\\lambda^a} = \\lambda \\ket{\\lambda^a}\n",
    "$$ \n",
    "\n",
    ":::"
   ]
  },
  {
   "cell_type": "markdown",
   "id": "897869e5",
   "metadata": {
    "slideshow": {
     "slide_type": "skip"
    }
   },
   "source": [
    "Sea $\\ket{u} = \\sum_{a=1}^{d} c_a\\ket{\\lambda^a} $ una combinación de dichos vectores propios, entonces\n",
    "\n",
    "\\begin{eqnarray}\n",
    "A \\ket{u} \n",
    "=  \\sum_{a=1}^{d} c_a A\\ket{\\lambda^a}  =  \\sum_{a=1}^{d} c_a \\lambda\\ket{\\lambda^a}  =   \\lambda \\sum_{a=1}^{d} c_a \\ket{\\lambda^a}  =\\lambda\\ket{u}\n",
    "\\end{eqnarray}\n",
    "\n",
    "Por tanto $\\ket{u}$ es también vector propio con idéntico autovalor. Matemáticamente esto quiere decir que los autovectores asociados a un autovalor $d$ veces degenerado generan un <i>subespacio vectorial propio</i> $\\Hil_\\lambda\\subset \\Hil$."
   ]
  },
  {
   "cell_type": "markdown",
   "id": "aced50c3",
   "metadata": {
    "slideshow": {
     "slide_type": "skip"
    }
   },
   "source": [
    "- El teorema de Gramm-Schmidt garantiza que podemos elegir (mediante un cambio adecuado) el conjunto $\\{\\ket{\\lambda^a}\\}\\in (\\lambda), a=1,...,d$ de forma que que sea una  <i>base ortonormal</i> \n",
    "\n",
    "$$\\braket{\\lambda^a}{\\lambda^b}=\\delta_{ab}$$"
   ]
  },
  {
   "cell_type": "markdown",
   "id": "22d440a5",
   "metadata": {
    "slideshow": {
     "slide_type": "skip"
    }
   },
   "source": [
    "- El **proyector ortogonal** sobre el subespacio propio $\\Hil_\\lambda$ será la suma de proyectores sobre cada autovector propio\n",
    "\n",
    "$$\n",
    "P = \\sum_{a=1}^{d} \\ketbra{\\lambda^a}{\\lambda^a}\n",
    "$$"
   ]
  },
  {
   "cell_type": "markdown",
   "id": "615664d4",
   "metadata": {
    "slideshow": {
     "slide_type": "skip"
    }
   },
   "source": [
    ":::{admonition} Ejemplo\n",
    ":class: tip\n",
    "\n",
    "Llamemos $R_z(\\theta)$ el operador que efectúa una rotación  en el plano  $(x,y)$ de ángulo $\\theta$. Cuando $\\theta = \\pi$ encontramos las siguiente acción sobre los tres elementos $\\{\\hat{\\bf x},\\hat{\\bf y},\\hat{\\bf z}\\}$\n",
    "de la base cartesiana\n",
    "\n",
    "\\begin{eqnarray}\n",
    "R_z(\\pi)\\hat{\\bf x} &=&-\\hat{\\bf x}  \\\\ \\rule{0mm}{6mm}\n",
    "R_z(\\pi)\\hat{\\bf y} &=& -\\hat{\\bf y}  \\\\ \\rule{0mm}{6mm}\n",
    "R_z(\\pi)\\hat{\\bf z} &=& + \\hat{\\bf z}  \n",
    "\\end{eqnarray}    \n",
    " \n",
    "Vemos que hay un autovector $\\hat{\\bf z}$ con autovalor $+1$ y dos autovectores $\\hat{\\bf x} $ y $\\hat{\\bf y} $\n",
    "con autovalor $-1$. \n",
    "\n",
    "El espacio ${\\mathbb R}^3$ se divide en dos subespacios propios de $R_z(\\pi)$, uno de dimensión 1 (a lo largo del eje $\\hat{\\bf z}$) y otro de dimensión 2 (en el plano $(\\hat{\\bf x},\\hat{\\bf y})$).\n",
    "\n",
    "Los proyectores asociados serán\n",
    "   \n",
    "$$\n",
    "P_{\\hat{\\bf z}}= \\ket{\\hat{\\bf z}}\\bra{\\hat{\\bf z}}=\\begin{bmatrix} 0 & & \\\\ & 0 & \\\\ & & 1 \\end{bmatrix}~~~,~~~\n",
    "P_{\\hat{\\bf x}\\hat{\\bf y}}= \\ket{\\hat{\\bf x}}\\bra{\\hat{\\bf x}}+\\ket{\\hat{\\bf y}}\\bra{\\hat{\\bf y}}=\\begin{bmatrix} 1 & & \\\\ & 1 & \\\\ & & 0 \\end{bmatrix}~~~,~~~\n",
    "$$\n",
    "\n",
    ":::"
   ]
  },
  {
   "cell_type": "markdown",
   "id": "23b0982a",
   "metadata": {
    "slideshow": {
     "slide_type": "skip"
    }
   },
   "source": [
    "### Espectro de Operadores Normales"
   ]
  },
  {
   "cell_type": "markdown",
   "id": "2db3af9e",
   "metadata": {
    "slideshow": {
     "slide_type": "skip"
    }
   },
   "source": [
    "Recordemos la definición de un operador normal. $N$ será un operador normal si conmuta con su adjunto\n",
    "\n",
    "$$\n",
    "NN^\\dagger = N^\\dagger N\n",
    "$$\n",
    "\n",
    "La importancia de los operadores normales radica en el siguiente lema"
   ]
  },
  {
   "cell_type": "markdown",
   "id": "c54e61a4",
   "metadata": {
    "slideshow": {
     "slide_type": "skip"
    }
   },
   "source": [
    "::::{card} \n",
    "\n",
    "**Teorema**\n",
    "\n",
    "^^^\n",
    "\n",
    "Un operador es normal si y sólo si es diagonalizable\n",
    "\n",
    "Dos autovectores de un operador normal asociados a dos autovalores <i>distintos</i>  son <i>ortogonales</i>\n",
    "\n",
    "$$\n",
    "\\lambda_i\\neq \\lambda_j~~~~\\Longleftrightarrow ~~~~ \\braket{\\lambda_i}{\\lambda_j} = 0\n",
    "$$\n",
    "\n",
    ":::{dropdown} Desmostración\n",
    "\n",
    "De la ecuación de autovalores $N\\ket{\\lambda_j} =  \\lambda_j \\ket{\\lambda_j}$, y de $NN^\\dagger = N^\\dagger N$, se sigue que\n",
    "\n",
    "$$\n",
    "\\bra{\\lambda_j}(N^\\dagger - \\lambda_j^*)(N - \\lambda_j) \\ket{\\lambda_j} = \\bra{\\lambda_j}(N - \\lambda_j)(N^\\dagger - \\lambda_j^*) \\ket{\\lambda_j}  = 0\\,\n",
    "$$\n",
    "\n",
    "de donde obtenemos $(N^\\dagger - \\lambda_j^*) \\ket{\\lambda_j} = 0 \\Rightarrow \\bra{\\lambda_j} N = \\bra{\\lambda_j}\\lambda_j$. Entonces\n",
    "\n",
    "$$\n",
    "\\bra{\\lambda_j}N\\ket{\\lambda_i} = \\lambda_j \\braket{\\lambda_j}{\\lambda_i} = \\lambda_i \\braket{\\lambda_j}{\\lambda_i} \\, ,\n",
    "$$\n",
    "\n",
    "de donde se sigue que, para $\\lambda_i \\neq \\lambda_j \\Rightarrow \\braket{\\lambda_i}{\\lambda_j} = 0$. \n",
    "\n",
    ":::\n",
    "::::"
   ]
  },
  {
   "cell_type": "markdown",
   "id": "3421c5f0",
   "metadata": {
    "slideshow": {
     "slide_type": "skip"
    }
   },
   "source": [
    "En general, cada autovalor $\\lambda_k$ será $d_k \\geq 1$ veces degenerado. \n",
    "\n",
    "En ese caso hay  $\\{\\ket{\\lambda^a_k}\\}, a=1,...,d_k$ autovectores que generan el subespacio propio, $\\Hil_{\\lambda_k}\\subset \\Hil $, de dimensión $d_k$. \n",
    "\n",
    "Subespacios $\\Hil_{\\lambda_k}\\perp \\Hil_{\\lambda_j}$ son ortogonales para $k\\neq j$ según el teorema. \n",
    "<br>"
   ]
  },
  {
   "cell_type": "markdown",
   "id": "66f592ca",
   "metadata": {
    "slideshow": {
     "slide_type": "skip"
    }
   },
   "source": [
    ":::{admonition} Resumen\n",
    ":class: attention\n",
    "\n",
    "Siempre podemos encontrar una base  ortonormal de $\\Hil$, formada por autovectores de un operador normal $N$\n",
    "\n",
    "$$\n",
    "I = \\sum_k\\sum_{a=1}^{d_k} \\ket{\\lambda^a_k}\\bra{\\lambda^a_k} ~~~~~~~~~~~;~~~~~~~~~ \\braket{\\lambda^a_j}{\\lambda^b_k} = \\delta_{ab}\\delta_{jk}\n",
    "$$\n",
    "\n",
    "El proyector sobre el subespacio propio $\\Hil_{\\lambda_k}$ será\n",
    "\n",
    "$$\n",
    "P_k = \\sum_{a=1}^{d_k} \\ketbra{\\lambda^a_k}{\\lambda^a_k}\n",
    "$$\n",
    ":::"
   ]
  },
  {
   "cell_type": "markdown",
   "id": "50887213",
   "metadata": {
    "slideshow": {
     "slide_type": "slide"
    }
   },
   "source": [
    "### Descomposición  espectral"
   ]
  },
  {
   "cell_type": "markdown",
   "id": "45a2a287",
   "metadata": {
    "slideshow": {
     "slide_type": "-"
    }
   },
   "source": [
    ":::{card}\n",
    "\n",
    "**Teorema Espectral**\n",
    "\n",
    "^^^\n",
    "    \n",
    "Para todo operador normal $N$, existe una base de  autovectores ortonormales,  $\\{\\ket{\\lambda^a_k}\\}$,  tales que \n",
    "$A$ admite la siguiente <b> descomposición espectral </b>\n",
    "\n",
    "$$\n",
    "N = \\sum_{k=1}^d \\lambda_k   P_k\n",
    "$$\n",
    "     \n",
    "donde $d=  {\\rm dim}(\\Hil)$ y $P_k = \\sum_{a=1}^{g_k} \\ketbra{\\lambda^a_k}{\\lambda^a_k}$ es el proyector sobre el subespacio propio $\\Hil_{\\lambda_k}$ si $\\lambda_k$ es $g_k$ veces degenerado.\n",
    "\n",
    ":::"
   ]
  },
  {
   "cell_type": "code",
   "execution_count": null,
   "id": "062ada7b",
   "metadata": {
    "slideshow": {
     "slide_type": "slide"
    }
   },
   "outputs": [],
   "source": [
    "A = np.array([[1, 1], [-1, 1]])\n",
    "array_to_latex(A)"
   ]
  },
  {
   "cell_type": "code",
   "execution_count": null,
   "id": "93227374",
   "metadata": {
    "slideshow": {
     "slide_type": "fragment"
    }
   },
   "outputs": [],
   "source": [
    "' Realizamos la descomposición espectral'\n",
    "eigvals, eigvecs = np.linalg.eig(A)\n",
    "\n",
    "eigvec0 = eigvecs[:,0]\n",
    "P0 = tQ.ket_bra(eigvec0,eigvec0)\n",
    "display(array_to_latex(P0,prefix='P_0='))\n",
    "\n",
    "eigvec1 = eigvecs[:,1]\n",
    "P1 = tQ.ket_bra(eigvec1,eigvec1)\n",
    "display(array_to_latex(P1,prefix='P_1='))\n",
    "\n",
    "'verificamos completitud'\n",
    "array_to_latex(P0+P1,prefix='P_0 + P_1=')"
   ]
  },
  {
   "cell_type": "code",
   "execution_count": null,
   "id": "23bd9c3e",
   "metadata": {
    "slideshow": {
     "slide_type": "skip"
    }
   },
   "outputs": [],
   "source": [
    "' verificamos el teorema de descomposición espectral '\n",
    "A_descomp_espect = eigvals[0]*P0+eigvals[1]*P1\n",
    "\n",
    "array_to_latex(A_descomp_espect)"
   ]
  },
  {
   "cell_type": "markdown",
   "id": "e92d2214",
   "metadata": {
    "slideshow": {
     "slide_type": "slide"
    }
   },
   "source": [
    "La matriz $A_{ij}$ que expresa $A$ en la base $\\ket{\\lambda_i}$ es diagonal \n",
    "\n",
    "$$\n",
    "A_{ij} = \\bra{\\lambda^a_i} A\\ket{\\lambda^b_j} =  \\lambda_k \\delta_{kj} \\delta_{ab} =\\begin{bmatrix} \\lambda_1 &  &  &  &  \\\\ & \\ddots & & & \\\\ & & \\lambda_2 & &  \\\\&  & & \\ddots & \\\\  & & & &  \\lambda_N \\end{bmatrix}\n",
    "$$\n",
    "\n",
    "donde $\\lambda_k$ aparecerá $d_k$ veces repetido."
   ]
  },
  {
   "cell_type": "markdown",
   "id": "c57939c9",
   "metadata": {
    "slideshow": {
     "slide_type": "skip"
    }
   },
   "source": [
    ":::{admonition} Nota\n",
    ":class: note\n",
    "\n",
    "El operador identidad tiene a cualquier vector por autovector $ I\\ket{v} = \\ket{v}$, con autovalores $\\lambda_ i = 1$. Por tanto, en <b>cualquier base</b>, la matriz asociada a $I$ tiene la forma diagonal\n",
    "\n",
    "$$\n",
    "I_{ij} = \\delta_{ij} = \\begin{pmatrix} 1 &  &  &  \\\\ & 1 & &  \\\\ & & \\ddots & \\\\ & & &  1 \\end{pmatrix}\n",
    "$$\n",
    "\n",
    "\n",
    "- La descomposición espectral de $I$ no es otra que la <b>relación de completitud</b>, que es cierta *para cualquier base*, ya que todas las bases son bases de autoestados de $I$\n",
    "\n",
    "$$\n",
    "I ~=~ \\sum_{i=1}^N \\ketbra{\\lambda_i}{\\lambda_i} ~=~ \\sum_{i=1}^N \\ketbra{e_i}{e_i}\n",
    "$$\n",
    "\n",
    ":::"
   ]
  },
  {
   "cell_type": "markdown",
   "id": "8a31648d",
   "metadata": {},
   "source": [
    ":::{admonition} Ejercicio *(explícaselo a tu ordenador)*\n",
    ":class: tip\n",
    "\n",
    "Escribe una función en python, `spectral_decomp`, que verifique si un operador $A$ es normal y, en caso afirmativo, devuelva las dos listas $\\lambda_i$ y $P_i$ asociadas a la decomposición espectral  $A = \\sum_i \\lambda_i P_i$.   \n",
    ":::"
   ]
  },
  {
   "cell_type": "markdown",
   "id": "fe8bd65d",
   "metadata": {
    "slideshow": {
     "slide_type": "slide"
    }
   },
   "source": [
    "### Espectro de Operadores Hermíticos, Unitarios y Proyectores"
   ]
  },
  {
   "cell_type": "markdown",
   "id": "b21f40dd",
   "metadata": {},
   "source": [
    "Los operadores hermíticos, unitarios y proyectores, son casos particulares de operadores  normales. Por tanto son diagonalizables y sus autovectores, asociados a autovalores distintos, generan subespacios mútuamente ortogonales. \n",
    "\n",
    "\n",
    "Vamos a ver cómo los requisitos adicionales que definend operadores hermíticos, unitarios y proyectores, se traducen en propiedades particulares para sus espectros."
   ]
  },
  {
   "cell_type": "markdown",
   "id": "1591af25",
   "metadata": {},
   "source": [
    "- **Espectro de Operadores Hermíticos**\n",
    "\n",
    "::::{card}\n",
    "\n",
    "**Teorema**\n",
    "\n",
    "^^^\n",
    "\n",
    "\n",
    "Los autovalores de un operador hermíticos son reales $\\lambda_i \\in {\\mathbb R}$.\n",
    "\n",
    ":::{dropdown} Demostración\n",
    "\n",
    "Tomemos un autovector normalizado de $A$, $\\ket{\\lambda}$ de autovalor $\\lambda$.\n",
    "\n",
    "$$\n",
    "\\lambda = \\bra{\\lambda}A\\ket{\\lambda} =  (\\bra{\\lambda}A^\\dagger\\ket{\\lambda})^* = (\\bra{\\lambda}A\\ket{\\lambda})^*= \\lambda^* .~~~\n",
    "$$   \n",
    "\n",
    ":::\n",
    "::::"
   ]
  },
  {
   "cell_type": "markdown",
   "id": "2b974454",
   "metadata": {
    "slideshow": {
     "slide_type": "skip"
    }
   },
   "source": [
    ":::{admonition} Ejericio *(explícaselo a tu ordenador)*\n",
    ":class: tip\n",
    "\n",
    "Escribe una función en python, `random_hermitian`, que reciba un número entero $d$ y genere una matriz hermítica de esa dimensión. <br>    \n",
    "Comprueba en distintos casos que el espectro es real. \n",
    "\n",
    ":::"
   ]
  },
  {
   "cell_type": "markdown",
   "id": "df8162c0",
   "metadata": {
    "slideshow": {
     "slide_type": "slide"
    }
   },
   "source": [
    "- **Espectro de Operadores Unitarios**\n",
    "\n",
    "::::{card}\n",
    "\n",
    "**Teorema**\n",
    "\n",
    "^^^\n",
    "\n",
    "Los autovalores de un operador unitario son fases puras\n",
    "\n",
    "$$\n",
    "U^\\dagger = U^{-1} ~~~\\Longleftrightarrow ~~~\\lambda_i = e^{i\\phi_i}\n",
    "$$ \n",
    "\n",
    ":::{dropdown} Demostración\n",
    "\n",
    "Aquí tu prueba\n",
    "    \n",
    ":::\n",
    "::::"
   ]
  },
  {
   "cell_type": "markdown",
   "id": "7105539b",
   "metadata": {
    "slideshow": {
     "slide_type": "slide"
    }
   },
   "source": [
    "- **Espectro de Proyectores**\n",
    "\n",
    "::::{card}\n",
    "\n",
    "**Teorema**\n",
    "\n",
    "^^^\n",
    "\n",
    "Los autovalores de un proyector sólo pueden ser $~0~$ ó $~1~$\n",
    "\n",
    "$$\n",
    "P^2= P ~~~\\Longleftrightarrow ~~~\\lambda_i \\in \\{0,1\\}\n",
    "$$ \n",
    "\n",
    ":::{dropdown} Demostración\n",
    "\n",
    "La ecuación \n",
    "    \n",
    "$$ P^2 = P ~~~~~\\Rightarrow ~~~~~~~~ P^2 \\ket{u} = P\\ket{u} $$\n",
    "\n",
    "sólo tiene dos soluciones consistentes \n",
    "    \n",
    "$$\n",
    "P\\ket{u} = \\ket{u}~~~~~~~\\hbox{y} ~~~~~~~~~~P\\ket{u} = 0\n",
    "$$\n",
    "\n",
    ":::\n",
    "::::"
   ]
  },
  {
   "cell_type": "markdown",
   "id": "32e9406f",
   "metadata": {
    "slideshow": {
     "slide_type": "skip"
    }
   },
   "source": [
    "### Operadores que conmutan"
   ]
  },
  {
   "cell_type": "markdown",
   "id": "b6e81d47",
   "metadata": {},
   "source": [
    "Cuando dos operadores conmutan se dan ciertas propiedades algebraicas que son muy ventajosas. En cierto modo se parecen más a c-números. Veamos la primera.\n",
    " \n",
    "::::{card}\n",
    "\n",
    "**Teorema**\n",
    "\n",
    "^^^\n",
    "\n",
    "Dados dos operadores $A$ y $B$ que conmutan, [A,B] = 0, existe una base $\\{\\ket{\\lambda_i}\\}$ de autovalores simultáneos de ambos operadores, es decir \n",
    "\n",
    "$$\n",
    "A = \\lambda_i^A\\ketbra{\\lambda_i}{\\lambda_i} ~~~~,~~~~~ B= \\lambda_i^B\\ketbra{\\lambda_i}{\\lambda_i} \n",
    "$$\n",
    "\n",
    ":::{dropdown} Demostración\n",
    "\n",
    "Supongamos que $A$ y $B$ conmutan. Entonces la acción de $A$ <i>estabiliza</i> los subespacios propios de $B$. \n",
    "\n",
    "Es decir, si $\\ket{\\lambda}$ es autoestado de $B$, entonces $B\\ket{\\lambda} = \\ket{\\mu}$ también es autoestado con idéntico autovalor. Se comprueba fácilmente\n",
    "\n",
    "$$\n",
    "A(B\\ket{\\lambda} ) = B(A\\ket{\\lambda}) = B(\\lambda\\ket{\\lambda}) = \\lambda (B\\ket{\\lambda})\n",
    "$$\n",
    "\n",
    "Por tanto $\\ket{\\lambda}$ y $B\\ket{\\lambda}$ pertenecen al <i>mismo subespacio propio</i>. Esto es lo que se entiende por <i>estabilizar el subespacio</i>. \n",
    "\n",
    "\n",
    "Si $\\lambda$ es degenerado esto sólo asegura que $B\\ket{\\lambda} = \\ket{\\lambda'}$ pertenece al subespacio propio del mismo autovalor $\\lambda$. \n",
    "\n",
    "Esto quiere decir que, dento de cada subespacio propio de $B$, podemos escoger la base que queramos. En particular podemos escoger una base que diagonalice $A$ dentro de dicho subespacio.     \n",
    "\n",
    ":::\n",
    "::::"
   ]
  },
  {
   "cell_type": "markdown",
   "id": "e7f06590",
   "metadata": {
    "slideshow": {
     "slide_type": "skip"
    }
   },
   "source": [
    "En otras palabras, dos operadores que conmutan, son diagonalizables simultáneamente. \n",
    "\n",
    "Eso no implica que sus autovalores sean iguales. La matriz de cada uno en la base que diagonaliza ambos $\\{\\ket{\\lambda_i}\\}$ es\n",
    "<br>\n",
    "\n",
    "$$\n",
    "A = \\begin{bmatrix} \\lambda^A_1 & & &  \\\\ & \\lambda^A_2 & &   \\\\ & & \\ddots &  \\\\ & & & \\lambda^A_n \n",
    "\\end{bmatrix}~~~~~~~,~~~~~~~~\n",
    "B = \\begin{bmatrix} \\lambda^B_1 & & &  \\\\ & \\lambda^B_2 & &   \\\\ & & \\ddots &  \\\\ & & & \\lambda^B_n \n",
    "\\end{bmatrix}\\, .\n",
    "$$"
   ]
  },
  {
   "cell_type": "markdown",
   "id": "9b825232",
   "metadata": {
    "slideshow": {
     "slide_type": "skip"
    }
   },
   "source": [
    "### Descomposición Polar (DP)"
   ]
  },
  {
   "cell_type": "markdown",
   "id": "df5a20c8",
   "metadata": {},
   "source": [
    ":::{card}\n",
    "\n",
    "**Teorema**\n",
    "\n",
    "^^^\n",
    "\n",
    "Todo operador $A\\in \\Lin(\\Hil)$ admite la descomposición polar $A = UR$ donde $U$ es un operador unitario, y $R$ es un operador semi-definido positivo (sólo tiene autovalores positivos o cero) \n",
    ":::"
   ]
  },
  {
   "cell_type": "markdown",
   "id": "17a3582d",
   "metadata": {
    "slideshow": {
     "slide_type": "skip"
    }
   },
   "source": [
    "- La descomposición polar es *única* y generaliza la representación polar de *números complejos* $z = r e^{i\\phi}$ a *operadores*  $A = UR$\n",
    "<br>\n",
    "\n",
    "- El hecho de que $r\\geq 0$ es la contrapartida a que $R$ sea semi-definida positiva. \n",
    "<br>\n",
    "\n",
    "- El factor $e^{i\\phi}$ es análogo al hecho de que un operador unitario, como veremos, sólo tiene autovalores que son fases puras."
   ]
  },
  {
   "cell_type": "code",
   "execution_count": null,
   "id": "e0d8f721",
   "metadata": {
    "slideshow": {
     "slide_type": "skip"
    }
   },
   "outputs": [],
   "source": [
    "'''Método para construir una matriz unitaria arbitraria usando la descomposición polar'''\n",
    "d = 3\n",
    "A = np.matrix(np.random.rand(d,d)+ np.random.rand(d,d) * 1j)\n",
    "\n",
    "#u, s, vh = linalg.svd(A, full_matrices=False)\n",
    "u,r = la.polar(A)\n",
    "    \n",
    "R = np.matrix(r) \n",
    "' verificamos que R sólo tiene autovalores no-negativos '\n",
    "Reigval, Reigvec = la.eig(R)\n",
    "print(np.round(Reigval,3))\n",
    "\n",
    "U=np.matrix(u) \n",
    "display(array_to_latex(U,prefix='U='))\n",
    "\n",
    "''' Verifiquemos unitariedad '''\n",
    "display(array_to_latex(np.dot(U.getH(),U),prefix='U^\\dagger U='))\n",
    "\n",
    "''' verificamos que los autovalores de U tienen norma unidad'''\n",
    "np.round([la.norm(la.eig(U)[0][i]) for i in range(d)],5)"
   ]
  },
  {
   "cell_type": "markdown",
   "id": "d4a18201",
   "metadata": {
    "slideshow": {
     "slide_type": "slide"
    }
   },
   "source": [
    "### Descomposición en Valores Singulares (SVD)"
   ]
  },
  {
   "cell_type": "markdown",
   "id": "e7397230",
   "metadata": {
    "slideshow": {
     "slide_type": "skip"
    }
   },
   "source": [
    "Vamos a enunciar este teorema para matrices. Concretamente el teorema habla de una matriz $m\\times n$. Este tipo de matrices se corresponden con operadores $O \\in \\Lin(\\Hil_A,\\Hil_B)$ entre espacios de dimensiones $m$ y $n$."
   ]
  },
  {
   "cell_type": "markdown",
   "id": "03674ae6",
   "metadata": {},
   "source": [
    "Sea $A\\in \\Lin(\\Hil)$ un operador arbitrario. Podemos formar otro operador $A^\\dagger A$ \n",
    "\n",
    "::::{card}\n",
    "\n",
    "**Lema**\n",
    "\n",
    "^^^\n",
    "\n",
    "\n",
    "Los autovalores de $A^\\dagger A$ son realess, $\\lambda_i\\in {\\mathbb R}$,  y no-negativos $\\lambda_i\\geq 0$\n",
    "\n",
    ":::{dropdown} Desmostración\n",
    "\n",
    "Claramente $A^\\dagger A$ es un operador hermítico $(A^\\dagger A)^\\dagger = A^\\dagger A$, así que sus autovalores son reales $\\lambda_i \\in {\\mathbb R}$. \n",
    "\n",
    "Además es definido semi-positivo. Es decir, para todo $\\ket{v}\\in \\Hil$\n",
    "\n",
    "$$\n",
    "\\bra{v}(A^\\dagger A) \\ket{v} = \\| A\\ket{v}\\|^2 \\geq 0 \n",
    "$$\n",
    "\n",
    "donde la desigualdad de satura si y sólo si $A\\ket{v} = 0$. Por tanto todos los autovalores deben ser positivos o cero $\\lambda_i \\geq 0$\n",
    "    \n",
    ":::\n",
    "::::"
   ]
  },
  {
   "cell_type": "markdown",
   "id": "d15a40ce",
   "metadata": {},
   "source": [
    "Al ser no-negativos, los autovalores $\\lambda_i$ admiten una raíz cuadrada. Los que no son nulos tienen una importancia especial, y por eso se merecen un nombre \n",
    "\n",
    ":::{card}\n",
    "\n",
    "**Definición**\n",
    "\n",
    "^^^\n",
    "\n",
    "Los números $\\sigma_i = \\sqrt{\\lambda_i} > 0$ se denominan <b>valores singulares</b> de $A$, donde $\\lambda_i>0$ son los autovalores no-nulos de $A^\\dagger A$.\n",
    "\n",
    ":::"
   ]
  },
  {
   "cell_type": "markdown",
   "id": "6294526a",
   "metadata": {
    "slideshow": {
     "slide_type": "-"
    }
   },
   "source": [
    ":::{card}\n",
    "\n",
    "**Teorema**\n",
    "\n",
    "^^^\n",
    "\n",
    "Sea $A$ una matriz compleja $m\\times n$. Entonces  admite la siguiente <b>descomposición en valores singulares</b>\n",
    "\n",
    "$$\n",
    "A = U\\,\\Sigma\\, V^{\\dagger} \\, ,\n",
    "$$\n",
    "\n",
    "donde $U\\in U(m)$, $V\\in U(n)$ son matrices unitarias cuadradas y $\\,\\Sigma \\,$ es una matriz rectangular $m\\times n$ con $\\sigma_1, ...,\\sigma_r$ <i>valores singulares</i> reales y positivos   en la diagonal, donde $r\\leq {\\rm min}(m,n)$. \n",
    ":::"
   ]
  },
  {
   "cell_type": "code",
   "execution_count": null,
   "id": "41590e8a",
   "metadata": {
    "slideshow": {
     "slide_type": "slide"
    }
   },
   "outputs": [],
   "source": [
    "A = np.random.randn(3,2)+ 1j*np.random.randn(3,2)\n",
    "display(array_to_latex(A,prefix='A='))\n",
    "print( 'the shape of A is :', A.shape)"
   ]
  },
  {
   "cell_type": "code",
   "execution_count": null,
   "id": "5a5e92d5",
   "metadata": {
    "slideshow": {
     "slide_type": "slide"
    }
   },
   "outputs": [],
   "source": [
    "U, sig, Vadj = la.svd(A, full_matrices=True)\n",
    "m = U.shape[0]\n",
    "n = Vadj.shape[0]\n",
    "\n",
    "V = Vadj.T.conj()\n",
    "Sigma = np.zeros([m,n])\n",
    "for i in range(min(m,n)):\n",
    "    Sigma[i,i]=s[i]\n",
    "\n",
    "    \n",
    "display(array_to_latex(U,prefix='U='))\n",
    "display(array_to_latex(Sigma,prefix='\\Sigma='))\n",
    "display(array_to_latex(V,prefix='V='))\n",
    "\n",
    "'''Verifiquemos unitariedad'''\n",
    "display(array_to_latex(np.dot(U.T.conj(),U),prefix='U^{\\dagger}U ='))\n",
    "display(array_to_latex(np.dot(V.T.conj(),V),prefix='V^{\\dagger}V ='))"
   ]
  },
  {
   "cell_type": "code",
   "execution_count": null,
   "id": "56619e23",
   "metadata": {},
   "outputs": [],
   "source": [
    "(sig1, V) = la.eigh(np.dot(A.T.conj(),A))\n",
    "\n",
    "print(sig1)\n",
    "array_to_latex(V, prefix='H=')"
   ]
  },
  {
   "cell_type": "code",
   "execution_count": null,
   "id": "ff08b436",
   "metadata": {},
   "outputs": [],
   "source": [
    "(sig2, U) = la.eigh(np.dot(A,A.T.conj()))\n",
    "\n",
    "print(sig2)\n",
    "array_to_latex(U, prefix='U=')"
   ]
  },
  {
   "cell_type": "markdown",
   "id": "d6dd919c",
   "metadata": {},
   "source": [
    "No acaba de salir $U$"
   ]
  },
  {
   "cell_type": "markdown",
   "id": "2d39d809",
   "metadata": {
    "slideshow": {
     "slide_type": "skip"
    }
   },
   "source": [
    "## Traza de un operador"
   ]
  },
  {
   "cell_type": "markdown",
   "id": "eeb95cd4",
   "metadata": {
    "slideshow": {
     "slide_type": "slide"
    }
   },
   "source": [
    "### Definición de traza de un operador\n",
    "\n",
    ":::{card}\n",
    "\n",
    "**Definción**\n",
    "\n",
    "^^^\n",
    "\n",
    "La traza de un operador $A$ se define como la suma de elementos diagonales de su matriz\n",
    "   \n",
    "$$\n",
    "\\tr A = \\sum_ i \\bra{e_i} A\\ket{e_i} =  \\sum_{i} A_{ii} \n",
    "$$\n",
    "\n",
    "de sus elementos de matriz diagonales <u> en cualquier base </u>        \n",
    ":::"
   ]
  },
  {
   "cell_type": "markdown",
   "id": "d56c49dc",
   "metadata": {
    "slideshow": {
     "slide_type": "slide"
    }
   },
   "source": [
    "Para ser consistente esta definición es necesario probar que se puede calcular en cualquier base\n",
    "\n",
    "::::{card} \n",
    "\n",
    "**Lema**\n",
    "\n",
    "^^^\n",
    "\n",
    "La traza de un operador es <i>independiente de la base</i> en la que se calcule\n",
    "\n",
    ":::{dropdown} Demostración\n",
    "\n",
    "\\begin{eqnarray} Sean $\\{\\ket{i}\\}$ y $\\{\\ket{\\tilde i}\\}$ dos bases cualesquiera. Entonces\n",
    "{\\rm tr} A  &=&\\sum_i A_{ii} =\\sum_{i} \\bra{i}A\\ket{i} =\\sum_{i} \\bra{i}A\\left( \\sum_j\\ketbra{\\tilde j}{\\tilde j}\\right)\\ket{i}\n",
    "\\nonumber\\\\\n",
    "&=& \\sum_{ij}\\bra{i}A\\ket{\\tilde j} \\braket{\\tilde j}{i} = \\sum_{ij}\\braket{\\tilde j}{i}\\bra{i}A\\ket{\\tilde j}  \\nonumber\\\\\n",
    "&=& \\sum_{j} \\bra{\\tilde j}\\left(\\sum_i\\ketbra{i}{i}\\right) A \\ket{\\tilde j}= \\sum_{j} \\bra{\\tilde j}A\\ket{\\tilde j}\\nonumber\\\\\n",
    "&=& \\sum_j \\tilde A_{jj}\n",
    "\\end{eqnarray}\n",
    "\n",
    "\n",
    ":::\n",
    "::::"
   ]
  },
  {
   "cell_type": "markdown",
   "id": "b0e19230",
   "metadata": {
    "slideshow": {
     "slide_type": "slide"
    }
   },
   "source": [
    "- Si $A$ es diagonalizable, la traza es la suma de sus autovalores. En efecto, si $\\ket{\\lambda_i}$ es la base de autoestados \n",
    "<br>\n",
    "<br>\n",
    "$$\n",
    "A\\ket{\\lambda_j} = \\lambda_i \\ket{\\lambda_i}\n",
    "$$ \n",
    "<br>\n",
    "entonces\n",
    "<br>\n",
    "$$\n",
    "{\\rm tr} A = \\sum_i \\bra{\\lambda_i}A\\ket{\\lambda_i} = \\sum_i \\lambda_i\n",
    "$$"
   ]
  },
  {
   "cell_type": "markdown",
   "id": "bdc949b5",
   "metadata": {
    "slideshow": {
     "slide_type": "skip"
    }
   },
   "source": [
    "- La traza es una operación *lineal*\n",
    "<br>\n",
    "<br>\n",
    "$$\n",
    "{\\rm tr} (A + B ) = {\\rm tr}A + {\\rm tr}B\n",
    "$$"
   ]
  },
  {
   "cell_type": "markdown",
   "id": "7adef7f1",
   "metadata": {
    "slideshow": {
     "slide_type": "slide"
    }
   },
   "source": [
    "- La traza de un producto de operadores tiene la propiedad de *cíclicidad*: es invariante bajo permutaciones  cíclicas de los operadores en su argumento. Por ejemplo, para tres operadores $A, B$ y $C$\n",
    "\n",
    "$$\n",
    "{\\rm tr}(ABC)= {\\rm tr}(BCA) \n",
    "$$\n",
    "\n",
    ":::{dropdown} Prueba\n",
    "\n",
    "\\begin{eqnarray} \n",
    "    {\\rm tr}(ABC)&=&\\sum_i (ABC)_{ii} =  \\sum_{ijk} A_{ij}B_{jk}C_{ki}\\\\\n",
    "    &=& \\sum_{ijk} B_{jk}C_{ki}A_{ij} = \\sum_j (BCA)_{jj}\\\\\n",
    "    &=&  {\\rm tr}(BCA)\n",
    "\\end{eqnarray}\n",
    ":::\n",
    "\n",
    "Para un producto de dos operadores, el anterior resultado implica que la *traza de un conmutador es cero*. Dicho de otra forma\n",
    "\n",
    "$$\n",
    "{\\rm tr}(AB) = {\\rm tr}(BA) ~~~\\Rightarrow ~~~~{\\rm tr}([A,B]) = 0 \\, .\n",
    "$$"
   ]
  },
  {
   "cell_type": "markdown",
   "id": "528e01d9",
   "metadata": {
    "slideshow": {
     "slide_type": "fragment"
    }
   },
   "source": [
    "- Sea el operador *producto externo* de dos vectores $A = \\ketbra{u}{v}$. Entonces \n",
    "\n",
    "$$\n",
    "\\tr \\left(\\rule{0mm}{5mm}\\ketbra{u}{v}\\right)  = \\braket{v}{u}\n",
    "$$\n",
    "\n",
    ":::{dropdown} Prueba\n",
    "\n",
    "$$ \n",
    "\\tr \\left(\\rule{0mm}{5mm}\\ketbra{u}{v}\\right) = \\sum_i \\braket{e_i}{u}\\braket{v}{e_i} = \\bra{v}\\left(\\sum_i \\ketbra{e_i}{e_i}\\right) \\ket{u} = \\braket{v}{u}\n",
    "$$\n",
    "\n",
    ":::"
   ]
  },
  {
   "cell_type": "markdown",
   "id": "2a40e291",
   "metadata": {
    "slideshow": {
     "slide_type": "slide"
    }
   },
   "source": [
    "### $\\Lin(\\Hil)$ como un espacio de Hilbert"
   ]
  },
  {
   "cell_type": "markdown",
   "id": "63654716",
   "metadata": {
    "slideshow": {
     "slide_type": "-"
    }
   },
   "source": [
    "Para transformar $\\Lin(\\Hil)$ en un espacio de Hilbert sólo es necesario definir un *producto escalar hermítico* entre dos elementos \n",
    "\n",
    ":::{card}\n",
    "\n",
    "**Definición**\n",
    "\n",
    "^^^\n",
    "\n",
    "Dados dos operadores lineales,  $A, B \\in \\Lin(\\Hil)$  definimos su <i> producto escalar </i>  $( A, B)\\in {\\mathbb C}$\n",
    "\n",
    "$$\n",
    "( A, B) \\equiv {\\rm tr}\\left( A^\\dagger B \\right) \n",
    "$$\n",
    "\n",
    ":::"
   ]
  },
  {
   "cell_type": "markdown",
   "id": "c25f4ad6",
   "metadata": {
    "slideshow": {
     "slide_type": "skip"
    }
   },
   "source": [
    "En una base tenemos que\n",
    "\n",
    "$$\n",
    "(A,B) = \\sum_{ij} A^\\dagger_{ij} B_{ji} = \\sum_{ij} A^*_{ji} B_{ji}\n",
    "$$\n",
    "\n",
    "mientras que \n",
    "\n",
    "$$\n",
    "(B,A) = \\sum_{ij} B^\\dagger_{ij} A_{ji} = \\sum_{ij} B^*_{ji} A_{ji}\n",
    "$$\n",
    "\n",
    "Se sigue que  $(B,A) = (A,B)^*$. Además es trivial comprobar que  $(A,B+C) = (A,B) + (A,C)$, por lo que se trata de un *producto escalar hermítico*"
   ]
  },
  {
   "cell_type": "markdown",
   "id": "a8f68192",
   "metadata": {
    "slideshow": {
     "slide_type": "slide"
    }
   },
   "source": [
    "### $\\Lin(\\Hil)$ como un espacio normado"
   ]
  },
  {
   "cell_type": "markdown",
   "id": "4c97e382",
   "metadata": {},
   "source": [
    "Una **norma** definida sobre $\\Lin(\\Hil)  $es un una función real $ A\\to  \\| A\\| \\in {\\mathbb R}$ con las propiedades \n",
    "que se han definido en una [sección anterior](../00_Formalismo/01_Vectores.ipynb#norm)"
   ]
  },
  {
   "cell_type": "markdown",
   "id": "7e4f53ca",
   "metadata": {},
   "source": [
    ":::{card}\n",
    "\n",
    "**Definción** *(norma Shatten)*\n",
    "\n",
    "^^^\n",
    "\n",
    "Dado un operador $A\\in \\Lin(\\Hil)$ la función  \n",
    "\n",
    "$$\n",
    "\\| A \\|_p =  \\left({\\rm tr} \\left(A^\\dagger A\\right)^{p/2} \\right)^{1/p}\n",
    "$$\n",
    "\n",
    "define una norma, denominada <b>$p$-norma de Shatten</b>.\n",
    "\n",
    ":::"
   ]
  },
  {
   "cell_type": "markdown",
   "id": "4342aaa2",
   "metadata": {
    "slideshow": {
     "slide_type": "skip"
    }
   },
   "source": [
    " Ya hemos mencionado que el operador $A^\\dagger A$ es un operador con propiedades importantes cuyos autovalores son los cuadrados de los valores principales $\\lambda_i = \\sigma_i^2$. Es decir, en la base diagonal\n",
    " $$\n",
    " A^\\dagger A = \\begin{pmatrix} \\sigma_1^2 & & & & &  \\\\ & \\ddots & & & \\\\ & & \\sigma_r^2 & & & \\\\ & & & 0 & &\\\\ & & & & \\ddots & \\\\ & & & & & 0 \\end{pmatrix}\n",
    " $$"
   ]
  },
  {
   "cell_type": "markdown",
   "id": "261f81eb",
   "metadata": {
    "slideshow": {
     "slide_type": "-"
    }
   },
   "source": [
    "Los tres casos más frecuentes son\n",
    "\n",
    "- $p=1$ **norma de la traza** $~\\Rightarrow ~  \\| A \\|_1 =  {\\rm tr} \\sqrt{A^\\dagger A}$\n",
    "<br>\n",
    "\n",
    "\n",
    "Esta norma es igual a la suma de los valores singulares de $A ~\\Rightarrow ~\\| A \\|_1  = \\sum_i^r \\sigma_i$"
   ]
  },
  {
   "cell_type": "markdown",
   "id": "3f9fbd8a",
   "metadata": {},
   "source": [
    "- $p=2$ **norma de Frobenius** $~\\Rightarrow ~ \\| A \\|_2 =  \\sqrt{{ \\rm tr} A^\\dagger A }$\n",
    "<br>\n",
    "\n",
    "La norma de Frobenius es la que se obtiene a partir  del producto escalar $\\|A\\|_2 = (A,A)$"
   ]
  },
  {
   "cell_type": "markdown",
   "id": "3c9e43da",
   "metadata": {},
   "source": [
    "- $p=\\infty$ **norma espectral** $~\\Rightarrow ~  \\| A \\|_\\infty = \\lim_{p\\to \\infty} \\| A \\|_p$\n",
    "\n",
    "Puede demostrarse que la norma espectral es equivalente a la siguiente definición\n",
    "\n",
    "$$\n",
    "\\|A\\|_\\infty = \\hbox{max}_{\\ket{u}\\in \\Hil}\\{ \\|A\\ket{u}\\| ~~\\hbox{con} ~ \\|\\ket{u}\\| = 1\\}\n",
    "$$"
   ]
  },
  {
   "cell_type": "markdown",
   "id": "ab144eb6",
   "metadata": {},
   "source": [
    ":::{admonition} Ejercicio (explícaselo a tu ordenador)\n",
    ":class: tip\n",
    "\n",
    "Escribe una función en python, `trace_norm(A_{ij})`, que calcule la norma de la traza de un operador $A$ dado por una matriz $A_{ij}$.\n",
    ":::"
   ]
  },
  {
   "cell_type": "markdown",
   "id": "edaa6647",
   "metadata": {
    "slideshow": {
     "slide_type": "slide"
    }
   },
   "source": [
    "### Distancia de traza"
   ]
  },
  {
   "cell_type": "markdown",
   "id": "ab224749",
   "metadata": {
    "slideshow": {
     "slide_type": "skip"
    }
   },
   "source": [
    "Cualquier norma permite definir una noción de *distancia* o *diferencia* entre dos operadores."
   ]
  },
  {
   "cell_type": "markdown",
   "id": "07735d4c",
   "metadata": {
    "slideshow": {
     "slide_type": "-"
    }
   },
   "source": [
    ":::{card}\n",
    "\n",
    "**Definción** \n",
    "\n",
    "^^^\n",
    "\n",
    "Se define la  <b> distancia de traza</b> entre dos operadores $A$ y $B$ como la <i>norma del operador diferencia</i>\n",
    "\n",
    "$$\n",
    "d(A,B) = \\| A - B \\|_1 \n",
    "$$\n",
    "\n",
    ":::"
   ]
  },
  {
   "cell_type": "markdown",
   "id": "cac7f389",
   "metadata": {
    "slideshow": {
     "slide_type": "skip"
    }
   },
   "source": [
    "## Funciones de Operadores"
   ]
  },
  {
   "cell_type": "markdown",
   "id": "e58c16b5",
   "metadata": {
    "slideshow": {
     "slide_type": "skip"
    }
   },
   "source": [
    "### Funciones analíticas de operadores\n",
    "\n",
    "Estamos acostumbrados a escribir funciones *de una variable real o compleja*. Por ejemplo $f(x)= x^2$, ó, $ f(z) = e^z$. \n",
    "\n",
    "Querríamos dar sentido a una función *de un operador* \n",
    "$\n",
    "A \\to f(A)\n",
    "$"
   ]
  },
  {
   "cell_type": "markdown",
   "id": "2a229f71",
   "metadata": {
    "slideshow": {
     "slide_type": "skip"
    }
   },
   "source": [
    "En el caso de que $f(z)$ sea una función analítica expresable como una serie de Taylor en torno a $x=0$ \n",
    "\n",
    "$$\n",
    "f(z) = \\sum_{n=0}^\\infty \\frac{1}{n!} f^{(n)}(0)\\,  z^n\n",
    "$$\n",
    "\n",
    "tomaremos como **definición** la *misma serie* cambiando el argumento $x\\to A$\n",
    "\n",
    "$$\n",
    "f(A) = \\sum_{n=0}^\\infty \\frac{1}{n!} f^{(n)}(0)\\,  A^n\n",
    "$$"
   ]
  },
  {
   "cell_type": "markdown",
   "id": "68ffdd96",
   "metadata": {
    "slideshow": {
     "slide_type": "skip"
    }
   },
   "source": [
    ":::{admonition} Nota\n",
    ":class: note\n",
    "\n",
    "De la misma forma que, para funciones analíticas $f(z)^* = f(z^*)$, también la definición anterior asegura que \n",
    "$f(A)^\\dagger = f(A^\\dagger)$\n",
    ":::"
   ]
  },
  {
   "cell_type": "markdown",
   "id": "ac48de35",
   "metadata": {
    "slideshow": {
     "slide_type": "skip"
    }
   },
   "source": [
    "### La exponenciación de un operador \n",
    "\n",
    "Sea $A\\in \\Lin(\\Hil)$, definimos la exponencial $e^A$ mediante la serie de Taylor usual\n",
    "\n",
    "$$\n",
    "\\exp(A) = e^A \\equiv  I + A + \\frac{1}{2} A^2 + \\frac{1}{3!} A^3 + ...\n",
    "$$"
   ]
  },
  {
   "cell_type": "code",
   "execution_count": null,
   "id": "30fd82a2",
   "metadata": {},
   "outputs": [],
   "source": [
    "' para exponenciar matrices es recomendable la función expm de la libreria scipy.linalg'\n",
    "\n",
    "from scipy.linalg import expm\n",
    "from numpy.linalg import matrix_power\n",
    "import math\n",
    "\n",
    "A = 0.1*np.matrix([[2,3+1j],[2j,-1-2j]])\n",
    "\n",
    "display(array_to_latex(np.around(expm(A),5)))\n",
    "\n",
    "' podemos comparar con la serie de Taylor a tercer orden'\n",
    "array_to_latex(np.round(matrix_power(A,0)  + matrix_power(A,1)  + 1./2.*matrix_power(A,2)  + 1./math.factorial(3)*matrix_power(A,3),5))"
   ]
  },
  {
   "cell_type": "markdown",
   "id": "29e2c313",
   "metadata": {
    "slideshow": {
     "slide_type": "skip"
    }
   },
   "source": [
    "Una propiedad importante de la función exponencial es  $e^xe^y = e^{x+y}$. La propiedad análoga para operadores *sólo es cierta cuando conmutan entre sí*.  Para el caso genérico tenemos dos opciones"
   ]
  },
  {
   "cell_type": "markdown",
   "id": "749ffef3",
   "metadata": {
    "slideshow": {
     "slide_type": "skip"
    }
   },
   "source": [
    "**Teorema de Baker-Campbel-Haussdorf**\n",
    "\n",
    ":::{card}\n",
    "\n",
    "**Teorema** *(de Baker-Campbel-Haussdorf)*\n",
    "\n",
    "^^^\n",
    "\n",
    "Sean $A,B\\subset{\\rm L}(\\Hil)$ dos operadores lineales genéricos. Entonces\n",
    "\n",
    "$$\n",
    "e^A e^B = e^{\\left({A+B + \\frac{1}{2}[A,B] + \\frac{1}{12}[A,[A,B]]+ \\frac{1}{12}[B,[B,A]] + ...}\\right)}\n",
    "$$\n",
    "\n",
    ":::"
   ]
  },
  {
   "cell_type": "markdown",
   "id": "ae18993d",
   "metadata": {
    "slideshow": {
     "slide_type": "skip"
    }
   },
   "source": [
    "Vemos que\n",
    "\n",
    "-  Si $A$ y $B$ conmutan, \n",
    "\n",
    "$$[A,B]=0 ~\\Leftrightarrow ~e^A e^B = e^{A+B}$$"
   ]
  },
  {
   "cell_type": "markdown",
   "id": "8586b9e6",
   "metadata": {
    "slideshow": {
     "slide_type": "skip"
    }
   },
   "source": [
    "-  Si el conmutador de $A$ y $B$  es un c-número \n",
    "\n",
    "$$[A,B]= c I  ~\\Leftrightarrow ~  e^A e^B = e^{A+B + \\frac{c}{2}}$$"
   ]
  },
  {
   "cell_type": "markdown",
   "id": "bc3a2feb",
   "metadata": {
    "slideshow": {
     "slide_type": "skip"
    }
   },
   "source": [
    "-  El inverso de $e^A$ es $e^{-A}$.$~$ Efectivamente, como \n",
    "\n",
    "$$[A,A]=0 \\Rightarrow e^A e^{-A} = e^{A-A} = e^0 = I$$"
   ]
  },
  {
   "cell_type": "markdown",
   "id": "e9998bf3",
   "metadata": {
    "slideshow": {
     "slide_type": "skip"
    }
   },
   "source": [
    "**Teorema de Lie-Suzuki-Trotter**\n",
    "\n",
    ":::{card}\n",
    "\n",
    "**Teorema** *(de Lie-Suzuki-Trotter)*\n",
    "\n",
    "^^^\n",
    "\n",
    "Sean $A,B\\subset{\\rm L}(\\Hil)$ dos operadores lineales genéricos. Entonces\n",
    "\n",
    "$$\n",
    "e^{A+B} = \\lim_{n\\to\\infty} \\left(e^{{A/n}} e^{B/n}\\right)^n\n",
    "$$\n",
    "\n",
    "Esta segunda opción es de uso muy frecuente en el contexto de la *simulación cuántica*. \n",
    ":::"
   ]
  },
  {
   "cell_type": "markdown",
   "id": "66b5b25e",
   "metadata": {
    "slideshow": {
     "slide_type": "skip"
    }
   },
   "source": [
    "**Relación entre operadores hermíticos y unitarios**\n",
    "\n",
    ":::{card}\n",
    "\n",
    "**Teorema** \n",
    "\n",
    "^^^\n",
    "\n",
    "Todo operador unitario $U$ se puede expresar como la exponencial imaginaria de un operador hermítico $H$\n",
    "\n",
    "$$\n",
    "U = e^{i H}\n",
    "$$\n",
    ":::\n",
    "\n",
    "Efectivamente, \n",
    "\n",
    "$$U^\\dagger = \\left(e^{i H}\\right)^\\dagger = e^{-i H^\\dagger} = e^{-i H}=U^{-1}$$ \n",
    "\n",
    "por tanto, $U$ es unitario si y sólo si $H$ es hermítico.\n",
    "\n",
    ":::{dropdown} Detalles\n",
    "\n",
    "\\begin{eqnarray}\n",
    "U^\\dagger &=& \\left( e^{iH}\\right)^\\dagger = \\left( 1+ iH + \\frac{1}{2}(i H)^2 + ...\\right)^\\dagger \\\\\n",
    "&=& 1 - iH^\\dagger  + \\frac{1}{2}(-i)^2 (H^2)^\\dagger + ... \\\\\n",
    "&=& 1 - iH +\\frac{1}{2} H^2 - ... \\\\\n",
    "&=& e^{-iH}\\\\ \\rule{0mm}{6mm}\n",
    "&=& U^{-1}\n",
    "\\end{eqnarray}\n",
    ":::"
   ]
  },
  {
   "cell_type": "markdown",
   "id": "8a0eaf73",
   "metadata": {
    "slideshow": {
     "slide_type": "slide"
    }
   },
   "source": [
    "### Funciones  generales"
   ]
  },
  {
   "cell_type": "markdown",
   "id": "86e26777",
   "metadata": {
    "slideshow": {
     "slide_type": "skip"
    }
   },
   "source": [
    "No siempre $f(z)$ admite una expansión en serie de Taylor. Por ejemplo $f(z) = \\exp(1/z)$ en torno a $z=0$ no es analítica.\n",
    "\n",
    "En estos casos, el operador $f(A)$ existe, pero para construirlo es necesario recurrir a la *forma diagonalizada*"
   ]
  },
  {
   "cell_type": "markdown",
   "id": "209e9141",
   "metadata": {
    "slideshow": {
     "slide_type": "-"
    }
   },
   "source": [
    ":::{card}\n",
    "\n",
    "**Teorema**\n",
    "\n",
    "^^^\n",
    "\n",
    "Sea $A$ un operador diagonalizable, y sea $A= \\sum_i \\lambda_i \\ket{\\lambda_i}\\bra{\\lambda_i}$ su representación espectral. \n",
    "Entonces el operador $f(A)$ tiene la representación espectral siguiente\n",
    "    \n",
    "$$\n",
    "f(A) = \\sum_i f(\\lambda_i) \\ket{\\lambda_i}\\bra{\\lambda_i}\n",
    "$$\n",
    ":::\n",
    "\n",
    "En particular, la matriz asociada a $f(A)$ en la base $\\{\\ket{\\lambda_i}\\}$ que diagonaliza $A^{(D)}_{ij}$ \n",
    "es la diagonal de los elementos $f(\\lambda_i)$ de los autovalores\n",
    "\n",
    "$$\n",
    "f(A^{(D)}_{ij}) = \\begin{bmatrix} f(\\lambda_1)& &  & \\\\ & f(\\lambda_2) & &  \\\\ & & \\ddots & \\\\ & & & f(\\lambda_n)\n",
    "\\end{bmatrix}\n",
    "$$"
   ]
  },
  {
   "cell_type": "markdown",
   "id": "70db2340",
   "metadata": {
    "slideshow": {
     "slide_type": "slide"
    }
   },
   "source": [
    ":::{admonition} Ejemplo\n",
    ":class: tip\n",
    "\n",
    "$$\n",
    "f(A) = e^{1/A} = \\sum_i e^{1/\\lambda_i} \\ket{\\lambda_i}\\bra{\\lambda_i}\n",
    "$$\n",
    "\n",
    ":::"
   ]
  },
  {
   "cell_type": "markdown",
   "id": "ced0eb77",
   "metadata": {
    "slideshow": {
     "slide_type": "slide"
    }
   },
   "source": [
    ":::{admonition} Ejemplo\n",
    ":class: tip\n",
    "\n",
    "\\begin{eqnarray}\n",
    "f(A) = {\\rm tr}(A \\log A) &=& {\\rm tr}\\left[\\left(\\sum_j \\lambda_j \\ket{\\lambda_j}\\bra{\\lambda_j}\\right)\\left(\\sum_k\\log \\lambda_k \\ket{\\lambda_k}\\bra{\\lambda_k}\\right)\\right] ~=~  {\\rm tr}\\left[\\sum_k \\lambda_k \\log\\lambda_k \\ket{\\lambda_k}\\bra{\\lambda_k} \\right] \\\\ \\rule{0mm}{20mm}\n",
    "&=& {\\rm tr} \\begin{bmatrix} \\lambda_1 \\log \\lambda_1& &  & \\\\ &\\lambda_2 \\log \\lambda_2 & &  \\\\ & & \\ddots & \\\\ & & & \\lambda_n \\log \\lambda_n\n",
    "\\end{bmatrix}\n",
    " ~= ~ \\sum_k \\lambda_k \\log \\lambda_k \\rule{0mm}{8mm}\n",
    "\\end{eqnarray}\n",
    "\n",
    ":::"
   ]
  },
  {
   "cell_type": "markdown",
   "id": "485d1c3c",
   "metadata": {
    "slideshow": {
     "slide_type": "slide"
    }
   },
   "source": [
    "## Matrices de Pauli"
   ]
  },
  {
   "cell_type": "markdown",
   "id": "f9a961b9",
   "metadata": {
    "slideshow": {
     "slide_type": "-"
    }
   },
   "source": [
    ":::{card}\n",
    "\n",
    "**Definición**\n",
    "\n",
    "^^^\n",
    "\n",
    "$$\n",
    "\\sigma_x = \\begin{bmatrix} 0 & 1 \\\\ 1 & 0 \\end{bmatrix}~~~~~,~~~~~~~~~\n",
    "\\sigma_y = \\begin{bmatrix} 0 & -i \\\\ i & 0 \\end{bmatrix}~~~~~,~~~~~~~~~\n",
    "\\sigma_z = \\begin{bmatrix} 1 & 0 \\\\ 0 & -1 \\end{bmatrix} \\, .\n",
    "$$\n",
    "\n",
    ":::"
   ]
  },
  {
   "cell_type": "markdown",
   "id": "46dba22e",
   "metadata": {
    "slideshow": {
     "slide_type": "fragment"
    }
   },
   "source": [
    "- También se usan los subíndices enteros $\\sigma_1=\\sigma_x, ~\n",
    "\\sigma_2=\\sigma_y$  y  $\\sigma_3=\\sigma_z$. \n",
    "<br>\n",
    "<br>\n",
    "- Una propiedad importantísima de las matrices de Pauli  es que son, a la vez,  <u>*hermíticas* y *unitarias*</u>."
   ]
  },
  {
   "cell_type": "markdown",
   "id": "5c507514",
   "metadata": {
    "slideshow": {
     "slide_type": "slide"
    }
   },
   "source": [
    "**Composición de matrices de Pauli**"
   ]
  },
  {
   "cell_type": "markdown",
   "id": "83f6dec4",
   "metadata": {
    "slideshow": {
     "slide_type": "fragment"
    }
   },
   "source": [
    "Es inmediato verificar que se cumplen las siguientes relaciones\n",
    "\n",
    "\n",
    "- si multiplicamos dos matrices de Pauli **iguales**\n",
    "\n",
    "$$\n",
    "\\sigma_1\\sigma_1 = \\sigma_2\\sigma_2 = \\sigma_3\\sigma_3 =   I\n",
    "$$\n",
    "\n",
    "- si multiplicamos dos matrices de Pauli **diferentes**\n",
    "\n",
    "\\begin{eqnarray}\n",
    "\\sigma_1\\sigma_2 &=&  - \\sigma_2\\sigma_1 = i \\sigma_3   \\\\\n",
    "\\sigma_2\\sigma_3 &=&  -\\sigma_3\\sigma_2  = -i \\sigma_1  \\\\\n",
    "\\sigma_3\\sigma_1 &=& -\\sigma_2\\sigma_3 = -i \\sigma_2   \\\\\n",
    "\\end{eqnarray}"
   ]
  },
  {
   "cell_type": "code",
   "execution_count": null,
   "id": "33f3e4f6",
   "metadata": {
    "slideshow": {
     "slide_type": "slide"
    }
   },
   "outputs": [],
   "source": [
    "I = np.eye(2)\n",
    "s1 = np.matrix([[0,1],[1,0]])\n",
    "s2 = np.matrix([[0,-1j],[1j,0]])\n",
    "s3 = np.matrix([[1,0],[0,-1]])\n",
    "\n",
    "'verifica todas las opciones'\n",
    "print(s1*s1==I)\n",
    "print(s1*s2==1j*s3)\n",
    "print(s2*s1==-1j*s3)\n",
    "'etc'"
   ]
  },
  {
   "cell_type": "markdown",
   "id": "b1337f84",
   "metadata": {},
   "source": [
    "Todas estas *relaciones de composición* se pueden condensar en la siguiente ecuación algebráica\n",
    "<br>\n",
    "\n",
    "$$\n",
    "\\fbox{$\\sigma_i \\sigma_j = \\delta_{ij}I + i\\epsilon_{ijk}  \\sigma_k$}\n",
    "$$\n",
    "\n",
    "donde hemos hecho uso del *símbolo antisimétrico*\n",
    "$$\\epsilon_{123} = \\epsilon_{231}=\\epsilon_{312}=1~~~~,~~~~\\epsilon_{213} = \\epsilon_{132}=\\epsilon_{321}=-1$$"
   ]
  },
  {
   "cell_type": "markdown",
   "id": "e4dbe19a",
   "metadata": {
    "slideshow": {
     "slide_type": "skip"
    }
   },
   "source": [
    "A partir de estas relaciones es inmediado ver que las matrices de Pauli verifican relaciones de conmutación \n",
    "\n",
    "    \n",
    "$$\n",
    "[\\sigma_i,\\sigma_j] ~=~ \\sigma_i\\sigma_j - \\sigma_j\\sigma_i ~=~ 2i\\epsilon_{ijk}\\sigma_k\n",
    "$$\n",
    "\n",
    "y de anticonmutación \n",
    "\n",
    "$$\n",
    "\\{\\sigma_i,\\sigma_j \\} ~=~ \\sigma_i\\sigma_j + \\sigma_j\\sigma_i =  2\\delta_{ij} ~~~~~\n",
    "$$"
   ]
  },
  {
   "cell_type": "markdown",
   "id": "02271a57",
   "metadata": {
    "slideshow": {
     "slide_type": "skip"
    }
   },
   "source": [
    "Las matrices de Pauli tienen traza nula\n",
    "\n",
    "$$\n",
    "{\\rm tr} \\, \\sigma_i = 0\n",
    "$$"
   ]
  },
  {
   "cell_type": "markdown",
   "id": "acef8b8c",
   "metadata": {
    "slideshow": {
     "slide_type": "skip"
    }
   },
   "source": [
    "Tomando la traza de la relación de composición obtenemos que las matrices de Pauli <u>*son ortogonales*</u> \n",
    "en el sentido del producto escalar definido sobre $\\Lin(\\Hil)$\n",
    "<br>\n",
    "\n",
    "$$\n",
    "(\\sigma_i, \\sigma_j) \\equiv {\\rm tr}(\\sigma_i\\sigma_j) = {\\rm tr}(\\delta_{ij}I + i\\epsilon_{ijk}  \\sigma_k) = 2\\delta_{ij}\n",
    "$$"
   ]
  },
  {
   "cell_type": "markdown",
   "id": "19cd50ca",
   "metadata": {
    "slideshow": {
     "slide_type": "slide"
    }
   },
   "source": [
    "Las matrices hermíticas de dimensión 2$\\times$2 tienen cuatro grados de libertad reales. \n",
    "\n",
    "Si añadimos la matriz identidad $~I = \\begin{bmatrix} 1 & 0 \\\\ 0 & 1 \\end{bmatrix}~\n",
    "$  el conjunto $\\{I,\\sigma_x,\\sigma_y,\\sigma_z\\}$ forma una *base* para el espacio de *matrices hermíticas* $2\\times 2$.  \n",
    "\n",
    "\\begin{eqnarray}\n",
    "A &=& a_0 I + {\\bf a} \\cdot \\boldsymbol{\\sigma} \\\\  \\rule{0mm}{10mm} &=&  a_0 I + a_1 \\sigma_1 + a_2 \\sigma_2 + a_3 \\sigma_3 \\\\ \\rule{0mm}{10mm}&=& \n",
    "\\begin{bmatrix}\n",
    "a_0 + a_3 & a_1 - i a_2 \\\\ a_1 + i a_2 & a_0 - a_3\n",
    "\\end{bmatrix} = A^\\dagger\n",
    "\\end{eqnarray}\n",
    "con $a_i\\in {\\mathbb R}$ cuatro números reales."
   ]
  },
  {
   "cell_type": "markdown",
   "id": "84ef5963",
   "metadata": {
    "slideshow": {
     "slide_type": "slide"
    }
   },
   "source": [
    "Separemos el vector ${\\bf a}$ en su módulo $a$, y su dirección unitaria $\\hat{\\bf n}$\n",
    "\n",
    "$${\\bf a} = (a_1,a_2,a_3) =a \\left( \\frac{a_1}{a},\\frac{a_2}{a},\\frac{a_3}{a}\\right) =  a\\, \\hat{\\bf n}$$ \n",
    "\n",
    "donde $a=|{\\bf a}|=\\sqrt{a_1^2+a_2^3+a_3^2}~$  y $\\hat{\\bf n}$ es unitario"
   ]
  },
  {
   "cell_type": "markdown",
   "id": "4a9c0d83",
   "metadata": {
    "slideshow": {
     "slide_type": "fragment"
    }
   },
   "source": [
    "Entonces\n",
    "<br>\n",
    "$$\n",
    " {\\bf a} \\cdot \\boldsymbol{\\sigma} =  a\\, \\hat{\\bf n} \\cdot \\boldsymbol{\\sigma}\n",
    "$$\n",
    "\n",
    "es una matriz *hermítica*, que podemos exponenciar para formar una matriz *unitaria*. La sorpresa ahora, es que el resultado, vuelve a ser expresable en términos de las propias matrices de Pauli!"
   ]
  },
  {
   "cell_type": "markdown",
   "id": "c941ff94",
   "metadata": {
    "slideshow": {
     "slide_type": "fragment"
    }
   },
   "source": [
    ":::{card}\n",
    "\n",
    "**Teorema**\n",
    "\n",
    "^^^\n",
    "\n",
    "$$\n",
    "\\exp \\left( i\\,   {\\bf a} \\cdot \\boldsymbol{\\sigma}  \\right) = (\\cos a)\\, I + i (\\sin a)\\,\\hat{\\bf n} \\cdot  \\boldsymbol{\\sigma} \n",
    "$$\n",
    "\n",
    ":::"
   ]
  },
  {
   "cell_type": "markdown",
   "id": "d653f652",
   "metadata": {
    "slideshow": {
     "slide_type": "skip"
    }
   },
   "source": [
    "Esta expresión, extremadamente útil,  generaliza la *fórmula de Euler*  para una fase compleja \n",
    "\n",
    "$$ \\exp(i\\alpha) =  \\cos\\alpha + i \\sin\\alpha $$\n",
    "<br>"
   ]
  },
  {
   "cell_type": "code",
   "execution_count": null,
   "id": "8f6170e2",
   "metadata": {
    "slideshow": {
     "slide_type": "skip"
    }
   },
   "outputs": [],
   "source": [
    "'verificamos la ecuación anterio numéricamente'\n",
    "from scipy.linalg import expm\n",
    "\n",
    "'generamos un vector aleatorio'\n",
    "avec = np.random.rand(3)\n",
    "a = np.linalg.norm(avec)\n",
    "nvec = avec/a\n",
    "print('a=',a)\n",
    "display(array_to_latex(nvec))\n",
    "\n",
    "sigvec = np.array([s1,s2,s3])\n",
    "\n",
    "adots= sum(list(avec[i]*sigvec[i] for i in range(3)))\n",
    "\n",
    "'exponentiating'\n",
    "e1 = expm(1j*adots)\n",
    "\n",
    "'using the Euler-like formula'\n",
    "ndots= sum(list(nvec[i]*sigvec[i] for i in range(3)))\n",
    "e2 = np.cos(a)*s0 + 1j*np.sin(a)*(nvec[0]*sigvec[0]+nvec[1]*sigvec[1]+nvec[2]*sigvec[2])\n",
    "\n",
    "'verify'\n",
    "display(array_to_latex(np.round(e1,4),prefix='e1='))\n",
    "display(array_to_latex(np.round(e2,4),prefix='e1='))"
   ]
  },
  {
   "cell_type": "markdown",
   "id": "7c800f24",
   "metadata": {
    "slideshow": {
     "slide_type": "skip"
    }
   },
   "source": [
    ":::{card}\n",
    "\n",
    "**Ejericios**\n",
    "\n",
    "^^^\n",
    "\n",
    "Obtén la descomposición espectral de las tres matrices de Pauli, $\\sigma_x, \\sigma_y $ y $\\sigma_z$. Utiliza esta descomposición para demostrar la expresión\n",
    "\n",
    "$$\n",
    "e^{i \\alpha\\,  \\hat{\\bf n}\\cdot\\boldsymbol{\\sigma}} = \\cos \\alpha \\, I + i \\sin \\alpha \\, \\hat{\\bf n}\\cdot\\boldsymbol{\\sigma}\n",
    "$$\n",
    "\n",
    "donde $\\hat{\\bf n} = (n_x, n_y,n_z)$ es un vector unitario.\n",
    "\n",
    ":::"
   ]
  }
 ],
 "metadata": {
  "authors": [
   {
    "affiliations": [
     "IGFAE-USC"
    ],
    "corresponding": true,
    "email": "javier.mas@usc.es",
    "name": "Javier Mas",
    "orcid": "0000-0001-7008-2126"
   },
   {
    "affiliations": [
     "UMA"
    ],
    "corresponding": true,
    "email": "david.castano@uma.es",
    "name": "David Castaño",
    "orcid": "0000-0001-7008-2126"
   }
  ],
  "github": "https://github.com/jamasole/Curso-TalentQ-Jupyterlab",
  "jupytext": {
   "text_representation": {
    "extension": ".md",
    "format_name": "myst",
    "format_version": 0.13,
    "jupytext_version": "1.15.2"
   }
  },
  "kernelspec": {
   "display_name": "Python 3 (ipykernel)",
   "language": "python",
   "name": "python3"
  },
  "license": "CC-BY-4.0",
  "math": {
   "\\C": "{\\mathbb C}",
   "\\Hil": "{\\mathcal H}",
   "\\Lin": "\\rm L",
   "\\O": "{\\mathcal O}",
   "\\R": "{\\mathbb R}",
   "\\V": "{V}",
   "\\bes": "\\begin{equation*}",
   "\\braa": "{\\langle #1|}",
   "\\braket": "{\\langle #1|#2\\rangle}",
   "\\ees": "\\end{equation*}",
   "\\i": "{i}",
   "\\ket": "{|#1\\rangle}",
   "\\ketbra": "{|#1\\rangle\\langle #2|}",
   "\\tr": "{\\rm tr}"
  },
  "source_map": [
   44,
   60,
   66,
   70,
   86,
   91,
   95,
   112,
   144,
   158,
   170,
   181,
   185,
   201,
   213,
   219,
   227,
   255,
   260,
   270,
   305,
   315,
   333,
   337,
   356,
   365,
   385,
   396,
   406,
   426,
   434,
   438,
   445,
   470,
   481,
   504,
   535,
   539,
   575,
   589,
   593,
   604,
   614,
   641,
   645,
   649,
   677,
   691,
   708,
   718,
   743,
   750,
   755,
   759,
   763,
   782,
   808,
   823,
   832,
   855,
   871,
   875,
   893,
   909,
   913,
   918,
   936,
   943,
   953,
   961,
   972,
   980,
   984,
   988,
   1004,
   1008,
   1019,
   1034,
   1045,
   1055,
   1070,
   1074,
   1092,
   1100,
   1108,
   1115,
   1134,
   1168,
   1172,
   1178,
   1202,
   1213,
   1227,
   1232,
   1248,
   1257,
   1261,
   1280,
   1295,
   1307,
   1322,
   1330,
   1340,
   1355,
   1363,
   1374,
   1388,
   1395,
   1426
  ],
  "subject": "Curso",
  "venue": "Quantum Spain"
 },
 "nbformat": 4,
 "nbformat_minor": 5
}