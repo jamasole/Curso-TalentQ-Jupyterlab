{
 "cells": [
  {
   "cell_type": "markdown",
   "id": "e1325416",
   "metadata": {},
   "source": [
    "```{figure} ../thumbnails/myThumbnail.png\n",
    ":align: center\n",
    "```"
   ]
  },
  {
   "cell_type": "markdown",
   "id": "418a6483",
   "metadata": {
    "slideshow": {
     "slide_type": "slide"
    }
   },
   "source": [
    "# Elementos de Mecánica Cuántica"
   ]
  },
  {
   "cell_type": "code",
   "execution_count": 1,
   "id": "a450d7d3",
   "metadata": {},
   "outputs": [
    {
     "ename": "ModuleNotFoundError",
     "evalue": "No module named 'macro_tQ'",
     "output_type": "error",
     "traceback": [
      "\u001b[0;31m---------------------------------------------------------------------------\u001b[0m",
      "\u001b[0;31mModuleNotFoundError\u001b[0m                       Traceback (most recent call last)",
      "Cell \u001b[0;32mIn[1], line 3\u001b[0m\n\u001b[1;32m      1\u001b[0m \u001b[38;5;28;01mimport\u001b[39;00m \u001b[38;5;21;01msys\u001b[39;00m\n\u001b[1;32m      2\u001b[0m sys\u001b[38;5;241m.\u001b[39mpath\u001b[38;5;241m.\u001b[39mappend(\u001b[38;5;124m'\u001b[39m\u001b[38;5;124m../\u001b[39m\u001b[38;5;124m'\u001b[39m)\n\u001b[0;32m----> 3\u001b[0m \u001b[38;5;28;01mimport\u001b[39;00m \u001b[38;5;21;01mmacro_tQ\u001b[39;00m \u001b[38;5;28;01mas\u001b[39;00m \u001b[38;5;21;01mtQ\u001b[39;00m\n\u001b[1;32m      5\u001b[0m \u001b[38;5;28;01mimport\u001b[39;00m \u001b[38;5;21;01mnumpy\u001b[39;00m \u001b[38;5;28;01mas\u001b[39;00m \u001b[38;5;21;01mnp\u001b[39;00m\n\u001b[1;32m      6\u001b[0m \u001b[38;5;28;01mimport\u001b[39;00m \u001b[38;5;21;01mscipy\u001b[39;00m\u001b[38;5;21;01m.\u001b[39;00m\u001b[38;5;21;01mlinalg\u001b[39;00m \u001b[38;5;28;01mas\u001b[39;00m \u001b[38;5;21;01mla\u001b[39;00m\n",
      "\u001b[0;31mModuleNotFoundError\u001b[0m: No module named 'macro_tQ'"
     ]
    }
   ],
   "source": [
    "import sys\n",
    "sys.path.append('../')\n",
    "import macro_tQ as tQ\n",
    "\n",
    "import numpy as np\n",
    "import scipy.linalg as la\n",
    "from IPython.display import display,Markdown,Latex\n",
    "import matplotlib.pyplot as plt\n",
    "from qiskit.tools.visualization import array_to_latex\n",
    "import copy "
   ]
  },
  {
   "cell_type": "markdown",
   "id": "53f6ff55",
   "metadata": {
    "slideshow": {
     "slide_type": "slide"
    }
   },
   "source": [
    "## Axiomas de la Mecánica Cuántica"
   ]
  },
  {
   "cell_type": "markdown",
   "id": "1242dd54",
   "metadata": {
    "slideshow": {
     "slide_type": "-"
    }
   },
   "source": [
    "La Mecánica Cuántica es una teoría fundamentada en unos pilares axiomáticos cuya selección admite cierta flexibilidad. La más aceptada constituye lo que se denomina la <i>interpretación de Copenhagen</i>."
   ]
  },
  {
   "cell_type": "markdown",
   "id": "2c249f7d",
   "metadata": {
    "slideshow": {
     "slide_type": "slide"
    }
   },
   "source": [
    ":::{card}\n",
    "\n",
    "**Postulado I** :  *Vector de estado*\n",
    "\n",
    "^^^\n",
    "\n",
    "En un instante, $t$, la máxima información accesible de un <i>sistema cuántico aislado</i> está asociada a un vector $\\ket{\\psi}$, de norma unidad, $\\braket{\\psi}{\\psi}=1$,  \n",
    "perteneciente a un espacio de Hilbert $\\Hil$, cuya dimensión compleja $N$ equivale al número de grados de libertad del sistema. \n",
    "\n",
    ":::"
   ]
  },
  {
   "cell_type": "markdown",
   "id": "8f548bb1",
   "metadata": {
    "slideshow": {
     "slide_type": "fragment"
    }
   },
   "source": [
    "-  El vector de estado es el objecto matemático que contiene la máxima información accesible. La palabra *estado* es engañosa por cuanto parece indicar que el sistema *está* en alguna estado concreto.  El vector de estado recibe también el nombre de *función de onda*. \n",
    "<br>\n",
    "\n",
    "- La dimensión de $\\Hil$ está relacionada con el número de grados de libertad del sistema.\n",
    "<br>\n",
    "\n",
    "- La *fase global* del vector de estado no contiene información: dos vectores que difieran en una fase global representan al mismo estado ningún experimento permite distinguirlos\n",
    "<br>\n",
    "$$\n",
    "\\ket{\\psi} \\sim \\ket{\\psi'} =  e^{i\\varphi}\\ket{\\psi} \\, ,\n",
    "$$\n",
    "<br>"
   ]
  },
  {
   "cell_type": "markdown",
   "id": "f94ed2af",
   "metadata": {
    "slideshow": {
     "slide_type": "fragment"
    }
   },
   "source": [
    ":::{card}\n",
    "\n",
    "**Postulado  II :**  *Evolución con el tiempo*\n",
    "\n",
    "^^^\n",
    "\n",
    "El cambio continuo en el tiempo de  $\\ket{\\psi(t)}$ de un sistema cuya dinámica está gobernada por un Hamiltoniano $H(t)$,  es <i>determinista</i> y es solución de la <i>Ecuación de Schrödinger</i>\n",
    "\n",
    "$$\n",
    " \\frac{\\partial\\ket{\\psi(t)}}{\\partial t} =-\\frac{i}{\\hbar} H(t) \\ket{\\psi(t)} \\, \\label{eqschr}\n",
    "$$\n",
    "\n",
    ":::"
   ]
  },
  {
   "cell_type": "markdown",
   "id": "a6e01a9a",
   "metadata": {
    "slideshow": {
     "slide_type": "slide"
    }
   },
   "source": [
    "Lo que caracteriza la evolución  dinámica de un sistema cuántico está contenido en un *operador hermítico* $H = H^\\dagger$ que se denomina **operador Hamiltoniano**\n",
    "\n",
    "Supongamos que el sistema se prepara a $t=0$ en un cierto estado $\\ket{\\psi(0)}$"
   ]
  },
  {
   "cell_type": "markdown",
   "id": "ed4059e7",
   "metadata": {
    "slideshow": {
     "slide_type": "skip"
    }
   },
   "source": [
    "La ecuación de Schrödinger es una ecuación diferencial ordinaria (una sola variable) para un vector."
   ]
  },
  {
   "cell_type": "markdown",
   "id": "d608dd94",
   "metadata": {
    "slideshow": {
     "slide_type": "slide"
    }
   },
   "source": [
    ":::{card}\n",
    "\n",
    "**Postulado III:** *Medidas de Von Neumann*   <a id='postul_III_medida'></a>\n",
    "\n",
    "^^^\n",
    "\n",
    "A una magnitud física medible le está asociado   un operador hermítico  $ A= A^\\dagger$ que denominamos <b>observable</b>.\n",
    "\n",
    "Los resultados de una medición solo pueden dar uno de los autovalores de $A \\Rightarrow \\lambda_k$.\n",
    ":::\n",
    "\n",
    ":::{card} \n",
    "\n",
    "**Regla de Born**\n",
    "\n",
    "^^^\n",
    "\n",
    "La probabilidad de obtener  el autovalor $\\lambda_k$ como resultado de una cierta medición, viene dada por\n",
    "la expresión\n",
    "\n",
    "$$\n",
    "p(\\lambda_k)~ = ~|\\braket{\\lambda_k}{\\psi}|^2\n",
    "$$ \n",
    "\n",
    "donde $\\ket{\\lambda_k}$ es el autovector asociado. \n",
    ":::"
   ]
  },
  {
   "cell_type": "markdown",
   "id": "493e3b74",
   "metadata": {
    "slideshow": {
     "slide_type": "skip"
    }
   },
   "source": [
    "Las magnitudes medibles son números reales, de ahí la exigencia de que $A$ deba ser un operador hermítico"
   ]
  },
  {
   "cell_type": "markdown",
   "id": "34157bd2",
   "metadata": {
    "slideshow": {
     "slide_type": "skip"
    }
   },
   "source": [
    "- La información contenida en $\\ket{\\psi}$ es <b>intrínsecamente probabilística</b>: $\\psi$ codifica una distribución de probabilidad, $p(\\lambda_m)$, para cada posible resultado $\\lambda_m$.  \n",
    "<br>\n",
    "\n",
    "- *Muy importante*:  $(\\lambda_m,p(\\lambda_m))$ no es una <i>pseudo-probabilidad</i> sino, probablemente, la única verdadera variable aleatoria en el sentido puro de la palabra que existe en la naturaleza."
   ]
  },
  {
   "cell_type": "markdown",
   "id": "ee458a87",
   "metadata": {
    "slideshow": {
     "slide_type": "skip"
    }
   },
   "source": [
    "- Cuando $\\lambda_k$ tiene degeneración $d_k$, la fórmula para $p(\\lambda_k)$ debe generalizarse:\n",
    "\\begin{eqnarray}\n",
    "p(\\lambda_k)~ &=& ~ \\sum_{a=1}^{d_k}|\\braket{\\lambda^a_k}{\\psi}|^2 = \\bra{\\psi}\\left(\n",
    " \\sum_{a=1}^{d_k}\\ketbra{\\lambda^a_k}{\\lambda^a_k}\\right) \\ket{\\psi}\\nonumber\\\\\n",
    "&=&  \\bra{\\psi}P_k\\ket{\\psi} \\rule{0mm}{7mm}\\\\\n",
    "\\end{eqnarray}"
   ]
  },
  {
   "cell_type": "markdown",
   "id": "a4ed5517",
   "metadata": {
    "slideshow": {
     "slide_type": "skip"
    }
   },
   "source": [
    "La última expresión revela que $p(\\lambda_k)$ no es más que el *valor esperado del proyector* $P_k = P^2_k$. \n",
    "\n",
    "Esta es la razón por la que las medidas a las que se refiere este postulado se denominana *proyectivas*, y son un caso especial del tipo más general posible de medidas."
   ]
  },
  {
   "cell_type": "markdown",
   "id": "3b1f25cc",
   "metadata": {
    "slideshow": {
     "slide_type": "slide"
    }
   },
   "source": [
    ":::{card}\n",
    "\n",
    "**Postulado IV:**  *Colapso de la función de  onda*\n",
    "\n",
    "^^^\n",
    " \n",
    "Si el resultado de una medida  ha sido  $\\lambda_n$, el estado del sistema,inmediatamente después de la medida, viene dado por el vector propio  \n",
    "$\\ket{\\lambda_n} \\in \\Hil$, normalizado $|\\braket{\\lambda_n}{\\lambda_n}|=1$\n",
    "\n",
    "$$\n",
    "\\ket{\\psi}~\\stackrel{\\lambda_n}{\\Longrightarrow}~ \\ket{\\lambda_n} \n",
    "$$\n",
    "\n",
    ":::"
   ]
  },
  {
   "cell_type": "markdown",
   "id": "c2f07167",
   "metadata": {},
   "source": [
    " Matemáticamente podemos describir el colapso de la función de onda mediante la combinación de una proyección y una normalización\n",
    " \n",
    " $$\n",
    " \\ket{\\psi} \\Rightarrow \\frac{P_n\\ket{\\psi}}{\\|P_n\\ket{\\psi}\\|} = \\ket{\\lambda_n}\n",
    " $$\n",
    " \n",
    " La normalización en el denominador depende del estado $\\ket{\\psi}$ y, por tanto, no podemos describir el colapso como la acción de ningún operador $\\in \\Lin(\\Hil)$"
   ]
  },
  {
   "cell_type": "markdown",
   "id": "6bb35199",
   "metadata": {
    "slideshow": {
     "slide_type": "skip"
    }
   },
   "source": [
    "## Medidas y valores esperados"
   ]
  },
  {
   "cell_type": "markdown",
   "id": "88b62daa",
   "metadata": {},
   "source": [
    "En Mecánica Cuántica especificamos un estado en las componentes de la expansión de un estado en *una base* ortonormal.\n",
    "Existen infinitas bases posibles para expresar un vector. ¿Qué base es la mejor? La respuesta es que depende del proceso que estudiemos."
   ]
  },
  {
   "cell_type": "markdown",
   "id": "b51bb476",
   "metadata": {
    "slideshow": {
     "slide_type": "skip"
    }
   },
   "source": [
    "### Medidas en la base adaptada"
   ]
  },
  {
   "cell_type": "markdown",
   "id": "c39bf6ee",
   "metadata": {
    "slideshow": {
     "slide_type": "fragment"
    }
   },
   "source": [
    "Si el proceso es *la medida* de un cierto observable $A=A^\\dagger$, el resultado de nuestra medición sólo puede ser uno de los *valores propios* $\\lambda_i$\n",
    "\n",
    "$$\n",
    "A \\ket{\\lambda_k} = \\lambda_k \\ket{\\lambda_k}\\, \n",
    "$$\n",
    "\n",
    "donde $\\ket{\\lambda_k}$ son los autovectores ${k=1,2,...}$ que forman una base ortonormal."
   ]
  },
  {
   "cell_type": "markdown",
   "id": "ba4c42b0",
   "metadata": {
    "slideshow": {
     "slide_type": "slide"
    }
   },
   "source": [
    "Ésta es la base natural adaptada a procesos de medida de $A$. En particular para conocer *con qué probabilidad* se producirá cada resultado, lo más conveniente será expandir el estado en la misma \n",
    "\n",
    "$$\n",
    "\\ket{\\psi} = \\sum_{i=1}^N a_i \\ket{\\lambda_i}\\, .\n",
    "$$\n",
    "\n",
    "El axioma IV (regla de Born) afirma que <i>la probabilidad de aparición</i> del resultado $\\lambda_i$ es precisamente \n",
    "\n",
    "$$\n",
    "p(\\lambda_i)=|\\braket{\\lambda_i}{\\psi}|^2  = |a_i|^2 \\, .\n",
    "$$"
   ]
  },
  {
   "cell_type": "markdown",
   "id": "4fb4730d",
   "metadata": {
    "slideshow": {
     "slide_type": "slide"
    }
   },
   "source": [
    "**Tomografía:**\n",
    "\n",
    "La forma de tener *acceso experimental* a los números $p(\\lambda_i)$  es mediante la *repetición estadística*. Si efectuamos la medida un número $n$ de veces con $n\\to \\infty$, y contamos la frecuencia de aparición $n(\\lambda_i)$ de los distintos $\\lambda_i$,\n",
    "en el límite $n\\to \\infty$ la *frecuencia relativa* experimental convergerá a la probabilidad teórica\n",
    "<br>\n",
    "<br>\n",
    "$$\n",
    "\\lim_{n\\to\\infty} \\frac{n(\\lambda_i)}{n} =  p(\\lambda_i)  = |a_i|^2   \\, .\n",
    "$$\n",
    "<br>"
   ]
  },
  {
   "cell_type": "markdown",
   "id": "39636a02",
   "metadata": {
    "slideshow": {
     "slide_type": "slide"
    }
   },
   "source": [
    "Vemos que, mediante repetición estadística, solamente podemos recuperar el *módulo de las amplitudes* \n",
    "<br>\n",
    "<br>\n",
    "\n",
    "$$\n",
    "|a_i| = \\lim_{n\\to\\infty} \\sqrt{\\frac{n(\\lambda_i)}{n} }\n",
    "$$"
   ]
  },
  {
   "cell_type": "markdown",
   "id": "30587e9e",
   "metadata": {},
   "source": [
    "### Valores esperados\n",
    "<a id='valores_esperados'></a>"
   ]
  },
  {
   "cell_type": "markdown",
   "id": "1c86134b",
   "metadata": {},
   "source": [
    "Vemos que la elección de un estado $\\ket{\\psi}$ y un observable $A$ conduce a una variable aleatoria $\\{\\lambda_k,p(\\lambda_k)\\}$ de posibles resultados y sus probabilidades. \n",
    "\n",
    ":::{card}\n",
    "\n",
    "**Definición**\n",
    "\n",
    "^^^\n",
    "\n",
    "\n",
    "Definimos $\\langle A\\rangle_\\psi$ el valor esperado del operador $A$ en el estado $\\ket{\\psi}$, como el *valor medio* de la variable aleatoria $\\{\\lambda_k,p(\\lambda_k)\\}$\n",
    "\n",
    "$$\n",
    "\\langle A\\rangle_\\psi =   \\sum_k \\lambda_k p(\\lambda_k)\n",
    "$$\n",
    "\n",
    ":::"
   ]
  },
  {
   "cell_type": "markdown",
   "id": "68f9103b",
   "metadata": {
    "slideshow": {
     "slide_type": "slide"
    }
   },
   "source": [
    "Rescribamos $p(\\lambda_k)$ en el caso de que sea $\\lambda_k$ sea un autovalor $d_k$ veces degenerado\n",
    "\n",
    "\\begin{eqnarray}\n",
    "p(\\lambda_k) &=& \\sum_{a=1}^{d_k} |\\braket{\\lambda^a_k}{\\psi}|^2  = \n",
    "\\sum_{a=1}^{d_k} \\braket{\\psi}{\\lambda^a_k}\\braket{\\lambda^a_k}{\\psi} \\nonumber\\\\\n",
    "&=&\\bra{\\psi} \\left( \\sum_{a=1}^{d_k} \\ket{\\lambda^a_k}\\bra{\\lambda^a_k}  \\right) = \\bra{\\psi}P_k \\ket{\\psi} \n",
    "\\end{eqnarray}\n",
    "\n",
    "donde \n",
    "$$\n",
    "P_k = \\sum_{a=1}^{d_k} \\ket{\\lambda^a_k}\\bra{\\lambda^a_k}\n",
    "$$\n",
    "es el proyector sobre el subespacio propio."
   ]
  },
  {
   "cell_type": "markdown",
   "id": "840b0991",
   "metadata": {
    "slideshow": {
     "slide_type": "slide"
    }
   },
   "source": [
    "Ahora podemos introducir este resultado en la expresión para el valor esperado de $A$\n",
    "\n",
    "\\begin{eqnarray}\n",
    "\\langle A\\rangle_\\psi &= &  \\sum_k \\lambda_k p(\\lambda_k)\n",
    "   =  \\sum_k \\lambda_k \\bra{\\psi}P_k\\ket{\\psi}  \n",
    "&=& \\bra{\\psi}\\left(\\sum_k \\lambda_k P_k  \\right) \\ket{\\psi} \n",
    "\\end{eqnarray}\n",
    "\n",
    "Reconocemos entre paréntesis la descomposición espectral de $A$. Llegamos así a la siguiente expresión para el valor esperado de un observable $A$ en un estado $\\ket{\\psi}$\n",
    "\n",
    ":::{card}\n",
    "\n",
    "**Teorema**\n",
    "\n",
    "^^^\n",
    "\n",
    "El valor esperado de un observable $A$ en un estado $\\ket{\\psi}$ viene dado por la expresión siguiente:\n",
    "\n",
    "$$\n",
    "\\langle A \\rangle=\\bra{\\psi}A \\ket{\\psi} \n",
    "$$\n",
    "\n",
    ":::"
   ]
  },
  {
   "cell_type": "markdown",
   "id": "dea2daaf",
   "metadata": {
    "slideshow": {
     "slide_type": "slide"
    }
   },
   "source": [
    "En particular, las probabilidades mismas se pueden entender como *valores esperados del proyector asociado*\n",
    "\n",
    "$$\n",
    "p(\\lambda_k ) =  \\bra{\\psi}P_k\\ket{\\psi} = \\langle P_k\\rangle_\\psi \n",
    "$$"
   ]
  },
  {
   "cell_type": "markdown",
   "id": "bf0d0e34",
   "metadata": {
    "slideshow": {
     "slide_type": "slide"
    }
   },
   "source": [
    ":::{admonition} Ejercicio\n",
    ":class: tip\n",
    "\n",
    "podemos ordenar el espectro de un observable  $\\lambda_{min}<...<\\lambda_{max}$.\n",
    "Demuestra que el valor esperado de un observable $A$ está acotado entre sus valores propios mínimo y máximo\n",
    "\n",
    "$$\n",
    "\\lambda_{min} \\leq \\bra{\\psi}A\\ket{\\psi} \\leq \\lambda_{max}\n",
    "$$\n",
    "\n",
    "las desigualdades anteriores se saturan  cuando $\\ket{\\psi}$ son  los autoestados correspondientes\n",
    "\n",
    ":::"
   ]
  },
  {
   "cell_type": "markdown",
   "id": "9d51ad3c",
   "metadata": {
    "slideshow": {
     "slide_type": "slide"
    }
   },
   "source": [
    "### Desviación estándar\n",
    "<a id='desviacion_estandar'></a>\n",
    "\n",
    "La *varianza*  es la media de la desviación cuadrática de la variable aleatoria $(\\lambda,p(\\lambda))$ es decir \n",
    "<br>\n",
    "<br>\n",
    "\\begin{eqnarray}\n",
    "~~\\sigma ^2 &=& \\overline{(\\lambda_i-\\bar\\lambda_i)^2} = \\overline{ \\lambda^2 - 2\\lambda\\bar\\lambda +\\bar\\lambda^2}\n",
    "\\\\\n",
    "&=&  \\overline{\\lambda^2} - \\overline{\\lambda}^2 \\rule{0mm}{8mm}\n",
    "\\end{eqnarray}\n",
    "\n",
    "de aquí se sigue que:"
   ]
  },
  {
   "cell_type": "markdown",
   "id": "6ae3a321",
   "metadata": {
    "slideshow": {
     "slide_type": "fragment"
    }
   },
   "source": [
    ":::{card}\n",
    "\n",
    "**Teorema**\n",
    "\n",
    "^^^\n",
    "\n",
    "Las fluctuaciones cuánticas asociadas a la medidad de un observable $A$ en un estado $\\ket{\\psi}$  vienen descritas por la desviación estándar \n",
    "\n",
    "$$ \n",
    "\\sigma(A,\\psi) = \\sqrt{\\bra{\\psi}A^2\\ket{\\psi} - \\bra{\\psi} A\\ket{\\psi}^2}\n",
    "$$\n",
    "\n",
    ":::"
   ]
  },
  {
   "cell_type": "markdown",
   "id": "2a58a43c",
   "metadata": {},
   "source": [
    "La varianza es una medida de *cuan alejado* se encuentra el estado $\\ket{\\psi}$ de ser un autoestado $\\ket{\\lambda_i}$. \n",
    "Efectivamente, evaluada en un estado propio $\\ket{\\lambda_i}$, la varianza se anula\n",
    "\n",
    "$$\n",
    "\\sigma^2 = \\bra{\\lambda_i}A^2\\ket{\\lambda_i} - \\bra{\\lambda_i} A\\ket{\\lambda_i}^2 = \\bra{\\lambda_i}\\lambda_i^2\\ket{\\lambda_i} - \\bra{\\lambda_i} \\lambda_i\\ket{\\lambda_i}^2 = \\lambda_i^2 - \\lambda_i^2 = 0\n",
    "$$"
   ]
  },
  {
   "cell_type": "markdown",
   "id": "3e2d4810",
   "metadata": {},
   "source": [
    ":::{admonition} Ejercicio *(explícaselo a tu ordenador)*\n",
    ":class: tip\n",
    "\n",
    "Escribe una función en python <b>vev_sig</b>($A$,$ket$) que devuelva el valor esperado y la varianza de un observable  $A$ en el estado $ket$.\n",
    "\n",
    ":::"
   ]
  },
  {
   "cell_type": "code",
   "execution_count": 2,
   "id": "ed54aeae",
   "metadata": {
    "slideshow": {
     "slide_type": "slide"
    }
   },
   "outputs": [],
   "source": [
    "def vev_sig(A, ket):\n",
    "\n",
    "####\n",
    "# aquí tu código\n",
    "###\n",
    "    return(np.round(vev,5), np.round(sig,10))"
   ]
  },
  {
   "cell_type": "code",
   "execution_count": 3,
   "id": "cdf9da6f",
   "metadata": {
    "run_control": {
     "marked": false
    },
    "slideshow": {
     "slide_type": "slide"
    }
   },
   "outputs": [
    {
     "ename": "NameError",
     "evalue": "name 'np' is not defined",
     "output_type": "error",
     "traceback": [
      "\u001b[0;31m---------------------------------------------------------------------------\u001b[0m",
      "\u001b[0;31mNameError\u001b[0m                                 Traceback (most recent call last)",
      "Cell \u001b[0;32mIn[3], line 4\u001b[0m\n\u001b[1;32m      1\u001b[0m \u001b[38;5;124m'\u001b[39m\u001b[38;5;124m definamos una matriz hermítica \u001b[39m\u001b[38;5;124m'\u001b[39m\n\u001b[1;32m      2\u001b[0m \u001b[38;5;66;03m#np.random.seed(10) \u001b[39;00m\n\u001b[0;32m----> 4\u001b[0m A \u001b[38;5;241m=\u001b[39m \u001b[43mnp\u001b[49m\u001b[38;5;241m.\u001b[39mmatrix(np\u001b[38;5;241m.\u001b[39mrandom\u001b[38;5;241m.\u001b[39mrandn(\u001b[38;5;241m3\u001b[39m,\u001b[38;5;241m3\u001b[39m) \u001b[38;5;241m+\u001b[39m np\u001b[38;5;241m.\u001b[39mrandom\u001b[38;5;241m.\u001b[39mrandn(\u001b[38;5;241m3\u001b[39m,\u001b[38;5;241m3\u001b[39m)\u001b[38;5;241m*\u001b[39m\u001b[38;5;241m1\u001b[39mj)\n\u001b[1;32m      5\u001b[0m A \u001b[38;5;241m+\u001b[39m\u001b[38;5;241m=\u001b[39m  A\u001b[38;5;241m.\u001b[39mgetH()\n\u001b[1;32m      7\u001b[0m eigvals, eigvecs \u001b[38;5;241m=\u001b[39m np\u001b[38;5;241m.\u001b[39mlinalg\u001b[38;5;241m.\u001b[39meigh(A)\n",
      "\u001b[0;31mNameError\u001b[0m: name 'np' is not defined"
     ]
    }
   ],
   "source": [
    "' definamos una matriz hermítica '\n",
    "#np.random.seed(10) \n",
    "\n",
    "A = np.matrix(np.random.randn(3,3) + np.random.randn(3,3)*1j)\n",
    "A +=  A.getH()\n",
    "\n",
    "eigvals, eigvecs = np.linalg.eigh(A)\n",
    "\n",
    "np.round(eigvals,4)"
   ]
  },
  {
   "cell_type": "markdown",
   "id": "b191805b",
   "metadata": {
    "slideshow": {
     "slide_type": "slide"
    }
   },
   "source": [
    "A continuación evaluamos el valor esperado en un vector aleatorio, y en dos autovectores de $A$"
   ]
  },
  {
   "cell_type": "code",
   "execution_count": 4,
   "id": "dc5c287a",
   "metadata": {},
   "outputs": [
    {
     "ename": "NameError",
     "evalue": "name 'np' is not defined",
     "output_type": "error",
     "traceback": [
      "\u001b[0;31m---------------------------------------------------------------------------\u001b[0m",
      "\u001b[0;31mNameError\u001b[0m                                 Traceback (most recent call last)",
      "Cell \u001b[0;32mIn[4], line 2\u001b[0m\n\u001b[1;32m      1\u001b[0m \u001b[38;5;124m'\u001b[39m\u001b[38;5;124mdefinamos un ket\u001b[39m\u001b[38;5;124m'\u001b[39m\n\u001b[0;32m----> 2\u001b[0m vec1 \u001b[38;5;241m=\u001b[39m \u001b[43mnp\u001b[49m\u001b[38;5;241m.\u001b[39mrandom\u001b[38;5;241m.\u001b[39mrandn(\u001b[38;5;28mlen\u001b[39m(A),\u001b[38;5;241m1\u001b[39m)   \u001b[38;5;66;03m# este es un autovector aleatorio\u001b[39;00m\n\u001b[1;32m      3\u001b[0m vec2 \u001b[38;5;241m=\u001b[39m eigvecs[:,\u001b[38;5;241m0\u001b[39m]           \u001b[38;5;66;03m# este es el autovector de autovalor mínimo\u001b[39;00m\n\u001b[1;32m      4\u001b[0m vec3 \u001b[38;5;241m=\u001b[39m eigvecs[:,\u001b[38;5;241m-\u001b[39m\u001b[38;5;241m1\u001b[39m]          \u001b[38;5;66;03m# éste es un autovector de autovalor máximo\u001b[39;00m\n",
      "\u001b[0;31mNameError\u001b[0m: name 'np' is not defined"
     ]
    }
   ],
   "source": [
    "'definamos un ket'\n",
    "vec1 = np.random.randn(len(A),1)   # este es un autovector aleatorio\n",
    "vec2 = eigvecs[:,0]           # este es el autovector de autovalor mínimo\n",
    "vec3 = eigvecs[:,-1]          # éste es un autovector de autovalor máximo\n",
    "\n",
    "ket = vec2       # elegimos uno \n",
    "\n",
    "'normalizado'\n",
    "norma=np.sqrt(np.dot(ket.conj().T,ket)[0,0]).real \n",
    "uket = ket/norma\n",
    "\n",
    "\n",
    "vev, sig = vev_sig(A,uket)\n",
    "\n",
    "print('<A>= ',vev, ' sigma = ', sig)"
   ]
  },
  {
   "cell_type": "markdown",
   "id": "464e2fc5",
   "metadata": {
    "slideshow": {
     "slide_type": "slide"
    }
   },
   "source": [
    "## Evolución temporal"
   ]
  },
  {
   "cell_type": "markdown",
   "id": "a8cfe330",
   "metadata": {
    "slideshow": {
     "slide_type": "slide"
    }
   },
   "source": [
    "### Ecuación de Schrödinger\n",
    "\n",
    "El estado de un sistema $\\ket{\\psi(t)}$ posee la máxima información instantánea accesible de un sistema, es decir, a un tiempo dado $t$.\n",
    "\n",
    "Dado $\\ket{\\psi(t_0)}$ en un instante inicial $t_0$, la evolución posterior obedece a la  ecuación diferencial de Schrödinger\n",
    "\n",
    "$$\n",
    " \\displaystyle \\frac{d}{d t}\\ket{\\psi(t)} =-\\frac{i}{\\hbar} H(t) \\ket{\\psi(t)} \\, .\n",
    "$$\n",
    "\n",
    "Hemos enfatizado el hecho de que, en el caso más general, $H(t)$ puede depender del tiempo."
   ]
  },
  {
   "cell_type": "markdown",
   "id": "86c62966",
   "metadata": {
    "slideshow": {
     "slide_type": "slide"
    }
   },
   "source": [
    ":::{admonition} Nota\n",
    ":class: note\n",
    "\n",
    "Las cantidades que entran en la ecuación de Schrödinger *tienen unidades*: \n",
    "\n",
    "- el *Hamiltoniano*, $H$, tiene unidades de *energía*. En el SI (Sistema Iternacional) $\\to$ $\\hbox{Julios = J}$\n",
    "\n",
    "\n",
    "- $t$ tiene unidades de *tiempo*, en el SI $\\to$ $\\hbox{segundos = s}$\n",
    "\n",
    "\n",
    "- $\\hbar$ es la constante de Planck, y  tiene unidades de *acción*= energía $\\times$  tiempo. En el SI  $\\to $ $\\hbox{Julios}\\cdot\\hbox{segundo} =  \\hbox{J}\\cdot\\hbox{s}$. $~$ Se trata de una *cantidad universal* \n",
    "\n",
    "$$\n",
    "\\fbox{$\\hbar = 1.054\\times 10^{-34}~~ \\hbox{J}\\cdot\\hbox{s}$}\n",
    "$$    \n",
    "\n",
    ":::"
   ]
  },
  {
   "cell_type": "markdown",
   "id": "5bec3f79",
   "metadata": {
    "slideshow": {
     "slide_type": "slide"
    }
   },
   "source": [
    "### Conservación de la probabilidad.\n",
    "\n",
    "La *hermiticidad* de $H$ se relaciona directamente con la interpretación probabilística de $\\ket{\\psi}$."
   ]
  },
  {
   "cell_type": "markdown",
   "id": "af2a43e8",
   "metadata": {},
   "source": [
    "::::{card}\n",
    "\n",
    "**Teorema**\n",
    "\n",
    "^^^\n",
    "\n",
    "\n",
    "En la evolución temporal se conserva la norma del vector de estado\n",
    "    \n",
    ":::{dropdown} Demostración\n",
    "\n",
    "\\begin{eqnarray}\n",
    "\\frac{d}{dt}\\|\\ket{\\psi}\\|^2 = \\frac{d}{dt}\\braket{\\psi(t)}{\\psi(t)} &=& \\left(\\rule{0mm}{3mm}\\frac{d}{dt}\\bra{\\psi(t)}\\right)\\ket{\\psi(t)} + \n",
    "\\bra{\\psi(t)}\\left(\\frac{d}{dt}\\ket{\\psi(t)} \\right)\\nonumber\\\\\n",
    "&=& \\left(\\bra{\\psi(t)}\\frac{i}{\\hbar}H^\\dagger\\right)\\ket{\\psi(t)} + \\bra{\\psi(t)}\\left(-\\frac{i}{\\hbar}H\\ket{\\psi(t)} \\right) \\nonumber\\\\\n",
    "&=&\\frac{i}{\\hbar} \\bra{\\psi(t)}(H^\\dagger - H)\\ket{\\psi(t)} = 0\n",
    "\\end{eqnarray}\n",
    "\n",
    "Es decir: $\\|\\ket{\\psi}\\|$ no cambia con el tiempo, y \n",
    "esto implica que la norma de $\\ket{\\psi(t)}$ se conserva $\\Rightarrow 1 = \\|\\ket{\\psi(0)}\\| =\\|\\ket{\\psi(t)}\\|$\n",
    "\n",
    ":::\n",
    "::::"
   ]
  },
  {
   "cell_type": "markdown",
   "id": "e33a2a51",
   "metadata": {
    "slideshow": {
     "slide_type": "slide"
    }
   },
   "source": [
    "### Operador de Evolución\n",
    "\n",
    "<a id='operador_evolucion'></a>\n",
    "\n",
    "La conservación de la norma implica que la evolución $\\|\\ket{\\psi(0)\\|} =\\|\\ket{\\psi(t)}\\|$ es un *proceso unitario*. \n",
    "En otras palabras, debe existir un operador unitario \n",
    "\n",
    "$$\n",
    "U(t,t_0)^{-1}= U(t,t_0)^\\dagger \n",
    "$$\n",
    "\n",
    "que lleve el estado inicial al actual a tiempo $t$\n",
    "\n",
    "$$\n",
    " U(t,t_0): \\ket{\\psi(t_0)}~~ \\to~~ \\rule{0mm}{3.5mm} \\ket{\\psi(t)} = U(t,t_0)\\ket{\\psi(t_0)}\n",
    "$$"
   ]
  },
  {
   "cell_type": "markdown",
   "id": "4e8a30a5",
   "metadata": {
    "slideshow": {
     "slide_type": "slide"
    }
   },
   "source": [
    "El operador de evolución satisface las siguientes propiedades\n",
    "\n",
    " -  $U(t_0,t_0) = I$  \n",
    " <br>\n",
    "\n",
    " -  transitividad:  $U(t,t_1)U(t_1,t_0)= U(t,t_0)$\n",
    " <br>\n",
    " \n",
    " -  invertibilidad: $U(t,t_0)^{-1} = U(t_0,t)$"
   ]
  },
  {
   "cell_type": "markdown",
   "id": "cceb7b45",
   "metadata": {
    "slideshow": {
     "slide_type": "slide"
    }
   },
   "source": [
    "El operador de evolución es el objeto de interés, puesto que es quien nos va a dar el estado a todo tiempo a partir del inicial. Para obtener $U(t)$ tendremos que resolver igualmente una ecuación diferencial\n",
    "\n",
    "::::{card}\n",
    "\n",
    "**Teorema**\n",
    "\n",
    "^^^\n",
    "\n",
    "El operador de evolución satisface la siguiente ecuación diferencial\n",
    "\n",
    "$$\n",
    " \\frac{d}{dt}U(t,t_0) = -\\frac{i}{\\hbar} H(t)\\, U(t,t_0)\n",
    "$$\n",
    "\n",
    ":::{dropdown} Desmostración\n",
    "\n",
    "Tomando la derivada temporal de la ecuación $\\ket{\\psi(t)} = U(t,t_0)\\ket{\\psi(t_0)}$, que define $U(t,t_0)$, tenemos para cada miembro\n",
    "\n",
    "\\begin{eqnarray}\n",
    "\\frac{d}{dt}\\ket{\\psi(t)} &~=~& -\\frac{i}{\\hbar}  H(t)\\ket{\\psi(t)} = -\\frac{i}{\\hbar} H(t)U(t,t_0)\\ket{\\psi(t_0)}  \\nonumber\\\\\n",
    "\\frac{d}{dt}U(t,t_0)\\ket{\\psi(t_0)} &~=~& \\left(\\frac{d}{dt}U(t,t_0)\\right)\\ket{\\psi(t_0)}\n",
    "\\end{eqnarray}\n",
    "\n",
    "Igualando ambas expresiones, y teniendo en cuanto que $\\ket{\\psi_0}$ es arbitrario, obtenemos la ecuación deseada.\n",
    "\n",
    ":::\n",
    "::::"
   ]
  },
  {
   "cell_type": "markdown",
   "id": "1e68628a",
   "metadata": {
    "slideshow": {
     "slide_type": "slide"
    }
   },
   "source": [
    "#### Caso de $H$ independiente del tiempo\n",
    "\n",
    "Cuando $H$ no depende del tiempo podemos dar una expresión analítica para el operador de evolución"
   ]
  },
  {
   "cell_type": "markdown",
   "id": "bffbbbea",
   "metadata": {
    "slideshow": {
     "slide_type": "fragment"
    }
   },
   "source": [
    "::::{card}\n",
    "\n",
    "**Teorema**\n",
    "\n",
    "^^^\n",
    "\n",
    "Para un hamiltoniano $H$ independiente del tiempo, el operador de evolución $U(t,t_0)$ es\n",
    "\n",
    "$$\n",
    "U(t,t_0) = \\exp\\left({-\\frac{i}{\\hbar} (t-t_0)H}\\right)\n",
    "$$\n",
    "\n",
    ":::{dropdown} Demostración\n",
    "\n",
    "Basta con demostrar que se satisface la ecuación de evolución y la condición de contorno\n",
    "\n",
    "\\begin{eqnarray}\n",
    "\\frac{d}{dt}U(t,t_0) &=& \\frac{d}{dt} \\exp\\left({-\\frac{i}{\\hbar} (t-t_0)H}\\right)\n",
    "    \\nonumber\\\\ \\rule{0mm}{6mm}\n",
    "   &=& \\frac{d}{dt}\\left( I +(t-t_0)\\left(-\\frac{i}{\\hbar} H\\right) + \\frac{1}{2!} \n",
    "    (t-t_0)^2\\left(-\\frac{i}{\\hbar} H\\right)^2  + ...\\right) \\nonumber\\\\ \\rule{0mm}{6mm}\n",
    "    &=& 0 +  \\left(-\\frac{i}{\\hbar} H\\right) +  (t-t_0)\\left(-\\frac{i}{\\hbar} H\\right)^2  + ... \\nonumber\\\\ \\rule{0mm}{6mm}\n",
    "&=&  \\left(-\\frac{i}{\\hbar} H\\right)\\left( I + (t-t_0) \\left(-\\frac{i}{\\hbar} H\\right) + ...\\right)\n",
    "  \\nonumber \\\\ \\rule{0mm}{6mm} \n",
    "&=& \\left(-\\frac{i}{\\hbar} H\\right) \\exp\\left({-\\frac{i}{\\hbar} (t-t_0)H}\\right)    \\nonumber\\\\ \\rule{0mm}{6mm}\n",
    "&=& -\\frac{i}{\\hbar} H \\,  U(t,t_0)\n",
    "\\end{eqnarray}\n",
    "Además\n",
    "$$\n",
    "U(t_0,t_0) =  \\exp\\left({-\\frac{i}{\\hbar} (t_0-t_0)H}\\right)=\\exp(0) = I\n",
    "$$\n",
    "\n",
    ":::\n",
    "::::"
   ]
  },
  {
   "cell_type": "markdown",
   "id": "4c512bce",
   "metadata": {
    "slideshow": {
     "slide_type": "fragment"
    }
   },
   "source": [
    ":::{admonition} Nota\n",
    ":class: note\n",
    "\n",
    "La cantidad ${-\\frac{i}{\\hbar} (t-t_0) H }$ es adimensional\n",
    "\n",
    "$$\n",
    "\\frac{1}{\\hbox{J}\\cdot \\hbox{s}}\\hbox{s}\\cdot\\hbox{J} = 1\n",
    "$$   \n",
    "\n",
    "Es decir, es un número puro. Por eso podemos exponenciarla. El operador de evolución $U(t,t_0)$ es, por tanto, también, una magnitud adimensional.\n",
    "\n",
    ":::"
   ]
  },
  {
   "cell_type": "markdown",
   "id": "896cdade",
   "metadata": {},
   "source": [
    ":::{admonition} Ejercicio\n",
    ":class: tip\n",
    "\n",
    "Escribe una función <b>evol_psi</b><i>(t,psi0,H)</i> que reciba como argumentos el array <i>psi0</i> de componentes de $\\ket{\\psi(0)}$, una matriz hermítica <i>H</i>, y un valor de <i>t</i>, y devuelva un vector columna correspondiente a $\\ket{\\psi(t)}$. Considera $\\hbar=1$.\n",
    "\n",
    ":::"
   ]
  },
  {
   "cell_type": "code",
   "execution_count": 5,
   "id": "79c4fd36",
   "metadata": {
    "code_folding": [],
    "slideshow": {
     "slide_type": "fragment"
    }
   },
   "outputs": [],
   "source": [
    "def psi(t,psi0,H):\n",
    "    lpsi = len(psi0)\n",
    "    lH = H.shape[0]\n",
    "    assert lpsi == lH\n",
    "    \n",
    "    psi0ket =np.array(psi0).reshape(lpsi,1)\n",
    "    \n",
    "    from scipy.linalg import expm\n",
    "    psitket = np.dot(expm(- 1j*t*H),psi0ket)\n",
    "    \n",
    "    return psitket"
   ]
  },
  {
   "cell_type": "markdown",
   "id": "0adfc306",
   "metadata": {
    "slideshow": {
     "slide_type": "slide"
    }
   },
   "source": [
    ":::{admonition} Ejercicio\n",
    ":class: tip\n",
    "\n",
    "Crea un Hamiltoniano aleatorio $2\\times 2$ y considera que la base en la que está escrito es $\\{\\ket{0},\\ket{1}\\}$. Partiendo de cualquiera de ellos, grafica las probabilidades de permanencia $p(\\ket{0}\\to \\ket{0})$ y de transición $p(\\ket{0}\\to \\ket{1})$ como funciones del tiempo (considera que $\\hbar = 1$ por simplicidad). Grafica también el valor esperado de $H$ en ambos estados como función del tiempo. Observa el resultado e intenta explicar por qué es así. \n",
    "\n",
    ":::"
   ]
  },
  {
   "cell_type": "code",
   "execution_count": 6,
   "id": "fbf0bbbd",
   "metadata": {
    "slideshow": {
     "slide_type": "slide"
    }
   },
   "outputs": [
    {
     "ename": "NameError",
     "evalue": "name 'np' is not defined",
     "output_type": "error",
     "traceback": [
      "\u001b[0;31m---------------------------------------------------------------------------\u001b[0m",
      "\u001b[0;31mNameError\u001b[0m                                 Traceback (most recent call last)",
      "Cell \u001b[0;32mIn[6], line 5\u001b[0m\n\u001b[1;32m      2\u001b[0m \u001b[38;5;28;01mfrom\u001b[39;00m \u001b[38;5;21;01mscipy\u001b[39;00m\u001b[38;5;21;01m.\u001b[39;00m\u001b[38;5;21;01mlinalg\u001b[39;00m \u001b[38;5;28;01mimport\u001b[39;00m expm\n\u001b[1;32m      4\u001b[0m \u001b[38;5;124m'\u001b[39m\u001b[38;5;124m definamos un Hamiltoniano \u001b[39m\u001b[38;5;124m'\u001b[39m\n\u001b[0;32m----> 5\u001b[0m A \u001b[38;5;241m=\u001b[39m \u001b[43mnp\u001b[49m\u001b[38;5;241m.\u001b[39mrandom\u001b[38;5;241m.\u001b[39mrandn(\u001b[38;5;241m2\u001b[39m,\u001b[38;5;241m2\u001b[39m) \u001b[38;5;241m+\u001b[39m np\u001b[38;5;241m.\u001b[39mrandom\u001b[38;5;241m.\u001b[39mrandn(\u001b[38;5;241m2\u001b[39m,\u001b[38;5;241m2\u001b[39m)\u001b[38;5;241m*\u001b[39m\u001b[38;5;241m1\u001b[39mj\n\u001b[1;32m      6\u001b[0m A \u001b[38;5;241m=\u001b[39m np\u001b[38;5;241m.\u001b[39masmatrix(A)\n\u001b[1;32m      7\u001b[0m H \u001b[38;5;241m=\u001b[39m A \u001b[38;5;241m+\u001b[39m A\u001b[38;5;241m.\u001b[39mgetH()\n",
      "\u001b[0;31mNameError\u001b[0m: name 'np' is not defined"
     ]
    }
   ],
   "source": [
    "from matplotlib import pyplot as plt\n",
    "from scipy.linalg import expm\n",
    "\n",
    "' definamos un Hamiltoniano '\n",
    "A = np.random.randn(2,2) + np.random.randn(2,2)*1j\n",
    "A = np.asmatrix(A)\n",
    "H = A + A.getH()\n",
    "\n",
    "'estado inicial |psi(0)>'\n",
    "psi0 = [1,0]\n",
    "\n",
    "tend = 2\n",
    "steps = 100\n",
    "tlist= np.linspace(0,tend, steps + 1)\n",
    "\n",
    "'estado a tiempo t |psi(t)>'\n",
    "psitketlist = [psi(tlist[i],psi0,H) for i in range(len(tlist))]\n",
    "\n",
    "'probabilidades'\n",
    "p00list = [np.abs(psitketlist[i][0,0])  for i in range(len(tlist))]\n",
    "p01list = [np.abs(psitketlist[i][1,0])  for i in range(len(tlist))]\n",
    "\n",
    "'valores esperados <H>(t)'\n",
    "psitbralist= [psitketlist[i].conj().reshape(1,2) for i in range(len(tlist))]\n",
    "Hvevtlist = [np.dot(psitbralist[i],np.dot(H,psitketlist[i])).real[0,0] for i in range(len(tlist))]"
   ]
  },
  {
   "cell_type": "markdown",
   "id": "ac17da8b",
   "metadata": {
    "slideshow": {
     "slide_type": "slide"
    }
   },
   "source": [
    "Graficamos"
   ]
  },
  {
   "cell_type": "code",
   "execution_count": 7,
   "id": "57136964",
   "metadata": {},
   "outputs": [
    {
     "ename": "NameError",
     "evalue": "name 'tlist' is not defined",
     "output_type": "error",
     "traceback": [
      "\u001b[0;31m---------------------------------------------------------------------------\u001b[0m",
      "\u001b[0;31mNameError\u001b[0m                                 Traceback (most recent call last)",
      "Cell \u001b[0;32mIn[7], line 6\u001b[0m\n\u001b[1;32m      4\u001b[0m ax1\u001b[38;5;241m.\u001b[39mset_xlabel(\u001b[38;5;124m'\u001b[39m\u001b[38;5;124mtime (s)\u001b[39m\u001b[38;5;124m'\u001b[39m)\n\u001b[1;32m      5\u001b[0m ax1\u001b[38;5;241m.\u001b[39mset_ylabel(\u001b[38;5;124m'\u001b[39m\u001b[38;5;124mp(0i)\u001b[39m\u001b[38;5;124m'\u001b[39m, color\u001b[38;5;241m=\u001b[39m \u001b[38;5;124m'\u001b[39m\u001b[38;5;124mtab:red\u001b[39m\u001b[38;5;124m'\u001b[39m)\n\u001b[0;32m----> 6\u001b[0m ax1\u001b[38;5;241m.\u001b[39mplot(\u001b[43mtlist\u001b[49m,p00list, color\u001b[38;5;241m=\u001b[39m \u001b[38;5;124m'\u001b[39m\u001b[38;5;124mtab:red\u001b[39m\u001b[38;5;124m'\u001b[39m)\n\u001b[1;32m      7\u001b[0m ax1\u001b[38;5;241m.\u001b[39mplot(tlist,p01list, color\u001b[38;5;241m=\u001b[39m \u001b[38;5;124m'\u001b[39m\u001b[38;5;124mtab:orange\u001b[39m\u001b[38;5;124m'\u001b[39m)\n\u001b[1;32m      8\u001b[0m ax1\u001b[38;5;241m.\u001b[39mtick_params(axis\u001b[38;5;241m=\u001b[39m\u001b[38;5;124m'\u001b[39m\u001b[38;5;124my\u001b[39m\u001b[38;5;124m'\u001b[39m, labelcolor\u001b[38;5;241m=\u001b[39m\u001b[38;5;124m'\u001b[39m\u001b[38;5;124mtab:red\u001b[39m\u001b[38;5;124m'\u001b[39m)\n",
      "\u001b[0;31mNameError\u001b[0m: name 'tlist' is not defined"
     ]
    },
    {
     "data": {
      "image/png": "[encoded data removed]",
      "text/plain": [
       "<Figure size 640x480 with 1 Axes>"
      ]
     },
     "metadata": {},
     "output_type": "display_data"
    }
   ],
   "source": [
    "fig, ax1 = plt.subplots()\n",
    "\n",
    "color = 'tab:red'\n",
    "ax1.set_xlabel('time (s)')\n",
    "ax1.set_ylabel('p(0i)', color= 'tab:red')\n",
    "ax1.plot(tlist,p00list, color= 'tab:red')\n",
    "ax1.plot(tlist,p01list, color= 'tab:orange')\n",
    "ax1.tick_params(axis='y', labelcolor='tab:red')\n",
    "\n",
    "ax2 = ax1.twinx()  # instantiate a second axes that shares the same x-axis\n",
    "\n",
    "color = 'tab:blue'\n",
    "ax2.set_ylabel('<H>', color='tab:blue')  # we already handled the x-label with ax1\n",
    "ax2.plot(tlist,Hvevtlist, color='tab:blue')\n",
    "ax2.tick_params(axis='y', labelcolor='tab:blue')\n",
    "\n",
    "fig.tight_layout()  # otherwise the right y-label is slightly clipped\n",
    "plt.show()"
   ]
  },
  {
   "cell_type": "markdown",
   "id": "48dae721",
   "metadata": {
    "slideshow": {
     "slide_type": "slide"
    }
   },
   "source": [
    "### Evolución en la base autoestados de H"
   ]
  },
  {
   "cell_type": "markdown",
   "id": "7ed473cc",
   "metadata": {
    "slideshow": {
     "slide_type": "fragment"
    }
   },
   "source": [
    "Sea $\\{\\ket{n}\\}$ una base de autoestados de $H \\, \\Rightarrow \\,H \\ket{n} = E_n \\ket{n}~~~~n=1,..,N.$\n",
    "\n",
    "En esta base $H$ es una matriz $H_{mn}$ diagonal \n",
    "\n",
    "$$\n",
    "H_{mn} =  \\begin{bmatrix} E_0 &  & & \\\\  & E_1 &  & \\\\ & & \\ddots & \\\\ & & & \\end{bmatrix} =E_m \\delta_{mn} \\, .\n",
    "$$"
   ]
  },
  {
   "cell_type": "markdown",
   "id": "71fb5c7d",
   "metadata": {
    "slideshow": {
     "slide_type": "fragment"
    }
   },
   "source": [
    "Entonces la matriz de evolución es también diagonal \n",
    "\n",
    "$$\n",
    "U_{mn} = \\exp\\left(-\\frac{i}{\\hbar}t H_{mn}\\right) = \n",
    " \\begin{bmatrix} e^{-\\frac{i}{\\hbar}t E_0} &  & & \\\\  & e^{-\\frac{i}{\\hbar} t E_1}  &  & \\\\ & & \\ddots & \\\\ & & & \\end{bmatrix} = e^{-\\frac{i}{\\hbar} t  E_m }\\delta_{mn} \\, .\n",
    "$$"
   ]
  },
  {
   "cell_type": "markdown",
   "id": "42f84e0f",
   "metadata": {
    "slideshow": {
     "slide_type": "slide"
    }
   },
   "source": [
    ":::{admonition} En conclusión\n",
    ":class: attention\n",
    "\n",
    "- La evolución temporal de un autoestado de la energía es trivial (es una fase global)\n",
    "\n",
    "$$\n",
    "U(t,0)\\ket{n} = e^{-\\frac{i}{\\hbar} t E_n} \\ket{n}\\, .\n",
    "$$\n",
    "\n",
    "\n",
    "- Esta fase deja de ser trivial cuando afecta a una combinación lineal. La forma más eficaz de calcular la evolución de un estado arbitrario es expresarla en la base $\\{\\ket{n}\\}$. Es decir, si a $t=0$\n",
    "\n",
    "$$\n",
    "\\ket{\\psi(t=0)} = \\sum_n c_n \\ket{n} \\, \n",
    "$$\n",
    "\n",
    "entonces, a tiempo $t$ \n",
    "\n",
    "$$\n",
    "\\ket{\\psi(t)} = \\sum_n c_n e^{-\\frac{i}{\\hbar}E_n} \\ket{n} \\, .\n",
    "$$\n",
    "\n",
    ":::"
   ]
  }
 ],
 "metadata": {
  "authors": [
   {
    "affiliations": [
     "IGFAE-USC"
    ],
    "corresponding": true,
    "email": "javier.mas@usc.es",
    "name": "Javier Mas",
    "orcid": "0000-0001-7008-2126"
   },
   {
    "affiliations": [
     "UMA"
    ],
    "corresponding": true,
    "email": "david.castano@uma.es",
    "name": "David Castaño",
    "orcid": "0000-0001-7008-2126"
   }
  ],
  "github": "https://github.com/jamasole/Curso-TalentQ-Jupyterlab",
  "jupytext": {
   "text_representation": {
    "extension": ".md",
    "format_name": "myst",
    "format_version": 0.13,
    "jupytext_version": "1.15.2"
   }
  },
  "kernelspec": {
   "display_name": "Python 3 (ipykernel)",
   "language": "python",
   "name": "python3"
  },
  "language_info": {
   "codemirror_mode": {
    "name": "ipython",
    "version": 3
   },
   "file_extension": ".py",
   "mimetype": "text/x-python",
   "name": "python",
   "nbconvert_exporter": "python",
   "pygments_lexer": "ipython3",
   "version": "3.10.13"
  },
  "license": "CC-BY-4.0",
  "math": {
   "\\C": "{\\mathbb C}",
   "\\Hil": "{\\mathcal H}",
   "\\Lin": "\\rm L",
   "\\O": "{\\mathcal O}",
   "\\R": "{\\mathbb R}",
   "\\V": "{\\cal V}",
   "\\bes": "\\begin{equation*}",
   "\\braa": "{\\langle #1|}",
   "\\braket": "{\\langle #1|#2\\rangle}",
   "\\ees": "\\end{equation*}",
   "\\i": "{\\color{blue} i}",
   "\\ket": "{|#1\\rangle}",
   "\\ketbra": "{|#1\\rangle\\langle #2|}",
   "\\tr": "{\\rm tr}"
  },
  "source_map": [
   46,
   52,
   56,
   69,
   73,
   77,
   90,
   107,
   123,
   132,
   136,
   166,
   170,
   178,
   187,
   193,
   211,
   222,
   226,
   231,
   236,
   246,
   261,
   274,
   284,
   289,
   308,
   324,
   350,
   358,
   374,
   390,
   407,
   416,
   425,
   438,
   456,
   460,
   478,
   482,
   497,
   520,
   526,
   552,
   571,
   584,
   614,
   620,
   657,
   672,
   681,
   700,
   709,
   741,
   745,
   766,
   770,
   780,
   790
  ],
  "subject": "Curso",
  "venue": "Quantum Spain"
 },
 "nbformat": 4,
 "nbformat_minor": 5
}