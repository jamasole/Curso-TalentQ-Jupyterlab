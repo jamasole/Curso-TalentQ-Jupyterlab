{
 "cells": [
  {
   "cell_type": "markdown",
   "id": "725c3506",
   "metadata": {},
   "source": [
    "```{figure} ../thumbnails/myThumbnail.png\n",
    ":align: center\n",
    "```"
   ]
  },
  {
   "cell_type": "markdown",
   "id": "3c1fe045",
   "metadata": {
    "slideshow": {
     "slide_type": "slide"
    }
   },
   "source": [
    "# Tensores"
   ]
  },
  {
   "cell_type": "code",
   "execution_count": null,
   "id": "346ba664",
   "metadata": {
    "slideshow": {
     "slide_type": "-"
    }
   },
   "outputs": [],
   "source": [
    "%run ../macro_tQ.py\n",
    "\n",
    "import sys\n",
    "sys.path.append('../')\n",
    "import macro_tQ as tQ\n",
    "\n",
    "import numpy as np\n",
    "import scipy.linalg as la\n",
    "from IPython.display import display,Markdown,Latex\n",
    "import matplotlib.pyplot as plt\n",
    "from qiskit.tools.visualization import array_to_latex"
   ]
  },
  {
   "cell_type": "markdown",
   "id": "0a1e55a1",
   "metadata": {
    "slideshow": {
     "slide_type": "slide"
    }
   },
   "source": [
    "## Producto Tensorial"
   ]
  },
  {
   "cell_type": "markdown",
   "id": "a3d4793b",
   "metadata": {
    "slideshow": {
     "slide_type": "skip"
    }
   },
   "source": [
    "En física clásica a cada *grado de libertad* se le asocia una variable real o compleja. En Mecánica Cuántica, se le asocia un vector en un espacio de Hilbert. \n",
    "\n",
    "Los sistemas físicos, en general, tienen más de un grado de libertad. En física clásica les asociamos funciones multi-variable. En Mecánica Cuántica la estructura matemática adecuada es el **producto tensorial** de espacios vectoriales."
   ]
  },
  {
   "cell_type": "markdown",
   "id": "127d6452",
   "metadata": {
    "slideshow": {
     "slide_type": "skip"
    }
   },
   "source": [
    ":::{card}\n",
    "\n",
    "**Definición**\n",
    "\n",
    "^^^\n",
    "\n",
    "Sean $\\Hil_1$ y $\\Hil_2$ dos espacios de Hilbert.  Dados dos vectores $\\ket{u}_1\\in \\Hil_1$ y  $\\ket{v}_2\\in \\Hil_2$, denominamos <i>producto tensorial</i> al par ordenado\n",
    "\n",
    "$$\n",
    "\\ket{uv} ~\\equiv \\ket{u}_1\\otimes \\ket{v}_2\n",
    "$$\n",
    "\n",
    ":::"
   ]
  },
  {
   "cell_type": "markdown",
   "id": "dd2d81d0",
   "metadata": {
    "slideshow": {
     "slide_type": "skip"
    }
   },
   "source": [
    "Como si se tratara de un producto ordinario, el producto tensorial satisface la **propiedad distributiva**\n",
    "<br>\n",
    "<br>\n",
    "\\begin{eqnarray}\n",
    "\\big(\\ket{u}+\\ket{v}\\big)\\otimes \\big(\\ket{y}+\\ket{z}\\big) ~&= ~~\n",
    "\\ket{u}\\otimes\\ket{y} ~+~ \\ket{u}\\otimes\\ket{z} ~+~ \\ket{v}\\otimes\\ket{y} ~+~~\n",
    " \\ket{v}\\otimes\\ket{z} \\\\\n",
    " \\rule{0mm}{8mm}\n",
    " &= ~~ \\ket{uy} + \\ket{uz} + \\ket{vy} + \\ket{vz}\n",
    "\\end{eqnarray}"
   ]
  },
  {
   "cell_type": "markdown",
   "id": "5f0d70ee",
   "metadata": {},
   "source": [
    "Este cálculo tan inocente esconde un hecho crucial: los elementos $\\big(\\ket{u}+\\ket{v}\\big)\\otimes \\big(\\ket{y}+\\ket{z}\\big)$ y $\\big(\\ket{u}\\otimes\\ket{y}+ \\ket{u}\\otimes\\ket{z}\\big)$ son <u>diferentes</u>. \n",
    "\n",
    " Es por esto que, para dotar de estructura de espacio vectorial al conjunto de productos tensoriales <u>de forma consistente con la distributividad</u>,  debamos incluir todas las posibles combinaciones como elementos independientes"
   ]
  },
  {
   "cell_type": "markdown",
   "id": "43610ccb",
   "metadata": {
    "slideshow": {
     "slide_type": "-"
    }
   },
   "source": [
    ":::{card}\n",
    "\n",
    "**Definición**\n",
    "\n",
    "^^^\n",
    "\n",
    "Sean $V_1$ y $V_2$ dos espacios vectorieles. El  <b>espacio producto tensorial</b>  $V = V_1 \\otimes V_2$ está formado por  <u>todas las combinaciones lineales</u> posibles de   <u>pares ordenados</u> \n",
    "\n",
    "$$\n",
    "\\ket{s}= a\\ket{u}_1\\otimes\\ket{u}_2 ~+~ b \\ket{v}_1\\otimes\\ket{v}_2 ~+ ~...\n",
    "$$\n",
    "  \n",
    "donde  $\\ket{u}_1,\\ket{v}_1,...\\in V_1\\, ~$ y $~\\, \\ket{u}_2,\\ket{v}_2,...\\in V_2~$,\n",
    "    y $~a,b,... \\in {\\mathbb C}$ son coeficientes complejos.\n",
    "\n",
    ":::"
   ]
  },
  {
   "cell_type": "markdown",
   "id": "3c3c468a",
   "metadata": {
    "slideshow": {
     "slide_type": "skip"
    }
   },
   "source": [
    ":::{admonition} Nota\n",
    ":class: note\n",
    "    \n",
    "- Prescindiremos del subíndice $\\ket{u}_1\\otimes \\ket{y}_2=\\ket{u}\\otimes \\ket{y} \\equiv \\ket{uy}$ que estará implícito en el orden. \n",
    "<br>       \n",
    "- Para computación cuántica con <i>cúbits (cúdits)</i>, el valor relevante es $d=2\\,(d\\geq 3)$. \n",
    "<br>\n",
    "- En adelante supondremos que los espacios vectoriales $V_{1,2} = \\Hil_{1,2}$ son espacios de Hilbert\n",
    "\n",
    ":::"
   ]
  },
  {
   "cell_type": "markdown",
   "id": "faaa97ff",
   "metadata": {
    "slideshow": {
     "slide_type": "slide"
    }
   },
   "source": [
    "### Base y Dimensión"
   ]
  },
  {
   "cell_type": "markdown",
   "id": "59e4a8ad",
   "metadata": {
    "slideshow": {
     "slide_type": "-"
    }
   },
   "source": [
    "- Sea $\\ket{i_1}$ una base de $\\Hil_1$ y $\\ket{i_2}$ una base de $\\Hil_2$. Entonces, una base de $\\Hil_1\\otimes \\Hil_2$ se obtiene\n",
    "a partir de *todos* los emparejamientos \n",
    "<br>\n",
    "<br>\n",
    "$$\n",
    "\\ket{i_1 i_2} = \\ket{i_1}\\otimes \\ket{i_2}~~~~~~~~~~~~~~~~~~ \n",
    "$$\n",
    "<br>\n",
    "con\n",
    "$\n",
    "i_1=0....d_1-1$ y $i_2=0,...,d_2-1\n",
    "$"
   ]
  },
  {
   "cell_type": "markdown",
   "id": "510ed335",
   "metadata": {
    "slideshow": {
     "slide_type": "-"
    }
   },
   "source": [
    "-  El número parejas posibles es $d_1d_2$, que coincide con la **dimensión** de $\\Hil_1\\otimes \\Hil_2$."
   ]
  },
  {
   "cell_type": "markdown",
   "id": "34238baf",
   "metadata": {
    "slideshow": {
     "slide_type": "slide"
    }
   },
   "source": [
    "- Vemos que las etiquetas de los vectores de la base forman un *bi-índice* $\\to i_1 i_2$ que asume $d_1 d_2$ parejas de valores distintos"
   ]
  },
  {
   "cell_type": "markdown",
   "id": "dfed7178",
   "metadata": {
    "slideshow": {
     "slide_type": "-"
    }
   },
   "source": [
    "- Un *vector* se escribirá igualmente usando $d_1 d_2$ <i>componentes</i> complejas $w_{i_1 i_2}$, etiquetadas mediante un bi-índice en lugar de un índice\n",
    "<br>\n",
    "<br>\n",
    "\\begin{eqnarray}\n",
    "\\ket{\\omega} & ~= ~& \n",
    "w_{00}\\ket{00} + w_{01}\\ket{01} + ... + w_{10}\\ket{10} + ...\\ldots + w_{d_1 d_2}\\ket{d_1 d_2} \\nonumber\\\\\n",
    "\\rule{0mm}{10mm}\n",
    "&~=~& \\sum_{i_1=0}^{d_1-1}\\sum_{i_2=0}^{d_2-1} w_{i_1i_2} \\ket{i_1 i_2} \n",
    "\\end{eqnarray}"
   ]
  },
  {
   "cell_type": "markdown",
   "id": "6d0638cf",
   "metadata": {
    "slideshow": {
     "slide_type": "slide"
    }
   },
   "source": [
    "### Indexación equivalente\n",
    "\n",
    "Podemos etiquetar las componentes (o los elementos de la base) con índices, en lugar de bi-índices\n",
    "\n",
    "Para ello basta con definir un mapa  entre dos bi-índices $i_1,i_2$ y un índice $a$ \n",
    "\n",
    "$$\n",
    "\\ket{w} ~= ~ \\sum_{i_1=0}^{d_1-1}\\sum_{i_2=0}^{d_2-1} w_{i_1 i_2} \\ket{i_1 i_2} ~=~ \\sum_{a=0}^{d_1d_2-1} w_{a} \\ket{a}\n",
    "$$\n",
    "<br>\n",
    "donde hemos querido resaltar que las componente y  los vectores son los mismos, etiquetados de forma diferente."
   ]
  },
  {
   "cell_type": "markdown",
   "id": "ef5e0021",
   "metadata": {
    "slideshow": {
     "slide_type": "fragment"
    }
   },
   "source": [
    " En el caso genera el mapa es \n",
    "<br>\n",
    "\n",
    "$$\n",
    "i_1 i_2 ~~\\to ~~ a = d_2*i_1 + i_2  \n",
    "$$\n",
    "<br>\n",
    "Claramente $a = 0,...,d_1d_2-1$"
   ]
  },
  {
   "cell_type": "markdown",
   "id": "28b011ec",
   "metadata": {
    "slideshow": {
     "slide_type": "slide"
    }
   },
   "source": [
    "### Producto de Kronecker"
   ]
  },
  {
   "cell_type": "markdown",
   "id": "12f83997",
   "metadata": {
    "slideshow": {
     "slide_type": "-"
    }
   },
   "source": [
    "Como sabemos, cualquier vector admite, en una base, una representación como un vector columna con sus coeficientes como entradas. \n",
    "\n",
    "<br>\n",
    "<br>\n",
    "$$\n",
    "\\ket{w} ~= ~ \\sum_{i,j=1}^2 w_{ij} \\ket{e_{ij}}\\sim~ \\begin{pmatrix}w_{11}\\\\ w_{12}\\\\ w_{21} \\\\ w_{22}  \\end{pmatrix}  ~  \n",
    "$$"
   ]
  },
  {
   "cell_type": "markdown",
   "id": "15db3ae3",
   "metadata": {
    "slideshow": {
     "slide_type": "skip"
    }
   },
   "source": [
    "La matriz columna asociada $\\ket{uv}= \\ket{u}\\otimes \\ket{v}$ se forma a partir de las matrices columna de $\\ket{u}$ y $\\ket{v}$ mediante el denominado *producto de Kronecker* o, también *producto tensorial*. \n",
    "<br>\n",
    "<br>\n",
    "\n",
    "$$\n",
    " \\ket{uv} = \\ket{u}\\otimes \\ket{v} ~\\sim~ \n",
    "\\begin{pmatrix}u_1\\\\ u_2 \\end{pmatrix}\\otimes \\begin{pmatrix}v_1\\\\ v_2 \\end{pmatrix} ~\\equiv ~\n",
    "\\begin{pmatrix}u_1 \\begin{pmatrix}v_1\\\\ v_2 \\end{pmatrix} \\\\ u_2 \\begin{pmatrix}v_1\\\\ v_2 \\end{pmatrix}  \\end{pmatrix}\n",
    "~=~\\begin{pmatrix}u_1v_1\\\\ u_1v_2 \\\\ u_2 v_1 \\\\ u_2 v_2  \\end{pmatrix}\n",
    "$$"
   ]
  },
  {
   "cell_type": "markdown",
   "id": "a19d60b1",
   "metadata": {
    "slideshow": {
     "slide_type": "skip"
    }
   },
   "source": [
    ":::{admonition} Nota\n",
    ":class: note\n",
    "\n",
    "Con dos vectores $\\ket{u} = \\sum_i u_i \\ket{e_i}$ y $\\ket{v} = \\sum_i v_i \\ket{e_i} \\in \\Hil$, hay dos objetos muy parecidos que podemos formar\n",
    "\n",
    "1. un operador $\\Omega = \\ketbra{u}{v} = \\sum_{ij}u_i v^*_j\\ketbra{e_i}{e_j} \\in \\Lin(\\Hil)$.  \n",
    "<br>\n",
    "    \n",
    "2. un vector $\\ket{\\omega} = \\ket{u}\\otimes \\ket{v} = \\sum_{ij} u_i v_j \\ket{e_i} \\ket{e_j} \\in \\Hil\\otimes \\Hil$. \n",
    "    \n",
    "Nota la conjugación compleja relativa entre las dos matrices de componentes $\\Omega_{ij} = u^*_i v_j$ y $\\omega_{ij} =  u_i v_j$.\n",
    "\n",
    ":::"
   ]
  },
  {
   "cell_type": "markdown",
   "id": "6e80c474",
   "metadata": {
    "slideshow": {
     "slide_type": "skip"
    }
   },
   "source": [
    ":::{admonition} Ejercicio\n",
    ":class: tip\n",
    "\n",
    "Escribe una función  <i>kronecker(u,v)</i> que tome dos kets (como vectores columna)  y devuelva su producto de Kronecker. Verifica el resultado con la funcion $kron$ de numpy.\n",
    "\n",
    ":::"
   ]
  },
  {
   "cell_type": "markdown",
   "id": "3186d565",
   "metadata": {
    "slideshow": {
     "slide_type": "slide"
    }
   },
   "source": [
    "## Factorización y Entrelazamiento"
   ]
  },
  {
   "cell_type": "markdown",
   "id": "cee26c8b",
   "metadata": {
    "slideshow": {
     "slide_type": "-"
    }
   },
   "source": [
    ":::{card}\n",
    "\n",
    "**Definición** *(Vector entrelazado)*\n",
    "\n",
    "^^^\n",
    "\n",
    "Decimos que, un vector $\\ket{w}\\in \\Hil\\otimes\\Hil$ es <b>factorizable</b> cuando es posible encontrar vectores $\\ket{u},\\ket{v}\\in \\Hil$ tales que $ \\ket{w} = \\ket{u}\\otimes\\ket{v}$.\n",
    "\n",
    "Cuando esto no sea posible, decimos que  $\\ket{w}$ es un vector <b>entrelazado</b>.\n",
    ":::"
   ]
  },
  {
   "cell_type": "markdown",
   "id": "d11ae1e1",
   "metadata": {
    "slideshow": {
     "slide_type": "skip"
    }
   },
   "source": [
    "Ya hemos visto que, dada una base $\\ket{e_i}$ de $\\Hil$, el vector más general que pertenece al espacio producto admite una descomposición \n",
    "\n",
    "$$\n",
    "\\ket{w} = \\sum_{i,j=1}^d w_{ij}\\ket{e_{i}}\\otimes \\ket{e_j} = w_{11}\\ket{e_1}\\otimes\\ket{e_1} + w_{12}\\ket{e_1}\\otimes\\ket{e_2} + ...\\, .\n",
    "$$"
   ]
  },
  {
   "cell_type": "markdown",
   "id": "afc62164",
   "metadata": {
    "slideshow": {
     "slide_type": "skip"
    }
   },
   "source": [
    "Podría ocurrir que en otra base $\\ket{w} = \\tilde w_{11} \\ket{f_1}\\otimes\\ket{f_1}$ sólo tuviese un término y fuese factorizable."
   ]
  },
  {
   "cell_type": "markdown",
   "id": "2bd59f37",
   "metadata": {
    "slideshow": {
     "slide_type": "skip"
    }
   },
   "source": [
    "Discernir si un vector es factorizable o entrelazado no es algo que se pueda hacer a primera vista."
   ]
  },
  {
   "cell_type": "markdown",
   "id": "33e1486e",
   "metadata": {
    "slideshow": {
     "slide_type": "slide"
    }
   },
   "source": [
    "### Criterio de factorizabilidad\n",
    "\n",
    "\n",
    ":::{card}\n",
    "\n",
    "Criterio de factorización\n",
    "\n",
    "^^^\n",
    "\n",
    "El estado es $\\ket{w}$ es factorizable si y sólo si las componentes $w_{ij}$ son factorizables en la forma $w_{ij} = u_i v_j~$ con $i=1,...,d_1$ y $j = 1,...,d_2$. \n",
    "\n",
    ":::"
   ]
  },
  {
   "cell_type": "markdown",
   "id": "6af356f9",
   "metadata": {
    "slideshow": {
     "slide_type": "skip"
    }
   },
   "source": [
    ":::{dropdown} Demostración\n",
    "\n",
    "$$\n",
    "\\ket{w}= \\sum_{i,j=1}^d w_{ij} \\ket{e_{ij}}  = \\sum_{i,j} u_{i}v_j \\ket{e_i}\\otimes \\ket{e_j}= \\sum_{i,j} u_{i} \\ket{e_i}\\otimes v_j\\ket{e_j}  ~ =~ \\sum_i u_i\\ket{e_i} \\otimes \\sum_j v_j\\ket{e_j} ~=~   \\ket{u}\\otimes \\ket{v}\n",
    "$$\n",
    "\n",
    "identidad que se puede leer en ambos sentidos\n",
    "\n",
    ":::"
   ]
  },
  {
   "cell_type": "markdown",
   "id": "084ca453",
   "metadata": {
    "slideshow": {
     "slide_type": "fragment"
    }
   },
   "source": [
    "- El carácter entrelazado de un vector es <i>genérico</i>, mientras que el carácter factorizable es <i>accidental</i>.\n",
    "<br>\n",
    "\n",
    "- Esto se sigue de un sencillo contaje: \n",
    "\n",
    "    - como función de $d$,  $\\{w_{ij}\\}$ forma un conjunto de $d_1d_2$ parámetros complejos (grados de libertad). \n",
    "\n",
    "    - Sin embargo en $\\{u_i v_j\\}$ sólo hay $d_1 + d_2$ números independientes. Es evidente que $d_1 d_2 \\gg d_1 + d_2$."
   ]
  },
  {
   "cell_type": "markdown",
   "id": "da582baf",
   "metadata": {
    "slideshow": {
     "slide_type": "slide"
    }
   },
   "source": [
    "-  En el caso  $d_1 = d_2 =2$  la condición de *factorizabilidad* $~\\Rightarrow ~w_{ij} = u_i v_j$ es <i>equivalente</i> a verificar\n",
    "    la anulación del  determinante de la matriz $2\\times 2$ formada por las componentes\n",
    "<br>\n",
    "    \n",
    "$$\\det w_{ij} =  w_{11}w_{22}- w_{12}w_{21} = u_1v_1u_2v_2-u_1v_2u_2v_1=0$$  \n",
    "\n",
    "<br>\n",
    "\n",
    "- En el caso general $d_1, d_2 \\geq 2$ la busqueda de un criterio para detectar si $w_{ij}$ es factorizable o entrelazado pasa por la descomposición de Schmidt."
   ]
  },
  {
   "cell_type": "markdown",
   "id": "991b4605",
   "metadata": {
    "slideshow": {
     "slide_type": "slide"
    }
   },
   "source": [
    "### Descomposición de Schmidt"
   ]
  },
  {
   "cell_type": "markdown",
   "id": "970ca666",
   "metadata": {
    "slideshow": {
     "slide_type": "-"
    }
   },
   "source": [
    "Supongamos que, en sendas bases arbitrarias $\\{\\ket{e_{1,i}},~ i=1,...,d_1\\}$  de $\\Hil_1$ y  $\\{\\ket{e_{2,a}},~a=1,...,d_2\\}$  de $\\Hil_2$ nuestro vector se escribe\n",
    "\n",
    "$$\n",
    "\\ket{w} = \\sum_{i=1}^{d_1}\\sum_{a=1}^{d_2} w_{ia} \\ket{e_{1,i}}\\otimes \\ket{e_{2,a}}\n",
    "$$"
   ]
  },
  {
   "cell_type": "markdown",
   "id": "0e6a9036",
   "metadata": {
    "slideshow": {
     "slide_type": "skip"
    }
   },
   "source": [
    "Los valores de las *componentes* $w_{ia}$ **dependen de las bases escogida**. En *otras* base $\\ket{ \\tilde e_{1,i}}\\otimes\\ket{\\tilde e_{2,a}}$ encontraremos *otras* componentes $\\tilde w_{ia}$ para el *mismo* vector \n",
    "<br>"
   ]
  },
  {
   "cell_type": "markdown",
   "id": "c1a792f8",
   "metadata": {
    "slideshow": {
     "slide_type": "skip"
    }
   },
   "source": [
    "Si existe una base en la que $\\tilde w_{ia}=0$ para todos los $i,a$ menos para uno (por ejemplo $\\tilde w_{11}\\neq 0$), entonces \n",
    "<br>\n",
    "<br>\n",
    "$$\\ket{w}= \\tilde w_{11}\\ket{\\tilde e_{1,1}}\\otimes \\ket{\\tilde e_{2,1}}$$ \n",
    "<br>\n",
    "y, secretamente, el vector $\\ket{w}$ era factorizable."
   ]
  },
  {
   "cell_type": "markdown",
   "id": "09e6768a",
   "metadata": {
    "slideshow": {
     "slide_type": "skip"
    }
   },
   "source": [
    "El siguiente teorema nos permite averiguar **cuánto nos podemos acercar a esta situación**"
   ]
  },
  {
   "cell_type": "markdown",
   "id": "255c6e34",
   "metadata": {
    "slideshow": {
     "slide_type": "slide"
    }
   },
   "source": [
    ":::{card}\n",
    "\n",
    "**Teorema** *(de Schmidt)*\n",
    "\n",
    "^^^\n",
    "\n",
    "Para cada vector $\\ket{w}\\in \\Hil_1\\otimes \\Hil_2$, existen sendas  bases  $\\ket{f_{1,i}}$  de $\\Hil_1$ y  $\\ket{f_{2,a}}$  de $\\Hil_2$, tales que, podemos expresar \n",
    "\n",
    "$$\n",
    "\\ket{w} = \\sum_{i=1}^r s_i \\ket{f_{1,i}}\\otimes\\ket{f_{2,i}} \\, ,\n",
    "$$\n",
    "    \n",
    "donde $s_i>0$, y la suma   involucra el <i>mínimo número</i>, $r$, de términos.\n",
    "\n",
    ":::"
   ]
  },
  {
   "cell_type": "markdown",
   "id": "11a31e30",
   "metadata": {
    "slideshow": {
     "slide_type": "slide"
    }
   },
   "source": [
    "El número $1\\leq r\\leq {\\rm min}(d_1,d_2)$ se denomina <b>rango</b> de $w$ y  es la información relevante  porque \n",
    "\n",
    "-  cuando $r=1$ el estado $\\ket{w}$ será *factorizable*. \n",
    "<br>\n",
    "<br>\n",
    "-  si $r\\geq 2$ el estado será *entrelazado*."
   ]
  },
  {
   "cell_type": "markdown",
   "id": "8c6536bd",
   "metadata": {
    "slideshow": {
     "slide_type": "slide"
    }
   },
   "source": [
    "La *demostración del Teorema de Schmidt* es interesante porque nos da un **método constructivo** para encontrar la descomposición. \n",
    "\n",
    "Supongamos que nuestro vector se escribe\n",
    "\n",
    "$$\n",
    "\\ket{w} = \\sum_{i=1}^{d_2}\\sum_{a=1}^{d_2} w_{ia} \\ket{e_{1,i}}\\otimes \\ket{e_{2,a}}\n",
    "$$\n",
    "\n",
    "La matriz de coeficientes $w_{ia}$ tiene  dimension $d_1\\times d_2$. \n",
    "Asumiremos $d_1 \\geq d_2$ sin pérdida de generalidad"
   ]
  },
  {
   "cell_type": "markdown",
   "id": "b2ab9824",
   "metadata": {
    "slideshow": {
     "slide_type": "slide"
    }
   },
   "source": [
    " El **teorema SVD** de descomposición en valores singulares, nos garantiza que podemos expresar dicha matriz en la forma siguiente\n",
    "<br>\n",
    "\n",
    "$$\n",
    "w = U\\Sigma V^\\dagger ~~~\\Rightarrow ~~~~w_{ia} = \\sum_{j=1}^{d_1}\\sum_{b=1}^{d_2} U_{ij}\\Sigma_{jb}V_{ab}^*\n",
    "$$\n",
    "\n",
    "donde $U$ y $V$ son unitarias $(d_1\\times d_1)$ y $(d_2\\times d_2)$ respectivamente, mientras que $\\Sigma$ es diagonal"
   ]
  },
  {
   "cell_type": "markdown",
   "id": "6c869642",
   "metadata": {
    "slideshow": {
     "slide_type": "slide"
    }
   },
   "source": [
    "$$\n",
    "\\Sigma_{jb} = \n",
    "\\overbrace{\\left.\n",
    "\\begin{bmatrix}\n",
    "s_1 &\\cdots  &    &  & & &  0  \\\\  \\vdots & \\ddots & & & & & \\vdots  \\\\  & & s_r & & & &  \\\\\n",
    "   & &  & 0  & &  &    \\\\ & & & & & \\ddots &  \\\\  0 & &\\cdots  & & & & 0  \\\\ \\vdots & &&&& & \\vdots \\\\ 0 & & \\cdots & & & & 0\n",
    "\\end{bmatrix}   \\right\\}  }^{\\displaystyle d_2} \\, d_1 ~~~~~~\\Rightarrow ~~~~~ \\Sigma_{jb} = s_j\\delta_{jb}\n",
    "$$\n",
    "\n",
    "- Los números $s_1,...,s_r >0$ son los autovalores de la matriz $w^\\dagger w$  y se denominan <i>valores principales </i>  de la matriz $w_{ij}$"
   ]
  },
  {
   "cell_type": "markdown",
   "id": "88d4d723",
   "metadata": {
    "slideshow": {
     "slide_type": "slide"
    }
   },
   "source": [
    "Esto quiere decir que podemos escribir\n",
    "\n",
    "\\begin{eqnarray}\n",
    "\\ket{w} &=& \\sum_{i=1}^{d_1}\\sum_{a=1}^{d_2}\\left( \\sum_{j=1}^{d_1}\\sum_{b=1}^{d_2} U_{ij}\\Sigma_{jb}V_{ab}^* \\right)\\ket{e_{1,i}}\\otimes \\ket{e_{2,a}}\n",
    "\\\\  \\rule{0mm}{10mm}\n",
    "&=& \\sum_{j=1}^{d_1}\\sum_{b=1}^{d_2}\\Sigma_{jb}\\left( \\sum_{i=1}^{d_1} U_{ij}\\ket{e_{1,i}} \\right)\\otimes  \\left( \\sum_{a=1}^{d_2} V_{ab}^* \\ket{e_{2,a}}\\right)\n",
    "\\\\   \\rule{0mm}{10mm}\n",
    "&=& \\sum_{j=1}^{d_1}\\sum_{b=1}^{d_2}s_j\\delta_{jb} \\ket{f_{1,j}}\\otimes \\ket{f_{2,b}}\\\\   \\rule{0mm}{10mm}\n",
    "&=& \\sum_{j=1}^r s_j \\ket{f_{1,j}}\\otimes \\ket{f_{2,j}}\n",
    "\\end{eqnarray}"
   ]
  },
  {
   "cell_type": "markdown",
   "id": "63e0cc3f",
   "metadata": {
    "slideshow": {
     "slide_type": "fragment"
    }
   },
   "source": [
    "Por tanto, podemos saber si un *estado bipartito* es entrelazado calculando la descomposición en valores singulares de su matriz de coeficientes en cualquier base."
   ]
  },
  {
   "cell_type": "code",
   "execution_count": null,
   "id": "a5415a20",
   "metadata": {
    "slideshow": {
     "slide_type": "slide"
    }
   },
   "outputs": [],
   "source": [
    "# Veamos el caso genérico \n",
    "\n",
    "d1=4 # Dimensión de H1\n",
    "d2=3 # Dimensión de H2\n",
    "\n",
    "' generate a random complex matrix '\n",
    "w = np.random.randn(d1,d2)+ np.random.randn(d1,d2) * 1j  # coeficientes w_{ia} de un estado genérico\n",
    "display(array_to_latex(w))\n",
    "\n",
    "' perform the SVD decomposition'\n",
    "u, s, vh = np.linalg.svd(w, full_matrices=True)\n",
    "\n",
    "np.round(s,3)\n",
    "\n",
    "print('principal values s_i = ',np.round(s,3))\n",
    "print('The Schmidt number is r =', np.count_nonzero(s))"
   ]
  },
  {
   "cell_type": "markdown",
   "id": "e4d2aeb3",
   "metadata": {
    "slideshow": {
     "slide_type": "fragment"
    }
   },
   "source": [
    "Corre la celda anterior muchas veces y mira si consigues encontrar algún caso en que $r<{\\rm min}(d_1,d_2)$"
   ]
  },
  {
   "cell_type": "code",
   "execution_count": null,
   "id": "ef0aedca",
   "metadata": {
    "slideshow": {
     "slide_type": "slide"
    }
   },
   "outputs": [],
   "source": [
    "# Veamos ahora el caso particular de un estado factorizable\n",
    "\n",
    "d1=5\n",
    "d2=3\n",
    "\n",
    "' create two random vectors '\n",
    "u = tQ.random_ket(d1)\n",
    "v = tQ.random_ket(d2)\n",
    "\n",
    "w = np.outer(u,v)\n",
    "display(array_to_latex(w))\n",
    "\n",
    "' SVG decomposition '\n",
    "u, s, vh = np.linalg.svd(w, full_matrices=True)\n",
    "\n",
    "print('principal values s_i = ',np.round(s,3))\n",
    "print('The Schmidt number is p =', np.count_nonzero(np.round(s,3)))"
   ]
  },
  {
   "cell_type": "markdown",
   "id": "ac6d4b68",
   "metadata": {
    "slideshow": {
     "slide_type": "fragment"
    }
   },
   "source": [
    "Podemos correr la celda anterior varias veces comprobar que nunca obtendremos $r>1$"
   ]
  },
  {
   "cell_type": "markdown",
   "id": "8b13ac96",
   "metadata": {
    "slideshow": {
     "slide_type": "slide"
    }
   },
   "source": [
    "## Producto Tensorial Múltiple"
   ]
  },
  {
   "cell_type": "markdown",
   "id": "321da198",
   "metadata": {
    "slideshow": {
     "slide_type": "skip"
    }
   },
   "source": [
    "- El producto tensorial se puede generalizar a más de un factor."
   ]
  },
  {
   "cell_type": "markdown",
   "id": "8331dc01",
   "metadata": {
    "slideshow": {
     "slide_type": "-"
    }
   },
   "source": [
    "- El espacio $ \\Hil_1\\otimes \\Hil_2 ... \\otimes \\Hil_n$ formado por todas las *n-tuplas* ordenadas de vectores \n",
    "<br>\n",
    "<br>\n",
    "$$\\ket{u} = \\ket{u_1u_2...u_n} \\equiv\\ket{u_1}\\otimes\\ket{u_2}\\otimes ...\\otimes \\ket{u_n}$$ \n",
    "<br>\n",
    "donde $\\ket{u_i}\\in \n",
    "\\Hil_i$ y sus combinaciones lineales $\\{ a\\ket{u}+ b\\ket{v} + ...\\}$.\n",
    "\n",
    "<br>\n",
    "<br>\n",
    "\n",
    "- Salvo mención expresa, asumiremos que todos los $\\Hil_j=\\Hil$ son iguales y de dimension $d$. En el contexto de la computación cuántica usual con cúbits $\\Rightarrow \\, d=2$"
   ]
  },
  {
   "cell_type": "markdown",
   "id": "3a3fb2d5",
   "metadata": {
    "slideshow": {
     "slide_type": "skip"
    }
   },
   "source": [
    ":::{admonition} Ejercicio\n",
    ":class: tip\n",
    "\n",
    "Escribe una función  <i>kronecker($u_1,u_2,...,u_n$)</i> que tome n kets (como vectores columna)  y devuelva su producto de Kronecker múltiple.  \n",
    "\n",
    ":::"
   ]
  },
  {
   "cell_type": "markdown",
   "id": "f2a57b1b",
   "metadata": {
    "slideshow": {
     "slide_type": "slide"
    }
   },
   "source": [
    "### Base de $\\Hil^{\\otimes n}$\n",
    "\n",
    "Una base de $\\Hil^{\\otimes n}$ se obtiene a partir de cadenas \n",
    "\n",
    "$$\n",
    "\\ket{i_1 i_2.... i_n} = \n",
    "\\ket{i_1}\\ket{i_2}  ... \\ket{i_n}\n",
    "$$ \n",
    "\n",
    "donde $i_1,..,i_n=0,...,d-1$."
   ]
  },
  {
   "cell_type": "markdown",
   "id": "f952f15f",
   "metadata": {
    "slideshow": {
     "slide_type": "fragment"
    }
   },
   "source": [
    "El número de posibles cadenas es $d^n$ que  es la dimensión de $\\Hil^{\\otimes n}$.\n",
    "\n",
    "$$\n",
    "{\\rm dim}_{\\mathbb C} \\Hil^{\\otimes n} = d^n\n",
    "$$"
   ]
  },
  {
   "cell_type": "markdown",
   "id": "0b77f997",
   "metadata": {
    "slideshow": {
     "slide_type": "slide"
    }
   },
   "source": [
    "Podemos cambiar de etiqueta \n",
    "\n",
    "$$\n",
    "\\ket{i_1...i_n} \\to \\ket{a}\n",
    "$$ \n",
    "\n",
    "con\n",
    "\n",
    "$$\n",
    "a = i_n + d i_{n-1} + d^2 i_{n-2} \\, +...+ \\,  d^{n-1} i_1\n",
    "$$\n",
    "\n",
    "Claramente $a ~\\in ~(0,d^n-1)$."
   ]
  },
  {
   "cell_type": "markdown",
   "id": "c28e6a16",
   "metadata": {
    "slideshow": {
     "slide_type": "fragment"
    }
   },
   "source": [
    "Si cada base $\\{\\ket{i}\\}$ es ortonormal, tendremos que la *base producto* también lo será\n",
    "<br>\n",
    "\n",
    "$$\n",
    "\\braket{i_1 i_2... i_n}{j_1j_2...j_n} = \\delta_{i_1j_1}\\delta_{i_2j_2}...\\delta_{i_nj_n} ~~~~\\leftrightarrow ~~~~\n",
    "\\braket{a}{b} = \\delta_{ab}\n",
    "$$"
   ]
  },
  {
   "cell_type": "markdown",
   "id": "122dcc63",
   "metadata": {
    "slideshow": {
     "slide_type": "slide"
    }
   },
   "source": [
    "### Estado entrelazado general\n",
    "\n",
    "\n",
    "Un *vector general* admitirá una expansión en esta base mediante $d^n$ *componentes complejas*\n",
    "$u_{i_1 i_2...i_n}$ en la forma\n",
    "\n",
    "$$\n",
    "\\ket{u} ~~=~ \\sum_{i_1,...,i_n=0}^{d-1} u_{i_1i_2...i_n} \\ket{i_1i_2...i_n} ~~=~\n",
    " \\sum_{a=0}^{d^n-1} u_a\\ket{a}\\, .\n",
    "$$"
   ]
  },
  {
   "cell_type": "markdown",
   "id": "8f546d3c",
   "metadata": {
    "slideshow": {
     "slide_type": "fragment"
    }
   },
   "source": [
    "Podemos obtener cualquier componente compleja proyectando sobre el elemento correspondiente de la base\n",
    "\n",
    "$$\n",
    "u_{i_1i_2...i_n} = \\braket{i_1 i_2... i_n}{u}~~~~~~\\leftrightarrow~~~~~~~~u_a = \\braket{a}{u}\n",
    "$$"
   ]
  },
  {
   "cell_type": "markdown",
   "id": "065eb997",
   "metadata": {
    "slideshow": {
     "slide_type": "skip"
    }
   },
   "source": [
    "Decimos que $u_{i_1i_2...i_n}$ forman las componentes de un *tensor de rango* $n$\n",
    "<br>\n",
    "<br>\n",
    "Un estado genérico depende de un conjunto de $d*d...*d = d^n$ componentes independiente $u_{i_1i_2...i_n}$.\n",
    "\n",
    "Ya hemos visto los casos de rango $n=1$ <i>(vector)</i> y $n=2$ <i>(operador)</i>"
   ]
  },
  {
   "cell_type": "markdown",
   "id": "64143011",
   "metadata": {
    "slideshow": {
     "slide_type": "slide"
    }
   },
   "source": [
    "### Estado factorizable\n",
    "\n",
    "Al igual que antes, *sólo en casos muy particulares*, un vector de $\\Hil^{\\otimes n}$ se podrá escribir en forma factorizada\n",
    "<br>\n",
    "<br>\n",
    "$$\n",
    "\\ket{w} = \\ket{v_1}\\ket{v_2}\\ldots\\ket{v_n} \\equiv \\ket{v_1 v_2 \\ldots v_n}\n",
    "$$"
   ]
  },
  {
   "cell_type": "markdown",
   "id": "c9d209f6",
   "metadata": {
    "slideshow": {
     "slide_type": "fragment"
    }
   },
   "source": [
    "Escribiendo $\\ket{v_k} = \\sum_{i_k=1}^d v_{i_k}\\ket{i_k}$ vemos que un *vector factorizable* admite una expansión general en la que los coeficientes son factorizables\n",
    "\n",
    "$$\n",
    "v_{i_1i_2...i_n}  = v_{i_1} v_{i_2}.... v_{i_n}\n",
    "$$\n",
    "\n",
    "El conjunto de coefficientes\n",
    "está parametrizado por $d +d + ...d = nd$ cantidades $v_{i_k}, \\, i_k=1,...,d, \\, k=1,...,n$."
   ]
  },
  {
   "cell_type": "markdown",
   "id": "e920dca4",
   "metadata": {
    "slideshow": {
     "slide_type": "skip"
    }
   },
   "source": [
    "### Estados producto de matrices *(MPS)*\n",
    "\n",
    "En medio de los dos casos extremos anteriores encontramos la posibilidad de que las componentes del tensor se puedan escribir como productos de matrices."
   ]
  },
  {
   "cell_type": "markdown",
   "id": "4d9ed894",
   "metadata": {},
   "source": [
    ":::{card}\n",
    "\n",
    "**Definición**\n",
    "\n",
    "^^^\n",
    "\n",
    "Un estado $\\ket{v}$ es un <b>MPS</b> <i>(estado producto de matrices)</i> si sus componentes en cualquier base pueden escribirse como la traza total de un producto de matrices\n",
    "\n",
    "$$\n",
    "v_{i_1 i_2 i_3... i_n} =\\tr ( A^{(1)}_{i_1}\\cdot A^{(2)}_{i_2}\\cdot A^{(3)}_{i_3} \\cdots A^{(n)}_{i_n} )\n",
    "$$\n",
    "\n",
    ":::"
   ]
  },
  {
   "cell_type": "markdown",
   "id": "b24aaa68",
   "metadata": {
    "slideshow": {
     "slide_type": "skip"
    }
   },
   "source": [
    "- Si $A^{(a)}_i$ con $a=1,...,n$ y $i=1,...,d$ es un conjunto  de $nd$ matrices de dimensión $D\\times D$, con $D$ la  *(dimensión local de enlace)*, el número de parámetros independientes es $ndD^2$. \n",
    "<br>\n",
    "<br>\n",
    "Los MPS tienen entrelazamiento no nulo, que crece con $D$."
   ]
  },
  {
   "cell_type": "markdown",
   "id": "ca3d72aa",
   "metadata": {
    "slideshow": {
     "slide_type": "skip"
    }
   },
   "source": [
    "-  Si $A^{(a)}_i = A_i$ para todo $a=1,..,n$ decimos que el MPS formado es *invariante traslacional*\n",
    "\n",
    "Por ejemplo, con $n=4$, $\\ket{v} =  v_{i_1i_2i_3i_4} \\ket{e_{i_1i_2i_3i_4} }$\n",
    "\n",
    "$$\n",
    "v_{i_1i_2i_3i_4} =  \\sum_{\\alpha\\beta\\gamma\\mu = 1}^DA_{i_1}^{\\mu \\alpha}A_{i_2}^{\\alpha\\beta}A_{i_3}^{\\beta\\gamma}A_{i_4}^{\\gamma\\mu}\n",
    "$$\n",
    "\n",
    "```{figure} figuras/XTN4.png\n",
    ":scale: 50 %\n",
    ":alt: map to buried treasure\n",
    ":align: center\n",
    "```"
   ]
  },
  {
   "cell_type": "markdown",
   "id": "d8e3b261",
   "metadata": {
    "slideshow": {
     "slide_type": "skip"
    }
   },
   "source": [
    "### Redes de tensores \n",
    "\n",
    "Si queremos aumentar el entrelazamiento del estado podemos, además de aumentar $D$, recurrir a contracciones de índices de tensores de mayor rango\n",
    "\n",
    "$$\n",
    "v_{i_1i_2i_3i_4} = \\sum_{\\alpha\\beta\\gamma\\mu\\delta = 1}^D A_{i_1}^{\\mu \\alpha\\delta}A_{i_2}^{\\alpha\\beta}A_{i_3}^{\\beta\\delta\\gamma}A_{i_4}^{\\gamma\\mu}\n",
    "$$\n",
    "\n",
    "```{figure} figuras/XTensNet.png\n",
    ":scale: 40 %\n",
    ":alt: map to buried treasure\n",
    ":align: center\n",
    "```"
   ]
  },
  {
   "cell_type": "markdown",
   "id": "be23174a",
   "metadata": {
    "slideshow": {
     "slide_type": "skip"
    }
   },
   "source": [
    "Los estados MPS, y los estados TN  para una dimensión de enlace local $D$ finita, no son suficientemente expresivos para capturar el máximo entrelazamiento posible en un estado.\n",
    "\n",
    "```{figure} figuras/XTN_complete.png\n",
    ":scale: 50 %\n",
    ":alt: map to buried treasure\n",
    ":align: center\n",
    "```"
   ]
  },
  {
   "cell_type": "markdown",
   "id": "0d92f901",
   "metadata": {
    "slideshow": {
     "slide_type": "skip"
    }
   },
   "source": [
    ":::{admonition} Nota\n",
    ":class: note\n",
    "\n",
    "- $nd \\ll d^n$. El crecimiento exponencial del número de estados entrelazados es el ingrediente crucial para la computación cuántica. Observar que $d^n$ es el <i>número de enteros</i> alcanzables por $n$ bits. Pero en computación cuántica es el <i>número de dimensiones</i> en la que podemos poner $d^n$ amplitudes complejas.  \n",
    "<br>\n",
    "\n",
    "- No existe un criterio general para saber si un estado es, a priori, factorizable o entrelazado. \n",
    "<br>\n",
    "\n",
    "- Además, hay formas de caracterizar matemáticamente el nivel de entrelazamiento (*entanglement witnesses, entanglement monotones* etc.) desde nulo (estado factorizable) hasta maximal.\n",
    "\n",
    ":::"
   ]
  },
  {
   "cell_type": "markdown",
   "id": "273fd3c0",
   "metadata": {
    "slideshow": {
     "slide_type": "skip"
    }
   },
   "source": [
    "## Operadores sobre  $\\Hil^{\\otimes n}$"
   ]
  },
  {
   "cell_type": "markdown",
   "id": "5dbd8a8f",
   "metadata": {
    "slideshow": {
     "slide_type": "skip"
    }
   },
   "source": [
    "El espacio $\\Hil^{\\otimes n}$ admite, como cualquier espacio vectorial, la acción de *operadores lineales* $A: \\Hil^{\\otimes n} \\to \\Hil^{\\otimes n}$ donde\n",
    "\n",
    "$$\n",
    "A:\\ket{u} \\to \\ket{v} \\equiv A\\ket{u}\n",
    "$$    \n",
    "\n",
    "El conjunto de todos los operadores lineales forman el espacio vectorial $\\Lin(\\Hil^{\\otimes n})$."
   ]
  },
  {
   "cell_type": "markdown",
   "id": "0ca46afe",
   "metadata": {
    "slideshow": {
     "slide_type": "skip"
    }
   },
   "source": [
    "### Matrices\n",
    "\n",
    "- A cada operador, $A$, le podemos asociadar una *matriz*, una vez elijamos nuestra base  $\\{ \\ket{i_1 i_2... i_n}\\}$ donde, $i_k = 1,...,d$. \n",
    "<br> \n",
    "<br>\n",
    " \n",
    " \n",
    "- Los *elementos de matriz* ahora vendrán etiquetados por dos *multi-índices*\n",
    "\n",
    "$$\n",
    "A_{i_1...i_n, \\, j_1...j_n} = \\bra{i_1...i_n}A\\ket{j_1...j_n}  ~~~~~\\leftrightarrow ~~~~~~ A_{ab}= \\bra{a}A\\ket{b}\n",
    "$$"
   ]
  },
  {
   "cell_type": "markdown",
   "id": "bd2daa07",
   "metadata": {
    "slideshow": {
     "slide_type": "skip"
    }
   },
   "source": [
    "-  Con la matriz, el operador se reconstruye en la base canónica de productos externos\n",
    "\n",
    "\\begin{eqnarray} \n",
    " A &~~=~& \n",
    " \\sum_{i_1,...,i_n,\\, j_1,...,j_n=0}^{d-1} A_{i_1...i_n, \\, j_1...j_n} \\ket{i_1...i_n}\\bra{j_1...j_n}\n",
    " ~~~~=~~~~\n",
    "  \\sum_{a,b=a}^{d^{N}-1} A_{ab} \\ket{a}\\bra{b}\n",
    "\\end{eqnarray}"
   ]
  },
  {
   "cell_type": "markdown",
   "id": "8f0876f0",
   "metadata": {
    "slideshow": {
     "slide_type": "skip"
    }
   },
   "source": [
    "- En $A_{i_1...i_n,\\,j_1...j_n} = A_{ab}$ hay $d^n\\times d^n = d^{2n}$ grados de libertad. Esta sería la dimensión del espacio  $\\Lin(\\Hil^{\\otimes n})$.\n",
    "<br>"
   ]
  },
  {
   "cell_type": "markdown",
   "id": "9f741f93",
   "metadata": {
    "slideshow": {
     "slide_type": "skip"
    }
   },
   "source": [
    "### Producto tensorial de operadores"
   ]
  },
  {
   "cell_type": "markdown",
   "id": "82ab0f19",
   "metadata": {
    "slideshow": {
     "slide_type": "skip"
    }
   },
   "source": [
    "En $\\Lin(\\Hil^{\\otimes n})$ hay un análogo de los vectores factorizables de $\\Hil^{\\otimes n}$: los *operadores factorizables*.\n",
    "\n",
    "Supongamos que existen $n$ operadores lineales $A^{(a)}\\, ,\\, a=1,...,n$ definidos sobre cada espacio factor $\\Hil$."
   ]
  },
  {
   "cell_type": "markdown",
   "id": "08ba6235",
   "metadata": {
    "slideshow": {
     "slide_type": "skip"
    }
   },
   "source": [
    ":::{card}\n",
    "\n",
    "**Definición**\n",
    "\n",
    "^^^\n",
    "\n",
    "La acción del producto tensorial de operadores  $A = A^{(1)}\\otimes A^{(2)} \\otimes ...A^{(n)}$ sobre un vector $\\ket{v} = \\ket{v}_1\\otimes ...\\otimes \\ket{v_n}\\in \\Hil~$   factoriza \n",
    "\n",
    "$$\n",
    "A\\ket{v} = A^{(1)}\\ket{v_1}\\otimes ... \\otimes A^{(n)} \\ket{v_n}\\, .\n",
    "$$\n",
    "\n",
    ":::"
   ]
  },
  {
   "cell_type": "markdown",
   "id": "861c61a5",
   "metadata": {
    "slideshow": {
     "slide_type": "skip"
    }
   },
   "source": [
    "La acción sobre vectores generales se sigue imponiento linealidad\n",
    "\n",
    "$$\n",
    "A(\\ket{v} + \\ket{w}) = A\\ket{v} + A\\ket{w}\\, .\n",
    "$$"
   ]
  },
  {
   "cell_type": "markdown",
   "id": "3ba0bee8",
   "metadata": {
    "slideshow": {
     "slide_type": "skip"
    }
   },
   "source": [
    "-  El adjunto de un producto tensorial de operadores es el producto de los adjuntos (no se permuta el orden)\n",
    "\n",
    "$$\n",
    "A^\\dagger = A^{(1)\\dagger} \\otimes ... \\otimes A^{(n)\\dagger}\n",
    "$$"
   ]
  },
  {
   "cell_type": "markdown",
   "id": "c32e0cb7",
   "metadata": {
    "slideshow": {
     "slide_type": "skip"
    }
   },
   "source": [
    "-  El producto tensorial de operadores hermíticos es hermítico\n",
    "\n",
    "$$ A^{(a)\\dagger} = A^{(a)} ~~\\Longrightarrow A^{\\dagger} = A $$"
   ]
  },
  {
   "cell_type": "markdown",
   "id": "257274aa",
   "metadata": {
    "slideshow": {
     "slide_type": "skip"
    }
   },
   "source": [
    "- El producto tensorial de operadores unitarios, es unitario\n",
    "\n",
    "$$ A^{(a)\\dagger} = A^{(a)\\, -1} \\,  ~~\\Longrightarrow ~~A^{\\dagger} = A^{-1} $$"
   ]
  },
  {
   "cell_type": "markdown",
   "id": "17ad56ae",
   "metadata": {
    "slideshow": {
     "slide_type": "skip"
    }
   },
   "source": [
    "### Producto de Kronecker de matrices"
   ]
  },
  {
   "cell_type": "markdown",
   "id": "e28d29af",
   "metadata": {
    "slideshow": {
     "slide_type": "skip"
    }
   },
   "source": [
    "¿Cómo será la matriz $A_{i_1...i_n, \\, j_1...j_n}$ de un operador factorizable, $ A = A^{(1)}\\otimes A^{(2)} \\otimes ...A^{(n)}$, en términos de las matrices  $ A^{(a)}_{ij}$ de sus factores?"
   ]
  },
  {
   "cell_type": "markdown",
   "id": "f369501c",
   "metadata": {
    "slideshow": {
     "slide_type": "skip"
    }
   },
   "source": [
    "Vamos a tomar  $n=2$ por simplicidad\n",
    "\\begin{eqnarray}\n",
    "A = A^{(1)}\\otimes  A^{(2)} &=&\\left( \\sum_{i_1i_2}A^{(1)}_{i_1 j_1} \\ket{i_1}\\bra{j_1}\\right)\\left( \\sum_{i_2j_2}A^{(2)}_{i_2 j_2} \\ket{i_2}\\bra{j_2}\\right)\\\\\n",
    "&=& \\sum_{i_1 i_2 , j_1 j_2} A^{(1)}_{i_1 j_1}A^{(2)}_{i_2 j_2}\\ket{i_1 i_2}\\bra{j_1j_2} \\\\\n",
    "&=& \\sum_{i_1 i_2 , j_1 j_2} A_{i_1i_2,\\, j_1j_2}\\ket{i_1 i_2}\\bra{j_1j_2}\n",
    "\\end{eqnarray}"
   ]
  },
  {
   "cell_type": "markdown",
   "id": "f85b8875",
   "metadata": {
    "slideshow": {
     "slide_type": "skip"
    }
   },
   "source": [
    "Vemos que la matriz asociada a $A$ se obtiene  a partir de las matrices de $A^{(a)}$ mediante el  *producto exterior de las matrices*, o *producto de Kronecker*.\n",
    "\n",
    "\n",
    "$$\n",
    "  A_{i_1i_2,\\,j_1j_2} = A^{(1)}_{i_1j_1}A^{(2)}_{i_2 j_2} \n",
    "$$"
   ]
  },
  {
   "cell_type": "markdown",
   "id": "04a85e1a",
   "metadata": {
    "slideshow": {
     "slide_type": "skip"
    }
   },
   "source": [
    "- El método para de **representar** matricialmente el producto de Kronecker de dos matrices $A\\otimes B$ es sencillo. Supongamos que $d=2$ y tenemos un operador producto $A\\otimes B$. Entonces su matriz \n",
    "\n",
    "<br>\n",
    "\n",
    "$$\n",
    "(A\\otimes B)_{ab} = \\begin{pmatrix} A_{00}B & A_{01}B \\\\ A_{10}B & A_{11}B \\end{pmatrix} = \\begin{pmatrix} A_{00}B_{00} & A_{00}B_{01} & A_{01}B_{00} & A_{01}B_{01} \\\\\n",
    "                A_{00}B_{10} & A_{00}B_{11} & A_{01}B_{10} & A_{01}B_{11} \\\\\n",
    "                A_{10}B_{00} & A_{10}B_{01} & A_{11}B_{00} & A_{11}B_{01} \\\\\n",
    "                A_{10}B_{10} & A_{10}B_{11} & A_{11}B_{10} & A_{11}B_{11} \\end{pmatrix}.\n",
    "$$"
   ]
  },
  {
   "cell_type": "markdown",
   "id": "603e7bda",
   "metadata": {
    "slideshow": {
     "slide_type": "skip"
    }
   },
   "source": [
    "- El producto de Kronecker verifica las siguientes propiedades para dos matrices $A$  y $B$ de dimensiones $d_A$ y $d_B$. \n",
    "<br>\n",
    "<br>\n",
    "\n",
    "\\begin{eqnarray}\n",
    "(A\\otimes B)(C\\otimes D) &=& (AC)\\otimes (BD) \\nonumber\\\\ \\rule{0mm}{6mm}\n",
    "\\tr(A\\otimes B) &=& (\\tr A)(\\tr B) \\nonumber\\\\ \\rule{0mm}{6mm}\n",
    "A\\otimes(B+D) &=& A\\otimes B + A\\otimes D \\nonumber\\\\ \\rule{0mm}{6mm}\n",
    "(A\\otimes B)^\\dagger &=& A^\\dagger\\otimes B^\\dagger \\nonumber\\\\ \\rule{0mm}{6mm}\n",
    "(A\\otimes B)^{-1} &=& A^{-1} \\otimes B^{-1} \\nonumber\\\\ \\rule{0mm}{6mm}\n",
    "\\det (A\\otimes B) &=& (\\det A)^{d_B}(\\det B)^{d_A}\n",
    "\\end{eqnarray}\n",
    "\n",
    "\n",
    "donde $AC$ significa el producto de matrices $A$ y $C$"
   ]
  },
  {
   "cell_type": "markdown",
   "id": "87ab0422",
   "metadata": {
    "slideshow": {
     "slide_type": "skip"
    }
   },
   "source": [
    ":::{admonition} Ejercicio\n",
    ":class: tip\n",
    "\n",
    "1. Demuestra estos resultados\n",
    "    \n",
    "2. Rescribe la función $kronecker$  para que acepte  dos matrices $A$  y $B$ de dimensiones $d_A$ y $d_B$ y devuelva su producto de Kronecker $A\\otimes B$. Verifica el resultado con la funcion kron de numpy.   Verifica las propiedades anteriores.   \n",
    "    \n",
    ":::"
   ]
  },
  {
   "cell_type": "markdown",
   "id": "f2a25432",
   "metadata": {
    "slideshow": {
     "slide_type": "skip"
    }
   },
   "source": [
    "La generalización a todo $n$ es obvia. El producto de Kronecker de $n$ matrices $ A^{(a)}_{i_aj_a}$ asociadas a operadores $A^{(a)}$ es\n",
    "\n",
    "$$\n",
    " A_{i_1...i_n,\\,j_1...j_n} = A^{(1)}_{i_1j_1}...A^{(n)}_{i_n j_n} \n",
    "$$"
   ]
  },
  {
   "cell_type": "markdown",
   "id": "fd817504",
   "metadata": {
    "slideshow": {
     "slide_type": "skip"
    }
   },
   "source": [
    ":::{admonition} Ejercicio\n",
    ":class: tip\n",
    "\n",
    "Calcula $\\sigma_1\\otimes \\sigma_2\\otimes \\sigma_3$\n",
    "\n",
    ":::"
   ]
  },
  {
   "cell_type": "markdown",
   "id": "0a79d17f",
   "metadata": {
    "slideshow": {
     "slide_type": "skip"
    }
   },
   "source": [
    ":::{admonition} Nota\n",
    ":class: note\n",
    "\n",
    "Observar que en un operador general, la matriz $ A_{i_1...i_n,\\,j_1...j_n}$ tiene $d^n\\times d^n = d^{2n}$ entradas independientes. \n",
    "\n",
    "Sin embargo \n",
    "en un producto de Kronecker $A^{(1)}_{i_1j_1}...A^{(n)}_{i_n j_n}$ sólo hay $nd^2$. \n",
    "    \n",
    "Por tanto, los *operadores factorizables* forman un subconjunto muy pequeño dentro del conjunto de los operadores generales.\n",
    "\n",
    ":::"
   ]
  },
  {
   "cell_type": "markdown",
   "id": "9011c76b",
   "metadata": {
    "slideshow": {
     "slide_type": "skip"
    }
   },
   "source": [
    "### Generación de entrelazamiento\n",
    "\n",
    "Supongamos que $\\ket{u} = \\ket{u_1}\\otimes\\ket{u_2}$ es factorizable. \n",
    "\n",
    "* Si $A=A_1\\otimes A_2$ es un operador factorizable entonces\n",
    "\n",
    "$$\n",
    "\\ket{v} = A\\ket{u} = A_1\\ket{u_1}\\otimes A_2\\ket{u_2} = \\ket{v_1}\\otimes \\ket{v_2}\n",
    "$$\n",
    "\n",
    "también es factorizable.\n",
    "\n",
    "* Inversamente, la *acción de un operador no factorizable* $A\\neq A_1\\otimes A_2$ genera estados entrelazados\n",
    "\n",
    "$$\n",
    "\\ket{v} = A\\ket{u}  \\neq \\ket{v_1}\\otimes \\ket{v_2}\n",
    "$$"
   ]
  }
 ],
 "metadata": {
  "authors": [
   {
    "affiliations": [
     "IGFAE-USC"
    ],
    "corresponding": true,
    "email": "javier.mas@usc.es",
    "name": "Javier Mas",
    "orcid": "0000-0001-7008-2126"
   },
   {
    "affiliations": [
     "UMA"
    ],
    "corresponding": true,
    "email": "david.castano@uma.es",
    "name": "David Castaño",
    "orcid": "0000-0001-7008-2126"
   }
  ],
  "github": "https://github.com/jamasole/Curso-TalentQ-Jupyterlab",
  "jupytext": {
   "text_representation": {
    "extension": ".md",
    "format_name": "myst",
    "format_version": 0.13,
    "jupytext_version": "1.15.2"
   }
  },
  "kernelspec": {
   "display_name": "Python 3 (ipykernel)",
   "language": "python",
   "name": "python3"
  },
  "license": "CC-BY-4.0",
  "math": {
   "\\C": "{\\mathbb C}",
   "\\Hil": "{\\mathcal H}",
   "\\Lin": "\\rm L",
   "\\O": "{\\mathcal O}",
   "\\R": "{\\mathbb R}",
   "\\V": "{\\cal V}",
   "\\bes": "\\begin{equation*}",
   "\\braa": "{\\langle #1|}",
   "\\braket": "{\\langle #1|#2\\rangle}",
   "\\ees": "\\end{equation*}",
   "\\i": "{\\color{blue} i}",
   "\\ket": "{|#1\\rangle}",
   "\\ketbra": "{|#1\\rangle\\langle #2|}",
   "\\tr": "{\\rm tr}"
  },
  "source_map": [
   46,
   52,
   56,
   74,
   78,
   84,
   100,
   113,
   119,
   138,
   151,
   155,
   170,
   174,
   178,
   190,
   204,
   215,
   219,
   229,
   242,
   258,
   267,
   271,
   284,
   292,
   296,
   301,
   316,
   328,
   339,
   353,
   357,
   365,
   370,
   379,
   383,
   401,
   411,
   424,
   436,
   449,
   463,
   467,
   490,
   494,
   518,
   522,
   526,
   531,
   547,
   556,
   569,
   577,
   593,
   603,
   618,
   627,
   636,
   647,
   658,
   665,
   681,
   688,
   704,
   720,
   730,
   745,
   749,
   761,
   778,
   789,
   794,
   798,
   804,
   820,
   829,
   837,
   843,
   849,
   853,
   857,
   866,
   875,
   888,
   906,
   917,
   925,
   934,
   948
  ],
  "subject": "Curso",
  "venue": "Quantum Spain"
 },
 "nbformat": 4,
 "nbformat_minor": 5
}