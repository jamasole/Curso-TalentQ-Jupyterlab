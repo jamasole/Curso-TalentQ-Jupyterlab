{
 "cells": [
  {
   "cell_type": "markdown",
   "id": "5cb046c7",
   "metadata": {
    "slideshow": {
     "slide_type": "slide"
    }
   },
   "source": [
    "---\n",
    "license: CC-BY-4.0\n",
    "github: https://github.com/jamasole/Curso-TalentQ-Jupyterlab\n",
    "subject: Curso\n",
    "venue: Quantum Spain\n",
    "authors:\n",
    "  - name: Javier Mas\n",
    "    email: javier.mas@usc.es\n",
    "    corresponding: true\n",
    "    orcid: 0000-0001-7008-2126\n",
    "    affiliations:\n",
    "      - IGFAE-USC\n",
    "  - name: David Castaño\n",
    "    email: david.castano@uma.es\n",
    "    corresponding: true\n",
    "    orcid: 0000-0001-7008-2126\n",
    "    affiliations:\n",
    "      - UMA\n",
    "math:   \n",
    "    '\\i': '{i}'\n",
    "    '\\bes': '\\begin{equation*}'\n",
    "    '\\ees': '\\end{equation*}'\n",
    "    '\\O': '{\\mathcal O}'\n",
    "    '\\Lin': '\\rm L'\n",
    "    '\\Hil': '{\\mathcal H}'\n",
    "    '\\braa': '{\\langle #1|}'\n",
    "    '\\ket': '{|#1\\rangle}'\n",
    "    '\\braket': '{\\langle #1|#2\\rangle}'\n",
    "    '\\ketbra': '{|#1\\rangle\\langle #2|}'\n",
    "    '\\tr': '{\\rm tr}'\n",
    "    '\\R': '{\\mathbb R}' \n",
    "    '\\C': '{\\mathbb C}'\n",
    "    '\\V': '{V}'\n",
    "---"
   ]
  },
  {
   "cell_type": "markdown",
   "id": "473db2d0-c360-4cc5-8375-746888d17e83",
   "metadata": {},
   "source": [
    "```{figure} ../thumbnails/myThumbnail.png\n",
    ":align: center\n",
    "```"
   ]
  },
  {
   "cell_type": "markdown",
   "id": "cf44845d",
   "metadata": {},
   "source": [
    "## Clases de Operadores\n",
    "<a id='classop'></a>"
   ]
  },
  {
   "cell_type": "markdown",
   "id": "509b97c6-3abf-464d-9125-6d69e2f18fe4",
   "metadata": {},
   "source": [
    "```{contents}\n",
    ":local:\n",
    ":depth: 2\n",
    "```"
   ]
  },
  {
   "cell_type": "code",
   "execution_count": 2,
   "id": "c7bd5d4c",
   "metadata": {
    "slideshow": {
     "slide_type": "-"
    }
   },
   "outputs": [],
   "source": [
    "import sys\n",
    "sys.path.append('../')\n",
    "import macro_tQ as tQ\n",
    "\n",
    "import numpy as np\n",
    "import scipy.linalg as la\n",
    "from IPython.display import display,Markdown,Latex\n",
    "import matplotlib.pyplot as plt\n",
    "from qiskit.tools.visualization import array_to_latex"
   ]
  },
  {
   "cell_type": "markdown",
   "id": "a8f5fa5c",
   "metadata": {
    "slideshow": {
     "slide_type": "-"
    }
   },
   "source": [
    "Vamos a considerar **clases de operadores** que satisfagan algún tipo de *condición* o *restricción*"
   ]
  },
  {
   "cell_type": "markdown",
   "id": "f9a894e7",
   "metadata": {
    "slideshow": {
     "slide_type": "slide"
    }
   },
   "source": [
    "### Operador Unitario"
   ]
  },
  {
   "cell_type": "markdown",
   "id": "4e6298a2-cebc-4399-8a7b-00cfc815c205",
   "metadata": {},
   "source": [
    ":::{card} \n",
    "**Definción**: *operador unitario*\n",
    "\n",
    "^^^\n",
    "\n",
    "Un <i>operador unitario</i> $U$ es tal que su <i>adjunto</i> es igual a su <i>inverso</i>\n",
    "\n",
    "\n",
    "$$\n",
    "U^\\dagger = U^{-1}  \\, \n",
    "$$\n",
    ":::"
   ]
  },
  {
   "cell_type": "markdown",
   "id": "ace8fc08",
   "metadata": {
    "slideshow": {
     "slide_type": "fragment"
    }
   },
   "source": [
    "Naturalmente, esta ecuación se traduce en la misma ecuación para las matrices asociadas en *cualquier base*\n",
    "<br>\n",
    "<br>\n",
    "$$\n",
    "(U_{ij})^\\dagger = U_{ji}^* = U^{-1}_{ij}\n",
    "$$\n",
    "<br>\n",
    "Veamos ahora por qué hemos definido esta clase de operadores."
   ]
  },
  {
   "cell_type": "markdown",
   "id": "515b2de8",
   "metadata": {
    "slideshow": {
     "slide_type": "slide"
    }
   },
   "source": [
    "::::{card} \n",
    "\n",
    "**Teorema**\n",
    "\n",
    "^^^\n",
    "\n",
    "La acción de un operador unitario <i>preserva </i> el producto escalar de dos vectores cualesquiera. \n",
    "\n",
    ":::{dropdown} Demostración\n",
    "\n",
    "Sea $U$ un operador unitario, y $\\ket{\\varphi'}=U\\ket{\\varphi}$ y $\\ket{\\psi'} = U\\ket{\\psi}$\n",
    "dos vectores transformados por $U$, entonces\n",
    "\n",
    "$$\n",
    "\\braket{\\varphi'}{\\psi'} = \\left(\\bra{\\varphi}U^\\dagger\\right)U\\ket{\\psi} = \\bra{\\varphi} U^\\dagger U \\ket{\\psi} = \n",
    "\\braket{\\varphi}{\\psi}\n",
    "$$\n",
    "\n",
    "particularizando para $\\ket{\\varphi} = \\ket{\\psi}$ tenemos que un operador unitario *conserva la norma*.\n",
    "\n",
    "$$\n",
    "\\|U \\ket{\\varphi}\\| = \\|\\ket{\\varphi}\\|\n",
    "$$\n",
    ":::"
   ]
  },
  {
   "cell_type": "markdown",
   "id": "f0f91e0e",
   "metadata": {
    "slideshow": {
     "slide_type": "skip"
    }
   },
   "source": [
    "\n",
    "- En particular, preserva  la <i>norma</i> de cualquier vector. \n",
    "<br>\n",
    "Por tanto, conserva la <i>distancia</i> entre dos vectores $ d (\\ket{v},\\ket{w})= \\| (\\ket{v}-\\ket{w}) \\| $.<br>\n",
    "En un lenguaje más formal, se dice que un operador unitario es una *isometría* "
   ]
  },
  {
   "cell_type": "markdown",
   "id": "153c3a69",
   "metadata": {
    "slideshow": {
     "slide_type": "fragment"
    }
   },
   "source": [
    "- La <i>combinación lineal</i> de operadores unitarios **no es** unitaria\n",
    "<br>\n",
    "<br>\n",
    "$$\n",
    " (a U+ bV)^\\dagger = a^* V^\\dagger+ b^* U^\\dagger = a^* V^{-1}+ b^* U^{-1} \\neq  (a U+ b V)^{-1}\n",
    "$$\n",
    "<br>\n",
    "Matemáticamente esto quiere decir que los operadores unitarios no forman un subespacio vectorial de $\\Lin(\\Hil)$\n"
   ]
  },
  {
   "cell_type": "markdown",
   "id": "e7ad601f",
   "metadata": {
    "slideshow": {
     "slide_type": "slide"
    }
   },
   "source": [
    "- La *composición* de  operadores unitarios  **sí es** unitaria\n",
    "<br>\n",
    "<br>\n",
    "$$\n",
    "(UV)^\\dagger = V^\\dagger U^\\dagger = V^{-1}U^{-1} = (UV)^{-1} \n",
    "$$\n",
    "<br>\n",
    "Matemáticamente esto quiere decir que los operadores unitarios forman un <i>grupo</i>: el <i>grupo unitario</i> $U(d)$ actúa sobre $\\Hil$ de dimensión $d$. \n",
    "    "
   ]
  },
  {
   "cell_type": "markdown",
   "id": "1170620e",
   "metadata": {
    "slideshow": {
     "slide_type": "skip"
    }
   },
   "source": [
    "- Aun así, forman una *variedad*: un conjunto continuo  que se puede parametrizar mediante una colección de parámetros, la *dimensión de la variedad*.\n",
    "<br>\n",
    "Como hay una relación 1 a 1 entre un operador una matriz (en una base), esa dimensión será igual a la *dimensión del conjunto de matrices unitarias* \n",
    "\n"
   ]
  },
  {
   "cell_type": "markdown",
   "id": "00610b6f",
   "metadata": {
    "slideshow": {
     "slide_type": "fragment"
    }
   },
   "source": [
    ":::{admonition} **Ejercicio** *(explícaselo a tu cuaderno)*\n",
    ":class: tip\n",
    "   \n",
    "Resta de  ${\\rm dim}_{\\bf R}({\\rm L}(\\Hil)) =  2N^2$ el número de ecuaciones que restringen la matriz de un operador \n",
    "unitario y halla así la  dimensión (real) del grupo $U(N)$ de <i> operadores unitarios</i> de dimensión $N$.\n",
    ":::"
   ]
  },
  {
   "cell_type": "markdown",
   "id": "83c23568",
   "metadata": {
    "slideshow": {
     "slide_type": "skip"
    }
   },
   "source": [
    "**Bases ortonormales**\n",
    "\n",
    "- Como caso particular, aplicando un operador unitario $U$ a una base ortonormal $\\{\\ket{e_i}\\}$ obtenemos otra base ortonormal $\\{\\ket{\\tilde e_i}\\}$\n",
    "<br>\n",
    "\n",
    "$$\n",
    "\\left. \\begin{array}{c}\\ket{\\tilde e_i} = U\\ket{e_i}\\\\ U^{-1} =  U^\\dagger \\end{array} \\right\\}\n",
    "~~~~ \\Longleftrightarrow ~~~~\\braket{\\tilde e_i}{\\tilde e_j} = \\bra{\\tilde e_i}U^\\dagger U\\ket{\\tilde e_j} = \\braket{e_i}{e_j} = \\delta_{ij}\n",
    "$$\n",
    "\n",
    "<br>"
   ]
  },
  {
   "cell_type": "markdown",
   "id": "a4ced02b",
   "metadata": {
    "slideshow": {
     "slide_type": "skip"
    }
   },
   "source": [
    "- Inversamente, dadas dos bases ortonormales, $\\{\\ket{e_i}\\}$ y $\\{\\ket{\\tilde e_i}\\}$, el operador que las relaciona es un operador unitario\n",
    "    \n",
    "$$ \n",
    " \\begin{array}{rcl} \n",
    "U = \\sum_i \\ketbra{\\tilde e_i}{e_i} & \\Rightarrow &  U\\ket{e_j} = \\ket{\\tilde e_j} \n",
    " \\\\ \\rule{0mm}{10mm}\n",
    "U^\\dagger = \\sum_i \\ketbra{e_i}{\\tilde e_i}  & \\Rightarrow &    U^\\dagger\\ket{\\tilde e_j} = \\ket{e_j} ~~~\\Rightarrow ~~~U^\\dagger = U^{-1}\n",
    " \\end{array}\n",
    "$$\n"
   ]
  },
  {
   "cell_type": "markdown",
   "id": "af7322a4",
   "metadata": {
    "slideshow": {
     "slide_type": "skip"
    }
   },
   "source": [
    "- Un  <i>operador ortogonal</i> es un caso particular de operador  unitario con *elementos de matriz reales*. El operador de rotación $R(\\theta)$ que hemos estudiado al comienzo de este tema es un operador ortogonal.\n",
    "Efectivamente, dado\n",
    "$$\n",
    "R(\\theta) = \\begin{pmatrix} \\cos\\theta & -\\sin\\theta \\\\ \\sin\\theta & \\cos\\theta \\end{pmatrix}\n",
    "$$\n",
    "es inmediato comprobar que \n",
    "\n",
    "$$ R(\\theta)^\\dagger =R(\\theta)^t = R(-\\theta) = R(\\theta)^{-1}$$\n",
    "    \n"
   ]
  },
  {
   "cell_type": "code",
   "execution_count": 3,
   "id": "dabedb88",
   "metadata": {
    "slideshow": {
     "slide_type": "skip"
    }
   },
   "outputs": [
    {
     "data": {
      "text/latex": [
       "$$\n",
       "\n",
       "\\begin{bmatrix}\n",
       "\\frac{\\sqrt{2}}{2} & \\frac{\\sqrt{2} i}{2}  \\\\\n",
       " \\frac{\\sqrt{2} i}{2} & \\frac{\\sqrt{2}}{2}  \\\\\n",
       " \\end{bmatrix}\n",
       "$$"
      ],
      "text/plain": [
       "<IPython.core.display.Latex object>"
      ]
     },
     "execution_count": 3,
     "metadata": {},
     "output_type": "execute_result"
    }
   ],
   "source": [
    "U=np.matrix([[1,1J],[1J, + 1]])/np.sqrt(2)\n",
    "array_to_latex(U)"
   ]
  },
  {
   "cell_type": "code",
   "execution_count": 4,
   "id": "38cc621f",
   "metadata": {
    "slideshow": {
     "slide_type": "skip"
    }
   },
   "outputs": [
    {
     "data": {
      "text/latex": [
       "$$\n",
       "\n",
       "\\begin{bmatrix}\n",
       "\\frac{\\sqrt{2}}{2} & - \\frac{\\sqrt{2} i}{2}  \\\\\n",
       " - \\frac{\\sqrt{2} i}{2} & \\frac{\\sqrt{2}}{2}  \\\\\n",
       " \\end{bmatrix}\n",
       "$$"
      ],
      "text/plain": [
       "<IPython.core.display.Latex object>"
      ]
     },
     "execution_count": 4,
     "metadata": {},
     "output_type": "execute_result"
    }
   ],
   "source": [
    "Uadj=U.getH() # getH es un método de la clase matrix que devuelve la matriz conjugada hermítica\n",
    "array_to_latex(Uadj)"
   ]
  },
  {
   "cell_type": "code",
   "execution_count": 5,
   "id": "d4b71087",
   "metadata": {
    "slideshow": {
     "slide_type": "skip"
    }
   },
   "outputs": [
    {
     "name": "stdout",
     "output_type": "stream",
     "text": [
      "comprobamos que U es unitaria\n"
     ]
    },
    {
     "data": {
      "text/latex": [
       "$$\n",
       "\n",
       "\\begin{bmatrix}\n",
       "1 & 0  \\\\\n",
       " 0 & 1  \\\\\n",
       " \\end{bmatrix}\n",
       "$$"
      ],
      "text/plain": [
       "<IPython.core.display.Latex object>"
      ]
     },
     "execution_count": 5,
     "metadata": {},
     "output_type": "execute_result"
    }
   ],
   "source": [
    "print('comprobamos que U es unitaria')\n",
    "\n",
    "array_to_latex(np.dot(Uadj,U))"
   ]
  },
  {
   "cell_type": "markdown",
   "id": "397cd453-8959-4c57-a40b-a453f6a851c3",
   "metadata": {},
   "source": [
    ":::{card}\n",
    "**Definición** *(operador normal)*\n",
    "\n",
    "^^^\n",
    "\n",
    "Un operador $N$  es <i>normal</i> si conmuta con su adjunto\n",
    "   \n",
    "$$\n",
    "NN^\\dagger = N^\\dagger N\n",
    "$$   \n",
    ":::"
   ]
  },
  {
   "cell_type": "markdown",
   "id": "0b83bd9d",
   "metadata": {},
   "source": [
    "Los operadores normales tienen una propiedad extremadamente importante\n",
    "\n",
    ":::{card}\n",
    "**Teorema** \n",
    "\n",
    "^^^\n",
    "\n",
    "Un operador $N\\in \\Lin(\\Hil)$ es normal sí y sólo si, existe una base $\\{\\ket{i}\\}\\in \\Hil$ en la cual la matriz $N_{ij}$ que representa dicho operador es diagonal\n",
    "\n",
    "$$\n",
    "N_{ij} = \\bra{i}N\\ket{j} =  \\lambda_i \\delta_{ij} = \\begin{pmatrix} \\lambda_1 & & & \\\\\n",
    "& \\lambda_2 & & \\\\ & & \\ddots& \\\\ & & & \\lambda_{N} \\end{pmatrix}\n",
    "$$\n",
    "\n",
    "donde los números $\\lambda_i$ son, en general, complejos.\n",
    "\n",
    ":::"
   ]
  },
  {
   "cell_type": "markdown",
   "id": "8f734a41",
   "metadata": {
    "slideshow": {
     "slide_type": "slide"
    }
   },
   "source": [
    "### Operador Hermítico\n",
    "\n",
    ":::{card}\n",
    "\n",
    "**Definción** (operador hermítico)\n",
    "\n",
    "^^^\n",
    "\n",
    "Un operador  $H$ es <i>Hermítico</i> (o <i>autoadjunto</i>)  si  verifica la siguiente ecuación \n",
    "  \n",
    "$$\n",
    "H = H^\\dagger \n",
    "$$\n",
    ":::\n"
   ]
  },
  {
   "cell_type": "markdown",
   "id": "05bdeae6",
   "metadata": {
    "slideshow": {
     "slide_type": "skip"
    }
   },
   "source": [
    "\n",
    "- Evidentemente, un *operador hermítico* $~\\Rightarrow ~$ es un *operador normal*, pero a la inversa no tiene por qué ser verdad."
   ]
  },
  {
   "cell_type": "markdown",
   "id": "2f981b69",
   "metadata": {
    "slideshow": {
     "slide_type": "slide"
    }
   },
   "source": [
    "- La *combinación lineal* de operadores *hermíticos*  con coeficientes *reales* **es**  *hermítica*\n",
    "<br>\n",
    "<br>\n",
    "$$\n",
    "C^\\dagger = (a A + b B)^\\dagger = a^* A^\\dagger + b^* B^\\dagger = aA + b B = C\n",
    "$$\n",
    "<br>\n",
    "Matemáticamente: los operadores autoadjuntos forman un subespacio vectorial real $\\hbox{Her}(\\Hil) \\subset \\Lin(\\Hil)$.\n"
   ]
  },
  {
   "cell_type": "markdown",
   "id": "020cef96",
   "metadata": {
    "slideshow": {
     "slide_type": "fragment"
    }
   },
   "source": [
    "- La composición de operadores hermíticos, en general **no es** hermítica\n",
    "<br>\n",
    "<br>\n",
    "$$\n",
    "(A B)^\\dagger = B^\\dagger A^\\dagger = BA \\neq AB\n",
    "$$\n",
    "<br>\n",
    "Matemáticamente, esto implica que <i>no forman grupo</i> salvo que $A$ y $B$ conmuten entre sí, en cuyo caso forman un <i>grupo Abeliano</i>\n"
   ]
  },
  {
   "cell_type": "markdown",
   "id": "23c774d8",
   "metadata": {
    "slideshow": {
     "slide_type": "skip"
    }
   },
   "source": [
    "- La matriz asociada a un operador hermítico también se llama hermítica, y coincide con su traspuesta y conjugada\n",
    "<br>\n",
    "\n",
    "$$\n",
    "A_{ij} = A^\\dagger_{ij} \\equiv  A^{*t}_{ij} = A^*_{ji}   \\hspace{4cm}\n",
    "$$\n",
    "\n"
   ]
  },
  {
   "cell_type": "markdown",
   "id": "44b578f6",
   "metadata": {
    "slideshow": {
     "slide_type": "skip"
    }
   },
   "source": [
    ":::{admonition} Nota\n",
    ":class: note\n",
    "\n",
    "A partir de cualquier operador $C\\neq C^\\dagger $ siempre podemos construir un operador hermítico $H=H^\\dagger$ mediante la combinación lineal  \n",
    "\n",
    "$$\n",
    "H = C + C^\\dagger\n",
    "$$\n",
    "\n",
    "donde $a$ es un número real. Esto se extiende trivialmente a las matrices que los representan en cualquier base\n",
    "    \n",
    "\n",
    "$$\n",
    "H_{ij} = C_{ij} + C_{ji}^*\n",
    "$$ \n",
    ":::"
   ]
  },
  {
   "cell_type": "markdown",
   "id": "16519f99",
   "metadata": {
    "slideshow": {
     "slide_type": "fragment"
    }
   },
   "source": [
    ":::{card}\n",
    "\n",
    "**Ejercicio**\n",
    "\n",
    "^^^\n",
    "\n",
    "Resta de  ${\\rm dim}_{\\bf R}({\\rm L}(\\Hil)) =  2N^2$ el número de ecuaciones que restringen la matriz de un operador hermítico y halla así la dimensión (real) de la  <i>subespacio vectorial de operadores hermíticos</i>. \n",
    ":::"
   ]
  },
  {
   "cell_type": "markdown",
   "id": "c577c2c4",
   "metadata": {
    "slideshow": {
     "slide_type": "skip"
    }
   },
   "source": [
    "Si has hecho los dos últimos ejercicios  habrás encontrado la misma respuesta en ambos. Eso quiere decir que podría haber una relación entre matrices hermíticas y unitarias. Veremos que es así cuando estudiemos funciones de operadores"
   ]
  },
  {
   "cell_type": "markdown",
   "id": "b987d644",
   "metadata": {
    "slideshow": {
     "slide_type": "slide"
    }
   },
   "source": [
    "<a id='opproyec'></a>\n",
    "### Proyectores\n",
    "\n",
    "\n",
    "El operador $P = \\ketbra{u}{u}$ *proyecta* cualquier vector en la dirección de $\\ket{u}$\n",
    "\n",
    "$$\n",
    "P \\ket{w} = \\ket{u}\\braket{u}{w} = a \\ket{u}\n",
    "$$\n",
    "\n",
    "donde el número $a = \\braket{u}{w}$ es la *proyección* "
   ]
  },
  {
   "cell_type": "markdown",
   "id": "3453f27e",
   "metadata": {
    "slideshow": {
     "slide_type": "skip"
    }
   },
   "source": [
    "De su forma se siguen dos propiedades que caracterizan un operador de proyección \n",
    "\n",
    "- es hermítico \n",
    "\n",
    "$$\n",
    "P^\\dagger = (\\ketbra{u}{u})^\\dagger = \\ketbra{u}{u} = P\n",
    "$$\n",
    "\n",
    "- es idempotente\n",
    "\n",
    "$$\n",
    "P^2 = \\ket{u}\\braket{u}{u}\\bra{u} = \\ketbra{u}{u} = P\n",
    "$$"
   ]
  },
  {
   "cell_type": "markdown",
   "id": "98c497dd",
   "metadata": {
    "slideshow": {
     "slide_type": "slide"
    }
   },
   "source": [
    ":::{card}\n",
    "\n",
    "**Definition** *(operador hermítico)*\n",
    "\n",
    "^^^\n",
    "\n",
    "Un <i>proyector</i> es un operador hermítico que verifica la ecuación\n",
    "\n",
    "$$\n",
    "P^2 = P\n",
    "$$\n",
    ":::"
   ]
  },
  {
   "cell_type": "markdown",
   "id": "a2f50493",
   "metadata": {
    "slideshow": {
     "slide_type": "skip"
    }
   },
   "source": [
    ":::{admonition} Nota\n",
    ":class: note\n",
    "\n",
    "El proyector es un operador <b>no-unitario</b>: la proyección <i>reduce</i> la norma.\n",
    "Efectivamente,supongamos que $\\ket{u}$ y $\\ket{w}$ son vectores unitarios y distintos\n",
    "\n",
    "$$\n",
    "\\| P\\ket{w}\\|^2 = \\bra{w}P^\\dagger P\\ket{w} = \\bra{w} P\\ket{w}= \\braket{w}{u}\\braket{u}{w} = |\\braket{u}{w}|^2 < \\|\\ket{u}\\|\\|\\ket{w}\\| = 1  \n",
    "$$\n",
    "\n",
    "donde hemos aplicado la <i>desigualdad de Cauchy Schwarz</i> estricta, al suponer que $\\ket{u}\\neq\\ket{w}$.\n",
    ":::"
   ]
  },
  {
   "cell_type": "markdown",
   "id": "abe1ce32",
   "metadata": {
    "slideshow": {
     "slide_type": "skip"
    }
   },
   "source": [
    "**Matriz asociada a un proyector**\n",
    "\n",
    "\n",
    "- Si $\\ket{u} = \\ket{e_1}$ el operador $P_1 = \\ket{e_1}\\bra{e_1}$ proyecta cualquier vector a lo largo de $\\ket{e_1}$. En forma matricial\n",
    "\\begin{equation}\n",
    " \\ket{e_1}\\bra{e_1} = \\begin{pmatrix} 1 & 0 & ...& 0 \\end{pmatrix} \\begin{pmatrix} 1 \\\\ 0 \\\\ \\vdots\\\\ 0 \\end{pmatrix} =\n",
    " \\begin{pmatrix} 1 & 0 &  \\cdots & 0 \\\\ 0 & 0  & \\cdots & 0 \\\\ \n",
    " \\vdots & \\vdots &\\vdots & \\vdots  \\\\\n",
    " 0  & 0 & \\cdots & 0\\end{pmatrix}\n",
    "\\end{equation}\n",
    "de modo que\n",
    "\\begin{equation}\n",
    "\\ket{e_1}\\braket{e_1}{u} ~= ~\\begin{pmatrix} 1 & 0 &  \\cdots & 0 \\\\ 0 & 0  & \\cdots & 0 \\\\ \n",
    " \\vdots & \\vdots &\\vdots & \\vdots  \\\\\n",
    "0  & 0 & \\cdots & 0\\end{pmatrix} \\begin{pmatrix} u_1 \\\\ u_2 \\\\ \\vdots \\\\ u_N \\end{pmatrix}\n",
    " = \\begin{pmatrix} u^1 \\\\ 0 \\\\ \\vdots \\\\ 0 \\end{pmatrix} = u^1 \\ket{e_1}\n",
    "\\end{equation}\n",
    "    \n"
   ]
  },
  {
   "cell_type": "markdown",
   "id": "79df25ce",
   "metadata": {
    "slideshow": {
     "slide_type": "skip"
    }
   },
   "source": [
    "- Si $\\ket{u} = \\sum_i u^i\\ket{e_i}$ es un vector unitario  $\\|\\ket{u}\\|=1$, entonces el proyector a lo largo de $\\ket{u}$ viene dado por\n",
    "\n",
    "$$\n",
    "P(u) = \\ketbra{u}{u} = \\sum_{i,j} u_i u^*_j \\ketbra{e_i}{e_j}\n",
    "$$\n",
    "\n",
    "Es decir, le está asociada una matriz dada por $P_{ij}=u_iu^*_j$. Es trivial verificar que \n",
    "\n",
    "$$\n",
    "P^2_{ik} = \\sum_j P_{ij}P_{jk} = \\sum_j u_i u^*_j u_j u^*_k = u_i\\left(\\sum_j u^*_j u_j\\right) u_k = u_i u_k^* = P_{ik}\n",
    "$$\n",
    "\n",
    "como corresponde a un proyector.\n",
    "    \n"
   ]
  },
  {
   "cell_type": "markdown",
   "id": "ed88740c",
   "metadata": {
    "slideshow": {
     "slide_type": "slide"
    }
   },
   "source": [
    "**Proyector ortogonal**\n"
   ]
  },
  {
   "cell_type": "markdown",
   "id": "5dcfc4a8",
   "metadata": {
    "slideshow": {
     "slide_type": "-"
    }
   },
   "source": [
    "\n",
    "Sea $P = \\ket{u}\\bra{u}$ un proyector a lo largo de un vector $\\ket{u}.~$\n",
    "Entonces el operador $\\Rightarrow  P_\\perp = I - P$ verifica que\n",
    "\n",
    "- es proyector \n",
    "\n",
    "$$~~ P_\\perp^2 = P_\\perp $$\n",
    "\n",
    "- es perpendicular a $P$ \n",
    "\n",
    "\\begin{eqnarray}\n",
    "P_\\perp P &=& (I - P) P = P - P^2 = P - P =  0 \n",
    "\\end{eqnarray} \n",
    " \n",
    "<br>\n",
    "\n"
   ]
  },
  {
   "cell_type": "markdown",
   "id": "771ec373",
   "metadata": {
    "slideshow": {
     "slide_type": "slide"
    }
   },
   "source": [
    "**En resumen:** \n",
    "\n",
    "- dado un vector $\\ket{u}$, podemos descomponer cualquier  otro vector $\\ket{\\psi}$ en sus proyecciones paralela y perpendicular\n",
    "<br>\n",
    "$$\n",
    "\\ket{\\psi} = ( P + P_\\perp) \\ket{\\psi} = a \\ket{u} + b \\ket{u_\\perp} \n",
    "$$\n",
    "<br>\n",
    "donde $a = \\braket{u}{\\psi}$ y  $b = \\braket{u_\\perp}{\\psi}$\n",
    "<br>\n",
    "<br>\n",
    "\n",
    "- $\\ket{u_\\perp}$ y  $\\ket{u}$ son perpendiculares\n",
    "<br>\n",
    "\n",
    "- $\\ket{u}$, $\\ket{u_\\perp}$  y $\\ket{\\psi}$, están en un mismo plano (ver figura)"
   ]
  },
  {
   "cell_type": "code",
   "execution_count": 4,
   "id": "ca29b1e4",
   "metadata": {
    "slideshow": {
     "slide_type": "slide"
    }
   },
   "outputs": [
    {
     "data": {
      "text/latex": [
       "$$\n",
       "\n",
       "\\begin{bmatrix}\n",
       "0.507146995 + 0.1579800449 i  \\\\\n",
       " -0.2590099195 + 0.1551147126 i  \\\\\n",
       " 0.1779771317 - 0.7713764703 i  \\\\\n",
       " \\end{bmatrix}\n",
       "$$"
      ],
      "text/plain": [
       "<IPython.core.display.Latex object>"
      ]
     },
     "metadata": {},
     "output_type": "display_data"
    },
    {
     "data": {
      "text/latex": [
       "$$\n",
       "\n",
       "\\begin{bmatrix}\n",
       "0.2821557691 & -0.1068510731 - 0.1195843591 i & -0.0316015219 + 0.4193180942 i  \\\\\n",
       " -0.1068510731 + 0.1195843591 i & 0.0911467125 & -0.165749682 - 0.1721872859 i  \\\\\n",
       " -0.0316015219 - 0.4193180942 i & -0.165749682 + 0.1721872859 i & 0.6266975184  \\\\\n",
       " \\end{bmatrix}\n",
       "$$"
      ],
      "text/plain": [
       "<IPython.core.display.Latex object>"
      ]
     },
     "metadata": {},
     "output_type": "display_data"
    },
    {
     "data": {
      "text/latex": [
       "$$\n",
       "\n",
       "\\begin{bmatrix}\n",
       "0.7178442309 & 0.1068510731 + 0.1195843591 i & 0.0316015219 - 0.4193180942 i  \\\\\n",
       " 0.1068510731 - 0.1195843591 i & 0.9088532875 & 0.165749682 + 0.1721872859 i  \\\\\n",
       " 0.0316015219 + 0.4193180942 i & 0.165749682 - 0.1721872859 i & 0.3733024816  \\\\\n",
       " \\end{bmatrix}\n",
       "$$"
      ],
      "text/plain": [
       "<IPython.core.display.Latex object>"
      ]
     },
     "metadata": {},
     "output_type": "display_data"
    }
   ],
   "source": [
    "d = 3\n",
    "\n",
    "' generamos un vector aleatorio'\n",
    "u = tQ.random_ket(d)\n",
    "display(array_to_latex(u))\n",
    "\n",
    "' obtenemos los proyectores paralelo y perpendicular'\n",
    "P_par = tQ.ket_bra(u,u);\n",
    "P_perp = np.identity(d) - P_par\n",
    "\n",
    "display(array_to_latex(P_par))\n",
    "display(array_to_latex(P_perp))"
   ]
  },
  {
   "cell_type": "code",
   "execution_count": 9,
   "id": "135c6cff",
   "metadata": {
    "slideshow": {
     "slide_type": "slide"
    }
   },
   "outputs": [
    {
     "data": {
      "text/latex": [
       "$$\n",
       "\n",
       "\\begin{bmatrix}\n",
       "0 & 0 & 0  \\\\\n",
       " 0 & 0 & 0  \\\\\n",
       " 0 & 0 & 0  \\\\\n",
       " \\end{bmatrix}\n",
       "$$"
      ],
      "text/plain": [
       "<IPython.core.display.Latex object>"
      ]
     },
     "metadata": {},
     "output_type": "display_data"
    },
    {
     "name": "stdout",
     "output_type": "stream",
     "text": [
      "(-0+0j)\n"
     ]
    }
   ],
   "source": [
    "\n",
    "' check properties P^2 = P, and orthogonality '\n",
    "A = P_par@P_par - P_par\n",
    "B = P_perp@P_perp - P_perp\n",
    "C = P_par@P_perp\n",
    "\n",
    "display(array_to_latex(A))\n",
    "\n",
    "\n",
    "' obtain parallel and perpendicular components of another vector'\n",
    "psi = tQ.random_ket(d)\n",
    "\n",
    "psi_par = np.dot(P_par,psi)\n",
    "psi_perp = np.dot(P_perp,psi)\n",
    "\n",
    "\n",
    "print(np.round(tQ.braket(psi_par,psi_perp),4))"
   ]
  },
  {
   "cell_type": "markdown",
   "id": "0adc9ea3",
   "metadata": {
    "slideshow": {
     "slide_type": "slide"
    }
   },
   "source": [
    ":::{admonition} **Ejercicio** (*reflector*)\n",
    ":class: tip \n",
    "\n",
    "Dado un vector unitario $\\ket{u}$, escribe el operador $R_u^{\\perp}$ que <i>refleja la componente perpendicular</i> a $\\ket{u}$ de cualquier  vector $\\ket{\\psi}$ el operador $R_{u}^{\\|}$ que <i>refleja la componente paralela</i> a $\\ket{u}$ de cualquier  vector $\\ket{\\psi}$ \n",
    ":::"
   ]
  },
  {
   "cell_type": "markdown",
   "id": "b90f397d",
   "metadata": {
    "slideshow": {
     "slide_type": "skip"
    }
   },
   "source": [
    "**Proyectores sobre un subespacio**\n",
    "\n",
    "Consideremos una base ortonormal $\\{\\ket{e_i}\\}~,i=1,...,N $  de $\\Hil$ y dividámosla en dos subconjuntos\n",
    "\n",
    "$$\n",
    "\\{\\ket{e_i}\\},~ i=1,...,N_1 ~~~~~~~,~~~~~~~~\\{\\ket{e_{j+N_1}},~j=1,...,N_2   \n",
    "$$\n",
    "\n",
    "Cualquier vector admite una descomposición ortogonal \n",
    "\n",
    "\\begin{eqnarray}\n",
    "\\ket{\\psi} &~=~& \\sum_{i=1}^N a_i \\ket{e_i}   ~= ~ \\sum_{i=1}^N a_i \\ket{e_i} + \\sum_{i=1}^{N_2} a_{i+N_1} \\ket{e_{i+N_1}} ~\\equiv ~ \\ket{\\psi_1} + \\ket{\\psi_2}\\rule{0mm}{5mm}\n",
    "\\end{eqnarray}\n",
    "\n",
    "con $\\braket{\\psi_1}{\\psi_2} = 0$. "
   ]
  },
  {
   "cell_type": "markdown",
   "id": "1c631400",
   "metadata": {
    "slideshow": {
     "slide_type": "skip"
    }
   },
   "source": [
    "Decimos que el espacio $\\Hil$ se descompone en la *suma directa de subespacios ortogonales*\n",
    "\n",
    "$$\n",
    "\\Hil = \\Hil_1 \\oplus \\Hil_2 \n",
    "$$\n",
    "\n",
    "de dimensiones $N_1 + N_2 = N$,\n"
   ]
  },
  {
   "cell_type": "markdown",
   "id": "4fb9c5d0",
   "metadata": {
    "slideshow": {
     "slide_type": "skip"
    }
   },
   "source": [
    "Los operadores \n",
    "\n",
    "$$\n",
    "P_1 = \\sum_{i=1}^{N_1} \\ket{e_i}\\bra{e_i} ~~~~~~~,~~~~~~~~ P_2 = \\sum_{i=1}^{N_2} \\ket{e_{i+N_1}}\\bra{e_{i+N_1}}\n",
    "= I - P_1\n",
    "$$\n",
    "\n",
    "Verifican la ecuación que define un proyector\n",
    "\n",
    "$$\n",
    "P_1^2 = P_1~~~~~,~~~~P_2^2 = P_2\n",
    "$$"
   ]
  },
  {
   "cell_type": "markdown",
   "id": "cc2e2154",
   "metadata": {
    "slideshow": {
     "slide_type": "skip"
    }
   },
   "source": [
    "Su acción extrae de un vector su componente en el subespacio asociado\n",
    "\n",
    "$$\n",
    "P_1 \\ket{\\psi} ~=~ \\sum_{i=1}^{N_1} \\ket{e_i}\\bra{e_i} \\left(\\sum_{k=1}^N a_k \\ket{u_k} \\right) ~=~\n",
    "\\sum_{i=1}^{N_1} a_i \\ket{e_i} ~=~ \\ket{\\psi_1}\\in Hil_1\n",
    "$$\n",
    "\n",
    "$$\n",
    "P_2 \\ket{\\psi} ~=~ \\sum_{i=1}^{N_2} \\ket{e_{i+N_1}}\\bra{e_{i+N_1}} \\left(\\sum_{k=1}^N a_k \\ket{u_k} \\right) ~=~\n",
    "\\sum_{i=1}^{N_1} a_{i+N_1} \\ket{e_{i+N_1}} ~=~ \\ket{\\psi_2}\\in Hil_2\n",
    "$$"
   ]
  },
  {
   "cell_type": "markdown",
   "id": "ffc2a9f0",
   "metadata": {
    "slideshow": {
     "slide_type": "skip"
    }
   },
   "source": [
    "Claramente verifican\n",
    "\n",
    "$$\n",
    "(P_1 + P_2)\\ket{\\psi} = \\ket{\\psi}\n",
    "$$\n",
    "\n",
    "En resumen, vemos que satisfacen \n",
    "\n",
    "$$\n",
    "P_1 P_2 = P_2 P_1  = 0 ~~~,~~~~P_1 + P_2 = I\n",
    "$$\n"
   ]
  },
  {
   "cell_type": "markdown",
   "id": "61c01988",
   "metadata": {
    "slideshow": {
     "slide_type": "skip"
    }
   },
   "source": [
    ":::{admonition} Nota\n",
    ":class: note\n",
    "\n",
    "Notar que $P_1 \\neq P_v = \\ketbra{v}{v}$ donde $\\ket{v} = \\sum_i \\ket{i}$. Este operador proyectaría cualquier vector *siempre* en la dirección de $\\ket{v}$.\n",
    ":::"
   ]
  }
 ],
 "metadata": {
  "celltoolbar": "Slideshow",
  "kernelspec": {
   "display_name": "Python 3 (ipykernel)",
   "language": "python",
   "name": "python3"
  },
  "language_info": {
   "codemirror_mode": {
    "name": "ipython",
    "version": 3
   },
   "file_extension": ".py",
   "mimetype": "text/x-python",
   "name": "python",
   "nbconvert_exporter": "python",
   "pygments_lexer": "ipython3",
   "version": "3.10.13"
  },
  "toc": {
   "base_numbering": 1,
   "nav_menu": {},
   "number_sections": true,
   "sideBar": true,
   "skip_h1_title": false,
   "title_cell": "Table of Contents",
   "title_sidebar": "Contents",
   "toc_cell": false,
   "toc_position": {},
   "toc_section_display": true,
   "toc_window_display": false
  },
  "varInspector": {
   "cols": {
    "lenName": 16,
    "lenType": 16,
    "lenVar": 40
   },
   "kernels_config": {
    "python": {
     "delete_cmd_postfix": "",
     "delete_cmd_prefix": "del ",
     "library": "var_list.py",
     "varRefreshCmd": "print(var_dic_list())"
    },
    "r": {
     "delete_cmd_postfix": ") ",
     "delete_cmd_prefix": "rm(",
     "library": "var_list.r",
     "varRefreshCmd": "cat(var_dic_list()) "
    }
   },
   "types_to_exclude": [
    "module",
    "function",
    "builtin_function_or_method",
    "instance",
    "_Feature"
   ],
   "window_display": false
  }
 },
 "nbformat": 4,
 "nbformat_minor": 5
}
