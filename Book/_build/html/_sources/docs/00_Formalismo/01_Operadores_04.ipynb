{
 "cells": [
  {
   "cell_type": "markdown",
   "id": "5cb046c7",
   "metadata": {
    "slideshow": {
     "slide_type": "slide"
    }
   },
   "source": [
    "---\n",
    "license: CC-BY-4.0\n",
    "github: https://github.com/jamasole/Curso-TalentQ-Jupyterlab\n",
    "subject: Curso\n",
    "venue: Quantum Spain\n",
    "authors:\n",
    "  - name: Javier Mas\n",
    "    email: javier.mas@usc.es\n",
    "    corresponding: true\n",
    "    orcid: 0000-0001-7008-2126\n",
    "    affiliations:\n",
    "      - IGFAE-USC\n",
    "  - name: David Castaño\n",
    "    email: david.castano@uma.es\n",
    "    corresponding: true\n",
    "    orcid: 0000-0001-7008-2126\n",
    "    affiliations:\n",
    "      - UMA\n",
    "math:   \n",
    "    '\\i': '{i}'\n",
    "    '\\bes': '\\begin{equation*}'\n",
    "    '\\ees': '\\end{equation*}'\n",
    "    '\\O': '{\\mathcal O}'\n",
    "    '\\Lin': '\\rm L'\n",
    "    '\\Hil': '{\\mathcal H}'\n",
    "    '\\braa': '{\\langle #1|}'\n",
    "    '\\ket': '{|#1\\rangle}'\n",
    "    '\\braket': '{\\langle #1|#2\\rangle}'\n",
    "    '\\ketbra': '{|#1\\rangle\\langle #2|}'\n",
    "    '\\tr': '{\\rm tr}'\n",
    "    '\\R': '{\\mathbb R}' \n",
    "    '\\C': '{\\mathbb C}'\n",
    "    '\\V': '{V}'\n",
    "---"
   ]
  },
  {
   "cell_type": "markdown",
   "id": "473db2d0-c360-4cc5-8375-746888d17e83",
   "metadata": {},
   "source": [
    "```{figure} ../thumbnails/myThumbnail.png\n",
    ":align: center\n",
    "```"
   ]
  },
  {
   "cell_type": "markdown",
   "id": "05f1f796",
   "metadata": {
    "slideshow": {
     "slide_type": "skip"
    }
   },
   "source": [
    "## Autovalores y autovectores\n",
    "       "
   ]
  },
  {
   "cell_type": "markdown",
   "id": "83b59e58-6e16-4ee3-ba7f-58a5bdc0b1a1",
   "metadata": {},
   "source": [
    "```{contents}\n",
    ":local:\n",
    ":depth: 2\n",
    "```"
   ]
  },
  {
   "cell_type": "code",
   "execution_count": 2,
   "id": "c7bd5d4c",
   "metadata": {
    "slideshow": {
     "slide_type": "-"
    }
   },
   "outputs": [],
   "source": [
    "import sys\n",
    "sys.path.append('../')\n",
    "import macro_tQ as tQ\n",
    "\n",
    "import numpy as np\n",
    "import scipy.linalg as la\n",
    "from IPython.display import display,Markdown,Latex\n",
    "import matplotlib.pyplot as plt\n",
    "from qiskit.tools.visualization import array_to_latex"
   ]
  },
  {
   "cell_type": "markdown",
   "id": "afd750e0",
   "metadata": {
    "slideshow": {
     "slide_type": "slide"
    }
   },
   "source": [
    "### Valores y vectores propios"
   ]
  },
  {
   "cell_type": "markdown",
   "id": "14157252-561a-481d-ba8c-358cfbf38542",
   "metadata": {},
   "source": [
    ":::{card}\n",
    "\n",
    "**Definición** (*autovalores y autovectores*)\n",
    "\n",
    "^^^\n",
    "\n",
    "Existen vectores, $\\ket{\\lambda}$ para los cuales la <i>la acción de un operador</i> $A$ devuelve un vector <i>paralelo</i> al original\n",
    "\n",
    "$$\n",
    "A\\ket{\\lambda} = \\lambda \\ket{\\lambda}\\, \n",
    "$$\n",
    "    \n",
    "Decimos que $\\ket{\\lambda}$ es un vector propio (o autovector) de $A$ con valor propio (o autovalor) asociado $\\lambda\\in {\\mathbb C}$ \n",
    ":::"
   ]
  },
  {
   "cell_type": "markdown",
   "id": "ecba41fb",
   "metadata": {
    "slideshow": {
     "slide_type": "skip"
    }
   },
   "source": [
    "Supongamos que $A$ tiene $d$ vectores propios con los que podemos formar un *base ortonormal* $\\{\\ket{\\lambda_i}\\}$\n",
    "tal que\n",
    "\n",
    "$$\n",
    "\\ket{\\lambda_j} = \\sum_i U_{ij}\\ket{e_i}, \n",
    "$$\n",
    "Claramente $U_{ij}$ es la matriz unitaria formada por las componentes de los vectores propios (apilados por columnas)\n",
    "\n",
    "::::{card}\n",
    "**Lema**\n",
    "\n",
    "^^^\n",
    "\n",
    "La matriz $U$ es la matriz que diagonaliza $A$\n",
    "\n",
    "$$\n",
    "A_{diag} = \\begin{pmatrix} \\lambda_1 & & \\\\ & \\ddots & \\\\ & & \\lambda_d \\end{pmatrix} = U^\\dagger A U\n",
    "$$\n",
    "\n",
    ":::{dropdown} Demostración\n",
    "\\begin{eqnarray}\n",
    "(A_{diag})_{ij} &\\equiv& \\bra{\\lambda_i}A\\ket{\\lambda_j} \\\\\n",
    "&=& \\big(\\sum_k\\bra{e_k}U_{ki}^*\\big)  A \\sum_l\\big( U_{lj}\\ket{e_l}) \\\\\n",
    "&=& \\sum_{k,l} U_{ki}^* \\bra{e_k} A\\ket{e_l}    U_{lj}\\\\\n",
    "&=& \\sum_{k,l} U^\\dagger_{ik} A_{kl} U_{lj} \\\\\n",
    "&=& (U^\\dagger A U)_{ij}\n",
    "\\end{eqnarray}\n",
    ":::\n",
    "::::"
   ]
  },
  {
   "cell_type": "code",
   "execution_count": 13,
   "id": "42fbdbaf",
   "metadata": {
    "slideshow": {
     "slide_type": "skip"
    }
   },
   "outputs": [
    {
     "name": "stdout",
     "output_type": "stream",
     "text": [
      "valprop = [1.+1.j 1.-1.j]\n"
     ]
    },
    {
     "data": {
      "text/latex": [
       "$$\n",
       "\n",
       "\\begin{bmatrix}\n",
       "\\frac{\\sqrt{2}}{2} & \\frac{\\sqrt{2}}{2}  \\\\\n",
       " - \\frac{\\sqrt{2} i}{2} & \\frac{\\sqrt{2} i}{2}  \\\\\n",
       " \\end{bmatrix}\n",
       "$$"
      ],
      "text/plain": [
       "<IPython.core.display.Latex object>"
      ]
     },
     "execution_count": 13,
     "metadata": {},
     "output_type": "execute_result"
    }
   ],
   "source": [
    "A = np.matrix([[1, -1], [1, 1]])\n",
    "\n",
    "' hallamos los autovalores y autovectores'\n",
    "eigvals, eigvecs = np.linalg.eig(A)\n",
    "print('valprop =',eigvals)\n",
    "#print('vecprop =',eigvecs)\n",
    "array_to_latex(eigvecs)\n"
   ]
  },
  {
   "cell_type": "code",
   "execution_count": 14,
   "id": "e89332be",
   "metadata": {
    "slideshow": {
     "slide_type": "skip"
    }
   },
   "outputs": [
    {
     "data": {
      "text/latex": [
       "$$\n",
       "A|\\lambda_m \\rangle -\\lambda_m |\\lambda_m\\rangle =  \n",
       "\\begin{bmatrix}\n",
       "0  \\\\\n",
       " 0  \\\\\n",
       " \\end{bmatrix}\n",
       "$$"
      ],
      "text/plain": [
       "<IPython.core.display.Latex object>"
      ]
     },
     "execution_count": 14,
     "metadata": {},
     "output_type": "execute_result"
    }
   ],
   "source": [
    "'verificamos que los autovectores son las columnas de v'\n",
    "\n",
    "#m=0\n",
    "m=1\n",
    "array_to_latex(np.dot(A, eigvecs[:, m]) - eigvals[m] * eigvecs[:, m],prefix=r'A|\\lambda_m \\rangle -\\lambda_m |\\lambda_m\\rangle =  ')"
   ]
  },
  {
   "cell_type": "code",
   "execution_count": 15,
   "id": "15af3932",
   "metadata": {
    "slideshow": {
     "slide_type": "skip"
    }
   },
   "outputs": [
    {
     "data": {
      "text/latex": [
       "$$\n",
       "A_{diag} = U^\\dagger A U = \n",
       "\\begin{bmatrix}\n",
       "1 + i & 0  \\\\\n",
       " 0 & 1 - i  \\\\\n",
       " \\end{bmatrix}\n",
       "$$"
      ],
      "text/plain": [
       "<IPython.core.display.Latex object>"
      ]
     },
     "execution_count": 15,
     "metadata": {},
     "output_type": "execute_result"
    }
   ],
   "source": [
    "' diagonalizamos A '\n",
    "U = np.matrix(eigvecs);\n",
    "\n",
    "array_to_latex(np.dot(U.getH(),np.dot(A,U)),prefix='A_{diag} = U^\\dagger A U = ')"
   ]
  },
  {
   "cell_type": "markdown",
   "id": "4983453a",
   "metadata": {
    "slideshow": {
     "slide_type": "skip"
    }
   },
   "source": [
    "### Autovalores degenerados: subespacios propios "
   ]
  },
  {
   "cell_type": "markdown",
   "id": "145b17c9",
   "metadata": {
    "slideshow": {
     "slide_type": "skip"
    }
   },
   "source": [
    ":::{card} \n",
    "\n",
    "**Definición:**\n",
    "\n",
    "^^^\n",
    "\n",
    "Decimos que un autovalor $\\lambda$ es $d$ <i>veces degenerado</i> si existen $d$ autovectores linealmente independientes,  $\\ket{\\lambda^{a}}$ con $a=1,...,d$ asociados al **mismo** autovalor, es decir:\n",
    "\n",
    "$$\n",
    "A\\ket{\\lambda^a} = \\lambda \\ket{\\lambda^a}\n",
    "$$ \n",
    "\n",
    ":::\n"
   ]
  },
  {
   "cell_type": "markdown",
   "id": "6f51839c",
   "metadata": {
    "slideshow": {
     "slide_type": "skip"
    }
   },
   "source": [
    "Sea $\\ket{u} = \\sum_{a=1}^{d} c_a\\ket{\\lambda^a} $ una combinación de dichos vectores propios, entonces\n",
    "\n",
    "\\begin{eqnarray}\n",
    "A \\ket{u} \n",
    "=  \\sum_{a=1}^{d} c_a A\\ket{\\lambda^a}  =  \\sum_{a=1}^{d} c_a \\lambda\\ket{\\lambda^a}  =   \\lambda \\sum_{a=1}^{d} c_a \\ket{\\lambda^a}  =\\lambda\\ket{u}\n",
    "\\end{eqnarray}\n",
    "\n",
    "Por tanto $\\ket{u}$ es también vector propio con idéntico autovalor. Matemáticamente esto quiere decir que los autovectores asociados a un autovalor $d$ veces degenerado generan un <i>subespacio vectorial propio</i> $\\Hil_\\lambda\\subset \\Hil$. \n",
    "\n"
   ]
  },
  {
   "cell_type": "markdown",
   "id": "1f5a7a49",
   "metadata": {
    "slideshow": {
     "slide_type": "skip"
    }
   },
   "source": [
    "- El teorema de Gramm-Schmidt garantiza que podemos elegir (mediante un cambio adecuado) el conjunto $\\{\\ket{\\lambda^a}\\}\\in (\\lambda), a=1,...,d$ de forma que que sea una  <i>base ortonormal</i> \n",
    "\n",
    "$$\\braket{\\lambda^a}{\\lambda^b}=\\delta_{ab}$$"
   ]
  },
  {
   "cell_type": "markdown",
   "id": "9657d815",
   "metadata": {
    "slideshow": {
     "slide_type": "skip"
    }
   },
   "source": [
    "- El **proyector ortogonal** sobre el subespacio propio $\\Hil_\\lambda$ será la suma de proyectores sobre cada autovector propio\n",
    "\n",
    "$$\n",
    "P = \\sum_{a=1}^{d} \\ketbra{\\lambda^a}{\\lambda^a}\n",
    "$$"
   ]
  },
  {
   "cell_type": "markdown",
   "id": "52c86998",
   "metadata": {
    "slideshow": {
     "slide_type": "skip"
    }
   },
   "source": [
    ":::{admonition} Ejemplo\n",
    ":class: tip\n",
    "\n",
    "Llamemos $R_z(\\theta)$ el operador que efectúa una rotación  en el plano  $(x,y)$ de ángulo $\\theta$. Cuando $\\theta = \\pi$ encontramos las siguiente acción sobre los tres elementos $\\{\\hat{\\bf x},\\hat{\\bf y},\\hat{\\bf z}\\}$\n",
    "de la base cartesiana\n",
    "\n",
    "\\begin{eqnarray}\n",
    "R_z(\\pi)\\hat{\\bf x} &=&-\\hat{\\bf x}  \\\\ \\rule{0mm}{6mm}\n",
    "R_z(\\pi)\\hat{\\bf y} &=& -\\hat{\\bf y}  \\\\ \\rule{0mm}{6mm}\n",
    "R_z(\\pi)\\hat{\\bf z} &=& + \\hat{\\bf z}  \n",
    "\\end{eqnarray}    \n",
    " \n",
    "Vemos que hay un autovector $\\hat{\\bf z}$ con autovalor $+1$ y dos autovectores $\\hat{\\bf x} $ y $\\hat{\\bf y} $\n",
    "con autovalor $-1$. \n",
    "\n",
    "El espacio ${\\mathbb R}^3$ se divide en dos subespacios propios de $R_z(\\pi)$, uno de dimensión 1 (a lo largo del eje $\\hat{\\bf z}$) y otro de dimensión 2 (en el plano $(\\hat{\\bf x},\\hat{\\bf y})$).\n",
    "\n",
    "Los proyectores asociados serán\n",
    "   \n",
    "$$\n",
    "P_{\\hat{\\bf z}}= \\ket{\\hat{\\bf z}}\\bra{\\hat{\\bf z}}=\\begin{bmatrix} 0 & & \\\\ & 0 & \\\\ & & 1 \\end{bmatrix}~~~,~~~\n",
    "P_{\\hat{\\bf x}\\hat{\\bf y}}= \\ket{\\hat{\\bf x}}\\bra{\\hat{\\bf x}}+\\ket{\\hat{\\bf y}}\\bra{\\hat{\\bf y}}=\\begin{bmatrix} 1 & & \\\\ & 1 & \\\\ & & 0 \\end{bmatrix}~~~,~~~\n",
    "$$\n",
    "\n",
    ":::\n"
   ]
  },
  {
   "cell_type": "markdown",
   "id": "13dddeb5",
   "metadata": {
    "slideshow": {
     "slide_type": "skip"
    }
   },
   "source": [
    "### Espectro de Operadores Normales\n",
    "\n"
   ]
  },
  {
   "cell_type": "markdown",
   "id": "da34e728",
   "metadata": {
    "slideshow": {
     "slide_type": "skip"
    }
   },
   "source": [
    "Recordemos la definición de un operador normal. $N$ será un operador normal si conmuta con su adjunto\n",
    "\n",
    "$$\n",
    "NN^\\dagger = N^\\dagger N\n",
    "$$\n",
    "\n",
    "La importancia de los operadores normales radica en el siguiente lema     "
   ]
  },
  {
   "cell_type": "markdown",
   "id": "22d1e721",
   "metadata": {
    "slideshow": {
     "slide_type": "skip"
    }
   },
   "source": [
    "::::{card} \n",
    "\n",
    "**Teorema**\n",
    "\n",
    "^^^\n",
    "\n",
    "Un operador es normal si y sólo si es diagonalizable\n",
    "\n",
    "Dos autovectores de un operador normal asociados a dos autovalores <i>distintos</i>  son <i>ortogonales</i>\n",
    "\n",
    "$$\n",
    "\\lambda_i\\neq \\lambda_j~~~~\\Longleftrightarrow ~~~~ \\braket{\\lambda_i}{\\lambda_j} = 0\n",
    "$$\n",
    "\n",
    ":::{dropdown} Desmostración\n",
    "\n",
    "De la ecuación de autovalores $N\\ket{\\lambda_j} =  \\lambda_j \\ket{\\lambda_j}$, y de $NN^\\dagger = N^\\dagger N$, se sigue que\n",
    "\n",
    "$$\n",
    "\\bra{\\lambda_j}(N^\\dagger - \\lambda_j^*)(N - \\lambda_j) \\ket{\\lambda_j} = \\bra{\\lambda_j}(N - \\lambda_j)(N^\\dagger - \\lambda_j^*) \\ket{\\lambda_j}  = 0\\,\n",
    "$$\n",
    "\n",
    "de donde obtenemos $(N^\\dagger - \\lambda_j^*) \\ket{\\lambda_j} = 0 \\Rightarrow \\bra{\\lambda_j} N = \\bra{\\lambda_j}\\lambda_j$. Entonces\n",
    "\n",
    "$$\n",
    "\\bra{\\lambda_j}N\\ket{\\lambda_i} = \\lambda_j \\braket{\\lambda_j}{\\lambda_i} = \\lambda_i \\braket{\\lambda_j}{\\lambda_i} \\, ,\n",
    "$$\n",
    "\n",
    "de donde se sigue que, para $\\lambda_i \\neq \\lambda_j \\Rightarrow \\braket{\\lambda_i}{\\lambda_j} = 0$. \n",
    "\n",
    ":::\n",
    "::::\n"
   ]
  },
  {
   "cell_type": "markdown",
   "id": "66a3ce24",
   "metadata": {
    "slideshow": {
     "slide_type": "skip"
    }
   },
   "source": [
    "En general, cada autovalor $\\lambda_k$ será $d_k \\geq 1$ veces degenerado. \n",
    "\n",
    "En ese caso hay  $\\{\\ket{\\lambda^a_k}\\}, a=1,...,d_k$ autovectores que generan el subespacio propio, $\\Hil_{\\lambda_k}\\subset \\Hil $, de dimensión $d_k$. \n",
    "\n",
    "Subespacios $\\Hil_{\\lambda_k}\\perp \\Hil_{\\lambda_j}$ son ortogonales para $k\\neq j$ según el teorema. \n",
    "<br>\n",
    "\n"
   ]
  },
  {
   "cell_type": "markdown",
   "id": "c8fb3055",
   "metadata": {
    "slideshow": {
     "slide_type": "skip"
    }
   },
   "source": [
    ":::{admonition} Resumen\n",
    ":class: attention\n",
    "\n",
    "Siempre podemos encontrar una base  ortonormal de $\\Hil$, formada por autovectores de un operador normal $N$\n",
    "\n",
    "$$\n",
    "I = \\sum_k\\sum_{a=1}^{d_k} \\ket{\\lambda^a_k}\\bra{\\lambda^a_k} ~~~~~~~~~~~;~~~~~~~~~ \\braket{\\lambda^a_j}{\\lambda^b_k} = \\delta_{ab}\\delta_{jk}\n",
    "$$\n",
    "\n",
    "El proyector sobre el subespacio propio $\\Hil_{\\lambda_k}$ será\n",
    "\n",
    "$$\n",
    "P_k = \\sum_{a=1}^{d_k} \\ketbra{\\lambda^a_k}{\\lambda^a_k}\n",
    "$$\n",
    ":::"
   ]
  },
  {
   "cell_type": "markdown",
   "id": "c8a0a67c",
   "metadata": {
    "slideshow": {
     "slide_type": "slide"
    }
   },
   "source": [
    "### Descomposición  espectral\n"
   ]
  },
  {
   "cell_type": "markdown",
   "id": "ebc752fb",
   "metadata": {
    "slideshow": {
     "slide_type": "-"
    }
   },
   "source": [
    ":::{card}\n",
    "\n",
    "**Teorema Espectral**\n",
    "\n",
    "^^^\n",
    "    \n",
    "Para todo operador normal $N$, existe una base de  autovectores ortonormales,  $\\{\\ket{\\lambda^a_k}\\}$,  tales que \n",
    "$A$ admite la siguiente <b> descomposición espectral </b>\n",
    "\n",
    "$$\n",
    "N = \\sum_{k=1}^d \\lambda_k   P_k\n",
    "$$\n",
    "     \n",
    "donde $d=  {\\rm dim}(\\Hil)$ y $P_k = \\sum_{a=1}^{g_k} \\ketbra{\\lambda^a_k}{\\lambda^a_k}$ es el proyector sobre el subespacio propio $\\Hil_{\\lambda_k}$ si $\\lambda_k$ es $g_k$ veces degenerado.\n",
    "\n",
    ":::"
   ]
  },
  {
   "cell_type": "code",
   "execution_count": 4,
   "id": "cf04cdf2",
   "metadata": {
    "slideshow": {
     "slide_type": "slide"
    }
   },
   "outputs": [
    {
     "data": {
      "text/latex": [
       "$$\n",
       "\n",
       "\\begin{bmatrix}\n",
       "1 & 1  \\\\\n",
       " -1 & 1  \\\\\n",
       " \\end{bmatrix}\n",
       "$$"
      ],
      "text/plain": [
       "<IPython.core.display.Latex object>"
      ]
     },
     "execution_count": 4,
     "metadata": {},
     "output_type": "execute_result"
    }
   ],
   "source": [
    "A = np.array([[1, 1], [-1, 1]])\n",
    "array_to_latex(A)\n"
   ]
  },
  {
   "cell_type": "code",
   "execution_count": 5,
   "id": "76ebebd2",
   "metadata": {
    "slideshow": {
     "slide_type": "fragment"
    }
   },
   "outputs": [
    {
     "data": {
      "text/latex": [
       "$$\n",
       "P_0=\n",
       "\\begin{bmatrix}\n",
       "\\frac{1}{2} & - \\frac{i}{2}  \\\\\n",
       " \\frac{i}{2} & \\frac{1}{2}  \\\\\n",
       " \\end{bmatrix}\n",
       "$$"
      ],
      "text/plain": [
       "<IPython.core.display.Latex object>"
      ]
     },
     "metadata": {},
     "output_type": "display_data"
    },
    {
     "data": {
      "text/latex": [
       "$$\n",
       "P_1=\n",
       "\\begin{bmatrix}\n",
       "\\frac{1}{2} & \\frac{i}{2}  \\\\\n",
       " - \\frac{i}{2} & \\frac{1}{2}  \\\\\n",
       " \\end{bmatrix}\n",
       "$$"
      ],
      "text/plain": [
       "<IPython.core.display.Latex object>"
      ]
     },
     "metadata": {},
     "output_type": "display_data"
    },
    {
     "data": {
      "text/latex": [
       "$$\n",
       "P_0 + P_1=\n",
       "\\begin{bmatrix}\n",
       "1 & 0  \\\\\n",
       " 0 & 1  \\\\\n",
       " \\end{bmatrix}\n",
       "$$"
      ],
      "text/plain": [
       "<IPython.core.display.Latex object>"
      ]
     },
     "execution_count": 5,
     "metadata": {},
     "output_type": "execute_result"
    }
   ],
   "source": [
    "' Realizamos la descomposición espectral'\n",
    "eigvals, eigvecs = np.linalg.eig(A)\n",
    "\n",
    "eigvec0 = eigvecs[:,0]\n",
    "P0 = tQ.ket_bra(eigvec0,eigvec0)\n",
    "display(array_to_latex(P0,prefix='P_0='))\n",
    "\n",
    "eigvec1 = eigvecs[:,1]\n",
    "P1 = tQ.ket_bra(eigvec1,eigvec1)\n",
    "display(array_to_latex(P1,prefix='P_1='))\n",
    "\n",
    "'verificamos completitud'\n",
    "array_to_latex(P0+P1,prefix='P_0 + P_1=')"
   ]
  },
  {
   "cell_type": "code",
   "execution_count": 7,
   "id": "3d18ef69",
   "metadata": {
    "slideshow": {
     "slide_type": "skip"
    }
   },
   "outputs": [
    {
     "data": {
      "text/latex": [
       "$$\n",
       "\n",
       "\\begin{bmatrix}\n",
       "1 & 1  \\\\\n",
       " -1 & 1  \\\\\n",
       " \\end{bmatrix}\n",
       "$$"
      ],
      "text/plain": [
       "<IPython.core.display.Latex object>"
      ]
     },
     "execution_count": 7,
     "metadata": {},
     "output_type": "execute_result"
    }
   ],
   "source": [
    "' verificamos el teorema de descomposición espectral '\n",
    "A_descomp_espect = eigvals[0]*P0+eigvals[1]*P1\n",
    "\n",
    "array_to_latex(A_descomp_espect)\n"
   ]
  },
  {
   "cell_type": "markdown",
   "id": "8df31e3b",
   "metadata": {
    "slideshow": {
     "slide_type": "slide"
    }
   },
   "source": [
    "La matriz $A_{ij}$ que expresa $A$ en la base $\\ket{\\lambda_i}$ es diagonal \n",
    "\n",
    "$$\n",
    "A_{ij} = \\bra{\\lambda^a_i} A\\ket{\\lambda^b_j} =  \\lambda_k \\delta_{kj} \\delta_{ab} =\\begin{bmatrix} \\lambda_1 &  &  &  &  \\\\ & \\ddots & & & \\\\ & & \\lambda_2 & &  \\\\&  & & \\ddots & \\\\  & & & &  \\lambda_N \\end{bmatrix}\n",
    "$$\n",
    "<br>\n",
    "donde $\\lambda_k$ aparecerá $d_k$ veces repetido."
   ]
  },
  {
   "cell_type": "markdown",
   "id": "499a7223",
   "metadata": {
    "slideshow": {
     "slide_type": "skip"
    }
   },
   "source": [
    ":::{admonition} Nota\n",
    ":class: note\n",
    "\n",
    "El operador identidad tiene a cualquier vector por autovector $ I\\ket{v} = \\ket{v}$, con autovalores $\\lambda_ i = 1$. Por tanto, en <b>cualquier base</b>, la matriz asociada a $I$ tiene la forma diagonal\n",
    "\n",
    "$$\n",
    "I_{ij} = \\delta_{ij} = \\begin{pmatrix} 1 &  &  &  \\\\ & 1 & &  \\\\ & & \\ddots & \\\\ & & &  1 \\end{pmatrix}\n",
    "$$\n",
    "\n",
    "\n",
    "- La descomposición espectral de $I$ no es otra que la <b>relación de completitud</b>, que es cierta *para cualquier base*, ya que todas las bases son bases de autoestados de $I$\n",
    "\n",
    "$$\n",
    "I ~=~ \\sum_{i=1}^N \\ketbra{\\lambda_i}{\\lambda_i} ~=~ \\sum_{i=1}^N \\ketbra{e_i}{e_i}\n",
    "$$\n",
    "\n",
    ":::"
   ]
  },
  {
   "cell_type": "markdown",
   "id": "26207dd5",
   "metadata": {},
   "source": [
    ":::{admonition} Ejercicio *(explícaselo a tu ordenador)*\n",
    ":class: tip\n",
    "\n",
    "Escribe una función en python, $spectral\\_decomp$, que verifique si un operador $A$ es normal y, en caso afirmativo, devuelva las dos listas $\\lambda_i$ y $P_i$ asociadas a la decomposición espectral  $A = \\sum_i \\lambda_i P_i$.   \n",
    ":::"
   ]
  },
  {
   "cell_type": "markdown",
   "id": "d911cc7f",
   "metadata": {
    "slideshow": {
     "slide_type": "slide"
    }
   },
   "source": [
    "### Espectro de Operadores Hermíticos, Unitarios y Proyectores"
   ]
  },
  {
   "cell_type": "markdown",
   "id": "4e7c75d3-0bc3-4723-a25c-9224cfb38488",
   "metadata": {},
   "source": [
    "Los operadores hermíticos, unitarios y proyectores, son casos particulares de operadores  normales. Por tanto son diagonalizables y sus autovectores, asociados a autovalores distintos, generan subespacios mútuamente ortogonales. \n",
    "\n",
    "\n",
    "Vamos a ver cómo los requisitos adicionales que definend operadores hermíticos, unitarios y proyectores, se traducen en propiedades particulares para sus espectros. "
   ]
  },
  {
   "cell_type": "markdown",
   "id": "077177ed",
   "metadata": {},
   "source": [
    "\n",
    "- **Espectro de Operadores Hermíticos**\n",
    "\n",
    "::::{card}\n",
    "\n",
    "**Teorema**\n",
    "\n",
    "^^^\n",
    "\n",
    "\n",
    "Los autovalores de un operador hermíticos son reales $\\lambda_i \\in {\\mathbb R}$.\n",
    "\n",
    ":::{dropdown} Demostración\n",
    "\n",
    "Tomemos un autovector normalizado de $A$, $\\ket{\\lambda}$ de autovalor $\\lambda$.\n",
    "\n",
    "$$\n",
    "\\lambda = \\bra{\\lambda}A\\ket{\\lambda} =  (\\bra{\\lambda}A^\\dagger\\ket{\\lambda})^* = (\\bra{\\lambda}A\\ket{\\lambda})^*= \\lambda^* .~~~\n",
    "$$   \n",
    "\n",
    ":::\n",
    "::::\n"
   ]
  },
  {
   "cell_type": "markdown",
   "id": "edaa8323",
   "metadata": {
    "slideshow": {
     "slide_type": "skip"
    }
   },
   "source": [
    ":::{admonition} Ejericio *(explícaselo a tu ordenador)*\n",
    ":class: tip\n",
    "\n",
    "Escribe una función en python, $random\\_hermitian$, que reciba un número entero $d$ y genere una matriz hermítica de esa dimensión. <br>    \n",
    "Comprueba en distintos casos que el espectro es real. \n",
    "\n",
    ":::\n",
    " "
   ]
  },
  {
   "cell_type": "markdown",
   "id": "aca5bc42",
   "metadata": {
    "slideshow": {
     "slide_type": "slide"
    }
   },
   "source": [
    "- **Espectro de Operadores Unitarios**\n",
    "\n",
    "::::{card}\n",
    "\n",
    "**Teorema**\n",
    "\n",
    "^^^\n",
    "\n",
    "Los autovalores de un operador unitario son fases puras\n",
    "\n",
    "$$\n",
    "U^\\dagger = U^{-1} ~~~\\Longleftrightarrow ~~~\\lambda_i = e^{i\\phi_i}\n",
    "$$ \n",
    "\n",
    ":::{dropdown} Demostración\n",
    "\n",
    "Aquí tu prueba\n",
    "    \n",
    ":::\n",
    "::::"
   ]
  },
  {
   "cell_type": "markdown",
   "id": "b9630442",
   "metadata": {
    "slideshow": {
     "slide_type": "slide"
    }
   },
   "source": [
    "- **Espectro de Proyectores**\n",
    "\n",
    "::::{card}\n",
    "\n",
    "**Teorema**\n",
    "\n",
    "^^^\n",
    "\n",
    "Los autovalores de un proyector sólo pueden ser $~0~$ ó $~1~$\n",
    "\n",
    "$$\n",
    "P^2= P ~~~\\Longleftrightarrow ~~~\\lambda_i \\in \\{0,1\\}\n",
    "$$ \n",
    "\n",
    ":::{dropdown} Demostración\n",
    "\n",
    "La ecuación \n",
    "    \n",
    "$$ P^2 = P ~~~~~\\Rightarrow ~~~~~~~~ P^2 \\ket{u} = P\\ket{u} $$\n",
    "\n",
    "sólo tiene dos soluciones consistentes \n",
    "    \n",
    "$$\n",
    "P\\ket{u} = \\ket{u}~~~~~~~\\hbox{y} ~~~~~~~~~~P\\ket{u} = 0\n",
    "$$\n",
    "\n",
    ":::\n",
    "::::\n"
   ]
  },
  {
   "cell_type": "markdown",
   "id": "511cc8cd",
   "metadata": {
    "slideshow": {
     "slide_type": "skip"
    }
   },
   "source": [
    "### Operadores que conmutan"
   ]
  },
  {
   "cell_type": "markdown",
   "id": "6e90a7bb-d98f-433c-be2c-996e4e82ec34",
   "metadata": {},
   "source": [
    "Cuando dos operadores conmutan se dan ciertas propiedades algebraicas que son muy ventajosas. En cierto modo se parecen más a c-números. Veamos la primera.\n",
    " \n",
    "::::{card}\n",
    "\n",
    "**Teorema**\n",
    "\n",
    "^^^\n",
    "\n",
    "Dados dos operadores $A$ y $B$ que conmutan, [A,B] = 0, existe una base $\\{\\ket{\\lambda_i}\\}$ de autovalores simultáneos de ambos operadores, es decir \n",
    "\n",
    "$$\n",
    "A = \\lambda_i^A\\ketbra{\\lambda_i}{\\lambda_i} ~~~~,~~~~~ B= \\lambda_i^B\\ketbra{\\lambda_i}{\\lambda_i} \n",
    "$$\n",
    "\n",
    ":::{dropdown} Demostración\n",
    "\n",
    "Supongamos que $A$ y $B$ conmutan. Entonces la acción de $A$ <i>estabiliza</i> los subespacios propios de $B$. \n",
    "\n",
    "Es decir, si $\\ket{\\lambda}$ es autoestado de $B$, entonces $B\\ket{\\lambda} = \\ket{\\mu}$ también es autoestado con idéntico autovalor. Se comprueba fácilmente\n",
    "\n",
    "$$\n",
    "A(B\\ket{\\lambda} ) = B(A\\ket{\\lambda}) = B(\\lambda\\ket{\\lambda}) = \\lambda (B\\ket{\\lambda})\n",
    "$$\n",
    "\n",
    "Por tanto $\\ket{\\lambda}$ y $B\\ket{\\lambda}$ pertenecen al <i>mismo subespacio propio</i>. Esto es lo que se entiende por <i>estabilizar el subespacio</i>. \n",
    "\n",
    "\n",
    "Si $\\lambda$ es degenerado esto sólo asegura que $B\\ket{\\lambda} = \\ket{\\lambda'}$ pertenece al subespacio propio del mismo autovalor $\\lambda$. \n",
    "\n",
    "Esto quiere decir que, dento de cada subespacio propio de $B$, podemos escoger la base que queramos. En particular podemos escoger una base que diagonalice $A$ dentro de dicho subespacio.     \n",
    "\n",
    ":::\n",
    "::::"
   ]
  },
  {
   "cell_type": "markdown",
   "id": "1c70272c",
   "metadata": {
    "slideshow": {
     "slide_type": "skip"
    }
   },
   "source": [
    "En otras palabras, dos operadores que conmutan, son diagonalizables simultáneamente. \n",
    "\n",
    "Eso no implica que sus autovalores sean iguales. La matriz de cada uno en la base que diagonaliza ambos $\\{\\ket{\\lambda_i}\\}$ es\n",
    "<br>\n",
    "\n",
    "$$\n",
    "A = \\begin{bmatrix} \\lambda^A_1 & & &  \\\\ & \\lambda^A_2 & &   \\\\ & & \\ddots &  \\\\ & & & \\lambda^A_n \n",
    "\\end{bmatrix}~~~~~~~,~~~~~~~~\n",
    "B = \\begin{bmatrix} \\lambda^B_1 & & &  \\\\ & \\lambda^B_2 & &   \\\\ & & \\ddots &  \\\\ & & & \\lambda^B_n \n",
    "\\end{bmatrix}\\, .\n",
    "$$"
   ]
  },
  {
   "cell_type": "markdown",
   "id": "d543d07a",
   "metadata": {
    "slideshow": {
     "slide_type": "skip"
    }
   },
   "source": [
    "### Descomposición Polar (DP)"
   ]
  },
  {
   "cell_type": "markdown",
   "id": "9acf4f7e-9c9c-495f-a4cf-857f7bbfc71a",
   "metadata": {},
   "source": [
    ":::{card}\n",
    "\n",
    "**Teorema**\n",
    "\n",
    "^^^\n",
    "\n",
    "Todo operador $A\\in \\Lin(\\Hil)$ admite la descomposición polar $A = UR$ donde $U$ es un operador unitario, y $R$ es un operador semi-definido positivo (sólo tiene autovalores positivos o cero) \n",
    ":::"
   ]
  },
  {
   "cell_type": "markdown",
   "id": "aa2c3ecc",
   "metadata": {
    "slideshow": {
     "slide_type": "skip"
    }
   },
   "source": [
    "- La descomposición polar es *única* y generaliza la representación polar de *números complejos* $z = r e^{i\\phi}$ a *operadores*  $A = UR$\n",
    "<br>\n",
    "\n",
    "- El hecho de que $r\\geq 0$ es la contrapartida a que $R$ sea semi-definida positiva. \n",
    "<br>\n",
    "\n",
    "- El factor $e^{i\\phi}$ es análogo al hecho de que un operador unitario, como veremos, sólo tiene autovalores que son fases puras. "
   ]
  },
  {
   "cell_type": "code",
   "execution_count": 20,
   "id": "af607659",
   "metadata": {
    "slideshow": {
     "slide_type": "skip"
    }
   },
   "outputs": [
    {
     "name": "stdout",
     "output_type": "stream",
     "text": [
      "[2.252+0.j 0.417-0.j 0.875+0.j]\n"
     ]
    },
    {
     "data": {
      "text/latex": [
       "$$\n",
       "U=\n",
       "\\begin{bmatrix}\n",
       "-0.0580178141 + 0.1884493112 i & 0.384923871 + 0.2482082334 i & 0.8633350933 - 0.0774570427 i  \\\\\n",
       " 0.3911086141 + 0.1644672642 i & 0.6524985568 + 0.4513831759 i & -0.4195077651 + 0.1204021086 i  \\\\\n",
       " 0.7292141087 + 0.4993517247 i & -0.3416929121 - 0.2096928755 i & 0.1681509064 + 0.1729010213 i  \\\\\n",
       " \\end{bmatrix}\n",
       "$$"
      ],
      "text/plain": [
       "<IPython.core.display.Latex object>"
      ]
     },
     "metadata": {},
     "output_type": "display_data"
    },
    {
     "data": {
      "text/latex": [
       "$$\n",
       "U^\\dagger U=\n",
       "\\begin{bmatrix}\n",
       "1 & 0 & 0  \\\\\n",
       " 0 & 1 & 0  \\\\\n",
       " 0 & 0 & 1  \\\\\n",
       " \\end{bmatrix}\n",
       "$$"
      ],
      "text/plain": [
       "<IPython.core.display.Latex object>"
      ]
     },
     "metadata": {},
     "output_type": "display_data"
    },
    {
     "data": {
      "text/plain": [
       "array([1., 1., 1.])"
      ]
     },
     "execution_count": 20,
     "metadata": {},
     "output_type": "execute_result"
    }
   ],
   "source": [
    "'''Método para construir una matriz unitaria arbitraria usando la descomposición polar'''\n",
    "d = 3\n",
    "A = np.matrix(np.random.rand(d,d)+ np.random.rand(d,d) * 1j)\n",
    "\n",
    "#u, s, vh = linalg.svd(A, full_matrices=False)\n",
    "u,r = la.polar(A)\n",
    "    \n",
    "R = np.matrix(r) \n",
    "' verificamos que R sólo tiene autovalores no-negativos '\n",
    "Reigval, Reigvec = la.eig(R)\n",
    "print(np.round(Reigval,3))\n",
    "\n",
    "U=np.matrix(u) \n",
    "display(array_to_latex(U,prefix='U='))\n",
    "\n",
    "''' Verifiquemos unitariedad '''\n",
    "display(array_to_latex(np.dot(U.getH(),U),prefix='U^\\dagger U='))\n",
    "\n",
    "''' verificamos que los autovalores de U tienen norma unidad'''\n",
    "np.round([la.norm(la.eig(U)[0][i]) for i in range(d)],5)"
   ]
  },
  {
   "cell_type": "markdown",
   "id": "248ec9f7",
   "metadata": {
    "slideshow": {
     "slide_type": "slide"
    }
   },
   "source": [
    "### Descomposición en Valores Singulares (SVD)\n"
   ]
  },
  {
   "cell_type": "markdown",
   "id": "090cde1f",
   "metadata": {
    "slideshow": {
     "slide_type": "skip"
    }
   },
   "source": [
    "Vamos a enunciar este teorema para matrices. Concretamente el teorema habla de una matriz $m\\times n$. Este tipo de matrices se corresponden con operadores $O \\in \\Lin(\\Hil_A,\\Hil_B)$ entre espacios de dimensiones $m$ y $n$."
   ]
  },
  {
   "cell_type": "markdown",
   "id": "3a4c2230",
   "metadata": {},
   "source": [
    "Sea $A\\in \\Lin(\\Hil)$ un operador arbitrario. Podemos formar otro operador $A^\\dagger A$ \n",
    "\n",
    "::::{card}\n",
    "\n",
    "**Lema**\n",
    "\n",
    "^^^\n",
    "\n",
    "\n",
    "Los autovalores de $A^\\dagger A$ son realess, $\\lambda_i\\in {\\mathbb R}$,  y no-negativos $\\lambda_i\\geq 0$\n",
    "\n",
    ":::{dropdown} Desmostración\n",
    "\n",
    "Claramente $A^\\dagger A$ es un operador hermítico $(A^\\dagger A)^\\dagger = A^\\dagger A$, así que sus autovalores son reales $\\lambda_i \\in {\\mathbb R}$. \n",
    "\n",
    "Además es definido semi-positivo. Es decir, para todo $\\ket{v}\\in \\Hil$\n",
    "\n",
    "$$\n",
    "\\bra{v}(A^\\dagger A) \\ket{v} = \\| A\\ket{v}\\|^2 \\geq 0 \n",
    "$$\n",
    "\n",
    "donde la desigualdad de satura si y sólo si $A\\ket{v} = 0$. Por tanto todos los autovalores deben ser positivos o cero $\\lambda_i \\geq 0$\n",
    "    \n",
    ":::\n",
    "::::"
   ]
  },
  {
   "cell_type": "markdown",
   "id": "9e6c3cc3",
   "metadata": {},
   "source": [
    "Al ser no-negativos, los autovalores $\\lambda_i$ admiten una raíz cuadrada. Los que no son nulos tienen una importancia especial, y por eso se merecen un nombre \n",
    "\n",
    ":::{card}\n",
    "\n",
    "**Definición**\n",
    "\n",
    "^^^\n",
    "\n",
    "Los números $\\sigma_i = \\sqrt{\\lambda_i} > 0$ se denominan <b>valores singulares</b> de $A$, donde $\\lambda_i>0$ son los autovalores no-nulos de $A^\\dagger A$.\n",
    "\n",
    ":::"
   ]
  },
  {
   "cell_type": "markdown",
   "id": "c928d454",
   "metadata": {
    "slideshow": {
     "slide_type": "-"
    }
   },
   "source": [
    ":::{card}\n",
    "\n",
    "**Teorema**\n",
    "\n",
    "^^^\n",
    "\n",
    "Sea $A$ una matriz compleja $m\\times n$. Entonces  admite la siguiente <b>descomposición en valores singulares</b>\n",
    "\n",
    "$$\n",
    "A = U\\,\\Sigma\\, V^{\\dagger} \\, ,\n",
    "$$\n",
    "\n",
    "donde $U\\in U(m)$, $V\\in U(n)$ son matrices unitarias cuadradas y $\\,\\Sigma \\,$ es una matriz rectangular $m\\times n$ con $\\sigma_1, ...,\\sigma_r$ <i>valores singulares</i> reales y positivos   en la diagonal, donde $r\\leq {\\rm min}(m,n)$. \n",
    ":::    \n"
   ]
  },
  {
   "cell_type": "code",
   "execution_count": 67,
   "id": "dbd4c215",
   "metadata": {
    "slideshow": {
     "slide_type": "slide"
    }
   },
   "outputs": [
    {
     "data": {
      "text/latex": [
       "$$\n",
       "A=\n",
       "\\begin{bmatrix}\n",
       "0.0773964539 + 0.6810737331 i & 0.3585454477 + 0.9496809919 i  \\\\\n",
       " 1.246739534 - 1.5756473101 i & 1.3594037303 - 0.5276024719 i  \\\\\n",
       " -0.0438868881 - 1.0118714004 i & 1.1447671705 + 0.4355408865 i  \\\\\n",
       " \\end{bmatrix}\n",
       "$$"
      ],
      "text/plain": [
       "<IPython.core.display.Latex object>"
      ]
     },
     "metadata": {},
     "output_type": "display_data"
    },
    {
     "name": "stdout",
     "output_type": "stream",
     "text": [
      "the shape of A is : (3, 2)\n"
     ]
    }
   ],
   "source": [
    "A = np.random.randn(3,2)+ 1j*np.random.randn(3,2)\n",
    "display(array_to_latex(A,prefix='A='))\n",
    "print( 'the shape of A is :', A.shape)"
   ]
  },
  {
   "cell_type": "code",
   "execution_count": 71,
   "id": "1e4e77d3",
   "metadata": {
    "slideshow": {
     "slide_type": "slide"
    }
   },
   "outputs": [
    {
     "data": {
      "text/latex": [
       "$$\n",
       "U=\n",
       "\\begin{bmatrix}\n",
       "-0.221884957 - 0.2758058122 i & -0.524926579 + 0.0886189877 i & -0.6588351925 - 0.3965263807 i  \\\\\n",
       " -0.4612709323 + 0.6898625619 i & 0.284654761 - 0.059596911 i & -0.0864338709 - 0.4682604339 i  \\\\\n",
       " -0.244557824 + 0.355258305 i & -0.7422690947 - 0.2847019986 i & 0.3110792517 + 0.2918802318 i  \\\\\n",
       " \\end{bmatrix}\n",
       "$$"
      ],
      "text/plain": [
       "<IPython.core.display.Latex object>"
      ]
     },
     "metadata": {},
     "output_type": "display_data"
    },
    {
     "data": {
      "text/latex": [
       "$$\n",
       "\\Sigma=\n",
       "\\begin{bmatrix}\n",
       "4.9357412272 & 0  \\\\\n",
       " 0 & 2.1537080903  \\\\\n",
       " 0 & 0  \\\\\n",
       " \\end{bmatrix}\n",
       "$$"
      ],
      "text/plain": [
       "<IPython.core.display.Latex object>"
      ]
     },
     "metadata": {},
     "output_type": "display_data"
    },
    {
     "data": {
      "text/latex": [
       "$$\n",
       "V=\n",
       "\\begin{bmatrix}\n",
       "-0.7479798321 & 0.6637214558  \\\\\n",
       " -0.4920794208 + 0.4454032044 i & -0.5545481155 + 0.5019464282 i  \\\\\n",
       " \\end{bmatrix}\n",
       "$$"
      ],
      "text/plain": [
       "<IPython.core.display.Latex object>"
      ]
     },
     "metadata": {},
     "output_type": "display_data"
    },
    {
     "data": {
      "text/latex": [
       "$$\n",
       "U^{\\dagger}U =\n",
       "\\begin{bmatrix}\n",
       "1 & 0 & 0  \\\\\n",
       " 0 & 1 & 0  \\\\\n",
       " 0 & 0 & 1  \\\\\n",
       " \\end{bmatrix}\n",
       "$$"
      ],
      "text/plain": [
       "<IPython.core.display.Latex object>"
      ]
     },
     "metadata": {},
     "output_type": "display_data"
    },
    {
     "data": {
      "text/latex": [
       "$$\n",
       "V^{\\dagger}V =\n",
       "\\begin{bmatrix}\n",
       "1 & 0  \\\\\n",
       " 0 & 1  \\\\\n",
       " \\end{bmatrix}\n",
       "$$"
      ],
      "text/plain": [
       "<IPython.core.display.Latex object>"
      ]
     },
     "metadata": {},
     "output_type": "display_data"
    }
   ],
   "source": [
    "U, sig, Vadj = la.svd(A, full_matrices=True)\n",
    "m = U.shape[0]\n",
    "n = Vadj.shape[0]\n",
    "\n",
    "V = Vadj.T.conj()\n",
    "Sigma = np.zeros([m,n])\n",
    "for i in range(min(m,n)):\n",
    "    Sigma[i,i]=s[i]\n",
    "\n",
    "    \n",
    "display(array_to_latex(U,prefix='U='))\n",
    "display(array_to_latex(Sigma,prefix='\\Sigma='))\n",
    "display(array_to_latex(V,prefix='V='))\n",
    "\n",
    "'''Verifiquemos unitariedad'''\n",
    "display(array_to_latex(np.dot(U.T.conj(),U),prefix='U^{\\dagger}U ='))\n",
    "display(array_to_latex(np.dot(V.T.conj(),V),prefix='V^{\\dagger}V ='))\n",
    "\n"
   ]
  },
  {
   "cell_type": "code",
   "execution_count": 84,
   "id": "945c5b0d",
   "metadata": {},
   "outputs": [
    {
     "name": "stdout",
     "output_type": "stream",
     "text": [
      "[1.4137767  8.77588808]\n"
     ]
    },
    {
     "data": {
      "text/latex": [
       "$$\n",
       "H=\n",
       "\\begin{bmatrix}\n",
       "-0.6637214558 & -0.7479798321  \\\\\n",
       " 0.5545481155 - 0.5019464282 i & -0.4920794208 + 0.4454032044 i  \\\\\n",
       " \\end{bmatrix}\n",
       "$$"
      ],
      "text/plain": [
       "<IPython.core.display.Latex object>"
      ]
     },
     "execution_count": 84,
     "metadata": {},
     "output_type": "execute_result"
    }
   ],
   "source": [
    "(sig1, V) = la.eigh(np.dot(A.T.conj(),A))\n",
    "\n",
    "print(sig1)\n",
    "array_to_latex(V, prefix='H=')"
   ]
  },
  {
   "cell_type": "code",
   "execution_count": 83,
   "id": "06687410",
   "metadata": {},
   "outputs": [
    {
     "name": "stdout",
     "output_type": "stream",
     "text": [
      "[-4.44655927e-16  1.41377670e+00  8.77588808e+00]\n"
     ]
    },
    {
     "data": {
      "text/latex": [
       "$$\n",
       "U=\n",
       "\\begin{bmatrix}\n",
       "0.7689583744 & 0.5323544293 & 0.3539799149  \\\\\n",
       " 0.3155220089 + 0.3566293733 i & -0.2906038897 + 0.0113799858 i & -0.2483729147 - 0.7918283416 i  \\\\\n",
       " -0.417042302 - 0.0896665427 i & 0.6845190979 + 0.4042922724 i & -0.1235058862 - 0.4132351493 i  \\\\\n",
       " \\end{bmatrix}\n",
       "$$"
      ],
      "text/plain": [
       "<IPython.core.display.Latex object>"
      ]
     },
     "execution_count": 83,
     "metadata": {},
     "output_type": "execute_result"
    }
   ],
   "source": [
    "(sig2, U) = la.eigh(np.dot(A,A.T.conj()))\n",
    "\n",
    "print(sig2)\n",
    "array_to_latex(U, prefix='U=')"
   ]
  },
  {
   "cell_type": "markdown",
   "id": "a5b6cce4",
   "metadata": {},
   "source": [
    "No acaba de salir $U$"
   ]
  }
 ],
 "metadata": {
  "celltoolbar": "Slideshow",
  "kernelspec": {
   "display_name": "Python 3 (ipykernel)",
   "language": "python",
   "name": "python3"
  },
  "language_info": {
   "codemirror_mode": {
    "name": "ipython",
    "version": 3
   },
   "file_extension": ".py",
   "mimetype": "text/x-python",
   "name": "python",
   "nbconvert_exporter": "python",
   "pygments_lexer": "ipython3",
   "version": "3.10.13"
  },
  "toc": {
   "base_numbering": 1,
   "nav_menu": {},
   "number_sections": true,
   "sideBar": true,
   "skip_h1_title": false,
   "title_cell": "Table of Contents",
   "title_sidebar": "Contents",
   "toc_cell": false,
   "toc_position": {},
   "toc_section_display": true,
   "toc_window_display": false
  },
  "varInspector": {
   "cols": {
    "lenName": 16,
    "lenType": 16,
    "lenVar": 40
   },
   "kernels_config": {
    "python": {
     "delete_cmd_postfix": "",
     "delete_cmd_prefix": "del ",
     "library": "var_list.py",
     "varRefreshCmd": "print(var_dic_list())"
    },
    "r": {
     "delete_cmd_postfix": ") ",
     "delete_cmd_prefix": "rm(",
     "library": "var_list.r",
     "varRefreshCmd": "cat(var_dic_list()) "
    }
   },
   "types_to_exclude": [
    "module",
    "function",
    "builtin_function_or_method",
    "instance",
    "_Feature"
   ],
   "window_display": false
  }
 },
 "nbformat": 4,
 "nbformat_minor": 5
}
