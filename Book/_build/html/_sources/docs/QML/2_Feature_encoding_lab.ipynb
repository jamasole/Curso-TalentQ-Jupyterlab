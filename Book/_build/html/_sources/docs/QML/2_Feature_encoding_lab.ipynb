{
 "cells": [
  {
   "cell_type": "markdown",
   "id": "3ac550d6",
   "metadata": {},
   "source": [
    "$\\newcommand{\\V}{{\\cal V}}$\n",
    "$\\newcommand{\\C}{{\\mathbb C}}$\n",
    "$\\newcommand{\\R}{{\\mathbb R}}$\n",
    "$\\newcommand{\\tr}{{\\rm tr}}$\n",
    "$\\newcommand{\\ketbra}[2]{{|#1\\rangle\\langle #2|}}$\n",
    "$\\newcommand{\\braket}[2]{{\\langle #1|#2\\rangle}}$\n",
    "$\\newcommand{\\ket}[1]{{|#1\\rangle}}$\n",
    "$\\newcommand{\\braa}[1]{{\\langle #1|}}$\n",
    "$\\newcommand{\\Hil}{{\\mathcal H}}$\n",
    "$\\newcommand{\\Lin}{\\rm L}$\n",
    "$\\newcommand{\\O}{{\\mathcal O}}$\n",
    "$\\newcommand{\\ees}{\\end{equation*}}$\n",
    "$\\newcommand{\\bes}{\\begin{equation*}}$\n",
    "$\\newcommand{\\i}{{\\color{blue} i}}$"
   ]
  },
  {
   "cell_type": "markdown",
   "id": "57495c35",
   "metadata": {},
   "source": [
    "```{figure} ../thumbnails/myThumbnail.png\n",
    ":align: center\n",
    "```"
   ]
  },
  {
   "cell_type": "markdown",
   "id": "e05b6ecc",
   "metadata": {},
   "source": [
    "# QML (Quantum Machine Learning)"
   ]
  },
  {
   "cell_type": "markdown",
   "id": "e7b36981",
   "metadata": {},
   "source": [
    "Consulta la notación que se ha utilizado durante todo el documento en el siguiente [enlace](#notacion)."
   ]
  },
  {
   "cell_type": "code",
   "execution_count": null,
   "id": "dfd99286",
   "metadata": {},
   "outputs": [],
   "source": [
    "import numpy as np\n",
    "import qibo\n",
    "import matplotlib.pyplot as plt\n",
    "from qibo import callbacks, gates, hamiltonians, models\n",
    "from qibo.symbols import Y, Z, I\n",
    "from sklearn.datasets import make_moons\n",
    "from qibo.models import Circuit\n",
    "\n",
    "import tensorflow as tf\n",
    "qibo.set_backend(\"tensorflow\")"
   ]
  },
  {
   "cell_type": "markdown",
   "id": "e61eedb1",
   "metadata": {},
   "source": [
    "# 2. Feature encoding"
   ]
  },
  {
   "cell_type": "markdown",
   "id": "c3f4f504",
   "metadata": {},
   "source": [
    "<a id='IntroFeatureEncoding'></a>\n",
    "## 2.1. Introducción"
   ]
  },
  {
   "cell_type": "markdown",
   "id": "081f23c8",
   "metadata": {},
   "source": [
    "El proceso de ***feature encoding*** se encarga de codificar datos clásicos en estados cuánticos. El problema de codificar datos clásicos en estados cuánticos es esencial en todas las disciplinas que estudian sacar ventaja de las propiedades cuánticas para problemas clásicos, como la comunicación, criptografía o la computación cuántica. Este notebook se centra en las técnicas de *feature encoding* básicas para QML. Se empieza con un conjunto de datos $\\mathbf{x}$ Conjunto que se quiere codificar en un estado $\\ket{\\psi_x}$ con el que trabajar, para ello se construye un circuito parametrizado que generará una unitaria $\\mathcal{U}(\\mathbf{x})$ tal que $\\ket{\\psi_x}=\\mathcal{U}(\\mathbf{x})\\ket{0}$. Dependiendo del tipo de *feature encoding* que se utilice, la unitaria $\\mathcal{U}(x)$ tendrá diferentes características. Se trata de un proceso crucial para el diseño y aplicación de los algoritmos, ya que influye en su capacidad computacional y en su eficiencia [[1]](#referencias)[[2]](#referencias)[[3]](#referencias)[[4]](#referencias).\n",
    "\n",
    "Se define un conjunto de datos de entrada $D$ de dimensión $M$ x $N$, es decir, se cuenta con un dataset con M instancias y N variables. Este *dataset* se puede expresar como $D = \\{\\mathbf{x}_{(1)}, ..., \\mathbf{x}_{(m)}, ..., \\mathbf{x}_{(M)}\\}$ donde cada $\\mathbf{x}_{(m)}$ es un vector de dimensión N.\n",
    "\n",
    "\n",
    "Hay multiples técnicas de ***feature encoding***, algunas se detallan a continuación. Como ejemplo intentaremos codificar el vector $x=(0,1,2,3)$ de diferentes maneras en nuestro circuito."
   ]
  },
  {
   "cell_type": "markdown",
   "id": "a06db8b4",
   "metadata": {},
   "source": [
    "<a id='TiposFeatureEncoding'></a>\n",
    "## 2.2. Tipos de feature encoding"
   ]
  },
  {
   "cell_type": "markdown",
   "id": "291947bd",
   "metadata": {},
   "source": [
    "<a id='BasisEncoding'></a>\n",
    "### 2.2.1. Basis encoding"
   ]
  },
  {
   "cell_type": "markdown",
   "id": "437a789e",
   "metadata": {},
   "source": [
    "La técnica *Basis encoding*, también conocida como *Basis Embedding*, asocia un *input* (entrada) a un estado de la base computacional de un sistema de qubits. Es por eso que los datos clásicos deben estar, o poder ser representados, por una cadena de bits, es decir, mediante este método de codificación se trabajará con cadenas binarias. Este método representa el dato clásico $x=1101$ como el estado $\\ket{1101}$, por ejemplo.\n",
    "\n",
    "Se considera el conjunto de datos $D$, definido anteriormente. En el caso de *basis encoding*, las N características de cada ejemplo deben estar representadas por cadenas binarias, es decir, $\\mathbf{x}_{m} = (b_1,...,b_N)$ con $b_i\\in \\{ 0,1\\}$ para $i=1,...,N$. Asumiendo que todas las variables (características?) del *dataset* se representan mediante un único bit, cada *input* (entrada) $\\mathbf{x}_{m}$ puede representarse como $\\ket{\\mathbf{x}_{m}}$. Extendiendo la expresión anterior a todo el *dataset*, obtenemos la representación del conjunto de datos al completo, ésta corresponde a la siguiente expresión:\n",
    "\n",
    "$$\\ket{D} = \\frac{1}{\\sqrt M} \\sum^M_{m=1} \\ket{\\mathbf{x}_{m}}$$"
   ]
  },
  {
   "cell_type": "markdown",
   "id": "2f32a816",
   "metadata": {},
   "source": [
    "Por ejemplo, si consideramos que el *dataset* x los datos en binario correspondria a ejemplos $x = 1111011$, la representación de los mismos se corresponde con $\\ket{1111011}$. En este caso, el estado corresponde a:\n",
    "\n",
    "$$\\ket D = \\ket{1111011}$$"
   ]
  },
  {
   "cell_type": "code",
   "execution_count": null,
   "id": "914e1465",
   "metadata": {},
   "outputs": [],
   "source": [
    "num_q=7"
   ]
  },
  {
   "cell_type": "code",
   "execution_count": null,
   "id": "0ae03d1c",
   "metadata": {},
   "outputs": [],
   "source": [
    "def Basis_encoding(x, nqubits= 2):\n",
    "    c= Circuit(nqubits=nqubits)\n",
    "    \n",
    "    for i in range(nqubits):\n",
    "        if x[i]==1:\n",
    "            c.add(gates.X(q=i))\n",
    "    return c"
   ]
  },
  {
   "cell_type": "code",
   "execution_count": null,
   "id": "ae03d129",
   "metadata": {},
   "outputs": [],
   "source": [
    "x = np.array([1,1,1,1,0,1,1])\n",
    "c_b=Basis_encoding(x,num_q)\n",
    "\n",
    "\n",
    "print(\"x               : \", x)\n",
    "print(\"amplitude vector: \", np.array(c_b.execute().state()))\n",
    "print(c_b.draw())"
   ]
  },
  {
   "cell_type": "markdown",
   "id": "4822d8f4",
   "metadata": {},
   "source": [
    "<a id='AmplitudeEncoding'></a>\n",
    "### 2.2.2. Amplitude encoding"
   ]
  },
  {
   "cell_type": "markdown",
   "id": "3ee2c78d",
   "metadata": {},
   "source": [
    "La técnica *Amplitude encoding* o *amplitude embedding*, codifica los datos clásicos como las amplitudes de un estado cuántico. En este caso, una instancia del *dataset* que clásicamente se representa mediante un vector normalizado (denominado $x$) de dimensión N , aplicando esta técnica de codificación, dicho vector corresponde a las amplitudes del estado cuántico de n-qubits. La expresión es la siguiente:\n",
    "\n",
    "$$ \\ket{\\psi_x} = \\sum^N_{i=1} x_i\\ket i$$   \n",
    "\n",
    "\n",
    "Donde $N=2^n$, $x_i$ es el i-ésimo elemento del vector $\\mathbf{x}$ y $\\ket i$ es el i-ésimo estado de la base computacional. A diferencia de la técnica, *basis encoding*, $x_i$ puede tomar valores de distintos tipos, como *integer* (valores enteros) o *float* (valores de coma flotante)."
   ]
  },
  {
   "cell_type": "markdown",
   "id": "edd149da",
   "metadata": {},
   "source": [
    "Como ejemplo, si tratamos de codificar la instancia correspondiente al vector \n",
    "utilizando esta técnica obtendremos:\n",
    "\n",
    "$$\\ket{\\psi_x} = \\frac{1}{4} [\\ket{01}+2\\ket{10}+3\\ket{11}]$$"
   ]
  },
  {
   "cell_type": "markdown",
   "id": "f06707ed",
   "metadata": {},
   "source": [
    "Nota: Todos los vectores cuánticos deben estar normalizados, $\\bra{\\psi_x}\\ket{\\psi_x} = 1$"
   ]
  },
  {
   "cell_type": "code",
   "execution_count": null,
   "id": "c96de9ec",
   "metadata": {},
   "outputs": [],
   "source": [
    "num_q=2"
   ]
  },
  {
   "cell_type": "code",
   "execution_count": null,
   "id": "d514ac93",
   "metadata": {},
   "outputs": [],
   "source": [
    "def Normalize(x):\n",
    "    N=np.linalg.norm(x)\n",
    "    return 1/N*x"
   ]
  },
  {
   "cell_type": "code",
   "execution_count": null,
   "id": "e792bfc2",
   "metadata": {},
   "outputs": [],
   "source": [
    "x = np.array([0,1,2,3])\n",
    "#We normalize x\n",
    "x_norm=Normalize(x)\n",
    "c_a = Circuit(num_q)\n",
    "\n",
    "print(\"x               : \", x)\n",
    "print(\"amplitude vector: \", np.array(c_a(x_norm,nshots=10000).state()))\n",
    "print(c_a.draw())"
   ]
  },
  {
   "cell_type": "markdown",
   "id": "9daae8f2",
   "metadata": {},
   "source": [
    "La función de pennylane *Amplitude Embedding* utiliza el método desarollado en [[4]](#referencias) para codificar un vector arbitrario en las amplitudes de un estado cuántico con el mínimo número de *gates* (puertas cuánticas). Para una documentación más extensa de cómo aplicar este método se puede consultar [[5]](#referencias)."
   ]
  },
  {
   "cell_type": "markdown",
   "id": "619005b9",
   "metadata": {},
   "source": [
    "<a id='angleEncoding'></a>\n",
    "### 2.2.3. Angle encoding"
   ]
  },
  {
   "cell_type": "markdown",
   "id": "e32f7a93",
   "metadata": {},
   "source": [
    "*Angle encoding* es una técnica de codificación básica, las N características de las instancias del *dataset* se codifican como ángulos de rotación de N cúbits. Esta metodología codifica N características en los ángulos de rotación de N qubits. Dichas rotaciones pueden llevarse a cabo en cualquier eje, tanto en el X, como en el Y o en el Z.\n",
    "\n",
    "En general, para codificar una instancia $\\mathbf{x}=(x_1,...,x_N)$ se utiliza la siguiente expresión: \n",
    "\n",
    "$$\n",
    "\\ket {\\mathbf{x}} = \\bigotimes^N_{i=1} \\cos(x_i)\\ket 0 + \\sin(x_i)\\ket 1\n",
    "$$\n",
    "\n",
    "Este método es diferente a los dos métodos anteriores, ya que únicamente codifica una instancia cada vez en lugar de trabajar con todo el *dataset*. No obstante, utiliza N qubits y la profundidad del circuito es constante, por lo que resulta compatible con el hardware cuántico.\n",
    "\n",
    "Esta técnica se puede representar mediante una matriz unitaria:\n",
    "\n",
    "$$\n",
    "S_{\\mathbf{x}_j} = \\bigotimes^N_{i=1} U(\\mathbf{x}_{j_i})\n",
    "$$\n",
    "\n",
    "donde:\n",
    "\n",
    "$$\n",
    "U(\\mathbf{x}_{j_i}) = \\begin{bmatrix} \\cos(\\mathbf{x}_{j_i}) & -\\sin (\\mathbf{x}_{j_i}) \\\\ \\sin (\\mathbf{x}_{j_i}) & \\cos (\\mathbf{x}_{j_i}) \\end{bmatrix}\n",
    "$$"
   ]
  },
  {
   "cell_type": "markdown",
   "id": "82f3dbe4",
   "metadata": {},
   "source": [
    "Por ejemplo, si se trata de codificar el vector$\\mathbf{x}=(0,1,2,3)$  con este tipo de *encoding* se necesitarán cuatro cúbits y quedará como sigue: \n",
    "$$\n",
    "\\ket {\\mathbf{x}} = (\\cos(0)\\ket 0 + \\sin(0)\\ket 1 ) \\otimes (\\cos(1)\\ket 0 + \\sin(1)\\ket 1) \\otimes (\\cos(2)\\ket 0 + \\sin(2)\\ket 1) \\otimes (\\cos(3)\\ket 0 + \\sin(3)\\ket 1 )\n",
    "$$"
   ]
  },
  {
   "cell_type": "code",
   "execution_count": null,
   "id": "295e0479",
   "metadata": {},
   "outputs": [],
   "source": [
    "num_q=4"
   ]
  },
  {
   "cell_type": "code",
   "execution_count": null,
   "id": "0abeb2bf",
   "metadata": {},
   "outputs": [],
   "source": [
    "def Angle(x,nqubits):\n",
    "    c= Circuit(nqubits=nqubits)\n",
    "    \n",
    "    for i in range(nqubits):\n",
    "        c.add(gates.RX(q=i,theta=x[i]))\n",
    "    return c"
   ]
  },
  {
   "cell_type": "code",
   "execution_count": null,
   "id": "b12e6bae",
   "metadata": {},
   "outputs": [],
   "source": [
    "x = np.array([0,1,2,3])\n",
    "\n",
    "c_an=Angle(x,num_q)\n",
    "\n",
    "print(\"x               : \", x)\n",
    "print(\"amplitude vector: \", np.array(c_an.execute().state()))\n",
    "print(c_an.draw())"
   ]
  },
  {
   "cell_type": "markdown",
   "id": "b792efa0",
   "metadata": {},
   "source": [
    "<a id='DenseAngleEncoding'></a>\n",
    "### 2.2.4. Dense angle encoding"
   ]
  },
  {
   "cell_type": "markdown",
   "id": "c821f393",
   "metadata": {},
   "source": [
    "Esta técnica es una generalización de la codificación anterior, es capaz de codificar dos características por cada *qubit*, haciendo uso de fases relativas. En este caso, la instancia $x=(x_1,...,x_N)$ se codifica como sigue:\n",
    "\n",
    "$$\n",
    "\\ket x = \\bigotimes^{N/2}_{i=1} \\cos(x_{2i-1})\\ket 0 + e^{ix_{2i}}\\sin(x_{2i-1})\\ket 1\n",
    "$$\n",
    "\n",
    "Aunque *dense angle encoding* y *angle encoding* utilizan funciones sinusoidales y exponenciales se pueden sustituir por funciones unitarias arbitrarias para generar otras técnicas de *feature encoding*."
   ]
  },
  {
   "cell_type": "markdown",
   "id": "919c5572",
   "metadata": {},
   "source": [
    "Por ejemplo, si se trata de codificar el vector$\\mathbf{x}=(0,1,2,3)$  con este tipo de *encoding* se necesitarán dos cúbits y quedará como sigue: \n",
    "$$\n",
    "\\ket {\\mathbf{x}} = (\\cos(0)\\ket 0 + e^{i1}\\sin(0)\\ket 1 ) \\otimes (\\cos(2)\\ket 0 + e^{i3}\\sin(2)\\ket 1)\n",
    "$$"
   ]
  },
  {
   "cell_type": "code",
   "execution_count": null,
   "id": "6c82b4c4",
   "metadata": {},
   "outputs": [],
   "source": [
    "num_q=2"
   ]
  },
  {
   "cell_type": "code",
   "execution_count": null,
   "id": "c2080586",
   "metadata": {},
   "outputs": [],
   "source": [
    "def denseAngle(x,nqubits):\n",
    "    c= Circuit(nqubits=nqubits)\n",
    "    \n",
    "    for i in range(nqubits):\n",
    "        c.add(gates.RX(q=i,theta=x[i]))\n",
    "        c.add(gates.RZ(q=i,theta=x[i+1]))\n",
    "    return c"
   ]
  },
  {
   "cell_type": "code",
   "execution_count": null,
   "id": "cac54ec4",
   "metadata": {},
   "outputs": [],
   "source": [
    "x = np.array([0,1,2,3])\n",
    "\n",
    "c_dan=denseAngle(x,num_q)\n",
    "\n",
    "print(\"x               : \", x)\n",
    "print(\"amplitude vector: \", np.array(c_dan.execute().state()))\n",
    "print(c_dan.draw())"
   ]
  },
  {
   "cell_type": "markdown",
   "id": "e16439f5",
   "metadata": {},
   "source": [
    "En este apartado se muestran algunas de las técnicas de codificación, no obstante existen otras como *Displacement Embedding*, *IQP Embedding*, *QAOA Embedding*..."
   ]
  },
  {
   "cell_type": "markdown",
   "id": "ad2dfa44",
   "metadata": {},
   "source": [
    "<a id='EleccionFeatureEncoding'></a>\n",
    "## 2.3. Cómo escoger Feature Encoding"
   ]
  },
  {
   "cell_type": "markdown",
   "id": "b7592495",
   "metadata": {},
   "source": [
    "Cuando se trata con circuitos variacionales la decisión de qué *feature encoding* utilizar es crucial. Los diferentes *feature encoding* presentan diferentes ventajas e inconvenientes dependiendo del problema que queramos resolver. Las técnicas mencionadas en este notebook se pueden separar en dos tipos:\n",
    "- *basis encoding* donde se trabaja con los elementos de la base computacional como *inputs* (entradas)\n",
    "- el resto de codificadores que trabajan con las amplitudes del vector cuántico."
   ]
  },
  {
   "cell_type": "markdown",
   "id": "e5ae9919",
   "metadata": {},
   "source": [
    "La técnica de *basis encoding* presenta la capacidad de calcular operaciones no lineales de forma natural, a cambio es el codificador que presenta mayor número de problemas: \n",
    "- Es el más susceptible a errores.\n",
    "- Escala muy mal con el número de cúbits, ya que de esto depende la precisión de los *feature* que se quiere codificar.\n",
    "- Es el método que presenta mayor dificultad a la hora de entrenar la red neuronal y tiene tendencias a presentar barren plateaus (gradientes que tienden a cero)."
   ]
  },
  {
   "cell_type": "markdown",
   "id": "2e2c8fef",
   "metadata": {},
   "source": [
    "El resto de métodos basados en codificar en las amplitudes del vector cuántico no presentan los inconvenientes enumerados anteriormente y son los métodos preferidos para desarollar algoritmos en la era del NISQ (*Noisy intermediate-scale quantum*). Aún así, presentan el inconveniente que hay que escoger sabiamente cómo introducir la no-linealidad necesaria para cada problema. La forma más genérica es utilizar *Amplitude encoding* y aplicar una función $f(x)$ a tus datos para obtener correlaciones entre ellos y así poder resolver problemas no-lineales. Este método, que es a primera vista sencillo, presenta el problema que la amplitud del circuito puede ser muy grande dependiendo de $f(x)$ y además, escoger $f(x)$ puede ser un proceso muy arbitrario. Por otra parte, otros métodos de codificación más sencillos pueden proporcionar directamente los elementos de no linealidad necesarios para resolver el problema."
   ]
  },
  {
   "cell_type": "markdown",
   "id": "f5a1095f",
   "metadata": {},
   "source": [
    "Escoger el método de *feature encoding* es un proceso crucial para un VQC (*Variational Quantum Circuit*) pero, como se ha visto, no es una ciéncia exacta, por lo que se deben probar distintas técnicas y escoger la que mejor se ajusta al problema en particular. Para finalizar, existen otras técnicas más sofisticadas para introducir datos clásicos en un circuito variacional, una de ellas es conocido como *data re-uploading* [[7]](#referencias)."
   ]
  },
  {
   "cell_type": "markdown",
   "id": "dd599630",
   "metadata": {},
   "source": [
    "<a id='notacion'></a>\n",
    "::::{admonition} ANEXO NOTACIÓN\n",
    ":class: note\n",
    "\n",
    "\n",
    "Para que la comprensión de los notebooks sea mejor se ha unificado la notación utilizada en los mismos. Para diferenciar un vector de un valor único se hará uso de la negrita. De manera que $\\mathbf{x}$ corresponde a un vector y $z$ será una variable de una única componente. \n",
    "\n",
    "    \n",
    "Si se quiere hacer referencia a dos vectores distintos pero que pertenecen al mismo *dataset* se utilizará un subíndice, es decir, $\\mathbf{x_i}$ hará referencia al i-ésimo vector del dataset. Si se quiere referenciar una característica concreta del vector $\\mathbf{x_i}$ se añadirá un nuevo subíndice, de manera que $\\mathbf{x_{i_j}}$ hará referencia a la j-ésima variable del i-ésimo vector.\n",
    "\n",
    "::::"
   ]
  },
  {
   "cell_type": "markdown",
   "id": "1f69212b",
   "metadata": {},
   "source": [
    "---------------------------\n",
    "## Referencias\n",
    "<a id='referencias'></a>\n",
    "[1]. https://learn.qiskit.org/course/machine-learning/data-encoding/\n",
    "[2]. https://pennylane.ai/qml/glossary/quantum_embedding.html/\n",
    "[3]. https://arxiv.org/abs/1804.11326/\n",
    "[4]. https://arxiv.org/abs/2003.01695/\n",
    "[5]. https://docs.pennylane.ai/en/stable/code/api/pennylane.MottonenStatePreparation.html/\n",
    "[6]. http://arxiv.org/abs/quant-ph/0407010/\n",
    "[7]. https://arxiv.org/abs/1907.02085/"
   ]
  },
  {
   "cell_type": "markdown",
   "id": "acb22691",
   "metadata": {},
   "source": [
    "This work has been financially supported by the Ministry of Economic Affairs and Digital Transformation of the Spanish Government through the QUANTUM ENIA project call - Quantum Spain project, and by the European Union through the Recovery, Transformation and Resilience Plan - NextGenerationEU within the framework of the Digital Spain 2025 Agenda.\n",
    "\n",
    "\n",
    "<img align=\"left\" src=\"https://quantumspain-project.es/wp-content/uploads/2022/11/LOGOS-GOB_QS.png\" width=\"1000px\" />"
   ]
  }
 ],
 "metadata": {
  "authors": [
   {
    "affiliations": [
     "IGFAE-USC"
    ],
    "corresponding": true,
    "email": "javier.mas@usc.es",
    "name": "Javier Mas",
    "orcid": "0000-0001-7008-2126"
   },
   {
    "affiliations": [
     "UMA"
    ],
    "corresponding": true,
    "email": "david.castano@uma.es",
    "name": "David Castaño",
    "orcid": "0000-0001-7008-2126"
   }
  ],
  "github": "https://github.com/jamasole/Curso-TalentQ-Jupyterlab",
  "jupytext": {
   "text_representation": {
    "extension": ".md",
    "format_name": "myst",
    "format_version": 0.13,
    "jupytext_version": "1.16.1"
   }
  },
  "kernelspec": {
   "display_name": "Python 3 (ipykernel)",
   "language": "python",
   "name": "python3"
  },
  "license": "CC-BY-4.0",
  "math": {
   "\\C": "{\\mathbb C}",
   "\\Hil": "{\\mathcal H}",
   "\\Lin": "\\rm L",
   "\\O": "{\\mathcal O}",
   "\\R": "{\\mathbb R}",
   "\\V": "{\\cal V}",
   "\\bes": "\\begin{equation*}",
   "\\braa": "{\\langle #1|}",
   "\\braket": "{\\langle #1|#2\\rangle}",
   "\\ees": "\\end{equation*}",
   "\\i": "{\\color{blue} i}",
   "\\ket": "{|#1\\rangle}",
   "\\ketbra": "{|#1\\rangle\\langle #2|}",
   "\\tr": "{\\rm tr}"
  },
  "source_map": [
   44,
   60,
   66,
   71,
   75,
   86,
   90,
   95,
   104,
   109,
   114,
   122,
   129,
   133,
   143,
   151,
   156,
   165,
   172,
   176,
   180,
   186,
   195,
   199,
   204,
   228,
   235,
   239,
   248,
   256,
   261,
   271,
   278,
   282,
   292,
   300,
   304,
   309,
   315,
   322,
   326,
   330,
   344,
   357
  ],
  "subject": "Curso",
  "venue": "Quantum Spain"
 },
 "nbformat": 4,
 "nbformat_minor": 5
}