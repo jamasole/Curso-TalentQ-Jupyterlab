{
 "cells": [
  {
   "cell_type": "markdown",
   "id": "0ec3d300",
   "metadata": {},
   "source": [
    "<img align=\"left\" src=\"https://quantumspain-project.es/wp-content/uploads/2022/11/Logo_QS_EspanaDigital.png\" width=\"1000px\"/><br><br><br><br>\n",
    "\n",
    "\n",
    "# QML (Quantum Machine Learning)\n",
    "\n",
    "Created: 2022/10/30\n",
    "\n",
    "<a rel=\"license\" href=\"http://creativecommons.org/licenses/by-sa/4.0/\"><img aling=\"left\" alt=\"Licencia Creative Commons\" style=\"border-width:0\" src=\"https://i.creativecommons.org/l/by-sa/4.0/88x31.png\" /></a><br />License: <a rel=\"license\" href=\"http://creativecommons.org/licenses/by-sa/4.0/\">Licencia Creative Commons Atribución-CompartirIgual 4.0 Internacional</a>.\n",
    "Internal Reviewers:\n",
    "* Alba Cervera ([BSC](https://www.bsc.es/))\n",
    "\n",
    "Authors:\n",
    "* Carmen Calvo ([SCAYLE](https://www.scayle.es/))\n",
    "* Antoni Alou ([PIC](https://www.pic.es/))\n",
    "* Carlos Hernani ([UV](https://www.uv.es/))\n",
    "* Nahia Iriarte ([NASERTIC](https://www.nasertic.es/es))\n",
    "* Carlos Luque ([IAC](https://www.iac.es/))\n"
   ]
  },
  {
   "cell_type": "markdown",
   "id": "884a1199",
   "metadata": {},
   "source": [
    "$ \\newcommand{\\bra}[1]{\\langle #1|} $\n",
    "$ \\newcommand{\\ket}[1]{|#1\\rangle} $\n",
    "$ \\newcommand{\\braket}[2]{\\langle #1|#2\\rangle} $\n",
    "$ \\newcommand{\\ketbra}[2]{| #1\\rangle \\langle #2|} $\n",
    "$ \\newcommand{\\i}{{\\color{blue} i}} $ \n",
    "$ \\newcommand{\\Hil}{{\\mathbb H}} $\n",
    "$ \\newcommand{\\boldn}{{\\bf n}} $\n",
    "$ \\newcommand{\\tr}{{\\rm tr}}$\n",
    "$ \\newcommand{\\bn}{{\\bf n}} $"
   ]
  },
  {
   "cell_type": "markdown",
   "id": "b3878b6e",
   "metadata": {},
   "source": [
    "Consulta la notación que se ha utilizado durante todo el documento en el siguiente [enlace](#notacion)."
   ]
  },
  {
   "cell_type": "code",
   "execution_count": 2,
   "id": "aa4fd7f3",
   "metadata": {},
   "outputs": [
    {
     "name": "stderr",
     "output_type": "stream",
     "text": [
      "2023-11-27 12:28:19.613162: I tensorflow/core/common_runtime/gpu/gpu_device.cc:1613] Created device /job:localhost/replica:0/task:0/device:GPU:0 with 9671 MB memory:  -> device: 0, name: NVIDIA GeForce RTX 2080 Ti, pci bus id: 0000:b1:00.0, compute capability: 7.5\n",
      "[Qibo 0.1.13|INFO|2023-11-27 12:28:19]: Using tensorflow backend on /device:GPU:0\n"
     ]
    }
   ],
   "source": [
    "import numpy as np\n",
    "import qibo\n",
    "import matplotlib.pyplot as plt\n",
    "from qibo import callbacks, gates, hamiltonians, models\n",
    "from qibo.symbols import Y, Z, I\n",
    "from sklearn.datasets import make_moons\n",
    "from qibo.models import Circuit\n",
    "\n",
    "import tensorflow as tf\n",
    "qibo.set_backend(\"tensorflow\")"
   ]
  },
  {
   "cell_type": "markdown",
   "id": "e0bc540a",
   "metadata": {},
   "source": [
    "# 2. Feature encoding"
   ]
  },
  {
   "cell_type": "markdown",
   "id": "29579c5f",
   "metadata": {},
   "source": [
    "<a id='IntroFeatureEncoding'></a>\n",
    "## 2.1. Introducción"
   ]
  },
  {
   "cell_type": "markdown",
   "id": "b2cd4b48",
   "metadata": {},
   "source": [
    "El proceso de ***feature encoding*** se encarga de codificar datos clásicos en estados cuánticos. El problema de codificar datos clásicos en estados cuánticos es esencial en todas las disciplinas que estudian sacar ventaja de las propiedades cuánticas para problemas clásicos, como la comunicación, criptografía o la computación cuántica. Este notebook se centra en las técnicas de *feature encoding* básicas para QML. Se empieza con un conjunto de datos $\\mathbf{x}$ Conjunto que se quiere codificar en un estado $\\ket{\\psi_x}$ con el que trabajar, para ello se construye un circuito parametrizado que generará una unitaria $\\mathcal{U}(\\mathbf{x})$ tal que $\\ket{\\psi_x}=\\mathcal{U}(\\mathbf{x})\\ket{0}$. Dependiendo del tipo de *feature encoding* que se utilice, la unitaria $\\mathcal{U}(x)$ tendrá diferentes características. Se trata de un proceso crucial para el diseño y aplicación de los algoritmos, ya que influye en su capacidad computacional y en su eficiencia [[1]](#referencias)[[2]](#referencias)[[3]](#referencias)[[4]](#referencias).\n",
    "\n",
    "Se define un conjunto de datos de entrada $D$ de dimensión $M$ x $N$, es decir, se cuenta con un dataset con M instancias y N variables. Este *dataset* se puede expresar como $D = \\{\\mathbf{x}_{(1)}, ..., \\mathbf{x}_{(m)}, ..., \\mathbf{x}_{(M)}\\}$ donde cada $\\mathbf{x}_{(m)}$ es un vector de dimensión N.\n",
    "\n",
    "\n",
    "Hay multiples técnicas de ***feature encoding***, algunas se detallan a continuación. Como ejemplo intentaremos codificar el vector $x=(0,1,2,3)$ de diferentes maneras en nuestro circuito."
   ]
  },
  {
   "cell_type": "markdown",
   "id": "e5b4585e",
   "metadata": {},
   "source": [
    "<a id='TiposFeatureEncoding'></a>\n",
    "## 2.2. Tipos de feature encoding"
   ]
  },
  {
   "cell_type": "markdown",
   "id": "b3b24332",
   "metadata": {},
   "source": [
    "<a id='BasisEncoding'></a>\n",
    "### 2.2.1. Basis encoding"
   ]
  },
  {
   "cell_type": "markdown",
   "id": "441095cd",
   "metadata": {},
   "source": [
    "La técnica *Basis encoding*, también conocida como *Basis Embedding*, asocia un *input* (entrada) a un estado de la base computacional de un sistema de qubits. Es por eso que los datos clásicos deben estar, o poder ser representados, por una cadena de bits, es decir, mediante este método de codificación se trabajará con cadenas binarias. Este método representa el dato clásico $x=1101$ como el estado $\\ket{1101}$, por ejemplo.\n",
    "\n",
    "Se considera el conjunto de datos $D$, definido anteriormente. En el caso de *basis encoding*, las N características de cada ejemplo deben estar representadas por cadenas binarias, es decir, $\\mathbf{x}_{m} = (b_1,...,b_N)$ con $b_i\\in \\{ 0,1\\}$ para $i=1,...,N$. Asumiendo que todas las variables (características?) del *dataset* se representan mediante un único bit, cada *input* (entrada) $\\mathbf{x}_{m}$ puede representarse como $\\ket{\\mathbf{x}_{m}}$. Extendiendo la expresión anterior a todo el *dataset*, obtenemos la representación del conjunto de datos al completo, ésta corresponde a la siguiente expresión:\n",
    "\n",
    "$$\\ket{D} = \\frac{1}{\\sqrt M} \\sum^M_{m=1} \\ket{\\mathbf{x}_{m}}$$"
   ]
  },
  {
   "cell_type": "markdown",
   "id": "86b5e241",
   "metadata": {},
   "source": [
    "Por ejemplo, si consideramos que el *dataset* x los datos en binario correspondria a ejemplos $x = 1111011$, la representación de los mismos se corresponde con $\\ket{1111011}$. En este caso, el estado corresponde a:\n",
    "\n",
    "$$\\ket D = \\ket{1111011}$$\n",
    "\n"
   ]
  },
  {
   "cell_type": "code",
   "execution_count": 88,
   "id": "d0476962",
   "metadata": {},
   "outputs": [],
   "source": [
    "num_q=7"
   ]
  },
  {
   "cell_type": "code",
   "execution_count": 89,
   "id": "d5cdc95a-983b-497b-8d43-a45e2060d9a9",
   "metadata": {
    "tags": []
   },
   "outputs": [],
   "source": [
    "def Basis_encoding(x, nqubits= 2):\n",
    "    c= Circuit(nqubits=nqubits)\n",
    "    \n",
    "    for i in range(nqubits):\n",
    "        if x[i]==1:\n",
    "            c.add(gates.X(q=i))\n",
    "    return c"
   ]
  },
  {
   "cell_type": "code",
   "execution_count": 90,
   "id": "1b289632",
   "metadata": {},
   "outputs": [
    {
     "name": "stdout",
     "output_type": "stream",
     "text": [
      "x               :  [1 1 1 1 0 1 1]\n",
      "amplitude vector:  [0.+0.j 0.+0.j 0.+0.j 0.+0.j 0.+0.j 0.+0.j 0.+0.j 0.+0.j 0.+0.j 0.+0.j\n",
      " 0.+0.j 0.+0.j 0.+0.j 0.+0.j 0.+0.j 0.+0.j 0.+0.j 0.+0.j 0.+0.j 0.+0.j\n",
      " 0.+0.j 0.+0.j 0.+0.j 0.+0.j 0.+0.j 0.+0.j 0.+0.j 0.+0.j 0.+0.j 0.+0.j\n",
      " 0.+0.j 0.+0.j 0.+0.j 0.+0.j 0.+0.j 0.+0.j 0.+0.j 0.+0.j 0.+0.j 0.+0.j\n",
      " 0.+0.j 0.+0.j 0.+0.j 0.+0.j 0.+0.j 0.+0.j 0.+0.j 0.+0.j 0.+0.j 0.+0.j\n",
      " 0.+0.j 0.+0.j 0.+0.j 0.+0.j 0.+0.j 0.+0.j 0.+0.j 0.+0.j 0.+0.j 0.+0.j\n",
      " 0.+0.j 0.+0.j 0.+0.j 0.+0.j 0.+0.j 0.+0.j 0.+0.j 0.+0.j 0.+0.j 0.+0.j\n",
      " 0.+0.j 0.+0.j 0.+0.j 0.+0.j 0.+0.j 0.+0.j 0.+0.j 0.+0.j 0.+0.j 0.+0.j\n",
      " 0.+0.j 0.+0.j 0.+0.j 0.+0.j 0.+0.j 0.+0.j 0.+0.j 0.+0.j 0.+0.j 0.+0.j\n",
      " 0.+0.j 0.+0.j 0.+0.j 0.+0.j 0.+0.j 0.+0.j 0.+0.j 0.+0.j 0.+0.j 0.+0.j\n",
      " 0.+0.j 0.+0.j 0.+0.j 0.+0.j 0.+0.j 0.+0.j 0.+0.j 0.+0.j 0.+0.j 0.+0.j\n",
      " 0.+0.j 0.+0.j 0.+0.j 0.+0.j 0.+0.j 0.+0.j 0.+0.j 0.+0.j 0.+0.j 0.+0.j\n",
      " 0.+0.j 0.+0.j 0.+0.j 1.+0.j 0.+0.j 0.+0.j 0.+0.j 0.+0.j]\n",
      "q0: ─X─\n",
      "q1: ─X─\n",
      "q2: ─X─\n",
      "q3: ─X─\n",
      "q4: ───\n",
      "q5: ─X─\n",
      "q6: ─X─\n"
     ]
    }
   ],
   "source": [
    "x = np.array([1,1,1,1,0,1,1])\n",
    "c_b=Basis_encoding(x,num_q)\n",
    "\n",
    "\n",
    "print(\"x               : \", x)\n",
    "print(\"amplitude vector: \", np.array(c_b.execute().state()))\n",
    "print(c_b.draw())"
   ]
  },
  {
   "cell_type": "markdown",
   "id": "e680e87f",
   "metadata": {},
   "source": [
    "<a id='AmplitudeEncoding'></a>\n",
    "### 2.2.2. Amplitude encoding"
   ]
  },
  {
   "cell_type": "markdown",
   "id": "03b50cec",
   "metadata": {},
   "source": [
    "La técnica *Amplitude encoding* o *amplitude embedding*, codifica los datos clásicos como las amplitudes de un estado cuántico. En este caso, una instancia del *dataset* que clásicamente se representa mediante un vector normalizado (denominado $x$) de dimensión N , aplicando esta técnica de codificación, dicho vector corresponde a las amplitudes del estado cuántico de n-qubits. La expresión es la siguiente:\n",
    "\n",
    "$$ \\ket{\\psi_x} = \\sum^N_{i=1} x_i\\ket i$$   \n",
    "\n",
    "\n",
    "Donde $N=2^n$, $x_i$ es el i-ésimo elemento del vector $\\mathbf{x}$ y $\\ket i$ es el i-ésimo estado de la base computacional. A diferencia de la técnica, *basis encoding*, $x_i$ puede tomar valores de distintos tipos, como *integer* (valores enteros) o *float* (valores de coma flotante). "
   ]
  },
  {
   "cell_type": "markdown",
   "id": "968442b8",
   "metadata": {},
   "source": [
    "Como ejemplo, si tratamos de codificar la instancia correspondiente al vector \n",
    "utilizando esta técnica obtendremos:\n",
    "\n",
    "$$\\ket{\\psi_x} = \\frac{1}{4} [\\ket{01}+2\\ket{10}+3\\ket{11}]$$"
   ]
  },
  {
   "cell_type": "markdown",
   "id": "405c5418",
   "metadata": {},
   "source": [
    "Nota: Todos los vectores cuánticos deben estar normalizados, $\\bra{\\psi_x}\\ket{\\psi_x} = 1$"
   ]
  },
  {
   "cell_type": "code",
   "execution_count": 93,
   "id": "762c0ec8",
   "metadata": {},
   "outputs": [],
   "source": [
    "num_q=2"
   ]
  },
  {
   "cell_type": "code",
   "execution_count": 94,
   "id": "bea331d3-2369-4763-b90c-67484fa26002",
   "metadata": {
    "tags": []
   },
   "outputs": [],
   "source": [
    "def Normalize(x):\n",
    "    N=np.linalg.norm(x)\n",
    "    return 1/N*x"
   ]
  },
  {
   "cell_type": "code",
   "execution_count": 95,
   "id": "54d87515",
   "metadata": {},
   "outputs": [
    {
     "name": "stdout",
     "output_type": "stream",
     "text": [
      "x               :  [0 1 2 3]\n",
      "amplitude vector:  [0.        +0.j 0.26726124+0.j 0.53452248+0.j 0.80178373+0.j]\n",
      "q0: ─\n",
      "q1: ─\n"
     ]
    }
   ],
   "source": [
    "x = np.array([0,1,2,3])\n",
    "#We normalize x\n",
    "x_norm=Normalize(x)\n",
    "c_a = Circuit(num_q)\n",
    "\n",
    "print(\"x               : \", x)\n",
    "print(\"amplitude vector: \", np.array(c_a(x_norm,nshots=10000).state()))\n",
    "print(c_a.draw())"
   ]
  },
  {
   "cell_type": "markdown",
   "id": "45146dcd",
   "metadata": {},
   "source": [
    "La función de pennylane *Amplitude Embedding* utiliza el método desarollado en [[4]](#referencias) para codificar un vector arbitrario en las amplitudes de un estado cuántico con el mínimo número de *gates* (puertas cuánticas). Para una documentación más extensa de cómo aplicar este método se puede consultar [[5]](#referencias)."
   ]
  },
  {
   "cell_type": "markdown",
   "id": "87bb3963",
   "metadata": {},
   "source": [
    "<a id='angleEncoding'></a>\n",
    "### 2.2.3. Angle encoding"
   ]
  },
  {
   "cell_type": "markdown",
   "id": "1cf1421e",
   "metadata": {},
   "source": [
    "*Angle encoding* es una técnica de codificación básica, las N características de las instancias del *dataset* se codifican como ángulos de rotación de N cúbits. Esta metodología codifica N características en los ángulos de rotación de N qubits. Dichas rotaciones pueden llevarse a cabo en cualquier eje, tanto en el X, como en el Y o en el Z.\n",
    "\n",
    "En general, para codificar una instancia $\\mathbf{x}=(x_1,...,x_N)$ se utiliza la siguiente expresión: \n",
    "\n",
    "$$\n",
    "\\ket {\\mathbf{x}} = \\bigotimes^N_{i=1} \\cos(x_i)\\ket 0 + \\sin(x_i)\\ket 1\n",
    "$$\n",
    "\n",
    "Este método es diferente a los dos métodos anteriores, ya que únicamente codifica una instancia cada vez en lugar de trabajar con todo el *dataset*. No obstante, utiliza N qubits y la profundidad del circuito es constante, por lo que resulta compatible con el hardware cuántico.\n",
    "\n",
    "Esta técnica se puede representar mediante una matriz unitaria:\n",
    "\n",
    "$$\n",
    "S_{\\mathbf{x}_j} = \\bigotimes^N_{i=1} U(\\mathbf{x}_{j_i})\n",
    "$$\n",
    "\n",
    "donde:\n",
    "\n",
    "$$\n",
    "U(\\mathbf{x}_{j_i}) = \\begin{bmatrix} \\cos(\\mathbf{x}_{j_i}) & -\\sin (\\mathbf{x}_{j_i}) \\\\ \\sin (\\mathbf{x}_{j_i}) & \\cos (\\mathbf{x}_{j_i}) \\end{bmatrix}\n",
    "$$\n"
   ]
  },
  {
   "cell_type": "markdown",
   "id": "c19b3c2d",
   "metadata": {},
   "source": [
    "Por ejemplo, si se trata de codificar el vector$\\mathbf{x}=(0,1,2,3)$  con este tipo de *encoding* se necesitarán cuatro cúbits y quedará como sigue: \n",
    "$$\n",
    "\\ket {\\mathbf{x}} = (\\cos(0)\\ket 0 + \\sin(0)\\ket 1 ) \\otimes (\\cos(1)\\ket 0 + \\sin(1)\\ket 1) \\otimes (\\cos(2)\\ket 0 + \\sin(2)\\ket 1) \\otimes (\\cos(3)\\ket 0 + \\sin(3)\\ket 1 )\n",
    "$$"
   ]
  },
  {
   "cell_type": "code",
   "execution_count": 97,
   "id": "676afe81",
   "metadata": {},
   "outputs": [],
   "source": [
    "num_q=4"
   ]
  },
  {
   "cell_type": "code",
   "execution_count": 98,
   "id": "e435838c",
   "metadata": {},
   "outputs": [],
   "source": [
    "def Angle(x,nqubits):\n",
    "    c= Circuit(nqubits=nqubits)\n",
    "    \n",
    "    for i in range(nqubits):\n",
    "        c.add(gates.RX(q=i,theta=x[i]))\n",
    "    return c"
   ]
  },
  {
   "cell_type": "code",
   "execution_count": 99,
   "id": "46414995",
   "metadata": {},
   "outputs": [
    {
     "name": "stdout",
     "output_type": "stream",
     "text": [
      "x               :  [0 1 2 3]\n",
      "amplitude vector:  [ 0.03354074+0.j          0.        -0.4729721j   0.        -0.05223661j\n",
      " -0.73661041+0.j          0.        -0.01832339j -0.25838584+0.j\n",
      " -0.02853699+0.j          0.        +0.4024121j   0.        +0.j\n",
      "  0.        +0.j          0.        +0.j          0.        +0.j\n",
      "  0.        +0.j          0.        +0.j          0.        +0.j\n",
      "  0.        +0.j        ]\n",
      "q0: ─RX─\n",
      "q1: ─RX─\n",
      "q2: ─RX─\n",
      "q3: ─RX─\n"
     ]
    }
   ],
   "source": [
    "x = np.array([0,1,2,3])\n",
    "\n",
    "c_an=Angle(x,num_q)\n",
    "\n",
    "print(\"x               : \", x)\n",
    "print(\"amplitude vector: \", np.array(c_an.execute().state()))\n",
    "print(c_an.draw())"
   ]
  },
  {
   "cell_type": "markdown",
   "id": "cbb2f580",
   "metadata": {},
   "source": [
    "<a id='DenseAngleEncoding'></a>\n",
    "### 2.2.4. Dense angle encoding"
   ]
  },
  {
   "cell_type": "markdown",
   "id": "0471976d",
   "metadata": {},
   "source": [
    "Esta técnica es una generalización de la codificación anterior, es capaz de codificar dos características por cada *qubit*, haciendo uso de fases relativas. En este caso, la instancia $x=(x_1,...,x_N)$ se codifica como sigue:\n",
    "\n",
    "$$\n",
    "\\ket x = \\bigotimes^{N/2}_{i=1} \\cos(x_{2i-1})\\ket 0 + e^{ix_{2i}}\\sin(x_{2i-1})\\ket 1\n",
    "$$\n",
    "\n",
    "Aunque *dense angle encoding* y *angle encoding* utilizan funciones sinusoidales y exponenciales se pueden sustituir por funciones unitarias arbitrarias para generar otras técnicas de *feature encoding*."
   ]
  },
  {
   "cell_type": "markdown",
   "id": "ad43b67e-3b07-4828-b0d8-e7825ecb33c6",
   "metadata": {},
   "source": [
    "Por ejemplo, si se trata de codificar el vector$\\mathbf{x}=(0,1,2,3)$  con este tipo de *encoding* se necesitarán dos cúbits y quedará como sigue: \n",
    "$$\n",
    "\\ket {\\mathbf{x}} = (\\cos(0)\\ket 0 + e^{i1}\\sin(0)\\ket 1 ) \\otimes (\\cos(2)\\ket 0 + e^{i3}\\sin(2)\\ket 1)\n",
    "$$"
   ]
  },
  {
   "cell_type": "code",
   "execution_count": 100,
   "id": "30c8eea7-c7fe-4e9d-b1e8-5b06ffad5527",
   "metadata": {},
   "outputs": [],
   "source": [
    "num_q=2"
   ]
  },
  {
   "cell_type": "code",
   "execution_count": 101,
   "id": "fe728d5c-fcb0-4bc0-85b7-b14e83ed935f",
   "metadata": {},
   "outputs": [],
   "source": [
    "def denseAngle(x,nqubits):\n",
    "    c= Circuit(nqubits=nqubits)\n",
    "    \n",
    "    for i in range(nqubits):\n",
    "        c.add(gates.RX(q=i,theta=x[i]))\n",
    "        c.add(gates.RZ(q=i,theta=x[i+1]))\n",
    "    return c"
   ]
  },
  {
   "cell_type": "code",
   "execution_count": 102,
   "id": "13d960ea-ba02-45a0-86b5-e2e924a3ac86",
   "metadata": {},
   "outputs": [
    {
     "name": "stdout",
     "output_type": "stream",
     "text": [
      "x               :  [0 1 2 3]\n",
      "amplitude vector:  [0.06207773-0.87538421j 0.22984885-0.42073549j 0.        +0.j\n",
      " 0.        +0.j        ]\n",
      "q0: ─RX─RZ─\n",
      "q1: ─RX─RZ─\n"
     ]
    }
   ],
   "source": [
    "x = np.array([0,1,2,3])\n",
    "\n",
    "c_dan=denseAngle(x,num_q)\n",
    "\n",
    "print(\"x               : \", x)\n",
    "print(\"amplitude vector: \", np.array(c_dan.execute().state()))\n",
    "print(c_dan.draw())"
   ]
  },
  {
   "cell_type": "markdown",
   "id": "8104df9d",
   "metadata": {},
   "source": [
    "En este apartado se muestran algunas de las técnicas de codificación, no obstante existen otras como *Displacement Embedding*, *IQP Embedding*, *QAOA Embedding*..."
   ]
  },
  {
   "cell_type": "markdown",
   "id": "59aa88cc",
   "metadata": {},
   "source": [
    "<a id='EleccionFeatureEncoding'></a>\n",
    "## 2.3. Cómo escoger Feature Encoding"
   ]
  },
  {
   "cell_type": "markdown",
   "id": "cd4c19db",
   "metadata": {},
   "source": [
    "Cuando se trata con circuitos variacionales la decisión de qué *feature encoding* utilizar es crucial. Los diferentes *feature encoding* presentan diferentes ventajas e inconvenientes dependiendo del problema que queramos resolver. Las técnicas mencionadas en este notebook se pueden separar en dos tipos:\n",
    "- *basis encoding* donde se trabaja con los elementos de la base computacional como *inputs* (entradas)\n",
    "- el resto de codificadores que trabajan con las amplitudes del vector cuántico."
   ]
  },
  {
   "cell_type": "markdown",
   "id": "055279cd",
   "metadata": {},
   "source": [
    "La técnica de *basis encoding* presenta la capacidad de calcular operaciones no lineales de forma natural, a cambio es el codificador que presenta mayor número de problemas: \n",
    "- Es el más susceptible a errores.\n",
    "- Escala muy mal con el número de cúbits, ya que de esto depende la precisión de los *feature* que se quiere codificar.\n",
    "- Es el método que presenta mayor dificultad a la hora de entrenar la red neuronal y tiene tendencias a presentar barren plateaus (gradientes que tienden a cero).\n"
   ]
  },
  {
   "cell_type": "markdown",
   "id": "a3a93d0f",
   "metadata": {},
   "source": [
    "El resto de métodos basados en codificar en las amplitudes del vector cuántico no presentan los inconvenientes enumerados anteriormente y son los métodos preferidos para desarollar algoritmos en la era del NISQ (*Noisy intermediate-scale quantum*). Aún así, presentan el inconveniente que hay que escoger sabiamente cómo introducir la no-linealidad necesaria para cada problema. La forma más genérica es utilizar *Amplitude encoding* y aplicar una función $f(x)$ a tus datos para obtener correlaciones entre ellos y así poder resolver problemas no-lineales. Este método, que es a primera vista sencillo, presenta el problema que la amplitud del circuito puede ser muy grande dependiendo de $f(x)$ y además, escoger $f(x)$ puede ser un proceso muy arbitrario. Por otra parte, otros métodos de codificación más sencillos pueden proporcionar directamente los elementos de no linealidad necesarios para resolver el problema."
   ]
  },
  {
   "cell_type": "markdown",
   "id": "46fcdac2",
   "metadata": {},
   "source": [
    "Escoger el método de *feature encoding* es un proceso crucial para un VQC (*Variational Quantum Circuit*) pero, como se ha visto, no es una ciéncia exacta, por lo que se deben probar distintas técnicas y escoger la que mejor se ajusta al problema en particular. Para finalizar, existen otras técnicas más sofisticadas para introducir datos clásicos en un circuito variacional, una de ellas es conocido como *data re-uploading* [[7]](#referencias)."
   ]
  },
  {
   "cell_type": "markdown",
   "id": "a3c66607",
   "metadata": {},
   "source": [
    "<a id='notacion'></a>\n",
    "<div class=\"alert alert-block alert-warning\",text-align:center>\n",
    "<b>ANEXO NOTACIÓN:</b>\n",
    "\n",
    "Para que la comprensión de los notebooks sea mejor se ha unificado la notación utilizada en los mismos. Para diferenciar un vector de un valor único se hará uso de la negrita. De manera que $\\mathbf{x}$ corresponde a un vector y $z$ será una variable de una única componente. \n",
    "\n",
    "    \n",
    "Si se quiere hacer referencia a dos vectores distintos pero que pertenecen al mismo *dataset* se utilizará un subíndice, es decir, $\\mathbf{x_i}$ hará referencia al i-ésimo vector del dataset. Si se quiere referenciar una característica concreta del vector $\\mathbf{x_i}$ se añadirá un nuevo subíndice, de manera que $\\mathbf{x_{i_j}}$ hará referencia a la j-ésima variable del i-ésimo vector.\n",
    "\n",
    "</div>"
   ]
  },
  {
   "cell_type": "markdown",
   "id": "4dbddd5c",
   "metadata": {},
   "source": [
    "---------------------------\n",
    "## Referencias\n",
    "<a id='referencias'></a>\n",
    "[1]. https://learn.qiskit.org/course/machine-learning/data-encoding/<br>\n",
    "[2]. https://pennylane.ai/qml/glossary/quantum_embedding.html/<br>\n",
    "[3]. https://arxiv.org/abs/1804.11326/<br>\n",
    "[4]. https://arxiv.org/abs/2003.01695/<br>\n",
    "[5]. https://docs.pennylane.ai/en/stable/code/api/pennylane.MottonenStatePreparation.html/<br>\n",
    "[6]. http://arxiv.org/abs/quant-ph/0407010/<br>\n",
    "[7]. https://arxiv.org/abs/1907.02085/<br>"
   ]
  },
  {
   "cell_type": "markdown",
   "id": "5d74f55d",
   "metadata": {},
   "source": [
    "This work has been financially supported by the Ministry of Economic Affairs and Digital Transformation of the Spanish Government through the QUANTUM ENIA project call - Quantum Spain project, and by the European Union through the Recovery, Transformation and Resilience Plan - NextGenerationEU within the framework of the Digital Spain 2025 Agenda.\n",
    "\n",
    "\n",
    "<img align=\"left\" src=\"https://quantumspain-project.es/wp-content/uploads/2022/11/LOGOS-GOB_QS.png\" width=\"1000px\" />"
   ]
  }
 ],
 "metadata": {
  "kernelspec": {
   "display_name": "Python 3 (ipykernel)",
   "language": "python",
   "name": "python3"
  },
  "language_info": {
   "codemirror_mode": {
    "name": "ipython",
    "version": 3
   },
   "file_extension": ".py",
   "mimetype": "text/x-python",
   "name": "python",
   "nbconvert_exporter": "python",
   "pygments_lexer": "ipython3",
   "version": "3.12.1"
  },
  "toc": {
   "base_numbering": 1,
   "nav_menu": {},
   "number_sections": false,
   "sideBar": true,
   "skip_h1_title": true,
   "title_cell": "Table of Contents",
   "title_sidebar": "Contents",
   "toc_cell": false,
   "toc_position": {},
   "toc_section_display": true,
   "toc_window_display": false
  }
 },
 "nbformat": 4,
 "nbformat_minor": 5
}
