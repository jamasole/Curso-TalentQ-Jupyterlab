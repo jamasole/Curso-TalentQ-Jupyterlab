{
 "cells": [
  {
   "cell_type": "markdown",
   "id": "e16f29e5",
   "metadata": {},
   "source": [
    "<img align=\"left\" src=\"https://quantumspain-project.es/wp-content/uploads/2022/11/Logo_QS_EspanaDigital.png\" width=\"1000px\"/><br><br><br><br>\n",
    "\n",
    "\n",
    "# QML (Quantum Machine Learning)\n",
    "\n",
    "Created: 2022/10/30\n",
    "\n",
    "<a rel=\"license\" href=\"http://creativecommons.org/licenses/by-sa/4.0/\"><img aling=\"left\" alt=\"Licencia Creative Commons\" style=\"border-width:0\" src=\"https://i.creativecommons.org/l/by-sa/4.0/88x31.png\" /></a><br />License: <a rel=\"license\" href=\"http://creativecommons.org/licenses/by-sa/4.0/\">Licencia Creative Commons Atribución-CompartirIgual 4.0 Internacional</a>.\n",
    "Internal Reviewers:\n",
    "* Alba Cervera ([BSC](https://www.bsc.es/))\n",
    "\n",
    "Authors:\n",
    "* Carmen Calvo ([SCAYLE](https://www.scayle.es/))\n",
    "* Antoni Alou ([PIC](https://www.pic.es/))\n",
    "* Carlos Hernani ([UV](https://www.uv.es/))\n",
    "* Nahia Iriarte ([NASERTIC](https://www.nasertic.es/es))\n",
    "* Carlos Luque ([IAC](https://www.iac.es/))\n"
   ]
  },
  {
   "cell_type": "markdown",
   "id": "57fc6891",
   "metadata": {},
   "source": [
    "# Índice de contenidos\n",
    "\n",
    "\n",
    "### [1. Introducción](1_Introduction.ipynb) \n",
    ">- [**1.1 $~$ Machine Learning**](1_Introduction.ipynb#ML)<br>     \n",
    ">- [**1.2 $~$ Quantum Machine Learning**](1_Introduction.ipynb#QML)  \n",
    ">>- [1.2.1 Fases del QML](1_Introduction.ipynb#FasesQML)<br> \n",
    ">>- [1.2.2 Conceptos](1_Introduction.ipynb#ConceptosIntro)<br>\n",
    ">>- [1.2.3 Puertas](1_Introduction.ipynb#Puertas) <br>  \n",
    ">- [**Referencias**](1_Introduction.ipynb#referencias)<br>\n",
    "<br>\n",
    "\n",
    "### [2. Feature Encoding](2_Feature_encoding.ipynb) \n",
    ">- [**2.1 $~$ Introducción**](2_Feature_encoding.ipynb#IntroFeatureEncoding)<br>     \n",
    ">- [**2.2 $~$ Tipos de feature encoding**](2_Feature_encoding.ipynb#TiposFeatureEncoding)  \n",
    ">>- [2.2.1 Basis encoding](2_Feature_encoding.ipynb#BasisEncoding)<br> \n",
    ">>- [2.2.2 Amplitude encoding](2_Feature_encoding.ipynb#AmplitudeEncoding)<br>\n",
    ">>- [2.2.3 Angle encoding](2_Feature_encoding.ipynb#angleEncoding)  \n",
    ">>- [2.2.4 Dense angle encoding](2_Feature_encoding.ipynb#DenseAngleEncoding)\n",
    ">- [**2.3 $~$ Cómo escoger feature encoding**](2_Feature_encoding.ipynb#EleccionFeatureEncoding) \n",
    ">- [**Referencias**](2_Feature_encoding.ipynb#referencias)<br>\n",
    "<br>\n",
    "\n",
    "### [3. Variational Quantum Classifier (VQC)](3_VQC.ipynb) \n",
    ">- [**3.1 $~$ Variational Quantum Circuit**](3_VQC.ipynb#VariationalQuantumCirc)<br>     \n",
    ">- [**3.2 $~$ Ejemplo de aplicación**](3_VQC.ipynb#Ejemplo)<br>\n",
    ">- [**Referencias**](3_VQC.ipynb#referencias)<br>\n",
    "<br>\n",
    "\n",
    "### [4. Quantum Support Vector Machines (QSVM)](4_QSVM.ipynb) \n",
    ">- [**4.1 $~$ Support Vector Machines (SVM)**](4_QSVM.ipynb#SVM)<br>     \n",
    ">- [**4.2 $~$ Clasificador de vectores soporte cuántico (QSVC)**](4_QSVM.ipynb#QSVC)\n",
    ">>- [4.2.1 Ejemplo de QSVM](4_QSVM.ipynb#EjemploQSVC)\n",
    ">- [**Referencias**](4_QSVM.ipynb#referencias)<br>\n",
    "<br>\n",
    "\n",
    "### [5. Quantum Kernels](5_Kernel.ipynb) \n",
    ">- [**5.1 $~$ Introducción a los métodos kernel**](5_Kernel.ipynb#IntroKernel)<br>     \n",
    ">- [**5.2 $~$ Introducción al kernel cuántico**](5_Kernel.ipynb#IntroQuantumKernel)  \n",
    ">- [**5.3 $~$ Distintas implementaciones de kernel**](5_Kernel.ipynb#ImplementacionesKernel)  \n",
    ">>- [5.3.1 SWAP test](5_Kernel.ipynb#SWAPtest)<br>\n",
    ">>- [5.3.2 Quantum Kernel Estimator (QKE)](5_Kernel.ipynb#QKE)\n",
    ">>>- [5.3.2.1 Quantum Kernel Estimator - proyector](5_Kernel.ipynb#QKE_proyector)<br>\n",
    ">>>- [5.3.2.2 Quantum Kernel Estimator - probabilidades](5_Kernel.ipynb#QKE_proba) <br>\n",
    ">- [**Referencias**](5_Kernel.ipynb#references)<br>\n",
    "<br>"
   ]
  },
  {
   "cell_type": "markdown",
   "id": "57236641",
   "metadata": {},
   "source": [
    "This work has been financially supported by the Ministry of Economic Affairs and Digital Transformation of the Spanish Government through the QUANTUM ENIA project call - Quantum Spain project, and by the European Union through the Recovery, Transformation and Resilience Plan - NextGenerationEU within the framework of the Digital Spain 2025 Agenda.\n",
    "\n",
    "\n",
    "<img align=\"left\" src=\"https://quantumspain-project.es/wp-content/uploads/2022/11/LOGOS-GOB_QS.png\" width=\"1000px\" />"
   ]
  }
 ],
 "metadata": {
  "kernelspec": {
   "display_name": "Python 3 (ipykernel)",
   "language": "python",
   "name": "python3"
  },
  "language_info": {
   "codemirror_mode": {
    "name": "ipython",
    "version": 3
   },
   "file_extension": ".py",
   "mimetype": "text/x-python",
   "name": "python",
   "nbconvert_exporter": "python",
   "pygments_lexer": "ipython3",
   "version": "3.9.12"
  }
 },
 "nbformat": 4,
 "nbformat_minor": 5
}
