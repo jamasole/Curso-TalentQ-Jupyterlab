{
 "cells": [
  {
   "cell_type": "markdown",
   "id": "9f3a0a30-cbe5-42b8-8b9a-0d106679a6e3",
   "metadata": {},
   "source": [
    "<img   src=\"../figuras/logo/TalentQ_LogoPosNegro.png\" align=center  width=\"12%\"/>\n",
    "\n",
    "# Titulo del Jupyter Notebook\n",
    "\n",
    "\n",
    "\n",
    "$ \\newcommand{\\bra}[1]{\\langle #1|} $\n",
    "$ \\newcommand{\\ket}[1]{|#1\\rangle} $\n",
    "$ \\newcommand{\\braket}[2]{\\langle #1|#2\\rangle} $\n",
    "$ \\newcommand{\\i}{{\\color{blue} i}} $ \n",
    "$ \\newcommand{\\Hil}{{\\cal H}} $\n",
    "$ \\newcommand{\\cg}[1]{{\\rm C}#1} $"
   ]
  },
  {
   "cell_type": "code",
   "execution_count": null,
   "id": "183d47d8-39fe-47b1-a5b0-be8281ca5f70",
   "metadata": {},
   "outputs": [],
   "source": []
  },
  {
   "cell_type": "markdown",
   "id": "a03d337a-82ce-48d5-accc-070e5c3740f2",
   "metadata": {},
   "source": [
    "<a id='sec_1'></a>\n",
    "## Sección 1"
   ]
  },
  {
   "cell_type": "markdown",
   "id": "9d4f7a5b-53aa-4ccf-8e92-fc90deec22d8",
   "metadata": {},
   "source": [
    "<a id='sec_1.1'></a>\n",
    "### Sección 1.1"
   ]
  },
  {
   "cell_type": "markdown",
   "id": "64fb29fd-21a9-4ca5-a4da-7ef5fffb63ef",
   "metadata": {},
   "source": [
    "<a id='sec_1.2'></a>\n",
    "### Sección 1.2"
   ]
  },
  {
   "cell_type": "markdown",
   "id": "1624e301-7492-4277-bd6f-c27304bb005e",
   "metadata": {},
   "source": [
    "## Sección 2"
   ]
  }
 ],
 "metadata": {
  "kernelspec": {
   "display_name": "Python 3 (ipykernel)",
   "language": "python",
   "name": "python3"
  },
  "language_info": {
   "codemirror_mode": {
    "name": "ipython",
    "version": 3
   },
   "file_extension": ".py",
   "mimetype": "text/x-python",
   "name": "python",
   "nbconvert_exporter": "python",
   "pygments_lexer": "ipython3",
   "version": "3.10.13"
  }
 },
 "nbformat": 4,
 "nbformat_minor": 5
}
