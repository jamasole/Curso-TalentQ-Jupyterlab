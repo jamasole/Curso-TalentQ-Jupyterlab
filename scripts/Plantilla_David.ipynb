{
 "cells": [
  {
   "cell_type": "markdown",
   "id": "5d20c685",
   "metadata": {},
   "source": [
    "<div style=\"text-align:center\">\n",
    "<img align=\"left\" src=\"../thumbnails/myThumbnail.png\" width=\"1000px\"/><br><br><br><br>\n",
    "</div>\n",
    "\n",
    "\n",
    "# Titulo del notebook\n",
    "\n",
    "Created: 22/01/2024\n",
    "\n",
    "<a rel=\"license\" href=\"http://creativecommons.org/licenses/by-sa/4.0/\"><img aling=\"left\" alt=\"Licencia Creative Commons\" style=\"border-width:0\" src=\"https://i.creativecommons.org/l/by-sa/4.0/88x31.png\" /></a><br />License: <a rel=\"license\" href=\"http://creativecommons.org/licenses/by-sa/4.0/\">Licencia Creative Commons Atribución-CompartirIgual 4.0 Internacional</a>.\n",
    "\n",
    "Internal Reviewers: \n",
    "* Andrés Gómez Tato ([CESGA](http://www.cesga.es))\n",
    "* ...\n",
    "\n",
    "Authors:\n",
    "* David Castaño ([Scbi-UMA](https://www.scbi.uma.es/site/))\n",
    "* ...\n",
    "\n",
    "\n",
    "$ \\newcommand{\\bra}[1]{\\langle #1|} $\n",
    "$ \\newcommand{\\ket}[1]{|#1\\rangle} $\n",
    "$ \\newcommand{\\braket}[2]{\\langle #1|#2\\rangle} $\n",
    "$ \\newcommand{\\i}{{\\color{blue} i}} $ \n",
    "$ \\newcommand{\\Hil}{{\\cal H}} $\n",
    "$ \\newcommand{\\cg}[1]{{\\rm C}#1} $"
   ]
  },
  {
   "cell_type": "markdown",
   "id": "5ac22bb8",
   "metadata": {},
   "source": [
    "- **[1 - Seccion](#Seccion_1)**\n",
    "    - **[1.1 - Subsección](#Seccion_1.1)**\n",
    "        - **[1.1.1 - Subsubseccion](#Seccion_1.1.1)**\n",
    "- **[2 - Seccion](#Seccion_2)**\n",
    "- **[Bibliografía](#Bibliografía)**\n"
   ]
  },
  {
   "cell_type": "markdown",
   "id": "497b5d36",
   "metadata": {},
   "source": [
    "<p style=\"color:red\"> <b>IMPORTANTE !!!</b>: </p>\n",
    "\n",
    "Deben de haber siempre las **dos celdas anteriores**:\n",
    "    - La primera con el titulo de una almuhadilla y más cosas opccionales (las macros de latex, autores, logo,...)\n",
    "    - Una segunda celda con el índice.\n",
    "\n",
    "Al convertir los notebooks, se borran las dos primeras celdas y se coge el título de la primera. En su lugar se añaden las tres celdas del archivo **Firts_cells.ipynb**, sustituyendose automáticamente el título de la tercera celda por el correspondiente del notebook original."
   ]
  },
  {
   "cell_type": "code",
   "execution_count": 1,
   "id": "96035505",
   "metadata": {},
   "outputs": [],
   "source": [
    "import matplotlib.pyplot as plt\n",
    "import numpy as np\n",
    "from qiskit import QuantumCircuit, Aer, transpile, assemble\n",
    "from qiskit.visualization import plot_histogram\n",
    "import qiskit.tools.jupyter\n",
    "import math\n",
    "%matplotlib inline"
   ]
  },
  {
   "cell_type": "markdown",
   "id": "cbfbd0fc",
   "metadata": {},
   "source": [
    "<a id=\"Seccion_1\"></a>\n",
    "\n",
    "## 1 - Sección\n",
    " "
   ]
  },
  {
   "cell_type": "markdown",
   "id": "add5d22b",
   "metadata": {},
   "source": [
    "<a id=\"Seccion_1.1\"></a>\n",
    "### 1.1 - Subsección"
   ]
  },
  {
   "cell_type": "markdown",
   "id": "7a5fce65",
   "metadata": {},
   "source": [
    "<a id=\"Seccion_1.1.1\"></a>\n",
    "#### 1.1.1 - Subsubsección"
   ]
  },
  {
   "cell_type": "markdown",
   "id": "fd8f80f4",
   "metadata": {},
   "source": [
    "<a id=\"Seccion_2\"></a>\n",
    "## 2 - Seccion\n",
    " "
   ]
  },
  {
   "cell_type": "markdown",
   "id": "2fecd1f9",
   "metadata": {},
   "source": [
    "<p style=\"color:red\"> <b>IMPORTANTE !!!</b>: </p>\n",
    "\n",
    "No pueden incluirse bloques p dentro de los cuadros (<p style ....>) más haya del ya incluido en los títulos.\n",
    "\n",
    "No pueden quedar lineas vacías. Hay que poner los br (ver ejemplos). Esto es para que el cambio de color del <p style ....> funcione. El <p style ....> debe de cerrar antes del <details..>, dejando ya de usar los br\n",
    "\n",
    "En realidad, a efectos de la conversión el cambio de color y los br no tiene efecto. Puede ponerse simplemente el titulo en negrita.\n",
    "    \n",
    "Sobre los subtítulos: \n",
    "- Véase que los subtitulo son opcionales. Puede borrarse todo lo que está a la derecha de los :\n",
    "- Es importante que no haya espacios entre el texto y los símbolos de cursiva:\n",
    "    - <i>subtitulo correcto</i>\n",
    "    - <i> subtitulo incorrecto</i>\n",
    "    - <i>subtitulo incorrecto </i>\n",
    "    - <i> subtitulo incorrecto </i>\n",
    "\n",
    "No puede haber **tabuladores** antes del texto (a no ser que sean listados de cosas, como el caso anterior donde se explican los subtitulo)\n",
    "    \n"
   ]
  },
  {
   "cell_type": "markdown",
   "id": "e305b8c6",
   "metadata": {},
   "source": [
    "<div class=\"alert alert-block alert-info\">\n",
    "<p style=\"color: navy;\">\n",
    "<b>Definición/Teorema/Lema</b>: <i>subtitulo del Teorema/Lema/Definición</i>\n",
    "<br>\n",
    "Plantilla de Teorema, Lema o definición.\n",
    "<br> \n",
    "Debe de quedar una de las tres palabras del título: Definición, Teorema o Lema\n",
    "<br>   \n",
    "La demostración/prueba/... es opcional. Puede borrarse todo el texto de a continuación, dejando el div del final!!! (la última linea)\n",
    "</p>\n",
    "    \n",
    "<details><summary> >> <i>Demostración/Prueba/...</i> </summary>\n",
    "\n",
    "TEXTO AQUÍ\n",
    "    \n",
    "</details>\n",
    "</div>"
   ]
  },
  {
   "cell_type": "markdown",
   "id": "e679edf6",
   "metadata": {},
   "source": [
    "<div class=\"alert alert-block alert-danger\">\n",
    "<p style=\"color: DarkRed;\">\n",
    "<b>Nota</b>: <i>Subtitulo de la nota</i>\n",
    "<br>     \n",
    "Plantilla de Nota\n",
    "<br>    \n",
    "El titulo debe de ser Nota\n",
    "<br> \n",
    "La demostración/prueba/... es opcional. Puede borrarse todo el texto de a continuación, dejando el div del final!!! (la última linea)\n",
    "</p>\n",
    "<details><summary> >> <i>Demostración/Prueba/...</i> </summary>\n",
    "\n",
    "TEXTO AQUÍ\n",
    "    \n",
    "</details>\n",
    "</div>"
   ]
  },
  {
   "cell_type": "markdown",
   "id": "b0e47dcd",
   "metadata": {},
   "source": [
    "<div class=\"alert alert-block alert-success\">\n",
    "<p style=\"color: DarkGreen;\">\n",
    "<b>Ejercicio/Ejemplo</b>: <i>Subtitulo del ejercicio/ejemplo</i>\n",
    "<br>        \n",
    "Plantilla de Ejercicios y Ejemplos\n",
    "<br>     \n",
    "Debe de quedar una de las dos palabras del título: Ejercicio o Ejemplo\n",
    "<br> \n",
    "La solución/pista/... es opcional. Puede borrarse todo el texto de a continuación, dejando el div del final!!! (la última linea)\n",
    "<br> \n",
    "</p>\n",
    "<details><summary> >> <i>Solución/Pista/...</i> </summary>\n",
    "\n",
    "TEXTO AQUÍ\n",
    "    \n",
    "</details>\n",
    "</div>"
   ]
  },
  {
   "cell_type": "markdown",
   "id": "b3a27996",
   "metadata": {},
   "source": [
    "Para textos desplegables sueltos (sin ser dentro de una de las anteriores cajas:\n",
    "\n",
    "<details><summary><p style=\"color:blue\"> >> <i>Demostración/Prueba/...</i> </p></summary>\n",
    "\n",
    "TEXTO AQUÍ\n",
    "\n",
    "</details>"
   ]
  },
  {
   "cell_type": "raw",
   "id": "13597391",
   "metadata": {},
   "source": [
    "# Esto sería para añadir figuras \n",
    "# Cosas opcionales:\n",
    "#    - La referencia: <a id='fig_ref></a> \n",
    "#    - El pie de foto:  <center>....</center>\n",
    "\n",
    "\n",
    "<figure>\n",
    "<a id='fig_ref'></a>\n",
    "<img src=\"path_relativo\" align=center width='1000px'/>\n",
    "    <center>Pie de foto de la figura</center>\n",
    "</figure>"
   ]
  },
  {
   "cell_type": "markdown",
   "id": "6671c86c",
   "metadata": {},
   "source": [
    "<a id=\"Bibliografía\"></a>\n",
    "## Bibliografía"
   ]
  },
  {
   "cell_type": "markdown",
   "id": "6d385dab",
   "metadata": {},
   "source": [
    "1. Beauregard, S. (2002). Circuit for Shor's algorithm using 2n+ 3 qubits, [quant-ph/0205095](https://arxiv.org/abs/quant-ph/0205095).\n",
    "\n",
    "2. [Quantum Fourier Transform (textbook Qiskit)](https://learn.qiskit.org/course/ch-algorithms/quantum-fourier-transform)"
   ]
  },
  {
   "cell_type": "code",
   "execution_count": 2,
   "id": "f3b812e3",
   "metadata": {},
   "outputs": [
    {
     "data": {
      "text/html": [
       "<h3>Version Information</h3><table><tr><th>Software</th><th>Version</th></tr><tr><td><code>qiskit</code></td><td>0.45.2</td></tr><tr><th colspan='2'>System information</th></tr><tr><td>Python version</td><td>3.12.1</td></tr><tr><td>Python compiler</td><td>GCC 12.3.0</td></tr><tr><td>Python build</td><td>main, Dec 23 2023 08:03:24</td></tr><tr><td>OS</td><td>Linux</td></tr><tr><td>CPUs</td><td>12</td></tr><tr><td>Memory (Gb)</td><td>62.610992431640625</td></tr><tr><td colspan='2'>Wed Jan 24 14:31:39 2024 CET</td></tr></table>"
      ],
      "text/plain": [
       "<IPython.core.display.HTML object>"
      ]
     },
     "metadata": {},
     "output_type": "display_data"
    }
   ],
   "source": [
    "%qiskit_version_table"
   ]
  },
  {
   "cell_type": "markdown",
   "id": "ae269433",
   "metadata": {},
   "source": [
    "This work has been financially supported by the Ministry of Economic Affairs and Digital Transformation of the Spanish Government through the QUANTUM ENIA project call - Quantum Spain project, and by the European Union through the Recovery, Transformation and Resilience Plan - NextGenerationEU within the framework of the Digital Spain 2025 Agenda.\n",
    "\n",
    "<div style=\"text-align:center\">\n",
    "<img align=\"left\" src=\"https://quantumspain-project.es/wp-content/uploads/2022/11/LOGOS-GOB_QS.png\" width=\"1000px\" />\n",
    "</div>"
   ]
  }
 ],
 "metadata": {
  "kernelspec": {
   "display_name": "Python 3 (ipykernel)",
   "language": "python",
   "name": "python3"
  },
  "language_info": {
   "codemirror_mode": {
    "name": "ipython",
    "version": 3
   },
   "file_extension": ".py",
   "mimetype": "text/x-python",
   "name": "python",
   "nbconvert_exporter": "python",
   "pygments_lexer": "ipython3",
   "version": "3.12.1"
  },
  "toc": {
   "base_numbering": 1,
   "nav_menu": {},
   "number_sections": false,
   "sideBar": true,
   "skip_h1_title": false,
   "title_cell": "Table of Contents",
   "title_sidebar": "Contents",
   "toc_cell": false,
   "toc_position": {},
   "toc_section_display": true,
   "toc_window_display": false
  }
 },
 "nbformat": 4,
 "nbformat_minor": 5
}
