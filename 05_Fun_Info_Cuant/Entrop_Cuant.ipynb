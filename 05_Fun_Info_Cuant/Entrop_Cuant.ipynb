{
 "cells": [
  {
   "cell_type": "markdown",
   "id": "3710bfdb",
   "metadata": {
    "slideshow": {
     "slide_type": "slide"
    }
   },
   "source": [
    "\n",
    "<table width=\"100%\">\n",
    "<td style=\"font-size:400%px;font-style:italic;text-align:right;background-color:rgba(0, 190, 170,0.6)\">\n",
    "Entropías Cuánticas\n",
    "</td></table>\n",
    "\n",
    "\n",
    "\n",
    "$ \\newcommand{\\bra}[1]{\\langle #1|} $\n",
    "$ \\newcommand{\\ket}[1]{|#1\\rangle} $\n",
    "$ \\newcommand{\\braket}[2]{\\langle #1|#2\\rangle} $\n",
    "$ \\newcommand{\\ketbra}[2]{| #1\\rangle \\langle #2|} $\n",
    "$ \\newcommand{\\tr}{{\\rm Tr}\\,} $\n",
    "$ \\newcommand{\\Tr}{{\\rm Tr}\\,} $\n",
    "$ \\newcommand{\\i}{{\\color{blue} i}} $ \n",
    "$ \\newcommand{\\Hil}{{\\cal H}} $\n",
    "$ \\newcommand{\\V}{{\\cal V}} $\n",
    "$ \\newcommand{\\Lin}{\\hbox{Lin}}$"
   ]
  },
  {
   "cell_type": "markdown",
   "id": "c1915265",
   "metadata": {
    "slideshow": {
     "slide_type": "slide"
    }
   },
   "source": [
    "\n",
    "- [Entropía de Von Neumann](#ent_von_Neumann) \n",
    "   <br>\n",
    "   \n",
    "- [Entropía de Entrelazamiento](#ent_entrelaz) \n",
    "   <br>   \n",
    "\n",
    "   \n"
   ]
  },
  {
   "cell_type": "markdown",
   "id": "dd75c76b",
   "metadata": {
    "slideshow": {
     "slide_type": "slide"
    }
   },
   "source": [
    "<a id=\"ent_von_Neumann\"></a>\n",
    "<table width=\"100%\">\n",
    "    <td style=\"font-size:250%px;font-family:Helvetica;text-align:left;background-color:rgba(0,0,900, 0.3);\">\n",
    "<b>Entropía de Von Neumann</b>\n",
    "</table>   \n"
   ]
  },
  {
   "cell_type": "markdown",
   "id": "d96d5bb9",
   "metadata": {
    "slideshow": {
     "slide_type": "slide"
    }
   },
   "source": [
    "Sea un cierto sistema físico descrito por vectores de estado en un espacio de Hilbert $\\Hil$ de dimensión $N$. "
   ]
  },
  {
   "cell_type": "markdown",
   "id": "7d8b6310",
   "metadata": {
    "slideshow": {
     "slide_type": "fragment"
    }
   },
   "source": [
    "Supongamos un *método de preparación* que produce estados $\\ket{\\psi_a}$ con probabilidades $p_a$ donde $a=1,2,...r$."
   ]
  },
  {
   "cell_type": "markdown",
   "id": "463c5ee5",
   "metadata": {
    "slideshow": {
     "slide_type": "slide"
    }
   },
   "source": [
    "El colectivo $X = \\{\\ket{\\psi_a},p_a\\},\\, a=1,2,...,r$ es una *variable aleatoria* evaluada en el espacio de Hilbert  $\\Hil$ \n"
   ]
  },
  {
   "cell_type": "markdown",
   "id": "da96c3bf",
   "metadata": {
    "slideshow": {
     "slide_type": "fragment"
    }
   },
   "source": [
    "Como a cualquier variable aleatoria, le podemos asignar una *cantidad de información* a través de la *entropía de Shannon*\n",
    "\n",
    "$$\n",
    "H(X) = - \\sum_{a=1}^r p_a \\log p_a\n",
    "$$"
   ]
  },
  {
   "cell_type": "markdown",
   "id": "7e5c7f13",
   "metadata": {
    "slideshow": {
     "slide_type": "fragment"
    }
   },
   "source": [
    "Sin embargo, de esta manera estamos ignorando, de alguna manera, el caracter probabilístico de los estados $\\ket{\\psi_a}$, que tratamos como objetos clásicos."
   ]
  },
  {
   "cell_type": "markdown",
   "id": "0b483de9",
   "metadata": {
    "slideshow": {
     "slide_type": "slide"
    }
   },
   "source": [
    "<div class=\"alert alert-block alert-info\",text-align:center>\n",
    "<p style=\"text-align: left ;color: navy;\">  \n",
    "    La <i>maxima cantidad de información</i> que podemos obtener sobre el sistema físico viene dada por el <b>operador densidad</b>\n",
    "<br>\n",
    "<br>\n",
    "$$\n",
    "\\rho = \\sum_{a=1}^r p_a \\ket{\\psi_a}\\bra{\\psi_a}\n",
    "$$\n",
    "</div>    "
   ]
  },
  {
   "cell_type": "markdown",
   "id": "2968c97d",
   "metadata": {
    "slideshow": {
     "slide_type": "slide"
    }
   },
   "source": [
    " Concretamente, el valor esperado de cualquier observable $O$ se obtienen  tomando la traza\n",
    "\n",
    "$$\n",
    "\\langle O\\rangle_\\rho = \\Tr ( \\rho O)\n",
    "$$\n"
   ]
  },
  {
   "cell_type": "markdown",
   "id": "23f67f85",
   "metadata": {
    "slideshow": {
     "slide_type": "slide"
    }
   },
   "source": [
    "<div class=\"alert alert-block alert-danger\",text-align:center>\n",
    "<p style=\"text-align: left ;color: black;\">  \n",
    " Notemos que no hemos demandado que $\\ket{\\psi}$ sea un conjunto de vectores ortogonales. En general no lo será.\n",
    "</div>    "
   ]
  },
  {
   "cell_type": "markdown",
   "id": "08f16051",
   "metadata": {
    "slideshow": {
     "slide_type": "slide"
    }
   },
   "source": [
    "No importa, cualquier operador densidad es un operador hermítico $\\rho = \\rho^\\dagger$ y, por tanto, *diagonalizable*. \n"
   ]
  },
  {
   "cell_type": "markdown",
   "id": "a603eb78",
   "metadata": {
    "slideshow": {
     "slide_type": "fragment"
    }
   },
   "source": [
    "Sean $\\lambda_i$ sus autovalores y $\\ket{\\lambda_i}$ sus autovectores, que forman una base ortonormal $\\braket{\\lambda_i}{\\lambda_j} = \\delta_{ij}$."
   ]
  },
  {
   "cell_type": "markdown",
   "id": "ede4e360",
   "metadata": {
    "slideshow": {
     "slide_type": "slide"
    }
   },
   "source": [
    "Podemos escribir $\\rho$ en su *representación espectral*\n",
    "\n",
    "$$\n",
    "\\rho = \\sum_{i=1}^N \\lambda_i \\ket{\\lambda_i}\\bra{\\lambda_i}\n",
    "$$\n",
    "\n"
   ]
  },
  {
   "cell_type": "markdown",
   "id": "20903b7f",
   "metadata": {
    "slideshow": {
     "slide_type": "fragment"
    }
   },
   "source": [
    "En esta representación, el operador densidad adquiere el significado de un *estado mezclado* en el que los $N$ estados puros $\\ket{\\lambda_i}$ han sido preparados por sendos aparatos con probabilidades $p_i = \\lambda_i$\n",
    "\n",
    "Denominamos a la variable aleatoria $C = \\{\\ket{\\lambda_i},\\lambda_i\\}$ *colectivo canónico*"
   ]
  },
  {
   "cell_type": "markdown",
   "id": "70240b49",
   "metadata": {
    "slideshow": {
     "slide_type": "slide"
    }
   },
   "source": [
    "Igual que antes, ahora podemos calcular la entropía de Shannon asociada al colectivo canónico $C$. Le daremos un nuevo nombre, $S(\\rho) = H(C)$ \n",
    "\n",
    "$$\n",
    "S(\\rho) = -\\sum_{i=1}^N \\lambda_i \\log \\lambda_i\n",
    "$$"
   ]
  },
  {
   "cell_type": "markdown",
   "id": "fbdb4326",
   "metadata": {
    "slideshow": {
     "slide_type": "slide"
    }
   },
   "source": [
    "La sutil diferencia con esta definición es que ahora podemos escribir $S$ de forma que no haga referencia a ninguna base de estados. Llegamos así a la definición central en Teoría de la Información Cuantica\n"
   ]
  },
  {
   "cell_type": "markdown",
   "id": "775d9554",
   "metadata": {
    "slideshow": {
     "slide_type": "slide"
    }
   },
   "source": [
    "<div class=\"alert alert-block alert-info\",text-align:center>\n",
    "<p style=\"text-align: left ;color: navy;\">  \n",
    "<b> Definición:</b> <i>(entropía de Von Neumann)</i> \n",
    "<br>\n",
    "<br>    \n",
    "a un estado  $\\rho$ le podemos asignar una cantidad de información dada por la <i>entropía de Von Neumann</i>\n",
    "<br>\n",
    "<br>    \n",
    "$$\n",
    "S(\\rho) = -\\Tr (\\rho\\log \\rho)\n",
    "$$  \n",
    "</p>\n",
    "<br>\n",
    "</div>"
   ]
  },
  {
   "cell_type": "markdown",
   "id": "87a9f650",
   "metadata": {
    "slideshow": {
     "slide_type": "slide"
    }
   },
   "source": [
    "<div class=\"alert alert-block alert-warning\">\n",
    "<b>Ejemplo 1:</b> estados ortogonales. \n",
    "<br>\n",
    "<br>\n",
    "Supongamos que Alice tiene una fuente aleatoria  de estados ortogonales\n",
    "<br>\n",
    "<br>    \n",
    "$$X = \\{ \\ket{\\psi_i}, p_i\\} = \\{ (\\ket{0}, p_0= 1/4), (\\ket{1},p_1 = 3/4)\\}$$\n",
    "<br>\n",
    "Bob describe el sistema mediante la matriz densidad\n",
    "$$\n",
    "\\rho = p_0\\ket{0}\\bra{0} + p_1\\ket{1}\\bra{1} = \\begin{bmatrix} p_0 & 0 \\\\ 0 & p_1 \\end{bmatrix}\n",
    "$$\n",
    "<br>\n",
    "</div>"
   ]
  },
  {
   "cell_type": "markdown",
   "id": "6497c227",
   "metadata": {
    "slideshow": {
     "slide_type": "slide"
    }
   },
   "source": [
    "<div class=\"alert alert-block alert-warning\">\n",
    "y la entropía de Shannon asociada será\n",
    "<br>\n",
    "\\begin{eqnarray}\n",
    "S(\\rho) &=&  -\\Tr \\rho\\log \\rho = - \\Tr \\left( \\begin{bmatrix} p_0 & 0 \\\\ 0 & p_1 \\end{bmatrix}  \\begin{bmatrix} \\log p_0 & 0 \\\\ 0 & \\log p_1 \\end{bmatrix} \\right) \\nonumber\\\\\n",
    "&=& \\rule{0mm}{5mm}\n",
    "-p_0\\log p_0 - p_1 \\log p_1 = H(p_0,p_1) \\nonumber\n",
    "\\end{eqnarray}\n",
    "<br>\n",
    "Entonces, para estados <i>orthogonal</i> ortogonales, las entropías de  Von Neuman y de Shannon son iguales\n",
    "<br>    \n",
    "<br>    \n",
    "\\begin{eqnarray}\n",
    "S(\\rho)\\rule{0mm}{8mm}&=& -\\frac{1}{4}\\log \\frac{1}{4} - \\frac{3}{4} \\log \\frac{3}{4}    = 0.81 \\, \\hbox{bits} = \n",
    "  H(X)   \\, . \\nonumber\n",
    "\\end{eqnarray}\n",
    "<br>\n",
    "</div>"
   ]
  },
  {
   "cell_type": "markdown",
   "id": "9e2f5e41",
   "metadata": {},
   "source": [
    "<div class=\"alert alert-block alert-warning\">\n",
    "<b>Ejemplo 2:</b> estados no-ortogonales. \n",
    "<br>\n",
    "<br>    \n",
    "Sea ahora otra fuente de Alice que produce el colectivo de estados con idénticas probabilidades $p_a$\n",
    "<br>\n",
    "<br>    \n",
    "$$\\{ \\ket{\\psi_i}, p_i\\} = \\left\\{\\rule{0mm}{4mm} (\\ket{0}, p_0= 1/4)\\, , \\, (\\ket{+},p_+ = 3/4)\\right\\}$$\n",
    "<br>    \n",
    "Bob ahora escribe la matriz densidad\n",
    "<br>    \n",
    "<br> \n",
    "$$\n",
    "\\rho = \\frac{1}{4}\\begin{bmatrix} 1 & 0 \\\\ 0 & 0 \\end{bmatrix} + \\frac{3}{8} \\begin{bmatrix} 1 & 1 \\\\ 1 & 1 \\end{bmatrix} = \\frac{1}{8} \\begin{bmatrix} 5 & 3 \\\\ 3 & 3 \\end{bmatrix} \\,\n",
    "$$        \n",
    "<br> \n",
    "Diagonalizando obtenemos autovalores\n",
    "$$\\lambda_i = \\frac{1}{2} \\pm \\frac{1}{4} \\sqrt{\\frac{5}{2}}$$ \n",
    "<br>     \n",
    "Ahora calculamos la entropía de Shannon \n",
    "<br>    \n",
    "$$\n",
    "S(\\rho) = -\\sum_i \\lambda_i \\log \\lambda_i \\, =\\,  0.485\\, \\hbox{bits} \\, <\\,   0.81   \\, \\hbox{bits} ~=~   H(X)\n",
    "$$\n",
    "</div>"
   ]
  },
  {
   "cell_type": "markdown",
   "id": "ac593849",
   "metadata": {
    "slideshow": {
     "slide_type": "slide"
    }
   },
   "source": [
    "### Propiedades de la Entropía de Von Neumann"
   ]
  },
  {
   "cell_type": "markdown",
   "id": "7f299ed4",
   "metadata": {},
   "source": [
    "- La entropía de von Neumann es invariante bajo transformaciones unitarias\n",
    "\n",
    "$$ \n",
    "S(\\rho) = S(U^\\dagger \\rho U)\n",
    "$$"
   ]
  },
  {
   "cell_type": "markdown",
   "id": "0375bb4a",
   "metadata": {},
   "source": [
    "- $0 \\leq S(\\rho)\\leq \\log N$ where $N=$ dim $\\Hil$"
   ]
  },
  {
   "cell_type": "markdown",
   "id": "b8c07fec",
   "metadata": {},
   "source": [
    "- La entropía de von Neumann de un estado es nula si y sólo si es un estado puro\n",
    "\n",
    "$$\n",
    "S(\\rho ) = 0 ~~~\\Longleftrightarrow ~~~\\rho^2 = \\rho \n",
    "$$\n",
    "\n"
   ]
  },
  {
   "cell_type": "markdown",
   "id": "92882a82",
   "metadata": {},
   "source": [
    "- La entropía de un estado es maximal $\\log N$, si y solo si la distribución es uniforme\n",
    "<br>\n",
    "$$\n",
    "S(\\rho) = \\log N ~~~\\Longleftrightarrow ~~~\\lambda_i = \\frac{1}{N}\n",
    "$$"
   ]
  },
  {
   "cell_type": "markdown",
   "id": "2eb583d3",
   "metadata": {},
   "source": [
    "- Para un colectivo aleatorio de estados $X = \\{\\ket{\\psi_a},p_a\\}$, el estado cuántico, $\\rho = \\sum_a p_a\\ket{\\psi_a}\\bra{\\psi_a}$ tiene *menos información* que la variable aleatoria $X$\n",
    "<br>\n",
    "<br>\n",
    "\\begin{eqnarray}\n",
    "S(\\rho ) = \\Tr \\rho \\log \\rho = \\sum_a \\lambda_a \\log \\lambda_a ~~~\\leq ~~~\n",
    "H(X) =  \\sum_a p_a \\log p_a \\\\\n",
    "\\end{eqnarray}\n",
    "\n",
    "La desigualdad se satura si y sólo si los estados $\\{\\ket{\\psi_a}\\}$ son ortogonales"
   ]
  },
  {
   "cell_type": "markdown",
   "id": "4e2857a7",
   "metadata": {},
   "source": [
    "Que $S$ sea menor que $H$ también implica que un alphabeto cuántico $X= \\{\\ket{\\psi_a},p_q\\}$ necesita menos recursos que uno clásico. Es decir, admite una compresión mayor. "
   ]
  },
  {
   "cell_type": "markdown",
   "id": "298058be",
   "metadata": {},
   "source": [
    "<a id=\"ent_entrelaz\"></a>\n",
    "<table width=\"100%\">\n",
    "    <td style=\"font-size:250%px;font-family:Helvetica;text-align:left;background-color:rgba(0,0,900, 0.3);\">\n",
    "<b>Entropía de Entrelazamiento</b>\n",
    "</table>   \n"
   ]
  },
  {
   "cell_type": "markdown",
   "id": "5bd03d8a",
   "metadata": {},
   "source": [
    "Ya hemos estudiado en el tema anterior la operación de [traza parcial](../04_Mixed/Operador_densidad.ipynb#traza_parcial). \n"
   ]
  },
  {
   "cell_type": "markdown",
   "id": "816f3261",
   "metadata": {},
   "source": [
    "Hemos mostrado que hay una relación entre el entrelazamiento de un estado puro y el grado de mezcla de la matriz densidad de un subsistema"
   ]
  },
  {
   "cell_type": "code",
   "execution_count": null,
   "id": "d5e308d4",
   "metadata": {},
   "outputs": [],
   "source": []
  }
 ],
 "metadata": {
  "celltoolbar": "Slideshow",
  "kernelspec": {
   "display_name": "Python 3 (ipykernel)",
   "language": "python",
   "name": "python3"
  },
  "language_info": {
   "codemirror_mode": {
    "name": "ipython",
    "version": 3
   },
   "file_extension": ".py",
   "mimetype": "text/x-python",
   "name": "python",
   "nbconvert_exporter": "python",
   "pygments_lexer": "ipython3",
   "version": "3.9.16"
  },
  "varInspector": {
   "cols": {
    "lenName": 16,
    "lenType": 16,
    "lenVar": 40
   },
   "kernels_config": {
    "python": {
     "delete_cmd_postfix": "",
     "delete_cmd_prefix": "del ",
     "library": "var_list.py",
     "varRefreshCmd": "print(var_dic_list())"
    },
    "r": {
     "delete_cmd_postfix": ") ",
     "delete_cmd_prefix": "rm(",
     "library": "var_list.r",
     "varRefreshCmd": "cat(var_dic_list()) "
    }
   },
   "types_to_exclude": [
    "module",
    "function",
    "builtin_function_or_method",
    "instance",
    "_Feature"
   ],
   "window_display": false
  }
 },
 "nbformat": 4,
 "nbformat_minor": 5
}
