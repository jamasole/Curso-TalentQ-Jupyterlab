{
 "cells": [
  {
   "cell_type": "markdown",
   "metadata": {
    "slideshow": {
     "slide_type": "slide"
    },
    "tags": []
   },
   "source": [
    "<table width=\"100%\"><td style=\" font_style:italic; font-size:40px;text-align:center;background-color:rgba(0, 220, 170,0.7)\">\n",
    "<div>\n",
    "Curso de Introducción a la  Computación Cuántica\n",
    "</div>\n",
    "</td></table>\n",
    "<br>\n",
    "<br>\n",
    "autor: Javier Mas Solé\n",
    "<br>\n",
    "USC-IGFAE\n",
    "<br>\n",
    "Septiembre 2023\n",
    " \n",
    "$ \\newcommand{\\bra}[1]{\\langle #1|} $\n",
    "$ \\newcommand{\\ket}[1]{|#1\\rangle} $\n",
    "$ \\newcommand{\\braket}[2]{\\langle #1|#2\\rangle} $\n",
    "$ \\newcommand{\\i}{{\\color{blue} i}} $ \n",
    "$ \\newcommand{\\Hil}{{\\cal H}} $ \n",
    "$ \\newcommand{\\Lin}{\\hbox{Lin}} $\n",
    "\n",
    "\n"
   ]
  },
  {
   "cell_type": "markdown",
   "metadata": {
    "slideshow": {
     "slide_type": "slide"
    },
    "tags": []
   },
   "source": [
    "\n",
    "[**Bibliografía**](Bibliografía.ipynb#fund)\n",
    "\n",
    "\n",
    "\n",
    "\n",
    "<a id='dirac'></a>\n",
    "<table width=\"100%\">\n",
    "    <td style=\"font-size:25px;font-family:Helvetica;text-align:left;background-color:rgba(0, 0, 900, 0.3);\">\n",
    "<b>1. Las herramientas</b>\n",
    "</table>   \n",
    "\n",
    "\n",
    "- [**1.1 $~$ Los números complejos**](00_Formalismo/01_Numeros_Complejos.ipynb)  \n",
    ">- [Formas cartesiana y polar](00_Formalismo/01_Numeros_Complejos.ipynb#defi)\n",
    ">- [Operaciones elementales](00_Formalismo/01_Numeros_Complejos.ipynb#opbasi)\n",
    ">- [Sumas nulas](00_Formalismo/01_Numeros_Complejos.ipynb#sumnul)\n",
    "<br>     \n",
    "- [**1.2 $~$ Los vectores**](00_Formalismo/01_Vectores.ipynb)  \n",
    ">- [Espacios vectoriales complejos](00_Formalismo/01_Vectores.ipynb#vecdefi) \n",
    ">- [Bases](00_Formalismo/01_Vectores.ipynb#Bases)\n",
    ">-  [Espacios de Hilbert](00_Formalismo/01_Vectores.ipynb#vecprodesc)   \n",
    "<br>\n",
    "- [**1.3 $~$ Los operadores**](00_Formalismo/01_Operadores.ipynb) \n",
    ">- [Operadores y matrices](00_Formalismo/01_Operadores.ipynb#opdefi) \n",
    ">- [Base de operadores](00_Formalismo/01_Operadores.ipynb#prodext)\n",
    ">- [El Espacio $\\Lin(\\Hil)$](00_Formalismo/01_Operadores.ipynb#linh)\n",
    ">- [Clases de operadores](00_Formalismo/01_Operadores.ipynb#optipos)\n",
    ">- [Autovalores y autovectores](00_Formalismo/01_Operadores.ipynb#autovec)\n",
    ">- [Funciones de operadores](00_Formalismo/01_Operadores.ipynb#funcope)\n",
    ">- [Traza de un operadores](00_Formalismo/01_Operadores.ipynb#oper_norm)\n",
    ">- [Matrices de Pauli](00_Formalismo/01_Operadores.ipynb#paulis)\n",
    "<br>\n",
    "- [**1.4 $~$ Los tensores**](00_Formalismo/01_Tensores.ipynb) \n",
    ">- [Producto tensorial](00_Formalismo/01_Tensores.ipynb#prodtens) \n",
    ">- [Factorización y entrelazamiento](00_Formalismo/01_Tensores.ipynb#entangle) \n",
    ">- [Producto tensorial múltiple](00_Formalismo/01_Tensores.ipynb#multipartite) \n",
    ">- [Operadores sobre $ \\Hil^{\\otimes n}$](00_Formalismo/01_Tensores.ipynb#operators) \n",
    "<br>\n",
    "- [**1.5 $~$ Las probabilidades**](00_Formalismo/01_Probabilidades.ipynb)\n",
    ">- [Variables aleatorias](00_Formalismo/01_Probabilidades.ipynb#varaleat)\n",
    ">- [La conexión estadística](00_Formalismo/01_Probabilidades.ipynb#estad)\n",
    ">- [Probabilidades combinadas](00_Formalismo/01_Probabilidades.ipynb#probcomb)\n",
    "\n",
    "\n",
    "<a id='dirac'></a>\n",
    "<table width=\"100%\">\n",
    "    <td style=\"font-size:25px;font-family:Helvetica;text-align:left;background-color:rgba(0, 0, 900, 0.3);\">\n",
    "<b>1. Las reglas del juego</b>\n",
    "</table>   \n",
    "\n",
    "\n",
    "\n",
    "- [**1.6 $~$ Fundamentos de MC**](00_Formalismo/02_Fundamentos_MC.ipynb)  \n",
    ">- [Axiomas](00_Formalismo/02_Fundamentos_MC.ipynb#axiomas)   \n",
    ">- [Medidas proyectivas](00_Formalismo/02_Fundamentos_MC.ipynb#med_proy)\n",
    ">- [Evolución temporal](00_Formalismo/02_Fundamentos_MC.ipynb#evoltemp)   \n"
   ]
  },
  {
   "cell_type": "markdown",
   "metadata": {
    "slideshow": {
     "slide_type": "slide"
    }
   },
   "source": [
    "<a id='dirac'></a>\n",
    "<table width=\"100%\">\n",
    "    <td style=\"font-size:25px;font-family:Helvetica;text-align:left;background-color:rgba(0, 0, 900, 0.3);\">\n",
    "<b>2. Los cúbits</b>\n",
    "</table>   \n",
    "\n",
    "\n",
    "- [**2.1$~$ Un Cúbit**](01_Circuitos/111_Cubits.ipynb) \n",
    ">- [Definición, base computacional](01_Circuitos/111_Cubits.ipynb#dirac)\n",
    ">- [Esfera de Bloch](01_Circuitos/111_Cubits.ipynb#esfbloch)\n",
    ">- [Registro cuántico](01_Circuitos/111_Cubits.ipynb#circuitcubit)\n",
    ">- [Rotaciones en la esfera de Bloch](01_Circuitos/111_Cubits.ipynb#rotesf)\n",
    ">- [Puertas simples](01_Circuitos/111_Cubits.ipynb#puertsimp)\n",
    "<br>\n",
    "- [**2.3$~$ El arte de medir**](01_Circuitos/114_El_Arte_de_Medir_I.ipynb)\n",
    ">- [Medidas de 1 cúbit](01_Circuitos/114_El_Arte_de_Medir_I.ipynb#uncubit)\n",
    ">- [Medidas en un ordenador cuántico real](01_Circuitos/114_El_Arte_de_Medir_I.ipynb#medqreal)\n",
    ">- [La moneda cuántica](01_Circuitos/114_El_Arte_de_Medir_I.ipynb#moneda)\n",
    ">- [Medidas en una base general](01_Circuitos/114_El_Arte_de_Medir_I.ipynb#basegeneral)\n",
    ">- [Valores esperados](01_Circuitos/114_El_Arte_de_Medir_I.ipynb#vevs)\n",
    "\n",
    "\n",
    "<a id='dirac'></a>\n",
    "<table width=\"100%\">\n",
    "    <td style=\"font-size:25px;font-family:Helvetica;text-align:left;background-color:rgba(0, 0, 900, 0.3);\">\n",
    "<b>3. Muchos cúbits</b>\n",
    "</table>    \n",
    "\n",
    "\n",
    "\n",
    "- [**3.1$~$ Estados y puertas multi-cúbit**](01_Circuitos/121_Multicubits.ipynb)   \n",
    ">- [Bases multi-cúbit](01_Circuitos/121_Multicubits.ipynb#multicubit)\n",
    ">- [Entrelazamiento](01_Circuitos/121_Multicubits.ipynb#entrelazamiento)\n",
    ">- [Circuitos multi-cúbit](01_Circuitos/121_Multicubits.ipynb#circuitos)\n",
    ">- [Puertas multi-cúbit](01_Circuitos/121_Multicubits.ipynb#multioper)\n",
    ">- [Teorema de no-clonación](01_Circuitos/121_Multicubits.ipynb#nocloning)\n",
    "<br>\n",
    "- [**3.2$~$ El arte de medir multi-cúbits**](01_Circuitos/122_El_Arte_de_Medir_II.ipynb)\n",
    ">- [Medidas de estados multicúbit](01_Circuitos/122_El_Arte_de_Medir_II.ipynb#medmult)\n",
    ">- [Medidas en bases generales](01_Circuitos/122_El_Arte_de_Medir_II.ipynb#basegen)\n",
    ">- [Valores esperados](01_Circuitos/122_El_Arte_de_Medir_II.ipynb#valesp)\n",
    ">- [Medidas de Hadamard](01_Circuitos/122_El_Arte_de_Medir_II.ipynb#medHad)\n",
    "<br>\n",
    "- [**3.3$~$ Entrelazamiento en acción**](01_Circuitos/123_Entrelazamiento.ipynb)\n",
    ">- [Desigualdades de Bell](01_Circuitos/123_Entrelazamiento.ipynb#csch)\n",
    ">- [El experimento GHZ](01_Circuitos/123_Entrelazamiento.ipynb#ghz)\n",
    ">- [Teleportación](01_Circuitos/123_Entrelazamiento.ipynb#teleportacion)\n",
    ">- [Codificación Superdensa](01_Circuitos/123_Entrelazamiento.ipynb#superdense)\n",
    ">- [Intercambio de entrelazamiento](01_Circuitos/123_Entrelazamiento.ipynb#intercambent)\n",
    "\n",
    "\n",
    "\n",
    "<a id='dirac'></a>\n",
    "<table width=\"100%\">\n",
    "    <td style=\"font-size:25px;font-family:Helvetica;text-align:left;background-color:rgba(0, 0, 900, 0.3);\">\n",
    "<b>4. Circuitos</b>\n",
    "</table>    \n",
    "\n",
    "\n",
    "\n",
    " \n"
   ]
  },
  {
   "cell_type": "code",
   "execution_count": null,
   "metadata": {},
   "outputs": [],
   "source": []
  }
 ],
 "metadata": {
  "celltoolbar": "Slideshow",
  "kernelspec": {
   "display_name": "Python 3 (ipykernel)",
   "language": "python",
   "name": "python3"
  },
  "language_info": {
   "codemirror_mode": {
    "name": "ipython",
    "version": 3
   },
   "file_extension": ".py",
   "mimetype": "text/x-python",
   "name": "python",
   "nbconvert_exporter": "python",
   "pygments_lexer": "ipython3",
   "version": "3.9.16"
  },
  "toc": {
   "base_numbering": 1,
   "nav_menu": {},
   "number_sections": true,
   "sideBar": true,
   "skip_h1_title": false,
   "title_cell": "Table of Contents",
   "title_sidebar": "Contents",
   "toc_cell": false,
   "toc_position": {},
   "toc_section_display": true,
   "toc_window_display": false
  },
  "varInspector": {
   "cols": {
    "lenName": 16,
    "lenType": 16,
    "lenVar": 40
   },
   "kernels_config": {
    "python": {
     "delete_cmd_postfix": "",
     "delete_cmd_prefix": "del ",
     "library": "var_list.py",
     "varRefreshCmd": "print(var_dic_list())"
    },
    "r": {
     "delete_cmd_postfix": ") ",
     "delete_cmd_prefix": "rm(",
     "library": "var_list.r",
     "varRefreshCmd": "cat(var_dic_list()) "
    }
   },
   "types_to_exclude": [
    "module",
    "function",
    "builtin_function_or_method",
    "instance",
    "_Feature"
   ],
   "window_display": false
  }
 },
 "nbformat": 4,
 "nbformat_minor": 4
}
